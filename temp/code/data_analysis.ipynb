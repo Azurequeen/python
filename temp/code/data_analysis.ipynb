{
 "cells": [
  {
   "cell_type": "code",
   "execution_count": 1,
   "metadata": {
    "collapsed": false,
    "scrolled": true
   },
   "outputs": [],
   "source": [
    "'''\n",
    "lang:py\n",
    "author:Yuan\n",
    "'''\n",
    "#处理csv格式文件，简单统计分析\n",
    "import numpy as np\n",
    "import pandas as pd\n",
    "import os\n",
    "import matplotlib.pyplot as plt"
   ]
  },
  {
   "cell_type": "code",
   "execution_count": 2,
   "metadata": {
    "collapsed": true
   },
   "outputs": [],
   "source": [
    "#读取三个文件到三个dataframe变量中。\n",
    "annotations = pd.read_csv('D:PREAI/csv_files/annotations.csv',low_memory = None)\n",
    "candidates = pd.read_csv('D:PREAI/csv_files/candidates.csv',low_memory = None)\n",
    "candidates_class = pd.read_csv('D:PREAI/csv_files/candidates_class.csv',low_memory = None)"
   ]
  },
  {
   "cell_type": "code",
   "execution_count": 3,
   "metadata": {
    "collapsed": false
   },
   "outputs": [
    {
     "name": "stdout",
     "output_type": "stream",
     "text": [
      "            coordX       coordY       coordZ  diameter_mm\n",
      "count  1186.000000  1186.000000  1186.000000  1186.000000\n",
      "mean     -5.067547     8.428113  -160.159029     8.306527\n",
      "std      84.468115    98.316003   279.829437     4.762033\n",
      "min    -164.351031  -283.834336  -790.074799     3.253443\n",
      "25%     -80.909225   -51.549643  -221.197808     5.107177\n",
      "50%     -32.855132    18.787926  -167.615160     6.433600\n",
      "75%      76.830069    67.245915  -109.735281     9.696301\n",
      "max     164.763985   271.405521  1790.494057    32.270030\n"
     ]
    },
    {
     "data": {
      "image/png": "[encoded data removed]",
      "text/plain": [
       "<matplotlib.figure.Figure at 0x3661390>"
      ]
     },
     "metadata": {},
     "output_type": "display_data"
    }
   ],
   "source": [
    "#关于第一个文件annotations，其中的数据就是病人的id，以及结节的坐标。不过这个文件应该就是实例吧，很小。\n",
    "print annotations.describe()\n",
    "plt.hist(annotations['diameter_mm'], 12, normed=0, facecolor='green')\n",
    "plt.show()\n",
    "#可以看出大部分的病人的结节直径在5mm以下，均值为8.306。\n",
    "#下面也统计了关于各个数值型变量的最值。\n",
    "#print candidates.describe\n",
    "#print candidates.describe()"
   ]
  },
  {
   "cell_type": "code",
   "execution_count": 4,
   "metadata": {
    "collapsed": false,
    "scrolled": true
   },
   "outputs": [
    {
     "name": "stdout",
     "output_type": "stream",
     "text": [
      "['1.3.6.1.4.1.14519.5.2.1.6279.6001.109002525524522225658609808059', '1.3.6.1.4.1.14519.5.2.1.6279.6001.487268565754493433372433148666', '1.3.6.1.4.1.14519.5.2.1.6279.6001.910435939545691201820711078950']\n",
      "                                            seriesuid     coordX     coordY  \\\n",
      "25  1.3.6.1.4.1.14519.5.2.1.6279.6001.109002525524...  46.188539  48.402806   \n",
      "26  1.3.6.1.4.1.14519.5.2.1.6279.6001.109002525524...  36.392044  76.771663   \n",
      "\n",
      "        coordZ  diameter_mm  \n",
      "25 -108.578632    13.596471  \n",
      "26 -123.321911     4.343200  \n"
     ]
    }
   ],
   "source": [
    "def getFileName(path,s):\n",
    "#获取指定目录下的所有指定后缀的文件名（去掉后缀和路径）\n",
    "    s_ =[]\n",
    "    f_list = os.listdir(path)\n",
    "    # print f_list\n",
    "    for root, dirs, files in os.walk(path):\n",
    "        for name in files:\n",
    "        # os.path.splitext():分离文件名与扩展名\n",
    "            if os.path.splitext(name)[1] == s:\n",
    "                os.path.join(root, name)\n",
    "                s_.append(name[0:-len(s)])\n",
    "        return s_\n",
    "def getpeoid(s):\n",
    "    #在annotations文化部中获取病人的节点信息\n",
    "    alist = [s]\n",
    "    return annotations[annotations['seriesuid'].isin(alist)] #将要过滤的数据放入字典中,使用isin对数据进行筛选,返回行索引以及每行筛选的结果,若匹配则返回ture\n",
    "#获取匹配结果为ture的行\n",
    "print getFileName('D:PREAI/sample_patients/','.raw')\n",
    "print getpeoid('1.3.6.1.4.1.14519.5.2.1.6279.6001.109002525524522225658609808059')"
   ]
  }
 ],
 "metadata": {
  "anaconda-cloud": {},
  "kernelspec": {
   "display_name": "Python [default]",
   "language": "python",
   "name": "python2"
  },
  "language_info": {
   "codemirror_mode": {
    "name": "ipython",
    "version": 2
   },
   "file_extension": ".py",
   "mimetype": "text/x-python",
   "name": "python",
   "nbconvert_exporter": "python",
   "pygments_lexer": "ipython2",
   "version": "2.7.12"
  }
 },
 "nbformat": 4,
 "nbformat_minor": 1
}
