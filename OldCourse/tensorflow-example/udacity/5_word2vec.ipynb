{
 "cells": [
  {
   "cell_type": "markdown",
   "metadata": {
    "colab_type": "text",
    "id": "D7tqLMoKF6uq"
   },
   "source": [
    "Deep Learning\n",
    "=============\n",
    "\n",
    "Assignment 5\n",
    "------------\n",
    "\n",
    "The goal of this assignment is to train a Word2Vec skip-gram model over [Text8](http://mattmahoney.net/dc/textdata) data."
   ]
  },
  {
   "cell_type": "code",
   "execution_count": 1,
   "metadata": {
    "cellView": "both",
    "colab": {
     "autoexec": {
      "startup": false,
      "wait_interval": 0
     }
    },
    "colab_type": "code",
    "collapsed": true,
    "id": "0K1ZyLn04QZf"
   },
   "outputs": [],
   "source": [
    "# These are all the modules we'll be using later. Make sure you can import them\n",
    "# before proceeding further.\n",
    "%matplotlib inline\n",
    "from __future__ import print_function\n",
    "import collections\n",
    "import math\n",
    "import numpy as np\n",
    "import os\n",
    "import random\n",
    "import tensorflow as tf\n",
    "import zipfile\n",
    "from matplotlib import pylab\n",
    "from six.moves import range\n",
    "from six.moves.urllib.request import urlretrieve\n",
    "from sklearn.manifold import TSNE"
   ]
  },
  {
   "cell_type": "markdown",
   "metadata": {
    "colab_type": "text",
    "id": "aCjPJE944bkV"
   },
   "source": [
    "Download the data from the source website if necessary."
   ]
  },
  {
   "cell_type": "code",
   "execution_count": 2,
   "metadata": {
    "cellView": "both",
    "colab": {
     "autoexec": {
      "startup": false,
      "wait_interval": 0
     },
     "output_extras": [
      {
       "item_id": 1
      }
     ]
    },
    "colab_type": "code",
    "collapsed": false,
    "executionInfo": {
     "elapsed": 14640,
     "status": "ok",
     "timestamp": 1445964482948,
     "user": {
      "color": "#1FA15D",
      "displayName": "Vincent Vanhoucke",
      "isAnonymous": false,
      "isMe": true,
      "permissionId": "05076109866853157986",
      "photoUrl": "//lh6.googleusercontent.com/-cCJa7dTDcgQ/AAAAAAAAAAI/AAAAAAAACgw/r2EZ_8oYer4/s50-c-k-no/photo.jpg",
      "sessionId": "2f1ffade4c9f20de",
      "userId": "102167687554210253930"
     },
     "user_tz": 420
    },
    "id": "RJ-o3UBUFtCw",
    "outputId": "c4ec222c-80b5-4298-e635-93ca9f79c3b7"
   },
   "outputs": [
    {
     "name": "stdout",
     "output_type": "stream",
     "text": [
      "Found and verified text8.zip\n"
     ]
    }
   ],
   "source": [
    "url = 'http://mattmahoney.net/dc/'\n",
    "\n",
    "def maybe_download(filename, expected_bytes):\n",
    "  \"\"\"Download a file if not present, and make sure it's the right size.\"\"\"\n",
    "  if not os.path.exists(filename):\n",
    "    filename, _ = urlretrieve(url + filename, filename)\n",
    "  statinfo = os.stat(filename)\n",
    "  if statinfo.st_size == expected_bytes:\n",
    "    print('Found and verified %s' % filename)\n",
    "  else:\n",
    "    print(statinfo.st_size)\n",
    "    raise Exception(\n",
    "      'Failed to verify ' + filename + '. Can you get to it with a browser?')\n",
    "  return filename\n",
    "\n",
    "filename = maybe_download('text8.zip', 31344016)"
   ]
  },
  {
   "cell_type": "markdown",
   "metadata": {
    "colab_type": "text",
    "id": "Zqz3XiqI4mZT"
   },
   "source": [
    "Read the data into a string."
   ]
  },
  {
   "cell_type": "code",
   "execution_count": 3,
   "metadata": {
    "cellView": "both",
    "colab": {
     "autoexec": {
      "startup": false,
      "wait_interval": 0
     },
     "output_extras": [
      {
       "item_id": 1
      }
     ]
    },
    "colab_type": "code",
    "collapsed": false,
    "executionInfo": {
     "elapsed": 28844,
     "status": "ok",
     "timestamp": 1445964497165,
     "user": {
      "color": "#1FA15D",
      "displayName": "Vincent Vanhoucke",
      "isAnonymous": false,
      "isMe": true,
      "permissionId": "05076109866853157986",
      "photoUrl": "//lh6.googleusercontent.com/-cCJa7dTDcgQ/AAAAAAAAAAI/AAAAAAAACgw/r2EZ_8oYer4/s50-c-k-no/photo.jpg",
      "sessionId": "2f1ffade4c9f20de",
      "userId": "102167687554210253930"
     },
     "user_tz": 420
    },
    "id": "Mvf09fjugFU_",
    "outputId": "e3a928b4-1645-4fe8-be17-fcf47de5716d"
   },
   "outputs": [
    {
     "name": "stdout",
     "output_type": "stream",
     "text": [
      "Data size 17005207\n"
     ]
    }
   ],
   "source": [
    "def read_data(filename):\n",
    "  \"\"\"Extract the first file enclosed in a zip file as a list of words\"\"\"\n",
    "  with zipfile.ZipFile(filename) as f:\n",
    "    data = tf.compat.as_str(f.read(f.namelist()[0])).split()\n",
    "  return data\n",
    "  \n",
    "words = read_data(filename)\n",
    "print('Data size %d' % len(words))"
   ]
  },
  {
   "cell_type": "markdown",
   "metadata": {
    "colab_type": "text",
    "id": "Zdw6i4F8glpp"
   },
   "source": [
    "Build the dictionary and replace rare words with UNK token."
   ]
  },
  {
   "cell_type": "code",
   "execution_count": 4,
   "metadata": {
    "cellView": "both",
    "colab": {
     "autoexec": {
      "startup": false,
      "wait_interval": 0
     },
     "output_extras": [
      {
       "item_id": 1
      }
     ]
    },
    "colab_type": "code",
    "collapsed": false,
    "executionInfo": {
     "elapsed": 28849,
     "status": "ok",
     "timestamp": 1445964497178,
     "user": {
      "color": "#1FA15D",
      "displayName": "Vincent Vanhoucke",
      "isAnonymous": false,
      "isMe": true,
      "permissionId": "05076109866853157986",
      "photoUrl": "//lh6.googleusercontent.com/-cCJa7dTDcgQ/AAAAAAAAAAI/AAAAAAAACgw/r2EZ_8oYer4/s50-c-k-no/photo.jpg",
      "sessionId": "2f1ffade4c9f20de",
      "userId": "102167687554210253930"
     },
     "user_tz": 420
    },
    "id": "gAL1EECXeZsD",
    "outputId": "3fb4ecd1-df67-44b6-a2dc-2291730970b2"
   },
   "outputs": [
    {
     "name": "stdout",
     "output_type": "stream",
     "text": [
      "Most common words (+UNK) [['UNK', 418391], ('the', 1061396), ('of', 593677), ('and', 416629), ('one', 411764)]\n",
      "Sample data [5239, 3084, 12, 6, 195, 2, 3137, 46, 59, 156]\n"
     ]
    }
   ],
   "source": [
    "vocabulary_size = 50000\n",
    "\n",
    "def build_dataset(words):\n",
    "  count = [['UNK', -1]]\n",
    "  count.extend(collections.Counter(words).most_common(vocabulary_size - 1))\n",
    "  dictionary = dict()\n",
    "  for word, _ in count:\n",
    "    dictionary[word] = len(dictionary)\n",
    "  data = list()\n",
    "  unk_count = 0\n",
    "  for word in words:\n",
    "    if word in dictionary:\n",
    "      index = dictionary[word]\n",
    "    else:\n",
    "      index = 0  # dictionary['UNK']\n",
    "      unk_count = unk_count + 1\n",
    "    data.append(index)\n",
    "  count[0][1] = unk_count\n",
    "  reverse_dictionary = dict(zip(dictionary.values(), dictionary.keys())) \n",
    "  return data, count, dictionary, reverse_dictionary\n",
    "\n",
    "data, count, dictionary, reverse_dictionary = build_dataset(words)\n",
    "print('Most common words (+UNK)', count[:5])\n",
    "print('Sample data', data[:10])\n",
    "del words  # Hint to reduce memory."
   ]
  },
  {
   "cell_type": "markdown",
   "metadata": {
    "colab_type": "text",
    "id": "lFwoyygOmWsL"
   },
   "source": [
    "Function to generate a training batch for the skip-gram model."
   ]
  },
  {
   "cell_type": "code",
   "execution_count": 5,
   "metadata": {
    "cellView": "both",
    "colab": {
     "autoexec": {
      "startup": false,
      "wait_interval": 0
     },
     "output_extras": [
      {
       "item_id": 1
      }
     ]
    },
    "colab_type": "code",
    "collapsed": false,
    "executionInfo": {
     "elapsed": 113,
     "status": "ok",
     "timestamp": 1445964901989,
     "user": {
      "color": "#1FA15D",
      "displayName": "Vincent Vanhoucke",
      "isAnonymous": false,
      "isMe": true,
      "permissionId": "05076109866853157986",
      "photoUrl": "//lh6.googleusercontent.com/-cCJa7dTDcgQ/AAAAAAAAAAI/AAAAAAAACgw/r2EZ_8oYer4/s50-c-k-no/photo.jpg",
      "sessionId": "2f1ffade4c9f20de",
      "userId": "102167687554210253930"
     },
     "user_tz": 420
    },
    "id": "w9APjA-zmfjV",
    "outputId": "67cccb02-cdaf-4e47-d489-43bcc8d57bb8"
   },
   "outputs": [
    {
     "name": "stdout",
     "output_type": "stream",
     "text": [
      "data: ['anarchism', 'originated', 'as', 'a', 'term', 'of', 'abuse', 'first']\n",
      "\n",
      "with num_skips = 2 and skip_window = 1:\n",
      "    batch: ['originated', 'originated', 'as', 'as', 'a', 'a', 'term', 'term']\n",
      "    labels: ['anarchism', 'as', 'originated', 'a', 'as', 'term', 'a', 'of']\n",
      "\n",
      "with num_skips = 4 and skip_window = 2:\n",
      "    batch: ['as', 'as', 'as', 'as', 'a', 'a', 'a', 'a']\n",
      "    labels: ['term', 'anarchism', 'a', 'originated', 'of', 'as', 'term', 'originated']\n"
     ]
    }
   ],
   "source": [
    "data_index = 0\n",
    "\n",
    "def generate_batch(batch_size, num_skips, skip_window):\n",
    "  global data_index\n",
    "  assert batch_size % num_skips == 0\n",
    "  assert num_skips <= 2 * skip_window\n",
    "  batch = np.ndarray(shape=(batch_size), dtype=np.int32)\n",
    "  labels = np.ndarray(shape=(batch_size, 1), dtype=np.int32)\n",
    "  span = 2 * skip_window + 1 # [ skip_window target skip_window ]\n",
    "  buffer = collections.deque(maxlen=span)\n",
    "  for _ in range(span):\n",
    "    buffer.append(data[data_index])\n",
    "    data_index = (data_index + 1) % len(data)\n",
    "  for i in range(batch_size // num_skips):\n",
    "    target = skip_window  # target label at the center of the buffer\n",
    "    targets_to_avoid = [ skip_window ]\n",
    "    for j in range(num_skips):\n",
    "      while target in targets_to_avoid:\n",
    "        target = random.randint(0, span - 1)\n",
    "      targets_to_avoid.append(target)\n",
    "      batch[i * num_skips + j] = buffer[skip_window]\n",
    "      labels[i * num_skips + j, 0] = buffer[target]\n",
    "    buffer.append(data[data_index])\n",
    "    data_index = (data_index + 1) % len(data)\n",
    "  return batch, labels\n",
    "\n",
    "print('data:', [reverse_dictionary[di] for di in data[:8]])\n",
    "\n",
    "for num_skips, skip_window in [(2, 1), (4, 2)]:\n",
    "    data_index = 0\n",
    "    batch, labels = generate_batch(batch_size=8, num_skips=num_skips, skip_window=skip_window)\n",
    "    print('\\nwith num_skips = %d and skip_window = %d:' % (num_skips, skip_window))\n",
    "    print('    batch:', [reverse_dictionary[bi] for bi in batch])\n",
    "    print('    labels:', [reverse_dictionary[li] for li in labels.reshape(8)])"
   ]
  },
  {
   "cell_type": "markdown",
   "metadata": {
    "colab_type": "text",
    "id": "Ofd1MbBuwiva"
   },
   "source": [
    "Train a skip-gram model."
   ]
  },
  {
   "cell_type": "code",
   "execution_count": 6,
   "metadata": {
    "cellView": "both",
    "colab": {
     "autoexec": {
      "startup": false,
      "wait_interval": 0
     }
    },
    "colab_type": "code",
    "collapsed": true,
    "id": "8pQKsV4Vwlzy"
   },
   "outputs": [],
   "source": [
    "batch_size = 128\n",
    "embedding_size = 128 # Dimension of the embedding vector.\n",
    "skip_window = 1 # How many words to consider left and right.\n",
    "num_skips = 2 # How many times to reuse an input to generate a label.\n",
    "# We pick a random validation set to sample nearest neighbors. here we limit the\n",
    "# validation samples to the words that have a low numeric ID, which by\n",
    "# construction are also the most frequent. \n",
    "valid_size = 16 # Random set of words to evaluate similarity on.\n",
    "valid_window = 100 # Only pick dev samples in the head of the distribution.\n",
    "valid_examples = np.array(random.sample(range(valid_window), valid_size))\n",
    "num_sampled = 64 # Number of negative examples to sample.\n",
    "\n",
    "graph = tf.Graph()\n",
    "\n",
    "with graph.as_default(), tf.device('/cpu:0'):\n",
    "\n",
    "  # Input data.\n",
    "  train_dataset = tf.placeholder(tf.int32, shape=[batch_size])\n",
    "  train_labels = tf.placeholder(tf.int32, shape=[batch_size, 1])\n",
    "  valid_dataset = tf.constant(valid_examples, dtype=tf.int32)\n",
    "  \n",
    "  # Variables.\n",
    "  embeddings = tf.Variable(\n",
    "    tf.random_uniform([vocabulary_size, embedding_size], -1.0, 1.0))\n",
    "  softmax_weights = tf.Variable(\n",
    "    tf.truncated_normal([vocabulary_size, embedding_size],\n",
    "                         stddev=1.0 / math.sqrt(embedding_size)))\n",
    "  softmax_biases = tf.Variable(tf.zeros([vocabulary_size]))\n",
    "  \n",
    "  # Model.\n",
    "  # Look up embeddings for inputs.\n",
    "  embed = tf.nn.embedding_lookup(embeddings, train_dataset)\n",
    "  # Compute the softmax loss, using a sample of the negative labels each time.\n",
    "  loss = tf.reduce_mean(\n",
    "    tf.nn.sampled_softmax_loss(weights=softmax_weights, biases=softmax_biases, inputs=embed,\n",
    "                               labels=train_labels, num_sampled=num_sampled, num_classes=vocabulary_size))\n",
    "\n",
    "  # Optimizer.\n",
    "  # Note: The optimizer will optimize the softmax_weights AND the embeddings.\n",
    "  # This is because the embeddings are defined as a variable quantity and the\n",
    "  # optimizer's `minimize` method will by default modify all variable quantities \n",
    "  # that contribute to the tensor it is passed.\n",
    "  # See docs on `tf.train.Optimizer.minimize()` for more details.\n",
    "  optimizer = tf.train.AdagradOptimizer(1.0).minimize(loss)\n",
    "  \n",
    "  # Compute the similarity between minibatch examples and all embeddings.\n",
    "  # We use the cosine distance:\n",
    "  norm = tf.sqrt(tf.reduce_sum(tf.square(embeddings), 1, keep_dims=True))\n",
    "  normalized_embeddings = embeddings / norm\n",
    "  valid_embeddings = tf.nn.embedding_lookup(\n",
    "    normalized_embeddings, valid_dataset)\n",
    "  similarity = tf.matmul(valid_embeddings, tf.transpose(normalized_embeddings))"
   ]
  },
  {
   "cell_type": "code",
   "execution_count": 7,
   "metadata": {
    "cellView": "both",
    "colab": {
     "autoexec": {
      "startup": false,
      "wait_interval": 0
     },
     "output_extras": [
      {
       "item_id": 23
      },
      {
       "item_id": 48
      },
      {
       "item_id": 61
      }
     ]
    },
    "colab_type": "code",
    "collapsed": false,
    "executionInfo": {
     "elapsed": 436189,
     "status": "ok",
     "timestamp": 1445965429787,
     "user": {
      "color": "#1FA15D",
      "displayName": "Vincent Vanhoucke",
      "isAnonymous": false,
      "isMe": true,
      "permissionId": "05076109866853157986",
      "photoUrl": "//lh6.googleusercontent.com/-cCJa7dTDcgQ/AAAAAAAAAAI/AAAAAAAACgw/r2EZ_8oYer4/s50-c-k-no/photo.jpg",
      "sessionId": "2f1ffade4c9f20de",
      "userId": "102167687554210253930"
     },
     "user_tz": 420
    },
    "id": "1bQFGceBxrWW",
    "outputId": "5ebd6d9a-33c6-4bcd-bf6d-252b0b6055e4"
   },
   "outputs": [
    {
     "name": "stdout",
     "output_type": "stream",
     "text": [
      "Initialized\n",
      "Average loss at step 0: 7.787639\n",
      "Nearest to used: sectarian, haas, livery, secretariat, assyria, fridays, enzyme, dih,\n",
      "Nearest to after: beam, arsacid, inr, intravenous, sealing, vitruvius, petitioning, infancy,\n",
      "Nearest to UNK: scheming, karate, pruitt, techstep, pickguard, minimalistic, enver, gua,\n",
      "Nearest to an: ducts, symphonic, hackett, portable, telugu, completed, shotgun, mandela,\n",
      "Nearest to if: edgerton, lfc, newsletter, beaten, items, barca, multiprocessing, klan,\n",
      "Nearest to world: nazarbayev, dap, banana, weyl, performed, ai, xl, perforated,\n",
      "Nearest to only: donkey, ancients, urea, fetuses, absalom, swnts, frick, sindhu,\n",
      "Nearest to most: cracks, amounted, dar, ethidium, surrender, schedel, gunpoint, regenerated,\n",
      "Nearest to from: airing, friesland, valuables, sancho, deltas, ibook, heimskringla, scotia,\n",
      "Nearest to or: piran, nostra, whirlpool, highest, imprints, antagonistic, airflow, extortion,\n",
      "Nearest to all: prosthetics, heroic, isometric, aesthetic, automobile, bremerhaven, amstrad, cutler,\n",
      "Nearest to not: martinus, slaughterhouse, sublimation, tonne, michael, spyware, margrave, observatory,\n",
      "Nearest to would: parameters, bentley, strut, root, herbalists, sync, dulcimer, apportioned,\n",
      "Nearest to it: wp, explosively, broad, odes, transmissions, mcduck, inklings, thom,\n",
      "Nearest to they: isolationism, melanoleuca, ramanujan, machine, winners, attractions, glen, stimulate,\n",
      "Nearest to with: gardiner, pell, donato, vasily, democratic, kabir, ante, terraced,\n",
      "Average loss at step 2000: 4.369353\n",
      "Average loss at step 4000: 3.865180\n",
      "Average loss at step 6000: 3.786050\n",
      "Average loss at step 8000: 3.689870\n",
      "Average loss at step 10000: 3.616066\n",
      "Nearest to used: insistent, sectarian, fridays, cartographic, paddle, seuss, livery, plundering,\n",
      "Nearest to after: in, during, ray, unveiled, extra, intravenous, before, stems,\n",
      "Nearest to UNK: gesch, looking, domesday, ezek, phosphates, spencer, allowable, bacharach,\n",
      "Nearest to an: threatening, portable, the, doj, triumphant, telugu, sz, serpent,\n",
      "Nearest to if: edgerton, barca, calatrava, wallach, e, multiprocessing, inuktitut, bomb,\n",
      "Nearest to world: darwin, immersion, heavily, performed, implications, perforated, crouch, stirling,\n",
      "Nearest to only: toto, continually, dever, ancients, companions, bondi, spirit, leverett,\n",
      "Nearest to most: graphite, schedel, cracks, izzard, vaults, cottages, fig, owe,\n",
      "Nearest to from: in, defensive, valuables, grande, constraint, wgn, primordial, northeasterly,\n",
      "Nearest to or: and, lln, javier, see, acclaim, saudi, purposefully, s,\n",
      "Nearest to all: automobile, bremerhaven, nicosia, both, block, prosthetics, animosity, many,\n",
      "Nearest to not: they, accidentally, it, never, maxima, now, sometimes, margrave,\n",
      "Nearest to would: may, can, could, should, will, to, parameters, masers,\n",
      "Nearest to it: he, this, there, walks, trucks, which, that, often,\n",
      "Nearest to they: he, not, we, it, ramanujan, there, who, abdulaziz,\n",
      "Nearest to with: vasily, in, for, longsword, mar, by, malfunctions, democratic,\n",
      "Average loss at step 12000: 3.605958\n",
      "Average loss at step 14000: 3.567210\n",
      "Average loss at step 16000: 3.411871\n",
      "Average loss at step 18000: 3.455908\n",
      "Average loss at step 20000: 3.536999\n",
      "Nearest to used: insistent, paddle, referred, held, known, greenfacts, considered, arrhenius,\n",
      "Nearest to after: before, during, for, at, in, when, martini, doubtful,\n",
      "Nearest to UNK: lyra, putnam, synonyms, wield, allowable, portsmouth, splinter, detailing,\n",
      "Nearest to an: benefitting, threatening, steele, the, sz, soldiery, triumphant, telugu,\n",
      "Nearest to if: when, but, since, edgerton, wallach, bomb, although, intron,\n",
      "Nearest to world: darwin, perforated, implications, performed, laika, crouch, pouches, howard,\n",
      "Nearest to only: continually, even, companions, toto, unmik, izmir, not, suffix,\n",
      "Nearest to most: more, graphite, among, cracks, izzard, findable, schedel, bands,\n",
      "Nearest to from: in, into, and, wgn, defensive, primordial, at, airing,\n",
      "Nearest to or: and, than, kline, with, adage, airfoil, rumsfeld, prosecutors,\n",
      "Nearest to all: many, any, both, some, block, fermented, nicosia, formic,\n",
      "Nearest to not: now, they, it, also, to, never, often, still,\n",
      "Nearest to would: may, could, should, can, will, must, to, masers,\n",
      "Nearest to it: he, this, there, they, which, not, she, trucks,\n",
      "Nearest to they: we, he, it, there, not, ramanujan, who, she,\n",
      "Nearest to with: between, in, longsword, malfunctions, or, by, sinned, vasily,\n",
      "Average loss at step 22000: 3.501732\n",
      "Average loss at step 24000: 3.493127\n",
      "Average loss at step 26000: 3.481157\n",
      "Average loss at step 28000: 3.481072\n",
      "Average loss at step 30000: 3.503840\n",
      "Nearest to used: known, referred, held, found, considered, amperes, handwritten, intended,\n",
      "Nearest to after: before, during, when, at, martini, for, lica, hindus,\n",
      "Nearest to UNK: suspects, w, com, l, befriends, frederick, virulence, h,\n",
      "Nearest to an: sz, threatening, hams, soldiery, serpent, benefitting, steele, completed,\n",
      "Nearest to if: when, but, since, where, although, before, can, though,\n",
      "Nearest to world: darwin, perforated, implications, rainforest, authorized, immersion, heavily, performed,\n",
      "Nearest to only: continually, companions, spirit, even, kabul, involving, izmir, table,\n",
      "Nearest to most: more, among, izzard, cottages, revoked, varies, some, findable,\n",
      "Nearest to from: into, in, defensive, airing, under, through, friesland, between,\n",
      "Nearest to or: and, than, but, dissipated, abacus, dreamland, purposefully, ethers,\n",
      "Nearest to all: some, many, both, block, these, any, those, various,\n",
      "Nearest to not: they, still, you, there, never, now, it, also,\n",
      "Nearest to would: can, will, may, could, should, must, might, to,\n",
      "Nearest to it: he, there, this, they, she, which, also, still,\n",
      "Nearest to they: there, he, we, it, who, she, these, not,\n",
      "Nearest to with: between, by, among, under, in, into, greatest, when,\n",
      "Average loss at step 32000: 3.501379\n",
      "Average loss at step 34000: 3.489855\n",
      "Average loss at step 36000: 3.453662\n",
      "Average loss at step 38000: 3.296381\n",
      "Average loss at step 40000: 3.431266\n",
      "Nearest to used: known, referred, held, considered, found, available, described, intended,\n",
      "Nearest to after: before, during, when, martini, hindus, transference, disparate, lica,\n",
      "Nearest to UNK: o, cat, ghosts, starches, and, glen, b, celestines,\n",
      "Nearest to an: soldiery, sz, benefitting, triumphant, telugu, threatening, normandie, chromatin,\n",
      "Nearest to if: when, where, is, before, e, though, although, since,\n",
      "Nearest to world: perforated, darwin, authorized, resistor, inquirer, stratosphere, performed, rainforest,\n",
      "Nearest to only: even, no, continually, faustus, companions, it, dever, izmir,\n",
      "Nearest to most: more, among, izzard, less, many, cottages, some, findable,\n",
      "Nearest to from: into, in, through, between, during, or, wallach, airing,\n",
      "Nearest to or: and, than, a, from, adage, po, javier, ethers,\n",
      "Nearest to all: both, any, hksar, noriega, fermented, nicosia, many, those,\n",
      "Nearest to not: they, you, it, never, also, still, often, there,\n",
      "Nearest to would: will, can, could, may, should, must, might, does,\n",
      "Nearest to it: he, there, she, they, this, but, which, still,\n",
      "Nearest to they: we, there, he, you, it, these, she, not,\n",
      "Nearest to with: between, longsword, donut, by, cements, under, mar, when,\n",
      "Average loss at step 42000: 3.434229\n",
      "Average loss at step 44000: 3.456666\n",
      "Average loss at step 46000: 3.448396\n",
      "Average loss at step 48000: 3.357341\n",
      "Average loss at step 50000: 3.384948\n",
      "Nearest to used: known, referred, described, intended, considered, available, found, seen,\n",
      "Nearest to after: before, during, when, while, for, upon, despite, dromedary,\n",
      "Nearest to UNK: grapple, ngc, com, max, carbonaceous, discard, magnus, aberdeenshire,\n",
      "Nearest to an: threatening, soldiery, benefitting, the, ksh, sz, telugu, portable,\n",
      "Nearest to if: when, where, although, before, though, while, since, so,\n",
      "Nearest to world: perforated, darwin, stain, firefox, stratosphere, authorized, conferred, inquirer,\n",
      "Nearest to only: zedekiah, even, izmir, always, fuss, above, either, fbi,\n",
      "Nearest to most: more, some, among, less, many, evade, cottages, findable,\n",
      "Nearest to from: in, into, naked, valuables, through, for, wgn, after,\n",
      "Nearest to or: and, than, dissipated, numan, olive, combats, adonijah, but,\n",
      "Nearest to all: both, any, various, many, some, nicosia, each, genes,\n",
      "Nearest to not: never, usually, also, considered, now, almost, they, typically,\n",
      "Nearest to would: will, could, can, may, should, must, might, does,\n",
      "Nearest to it: he, there, she, this, they, often, parcels, rebound,\n",
      "Nearest to they: we, there, he, she, it, you, crosby, who,\n",
      "Nearest to with: between, when, by, hiller, talents, pipelining, donato, circulatory,\n",
      "Average loss at step 52000: 3.434911\n",
      "Average loss at step 54000: 3.427293\n",
      "Average loss at step 56000: 3.439922\n",
      "Average loss at step 58000: 3.393484\n",
      "Average loss at step 60000: 3.390503\n",
      "Nearest to used: known, referred, described, considered, written, intended, available, seen,\n",
      "Nearest to after: before, during, when, despite, following, while, without, until,\n",
      "Nearest to UNK: spencer, assigns, lotta, agni, tillich, wilson, towns, mestizos,\n",
      "Nearest to an: threatening, triumphant, portable, ksh, blankets, telugu, preposition, soldiery,\n",
      "Nearest to if: when, where, although, though, before, since, however, so,\n",
      "Nearest to world: perforated, cold, rainforest, guardian, implications, stain, demographics, goodyear,\n",
      "Nearest to only: always, either, no, even, izmir, continually, first, receiving,\n",
      "Nearest to most: more, among, some, many, less, izzard, ancient, yolande,\n",
      "Nearest to from: into, through, lecturers, naked, friesland, airing, wgn, taoism,\n",
      "Nearest to or: and, olive, than, gigabytes, amnesty, kepler, shalt, takeshi,\n",
      "Nearest to all: both, any, some, various, those, these, many, each,\n",
      "Nearest to not: usually, they, never, now, still, typically, you, always,\n",
      "Nearest to would: could, will, can, may, should, might, must, does,\n",
      "Nearest to it: he, there, she, this, they, which, that, unclear,\n",
      "Nearest to they: we, there, he, you, she, not, it, these,\n",
      "Nearest to with: between, when, by, in, under, donut, across, twentieth,\n",
      "Average loss at step 62000: 3.238192\n",
      "Average loss at step 64000: 3.254789\n",
      "Average loss at step 66000: 3.405667\n",
      "Average loss at step 68000: 3.397825\n",
      "Average loss at step 70000: 3.353341\n",
      "Nearest to used: known, written, described, responsible, referred, available, intended, seen,\n",
      "Nearest to after: before, during, when, while, despite, until, following, ionosphere,\n",
      "Nearest to UNK: trustworthy, com, schultz, regroup, punishments, magnus, demoscene, nicolson,\n",
      "Nearest to an: the, threatening, rtf, soldiery, sz, cantonese, ksh, triumphant,\n",
      "Nearest to if: when, where, though, although, before, however, while, since,\n",
      "Nearest to world: perforated, cold, inquirer, stain, rainforest, crouch, guardian, darwin,\n",
      "Nearest to only: always, either, normally, both, receiving, yet, conformity, turn,\n",
      "Nearest to most: more, less, among, some, many, cottages, izzard, particularly,\n",
      "Nearest to from: into, through, in, between, vu, northeasterly, friesland, defensive,\n",
      "Nearest to or: and, than, while, but, nonce, brzezinski, any, amnesty,\n",
      "Nearest to all: many, both, some, any, various, these, those, each,\n",
      "Nearest to not: never, usually, now, still, always, also, actually, typically,\n",
      "Nearest to would: will, could, can, may, should, must, might, cannot,\n",
      "Nearest to it: he, she, there, this, they, still, we, which,\n",
      "Nearest to they: we, he, there, she, you, it, derisively, never,\n",
      "Nearest to with: between, circulatory, donut, among, statewide, doll, til, when,\n",
      "Average loss at step 72000: 3.372765\n",
      "Average loss at step 74000: 3.347874\n",
      "Average loss at step 76000: 3.318550\n",
      "Average loss at step 78000: 3.356000\n",
      "Average loss at step 80000: 3.382265\n",
      "Nearest to used: known, referred, written, responsible, described, required, seen, available,\n",
      "Nearest to after: before, during, when, despite, while, following, without, until,\n",
      "Nearest to UNK: maria, valerian, ka, tinge, camp, magnus, ghq, poet,\n",
      "Nearest to an: watterson, sz, threatening, blankets, soldiery, triumphant, corcovado, custody,\n",
      "Nearest to if: when, though, where, before, although, since, so, can,\n",
      "Nearest to world: inquirer, stain, cold, perforated, darwin, conferred, crouch, stratosphere,\n",
      "Nearest to only: either, always, fuss, until, lenovo, merely, best, rejoin,\n",
      "Nearest to most: more, some, less, among, many, izzard, cottages, particularly,\n",
      "Nearest to from: through, into, in, within, soga, during, until, between,\n",
      "Nearest to or: and, than, but, tiny, dissipated, while, tun, teller,\n",
      "Nearest to all: both, any, various, some, many, every, crocker, several,\n",
      "Nearest to not: usually, still, actually, never, always, sometimes, it, now,\n",
      "Nearest to would: will, could, can, may, might, should, must, cannot,\n",
      "Nearest to it: he, she, there, this, they, we, not, unclear,\n",
      "Nearest to they: we, he, there, she, you, it, these, derisively,\n",
      "Nearest to with: between, among, when, circulatory, statewide, chondrites, talents, into,\n",
      "Average loss at step 82000: 3.409065\n",
      "Average loss at step 84000: 3.409323\n",
      "Average loss at step 86000: 3.386064\n",
      "Average loss at step 88000: 3.352429\n",
      "Average loss at step 90000: 3.366075\n",
      "Nearest to used: referred, known, considered, seen, available, written, required, produced,\n",
      "Nearest to after: before, during, while, when, despite, until, following, without,\n",
      "Nearest to UNK: hakka, norris, posters, princeton, diluted, magog, mennonite, dxm,\n",
      "Nearest to an: sz, soldiery, watterson, custody, curative, corcovado, triumphant, preposition,\n",
      "Nearest to if: when, where, since, though, before, although, after, because,\n",
      "Nearest to world: gulf, goodwill, nation, earth, stain, cold, conferred, evacuate,\n",
      "Nearest to only: either, zedekiah, always, fuss, neither, no, even, not,\n",
      "Nearest to most: more, less, some, many, particularly, izzard, among, all,\n",
      "Nearest to from: through, into, during, beyond, before, by, under, between,\n",
      "Nearest to or: and, but, including, nonce, tiny, idolized, neurological, than,\n",
      "Nearest to all: many, both, some, several, various, every, any, each,\n",
      "Nearest to not: actually, still, never, nor, now, usually, almost, generally,\n",
      "Nearest to would: will, could, can, might, should, may, must, cannot,\n",
      "Nearest to it: he, she, there, they, this, often, itself, rarely,\n",
      "Nearest to they: we, he, there, she, you, it, derisively, but,\n",
      "Nearest to with: between, by, in, grooves, longsword, under, across, send,\n",
      "Average loss at step 92000: 3.404001\n",
      "Average loss at step 94000: 3.252241\n",
      "Average loss at step 96000: 3.357543\n",
      "Average loss at step 98000: 3.242695\n",
      "Average loss at step 100000: 3.359440\n",
      "Nearest to used: referred, known, considered, given, available, written, participate, described,\n",
      "Nearest to after: before, during, when, without, despite, while, following, until,\n",
      "Nearest to UNK: seri, suffolk, magog, http, fleming, ba, et, cuthbert,\n",
      "Nearest to an: soldiery, triumphant, another, telugu, ksh, rtf, sz, corcovado,\n",
      "Nearest to if: when, though, where, before, although, while, since, because,\n",
      "Nearest to world: fossil, hospitals, landing, guardian, gulf, stratosphere, wmd, u,\n",
      "Nearest to only: either, always, neither, fuss, zedekiah, moods, hearse, even,\n",
      "Nearest to most: more, less, particularly, especially, rearing, some, cottages, among,\n",
      "Nearest to from: through, into, in, during, within, without, vu, mortars,\n",
      "Nearest to or: and, than, nonce, tiny, brzezinski, lounge, olive, teller,\n",
      "Nearest to all: any, both, several, every, many, various, these, some,\n",
      "Nearest to not: never, actually, almost, still, nor, usually, always, otherwise,\n",
      "Nearest to would: will, could, can, might, should, may, must, cannot,\n",
      "Nearest to it: he, she, there, they, this, often, hindered, meier,\n",
      "Nearest to they: we, he, there, you, she, it, derisively, these,\n",
      "Nearest to with: between, when, using, citric, donut, til, longsword, including,\n"
     ]
    }
   ],
   "source": [
    "num_steps = 100001\n",
    "\n",
    "with tf.Session(graph=graph) as session:\n",
    "  tf.global_variables_initializer().run()\n",
    "  print('Initialized')\n",
    "  average_loss = 0\n",
    "  for step in range(num_steps):\n",
    "    batch_data, batch_labels = generate_batch(\n",
    "      batch_size, num_skips, skip_window)\n",
    "    feed_dict = {train_dataset : batch_data, train_labels : batch_labels}\n",
    "    _, l = session.run([optimizer, loss], feed_dict=feed_dict)\n",
    "    average_loss += l\n",
    "    if step % 2000 == 0:\n",
    "      if step > 0:\n",
    "        average_loss = average_loss / 2000\n",
    "      # The average loss is an estimate of the loss over the last 2000 batches.\n",
    "      print('Average loss at step %d: %f' % (step, average_loss))\n",
    "      average_loss = 0\n",
    "    # note that this is expensive (~20% slowdown if computed every 500 steps)\n",
    "    if step % 10000 == 0:\n",
    "      sim = similarity.eval()\n",
    "      for i in range(valid_size):\n",
    "        valid_word = reverse_dictionary[valid_examples[i]]\n",
    "        top_k = 8 # number of nearest neighbors\n",
    "        nearest = (-sim[i, :]).argsort()[1:top_k+1]\n",
    "        log = 'Nearest to %s:' % valid_word\n",
    "        for k in range(top_k):\n",
    "          close_word = reverse_dictionary[nearest[k]]\n",
    "          log = '%s %s,' % (log, close_word)\n",
    "        print(log)\n",
    "  final_embeddings = normalized_embeddings.eval()"
   ]
  },
  {
   "cell_type": "code",
   "execution_count": 8,
   "metadata": {
    "cellView": "both",
    "colab": {
     "autoexec": {
      "startup": false,
      "wait_interval": 0
     }
    },
    "colab_type": "code",
    "collapsed": false,
    "id": "jjJXYA_XzV79"
   },
   "outputs": [
    {
     "ename": "ValueError",
     "evalue": "array must not contain infs or NaNs",
     "output_type": "error",
     "traceback": [
      "\u001b[0;31m---------------------------------------------------------------------------\u001b[0m",
      "\u001b[0;31mValueError\u001b[0m                                Traceback (most recent call last)",
      "\u001b[0;32m<ipython-input-8-f70c03698d67>\u001b[0m in \u001b[0;36m<module>\u001b[0;34m()\u001b[0m\n\u001b[1;32m      2\u001b[0m \u001b[0;34m\u001b[0m\u001b[0m\n\u001b[1;32m      3\u001b[0m \u001b[0mtsne\u001b[0m \u001b[0;34m=\u001b[0m \u001b[0mTSNE\u001b[0m\u001b[0;34m(\u001b[0m\u001b[0mperplexity\u001b[0m\u001b[0;34m=\u001b[0m\u001b[0;36m30\u001b[0m\u001b[0;34m,\u001b[0m \u001b[0mn_components\u001b[0m\u001b[0;34m=\u001b[0m\u001b[0;36m2\u001b[0m\u001b[0;34m,\u001b[0m \u001b[0minit\u001b[0m\u001b[0;34m=\u001b[0m\u001b[0;34m'pca'\u001b[0m\u001b[0;34m,\u001b[0m \u001b[0mn_iter\u001b[0m\u001b[0;34m=\u001b[0m\u001b[0;36m5000\u001b[0m\u001b[0;34m)\u001b[0m\u001b[0;34m\u001b[0m\u001b[0m\n\u001b[0;32m----> 4\u001b[0;31m \u001b[0mtwo_d_embeddings\u001b[0m \u001b[0;34m=\u001b[0m \u001b[0mtsne\u001b[0m\u001b[0;34m.\u001b[0m\u001b[0mfit_transform\u001b[0m\u001b[0;34m(\u001b[0m\u001b[0mfinal_embeddings\u001b[0m\u001b[0;34m[\u001b[0m\u001b[0;36m1\u001b[0m\u001b[0;34m:\u001b[0m\u001b[0mnum_points\u001b[0m\u001b[0;34m+\u001b[0m\u001b[0;36m1\u001b[0m\u001b[0;34m,\u001b[0m \u001b[0;34m:\u001b[0m\u001b[0;34m]\u001b[0m\u001b[0;34m)\u001b[0m\u001b[0;34m\u001b[0m\u001b[0m\n\u001b[0m",
      "\u001b[0;32m/Users/mahui/anaconda/lib/python2.7/site-packages/sklearn/manifold/t_sne.pyc\u001b[0m in \u001b[0;36mfit_transform\u001b[0;34m(self, X, y)\u001b[0m\n\u001b[1;32m    882\u001b[0m             \u001b[0mEmbedding\u001b[0m \u001b[0mof\u001b[0m \u001b[0mthe\u001b[0m \u001b[0mtraining\u001b[0m \u001b[0mdata\u001b[0m \u001b[0;32min\u001b[0m \u001b[0mlow\u001b[0m\u001b[0;34m-\u001b[0m\u001b[0mdimensional\u001b[0m \u001b[0mspace\u001b[0m\u001b[0;34m.\u001b[0m\u001b[0;34m\u001b[0m\u001b[0m\n\u001b[1;32m    883\u001b[0m         \"\"\"\n\u001b[0;32m--> 884\u001b[0;31m         \u001b[0membedding\u001b[0m \u001b[0;34m=\u001b[0m \u001b[0mself\u001b[0m\u001b[0;34m.\u001b[0m\u001b[0m_fit\u001b[0m\u001b[0;34m(\u001b[0m\u001b[0mX\u001b[0m\u001b[0;34m)\u001b[0m\u001b[0;34m\u001b[0m\u001b[0m\n\u001b[0m\u001b[1;32m    885\u001b[0m         \u001b[0mself\u001b[0m\u001b[0;34m.\u001b[0m\u001b[0membedding_\u001b[0m \u001b[0;34m=\u001b[0m \u001b[0membedding\u001b[0m\u001b[0;34m\u001b[0m\u001b[0m\n\u001b[1;32m    886\u001b[0m         \u001b[0;32mreturn\u001b[0m \u001b[0mself\u001b[0m\u001b[0;34m.\u001b[0m\u001b[0membedding_\u001b[0m\u001b[0;34m\u001b[0m\u001b[0m\n",
      "\u001b[0;32m/Users/mahui/anaconda/lib/python2.7/site-packages/sklearn/manifold/t_sne.pyc\u001b[0m in \u001b[0;36m_fit\u001b[0;34m(self, X, skip_num_points)\u001b[0m\n\u001b[1;32m    787\u001b[0m                           \u001b[0mX_embedded\u001b[0m\u001b[0;34m=\u001b[0m\u001b[0mX_embedded\u001b[0m\u001b[0;34m,\u001b[0m\u001b[0;34m\u001b[0m\u001b[0m\n\u001b[1;32m    788\u001b[0m                           \u001b[0mneighbors\u001b[0m\u001b[0;34m=\u001b[0m\u001b[0mneighbors_nn\u001b[0m\u001b[0;34m,\u001b[0m\u001b[0;34m\u001b[0m\u001b[0m\n\u001b[0;32m--> 789\u001b[0;31m                           skip_num_points=skip_num_points)\n\u001b[0m\u001b[1;32m    790\u001b[0m \u001b[0;34m\u001b[0m\u001b[0m\n\u001b[1;32m    791\u001b[0m     def _tsne(self, P, degrees_of_freedom, n_samples, random_state,\n",
      "\u001b[0;32m/Users/mahui/anaconda/lib/python2.7/site-packages/sklearn/manifold/t_sne.pyc\u001b[0m in \u001b[0;36m_tsne\u001b[0;34m(self, P, degrees_of_freedom, n_samples, random_state, X_embedded, neighbors, skip_num_points)\u001b[0m\n\u001b[1;32m    845\u001b[0m         \u001b[0mopt_args\u001b[0m\u001b[0;34m[\u001b[0m\u001b[0;34m'it'\u001b[0m\u001b[0;34m]\u001b[0m \u001b[0;34m=\u001b[0m \u001b[0mit\u001b[0m \u001b[0;34m+\u001b[0m \u001b[0;36m1\u001b[0m\u001b[0;34m\u001b[0m\u001b[0m\n\u001b[1;32m    846\u001b[0m         params, kl_divergence, it = _gradient_descent(obj_func, params,\n\u001b[0;32m--> 847\u001b[0;31m                                                       **opt_args)\n\u001b[0m\u001b[1;32m    848\u001b[0m         \u001b[0;32mif\u001b[0m \u001b[0mself\u001b[0m\u001b[0;34m.\u001b[0m\u001b[0mverbose\u001b[0m\u001b[0;34m:\u001b[0m\u001b[0;34m\u001b[0m\u001b[0m\n\u001b[1;32m    849\u001b[0m             print(\"[t-SNE] KL divergence after %d iterations with early \"\n",
      "\u001b[0;32m/Users/mahui/anaconda/lib/python2.7/site-packages/sklearn/manifold/t_sne.pyc\u001b[0m in \u001b[0;36m_gradient_descent\u001b[0;34m(objective, p0, it, n_iter, objective_error, n_iter_check, n_iter_without_progress, momentum, learning_rate, min_gain, min_grad_norm, min_error_diff, verbose, args, kwargs)\u001b[0m\n\u001b[1;32m    386\u001b[0m     \u001b[0;32mfor\u001b[0m \u001b[0mi\u001b[0m \u001b[0;32min\u001b[0m \u001b[0mrange\u001b[0m\u001b[0;34m(\u001b[0m\u001b[0mit\u001b[0m\u001b[0;34m,\u001b[0m \u001b[0mn_iter\u001b[0m\u001b[0;34m)\u001b[0m\u001b[0;34m:\u001b[0m\u001b[0;34m\u001b[0m\u001b[0m\n\u001b[1;32m    387\u001b[0m         \u001b[0mnew_error\u001b[0m\u001b[0;34m,\u001b[0m \u001b[0mgrad\u001b[0m \u001b[0;34m=\u001b[0m \u001b[0mobjective\u001b[0m\u001b[0;34m(\u001b[0m\u001b[0mp\u001b[0m\u001b[0;34m,\u001b[0m \u001b[0;34m*\u001b[0m\u001b[0margs\u001b[0m\u001b[0;34m,\u001b[0m \u001b[0;34m**\u001b[0m\u001b[0mkwargs\u001b[0m\u001b[0;34m)\u001b[0m\u001b[0;34m\u001b[0m\u001b[0m\n\u001b[0;32m--> 388\u001b[0;31m         \u001b[0mgrad_norm\u001b[0m \u001b[0;34m=\u001b[0m \u001b[0mlinalg\u001b[0m\u001b[0;34m.\u001b[0m\u001b[0mnorm\u001b[0m\u001b[0;34m(\u001b[0m\u001b[0mgrad\u001b[0m\u001b[0;34m)\u001b[0m\u001b[0;34m\u001b[0m\u001b[0m\n\u001b[0m\u001b[1;32m    389\u001b[0m \u001b[0;34m\u001b[0m\u001b[0m\n\u001b[1;32m    390\u001b[0m         \u001b[0minc\u001b[0m \u001b[0;34m=\u001b[0m \u001b[0mupdate\u001b[0m \u001b[0;34m*\u001b[0m \u001b[0mgrad\u001b[0m \u001b[0;34m>=\u001b[0m \u001b[0;36m0.0\u001b[0m\u001b[0;34m\u001b[0m\u001b[0m\n",
      "\u001b[0;32m/Users/mahui/anaconda/lib/python2.7/site-packages/scipy/linalg/misc.pyc\u001b[0m in \u001b[0;36mnorm\u001b[0;34m(a, ord, axis, keepdims)\u001b[0m\n\u001b[1;32m    127\u001b[0m     \"\"\"\n\u001b[1;32m    128\u001b[0m     \u001b[0;31m# Differs from numpy only in non-finite handling and the use of blas.\u001b[0m\u001b[0;34m\u001b[0m\u001b[0;34m\u001b[0m\u001b[0m\n\u001b[0;32m--> 129\u001b[0;31m     \u001b[0ma\u001b[0m \u001b[0;34m=\u001b[0m \u001b[0mnp\u001b[0m\u001b[0;34m.\u001b[0m\u001b[0masarray_chkfinite\u001b[0m\u001b[0;34m(\u001b[0m\u001b[0ma\u001b[0m\u001b[0;34m)\u001b[0m\u001b[0;34m\u001b[0m\u001b[0m\n\u001b[0m\u001b[1;32m    130\u001b[0m \u001b[0;34m\u001b[0m\u001b[0m\n\u001b[1;32m    131\u001b[0m     \u001b[0;31m# Only use optimized norms if axis and keepdims are not specified.\u001b[0m\u001b[0;34m\u001b[0m\u001b[0;34m\u001b[0m\u001b[0m\n",
      "\u001b[0;32m/Users/mahui/anaconda/lib/python2.7/site-packages/numpy/lib/function_base.pyc\u001b[0m in \u001b[0;36masarray_chkfinite\u001b[0;34m(a, dtype, order)\u001b[0m\n\u001b[1;32m   1213\u001b[0m     \u001b[0;32mif\u001b[0m \u001b[0ma\u001b[0m\u001b[0;34m.\u001b[0m\u001b[0mdtype\u001b[0m\u001b[0;34m.\u001b[0m\u001b[0mchar\u001b[0m \u001b[0;32min\u001b[0m \u001b[0mtypecodes\u001b[0m\u001b[0;34m[\u001b[0m\u001b[0;34m'AllFloat'\u001b[0m\u001b[0;34m]\u001b[0m \u001b[0;32mand\u001b[0m \u001b[0;32mnot\u001b[0m \u001b[0mnp\u001b[0m\u001b[0;34m.\u001b[0m\u001b[0misfinite\u001b[0m\u001b[0;34m(\u001b[0m\u001b[0ma\u001b[0m\u001b[0;34m)\u001b[0m\u001b[0;34m.\u001b[0m\u001b[0mall\u001b[0m\u001b[0;34m(\u001b[0m\u001b[0;34m)\u001b[0m\u001b[0;34m:\u001b[0m\u001b[0;34m\u001b[0m\u001b[0m\n\u001b[1;32m   1214\u001b[0m         raise ValueError(\n\u001b[0;32m-> 1215\u001b[0;31m             \"array must not contain infs or NaNs\")\n\u001b[0m\u001b[1;32m   1216\u001b[0m     \u001b[0;32mreturn\u001b[0m \u001b[0ma\u001b[0m\u001b[0;34m\u001b[0m\u001b[0m\n\u001b[1;32m   1217\u001b[0m \u001b[0;34m\u001b[0m\u001b[0m\n",
      "\u001b[0;31mValueError\u001b[0m: array must not contain infs or NaNs"
     ]
    }
   ],
   "source": [
    "num_points = 400\n",
    "\n",
    "tsne = TSNE(perplexity=30, n_components=2, init='pca', n_iter=5000)\n",
    "two_d_embeddings = tsne.fit_transform(final_embeddings[1:num_points+1, :])"
   ]
  },
  {
   "cell_type": "code",
   "execution_count": null,
   "metadata": {
    "cellView": "both",
    "colab": {
     "autoexec": {
      "startup": false,
      "wait_interval": 0
     },
     "output_extras": [
      {
       "item_id": 1
      }
     ]
    },
    "colab_type": "code",
    "collapsed": false,
    "executionInfo": {
     "elapsed": 4763,
     "status": "ok",
     "timestamp": 1445965465525,
     "user": {
      "color": "#1FA15D",
      "displayName": "Vincent Vanhoucke",
      "isAnonymous": false,
      "isMe": true,
      "permissionId": "05076109866853157986",
      "photoUrl": "//lh6.googleusercontent.com/-cCJa7dTDcgQ/AAAAAAAAAAI/AAAAAAAACgw/r2EZ_8oYer4/s50-c-k-no/photo.jpg",
      "sessionId": "2f1ffade4c9f20de",
      "userId": "102167687554210253930"
     },
     "user_tz": 420
    },
    "id": "o_e0D_UezcDe",
    "outputId": "df22e4a5-e8ec-4e5e-d384-c6cf37c68c34"
   },
   "outputs": [],
   "source": [
    "def plot(embeddings, labels):\n",
    "  assert embeddings.shape[0] >= len(labels), 'More labels than embeddings'\n",
    "  pylab.figure(figsize=(15,15))  # in inches\n",
    "  for i, label in enumerate(labels):\n",
    "    x, y = embeddings[i,:]\n",
    "    pylab.scatter(x, y)\n",
    "    pylab.annotate(label, xy=(x, y), xytext=(5, 2), textcoords='offset points',\n",
    "                   ha='right', va='bottom')\n",
    "  pylab.show()\n",
    "\n",
    "words = [reverse_dictionary[i] for i in range(1, num_points+1)]\n",
    "plot(two_d_embeddings, words)"
   ]
  },
  {
   "cell_type": "markdown",
   "metadata": {
    "colab_type": "text",
    "id": "QB5EFrBnpNnc"
   },
   "source": [
    "---\n",
    "\n",
    "Problem\n",
    "-------\n",
    "\n",
    "An alternative to skip-gram is another Word2Vec model called [CBOW](http://arxiv.org/abs/1301.3781) (Continuous Bag of Words). In the CBOW model, instead of predicting a context word from a word vector, you predict a word from the sum of all the word vectors in its context. Implement and evaluate a CBOW model trained on the text8 dataset.\n",
    "\n",
    "---"
   ]
  }
 ],
 "metadata": {
  "anaconda-cloud": {},
  "colab": {
   "default_view": {},
   "name": "5_word2vec.ipynb",
   "provenance": [],
   "version": "0.3.2",
   "views": {}
  },
  "kernelspec": {
   "display_name": "Python [default]",
   "language": "python",
   "name": "python2"
  },
  "language_info": {
   "codemirror_mode": {
    "name": "ipython",
    "version": 2
   },
   "file_extension": ".py",
   "mimetype": "text/x-python",
   "name": "python",
   "nbconvert_exporter": "python",
   "pygments_lexer": "ipython2",
   "version": "2.7.13"
  }
 },
 "nbformat": 4,
 "nbformat_minor": 0
}
