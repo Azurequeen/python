{
 "cells": [
  {
   "cell_type": "code",
   "execution_count": 1,
   "metadata": {
    "collapsed": false
   },
   "outputs": [
    {
     "name": "stderr",
     "output_type": "stream",
     "text": [
      "/Users/mahui/anaconda/lib/python2.7/site-packages/sklearn/cross_validation.py:44: DeprecationWarning: This module was deprecated in version 0.18 in favor of the model_selection module into which all the refactored classes and functions are moved. Also note that the interface of the new CV iterators are different from that of this module. This module will be removed in 0.20.\n",
      "  \"This module will be removed in 0.20.\", DeprecationWarning)\n",
      "/Users/mahui/anaconda/lib/python2.7/site-packages/sklearn/grid_search.py:43: DeprecationWarning: This module was deprecated in version 0.18 in favor of the model_selection module into which all the refactored classes and functions are moved. This module will be removed in 0.20.\n",
      "  DeprecationWarning)\n",
      "/Users/mahui/anaconda/lib/python2.7/site-packages/sklearn/learning_curve.py:23: DeprecationWarning: This module was deprecated in version 0.18 in favor of the model_selection module into which all the functions are moved. This module will be removed in 0.20\n",
      "  DeprecationWarning)\n"
     ]
    }
   ],
   "source": [
    "import pandas as pd\n",
    "import numpy as np\n",
    "import xgboost as xgb\n",
    "from xgboost.sklearn import XGBRegressor\n",
    "from sklearn import cross_validation, metrics\n",
    "from sklearn.grid_search import GridSearchCV\n",
    "from time import time\n",
    "from sklearn.metrics import f1_score\n",
    "from sklearn import linear_model\n",
    "from sklearn import cross_validation\n",
    "from sklearn import svm\n",
    "from sklearn.ensemble import RandomForestRegressor\n",
    "from sklearn.learning_curve import learning_curve\n",
    "from sklearn.grid_search import GridSearchCV\n",
    "from sklearn.metrics import explained_variance_score\n",
    "from sklearn.neural_network import MLPRegressor\n",
    "from sklearn.ensemble import GradientBoostingRegressor\n",
    "from sklearn.ensemble import ExtraTreesRegressor\n",
    "import matplotlib.pylab as plt\n",
    "import seaborn as sns\n",
    "\n",
    "\n",
    "\n",
    "%matplotlib inline\n",
    "from matplotlib.pylab import rcParams\n",
    "rcParams['figure.figsize'] = 12, 4"
   ]
  },
  {
   "cell_type": "markdown",
   "metadata": {},
   "source": [
    "# 一、读取训练集和测试集，确定训练（预测）目标"
   ]
  },
  {
   "cell_type": "code",
   "execution_count": 2,
   "metadata": {
    "collapsed": false
   },
   "outputs": [],
   "source": [
    "train = pd.read_csv('train_modified_12-10.csv')\n",
    "#test = pd.read_csv('test_modified.csv')"
   ]
  },
  {
   "cell_type": "code",
   "execution_count": 3,
   "metadata": {
    "collapsed": false
   },
   "outputs": [
    {
     "name": "stdout",
     "output_type": "stream",
     "text": [
      "df_train_data shape is  (1255, 291)\n",
      "df_train_target shape is  (1255,)\n"
     ]
    }
   ],
   "source": [
    "#df_train_target = train['SalePrice']\n",
    "#df_train_data = train.drop(['SalePrice'],axis = 1)\n",
    "#print 'df_train_data shape is ', df_train_data.shape\n",
    "#print 'df_train_target shape is ', df_train_target.shape\n",
    "#print 'df_train_target shape is ', test.shape\n",
    "\n",
    "\n",
    "df_train_target = train['SalePrice'].values\n",
    "df_train_data = train.drop(['SalePrice'],axis = 1).values\n",
    "print 'df_train_data shape is ', df_train_data.shape\n",
    "print 'df_train_target shape is ', df_train_target.shape"
   ]
  },
  {
   "cell_type": "markdown",
   "metadata": {},
   "source": [
    "target='SalePrice'\n",
    "IDcol = 'ID'"
   ]
  },
  {
   "cell_type": "markdown",
   "metadata": {
    "collapsed": true
   },
   "source": [
    "# 二、切分训练集，初步尝试各种回归模型"
   ]
  },
  {
   "cell_type": "code",
   "execution_count": 4,
   "metadata": {
    "collapsed": false
   },
   "outputs": [
    {
     "name": "stdout",
     "output_type": "stream",
     "text": [
      "岭回归\n",
      "train score: 0.945, test score: 0.874\n",
      "\n",
      "train score: 0.945, test score: 0.850\n",
      "\n",
      "train score: 0.943, test score: 0.881\n",
      "\n",
      "GradientBoostingRegressor\n",
      "train score: 0.970, test score: 0.871\n",
      "\n",
      "train score: 0.970, test score: 0.843\n",
      "\n",
      "train score: 0.967, test score: 0.856\n",
      "\n",
      "ExtraTreesRegressor\n",
      "train score: 1.000, test score: 0.825\n",
      "\n",
      "train score: 1.000, test score: 0.773\n",
      "\n",
      "train score: 1.000, test score: 0.772\n",
      "\n",
      "随机森林回归/Random Forest(n_estimators = 100)\n",
      "train score: 0.980, test score: 0.865\n",
      "\n",
      "train score: 0.981, test score: 0.825\n",
      "\n",
      "train score: 0.982, test score: 0.827\n",
      "\n",
      "XGBRegressor\n",
      "train score: 0.966, test score: 0.871\n",
      "\n",
      "train score: 0.967, test score: 0.856\n",
      "\n",
      "train score: 0.964, test score: 0.854\n",
      "\n"
     ]
    }
   ],
   "source": [
    "# 总得切分一下数据咯（训练集和测试集）\n",
    "cv = cross_validation.ShuffleSplit(len(df_train_data), n_iter=3, test_size=0.2,\n",
    "    random_state=0)\n",
    "\n",
    "# 各种模型来一圈\n",
    "\n",
    "print \"岭回归\"    \n",
    "for train, test in cv:    \n",
    "    svc = linear_model.Ridge().fit(df_train_data[train], df_train_target[train])\n",
    "    print(\"train score: {0:.3f}, test score: {1:.3f}\\n\".format(\n",
    "        svc.score(df_train_data[train], df_train_target[train]), svc.score(df_train_data[test], df_train_target[test])))\n",
    "    \n",
    "print \"GradientBoostingRegressor\"\n",
    "for train, test in cv:\n",
    "    \n",
    "    svc = GradientBoostingRegressor().fit(df_train_data[train], df_train_target[train])\n",
    "    print(\"train score: {0:.3f}, test score: {1:.3f}\\n\".format(\n",
    "        svc.score(df_train_data[train], df_train_target[train]), svc.score(df_train_data[test], df_train_target[test])))\n",
    "\n",
    "print \"ExtraTreesRegressor\"\n",
    "for train, test in cv:\n",
    "    \n",
    "    svc = ExtraTreesRegressor().fit(df_train_data[train], df_train_target[train])\n",
    "    print(\"train score: {0:.3f}, test score: {1:.3f}\\n\".format(\n",
    "        svc.score(df_train_data[train], df_train_target[train]), svc.score(df_train_data[test], df_train_target[test])))\n",
    "        \n",
    "    \n",
    "print \"随机森林回归/Random Forest(n_estimators = 100)\"    \n",
    "for train, test in cv:    \n",
    "    svc = RandomForestRegressor(n_estimators = 100).fit(df_train_data[train], df_train_target[train])\n",
    "    print(\"train score: {0:.3f}, test score: {1:.3f}\\n\".format(\n",
    "        svc.score(df_train_data[train], df_train_target[train]), svc.score(df_train_data[test], df_train_target[test])))\n",
    "\n",
    "print \"XGBRegressor\"    \n",
    "for train, test in cv:    \n",
    "    svc =  XGBRegressor(max_depth=3, \n",
    "                    learning_rate=0.1, \n",
    "                    n_estimators=100, \n",
    "                    silent=True, \n",
    "                    objective='reg:linear', \n",
    "                    nthread=-1, gamma=0, \n",
    "                    min_child_weight=1, \n",
    "                    max_delta_step=0, \n",
    "                    subsample=1, \n",
    "                    colsample_bytree=1, \n",
    "#                    colsample_bylevel=1, \n",
    "#                    reg_alpha=0, \n",
    "#                    reg_lambda=1, \n",
    "#                    scale_pos_weight=1, \n",
    "                    base_score=0.5, \n",
    "                    seed=0, \n",
    "                    missing=None).fit(df_train_data[train], df_train_target[train])\n",
    "    print(\"train score: {0:.3f}, test score: {1:.3f}\\n\".format(\n",
    "        svc.score(df_train_data[train], df_train_target[train]), svc.score(df_train_data[test], df_train_target[test])))"
   ]
  },
  {
   "cell_type": "markdown",
   "metadata": {
    "collapsed": false
   },
   "source": [
    "#将多个模型的结果融合，再跑一边xgboost\n",
    "svc0 = linear_model.Ridge().fit(df_train_data, df_train_target)\n",
    "\n",
    "svc1 = GradientBoostingRegressor().fit(df_train_data, df_train_target)\n",
    "\n",
    "svc2 = ExtraTreesRegressor().fit(df_train_data, df_train_target)\n",
    "\n",
    "svc3 = RandomForestRegressor(n_estimators = 100).fit(df_train_data, df_train_target)\n",
    "\n",
    "svc4 =  XGBRegressor(max_depth=3, \n",
    "                    learning_rate=0.1, \n",
    "                    n_estimators=100, \n",
    "                    silent=True, \n",
    "                    objective='reg:linear', \n",
    "                    nthread=-1, gamma=0, \n",
    "                    min_child_weight=1, \n",
    "                    max_delta_step=0, \n",
    "                    subsample=1, \n",
    "                    colsample_bytree=1, \n",
    "#                    colsample_bylevel=1, \n",
    "#                    reg_alpha=0, \n",
    "#                    reg_lambda=1, \n",
    "#                    scale_pos_weight=1, \n",
    "                    base_score=0.5, \n",
    "                    seed=0, \n",
    "                    missing=None).fit(df_train_data, df_train_target)\n",
    "\n",
    "\n",
    "\n",
    "\n"
   ]
  },
  {
   "cell_type": "markdown",
   "metadata": {
    "collapsed": false
   },
   "source": [
    "trai = pd.read_csv('train_modified.csv')\n",
    "df1 = trai.drop(['SalePrice'],axis = 1)\n",
    "#df1 = pd.read_csv('test_modified.csv')\n",
    "\n",
    "df1_train = pd.DataFrame({\n",
    "                    'svc0':svc0.predict(df1),\n",
    "                    'svc1':svc1.predict(df1),\n",
    "                    'svc2':svc2.predict(df1),\n",
    "                    'svc3':svc3.predict(df1),\n",
    "                    'svc4':svc4.predict(df1),\n",
    "#                    'SalePrice':df_train_target,\n",
    "                   })\n",
    "df1_train = df1_train.values\n",
    "\n",
    "svc_last =  XGBRegressor(max_depth=3, \n",
    "                    learning_rate=0.1, \n",
    "                    n_estimators=100, \n",
    "                    silent=True, \n",
    "                    objective='reg:linear', \n",
    "                    nthread=-1, gamma=0, \n",
    "                    min_child_weight=1, \n",
    "                    max_delta_step=0, \n",
    "                    subsample=1, \n",
    "                    colsample_bytree=1, \n",
    "#                    colsample_bylevel=1, \n",
    "#                    reg_alpha=0, \n",
    "#                    reg_lambda=1, \n",
    "#                    scale_pos_weight=1, \n",
    "                    base_score=0.5, \n",
    "                    seed=0, \n",
    "                    missing=None)\n",
    "svc_last = svc_last.fit(df1_train[train], df_train_target[train])"
   ]
  },
  {
   "cell_type": "markdown",
   "metadata": {
    "collapsed": false
   },
   "source": [
    "cv1 = cross_validation.ShuffleSplit(len(df_train_target), n_iter=10, test_size=0.2,\n",
    "    random_state=0)\n",
    "\n",
    "svc_last =  XGBRegressor(max_depth=3, \n",
    "                    learning_rate=0.1, \n",
    "                    n_estimators=100, \n",
    "                    silent=True, \n",
    "                    objective='reg:linear', \n",
    "                    nthread=-1, gamma=0, \n",
    "                    min_child_weight=1, \n",
    "                    max_delta_step=0, \n",
    "                    subsample=1, \n",
    "                    colsample_bytree=1, \n",
    "#                    colsample_bylevel=1, \n",
    "#                    reg_alpha=0, \n",
    "#                    reg_lambda=1, \n",
    "#                    scale_pos_weight=1, \n",
    "                    base_score=0.5, \n",
    "                    seed=0, \n",
    "                    missing=None)\n",
    "\n",
    "for train, test in cv1:    \n",
    "    svc_last = svc_last.fit(df1_train[train], df_train_target[train])\n",
    "    print(\"train score: {0:.3f}, test score: {1:.3f}\\n\".format(\n",
    "        svc_last.score(df1_train[train], df_train_target[train]), svc_last.score(df1_train[test], df_train_target[test])))\n",
    "    "
   ]
  },
  {
   "cell_type": "code",
   "execution_count": null,
   "metadata": {
    "collapsed": false
   },
   "outputs": [],
   "source": []
  },
  {
   "cell_type": "markdown",
   "metadata": {
    "collapsed": false
   },
   "source": [
    "# 三、将各个具有较好默认表现的回归模型，进行更为细致的grid调参和CV"
   ]
  },
  {
   "cell_type": "code",
   "execution_count": 5,
   "metadata": {
    "collapsed": false
   },
   "outputs": [],
   "source": [
    "X = df_train_data\n",
    "y = df_train_target\n",
    "\n",
    "X_train, X_test, y_train, y_test = cross_validation.train_test_split(\n",
    "    X, y, test_size=0.2, random_state=0)\n",
    "\n",
    "tuned_parameters = [{\n",
    "        'alpha':[1.0,2.0,3.0,4.0,5.0,6.0], \n",
    "       'tol':[1.0,2.0,3.0,4.0,5.0], \n",
    "#        'max_iter':[3,5,7],\n",
    "\n",
    "#        'n_estimators':[100,200,500,1000,2000], \n",
    "#        'subsample':[1,2,5], \n",
    "#        'colsample_bytree':[1,2,5], \n",
    "                    }]   \n",
    "    \n",
    "scores = ['r2']"
   ]
  },
  {
   "cell_type": "code",
   "execution_count": 6,
   "metadata": {
    "collapsed": false
   },
   "outputs": [
    {
     "name": "stdout",
     "output_type": "stream",
     "text": [
      "r2\n",
      "别！喝！咖！啡！了！最佳参数找到了亲！！：\n",
      "\n",
      "Ridge(alpha=5.0, copy_X=True, fit_intercept=False, max_iter=None,\n",
      "   normalize=False, random_state=0, solver='auto', tol=1.0)\n",
      "\n",
      "得分分别是:\n",
      "\n",
      "0.900 (+/-0.006) for {'alpha': 1.0, 'tol': 1.0}\n",
      "\n",
      "0.900 (+/-0.006) for {'alpha': 1.0, 'tol': 2.0}\n",
      "\n",
      "0.900 (+/-0.006) for {'alpha': 1.0, 'tol': 3.0}\n",
      "\n",
      "0.900 (+/-0.006) for {'alpha': 1.0, 'tol': 4.0}\n",
      "\n",
      "0.900 (+/-0.006) for {'alpha': 1.0, 'tol': 5.0}\n",
      "\n",
      "0.903 (+/-0.006) for {'alpha': 2.0, 'tol': 1.0}\n",
      "\n",
      "0.903 (+/-0.006) for {'alpha': 2.0, 'tol': 2.0}\n",
      "\n",
      "0.903 (+/-0.006) for {'alpha': 2.0, 'tol': 3.0}\n",
      "\n",
      "0.903 (+/-0.006) for {'alpha': 2.0, 'tol': 4.0}\n",
      "\n",
      "0.903 (+/-0.006) for {'alpha': 2.0, 'tol': 5.0}\n",
      "\n",
      "0.904 (+/-0.006) for {'alpha': 3.0, 'tol': 1.0}\n",
      "\n",
      "0.904 (+/-0.006) for {'alpha': 3.0, 'tol': 2.0}\n",
      "\n",
      "0.904 (+/-0.006) for {'alpha': 3.0, 'tol': 3.0}\n",
      "\n",
      "0.904 (+/-0.006) for {'alpha': 3.0, 'tol': 4.0}\n",
      "\n",
      "0.904 (+/-0.006) for {'alpha': 3.0, 'tol': 5.0}\n",
      "\n",
      "0.904 (+/-0.006) for {'alpha': 4.0, 'tol': 1.0}\n",
      "\n",
      "0.904 (+/-0.006) for {'alpha': 4.0, 'tol': 2.0}\n",
      "\n",
      "0.904 (+/-0.006) for {'alpha': 4.0, 'tol': 3.0}\n",
      "\n",
      "0.904 (+/-0.006) for {'alpha': 4.0, 'tol': 4.0}\n",
      "\n",
      "0.904 (+/-0.006) for {'alpha': 4.0, 'tol': 5.0}\n",
      "\n",
      "0.905 (+/-0.006) for {'alpha': 5.0, 'tol': 1.0}\n",
      "\n",
      "0.905 (+/-0.006) for {'alpha': 5.0, 'tol': 2.0}\n",
      "\n",
      "0.905 (+/-0.006) for {'alpha': 5.0, 'tol': 3.0}\n",
      "\n",
      "0.905 (+/-0.006) for {'alpha': 5.0, 'tol': 4.0}\n",
      "\n",
      "0.905 (+/-0.006) for {'alpha': 5.0, 'tol': 5.0}\n",
      "\n",
      "0.905 (+/-0.006) for {'alpha': 6.0, 'tol': 1.0}\n",
      "\n",
      "0.905 (+/-0.006) for {'alpha': 6.0, 'tol': 2.0}\n",
      "\n",
      "0.905 (+/-0.006) for {'alpha': 6.0, 'tol': 3.0}\n",
      "\n",
      "0.905 (+/-0.006) for {'alpha': 6.0, 'tol': 4.0}\n",
      "\n",
      "0.905 (+/-0.006) for {'alpha': 6.0, 'tol': 5.0}\n",
      "\n"
     ]
    }
   ],
   "source": [
    "\n",
    "\n",
    "for score in scores:\n",
    "    \n",
    "    print score\n",
    "    \n",
    "    clf = GridSearchCV(linear_model.Ridge( copy_X=True, fit_intercept=False, max_iter=None,\n",
    "      normalize=False,  random_state=0,solver='auto',\n",
    "                                   ), tuned_parameters, cv=5, scoring=score)\n",
    "    \n",
    "    \n",
    "\n",
    "    \n",
    "    \n",
    "    \n",
    "    clf.fit(X_train, y_train)\n",
    "\n",
    "\n",
    "    \n",
    "    \n",
    "    \n",
    "    \n",
    "    print(\"别！喝！咖！啡！了！最佳参数找到了亲！！：\")\n",
    "    print \"\"\n",
    "    #best_estimator_ returns the best estimator chosen by the search\n",
    "    print(clf.best_estimator_)\n",
    "    print \"\"\n",
    "    print(\"得分分别是:\")\n",
    "    print \"\"\n",
    "    #grid_scores_的返回值:\n",
    "    #    * a dict of parameter settings\n",
    "    #    * the mean score over the cross-validation folds \n",
    "    #    * the list of scores for each fold\n",
    "    for params, mean_score, scores in clf.grid_scores_:\n",
    "        print(\"%0.3f (+/-%0.03f) for %r\"\n",
    "              % (mean_score, scores.std() / 2, params))\n",
    "        print \"\"\n",
    "\n"
   ]
  },
  {
   "cell_type": "markdown",
   "metadata": {},
   "source": [
    "# 四、通过学习曲线，验证模型是否过拟合或者欠拟合"
   ]
  },
  {
   "cell_type": "markdown",
   "metadata": {
    "collapsed": false
   },
   "source": [
    "def plot_learning_curve(estimator, title, X, y, ylim=None, cv=None,\n",
    "                        n_jobs=1, train_sizes=np.linspace(.1, 1.0, 10)):\n",
    "    \n",
    "    plt.figure()\n",
    "    plt.title(title)\n",
    "    if ylim is not None:\n",
    "        plt.ylim(*ylim)\n",
    "    plt.xlabel(\"Training examples\")\n",
    "    plt.ylabel(\"Score\")\n",
    "    train_sizes, train_scores, test_scores = learning_curve(\n",
    "        estimator, X, y, cv=cv, n_jobs=n_jobs, train_sizes=train_sizes)\n",
    "    train_scores_mean = np.mean(train_scores, axis=1)\n",
    "    train_scores_std = np.std(train_scores, axis=1)\n",
    "    test_scores_mean = np.mean(test_scores, axis=1)\n",
    "    test_scores_std = np.std(test_scores, axis=1)\n",
    "    plt.grid()\n",
    "\n",
    "    plt.fill_between(train_sizes, train_scores_mean - train_scores_std,\n",
    "                     train_scores_mean + train_scores_std, alpha=0.1,\n",
    "                     color=\"r\")\n",
    "    plt.fill_between(train_sizes, test_scores_mean - test_scores_std,\n",
    "                     test_scores_mean + test_scores_std, alpha=0.1, color=\"g\")\n",
    "    plt.plot(train_sizes, train_scores_mean, 'o-', color=\"r\",\n",
    "             label=\"Training score\")\n",
    "    plt.plot(train_sizes, test_scores_mean, 'o-', color=\"g\",\n",
    "             label=\"Cross-validation score\")\n",
    "\n",
    "    plt.legend(loc=\"best\")\n",
    "    return plt\n",
    "\n",
    "\n",
    "\n",
    "cv = cross_validation.ShuffleSplit(df_train_data.shape[0], n_iter=10,test_size=0.2, random_state=0)\n",
    "#estimator = linear_model.Ridge( copy_X=True, fit_intercept=False, max_iter=None,\n",
    "#      normalize=False, random_state=0, solver='auto',alpha=2.0,tol=1.0)\n",
    "                                  \n",
    "#plot_learning_curve(estimator, title, X, y, (0.0, 1.01), cv=cv, n_jobs=4)\n",
    "\n",
    "\n",
    "estimator0 = linear_model.Ridge()\n",
    "estimator1 = GradientBoostingRegressor()\n",
    "estimator2 = ExtraTreesRegressor()\n",
    "estimator3 = RandomForestRegressor()\n",
    "estimator4 = XGBRegressor()\n",
    "\n",
    "\n",
    "title = \"Learning Curves (Ridge)\"\n",
    "plot_learning_curve(estimator0, title, X, y, (0.0, 1.01), cv=cv, n_jobs=4)\n",
    "title = \"Learning Curves (GradientBoostingRegressor)\"\n",
    "plot_learning_curve(estimator1, title, X, y, (0.0, 1.01), cv=cv, n_jobs=4)\n",
    "title = \"Learning Curves (ExtraTreesRegressor)\"\n",
    "plot_learning_curve(estimator2, title, X, y, (0.0, 1.01), cv=cv, n_jobs=4)\n",
    "title = \"Learning Curves (RandomForestRegressor)\"\n",
    "plot_learning_curve(estimator3, title, X, y, (0.0, 1.01), cv=cv, n_jobs=4)\n",
    "title = \"Learning Curves (XGBRegressor)\"\n",
    "plot_learning_curve(estimator4, title, X, y, (0.0, 1.01), cv=cv, n_jobs=4)\n",
    "\n",
    "plt.show()  \n",
    "\n",
    "\n",
    "plt.show()"
   ]
  },
  {
   "cell_type": "markdown",
   "metadata": {},
   "source": [
    "# 五、用得到的参数，训练测试集，得到结果并保存"
   ]
  },
  {
   "cell_type": "markdown",
   "metadata": {
    "collapsed": true
   },
   "source": [
    "df2 = pd.read_csv('test_modified.csv')\n",
    "\n",
    "\n",
    "df2_train = pd.DataFrame({\n",
    "                    'svc0':svc0.predict(df2),\n",
    "                    'svc1':svc1.predict(df2),\n",
    "                    'svc2':svc2.predict(df2),\n",
    "                    'svc3':svc3.predict(df2),\n",
    "                    'svc4':svc4.predict(df2),\n",
    "#                    'SalePrice':df_train_target,\n",
    "                   })\n"
   ]
  },
  {
   "cell_type": "code",
   "execution_count": null,
   "metadata": {
    "collapsed": false
   },
   "outputs": [],
   "source": []
  },
  {
   "cell_type": "markdown",
   "metadata": {
    "collapsed": false
   },
   "source": [
    "df2_train = df2_train.values\n",
    "\n",
    "result_last_var = svc_last.predict(df2_train)\n",
    "\n",
    "\n",
    "result_last = pd.DataFrame({'Id':df2['Id'],'SalePrice':result_last_var})"
   ]
  },
  {
   "cell_type": "code",
   "execution_count": 7,
   "metadata": {
    "collapsed": false
   },
   "outputs": [],
   "source": [
    "aa = linear_model.Ridge( copy_X=True, fit_intercept=False, max_iter=None,\n",
    "      normalize=False, random_state=0, solver='auto',alpha=6.0,tol=1.0\n",
    "                                   ).fit(df_train_data, df_train_target)\n"
   ]
  },
  {
   "cell_type": "code",
   "execution_count": 8,
   "metadata": {
    "collapsed": false
   },
   "outputs": [],
   "source": [
    "df2 = pd.read_csv('test_modified.csv')\n",
    "aa=aa.predict(df2)\n",
    "result_last = pd.DataFrame({'Id':df2['Id'],'SalePrice':aa})"
   ]
  },
  {
   "cell_type": "code",
   "execution_count": 9,
   "metadata": {
    "collapsed": false
   },
   "outputs": [],
   "source": [
    "result_last.to_csv('12-10.csv',index=False)"
   ]
  },
  {
   "cell_type": "code",
   "execution_count": 10,
   "metadata": {
    "collapsed": false
   },
   "outputs": [
    {
     "data": {
      "text/html": [
       "<div>\n",
       "<table border=\"1\" class=\"dataframe\">\n",
       "  <thead>\n",
       "    <tr style=\"text-align: right;\">\n",
       "      <th></th>\n",
       "      <th>Id</th>\n",
       "      <th>SalePrice</th>\n",
       "    </tr>\n",
       "  </thead>\n",
       "  <tbody>\n",
       "    <tr>\n",
       "      <th>count</th>\n",
       "      <td>1459.000000</td>\n",
       "      <td>1459.000000</td>\n",
       "    </tr>\n",
       "    <tr>\n",
       "      <th>mean</th>\n",
       "      <td>2190.000000</td>\n",
       "      <td>179003.718009</td>\n",
       "    </tr>\n",
       "    <tr>\n",
       "      <th>std</th>\n",
       "      <td>421.321334</td>\n",
       "      <td>77928.387039</td>\n",
       "    </tr>\n",
       "    <tr>\n",
       "      <th>min</th>\n",
       "      <td>1461.000000</td>\n",
       "      <td>33157.889167</td>\n",
       "    </tr>\n",
       "    <tr>\n",
       "      <th>25%</th>\n",
       "      <td>1825.500000</td>\n",
       "      <td>125400.213041</td>\n",
       "    </tr>\n",
       "    <tr>\n",
       "      <th>50%</th>\n",
       "      <td>2190.000000</td>\n",
       "      <td>160161.214955</td>\n",
       "    </tr>\n",
       "    <tr>\n",
       "      <th>75%</th>\n",
       "      <td>2554.500000</td>\n",
       "      <td>215151.737643</td>\n",
       "    </tr>\n",
       "    <tr>\n",
       "      <th>max</th>\n",
       "      <td>2919.000000</td>\n",
       "      <td>708106.432624</td>\n",
       "    </tr>\n",
       "  </tbody>\n",
       "</table>\n",
       "</div>"
      ],
      "text/plain": [
       "                Id      SalePrice\n",
       "count  1459.000000    1459.000000\n",
       "mean   2190.000000  179003.718009\n",
       "std     421.321334   77928.387039\n",
       "min    1461.000000   33157.889167\n",
       "25%    1825.500000  125400.213041\n",
       "50%    2190.000000  160161.214955\n",
       "75%    2554.500000  215151.737643\n",
       "max    2919.000000  708106.432624"
      ]
     },
     "execution_count": 10,
     "metadata": {},
     "output_type": "execute_result"
    }
   ],
   "source": [
    "result_last.describe()"
   ]
  },
  {
   "cell_type": "code",
   "execution_count": 11,
   "metadata": {
    "collapsed": false
   },
   "outputs": [
    {
     "name": "stdout",
     "output_type": "stream",
     "text": [
      "<class 'pandas.core.frame.DataFrame'>\n",
      "RangeIndex: 1459 entries, 0 to 1458\n",
      "Data columns (total 2 columns):\n",
      "Id           1459 non-null int64\n",
      "SalePrice    1459 non-null float64\n",
      "dtypes: float64(1), int64(1)\n",
      "memory usage: 22.9 KB\n"
     ]
    }
   ],
   "source": [
    "result_last.info()"
   ]
  },
  {
   "cell_type": "code",
   "execution_count": 12,
   "metadata": {
    "collapsed": false
   },
   "outputs": [
    {
     "data": {
      "text/plain": [
       "(array([  81.,  506.,  444.,  230.,   98.,   52.,   31.,   13.,    3.,\n",
       "           0.,    0.,    1.]),\n",
       " array([  33157.88916671,   89403.60112149,  145649.31307626,\n",
       "         201895.02503103,  258140.73698581,  314386.44894058,\n",
       "         370632.16089535,  426877.87285013,  483123.5848049 ,\n",
       "         539369.29675968,  595615.00871445,  651860.72066922,  708106.432624  ]),\n",
       " <a list of 12 Patch objects>)"
      ]
     },
     "execution_count": 12,
     "metadata": {},
     "output_type": "execute_result"
    },
    {
     "data": {
      "image/png": "[encoded data removed]",
      "text/plain": [
       "<matplotlib.figure.Figure at 0x116635650>"
      ]
     },
     "metadata": {},
     "output_type": "display_data"
    }
   ],
   "source": [
    "plt.hist(result_last['SalePrice'], bins=12, color=sns.desaturate(\"indianred\", .8), alpha=.4)"
   ]
  },
  {
   "cell_type": "code",
   "execution_count": 13,
   "metadata": {
    "collapsed": true
   },
   "outputs": [],
   "source": [
    "#ensemble函数\n",
    "class Ensemble(object):\n",
    "    def __init__(self, n_folds, stacker, base_models):\n",
    "        self.n_folds = n_folds\n",
    "        self.stacker = stacker\n",
    "        self.base_models = base_models\n",
    "\n",
    "    def fit_predict(self, X, y, T):\n",
    "        X = np.array(X)\n",
    "        y = np.array(y)\n",
    "        T = np.array(T)\n",
    "\n",
    "        folds = list(KFold(len(y), n_folds=self.n_folds, shuffle=True, random_state=2016))\n",
    "\n",
    "        S_train = np.zeros((X.shape[0], len(self.base_models)))\n",
    "        S_test = np.zeros((T.shape[0], len(self.base_models)))\n",
    "\n",
    "        for i, clf in enumerate(self.base_models):\n",
    "            S_test_i = np.zeros((T.shape[0], len(folds)))\n",
    "\n",
    "            for j, (train_idx, test_idx) in enumerate(folds):\n",
    "                X_train = X[train_idx]\n",
    "                y_train = y[train_idx]\n",
    "                X_holdout = X[test_idx]\n",
    "                # y_holdout = y[test_idx]\n",
    "                clf.fit(X_train, y_train)\n",
    "                y_pred = clf.predict(X_holdout)[:]\n",
    "                S_train[test_idx, i] = y_pred\n",
    "                S_test_i[:, j] = clf.predict(T)[:]\n",
    "\n",
    "            S_test[:, i] = S_test_i.mean(1)\n",
    "\n",
    "        self.stacker.fit(S_train, y)\n",
    "        y_pred = self.stacker.predict(S_test)[:]\n",
    "        return y_pred"
   ]
  },
  {
   "cell_type": "code",
   "execution_count": null,
   "metadata": {
    "collapsed": false
   },
   "outputs": [],
   "source": []
  }
 ],
 "metadata": {
  "anaconda-cloud": {},
  "kernelspec": {
   "display_name": "Python [conda root]",
   "language": "python",
   "name": "conda-root-py"
  },
  "language_info": {
   "codemirror_mode": {
    "name": "ipython",
    "version": 2
   },
   "file_extension": ".py",
   "mimetype": "text/x-python",
   "name": "python",
   "nbconvert_exporter": "python",
   "pygments_lexer": "ipython2",
   "version": "2.7.12"
  }
 },
 "nbformat": 4,
 "nbformat_minor": 1
}
