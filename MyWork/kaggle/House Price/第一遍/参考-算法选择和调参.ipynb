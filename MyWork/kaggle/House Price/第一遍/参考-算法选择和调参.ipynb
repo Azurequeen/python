{
 "cells": [
  {
   "cell_type": "code",
   "execution_count": 1,
   "metadata": {
    "collapsed": false
   },
   "outputs": [
    {
     "name": "stderr",
     "output_type": "stream",
     "text": [
      "/Users/mahui/anaconda/lib/python2.7/site-packages/sklearn/cross_validation.py:44: DeprecationWarning: This module was deprecated in version 0.18 in favor of the model_selection module into which all the refactored classes and functions are moved. Also note that the interface of the new CV iterators are different from that of this module. This module will be removed in 0.20.\n",
      "  \"This module will be removed in 0.20.\", DeprecationWarning)\n",
      "/Users/mahui/anaconda/lib/python2.7/site-packages/sklearn/grid_search.py:43: DeprecationWarning: This module was deprecated in version 0.18 in favor of the model_selection module into which all the refactored classes and functions are moved. This module will be removed in 0.20.\n",
      "  DeprecationWarning)\n",
      "/Users/mahui/anaconda/lib/python2.7/site-packages/sklearn/learning_curve.py:23: DeprecationWarning: This module was deprecated in version 0.18 in favor of the model_selection module into which all the functions are moved. This module will be removed in 0.20\n",
      "  DeprecationWarning)\n"
     ]
    }
   ],
   "source": [
    "import pandas as pd\n",
    "import numpy as np\n",
    "import xgboost as xgb\n",
    "from xgboost.sklearn import XGBRegressor\n",
    "from sklearn import cross_validation, metrics\n",
    "from sklearn.grid_search import GridSearchCV\n",
    "from time import time\n",
    "from sklearn.metrics import f1_score\n",
    "from sklearn import linear_model\n",
    "from sklearn import cross_validation\n",
    "from sklearn import svm\n",
    "from sklearn.ensemble import RandomForestRegressor\n",
    "from sklearn.learning_curve import learning_curve\n",
    "from sklearn.grid_search import GridSearchCV\n",
    "from sklearn.metrics import explained_variance_score\n",
    "from sklearn.neural_network import MLPRegressor\n",
    "from sklearn.ensemble import GradientBoostingRegressor\n",
    "from sklearn.ensemble import ExtraTreesRegressor\n",
    "import matplotlib.pylab as plt\n",
    "import seaborn as sns\n",
    "from sklearn.linear_model import Lasso\n",
    "\n",
    "\n",
    "\n",
    "%matplotlib inline\n",
    "from matplotlib.pylab import rcParams\n",
    "rcParams['figure.figsize'] = 12, 4"
   ]
  },
  {
   "cell_type": "markdown",
   "metadata": {},
   "source": [
    "# 一、读取训练集和测试集，确定训练（预测）目标"
   ]
  },
  {
   "cell_type": "code",
   "execution_count": 2,
   "metadata": {
    "collapsed": false
   },
   "outputs": [],
   "source": [
    "train = pd.read_csv('train_modified_12-10.csv')\n",
    "#test = pd.read_csv('test_modified.csv')\n",
    "\n",
    "\n",
    "#损失函数\n",
    "from sklearn.metrics import mean_squared_error\n",
    "def rmse(y_true, y_pred):\n",
    "    return np.sqrt(mean_squared_error(y_true, y_pred))"
   ]
  },
  {
   "cell_type": "code",
   "execution_count": 3,
   "metadata": {
    "collapsed": false
   },
   "outputs": [
    {
     "name": "stdout",
     "output_type": "stream",
     "text": [
      "df_train_data shape is  (1422, 425)\n",
      "df_train_target shape is  (1422,)\n"
     ]
    }
   ],
   "source": [
    "#df_train_target = train['SalePrice']\n",
    "#df_train_data = train.drop(['SalePrice'],axis = 1)\n",
    "#print 'df_train_data shape is ', df_train_data.shape\n",
    "#print 'df_train_target shape is ', df_train_target.shape\n",
    "#print 'df_train_target shape is ', test.shape\n",
    "\n",
    "\n",
    "df_train_target = train['SalePrice'].values\n",
    "df_train_data = train.drop(['SalePrice'],axis = 1).values\n",
    "print 'df_train_data shape is ', df_train_data.shape\n",
    "print 'df_train_target shape is ', df_train_target.shape"
   ]
  },
  {
   "cell_type": "markdown",
   "metadata": {},
   "source": [
    "target='SalePrice'\n",
    "IDcol = 'ID'"
   ]
  },
  {
   "cell_type": "markdown",
   "metadata": {
    "collapsed": true
   },
   "source": [
    "# 二、切分训练集，初步尝试各种回归模型"
   ]
  },
  {
   "cell_type": "code",
   "execution_count": null,
   "metadata": {
    "collapsed": true
   },
   "outputs": [],
   "source": []
  },
  {
   "cell_type": "code",
   "execution_count": 4,
   "metadata": {
    "collapsed": false
   },
   "outputs": [
    {
     "name": "stdout",
     "output_type": "stream",
     "text": [
      "Ridge\n",
      "('Ridge score on training set: ', 0.14770071494266393)\n",
      "('Ridge score on training set: ', 0.11394137874815531)\n",
      "('Ridge score on training set: ', 0.12225659584772566)\n",
      "Lasso\n",
      "('Lasso score on training set: ', 0.14642095578282718)\n",
      "('Lasso score on training set: ', 0.10163492697985527)\n",
      "('Lasso score on training set: ', 0.11684294195966873)\n",
      "GradientBoostingRegressor\n",
      "('GradientBoostingRegressor score on training set: ', 0.14739500295495031)\n",
      "('GradientBoostingRegressor score on training set: ', 0.11000377825881166)\n",
      "('GradientBoostingRegressor score on training set: ', 0.12544236018104729)\n",
      "ExtraTreesRegressor\n",
      "('ExtraTreesRegressor score on training set: ', 0.1624739549878193)\n",
      "('ExtraTreesRegressor score on training set: ', 0.13913636123282547)\n",
      "('ExtraTreesRegressor score on training set: ', 0.13435699646831509)\n",
      "随机森林回归/Random Forest(n_estimators = 100)\n",
      "('RF score on training set: ', 0.16029402869627624)\n",
      "('RF score on training set: ', 0.1163169800674284)\n",
      "('RF score on training set: ', 0.13515185468472757)\n",
      "XGBRegressor\n",
      "('XGBoost score on training set: ', 0.14120458523160967)\n",
      "('XGBoost score on training set: ', 0.10413063409759916)\n",
      "('XGBoost score on training set: ', 0.11418363355471012)\n"
     ]
    }
   ],
   "source": [
    "# 总得切分一下数据咯（训练集和测试集）\n",
    "cv = cross_validation.ShuffleSplit(len(df_train_data), n_iter=3, test_size=0.2,\n",
    "    random_state=0)\n",
    "\n",
    "\n",
    "\n",
    "# 各种模型来一圈\n",
    "\n",
    "print \"Ridge\"    \n",
    "for train, test in cv:    \n",
    "    svc0 = linear_model.Ridge().fit(df_train_data[train], df_train_target[train])\n",
    "    \n",
    "    print(\"Ridge score on training set: \", rmse(svc0.predict(df_train_data[test]), df_train_target[test]))\n",
    "\n",
    "print \"Lasso\"    \n",
    "for train, test in cv:    \n",
    "    svc1 = Lasso(alpha=0.00099, max_iter=50000).fit(df_train_data[train], df_train_target[train])\n",
    "    \n",
    "    print(\"Lasso score on training set: \", rmse(svc1.predict(df_train_data[test]), df_train_target[test]))\n",
    "\n",
    "\n",
    "    \n",
    "    \n",
    "print \"GradientBoostingRegressor\"\n",
    "for train, test in cv:\n",
    "    \n",
    "    svc2 = GradientBoostingRegressor().fit(df_train_data[train], df_train_target[train])\n",
    "    print(\"GradientBoostingRegressor score on training set: \", rmse(svc2.predict(df_train_data[test]), df_train_target[test]))\n",
    "\n",
    "print \"ExtraTreesRegressor\"\n",
    "for train, test in cv:\n",
    "    \n",
    "    svc3 = ExtraTreesRegressor().fit(df_train_data[train], df_train_target[train])\n",
    "    print(\"ExtraTreesRegressor score on training set: \", rmse(svc3.predict(df_train_data[test]), df_train_target[test]))\n",
    "        \n",
    "    \n",
    "print \"随机森林回归/Random Forest(n_estimators = 100)\"    \n",
    "for train, test in cv:    \n",
    "    svc4 = RandomForestRegressor(n_estimators = 100).fit(df_train_data[train], df_train_target[train])\n",
    "    print(\"RF score on training set: \", rmse(svc4.predict(df_train_data[test]), df_train_target[test]))\n",
    "\n",
    "print \"XGBRegressor\"    \n",
    "for train, test in cv:    \n",
    "    svc5 =  XGBRegressor(colsample_bytree=0.2,\n",
    "                 gamma=0.0,\n",
    "                 learning_rate=0.01,\n",
    "                 max_depth=4,\n",
    "                 min_child_weight=1.5,\n",
    "                 n_estimators=7200,                                                                 \n",
    "#                 reg_alpha=0.9,\n",
    "#                 reg_lambda=0.6,\n",
    "                 subsample=0.2,\n",
    "                 seed=42,\n",
    "                 silent=1).fit(df_train_data[train], df_train_target[train])\n",
    "    print(\"XGBoost score on training set: \", rmse(svc5.predict(df_train_data[test]), df_train_target[test]))"
   ]
  },
  {
   "cell_type": "code",
   "execution_count": null,
   "metadata": {
    "collapsed": false
   },
   "outputs": [],
   "source": []
  },
  {
   "cell_type": "code",
   "execution_count": 5,
   "metadata": {
    "collapsed": false
   },
   "outputs": [
    {
     "name": "stdout",
     "output_type": "stream",
     "text": [
      "('RF score on training set: ', 0.054925248128345872)\n"
     ]
    }
   ],
   "source": [
    "\n",
    "\n",
    "\n",
    "df1_train_data = pd.DataFrame({\n",
    "#                    'svc0':svc0.predict(df_train_data),\n",
    "                    'svc1':svc1.predict(df_train_data),\n",
    " #                   'svc2':svc2.predict(df_train_data),\n",
    "#                    'svc3':svc3.predict(df_train_data),\n",
    "#                    'svc4':svc4.predict(df_train_data),\n",
    "                    'svc5':svc5.predict(df_train_data),\n",
    "#                    'SalePrice':df_train_target,\n",
    "                   })\n",
    "    \n",
    "    \n",
    "svc_last = linear_model.Ridge().fit(df1_train_data, df_train_target)\n",
    "print(\"RF score on training set: \", rmse(svc_last.predict(df1_train_data), df_train_target))"
   ]
  },
  {
   "cell_type": "code",
   "execution_count": null,
   "metadata": {
    "collapsed": false
   },
   "outputs": [],
   "source": [
    "\n"
   ]
  },
  {
   "cell_type": "code",
   "execution_count": 6,
   "metadata": {
    "collapsed": false
   },
   "outputs": [],
   "source": [
    "X = df_train_data\n",
    "y = df_train_target\n",
    "test = pd.read_csv('test_modified_12-10.csv')\n",
    "\n",
    "\n",
    "svc0 = linear_model.Ridge().fit(X, y)\n",
    "svc1 = Lasso(alpha=0.00099, max_iter=50000).fit(X, y)\n",
    "svc2 = GradientBoostingRegressor().fit(X, y)\n",
    "svc3 = ExtraTreesRegressor().fit(X, y)\n",
    "svc4 = RandomForestRegressor(n_estimators = 100).fit(X, y)\n",
    "svc5 =  XGBRegressor(colsample_bytree=0.2,\n",
    "                 gamma=0.0,\n",
    "                 learning_rate=0.01,\n",
    "                 max_depth=4,\n",
    "                 min_child_weight=1.5,\n",
    "                 n_estimators=7200,                                                                 \n",
    "#                 reg_alpha=0.9,\n",
    "#                 reg_lambda=0.6,\n",
    "                 subsample=0.2,\n",
    "                 seed=42,\n",
    "                 silent=1).fit(X, y)\n",
    "var = pd.DataFrame({\n",
    "#                    'svc0':svc0.predict(X),\n",
    "                    'svc1':svc1.predict(X),\n",
    "#                    'svc2':svc2.predict(X),\n",
    "#                    'svc3':svc3.predict(X),\n",
    "#                    'svc4':svc4.predict(X),\n",
    "                    'svc5':svc5.predict(X),\n",
    "#                    'SalePrice':df_train_target,\n",
    "                   })\n",
    "    \n",
    "    \n",
    "linear_model.Ridge().fit(var, y)\n",
    "\n",
    "\n",
    "var2 = pd.DataFrame({\n",
    "#                    'svc0':svc0.predict(test),\n",
    "                    'svc1':svc1.predict(test),\n",
    "#                    'svc2':svc2.predict(test),\n",
    "#                    'svc3':svc3.predict(test),\n",
    " #                   'svc4':svc4.predict(test),\n",
    "                   'svc5':svc5.predict(test),\n",
    "#                    'SalePrice':df_train_target,\n",
    "                   })\n",
    "    \n",
    "\n",
    "\n",
    "aa = svc_last.predict(var2)\n",
    "result_last = pd.DataFrame({'Id':test['Id'],'SalePrice':np.exp(aa)})"
   ]
  },
  {
   "cell_type": "code",
   "execution_count": 7,
   "metadata": {
    "collapsed": false
   },
   "outputs": [],
   "source": [
    "ss = Lasso(alpha=0.00099, max_iter=50000).fit(X, y)\n",
    "aa = ss.predict(test)\n",
    "result_last = pd.DataFrame({'Id':test['Id'],'SalePrice':np.exp(aa)})"
   ]
  },
  {
   "cell_type": "code",
   "execution_count": 8,
   "metadata": {
    "collapsed": false
   },
   "outputs": [
    {
     "data": {
      "text/html": [
       "<div>\n",
       "<table border=\"1\" class=\"dataframe\">\n",
       "  <thead>\n",
       "    <tr style=\"text-align: right;\">\n",
       "      <th></th>\n",
       "      <th>Id</th>\n",
       "      <th>SalePrice</th>\n",
       "    </tr>\n",
       "  </thead>\n",
       "  <tbody>\n",
       "    <tr>\n",
       "      <th>count</th>\n",
       "      <td>1459.000000</td>\n",
       "      <td>1459.000000</td>\n",
       "    </tr>\n",
       "    <tr>\n",
       "      <th>mean</th>\n",
       "      <td>2190.000000</td>\n",
       "      <td>175647.739208</td>\n",
       "    </tr>\n",
       "    <tr>\n",
       "      <th>std</th>\n",
       "      <td>421.321334</td>\n",
       "      <td>75005.373077</td>\n",
       "    </tr>\n",
       "    <tr>\n",
       "      <th>min</th>\n",
       "      <td>1461.000000</td>\n",
       "      <td>40054.746978</td>\n",
       "    </tr>\n",
       "    <tr>\n",
       "      <th>25%</th>\n",
       "      <td>1825.500000</td>\n",
       "      <td>125741.531353</td>\n",
       "    </tr>\n",
       "    <tr>\n",
       "      <th>50%</th>\n",
       "      <td>2190.000000</td>\n",
       "      <td>155235.931175</td>\n",
       "    </tr>\n",
       "    <tr>\n",
       "      <th>75%</th>\n",
       "      <td>2554.500000</td>\n",
       "      <td>207280.682512</td>\n",
       "    </tr>\n",
       "    <tr>\n",
       "      <th>max</th>\n",
       "      <td>2919.000000</td>\n",
       "      <td>557638.930770</td>\n",
       "    </tr>\n",
       "  </tbody>\n",
       "</table>\n",
       "</div>"
      ],
      "text/plain": [
       "                Id      SalePrice\n",
       "count  1459.000000    1459.000000\n",
       "mean   2190.000000  175647.739208\n",
       "std     421.321334   75005.373077\n",
       "min    1461.000000   40054.746978\n",
       "25%    1825.500000  125741.531353\n",
       "50%    2190.000000  155235.931175\n",
       "75%    2554.500000  207280.682512\n",
       "max    2919.000000  557638.930770"
      ]
     },
     "execution_count": 8,
     "metadata": {},
     "output_type": "execute_result"
    }
   ],
   "source": [
    "var2['mean'] = var2.mean(axis=1)\n",
    "\n",
    "bb = np.exp(var2['mean'])\n",
    "result_last =pd.DataFrame()\n",
    "result_last = pd.DataFrame({'Id':test['Id'],'SalePrice':bb})\n",
    "\n",
    "result_last.describe()"
   ]
  },
  {
   "cell_type": "markdown",
   "metadata": {
    "collapsed": false
   },
   "source": [
    "df2_train = df2_train.values\n",
    "\n",
    "result_last_var = svc_last.predict(df2_train)\n",
    "\n",
    "\n",
    "result_last = pd.DataFrame({'Id':df2['Id'],'SalePrice':result_last_var})"
   ]
  },
  {
   "cell_type": "markdown",
   "metadata": {
    "collapsed": false
   },
   "source": [
    "aa = svc_last()\n"
   ]
  },
  {
   "cell_type": "markdown",
   "metadata": {
    "collapsed": false
   },
   "source": [
    "df2 = pd.read_csv('test_modified_12-10.csv')\n",
    "aa=solo(X, y,df2)\n",
    "result_last = pd.DataFrame({'Id':df2['Id'],'SalePrice':aa})"
   ]
  },
  {
   "cell_type": "code",
   "execution_count": 9,
   "metadata": {
    "collapsed": false
   },
   "outputs": [],
   "source": [
    "result_last.to_csv('12-10-3.csv',index=False)"
   ]
  },
  {
   "cell_type": "code",
   "execution_count": 10,
   "metadata": {
    "collapsed": false
   },
   "outputs": [
    {
     "data": {
      "text/html": [
       "<div>\n",
       "<table border=\"1\" class=\"dataframe\">\n",
       "  <thead>\n",
       "    <tr style=\"text-align: right;\">\n",
       "      <th></th>\n",
       "      <th>Id</th>\n",
       "      <th>SalePrice</th>\n",
       "    </tr>\n",
       "  </thead>\n",
       "  <tbody>\n",
       "    <tr>\n",
       "      <th>count</th>\n",
       "      <td>1459.000000</td>\n",
       "      <td>1459.000000</td>\n",
       "    </tr>\n",
       "    <tr>\n",
       "      <th>mean</th>\n",
       "      <td>2190.000000</td>\n",
       "      <td>175647.739208</td>\n",
       "    </tr>\n",
       "    <tr>\n",
       "      <th>std</th>\n",
       "      <td>421.321334</td>\n",
       "      <td>75005.373077</td>\n",
       "    </tr>\n",
       "    <tr>\n",
       "      <th>min</th>\n",
       "      <td>1461.000000</td>\n",
       "      <td>40054.746978</td>\n",
       "    </tr>\n",
       "    <tr>\n",
       "      <th>25%</th>\n",
       "      <td>1825.500000</td>\n",
       "      <td>125741.531353</td>\n",
       "    </tr>\n",
       "    <tr>\n",
       "      <th>50%</th>\n",
       "      <td>2190.000000</td>\n",
       "      <td>155235.931175</td>\n",
       "    </tr>\n",
       "    <tr>\n",
       "      <th>75%</th>\n",
       "      <td>2554.500000</td>\n",
       "      <td>207280.682512</td>\n",
       "    </tr>\n",
       "    <tr>\n",
       "      <th>max</th>\n",
       "      <td>2919.000000</td>\n",
       "      <td>557638.930770</td>\n",
       "    </tr>\n",
       "  </tbody>\n",
       "</table>\n",
       "</div>"
      ],
      "text/plain": [
       "                Id      SalePrice\n",
       "count  1459.000000    1459.000000\n",
       "mean   2190.000000  175647.739208\n",
       "std     421.321334   75005.373077\n",
       "min    1461.000000   40054.746978\n",
       "25%    1825.500000  125741.531353\n",
       "50%    2190.000000  155235.931175\n",
       "75%    2554.500000  207280.682512\n",
       "max    2919.000000  557638.930770"
      ]
     },
     "execution_count": 10,
     "metadata": {},
     "output_type": "execute_result"
    }
   ],
   "source": [
    "#result_last = pd.read_csv('output.csv')\n",
    "\n",
    "result_last.describe()"
   ]
  },
  {
   "cell_type": "code",
   "execution_count": 11,
   "metadata": {
    "collapsed": false
   },
   "outputs": [
    {
     "name": "stdout",
     "output_type": "stream",
     "text": [
      "<class 'pandas.core.frame.DataFrame'>\n",
      "RangeIndex: 1459 entries, 0 to 1458\n",
      "Data columns (total 2 columns):\n",
      "Id           1459 non-null int64\n",
      "SalePrice    1459 non-null float64\n",
      "dtypes: float64(1), int64(1)\n",
      "memory usage: 22.9 KB\n"
     ]
    }
   ],
   "source": [
    "result_last.info()"
   ]
  },
  {
   "cell_type": "code",
   "execution_count": 12,
   "metadata": {
    "collapsed": false
   },
   "outputs": [
    {
     "data": {
      "text/plain": [
       "(array([  58.,  315.,  452.,  303.,  145.,   74.,   52.,   25.,   19.,\n",
       "          12.,    3.,    1.]),\n",
       " array([  40054.74697784,   83186.76229381,  126318.77760979,\n",
       "         169450.79292577,  212582.80824174,  255714.82355772,\n",
       "         298846.83887369,  341978.85418967,  385110.86950564,\n",
       "         428242.88482162,  471374.90013759,  514506.91545357,\n",
       "         557638.93076954]),\n",
       " <a list of 12 Patch objects>)"
      ]
     },
     "execution_count": 12,
     "metadata": {},
     "output_type": "execute_result"
    },
    {
     "data": {
      "image/png": "[encoded data removed]",
      "text/plain": [
       "<matplotlib.figure.Figure at 0x104694150>"
      ]
     },
     "metadata": {},
     "output_type": "display_data"
    }
   ],
   "source": [
    "plt.hist(result_last['SalePrice'], bins=12, color=sns.desaturate(\"indianred\", .8), alpha=.4)"
   ]
  },
  {
   "cell_type": "code",
   "execution_count": 13,
   "metadata": {
    "collapsed": true
   },
   "outputs": [],
   "source": [
    "#ensemble函数\n",
    "class Ensemble(object):\n",
    "    def __init__(self, n_folds, stacker, base_models):\n",
    "        self.n_folds = n_folds\n",
    "        self.stacker = stacker\n",
    "        self.base_models = base_models\n",
    "\n",
    "    def fit_predict(self, X, y, T):\n",
    "        X = np.array(X)\n",
    "        y = np.array(y)\n",
    "        T = np.array(T)\n",
    "\n",
    "        folds = list(KFold(len(y), n_folds=self.n_folds, shuffle=True, random_state=2016))\n",
    "\n",
    "        S_train = np.zeros((X.shape[0], len(self.base_models)))\n",
    "        S_test = np.zeros((T.shape[0], len(self.base_models)))\n",
    "\n",
    "        for i, clf in enumerate(self.base_models):\n",
    "            S_test_i = np.zeros((T.shape[0], len(folds)))\n",
    "\n",
    "            for j, (train_idx, test_idx) in enumerate(folds):\n",
    "                X_train = X[train_idx]\n",
    "                y_train = y[train_idx]\n",
    "                X_holdout = X[test_idx]\n",
    "                # y_holdout = y[test_idx]\n",
    "                clf.fit(X_train, y_train)\n",
    "                y_pred = clf.predict(X_holdout)[:]\n",
    "                S_train[test_idx, i] = y_pred\n",
    "                S_test_i[:, j] = clf.predict(T)[:]\n",
    "\n",
    "            S_test[:, i] = S_test_i.mean(1)\n",
    "\n",
    "        self.stacker.fit(S_train, y)\n",
    "        y_pred = self.stacker.predict(S_test)[:]\n",
    "        return y_pred"
   ]
  },
  {
   "cell_type": "code",
   "execution_count": null,
   "metadata": {
    "collapsed": false
   },
   "outputs": [],
   "source": []
  }
 ],
 "metadata": {
  "anaconda-cloud": {},
  "kernelspec": {
   "display_name": "Python [conda root]",
   "language": "python",
   "name": "conda-root-py"
  },
  "language_info": {
   "codemirror_mode": {
    "name": "ipython",
    "version": 2
   },
   "file_extension": ".py",
   "mimetype": "text/x-python",
   "name": "python",
   "nbconvert_exporter": "python",
   "pygments_lexer": "ipython2",
   "version": "2.7.12"
  }
 },
 "nbformat": 4,
 "nbformat_minor": 1
}
