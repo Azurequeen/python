{
 "cells": [
  {
   "cell_type": "code",
   "execution_count": 1,
   "metadata": {
    "collapsed": false
   },
   "outputs": [
    {
     "name": "stderr",
     "output_type": "stream",
     "text": [
      "/Users/mahui/anaconda/lib/python2.7/site-packages/sklearn/cross_validation.py:44: DeprecationWarning: This module was deprecated in version 0.18 in favor of the model_selection module into which all the refactored classes and functions are moved. Also note that the interface of the new CV iterators are different from that of this module. This module will be removed in 0.20.\n",
      "  \"This module will be removed in 0.20.\", DeprecationWarning)\n",
      "/Users/mahui/anaconda/lib/python2.7/site-packages/sklearn/grid_search.py:43: DeprecationWarning: This module was deprecated in version 0.18 in favor of the model_selection module into which all the refactored classes and functions are moved. This module will be removed in 0.20.\n",
      "  DeprecationWarning)\n",
      "/Users/mahui/anaconda/lib/python2.7/site-packages/sklearn/lda.py:6: DeprecationWarning: lda.LDA has been moved to discriminant_analysis.LinearDiscriminantAnalysis in 0.17 and will be removed in 0.19\n",
      "  \"in 0.17 and will be removed in 0.19\", DeprecationWarning)\n",
      "/Users/mahui/anaconda/lib/python2.7/site-packages/sklearn/learning_curve.py:23: DeprecationWarning: This module was deprecated in version 0.18 in favor of the model_selection module into which all the functions are moved. This module will be removed in 0.20\n",
      "  DeprecationWarning)\n",
      "/Users/mahui/anaconda/lib/python2.7/site-packages/sklearn/qda.py:6: DeprecationWarning: qda.QDA has been moved to discriminant_analysis.QuadraticDiscriminantAnalysis in 0.17 and will be removed in 0.19.\n",
      "  \"in 0.17 and will be removed in 0.19.\", DeprecationWarning)\n"
     ]
    }
   ],
   "source": [
    "import tushare as ts\n",
    "import pandas as pd\n",
    "import numpy as np\n",
    "import matplotlib.pyplot as plt\n",
    "from sklearn import *\n",
    "import talib\n",
    "import seaborn as sns\n",
    "\n",
    "from solo.getdata import *\n",
    "\n",
    "%matplotlib inline\n",
    "%load_ext autoreload\n",
    "%autoreload 2"
   ]
  },
  {
   "cell_type": "code",
   "execution_count": 2,
   "metadata": {
    "collapsed": true
   },
   "outputs": [],
   "source": [
    "# As usual, a bit of setup\n",
    "\n",
    "\n",
    "from cs231n.classifiers.cnn import *\n",
    "from cs231n.data_utils import get_CIFAR10_data\n",
    "from cs231n.gradient_check import eval_numerical_gradient_array, eval_numerical_gradient\n",
    "from cs231n.layers import *\n",
    "from cs231n.fast_layers import *\n",
    "from cs231n.solver import Solver\n",
    "from cs231n.convnet import *\n",
    "\n",
    "\n",
    "plt.rcParams['figure.figsize'] = (10.0, 8.0) # set default size of plots\n",
    "plt.rcParams['image.interpolation'] = 'nearest'\n",
    "plt.rcParams['image.cmap'] = 'gray'\n",
    "\n",
    "\n",
    "def rel_error(x, y):\n",
    "  \"\"\" returns relative error \"\"\"\n",
    "  return np.max(np.abs(x - y) / (np.maximum(1e-8, np.abs(x) + np.abs(y))))"
   ]
  },
  {
   "cell_type": "markdown",
   "metadata": {},
   "source": [
    "# 一、获取数据\n",
    "## 参数说明：\n",
    "- 'name'：名称\n",
    "- 'start'：开始时间\n",
    "- 'data_type'：数据处理方式，'normal'：原始数据, 'carg'：复合增长率, 'grow'：增长速度\n",
    "- 'ktype' ：时间周期"
   ]
  },
  {
   "cell_type": "code",
   "execution_count": 3,
   "metadata": {
    "collapsed": false
   },
   "outputs": [
    {
     "name": "stdout",
     "output_type": "stream",
     "text": [
      "获得原始数据：\t 399300\n",
      "起始时间：\t 2005-04-08\n",
      "结束时间：\t 2017-03-07\n",
      "数据个数：\t 2895\n",
      "\n",
      "      open    close     high     low      volume\n",
      "0   984.66  1003.45  1003.70  979.53  14762500.0\n",
      "1  1003.88   995.42  1008.73  992.77  15936100.0\n",
      "2   993.71   978.70   993.71  978.20  10226200.0\n",
      "3   987.95  1000.90  1006.50  987.95  16071700.0\n",
      "4  1004.64   986.97  1006.42  985.58  12945700.0\n",
      "\n",
      "查看最新数据：\n",
      "\n",
      "                open      high     close       low    volume\n",
      "2005-04-11  0.019519  0.005011 -0.008002  0.013517  0.079499\n",
      "2005-04-12 -0.010131 -0.014890 -0.016797 -0.014676 -0.358300\n",
      "2005-04-13 -0.005796  0.012871  0.022683  0.009967  0.571620\n",
      "2005-04-14  0.016894 -0.000079 -0.013917 -0.002399 -0.194503\n",
      "2005-04-15 -0.021928 -0.023658 -0.013060 -0.013850 -0.195949\n"
     ]
    }
   ],
   "source": [
    "new_data = data_recieve(name='399300',start = '2004-10-01',data_type = 'carg',ktype='D')"
   ]
  },
  {
   "cell_type": "markdown",
   "metadata": {},
   "source": [
    "\n",
    "\n",
    "# 二、建立特征\n",
    "## 参数说明：\n",
    "- 'data'：数据集\n",
    "- 'time'：多个时间周期\n",
    "- 'normal'：是否对数据进行归一化\n",
    "- 'pattern' ：是否加入k模式识别\n",
    "- 'period' ：预测的天数，默认为1，即用当天的特征预测第二天的值，该值为累加，如设为n，即用n天前的特征预测到今日的累积变化值"
   ]
  },
  {
   "cell_type": "code",
   "execution_count": 4,
   "metadata": {
    "collapsed": false
   },
   "outputs": [],
   "source": [
    "ml_datas = data_indicator(data=new_data,time=[5,10,20,30,60],normal=True,period=1)"
   ]
  },
  {
   "cell_type": "markdown",
   "metadata": {},
   "source": [
    "\n",
    "# 三、设定X和Y"
   ]
  },
  {
   "cell_type": "code",
   "execution_count": 5,
   "metadata": {
    "collapsed": false,
    "scrolled": true
   },
   "outputs": [
    {
     "name": "stdout",
     "output_type": "stream",
     "text": [
      "[[-9.24, -2.00781], (-2.00781, -1.0489], (-1.0489, -0.554], (-0.554, -0.182], (-0.182, 0.0952], (0.0952, 0.379], (0.379, 0.749], (0.749, 1.33], (1.33, 2.205], (2.205, 9.342]]\n",
      "Categories (10, object): [[-9.24, -2.00781] < (-2.00781, -1.0489] < (-1.0489, -0.554] < (-0.554, -0.182] ... (0.379, 0.749] < (0.749, 1.33] < (1.33, 2.205] < (2.205, 9.342]]\n"
     ]
    }
   ],
   "source": [
    "ml_datas['Price'] = pd.qcut(ml_datas['target'],10) #将target进行10等分\n",
    "\n",
    "#y设定为符合增长率求整\n",
    "X_ori = ml_datas.drop(['target','Price'],axis=1).values\n",
    "y_ori = ml_datas['Price'].values\n",
    "#y_ori = y_ori.reshape([y_ori.shape[0],1])\n",
    "y_ori = pd.get_dummies(y_ori)\n",
    "y_columns = y_ori.columns.values\n",
    "print(y_columns)\n",
    "y_ori = y_ori.values"
   ]
  },
  {
   "cell_type": "code",
   "execution_count": 6,
   "metadata": {
    "collapsed": false
   },
   "outputs": [
    {
     "data": {
      "text/plain": [
       "((2539, 784), (2539, 10))"
      ]
     },
     "execution_count": 6,
     "metadata": {},
     "output_type": "execute_result"
    }
   ],
   "source": [
    "X_ori.shape,y_ori.shape"
   ]
  },
  {
   "cell_type": "markdown",
   "metadata": {
    "collapsed": false
   },
   "source": [
    "# 四、转换格式\n",
    "## 将原2维数组(N,D)转换成（N,D,H,W）的格式"
   ]
  },
  {
   "cell_type": "code",
   "execution_count": 7,
   "metadata": {
    "collapsed": false
   },
   "outputs": [
    {
     "data": {
      "text/plain": [
       "((2511, 28, 28, 28), (2511, 10))"
      ]
     },
     "execution_count": 7,
     "metadata": {},
     "output_type": "execute_result"
    }
   ],
   "source": [
    "X,y = data_trans(X_ori,y_ori,depth=28)\n",
    "X.shape,y.shape"
   ]
  },
  {
   "cell_type": "code",
   "execution_count": 8,
   "metadata": {
    "collapsed": false
   },
   "outputs": [],
   "source": [
    "X_train, X_test, y_train, y_test = cross_validation.train_test_split(X, y, test_size=0.33, random_state=42)\n",
    "\n",
    "small_data = {\n",
    "  'X_train': X_train,\n",
    "  'y_train': y_train,\n",
    "  'X_val': X_test,\n",
    "  'y_val': y_test,\n",
    "}"
   ]
  },
  {
   "cell_type": "markdown",
   "metadata": {},
   "source": [
    "# 五、用TensorFlow做个CNN看下效果"
   ]
  },
  {
   "cell_type": "code",
   "execution_count": 9,
   "metadata": {
    "collapsed": false
   },
   "outputs": [
    {
     "data": {
      "text/plain": [
       "((1682, 28, 28, 28), (1682, 10))"
      ]
     },
     "execution_count": 9,
     "metadata": {},
     "output_type": "execute_result"
    }
   ],
   "source": [
    "X_train.shape,y_train.shape"
   ]
  },
  {
   "cell_type": "code",
   "execution_count": null,
   "metadata": {
    "collapsed": false
   },
   "outputs": [],
   "source": []
  },
  {
   "cell_type": "code",
   "execution_count": null,
   "metadata": {
    "collapsed": false
   },
   "outputs": [],
   "source": []
  },
  {
   "cell_type": "code",
   "execution_count": 10,
   "metadata": {
    "collapsed": false
   },
   "outputs": [
    {
     "ename": "IndexError",
     "evalue": "shape mismatch: indexing arrays could not be broadcast together with shapes (50,) (50,10) ",
     "output_type": "error",
     "traceback": [
      "\u001b[0;31m---------------------------------------------------------------------------\u001b[0m",
      "\u001b[0;31mIndexError\u001b[0m                                Traceback (most recent call last)",
      "\u001b[0;32m<ipython-input-10-f78d423ccecd>\u001b[0m in \u001b[0;36m<module>\u001b[0;34m()\u001b[0m\n\u001b[1;32m     22\u001b[0m                             \u001b[0mlr_decay\u001b[0m\u001b[0;34m=\u001b[0m\u001b[0;36m0.95\u001b[0m\u001b[0;34m,\u001b[0m\u001b[0;34m\u001b[0m\u001b[0m\n\u001b[1;32m     23\u001b[0m                             verbose=False)\n\u001b[0;32m---> 24\u001b[0;31m         \u001b[0msolver\u001b[0m\u001b[0;34m.\u001b[0m\u001b[0mtrain\u001b[0m\u001b[0;34m(\u001b[0m\u001b[0;34m)\u001b[0m\u001b[0;34m\u001b[0m\u001b[0m\n\u001b[0m\u001b[1;32m     25\u001b[0m         \u001b[0;32mif\u001b[0m \u001b[0msolver\u001b[0m\u001b[0;34m.\u001b[0m\u001b[0mbest_val_acc\u001b[0m \u001b[0;34m>\u001b[0m \u001b[0mbest_val_acc\u001b[0m\u001b[0;34m:\u001b[0m\u001b[0;34m\u001b[0m\u001b[0m\n\u001b[1;32m     26\u001b[0m                 \u001b[0mbest_val_acc\u001b[0m \u001b[0;34m=\u001b[0m \u001b[0msolver\u001b[0m\u001b[0;34m.\u001b[0m\u001b[0mbest_val_acc\u001b[0m\u001b[0;34m\u001b[0m\u001b[0m\n",
      "\u001b[0;32m/Users/mahui/CloudStation/Python Code/MyQuant/cs231n/solver.pyc\u001b[0m in \u001b[0;36mtrain\u001b[0;34m(self)\u001b[0m\n\u001b[1;32m    225\u001b[0m \u001b[0;34m\u001b[0m\u001b[0m\n\u001b[1;32m    226\u001b[0m     \u001b[0;32mfor\u001b[0m \u001b[0mt\u001b[0m \u001b[0;32min\u001b[0m \u001b[0mxrange\u001b[0m\u001b[0;34m(\u001b[0m\u001b[0mnum_iterations\u001b[0m\u001b[0;34m)\u001b[0m\u001b[0;34m:\u001b[0m\u001b[0;34m\u001b[0m\u001b[0m\n\u001b[0;32m--> 227\u001b[0;31m       \u001b[0mself\u001b[0m\u001b[0;34m.\u001b[0m\u001b[0m_step\u001b[0m\u001b[0;34m(\u001b[0m\u001b[0;34m)\u001b[0m\u001b[0;34m\u001b[0m\u001b[0m\n\u001b[0m\u001b[1;32m    228\u001b[0m \u001b[0;34m\u001b[0m\u001b[0m\n\u001b[1;32m    229\u001b[0m       \u001b[0;31m# Maybe print training loss\u001b[0m\u001b[0;34m\u001b[0m\u001b[0;34m\u001b[0m\u001b[0m\n",
      "\u001b[0;32m/Users/mahui/CloudStation/Python Code/MyQuant/cs231n/solver.pyc\u001b[0m in \u001b[0;36m_step\u001b[0;34m(self)\u001b[0m\n\u001b[1;32m    163\u001b[0m \u001b[0;34m\u001b[0m\u001b[0m\n\u001b[1;32m    164\u001b[0m     \u001b[0;31m# Compute loss and gradient\u001b[0m\u001b[0;34m\u001b[0m\u001b[0;34m\u001b[0m\u001b[0m\n\u001b[0;32m--> 165\u001b[0;31m     \u001b[0mloss\u001b[0m\u001b[0;34m,\u001b[0m \u001b[0mgrads\u001b[0m \u001b[0;34m=\u001b[0m \u001b[0mself\u001b[0m\u001b[0;34m.\u001b[0m\u001b[0mmodel\u001b[0m\u001b[0;34m.\u001b[0m\u001b[0mloss\u001b[0m\u001b[0;34m(\u001b[0m\u001b[0mX_batch\u001b[0m\u001b[0;34m,\u001b[0m \u001b[0my_batch\u001b[0m\u001b[0;34m)\u001b[0m\u001b[0;34m\u001b[0m\u001b[0m\n\u001b[0m\u001b[1;32m    166\u001b[0m     \u001b[0mself\u001b[0m\u001b[0;34m.\u001b[0m\u001b[0mloss_history\u001b[0m\u001b[0;34m.\u001b[0m\u001b[0mappend\u001b[0m\u001b[0;34m(\u001b[0m\u001b[0mloss\u001b[0m\u001b[0;34m)\u001b[0m\u001b[0;34m\u001b[0m\u001b[0m\n\u001b[1;32m    167\u001b[0m \u001b[0;34m\u001b[0m\u001b[0m\n",
      "\u001b[0;32m/Users/mahui/CloudStation/Python Code/MyQuant/cs231n/convnet.pyc\u001b[0m in \u001b[0;36mloss\u001b[0;34m(self, X, y)\u001b[0m\n\u001b[1;32m    212\u001b[0m         \u001b[0;31m############################################################################\u001b[0m\u001b[0;34m\u001b[0m\u001b[0;34m\u001b[0m\u001b[0m\n\u001b[1;32m    213\u001b[0m         \u001b[0mreg\u001b[0m \u001b[0;34m=\u001b[0m \u001b[0mself\u001b[0m\u001b[0;34m.\u001b[0m\u001b[0mreg\u001b[0m\u001b[0;34m\u001b[0m\u001b[0m\n\u001b[0;32m--> 214\u001b[0;31m         \u001b[0mloss\u001b[0m\u001b[0;34m,\u001b[0m \u001b[0mdx\u001b[0m \u001b[0;34m=\u001b[0m \u001b[0msoftmax_loss\u001b[0m\u001b[0;34m(\u001b[0m\u001b[0mscores\u001b[0m\u001b[0;34m,\u001b[0m \u001b[0my\u001b[0m\u001b[0;34m)\u001b[0m\u001b[0;34m\u001b[0m\u001b[0m\n\u001b[0m\u001b[1;32m    215\u001b[0m         loss += 0.5 * reg * (np.sum(W1 * W1) + np.sum(W2 * W2) + np.sum(W3 * W3)\n\u001b[1;32m    216\u001b[0m                              \u001b[0;34m+\u001b[0m \u001b[0mnp\u001b[0m\u001b[0;34m.\u001b[0m\u001b[0msum\u001b[0m\u001b[0;34m(\u001b[0m\u001b[0mW4\u001b[0m \u001b[0;34m*\u001b[0m \u001b[0mW4\u001b[0m\u001b[0;34m)\u001b[0m \u001b[0;34m+\u001b[0m \u001b[0mnp\u001b[0m\u001b[0;34m.\u001b[0m\u001b[0msum\u001b[0m\u001b[0;34m(\u001b[0m\u001b[0mW5\u001b[0m \u001b[0;34m*\u001b[0m \u001b[0mW5\u001b[0m\u001b[0;34m)\u001b[0m\u001b[0;34m\u001b[0m\u001b[0m\n",
      "\u001b[0;32m/Users/mahui/CloudStation/Python Code/MyQuant/cs231n/layers.pyc\u001b[0m in \u001b[0;36msoftmax_loss\u001b[0;34m(x, y)\u001b[0m\n\u001b[1;32m    688\u001b[0m   \u001b[0mprobs\u001b[0m \u001b[0;34m/=\u001b[0m \u001b[0mnp\u001b[0m\u001b[0;34m.\u001b[0m\u001b[0msum\u001b[0m\u001b[0;34m(\u001b[0m\u001b[0mprobs\u001b[0m\u001b[0;34m,\u001b[0m \u001b[0maxis\u001b[0m\u001b[0;34m=\u001b[0m\u001b[0;36m1\u001b[0m\u001b[0;34m,\u001b[0m \u001b[0mkeepdims\u001b[0m\u001b[0;34m=\u001b[0m\u001b[0mTrue\u001b[0m\u001b[0;34m)\u001b[0m\u001b[0;34m\u001b[0m\u001b[0m\n\u001b[1;32m    689\u001b[0m   \u001b[0mN\u001b[0m \u001b[0;34m=\u001b[0m \u001b[0mx\u001b[0m\u001b[0;34m.\u001b[0m\u001b[0mshape\u001b[0m\u001b[0;34m[\u001b[0m\u001b[0;36m0\u001b[0m\u001b[0;34m]\u001b[0m\u001b[0;34m\u001b[0m\u001b[0m\n\u001b[0;32m--> 690\u001b[0;31m   \u001b[0mloss\u001b[0m \u001b[0;34m=\u001b[0m \u001b[0;34m-\u001b[0m\u001b[0mnp\u001b[0m\u001b[0;34m.\u001b[0m\u001b[0msum\u001b[0m\u001b[0;34m(\u001b[0m\u001b[0mnp\u001b[0m\u001b[0;34m.\u001b[0m\u001b[0mlog\u001b[0m\u001b[0;34m(\u001b[0m\u001b[0mprobs\u001b[0m\u001b[0;34m[\u001b[0m\u001b[0mnp\u001b[0m\u001b[0;34m.\u001b[0m\u001b[0marange\u001b[0m\u001b[0;34m(\u001b[0m\u001b[0mN\u001b[0m\u001b[0;34m)\u001b[0m\u001b[0;34m,\u001b[0m \u001b[0my\u001b[0m\u001b[0;34m]\u001b[0m\u001b[0;34m)\u001b[0m\u001b[0;34m)\u001b[0m \u001b[0;34m/\u001b[0m \u001b[0mN\u001b[0m\u001b[0;34m\u001b[0m\u001b[0m\n\u001b[0m\u001b[1;32m    691\u001b[0m   \u001b[0mdx\u001b[0m \u001b[0;34m=\u001b[0m \u001b[0mprobs\u001b[0m\u001b[0;34m.\u001b[0m\u001b[0mcopy\u001b[0m\u001b[0;34m(\u001b[0m\u001b[0;34m)\u001b[0m\u001b[0;34m\u001b[0m\u001b[0m\n\u001b[1;32m    692\u001b[0m   \u001b[0mdx\u001b[0m\u001b[0;34m[\u001b[0m\u001b[0mnp\u001b[0m\u001b[0;34m.\u001b[0m\u001b[0marange\u001b[0m\u001b[0;34m(\u001b[0m\u001b[0mN\u001b[0m\u001b[0;34m)\u001b[0m\u001b[0;34m,\u001b[0m \u001b[0my\u001b[0m\u001b[0;34m]\u001b[0m \u001b[0;34m-=\u001b[0m \u001b[0;36m1\u001b[0m\u001b[0;34m\u001b[0m\u001b[0m\n",
      "\u001b[0;31mIndexError\u001b[0m: shape mismatch: indexing arrays could not be broadcast together with shapes (50,) (50,10) "
     ]
    }
   ],
   "source": [
    "\n",
    "\n",
    "learning_rates = [1e-6,1e-5,1e-4,1e-3,1e-2,1e-1,1e-0,1e1,1e2,1e3]\n",
    "weight_scales = [1e-6,1e-5,1e-4,1e-3,1e-2,1e-1,1e-0,1e1,1e2,1e3]\n",
    "\n",
    "\n",
    "\n",
    "best_val_acc = 0\n",
    "for learning_rate in learning_rates:\n",
    "    for weight_scale in weight_scales:\n",
    "            \n",
    "            \n",
    "        model = ManyLayer_BN_ConvNet( weight_scale=weight_scale, dtype=np.float64,\n",
    "                                        use_batchnorm=True, dropout=1)\n",
    "        solver = Solver(model, small_data,\n",
    "                            num_epochs=1, batch_size=50,\n",
    "                            update_rule='adam',\n",
    "                            optim_config={\n",
    "                                'learning_rate': learning_rate\n",
    "                                },\n",
    "                            print_every=100,\n",
    "                            lr_decay=0.95,\n",
    "                            verbose=False)\n",
    "        solver.train()\n",
    "        if solver.best_val_acc > best_val_acc:\n",
    "                best_val_acc = solver.best_val_acc\n",
    "                best_model = model\n",
    "                cache = [learning_rate,weight_scale]\n",
    "                \n",
    "        print 'Val_acc:%s,    Lr:%s,    Ws:%s:' % (solver.best_val_acc, learning_rate,weight_scale)\n",
    "    \n",
    "\n",
    "print 'done!'\n",
    "print cache"
   ]
  },
  {
   "cell_type": "code",
   "execution_count": null,
   "metadata": {
    "collapsed": false
   },
   "outputs": [],
   "source": [
    "learning_rate_best,weight_scale_best =  cache\n",
    "\n",
    "\n",
    "           \n",
    "final_model = ManyLayer_BN_ConvNet(weight_scale=weight_scale_best, dtype=np.float64,\n",
    "                                        use_batchnorm=True, dropout=1)         \n",
    "final_solver = Solver(final_model, \n",
    "                            small_data,\n",
    "                            num_epochs=5, \n",
    "                            batch_size=50,\n",
    "                            update_rule='adam',\n",
    "                            optim_config={'learning_rate': learning_rate_best},\n",
    "                            print_every=100,\n",
    "                            lr_decay=0.95,\n",
    "                            verbose=False)\n",
    "\n",
    "final_solver.train()"
   ]
  },
  {
   "cell_type": "code",
   "execution_count": null,
   "metadata": {
    "collapsed": false
   },
   "outputs": [],
   "source": [
    "#see\n",
    "\n",
    "plt.subplot(2, 1, 1)\n",
    "plt.plot(final_solver.loss_history, 'o')\n",
    "plt.xlabel('iteration')\n",
    "plt.ylabel('loss')\n",
    "\n",
    "plt.subplot(2, 1, 2)\n",
    "plt.plot(final_solver.train_acc_history, '-o')\n",
    "plt.plot(final_solver.val_acc_history, '-o')\n",
    "plt.legend(['train', 'val'], loc='upper left')\n",
    "plt.xlabel('epoch')\n",
    "plt.ylabel('accuracy')\n",
    "plt.show()"
   ]
  },
  {
   "cell_type": "code",
   "execution_count": null,
   "metadata": {
    "collapsed": false
   },
   "outputs": [],
   "source": [
    "y_test_pred = np.argmax(final_model.loss(small_data['X_test']), axis=1)\n",
    "y_val_pred = np.argmax(final_model.loss(small_data['X_val']), axis=1)\n",
    "print 'Validation set accuracy: ', (y_val_pred == small_data['y_val']).mean()\n",
    "print 'Test set accuracy: ', (y_test_pred == small_data['y_test']).mean()"
   ]
  },
  {
   "cell_type": "code",
   "execution_count": null,
   "metadata": {
    "collapsed": false
   },
   "outputs": [],
   "source": []
  },
  {
   "cell_type": "code",
   "execution_count": null,
   "metadata": {
    "collapsed": false
   },
   "outputs": [],
   "source": []
  },
  {
   "cell_type": "markdown",
   "metadata": {
    "collapsed": false
   },
   "source": [
    "Val_acc:0.496389939088,    Lr:1e-06,    Ws:10.0:\n",
    "Val_acc:0.493084727765,    Lr:1e-06,    Ws:1000.0:\n",
    "Val_acc:0.528985507246,    Lr:0.0001,    Ws:1e-05:\n",
    "Val_acc:0.528985507246,    Lr:0.001,    Ws:1e-06:\n",
    "Val_acc:0.528985507246,    Lr:0.001,    Ws:0.01:\n",
    "Val_acc:0.528985507246,    Lr:0.1,    Ws:1e-05:\n",
    "Val_acc:0.528985507246,    Lr:0.1,    Ws:0.001:\n",
    "Val_acc:0.528985507246,    Lr:0.1,    Ws:0.1:\n",
    "Val_acc:0.528349553082,    Lr:10.0,    Ws:1e-06:\n",
    "Val_acc:0.528985507246,    Lr:10.0,    Ws:1e-05:\n",
    "Val_acc:0.528985507246,    Lr:100.0,    Ws:0.01:\n",
    "Val_acc:0.528985507246,    Lr:100.0,    Ws:0.1:\n",
    "Val_acc:0.528985507246,    Lr:100.0,    Ws:100.0:\n",
    "Val_acc:0.515230810521,    Lr:1000.0,    Ws:1e-05:\n",
    "Val_acc:0.528985507246,    Lr:1000.0,    Ws:0.1:"
   ]
  },
  {
   "cell_type": "markdown",
   "metadata": {
    "collapsed": true
   },
   "source": [
    "Val_acc:0.0012077294686,    Lr:1e-06,    Ws:1e-06:\n",
    "Val_acc:0.0700483091787,    Lr:1e-06,    Ws:1e-05:\n",
    "Val_acc:0.00239212116969,    Lr:1e-06,    Ws:0.0001:\n",
    "Val_acc:0.0796838899391,    Lr:1e-06,    Ws:0.001:\n",
    "Val_acc:0.099869600224,    Lr:1e-06,    Ws:0.01:\n",
    "Val_acc:0.301669817265,    Lr:1e-06,    Ws:0.1:\n",
    "Val_acc:0.00653457490256,    Lr:1e-06,    Ws:1.0:\n",
    "Val_acc:0.496389939088,    Lr:1e-06,    Ws:10.0:\n",
    "Val_acc:0.0619223902541,    Lr:1e-06,    Ws:100.0:\n",
    "Val_acc:0.493084727765,    Lr:1e-06,    Ws:1000.0:\n",
    "Val_acc:0.0700483091787,    Lr:1e-05,    Ws:1e-06:\n",
    "Val_acc:0.0700483091787,    Lr:1e-05,    Ws:1e-05:\n",
    "Val_acc:0.00866268757731,    Lr:1e-05,    Ws:0.0001:\n",
    "Val_acc:0.134775607365,    Lr:1e-05,    Ws:0.001:\n",
    "Val_acc:0.000558647809751,    Lr:1e-05,    Ws:0.01:\n",
    "Val_acc:0.152510852062,    Lr:1e-05,    Ws:0.1:\n",
    "Val_acc:0.0249013979323,    Lr:1e-05,    Ws:1.0:\n",
    "Val_acc:0.0159965810171,    Lr:1e-05,    Ws:10.0:\n",
    "Val_acc:0.12347575206,    Lr:1e-05,    Ws:100.0:\n",
    "Val_acc:0.0490939111765,    Lr:1e-05,    Ws:1000.0:\n",
    "Val_acc:0.0012077294686,    Lr:0.0001,    Ws:1e-06:\n",
    "Val_acc:0.528985507246,    Lr:0.0001,    Ws:1e-05:\n",
    "Val_acc:0.0024154589372,    Lr:0.0001,    Ws:0.0001:\n",
    "Val_acc:0.0157004830918,    Lr:0.0001,    Ws:0.001:\n",
    "Val_acc:0.0178242199351,    Lr:0.0001,    Ws:0.01:\n",
    "Val_acc:0.0774595089734,    Lr:0.0001,    Ws:0.1:\n",
    "Val_acc:0.0162547550701,    Lr:0.0001,    Ws:1.0:\n",
    "Val_acc:0.00290263483395,    Lr:0.0001,    Ws:10.0:\n",
    "Val_acc:0.0501266073887,    Lr:0.0001,    Ws:100.0:\n",
    "Val_acc:0.00385656608089,    Lr:0.0001,    Ws:1000.0:\n",
    "Val_acc:0.528985507246,    Lr:0.001,    Ws:1e-06:\n",
    "Val_acc:0.0012077294686,    Lr:0.001,    Ws:1e-05:\n",
    "Val_acc:0.135265700483,    Lr:0.001,    Ws:0.0001:\n",
    "Val_acc:0.0012077294686,    Lr:0.001,    Ws:0.001:\n",
    "Val_acc:0.528985507246,    Lr:0.001,    Ws:0.01:\n",
    "Val_acc:0.313353287125,    Lr:0.001,    Ws:0.1:\n",
    "Val_acc:0.104236679969,    Lr:0.001,    Ws:1.0:\n",
    "Val_acc:0.015642138673,    Lr:0.001,    Ws:10.0:\n",
    "Val_acc:0.0154904431842,    Lr:0.001,    Ws:100.0:\n",
    "Val_acc:0.270411794908,    Lr:0.001,    Ws:1000.0:\n",
    "Val_acc:0.0338164251208,    Lr:0.01,    Ws:1e-06:\n",
    "Val_acc:0.135265700483,    Lr:0.01,    Ws:1e-05:\n",
    "Val_acc:0.0700483091787,    Lr:0.01,    Ws:0.0001:\n",
    "Val_acc:0.0012077294686,    Lr:0.01,    Ws:0.001:\n",
    "Val_acc:0.0157004830918,    Lr:0.01,    Ws:0.01:\n",
    "Val_acc:0.150957431912,    Lr:0.01,    Ws:0.1:\n",
    "Val_acc:0.172099990665,    Lr:0.01,    Ws:1.0:\n",
    "Val_acc:0.0801506452893,    Lr:0.01,    Ws:10.0:\n",
    "Val_acc:0.0108243482928,    Lr:0.01,    Ws:100.0:\n",
    "Val_acc:0.128869693575,    Lr:0.01,    Ws:1000.0:\n",
    "Val_acc:0.135265700483,    Lr:0.1,    Ws:1e-06:\n",
    "Val_acc:0.528985507246,    Lr:0.1,    Ws:1e-05:\n",
    "Val_acc:0.135265700483,    Lr:0.1,    Ws:0.0001:\n",
    "Val_acc:0.528985507246,    Lr:0.1,    Ws:0.001:\n",
    "Val_acc:0.0036231884058,    Lr:0.1,    Ws:0.01:\n",
    "Val_acc:0.528985507246,    Lr:0.1,    Ws:0.1:\n",
    "Val_acc:0.0265087866695,    Lr:0.1,    Ws:1.0:\n",
    "Val_acc:0.04298233331,    Lr:0.1,    Ws:10.0:\n",
    "Val_acc:0.123574937571,    Lr:0.1,    Ws:100.0:\n",
    "Val_acc:0.0327253844897,    Lr:0.1,    Ws:1000.0:\n",
    "Val_acc:0.135265700483,    Lr:1.0,    Ws:1e-06:\n",
    "Val_acc:0.135265700483,    Lr:1.0,    Ws:1e-05:\n",
    "Val_acc:0.135265700483,    Lr:1.0,    Ws:0.0001:\n",
    "Val_acc:0.0157004830918,    Lr:1.0,    Ws:0.001:\n",
    "Val_acc:0.0700483091787,    Lr:1.0,    Ws:0.01:\n",
    "Val_acc:0.135265700483,    Lr:1.0,    Ws:0.1:\n",
    "Val_acc:0.0549050152862,    Lr:1.0,    Ws:1.0:\n",
    "Val_acc:0.0211060934911,    Lr:1.0,    Ws:10.0:\n",
    "Val_acc:0.357573980723,    Lr:1.0,    Ws:100.0:\n",
    "Val_acc:0.213403463325,    Lr:1.0,    Ws:1000.0:\n",
    "Val_acc:0.528349553082,    Lr:10.0,    Ws:1e-06:\n",
    "Val_acc:0.528985507246,    Lr:10.0,    Ws:1e-05:\n",
    "Val_acc:0.0338164251208,    Lr:10.0,    Ws:0.0001:\n",
    "Val_acc:0.0338164251208,    Lr:10.0,    Ws:0.001:\n",
    "Val_acc:0.0700483091787,    Lr:10.0,    Ws:0.01:\n",
    "Val_acc:0.0012077294686,    Lr:10.0,    Ws:0.1:\n",
    "Val_acc:0.0036231884058,    Lr:10.0,    Ws:1.0:\n",
    "Val_acc:0.0012077294686,    Lr:10.0,    Ws:10.0:\n",
    "Val_acc:0.342223564144,    Lr:10.0,    Ws:100.0:\n",
    "Val_acc:0.194669070457,    Lr:10.0,    Ws:1000.0:\n",
    "Val_acc:0.0012077294686,    Lr:100.0,    Ws:1e-06:\n",
    "Val_acc:0.0157004830918,    Lr:100.0,    Ws:1e-05:\n",
    "Val_acc:0.0024154589372,    Lr:100.0,    Ws:0.0001:\n",
    "Val_acc:0.0157004830918,    Lr:100.0,    Ws:0.001:\n",
    "Val_acc:0.528985507246,    Lr:100.0,    Ws:0.01:\n",
    "Val_acc:0.528985507246,    Lr:100.0,    Ws:0.1:\n",
    "Val_acc:0.0338164251208,    Lr:100.0,    Ws:1.0:\n",
    "Val_acc:0.0700483091787,    Lr:100.0,    Ws:10.0:\n",
    "Val_acc:0.528985507246,    Lr:100.0,    Ws:100.0:\n",
    "Val_acc:0.135143177204,    Lr:100.0,    Ws:1000.0:\n",
    "Val_acc:0.0012077294686,    Lr:1000.0,    Ws:1e-06:\n",
    "Val_acc:0.515230810521,    Lr:1000.0,    Ws:1e-05:\n",
    "Val_acc:0.0338164251208,    Lr:1000.0,    Ws:0.0001:\n",
    "Val_acc:0.0700483091787,    Lr:1000.0,    Ws:0.001:\n",
    "Val_acc:0.135265700483,    Lr:1000.0,    Ws:0.01:\n",
    "Val_acc:0.528985507246,    Lr:1000.0,    Ws:0.1:\n",
    "Val_acc:0.0338164251208,    Lr:1000.0,    Ws:1.0:\n",
    "Val_acc:0.135265700483,    Lr:1000.0,    Ws:10.0:\n",
    "Val_acc:0.0338164251208,    Lr:1000.0,    Ws:100.0:\n",
    "Val_acc:0.135265700483,    Lr:1000.0,    Ws:1000.0:"
   ]
  }
 ],
 "metadata": {
  "anaconda-cloud": {},
  "kernelspec": {
   "display_name": "Python [conda root]",
   "language": "python",
   "name": "conda-root-py"
  },
  "language_info": {
   "codemirror_mode": {
    "name": "ipython",
    "version": 2
   },
   "file_extension": ".py",
   "mimetype": "text/x-python",
   "name": "python",
   "nbconvert_exporter": "python",
   "pygments_lexer": "ipython2",
   "version": "2.7.13"
  }
 },
 "nbformat": 4,
 "nbformat_minor": 0
}
