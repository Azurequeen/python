{
 "cells": [
  {
   "cell_type": "code",
   "execution_count": 1,
   "metadata": {
    "collapsed": false
   },
   "outputs": [],
   "source": [
    "% matplotlib inline\n",
    "from yahoo_finance import Share\n",
    "import numpy as np\n",
    "import tensorflow as tf\n",
    "import matplotlib.pyplot as plt\n",
    "from tensorflow.python.framework import ops\n",
    "from tensorflow.python.ops import clip_ops\n",
    "from bn_class import *\n"
   ]
  },
  {
   "cell_type": "code",
   "execution_count": 2,
   "metadata": {
    "collapsed": true
   },
   "outputs": [],
   "source": [
    "\"\"\"Hyperparameters\"\"\"\n",
    "num_filt_1 = 15     #Number of filters in first conv layer\n",
    "num_filt_2 = 8      #Number of filters in second conv layer\n",
    "num_filt_3 = 8      #Number of filters in thirs conv layer\n",
    "num_fc_1 = 1024     #Number of neurons in hully connected layer\n",
    "max_iterations = 8000\n",
    "model_num=7         #Number of model used for voting\n",
    "voting_times=3      #Threshold of voting\n",
    "batch_size = 100\n",
    "dropout = 0.5       #Dropout rate in the fully connected layer\n",
    "plot_row = 5        #How many rows do you want to plot in the visualization\n",
    "regularization = 1e-4\n",
    "learning_rate = 2e-3\n",
    "input_norm = False   # Do you want z-score input normalization?\n",
    "np.set_printoptions(threshold=np.inf)#print full array"
   ]
  },
  {
   "cell_type": "code",
   "execution_count": 3,
   "metadata": {
    "collapsed": false
   },
   "outputs": [],
   "source": [
    "dataset = \"2330\"\n",
    "datadir = 'data/'+ dataset\n",
    "data_train = np.loadtxt(datadir+'_train_15',delimiter=',')\n",
    "data_test_val = np.loadtxt(datadir+'_test',delimiter=',')\n",
    "data_test=data_test_val"
   ]
  },
  {
   "cell_type": "markdown",
   "metadata": {
    "collapsed": true
   },
   "source": [
    "## split training and testing data"
   ]
  },
  {
   "cell_type": "code",
   "execution_count": 4,
   "metadata": {
    "collapsed": false
   },
   "outputs": [],
   "source": [
    "X_train = data_train[:,1:]\n",
    "X_test = data_test[:,1:]\n",
    "N = X_train.shape[0]\n",
    "Ntest = X_test.shape[0]\n",
    "D = X_train.shape[1]\n",
    "y_train = data_train[:,0]\n",
    "y_test = data_test[:,0]"
   ]
  },
  {
   "cell_type": "markdown",
   "metadata": {},
   "source": [
    "## normalize x and y"
   ]
  },
  {
   "cell_type": "code",
   "execution_count": 5,
   "metadata": {
    "collapsed": true
   },
   "outputs": [],
   "source": [
    "num_classes = len(np.unique(y_train))\n",
    "base = np.min(y_train)  #Check if data is 0-based\n",
    "if base != 0:\n",
    "    y_train -=base\n",
    "    y_test -= base\n",
    "\n",
    "if input_norm:\n",
    "    mean = np.mean(X_train,axis=0)\n",
    "    variance = np.var(X_train,axis=0)\n",
    "    X_train -= mean\n",
    "    #The 1e-9 avoids dividing by zero\n",
    "    X_train /= np.sqrt(variance)+1e-9\n",
    "    X_test -= mean\n",
    "    X_test /= np.sqrt(variance)+1e-9"
   ]
  },
  {
   "cell_type": "code",
   "execution_count": 6,
   "metadata": {
    "collapsed": false
   },
   "outputs": [
    {
     "name": "stdout",
     "output_type": "stream",
     "text": [
      "Train with approximately 1467 epochs\n"
     ]
    }
   ],
   "source": [
    "epochs = np.floor(batch_size*max_iterations / N)\n",
    "print('Train with approximately %d epochs' %(epochs))\n"
   ]
  },
  {
   "cell_type": "markdown",
   "metadata": {},
   "source": [
    "## place for the input variables"
   ]
  },
  {
   "cell_type": "code",
   "execution_count": 7,
   "metadata": {
    "collapsed": false
   },
   "outputs": [
    {
     "name": "stdout",
     "output_type": "stream",
     "text": [
      "Training at model 0\n",
      " Training accuracy at 0 out of 8000 is 0.286239\n",
      " Training accuracy at 1000 out of 8000 is 0.954128\n",
      " Training accuracy at 2000 out of 8000 is 0.954128\n",
      " Training accuracy at 3000 out of 8000 is 0.954128\n",
      " Training accuracy at 4000 out of 8000 is 0.961468\n",
      " Training accuracy at 5000 out of 8000 is 0.961468\n",
      " Training accuracy at 6000 out of 8000 is 0.972477\n",
      " Training accuracy at 7000 out of 8000 is 0.974312\n",
      "Training at model 1\n",
      " Training accuracy at 0 out of 8000 is 0.8\n",
      " Training accuracy at 1000 out of 8000 is 0.954128\n",
      " Training accuracy at 2000 out of 8000 is 0.954128\n",
      " Training accuracy at 3000 out of 8000 is 0.954128\n",
      " Training accuracy at 4000 out of 8000 is 0.957798\n",
      " Training accuracy at 5000 out of 8000 is 0.987156\n",
      " Training accuracy at 6000 out of 8000 is 1.0\n",
      " Training accuracy at 7000 out of 8000 is 0.99633\n",
      "Training at model 2\n",
      " Training accuracy at 0 out of 8000 is 0.8\n",
      " Training accuracy at 1000 out of 8000 is 0.952294\n",
      " Training accuracy at 2000 out of 8000 is 0.954128\n",
      " Training accuracy at 3000 out of 8000 is 0.954128\n",
      " Training accuracy at 4000 out of 8000 is 0.955963\n",
      " Training accuracy at 5000 out of 8000 is 0.959633\n",
      " Training accuracy at 6000 out of 8000 is 0.959633\n",
      " Training accuracy at 7000 out of 8000 is 0.961468\n",
      "Training at model 3\n",
      " Training accuracy at 0 out of 8000 is 0.8\n",
      " Training accuracy at 1000 out of 8000 is 0.952294\n",
      " Training accuracy at 2000 out of 8000 is 0.952294\n",
      " Training accuracy at 3000 out of 8000 is 0.961468\n",
      " Training accuracy at 4000 out of 8000 is 0.987156\n",
      " Training accuracy at 5000 out of 8000 is 0.994495\n",
      " Training accuracy at 6000 out of 8000 is 0.985321\n",
      " Training accuracy at 7000 out of 8000 is 0.998165\n",
      "Training at model 4\n",
      " Training accuracy at 0 out of 8000 is 0.2\n",
      " Training accuracy at 1000 out of 8000 is 0.952294\n",
      " Training accuracy at 2000 out of 8000 is 0.955963\n",
      " Training accuracy at 3000 out of 8000 is 0.961468\n",
      " Training accuracy at 4000 out of 8000 is 0.961468\n",
      " Training accuracy at 5000 out of 8000 is 0.974312\n",
      " Training accuracy at 6000 out of 8000 is 0.99633\n",
      " Training accuracy at 7000 out of 8000 is 0.992661\n",
      "Training at model 5\n",
      " Training accuracy at 0 out of 8000 is 0.2\n",
      " Training accuracy at 1000 out of 8000 is 0.954128\n",
      " Training accuracy at 2000 out of 8000 is 0.952294\n",
      " Training accuracy at 3000 out of 8000 is 0.954128\n",
      " Training accuracy at 4000 out of 8000 is 0.961468\n",
      " Training accuracy at 5000 out of 8000 is 0.959633\n",
      " Training accuracy at 6000 out of 8000 is 0.994495\n",
      " Training accuracy at 7000 out of 8000 is 0.99633\n",
      "Training at model 6\n",
      " Training accuracy at 0 out of 8000 is 0.917431\n",
      " Training accuracy at 1000 out of 8000 is 0.954128\n",
      " Training accuracy at 2000 out of 8000 is 0.955963\n",
      " Training accuracy at 3000 out of 8000 is 0.954128\n",
      " Training accuracy at 4000 out of 8000 is 0.959633\n",
      " Training accuracy at 5000 out of 8000 is 0.981651\n",
      " Training accuracy at 6000 out of 8000 is 0.990826\n",
      " Training accuracy at 7000 out of 8000 is 0.988991\n"
     ]
    }
   ],
   "source": [
    "total_rst=np.zeros((model_num,len(y_test)), dtype=np.float)\n",
    "for xx in xrange(0,model_num):\n",
    "  print(\"Training at model \"+str(xx))\n",
    "  x = tf.placeholder(\"float\", shape=[None, D], name = 'Input_data')\n",
    "  y_ = tf.placeholder(tf.int64, shape=[None], name = 'Ground_truth')\n",
    "  keep_prob = tf.placeholder(\"float\")\n",
    "  bn_train = tf.placeholder(tf.bool)          #Boolean value to guide batchnorm\n",
    "\n",
    "  ## w and b and conv function\n",
    "  def weight_variable(shape, name):\n",
    "    initial = tf.truncated_normal(shape, stddev=0.1)\n",
    "    return tf.Variable(initial, name = name)\n",
    "\n",
    "  def bias_variable(shape, name):\n",
    "    initial = tf.constant(0.1, shape=shape)\n",
    "    return tf.Variable(initial, name = name)\n",
    "\n",
    "  def conv2d(x, W):\n",
    "    return tf.nn.conv2d(x, W, strides=[1, 1, 1, 1], padding='SAME')\n",
    "\n",
    "  def max_pool_2x2(x):\n",
    "    return tf.nn.max_pool(x, ksize=[1, 2, 2, 1],\n",
    "                          strides=[1, 2, 2, 1], padding='SAME')\n",
    "\n",
    "  with tf.name_scope(\"Reshaping_data\") as scope:\n",
    "    x_image = tf.reshape(x, [-1,D,1,1])\n",
    "\n",
    "  ## Build the graph\n",
    "  # ewma is the decay for which we update the moving average of the \n",
    "  # mean and variance in the batch-norm layers\n",
    "  with tf.name_scope(\"Conv1\") as scope:\n",
    "    W_conv1 = weight_variable([4, 1, 1, num_filt_1], 'Conv_Layer_1')\n",
    "    b_conv1 = bias_variable([num_filt_1], 'bias_for_Conv_Layer_1')\n",
    "    a_conv1 = conv2d(x_image, W_conv1) + b_conv1\n",
    "    \n",
    "  with tf.name_scope('Batch_norm_conv1') as scope:\n",
    "      ewma = tf.train.ExponentialMovingAverage(decay=0.99)                  \n",
    "      bn_conv1 = ConvolutionalBatchNormalizer(num_filt_1, 0.001, ewma, True)           \n",
    "      update_assignments = bn_conv1.get_assigner() \n",
    "      a_conv1 = bn_conv1.normalize(a_conv1, train=bn_train) \n",
    "      h_conv1 = tf.nn.relu(a_conv1)\n",
    "    \n",
    "  with tf.name_scope(\"Conv2\") as scope:\n",
    "    W_conv2 = weight_variable([4, 1, num_filt_1, num_filt_2], 'Conv_Layer_2')\n",
    "    b_conv2 = bias_variable([num_filt_2], 'bias_for_Conv_Layer_2')\n",
    "    a_conv2 = conv2d(h_conv1, W_conv2) + b_conv2\n",
    "    \n",
    "  with tf.name_scope('Batch_norm_conv2') as scope:\n",
    "      bn_conv2 = ConvolutionalBatchNormalizer(num_filt_2, 0.001, ewma, True)           \n",
    "      update_assignments = bn_conv2.get_assigner() \n",
    "      a_conv2 = bn_conv2.normalize(a_conv2, train=bn_train) \n",
    "      h_conv2 = tf.nn.relu(a_conv2)\n",
    "      \n",
    "  with tf.name_scope(\"Conv3\") as scope:\n",
    "    W_conv3 = weight_variable([4, 1, num_filt_2, num_filt_3], 'Conv_Layer_3')\n",
    "    b_conv3 = bias_variable([num_filt_3], 'bias_for_Conv_Layer_3')\n",
    "    a_conv3 = conv2d(h_conv2, W_conv3) + b_conv3\n",
    "    \n",
    "  with tf.name_scope('Batch_norm_conv3') as scope:\n",
    "      bn_conv3 = ConvolutionalBatchNormalizer(num_filt_3, 0.001, ewma, True)           \n",
    "      update_assignments = bn_conv3.get_assigner() \n",
    "      a_conv3 = bn_conv3.normalize(a_conv3, train=bn_train) \n",
    "      h_conv3 = tf.nn.relu(a_conv3)\n",
    "\n",
    "  with tf.name_scope(\"Fully_Connected1\") as scope:\n",
    "    W_fc1 = weight_variable([D*num_filt_3, num_fc_1], 'Fully_Connected_layer_1')\n",
    "    b_fc1 = bias_variable([num_fc_1], 'bias_for_Fully_Connected_Layer_1')\n",
    "    h_conv3_flat = tf.reshape(h_conv3, [-1, D*num_filt_3])\n",
    "    h_fc1 = tf.nn.relu(tf.matmul(h_conv3_flat, W_fc1) + b_fc1)\n",
    "    \n",
    "  with tf.name_scope(\"Fully_Connected2\") as scope:\n",
    "    h_fc1_drop = tf.nn.dropout(h_fc1, keep_prob)\n",
    "    W_fc2 = tf.Variable(tf.truncated_normal([num_fc_1, num_classes], stddev=0.1),name = 'W_fc2')\n",
    "    b_fc2 = tf.Variable(tf.constant(0.1, shape=[num_classes]),name = 'b_fc2')\n",
    "    h_fc2 = tf.matmul(h_fc1_drop, W_fc2) + b_fc2   \n",
    "  with tf.name_scope(\"SoftMax\") as scope:\n",
    "      regularizers = (tf.nn.l2_loss(W_conv1) + tf.nn.l2_loss(b_conv1) +\n",
    "                    tf.nn.l2_loss(W_conv2) + tf.nn.l2_loss(b_conv2) + \n",
    "                    tf.nn.l2_loss(W_conv3) + tf.nn.l2_loss(b_conv3) +\n",
    "                    tf.nn.l2_loss(W_fc1) + tf.nn.l2_loss(b_fc1) + \n",
    "                    tf.nn.l2_loss(W_fc2) + tf.nn.l2_loss(b_fc2))\n",
    "\n",
    "      loss = tf.nn.sparse_softmax_cross_entropy_with_logits(logits=h_fc2,labels=y_)\n",
    "      cost = tf.reduce_sum(loss) / batch_size\n",
    "      cost += regularization*regularizers\n",
    " \n",
    "  ## define train optimizer##\n",
    "  with tf.name_scope(\"train\") as scope:\n",
    "      tvars = tf.trainable_variables()\n",
    "      #We clip the gradients to prevent explosion\n",
    "      grads = tf.gradients(cost, tvars)\n",
    "      optimizer = tf.train.AdamOptimizer(learning_rate)\n",
    "      gradients = zip(grads, tvars)\n",
    "      train_step = optimizer.apply_gradients(gradients)\n",
    "\n",
    "  with tf.name_scope(\"Evaluating_accuracy\") as scope:\n",
    "      correct_prediction = tf.equal(tf.argmax(h_fc2,1), y_)\n",
    "      accuracy = tf.reduce_mean(tf.cast(correct_prediction, \"float\"))\n",
    "  \n",
    "  ## run session and evaluate performance##\n",
    "  perf_collect = np.zeros((3,int(np.floor(max_iterations /100))))\n",
    "  with tf.Session() as sess:\n",
    "    sess.run(tf.global_variables_initializer())\n",
    "    \n",
    "    step = 0      # Step is a counter for filling the numpy array perf_collect\n",
    "    for i in range(max_iterations):#training process\n",
    "      batch_ind = np.random.choice(N,batch_size,replace=False)\n",
    "      \n",
    "      if i==0:\n",
    "          acc_test_before = sess.run(accuracy, feed_dict={ x: X_test, y_: y_test, keep_prob: 1.0, bn_train : False})\n",
    "      if i%1000 == 0:\n",
    "        #Check training performance\n",
    "        result = sess.run(accuracy,feed_dict = { x: X_train, y_: y_train, keep_prob: 1.0, bn_train : False})\n",
    "        print(\" Training accuracy at %s out of %s is %s\" % (i,max_iterations, result))\n",
    "        step +=1\n",
    "      sess.run(train_step,feed_dict={x:X_train[batch_ind], y_: y_train[batch_ind], keep_prob: dropout, bn_train : True})\n",
    "      \n",
    "            #training process done!\n",
    "    predict=sess.run(tf.argmax(h_fc2,1), feed_dict={ x: X_test, y_: y_test, keep_prob: 1.0, bn_train : False})\n",
    "    total_rst[xx]=predict\n",
    "    "
   ]
  },
  {
   "cell_type": "code",
   "execution_count": 8,
   "metadata": {
    "collapsed": false,
    "slideshow": {
     "slide_type": "slide"
    }
   },
   "outputs": [
    {
     "name": "stdout",
     "output_type": "stream",
     "text": [
      "[ 0.  0.  0.  0.  0.  0.  0.  0.  0.  0.  0.  0.  0.  0.  0.  0.  0.  0.\n",
      "  1.  0.  0.  1.  0.  0.  1.  1.  0.  0.  0.  0.  0.  0.  0.  0.  0.  0.\n",
      "  0.  0.  0.  1.  0.  0.  0.  0.  0.  0.  0.  0.  0.  0.  0.  0.  0.  0.\n",
      "  0.  0.  0.  0.  0.  0.  0.  0.  0.  0.  0.  0.  0.  0.  0.  0.  0.  0.\n",
      "  0.  0.  0.  0.  0.  0.  0.  0.  0.  0.  0.  0.  0.  0.  0.  0.  0.  0.\n",
      "  0.  0.  0.  0.  0.  0.  0.  0.  0.  0.  0.  0.  0.  0.  0.  0.  0.  0.\n",
      "  0.  0.  0.  0.  0.  0.  0.  0.  0.  0.  0.  0.  0.  0.  0.  0.  0.  0.\n",
      "  0.  0.  0.  0.  0.  0.  0.  0.  0.  0.  0.  0.  0.  0.  0.  0.  0.  0.\n",
      "  0.  0.  0.  0.  0.  0.  0.  0.  0.  0.  0.  0.  0.  0.  0.  0.  0.  0.\n",
      "  0.  0.  0.  0.  0.  0.  0.  0.  0.  0.  0.  0.  0.  0.  0.  0.  0.  0.\n",
      "  0.  0.  0.  0.  0.  0.  0.  0.  0.  0.  0.  0.  0.  0.  0.  0.  0.  0.\n",
      "  0.  0.  0.  0.  0.  0.  0.  0.  0.  0.  0.  0.  0.  0.  0.  0.  0.  0.\n",
      "  0.  0.  0.  0.  0.  0.  0.  0.  0.  0.  0.  0.  0.  0.  0.  0.  0.  0.\n",
      "  0.  0.  0.  0.  0.  0.  0.  0.  0.  0.  0.  0.  0.  0.  0.  0.  0.  0.\n",
      "  0.  0.  0.  0.  0.  0.  0.  0.  0.  0.]\n",
      "history data counts: 287\n",
      "after remove Volume is 0 : 271\n"
     ]
    },
    {
     "data": {
      "image/png": "[encoded data removed]",
      "text/plain": [
       "<matplotlib.figure.Figure at 0x10aa86ad0>"
      ]
     },
     "metadata": {},
     "output_type": "display_data"
    }
   ],
   "source": [
    " ## show the graph of voting result\n",
    "rst_arr= np.zeros(len(total_rst[0]), dtype=np.float)\n",
    "for i in xrange(0,len(total_rst[0])):\n",
    "    voting=0\n",
    "    for j in xrange(0,len(total_rst)):\n",
    "        if(total_rst[j,i]==1):\n",
    "            voting+=1\n",
    "    if(voting>voting_times):\n",
    "            rst_arr[i]=1\n",
    "    else:\n",
    "            rst_arr[i]=0\n",
    "print(rst_arr)\n",
    "\n",
    "## get stock price and draw\n",
    "stock = Share('2330.TW') #which stock to evaluate\n",
    "startDay='2015-07-14'\n",
    "endDay='2016-08-19'\n",
    "stock_data = stock.get_historical(startDay,endDay)\n",
    "print 'history data counts:' , len(stock_data)\n",
    "stock_data.reverse() \n",
    "def remove(stock_data):\n",
    "    i = 0\n",
    "    while( i < len(stock_data)):\n",
    "        if (int(stock_data[i].get('Volume')) <= 0):\n",
    "            stock_data.remove(stock_data[i])\n",
    "            i = -1\n",
    "        i += 1\n",
    "    return stock_data\n",
    "\n",
    "stock_data=remove(stock_data)\n",
    "print 'after remove Volume is 0 :', len(stock_data)\n",
    "close_line= np.zeros(len(stock_data), dtype=np.float)\n",
    "for x in xrange(0,len(stock_data)):\n",
    "    close_line[x]=float(stock_data[x].get(\"Close\"))\n",
    "\n",
    "#draw pic\n",
    "plt.figure()\n",
    "new_buy= np.zeros(len(close_line), dtype=np.float)\n",
    "for i in xrange(0,len(rst_arr)):\n",
    "    new_buy[i+9]=rst_arr[i]*close_line[i+9]\n",
    "plt.plot(close_line,label='closePrice',linewidth=5,color=[0,0,1])\n",
    "plt.plot(new_buy, 'ro',label='Buy at',linewidth=1,color=[1,0,0])\n",
    "plt.title(\"When To Buy?(\"+startDay+\"~\"+endDay+\")\")\n",
    "plt.legend(bbox_to_anchor=(1.05, 1), loc=2, borderaxespad=0.)\n",
    "plt.show()"
   ]
  }
 ],
 "metadata": {
  "anaconda-cloud": {},
  "kernelspec": {
   "display_name": "Python [default]",
   "language": "python",
   "name": "python2"
  },
  "language_info": {
   "codemirror_mode": {
    "name": "ipython",
    "version": 2
   },
   "file_extension": ".py",
   "mimetype": "text/x-python",
   "name": "python",
   "nbconvert_exporter": "python",
   "pygments_lexer": "ipython2",
   "version": "2.7.13"
  }
 },
 "nbformat": 4,
 "nbformat_minor": 0
}
