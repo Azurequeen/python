{
 "cells": [
  {
   "cell_type": "code",
   "execution_count": 1,
   "metadata": {
    "collapsed": false
   },
   "outputs": [],
   "source": [
    "# coding: utf-8\n",
    "% matplotlib inline\n",
    "from __future__ import division\n",
    "import tensorflow as tf\n",
    "import numpy as np\n",
    "import random\n",
    "from collections import deque\n",
    "from yahoo_finance import Share\n",
    "import datetime\n",
    "import matplotlib.pyplot as plt\n",
    "import cv2\n",
    "import time\n",
    "import matplotlib.image as pimg"
   ]
  },
  {
   "cell_type": "markdown",
   "metadata": {},
   "source": [
    "#### 注释：\n",
    "> 使输出的参数完全显示  \n",
    "\n",
    "> 若没有这一句，因为参数太多，中间会以省略号“……”的形式代替 "
   ]
  },
  {
   "cell_type": "code",
   "execution_count": 2,
   "metadata": {
    "collapsed": true
   },
   "outputs": [],
   "source": [
    "np.set_printoptions(threshold=np.inf)#print full array"
   ]
  },
  {
   "cell_type": "markdown",
   "metadata": {},
   "source": [
    "#### 注释：\n",
    "> 每个sample使用多少天的数据\n",
    "\n",
    "> 使用哪一个标的进行计算\n",
    "\n",
    "> 设定today为今日\n",
    "\n",
    "> 设定stock_data为距今1年内的价格\n",
    "\n",
    "> 设定stock_data2为距今2年内的价格"
   ]
  },
  {
   "cell_type": "code",
   "execution_count": 3,
   "metadata": {
    "collapsed": false
   },
   "outputs": [
    {
     "name": "stdout",
     "output_type": "stream",
     "text": [
      "history data counts: 255\n"
     ]
    }
   ],
   "source": [
    "day_len = 15   \n",
    "stock = Share('2330.TW') \n",
    "today = datetime.date.today()       \n",
    "stock_data = stock.get_historical('2015-09-01','2016-08-24')        \n",
    "stock_data2 = stock.get_historical('2014-09-01', '2016-08-24')      \n",
    "print 'history data counts:' , len(stock_data)\n",
    "stock_data.reverse() \n",
    "stock_data2.reverse() \n",
    "create_img='false' #test data existed? "
   ]
  },
  {
   "cell_type": "markdown",
   "metadata": {},
   "source": [
    "#### 注释：\n",
    "> 定义remove函数，逐行检查并去除volume小于等于0的行\n",
    "\n",
    "> 输出去除的行数"
   ]
  },
  {
   "cell_type": "code",
   "execution_count": 15,
   "metadata": {
    "collapsed": false
   },
   "outputs": [
    {
     "name": "stdout",
     "output_type": "stream",
     "text": [
      "after remove Volume is 0 : 240\n"
     ]
    }
   ],
   "source": [
    "# remove empty data\n",
    "def remove(stock_data):\n",
    "    i = 0\n",
    "    while( i < len(stock_data)):\n",
    "        if (int(stock_data[i].get('Volume')) <= 0):\n",
    "            stock_data.remove(stock_data[i])\n",
    "            i = -1\n",
    "        i += 1\n",
    "    return stock_data\n",
    "\n",
    "stock_data=remove(stock_data)\n",
    "print 'after remove Volume is 0 :', len(stock_data)\n",
    "stock_data2=remove(stock_data2)"
   ]
  },
  {
   "cell_type": "markdown",
   "metadata": {},
   "source": [
    "## define each line, prepare to draw"
   ]
  },
  {
   "cell_type": "markdown",
   "metadata": {},
   "source": [
    "#### 注释：\n",
    "> 设置年、季、月线\n",
    "\n",
    "> 定义year2011：2年数据比1年数据多多少\n",
    "\n",
    "> 计算年、季、月线值"
   ]
  },
  {
   "cell_type": "code",
   "execution_count": 34,
   "metadata": {
    "collapsed": false
   },
   "outputs": [],
   "source": [
    "yearline={}\n",
    "monthline={}\n",
    "seasonline={}\n",
    "\n",
    "#def yearline()\n",
    "year2011=len(stock_data2)-len(stock_data)\n",
    "for i in xrange(0,len(stock_data)):\n",
    "    year=0\n",
    "    season=0\n",
    "    month=0\n",
    "    for j in xrange(0,year2011):\n",
    "        year+=float(stock_data2[i+j].get('Close'))\n",
    "    yearline[i]=float(year/year2011)\n",
    "#def seasonline()\n",
    "    for j in xrange(0,61):\n",
    "        season+=float(stock_data2[year2011-61+i+j].get('Close'))\n",
    "    seasonline[i]=float(season/61)\n",
    "#def monthline()  \n",
    "    for j in xrange(0,13):\n",
    "        month+=float(stock_data2[year2011-13+i+j].get('Close'))\n",
    "    monthline[i]=float(month/13)\n"
   ]
  },
  {
   "cell_type": "markdown",
   "metadata": {},
   "source": [
    "#### 注释：\n",
    "> my_train: np.zeros([1年数据-时间窗口，时间窗口])\n",
    "\n",
    "> my_img: np.zeros([my_train，64,64])\n",
    "\n",
    "> new_img: np.zeros([my_train，64,64,2])\n",
    "\n",
    "> ......"
   ]
  },
  {
   "cell_type": "code",
   "execution_count": 27,
   "metadata": {
    "collapsed": true
   },
   "outputs": [],
   "source": [
    "my_train = np.zeros((len(stock_data)-day_len, day_len), dtype=np.float)\n",
    "my_img= np.zeros((len(my_train),64,64), dtype=np.float)\n",
    "new_img= np.zeros((len(my_train),64,64,2), dtype=np.float)\n",
    "my_year = np.zeros((len(stock_data)-day_len, day_len), dtype=np.float)\n",
    "year_img= np.zeros((len(my_train),64,64), dtype=np.float)\n",
    "my_season = np.zeros((len(stock_data)-day_len, day_len), dtype=np.float)\n",
    "my_month = np.zeros((len(stock_data)-day_len, day_len), dtype=np.float)"
   ]
  },
  {
   "cell_type": "markdown",
   "metadata": {},
   "source": [
    "## Set training and testing data"
   ]
  },
  {
   "cell_type": "markdown",
   "metadata": {},
   "source": [
    "#### 注释：\n",
    "> 收益 > earn && 损失 < loss 的，用本身的值表示Label，否则Label = 0\n"
   ]
  },
  {
   "cell_type": "code",
   "execution_count": 28,
   "metadata": {
    "collapsed": false
   },
   "outputs": [
    {
     "name": "stdout",
     "output_type": "stream",
     "text": [
      "real label\n",
      "[ 15.   15.5  14.   13.   13.   14.5  14.   14.   13.5  14.5  16.   15.\n",
      "  -7.   14.5  14.5  -8.5  14.5  14.   -7.5  -7.   14.5  -8.5  -8.5  -7.5\n",
      "  14.   14.5  14.5  14.5  -8.   -8.5  -7.5  -8.5  -9.   -8.   14.5  -7.\n",
      "  15.   16.   -7.   14.   -7.5  -8.   -8.   -8.   -8.   -9.5  -7.5  -7.5\n",
      "  -9.5  -9.5  -9.5  -7.5  -8.   -9.5  -7.5  -8.   -8.   -7.5  14.   -8.\n",
      "  -9.5  -9.   -8.5  -9.   -8.5  -9.   -7.5  -8.   -9.   -9.5  -7.5  -8.\n",
      "  14.   15.5  14.5  13.5  14.5  14.5  14.   14.5  14.   14.   14.   13.5\n",
      "  16.   14.5  14.5  14.5  14.5  14.5  15.5  14.5  16.   15.5  15.   18.\n",
      "  17.5  31.   31.   31.   16.   17.5  31.5  16.5  -8.   -9.   -8.   -8.5\n",
      "  -8.   -8.   -9.   -8.5  -8.   -8.5  -8.5  -8.5  -8.5  -9.5 -10.   -8.5\n",
      "  -9.5  -8.5  -8.   -9.   -9.   -8.5  -8.5  -8.5  -9.5  -8.5 -10.   -8.5\n",
      "  -8.5  -8.5  -8.5  -9.5  -8.  -10.   -8.   -9.5  -9.  -10.   -8.   -9.\n",
      "  -9.   15.5  18.   15.   18.   17.5  18.   15.   15.   15.   15.   14.5\n",
      "  15.   15.   15.   17.   28.   31.   27.5  27.   25.5  25.   25.5  23.\n",
      "  23.   21.5  21.   20.  -10.  -20.   16.5  16.5  16.5  16.5  16.5  16.5\n",
      " -10.  -10.5  -8.5  16.   16.5  16.   16.   17.    0.    0.    0.   16.5\n",
      "   0.    0.    0.    0.    0.    0.    0.    0.    0.    0.    0.    0.\n",
      "   0.    0.    0.    0.    0.    0.    0.    0.    0.    0.    0.    0.\n",
      "   0.    0.    0.    0.    0.    0.    0.    0.    0. ]\n"
     ]
    }
   ],
   "source": [
    "for i in range(0, len(my_train)):\n",
    "    for j in range(0, day_len):\n",
    "        my_train[i,j] = float(stock_data[i+j].get('Close'))\n",
    "        my_year[i,j] = yearline[i+j]\n",
    "        my_month[i,j] = monthline[i+j]\n",
    "        my_season[i,j] = seasonline[i+j]\n",
    "\n",
    "\n",
    "label_test= np.zeros(len(my_train), dtype=np.float)\n",
    "\n",
    "#set reward\n",
    "earn=10\n",
    "loss=-5\n",
    "for x in xrange(0,len(my_train)):\n",
    "    for y in xrange(0,500):# in the next 500 days reach 10 or-5\n",
    "        if(x+y+1<len(my_train)):\n",
    "\n",
    "            if((my_train[x+y+1][day_len-1]-my_train[x][day_len-1])/my_train[x][day_len-1]*100>earn):\n",
    "                label_test[x]=my_train[x+y+1][day_len-1]-my_train[x][day_len-1]\n",
    "                break\n",
    "            elif((my_train[x+y+1][day_len-1]-my_train[x][day_len-1])/my_train[x][day_len-1]*100<loss):\n",
    "                label_test[x]=my_train[x+y+1][day_len-1]-my_train[x][day_len-1]\n",
    "                break\n",
    "        else:\n",
    "            label_test[x]=0\n",
    "print(\"real label\")            \n",
    "print(label_test)"
   ]
  },
  {
   "cell_type": "markdown",
   "metadata": {},
   "source": [
    "## draw image and load"
   ]
  },
  {
   "cell_type": "code",
   "execution_count": 45,
   "metadata": {
    "collapsed": false
   },
   "outputs": [
    {
     "data": {
      "text/plain": [
       "(225, 64, 64)"
      ]
     },
     "execution_count": 45,
     "metadata": {},
     "output_type": "execute_result"
    }
   ],
   "source": [
    "my_img.shape"
   ]
  },
  {
   "cell_type": "code",
   "execution_count": 47,
   "metadata": {
    "collapsed": false
   },
   "outputs": [
    {
     "data": {
      "text/plain": [
       "<matplotlib.image.AxesImage at 0x123641b90>"
      ]
     },
     "execution_count": 47,
     "metadata": {},
     "output_type": "execute_result"
    },
    {
     "data": {
      "image/png": "[encoded data removed]",
      "text/plain": [
       "<matplotlib.figure.Figure at 0x11745db10>"
      ]
     },
     "metadata": {},
     "output_type": "display_data"
    }
   ],
   "source": [
    "plt.imshow(my_img[0])"
   ]
  },
  {
   "cell_type": "markdown",
   "metadata": {},
   "source": [
    "#### 注释：\n",
    "> 归一化数据\n",
    "\n",
    "> 用plt画图\n",
    "\n",
    "> 保存图像，然后再读取图像，reshape成[4，64，64]的彩图\n",
    "\n",
    "> 用img_gray将图像再降维成[64,64]的图/数组\n",
    "\n",
    "> 设定此为训练集\n",
    "\n"
   ]
  },
  {
   "cell_type": "code",
   "execution_count": 29,
   "metadata": {
    "collapsed": false
   },
   "outputs": [
    {
     "name": "stdout",
     "output_type": "stream",
     "text": [
      "axis y draw min -6, max 6\n"
     ]
    }
   ],
   "source": [
    "def img_gray(my_img):\n",
    "    new_img= np.zeros((64,64), dtype=np.float)\n",
    "    for x in xrange(0,len(my_img)):\n",
    "        for y in xrange(0,len(my_img[x])):\n",
    "            if (my_img[x,y,0]!=1 and my_img[x,y,1]!=1):\n",
    "                new_img[x,y]=0.7\n",
    "            elif (my_img[x,y,0]!=1 and my_img[x,y,2]!=1):\n",
    "                new_img[x,y]=0\n",
    "            elif (my_img[x,y,1]!=1 and my_img[x,y,2]!=1):\n",
    "                new_img[x,y]=0.35\n",
    "            else:\n",
    "                new_img[x,y]=1\n",
    "    return new_img\n",
    "\n",
    "\n",
    "def normalize(li):#a list for create image\n",
    "    mean=sum(li) / float(len(li))\n",
    "    for i in xrange(0,len(li)):\n",
    "        li[i]=li[i]-mean\n",
    "    return li\n",
    "## yearline\n",
    "#if(create_img=='true'):\n",
    "if True:\n",
    "  #normalize\n",
    "  for i in range(0, len(my_train)-1):\n",
    "      my_train[i]=normalize(my_train[i])\n",
    "      my_year[i]=normalize(my_year[i])\t\n",
    "      my_month[i]=normalize(my_month[i])\t\n",
    "      my_season[i]=normalize(my_season[i])\t\n",
    "\n",
    "  min_y=-6\n",
    "  max_y=6\n",
    "  print(\"axis y draw min \"+str(min_y)+\", max \"+str(max_y))\n",
    "  for x in xrange(0,len(my_year)):#save file\n",
    "      #plt.figure()\n",
    "      #print(\"saving pic:\"+str(x))\n",
    "      plt.plot(my_year[x],label='year_close',linewidth=5,color=[0,0,1])\n",
    "      plt.plot(my_month[x],label='month_close',linewidth=5,color=[0,1,0])\n",
    "      plt.plot(my_season[x],label='season_close',linewidth=5,color=[1,0,0])\n",
    "      plt.axis([0, 14, min_y, max_y])\n",
    "      plt.axis('off')\n",
    "      plt.savefig('year_test/'+str(x)+'.png')\n",
    "      plt.close()\n",
    "\n",
    "for x in xrange(0,len(my_train)-day_len-1):#load file\n",
    "    img = pimg.imread('year_test/'+str(x)+'.png')\n",
    "    img2=cv2.resize(img,(64,64)) \n",
    "    my_img[x]=img_gray(img2)\n",
    "    \n",
    "##end yearline\n",
    "my_test=my_img"
   ]
  },
  {
   "cell_type": "markdown",
   "metadata": {},
   "source": [
    "## action and reward"
   ]
  },
  {
   "cell_type": "code",
   "execution_count": 30,
   "metadata": {
    "collapsed": true
   },
   "outputs": [],
   "source": [
    "class TWStock():\n",
    "    def __init__(self, stock_data,label):\n",
    "        self.stock_data = stock_data\n",
    "        self.stock_index = 0\n",
    "        self.label=label\n",
    "    def render(self):\n",
    "        # 尚未實作\n",
    "        return \n",
    "    \n",
    "    def reset(self):\n",
    "        self.stock_index = 0\n",
    "        return self.stock_data[self.stock_index]\n",
    "    \n",
    "    # 0: 觀望, 1: 持有多單, 2: 持有空單\n",
    "    def step(self, action): \n",
    "        self.stock_index += 1\n",
    "\n",
    "        action_reward=self.label[self.stock_index]\n",
    "        if (action == 0):\n",
    "            action_reward = 0\n",
    "\n",
    "        #if (action == 2):\n",
    "        #    action_reward = -1 * action_reward\n",
    "        #print(str(action)+\" \"+str(action_reward))\n",
    "\n",
    "        cv2.imshow('image',self.stock_data[self.stock_index])\n",
    "        cv2.waitKey(1)\n",
    "\n",
    "        stock_done = False\n",
    "        if self.stock_index >= len(self.stock_data)-1:\n",
    "            stock_done = True\n",
    "        else:\n",
    "            stock_done = False\n",
    "        return self.stock_data[self.stock_index], action_reward, stock_done, 0\n"
   ]
  },
  {
   "cell_type": "markdown",
   "metadata": {},
   "source": [
    "# DQN network define and agent"
   ]
  },
  {
   "cell_type": "code",
   "execution_count": 31,
   "metadata": {
    "collapsed": true
   },
   "outputs": [],
   "source": [
    "def conv2d(x, W,s):\n",
    "  return tf.nn.conv2d(x, W, strides=[1, s,s,1], padding='SAME')\n",
    "\n",
    "def max_pool_2x2(x):\n",
    "  return tf.nn.max_pool(x, ksize=[1, 2, 2, 1],\n",
    "                        strides=[1, 2, 2, 1], padding='SAME')\n",
    "\n"
   ]
  },
  {
   "cell_type": "code",
   "execution_count": 32,
   "metadata": {
    "collapsed": true
   },
   "outputs": [],
   "source": [
    "# Hyper Parameters for DQN\n",
    "GAMMA = 0.9 # discount factor for target Q\n",
    "INITIAL_EPSILON = 0.5 # starting value of epsilon\n",
    "FINAL_EPSILON = 0.01 # final value of epsilon\n",
    "REPLAY_SIZE = 10000 # experience replay buffer size\n",
    "BATCH_SIZE = 32 # size of minibatch\n",
    "\n",
    "class DQN():\n",
    "  # DQN Agent\n",
    "  def __init__(self, env):\n",
    "    # init experience replay\n",
    "    self.replay_buffer = deque()\n",
    "\n",
    "    # init some parameters\n",
    "    self.time_step = 0\n",
    "    self.epsilon = INITIAL_EPSILON\n",
    "    \n",
    "    #self.state_dim = env.observation_space.shape[0]\n",
    "    #self.action_dim = env.action_space.n\n",
    "    \n",
    "    self.state_dim = day_len\n",
    "    self.action_dim = 2\n",
    "\n",
    "\n",
    "    self.create_Q_network()\n",
    "    self.create_training_method()\n",
    "\n",
    "     # saving and loading networks\n",
    "    self.saver = tf.train.Saver()\n",
    "    self.session = tf.InteractiveSession()\n",
    "    self.session.run(tf.global_variables_initializer())\n",
    "    checkpoint = tf.train.get_checkpoint_state(\"saved_year_r\")\n",
    "    if checkpoint and checkpoint.model_checkpoint_path:\n",
    "        self.saver.restore(self.session, checkpoint.model_checkpoint_path)\n",
    "        print \"Successfully loaded:\", checkpoint.model_checkpoint_path\n",
    "    else:\n",
    "        print \"Could not find old network weights\"\n",
    "\n",
    "\n",
    "  def create_Q_network(self):\n",
    "    #-----------------------end cnn   start\n",
    "         \n",
    "        # network weights\n",
    "    W_conv1 = self.weight_variable([8,8,1,32])\n",
    "    b_conv1 = self.bias_variable([32])\n",
    "\n",
    "    W_conv2 = self.weight_variable([4,4,32,64])\n",
    "    b_conv2 = self.bias_variable([64])\n",
    "\n",
    "    W_conv3 = self.weight_variable([3,3,64,64])\n",
    "    b_conv3 = self.bias_variable([64])\n",
    "\n",
    "    W_fc1 = self.weight_variable([1024,512])\n",
    "    b_fc1 = self.bias_variable([512])\n",
    "\n",
    "    W_fc2 = self.weight_variable([512,self.action_dim])\n",
    "    b_fc2 = self.bias_variable([self.action_dim])\n",
    "\n",
    "    # input layer\n",
    "\n",
    "    self.state_input = tf.placeholder(\"float\",[None,64,64])\n",
    "    input1=tf.reshape(self.state_input,[-1,64,64,1])  \n",
    "\n",
    "    # hidden layers\n",
    "    h_conv1 = tf.nn.relu(conv2d(input1,W_conv1,4) + b_conv1)\n",
    "    h_pool1 = max_pool_2x2(h_conv1)\n",
    "\n",
    "    h_conv2 = tf.nn.relu(conv2d(h_pool1,W_conv2,2) + b_conv2)\n",
    "\n",
    "    h_conv3 = tf.nn.relu(conv2d(h_conv2,W_conv3,1) + b_conv3)\n",
    "    h_conv3_shape = h_conv3.get_shape().as_list()\n",
    "    print \"dimension:\",h_conv3_shape[1]*h_conv3_shape[2]*h_conv3_shape[3]\n",
    "    h_conv3_flat = tf.reshape(h_conv3,[-1,1024])\n",
    "\n",
    "    h_fc1 = tf.nn.relu(tf.matmul(h_conv3_flat,W_fc1) + b_fc1)\n",
    "\n",
    "    # Q Value layer\n",
    "    self.Q_value = tf.matmul(h_fc1,W_fc2) + b_fc2\n",
    "\n",
    "\n",
    "\n",
    "  def create_training_method(self):\n",
    "    self.action_input = tf.placeholder(\"float\",[None,self.action_dim])\n",
    "    # one hot presentation\n",
    "    self.y_input = tf.placeholder(\"float\",[None])\n",
    "    Q_action = tf.reduce_sum(tf.multiply(self.Q_value,self.action_input),reduction_indices = 1)\n",
    "    self.cost = tf.reduce_mean(tf.square(self.y_input - Q_action))\n",
    "    self.optimizer =  tf.train.RMSPropOptimizer(0.00025,0.99,0.0,1e-6).minimize(self.cost)\n",
    "\n",
    "\n",
    "\n",
    "    \n",
    "  def perceive(self,state,action,reward,next_state,done):\n",
    "    one_hot_action = np.zeros(self.action_dim)\n",
    "    one_hot_action[action] = 1\n",
    "    self.replay_buffer.append((state,one_hot_action,reward,next_state,done))\n",
    "    \n",
    "    if len(self.replay_buffer) > REPLAY_SIZE:\n",
    "      self.replay_buffer.popleft()\n",
    "\n",
    "    if len(self.replay_buffer) > BATCH_SIZE:\n",
    "      self.train_Q_network()\n",
    "\n",
    "  def train_Q_network(self):\n",
    "    self.time_step += 1\n",
    "\n",
    "    # Step 1: obtain random minibatch from replay memory\n",
    "    minibatch = random.sample(self.replay_buffer,BATCH_SIZE)\n",
    "    state_batch = [data[0] for data in minibatch]\n",
    "    action_batch = [data[1] for data in minibatch]\n",
    "    reward_batch = [data[2] for data in minibatch]\n",
    "    #print(reward_batch)\n",
    "    next_state_batch = [data[3] for data in minibatch]\n",
    "    # Step 2: calculate y\n",
    "    y_batch = []\n",
    "    Q_value_batch = self.Q_value.eval(feed_dict={self.state_input:next_state_batch})\n",
    "\n",
    "    for i in range(0,BATCH_SIZE):\n",
    "        done = minibatch[i][4]\n",
    "        if done:\n",
    "            y_batch.append(reward_batch[i])\n",
    "        else :\n",
    "            y_batch.append(reward_batch[i] + GAMMA * np.max(Q_value_batch[i]))\n",
    "    self.optimizer.run(feed_dict={\n",
    "      self.y_input:y_batch,\n",
    "      self.action_input:action_batch,\n",
    "      self.state_input:state_batch\n",
    "      })\n",
    "\n",
    "       \n",
    "  def egreedy_action(self,state):\n",
    "    Q_value = self.Q_value.eval(feed_dict = {\n",
    "      self.state_input:[state]})[0]\n",
    "    if random.random() <= self.epsilon:\n",
    "      return random.randint(0,self.action_dim - 1)\n",
    "    else:\n",
    "      return np.argmax(Q_value)\n",
    "\n",
    "    self.epsilon -= (INITIAL_EPSILON - FINAL_EPSILON)/10000\n",
    "\n",
    "\n",
    "  def action(self,state):\n",
    "    return np.argmax(self.Q_value.eval(feed_dict = {\n",
    "      self.state_input:[state]})[0])\n",
    "\n",
    "\n",
    "  def weight_variable(self,shape):\n",
    "    initial = tf.truncated_normal(shape)\n",
    "    return tf.Variable(initial)\n",
    "\n",
    "  def bias_variable(self,shape):\n",
    "    initial = tf.constant(0.01, shape = shape)\n",
    "    return tf.Variable(initial)"
   ]
  },
  {
   "cell_type": "markdown",
   "metadata": {},
   "source": [
    "## Main function"
   ]
  },
  {
   "cell_type": "code",
   "execution_count": 33,
   "metadata": {
    "collapsed": false
   },
   "outputs": [
    {
     "name": "stdout",
     "output_type": "stream",
     "text": [
      "開始執行\n",
      "dimension: 1024\n",
      "Could not find old network weights\n",
      "Evaluation Total Reward: 908.0\n",
      "[1.05 1.0 0.9 0.95 1.0 0.95 0.85 1.0 1.0 0.35 0.0]\n"
     ]
    },
    {
     "data": {
      "image/png": "[encoded data removed]",
      "text/plain": [
       "<matplotlib.figure.Figure at 0x123de9590>"
      ]
     },
     "metadata": {},
     "output_type": "display_data"
    }
   ],
   "source": [
    "STEP = 1000   # Step limitation in an episode\n",
    "\n",
    "def main():\n",
    "\n",
    " print '開始執行'\n",
    "\n",
    "\n",
    " out=\"test\\n\"     \n",
    " env1=TWStock(my_test,label_test)\n",
    " agent = DQN(env1)\n",
    " total_reward = 0\n",
    " month_reward=0\n",
    " state = env1.reset()\n",
    " p=0\n",
    " n=0\n",
    " month_arr={}\n",
    " buy_rate={}\n",
    " for j in xrange(STEP):\n",
    "\n",
    "   env1.render()\n",
    "   action = agent.action(state)   # direct action for test\n",
    "   state,reward,done,_ = env1.step(action)\n",
    "   out+=str(action)+\" \"+str(reward)+\",\"\n",
    "   if(reward>0):\n",
    "      p+=1\n",
    "   elif(reward<0):\n",
    "      n+=1\n",
    "   total_reward += reward\n",
    "   month_reward += reward\n",
    "   if((j % 20==0 )and( j!=0 )):\n",
    "      #out+=\"\\n\"+\"month_reward,correct,wrong : \"+str(month_reward)+\" \"+str(p)+\" \"+str(n)+\"\\n\\n\"\n",
    "      buy_rate=np.append(buy_rate,(p+n)/20)   \n",
    "      p=0\n",
    "      n=0\n",
    "      month_arr=np.append(month_arr,month_reward)\n",
    " \n",
    "      month_reward=0\n",
    "   if done:\n",
    "     break\n",
    " #print(\"correct,wrong ,rate : \"+str(p)+\" \"+str(n)+\" \"+str(p/(p+n)))\n",
    " print 'Evaluation Total Reward:',total_reward\n",
    "    \n",
    " label_line={}\n",
    " sum_=0\n",
    " for x in xrange(0,len(label_test)):\n",
    "     sum_+=label_test[x]\n",
    "     if(x % 20==0 and x!=0):\n",
    "         label_line=np.append(label_line,sum_)\n",
    "         sum_=0\n",
    " label_line=np.delete(label_line,0)\n",
    " month_arr=np.delete(month_arr,0)\n",
    " buy_rate=np.delete(buy_rate,0)\n",
    " for x in xrange(0,len(month_arr)):\n",
    "        #month_arr[x]=month_arr[x]*buy_rate[x]\n",
    "        label_line[x]=label_line[x]*buy_rate[x]\n",
    " print (buy_rate)\n",
    " plt.figure()\n",
    " plt.plot(label_line, 'ro',label='baseline',linewidth=1,color=[1,0,0])\n",
    " plt.title(\"monthly profit with baseline\")\n",
    " #plt.plot(month_arr,label='predict',linewidth=5,color=[0,1,0])\n",
    " width = 0.6\n",
    " plt.bar([0,0.7,1.7,2.7,3.7,4.7,5.7,6.7,7.7,8.7,9.3],month_arr,width=width,label='predict')\n",
    " #plt.axis([0, 14, min_y, max_y])\n",
    " plt.legend(bbox_to_anchor=(1.05, 1), loc=2, borderaxespad=0.)\n",
    "\n",
    " plt.show()\n",
    "\n",
    "if __name__ == '__main__':\n",
    " main()"
   ]
  },
  {
   "cell_type": "code",
   "execution_count": null,
   "metadata": {
    "collapsed": true
   },
   "outputs": [],
   "source": []
  }
 ],
 "metadata": {
  "anaconda-cloud": {},
  "kernelspec": {
   "display_name": "Python [default]",
   "language": "python",
   "name": "python2"
  },
  "language_info": {
   "codemirror_mode": {
    "name": "ipython",
    "version": 2
   },
   "file_extension": ".py",
   "mimetype": "text/x-python",
   "name": "python",
   "nbconvert_exporter": "python",
   "pygments_lexer": "ipython2",
   "version": "2.7.13"
  }
 },
 "nbformat": 4,
 "nbformat_minor": 0
}
