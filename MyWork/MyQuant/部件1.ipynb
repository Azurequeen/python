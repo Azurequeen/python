{
 "cells": [
  {
   "cell_type": "code",
   "execution_count": 1,
   "metadata": {
    "collapsed": false
   },
   "outputs": [],
   "source": [
    "import tushare as ts\n",
    "import pandas as pd\n",
    "import numpy as np\n",
    "import matplotlib.pyplot as plt\n",
    "import sklearn\n",
    "import talib\n",
    "import seaborn as sns\n",
    "\n",
    "from solo.getdata import *\n",
    "\n",
    "%matplotlib inline\n",
    "%load_ext autoreload\n",
    "%autoreload 2"
   ]
  },
  {
   "cell_type": "markdown",
   "metadata": {},
   "source": [
    "# 一、获取数据\n",
    "## 参数说明：\n",
    "- 'name'：名称\n",
    "- 'start'：开始时间\n",
    "- 'data_type'：数据处理方式，'normal'：原始数据, 'carg'：复合增长率, 'grow'：增长速度\n",
    "- 'ktype' ：时间周期"
   ]
  },
  {
   "cell_type": "code",
   "execution_count": 2,
   "metadata": {
    "collapsed": false
   },
   "outputs": [
    {
     "name": "stdout",
     "output_type": "stream",
     "text": [
      "获得原始数据：\t 399300\n",
      "起始时间：\t 2005-04-08\n",
      "结束时间：\t 2017-02-28\n",
      "数据个数：\t 2890\n",
      "\n",
      "      open    close     high     low      volume\n",
      "0   984.66  1003.45  1003.70  979.53  14762500.0\n",
      "1  1003.88   995.42  1008.73  992.77  15936100.0\n",
      "2   993.71   978.70   993.71  978.20  10226200.0\n",
      "3   987.95  1000.90  1006.50  987.95  16071700.0\n",
      "4  1004.64   986.97  1006.42  985.58  12945700.0\n",
      "\n",
      "查看最新数据：\n",
      "\n",
      "                open      high     close       low    volume\n",
      "2005-04-11  0.019519  0.005011 -0.008002  0.013517  0.079499\n",
      "2005-04-12 -0.010131 -0.014890 -0.016797 -0.014676 -0.358300\n",
      "2005-04-13 -0.005796  0.012871  0.022683  0.009967  0.571620\n",
      "2005-04-14  0.016894 -0.000079 -0.013917 -0.002399 -0.194503\n",
      "2005-04-15 -0.021928 -0.023658 -0.013060 -0.013850 -0.195949\n"
     ]
    }
   ],
   "source": [
    "new_data = data_recieve(name='399300',start = '2004-10-01',data_type = 'carg',ktype='D')"
   ]
  },
  {
   "cell_type": "markdown",
   "metadata": {},
   "source": [
    "\n",
    "\n",
    "# 二、建立特征\n",
    "## 参数说明：\n",
    "- 'data'：数据集\n",
    "- 'time'：多个时间周期\n",
    "- 'normal'：是否对数据进行归一化\n",
    "- 'pattern' ：是否加入k模式识别"
   ]
  },
  {
   "cell_type": "code",
   "execution_count": 3,
   "metadata": {
    "collapsed": false
   },
   "outputs": [],
   "source": [
    "ml_datas = data_indicator(data=new_data,time=[5,10,20,30,60],pattern=True,normal=True)"
   ]
  },
  {
   "cell_type": "code",
   "execution_count": 4,
   "metadata": {
    "collapsed": false,
    "scrolled": false
   },
   "outputs": [
    {
     "data": {
      "text/html": [
       "<div>\n",
       "<table border=\"1\" class=\"dataframe\">\n",
       "  <thead>\n",
       "    <tr style=\"text-align: right;\">\n",
       "      <th></th>\n",
       "      <th>DEMA_open_5</th>\n",
       "      <th>EMA_open_5</th>\n",
       "      <th>KAMA_open_5</th>\n",
       "      <th>MA_open_5</th>\n",
       "      <th>MIDPOINT_open_5</th>\n",
       "      <th>SMA_open_5</th>\n",
       "      <th>T3_open_5</th>\n",
       "      <th>TRIMA_open_5</th>\n",
       "      <th>WMA_open_5</th>\n",
       "      <th>CMO_open_5</th>\n",
       "      <th>...</th>\n",
       "      <th>MAMA_mama</th>\n",
       "      <th>MAMA_fama</th>\n",
       "      <th>STOCH_slowk</th>\n",
       "      <th>STOCH_slowd</th>\n",
       "      <th>STOCHF_fastk</th>\n",
       "      <th>STOCHF_fastd</th>\n",
       "      <th>SAR</th>\n",
       "      <th>SAREXT</th>\n",
       "      <th>ULTOSC</th>\n",
       "      <th>target</th>\n",
       "    </tr>\n",
       "  </thead>\n",
       "  <tbody>\n",
       "    <tr>\n",
       "      <th>count</th>\n",
       "      <td>2.534000e+03</td>\n",
       "      <td>2.534000e+03</td>\n",
       "      <td>2.534000e+03</td>\n",
       "      <td>2.534000e+03</td>\n",
       "      <td>2.534000e+03</td>\n",
       "      <td>2.534000e+03</td>\n",
       "      <td>2.534000e+03</td>\n",
       "      <td>2.534000e+03</td>\n",
       "      <td>2.534000e+03</td>\n",
       "      <td>2.534000e+03</td>\n",
       "      <td>...</td>\n",
       "      <td>2.534000e+03</td>\n",
       "      <td>2.534000e+03</td>\n",
       "      <td>2.534000e+03</td>\n",
       "      <td>2.534000e+03</td>\n",
       "      <td>2.534000e+03</td>\n",
       "      <td>2.534000e+03</td>\n",
       "      <td>2.534000e+03</td>\n",
       "      <td>2.534000e+03</td>\n",
       "      <td>2.534000e+03</td>\n",
       "      <td>2534.000000</td>\n",
       "    </tr>\n",
       "    <tr>\n",
       "      <th>mean</th>\n",
       "      <td>-8.067080e-18</td>\n",
       "      <td>-4.929517e-17</td>\n",
       "      <td>6.668348e-17</td>\n",
       "      <td>8.961962e-17</td>\n",
       "      <td>-3.919079e-17</td>\n",
       "      <td>8.961962e-17</td>\n",
       "      <td>1.046092e-16</td>\n",
       "      <td>1.774429e-18</td>\n",
       "      <td>6.163403e-17</td>\n",
       "      <td>1.146259e-17</td>\n",
       "      <td>...</td>\n",
       "      <td>-7.719862e-17</td>\n",
       "      <td>7.484367e-17</td>\n",
       "      <td>4.311205e-17</td>\n",
       "      <td>-3.207116e-16</td>\n",
       "      <td>-7.886351e-18</td>\n",
       "      <td>4.311205e-17</td>\n",
       "      <td>2.653976e-17</td>\n",
       "      <td>-4.718667e-16</td>\n",
       "      <td>2.492087e-16</td>\n",
       "      <td>0.037096</td>\n",
       "    </tr>\n",
       "    <tr>\n",
       "      <th>std</th>\n",
       "      <td>1.000197e+00</td>\n",
       "      <td>1.000197e+00</td>\n",
       "      <td>1.000197e+00</td>\n",
       "      <td>1.000197e+00</td>\n",
       "      <td>1.000197e+00</td>\n",
       "      <td>1.000197e+00</td>\n",
       "      <td>1.000197e+00</td>\n",
       "      <td>1.000197e+00</td>\n",
       "      <td>1.000197e+00</td>\n",
       "      <td>1.000197e+00</td>\n",
       "      <td>...</td>\n",
       "      <td>1.000197e+00</td>\n",
       "      <td>1.000197e+00</td>\n",
       "      <td>1.000197e+00</td>\n",
       "      <td>1.000197e+00</td>\n",
       "      <td>1.000197e+00</td>\n",
       "      <td>1.000197e+00</td>\n",
       "      <td>1.000197e+00</td>\n",
       "      <td>1.000197e+00</td>\n",
       "      <td>1.000197e+00</td>\n",
       "      <td>1.914323</td>\n",
       "    </tr>\n",
       "    <tr>\n",
       "      <th>min</th>\n",
       "      <td>-6.879581e+00</td>\n",
       "      <td>-6.828407e+00</td>\n",
       "      <td>-3.865428e+00</td>\n",
       "      <td>-6.266030e+00</td>\n",
       "      <td>-4.770356e+00</td>\n",
       "      <td>-6.266030e+00</td>\n",
       "      <td>-6.079179e+00</td>\n",
       "      <td>-6.063260e+00</td>\n",
       "      <td>-6.743150e+00</td>\n",
       "      <td>-3.300332e+00</td>\n",
       "      <td>...</td>\n",
       "      <td>-4.493369e+00</td>\n",
       "      <td>-3.438499e+00</td>\n",
       "      <td>-3.472618e+00</td>\n",
       "      <td>-3.463685e+00</td>\n",
       "      <td>-5.264618e+00</td>\n",
       "      <td>-3.472618e+00</td>\n",
       "      <td>-2.670406e+00</td>\n",
       "      <td>-3.885397e+00</td>\n",
       "      <td>-4.684086e+00</td>\n",
       "      <td>-9.000000</td>\n",
       "    </tr>\n",
       "    <tr>\n",
       "      <th>25%</th>\n",
       "      <td>-4.929939e-01</td>\n",
       "      <td>-5.320015e-01</td>\n",
       "      <td>-5.237369e-01</td>\n",
       "      <td>-5.437728e-01</td>\n",
       "      <td>-5.307976e-01</td>\n",
       "      <td>-5.437728e-01</td>\n",
       "      <td>-5.353566e-01</td>\n",
       "      <td>-5.441002e-01</td>\n",
       "      <td>-5.406476e-01</td>\n",
       "      <td>-6.874905e-01</td>\n",
       "      <td>...</td>\n",
       "      <td>-5.346192e-01</td>\n",
       "      <td>-5.354208e-01</td>\n",
       "      <td>-6.934438e-01</td>\n",
       "      <td>-7.302864e-01</td>\n",
       "      <td>-7.317571e-01</td>\n",
       "      <td>-6.934438e-01</td>\n",
       "      <td>-6.789135e-01</td>\n",
       "      <td>-4.892524e-01</td>\n",
       "      <td>-6.585407e-01</td>\n",
       "      <td>-1.000000</td>\n",
       "    </tr>\n",
       "    <tr>\n",
       "      <th>50%</th>\n",
       "      <td>2.816460e-02</td>\n",
       "      <td>2.534905e-02</td>\n",
       "      <td>7.497099e-02</td>\n",
       "      <td>2.052509e-02</td>\n",
       "      <td>4.371917e-02</td>\n",
       "      <td>2.052509e-02</td>\n",
       "      <td>3.195691e-02</td>\n",
       "      <td>9.455325e-03</td>\n",
       "      <td>2.544241e-02</td>\n",
       "      <td>-3.087063e-03</td>\n",
       "      <td>...</td>\n",
       "      <td>2.522643e-02</td>\n",
       "      <td>5.425176e-04</td>\n",
       "      <td>2.621713e-04</td>\n",
       "      <td>1.497818e-02</td>\n",
       "      <td>1.113017e-02</td>\n",
       "      <td>2.621713e-04</td>\n",
       "      <td>-1.545793e-01</td>\n",
       "      <td>2.269594e-01</td>\n",
       "      <td>1.920022e-02</td>\n",
       "      <td>0.000000</td>\n",
       "    </tr>\n",
       "    <tr>\n",
       "      <th>75%</th>\n",
       "      <td>5.537439e-01</td>\n",
       "      <td>5.910117e-01</td>\n",
       "      <td>6.107503e-01</td>\n",
       "      <td>5.976920e-01</td>\n",
       "      <td>6.030920e-01</td>\n",
       "      <td>5.976920e-01</td>\n",
       "      <td>6.246709e-01</td>\n",
       "      <td>5.828155e-01</td>\n",
       "      <td>6.063891e-01</td>\n",
       "      <td>7.162029e-01</td>\n",
       "      <td>...</td>\n",
       "      <td>5.559085e-01</td>\n",
       "      <td>6.156152e-01</td>\n",
       "      <td>7.395991e-01</td>\n",
       "      <td>7.560071e-01</td>\n",
       "      <td>7.509557e-01</td>\n",
       "      <td>7.395991e-01</td>\n",
       "      <td>8.014835e-01</td>\n",
       "      <td>7.235539e-01</td>\n",
       "      <td>7.176579e-01</td>\n",
       "      <td>1.000000</td>\n",
       "    </tr>\n",
       "    <tr>\n",
       "      <th>max</th>\n",
       "      <td>5.807720e+00</td>\n",
       "      <td>4.417175e+00</td>\n",
       "      <td>3.055940e+00</td>\n",
       "      <td>3.624271e+00</td>\n",
       "      <td>6.179925e+00</td>\n",
       "      <td>3.624271e+00</td>\n",
       "      <td>3.479735e+00</td>\n",
       "      <td>4.638870e+00</td>\n",
       "      <td>4.000902e+00</td>\n",
       "      <td>3.609216e+00</td>\n",
       "      <td>...</td>\n",
       "      <td>4.098329e+00</td>\n",
       "      <td>3.355834e+00</td>\n",
       "      <td>3.043678e+00</td>\n",
       "      <td>3.039008e+00</td>\n",
       "      <td>3.666692e+00</td>\n",
       "      <td>3.043678e+00</td>\n",
       "      <td>3.074202e+00</td>\n",
       "      <td>2.009339e+00</td>\n",
       "      <td>3.304570e+00</td>\n",
       "      <td>9.000000</td>\n",
       "    </tr>\n",
       "  </tbody>\n",
       "</table>\n",
       "<p>8 rows × 909 columns</p>\n",
       "</div>"
      ],
      "text/plain": [
       "        DEMA_open_5    EMA_open_5   KAMA_open_5     MA_open_5  \\\n",
       "count  2.534000e+03  2.534000e+03  2.534000e+03  2.534000e+03   \n",
       "mean  -8.067080e-18 -4.929517e-17  6.668348e-17  8.961962e-17   \n",
       "std    1.000197e+00  1.000197e+00  1.000197e+00  1.000197e+00   \n",
       "min   -6.879581e+00 -6.828407e+00 -3.865428e+00 -6.266030e+00   \n",
       "25%   -4.929939e-01 -5.320015e-01 -5.237369e-01 -5.437728e-01   \n",
       "50%    2.816460e-02  2.534905e-02  7.497099e-02  2.052509e-02   \n",
       "75%    5.537439e-01  5.910117e-01  6.107503e-01  5.976920e-01   \n",
       "max    5.807720e+00  4.417175e+00  3.055940e+00  3.624271e+00   \n",
       "\n",
       "       MIDPOINT_open_5    SMA_open_5     T3_open_5  TRIMA_open_5  \\\n",
       "count     2.534000e+03  2.534000e+03  2.534000e+03  2.534000e+03   \n",
       "mean     -3.919079e-17  8.961962e-17  1.046092e-16  1.774429e-18   \n",
       "std       1.000197e+00  1.000197e+00  1.000197e+00  1.000197e+00   \n",
       "min      -4.770356e+00 -6.266030e+00 -6.079179e+00 -6.063260e+00   \n",
       "25%      -5.307976e-01 -5.437728e-01 -5.353566e-01 -5.441002e-01   \n",
       "50%       4.371917e-02  2.052509e-02  3.195691e-02  9.455325e-03   \n",
       "75%       6.030920e-01  5.976920e-01  6.246709e-01  5.828155e-01   \n",
       "max       6.179925e+00  3.624271e+00  3.479735e+00  4.638870e+00   \n",
       "\n",
       "         WMA_open_5    CMO_open_5     ...          MAMA_mama     MAMA_fama  \\\n",
       "count  2.534000e+03  2.534000e+03     ...       2.534000e+03  2.534000e+03   \n",
       "mean   6.163403e-17  1.146259e-17     ...      -7.719862e-17  7.484367e-17   \n",
       "std    1.000197e+00  1.000197e+00     ...       1.000197e+00  1.000197e+00   \n",
       "min   -6.743150e+00 -3.300332e+00     ...      -4.493369e+00 -3.438499e+00   \n",
       "25%   -5.406476e-01 -6.874905e-01     ...      -5.346192e-01 -5.354208e-01   \n",
       "50%    2.544241e-02 -3.087063e-03     ...       2.522643e-02  5.425176e-04   \n",
       "75%    6.063891e-01  7.162029e-01     ...       5.559085e-01  6.156152e-01   \n",
       "max    4.000902e+00  3.609216e+00     ...       4.098329e+00  3.355834e+00   \n",
       "\n",
       "        STOCH_slowk   STOCH_slowd  STOCHF_fastk  STOCHF_fastd           SAR  \\\n",
       "count  2.534000e+03  2.534000e+03  2.534000e+03  2.534000e+03  2.534000e+03   \n",
       "mean   4.311205e-17 -3.207116e-16 -7.886351e-18  4.311205e-17  2.653976e-17   \n",
       "std    1.000197e+00  1.000197e+00  1.000197e+00  1.000197e+00  1.000197e+00   \n",
       "min   -3.472618e+00 -3.463685e+00 -5.264618e+00 -3.472618e+00 -2.670406e+00   \n",
       "25%   -6.934438e-01 -7.302864e-01 -7.317571e-01 -6.934438e-01 -6.789135e-01   \n",
       "50%    2.621713e-04  1.497818e-02  1.113017e-02  2.621713e-04 -1.545793e-01   \n",
       "75%    7.395991e-01  7.560071e-01  7.509557e-01  7.395991e-01  8.014835e-01   \n",
       "max    3.043678e+00  3.039008e+00  3.666692e+00  3.043678e+00  3.074202e+00   \n",
       "\n",
       "             SAREXT        ULTOSC       target  \n",
       "count  2.534000e+03  2.534000e+03  2534.000000  \n",
       "mean  -4.718667e-16  2.492087e-16     0.037096  \n",
       "std    1.000197e+00  1.000197e+00     1.914323  \n",
       "min   -3.885397e+00 -4.684086e+00    -9.000000  \n",
       "25%   -4.892524e-01 -6.585407e-01    -1.000000  \n",
       "50%    2.269594e-01  1.920022e-02     0.000000  \n",
       "75%    7.235539e-01  7.176579e-01     1.000000  \n",
       "max    2.009339e+00  3.304570e+00     9.000000  \n",
       "\n",
       "[8 rows x 909 columns]"
      ]
     },
     "execution_count": 4,
     "metadata": {},
     "output_type": "execute_result"
    }
   ],
   "source": [
    "ml_datas.describe()"
   ]
  },
  {
   "cell_type": "code",
   "execution_count": 5,
   "metadata": {
    "collapsed": false
   },
   "outputs": [
    {
     "data": {
      "text/plain": [
       "(array([   0.,    3.,    5.,   13.,    9.,   34.,   38.,   82.,  187.,\n",
       "         439.,  805.,  485.,  237.,  120.,   43.,   21.,    6.,    3.,    4.]),\n",
       " array([-10,  -9,  -8,  -7,  -6,  -5,  -4,  -3,  -2,  -1,   0,   1,   2,\n",
       "          3,   4,   5,   6,   7,   8,   9]),\n",
       " <a list of 19 Patch objects>)"
      ]
     },
     "execution_count": 5,
     "metadata": {},
     "output_type": "execute_result"
    },
    {
     "data": {
      "image/png": "[encoded data removed]",
      "text/plain": [
       "<matplotlib.figure.Figure at 0x1160a6410>"
      ]
     },
     "metadata": {},
     "output_type": "display_data"
    }
   ],
   "source": [
    "#y设定为符合增长率求整\n",
    "X = ml_datas.drop(['target'],axis=1)\n",
    "y = ml_datas['target']\n",
    "plt.hist(y.values,np.arange(-10,10))"
   ]
  },
  {
   "cell_type": "code",
   "execution_count": 6,
   "metadata": {
    "collapsed": false
   },
   "outputs": [
    {
     "name": "stdout",
     "output_type": "stream",
     "text": [
      "Feature ranking\n",
      "1, feature MOM_volume_30 (0.001864)\n",
      "2, feature STOCHRSI_fastk_volume_10 (0.001850)\n",
      "3, feature STOCHRSI_fastk_close_5 (0.001845)\n",
      "4, feature STOCHRSI_fastk_volume_5 (0.001842)\n",
      "5, feature HT_SINE_leadsine (0.001792)\n",
      "6, feature MOM_open_10 (0.001784)\n",
      "7, feature MOM_low_60 (0.001773)\n",
      "8, feature NATR (0.001767)\n",
      "9, feature STOCHRSI_fastk_volume_30 (0.001767)\n",
      "10, feature STOCHRSI_fastk_close_10 (0.001758)\n",
      "11, feature MOM_volume_5 (0.001757)\n",
      "12, feature MOM_high_60 (0.001754)\n",
      "13, feature MOM_open_30 (0.001754)\n",
      "14, feature HT_SINE_sine (0.001728)\n",
      "15, feature MOM_open_5 (0.001725)\n",
      "16, feature STOCHRSI_fastk_volume_60 (0.001724)\n",
      "17, feature STOCHRSI_fastd_volume_30 (0.001722)\n",
      "18, feature MOM_volume_60 (0.001722)\n",
      "19, feature STOCHRSI_fastd_open_60 (0.001709)\n",
      "20, feature STOCHRSI_fastd_volume_10 (0.001703)\n"
     ]
    },
    {
     "data": {
      "image/png": "[encoded data removed]",
      "text/plain": [
       "<matplotlib.figure.Figure at 0x115e3bc10>"
      ]
     },
     "metadata": {},
     "output_type": "display_data"
    }
   ],
   "source": [
    "from sklearn.ensemble import ExtraTreesClassifier\n",
    "\n",
    "forest = ExtraTreesClassifier(n_estimators = 250,random_state = 0)\n",
    "forest.fit(X,y)\n",
    "importances = forest.feature_importances_\n",
    "std = np.std([tree.feature_importances_ for tree in forest.estimators_],axis=0)\n",
    "indices = np.argsort(importances)[::-1]\n",
    "print('Feature ranking')\n",
    "\n",
    "indices = indices[:20]\n",
    "for f in range(len(indices)):\n",
    "    print('%d, feature %s (%f)' % (f+1,X.columns[indices[f]],importances[indices[f]]))\n",
    "\n",
    "\n",
    "\n",
    "plt.figure(figsize=(16,9))\n",
    "plt.title('Feature Importance')\n",
    "plt.bar(range(len(indices)),importances[indices],color='r',yerr=std[indices],align='center')\n",
    "plt.xticks(range(len(indices)),indices)\n",
    "plt.xlim([-1,len(indices)])\n",
    "plt.show()"
   ]
  },
  {
   "cell_type": "code",
   "execution_count": 7,
   "metadata": {
    "collapsed": false
   },
   "outputs": [],
   "source": [
    "start_test = '2016-08-01'\n",
    "X_train = X[X.index < start_test]\n",
    "X_test = X[X.index >= start_test]\n",
    "y_train = y[y.index < start_test]\n",
    "y_test = y[y.index >= start_test]"
   ]
  },
  {
   "cell_type": "code",
   "execution_count": 8,
   "metadata": {
    "collapsed": false
   },
   "outputs": [
    {
     "name": "stderr",
     "output_type": "stream",
     "text": [
      "/Users/mahui/anaconda/lib/python2.7/site-packages/sklearn/lda.py:4: DeprecationWarning: lda.LDA has been moved to discriminant_analysis.LinearDiscriminantAnalysis in 0.17 and will be removed in 0.19\n",
      "  \"in 0.17 and will be removed in 0.19\", DeprecationWarning)\n",
      "/Users/mahui/anaconda/lib/python2.7/site-packages/sklearn/qda.py:4: DeprecationWarning: qda.QDA has been moved to discriminant_analysis.QuadraticDiscriminantAnalysis in 0.17 and will be removed in 0.19.\n",
      "  \"in 0.17 and will be removed in 0.19.\", DeprecationWarning)\n"
     ]
    },
    {
     "name": "stdout",
     "output_type": "stream",
     "text": [
      "Hit Rates/Confusion Matrics:\n",
      "\n",
      "LR:\n",
      "0.482\n",
      "[[ 0  0  0  0  0  1  0  0  0  0  0  0]\n",
      " [ 0  0  0  0  0  0  1  0  0  0  0  0]\n",
      " [ 0  0  0  0  0  0  1  0  0  0  0  0]\n",
      " [ 0  0  0  0  0  0  1  0  0  0  0  0]\n",
      " [ 0  0  0  0  0  0  1  1  0  0  0  0]\n",
      " [ 0  0  0  0  0  1  7  1  0  0  0  0]\n",
      " [ 0  0  0  0  3 19 64 22  1  0  0  0]\n",
      " [ 0  0  0  0  0  2  2  1  0  0  0  0]\n",
      " [ 0  0  0  0  0  0  0  1  0  0  0  0]\n",
      " [ 0  0  0  0  0  0  3  2  0  1  0  0]\n",
      " [ 0  0  0  0  0  0  2  0  0  0  0  0]\n",
      " [ 0  0  0  0  1  0  0  0  0  0  0  0]]\n",
      "\n"
     ]
    },
    {
     "name": "stderr",
     "output_type": "stream",
     "text": [
      "/Users/mahui/anaconda/lib/python2.7/site-packages/sklearn/discriminant_analysis.py:387: UserWarning: Variables are collinear.\n",
      "  warnings.warn(\"Variables are collinear.\")\n",
      "/Users/mahui/anaconda/lib/python2.7/site-packages/sklearn/discriminant_analysis.py:688: UserWarning: Variables are collinear\n",
      "  warnings.warn(\"Variables are collinear\")\n"
     ]
    },
    {
     "name": "stdout",
     "output_type": "stream",
     "text": [
      "LDA:\n",
      "0.374\n",
      "[[ 0  0  0  0  1  0  0  0  0]\n",
      " [ 0  0  0  1  3  1  0  0  0]\n",
      " [ 0  0  0  0  0  0  1  1  0]\n",
      " [ 0  0  0  3 12  6  0  0  0]\n",
      " [ 0  0  3  8 41 12  0  0  0]\n",
      " [ 0  0  1  8 20  8  0  0  0]\n",
      " [ 0  0  0  2  3  1  0  0  0]\n",
      " [ 0  0  0  0  0  0  0  0  0]\n",
      " [ 0  0  0  1  2  0  0  0  0]]\n",
      "\n",
      "QDA:\n",
      "0.568\n",
      "[[ 0  0  0  0  0  1  0  0  0]\n",
      " [ 0  0  0  0  0  1  0  0  0]\n",
      " [ 0  0  0  0  0  1  0  0  0]\n",
      " [ 0  0  0  0  0  0  0  0  0]\n",
      " [ 0  0  0  0  0  0  0  0  0]\n",
      " [ 0  0  0  4 23 79 28  1  1]\n",
      " [ 0  0  0  0  0  0  0  0  0]\n",
      " [ 0  0  0  0  0  0  0  0  0]\n",
      " [ 0  0  0  0  0  0  0  0  0]]\n",
      "\n",
      "LSVC:\n",
      "0.302\n",
      "[[ 0  0  0  0  0  1  0  0  0  0  0  0]\n",
      " [ 0  0  0  0  0  0  1  0  0  0  0  0]\n",
      " [ 0  0  0  0  0  0  2  0  0  0  0  0]\n",
      " [ 0  0  0  0  0  0  0  1  0  0  0  0]\n",
      " [ 0  0  0  0  0  0  0  0  0  0  0  0]\n",
      " [ 0  0  0  0  1 13 45 12  0  0  0  0]\n",
      " [ 0  0  0  0  1  5 24  7  0  0  0  0]\n",
      " [ 0  0  0  0  1  3  6  4  1  0  0  0]\n",
      " [ 0  0  0  0  0  0  0  1  0  0  0  0]\n",
      " [ 0  0  0  0  0  0  0  0  0  1  0  0]\n",
      " [ 0  0  0  0  0  0  1  3  0  0  0  0]\n",
      " [ 0  0  0  0  1  1  3  0  0  0  0  0]]\n",
      "\n",
      "RSVM:\n",
      "0.590\n",
      "[[ 0  0  0  0  0  0]\n",
      " [ 0  0  0  0  0  0]\n",
      " [ 4 23 82 28  1  1]\n",
      " [ 0  0  0  0  0  0]\n",
      " [ 0  0  0  0  0  0]\n",
      " [ 0  0  0  0  0  0]]\n",
      "\n",
      "RF:\n",
      "0.424\n",
      "[[ 0  0  1  1  1  0  0]\n",
      " [ 0  1  1  3  0  0  0]\n",
      " [ 0  0  5 15 11  0  0]\n",
      " [ 0  2 13 50 13  1  1]\n",
      " [ 0  1  3 12  3  0  0]\n",
      " [ 0  0  0  1  0  0  0]\n",
      " [ 0  0  0  0  0  0  0]]\n",
      "\n"
     ]
    }
   ],
   "source": [
    "from sklearn.ensemble import RandomForestClassifier\n",
    "from sklearn.linear_model import LogisticRegression\n",
    "from sklearn.lda import LDA\n",
    "from sklearn.metrics import confusion_matrix\n",
    "from sklearn.qda import QDA\n",
    "from sklearn.svm import LinearSVC,SVC\n",
    "\n",
    "print ('Hit Rates/Confusion Matrics:\\n')\n",
    "models =[('LR',LogisticRegression()),\n",
    "        ('LDA',LDA()),\n",
    "        ('QDA',QDA()),\n",
    "        ('LSVC',LinearSVC()),\n",
    "        ('RSVM',SVC()),\n",
    "        ('RF',RandomForestClassifier())]\n",
    "\n",
    "for m in models:\n",
    "    m[1].fit(X_train,y_train)\n",
    "    \n",
    "    pred = m[1].predict(X_test)\n",
    "    \n",
    "    print('%s:\\n%0.3f' % (m[0],m[1].score(X_test,y_test)))\n",
    "    print('%s\\n' % confusion_matrix(pred,y_test))"
   ]
  },
  {
   "cell_type": "code",
   "execution_count": 9,
   "metadata": {
    "collapsed": false
   },
   "outputs": [
    {
     "ename": "IndentationError",
     "evalue": "expected an indented block (<ipython-input-9-7bfbceb82ce2>, line 7)",
     "traceback": [
      "\u001b[0;36m  File \u001b[0;32m\"<ipython-input-9-7bfbceb82ce2>\"\u001b[0;36m, line \u001b[0;32m7\u001b[0m\n\u001b[0;31m    #            sns.violinplot(y = X.iloc[:,(i*ncol+j)],ax=ax[j])\u001b[0m\n\u001b[0m                                                                  ^\u001b[0m\n\u001b[0;31mIndentationError\u001b[0m\u001b[0;31m:\u001b[0m expected an indented block\n"
     ],
     "output_type": "error"
    }
   ],
   "source": [
    "ncol = 5\n",
    "nrow = np.round((ml_datas.shape[1]/ncol))+1\n",
    "#for i in range(nrow):\n",
    "#    fg,ax=plt.subplots(nrows=1,ncols=ncol,figsize=(21,2))\n",
    "#    for j in range(ncol):\n",
    "#        if (i*ncol+j) < X.shape[1]:\n",
    "#            sns.violinplot(y = X.iloc[:,(i*ncol+j)],ax=ax[j])"
   ]
  },
  {
   "cell_type": "code",
   "execution_count": null,
   "metadata": {
    "collapsed": false
   },
   "outputs": [],
   "source": [
    ""
   ]
  },
  {
   "cell_type": "code",
   "execution_count": null,
   "metadata": {
    "collapsed": false
   },
   "outputs": [],
   "source": [
    "? dropna()"
   ]
  },
  {
   "cell_type": "code",
   "execution_count": null,
   "metadata": {
    "collapsed": true
   },
   "outputs": [],
   "source": [
    ""
   ]
  }
 ],
 "metadata": {
  "kernelspec": {
   "display_name": "Python [conda root]",
   "language": "python",
   "name": "conda-root-py"
  },
  "language_info": {
   "codemirror_mode": {
    "name": "ipython",
    "version": 2.0
   },
   "file_extension": ".py",
   "mimetype": "text/x-python",
   "name": "python",
   "nbconvert_exporter": "python",
   "pygments_lexer": "ipython2",
   "version": "2.7.12"
  }
 },
 "nbformat": 4,
 "nbformat_minor": 0
}