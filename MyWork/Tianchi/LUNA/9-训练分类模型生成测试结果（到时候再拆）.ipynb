{
 "cells": [
  {
   "cell_type": "code",
   "execution_count": 5,
   "metadata": {
    "collapsed": true
   },
   "outputs": [],
   "source": [
    "from keras.preprocessing.image import ImageDataGenerator\n",
    "from keras.models import Sequential\n",
    "from keras.layers import Conv2D, MaxPooling2D\n",
    "from keras.layers import Activation, Dropout, Flatten, Dense\n",
    "from keras import backend as K\n",
    "from keras.preprocessing.image import ImageDataGenerator, array_to_img, img_to_array, load_img\n",
    "\n",
    "from keras.models import Sequential,load_model,Model\n",
    "from keras.layers import Dense, Dropout, Activation, Flatten\n",
    "from keras.layers import Convolution2D, MaxPooling2D, SpatialDropout2D\n",
    "from keras.layers import Input, merge, UpSampling2D, BatchNormalization\n",
    "from keras.optimizers import Adam,rmsprop\n",
    "from keras.preprocessing.image import ImageDataGenerator\n",
    "from keras.callbacks import EarlyStopping, ModelCheckpoint\n",
    "from keras import backend as K\n",
    "\n",
    "import time\n",
    "import gc\n",
    "import os\n",
    "\n",
    "import SimpleITK as sitk\n",
    "import numpy as np\n",
    "import csv\n",
    "import scipy\n",
    "from glob import glob\n",
    "import pandas as pd\n",
    "from scipy import ndimage\n",
    "from tqdm import tqdm \n",
    "import pandas as pd\n",
    "\n",
    "from skimage.morphology import ball, disk, dilation, binary_erosion, remove_small_objects, erosion, closing, reconstruction, binary_closing\n",
    "from skimage.measure import label,regionprops, perimeter\n",
    "from skimage.morphology import binary_dilation, binary_opening\n",
    "from skimage.filters import roberts, sobel\n",
    "from skimage import measure, feature,draw,data\n",
    "from skimage.segmentation import clear_border\n",
    "from skimage import data\n",
    "from scipy import ndimage\n",
    "from mpl_toolkits.mplot3d.art3d import Poly3DCollection\n",
    "import dicom\n",
    "import scipy.misc\n",
    "import numpy as np\n",
    "\n",
    "\n",
    "\n",
    "import matplotlib.pyplot as plt\n",
    "from joblib import Parallel, delayed\n",
    "from numba import autojit\n",
    "import zarr\n",
    "from PIL import Image\n",
    "import cv2\n",
    "import scipy.spatial.distance as dist\n",
    "import gc\n",
    "import warnings\n",
    "from solo.unet_utils import *\n",
    "from solo.unet_models import *\n",
    "#from solo.preproc_utils import *\n",
    "#from solo.tianchi import *\n",
    "\n",
    "import matplotlib.pyplot as plt\n",
    "%matplotlib inline\n",
    "\n",
    "import tensorflow as tf\n",
    "from keras import backend as K\n",
    "K.set_image_dim_ordering('th') \n",
    "\n",
    "\n",
    "#from inception_unet import *\n",
    "np.random.seed(1337)\n",
    "\n",
    "\n",
    "\n",
    "os.environ[\"CUDA_DEVICE_ORDER\"]=\"PCI_BUS_ID\"\n",
    "os.environ[\"CUDA_VISIBLE_DEVICES\"]=\"0\"\n",
    "\n",
    "\n",
    "warnings.filterwarnings(\"ignore\")"
   ]
  },
  {
   "cell_type": "code",
   "execution_count": 6,
   "metadata": {
    "collapsed": true
   },
   "outputs": [],
   "source": [
    "# dimensions of our images.\n",
    "img_width, img_height = 224, 224\n",
    "\n",
    "train_data_dir = '/Volumes/solo/ali/pic/train/'\n",
    "validation_data_dir = '/Volumes/solo/ali/pic/val/'\n",
    "nb_train_samples = 1800\n",
    "nb_validation_samples = 500\n",
    "epochs = 10\n",
    "batch_size = 16\n",
    "width = 32\n",
    "\n",
    "if K.image_data_format() == 'channels_first':\n",
    "    input_shape = (3, img_width, img_height)\n",
    "else:\n",
    "    input_shape = (img_width, img_height, 3)"
   ]
  },
  {
   "cell_type": "code",
   "execution_count": 9,
   "metadata": {},
   "outputs": [
    {
     "name": "stdout",
     "output_type": "stream",
     "text": [
      "Found 1921 images belonging to 2 classes.\n",
      "Found 531 images belonging to 2 classes.\n"
     ]
    }
   ],
   "source": [
    "model = Sequential()\n",
    "model.add(Convolution2D(width, (3, 3), padding=\"same\", activation=\"relu\", input_shape=input_shape))\n",
    "model.add(BatchNormalization(axis = 1))\n",
    "model.add(Convolution2D(width, (3, 3), padding=\"same\", activation=\"relu\"))\n",
    "model.add(MaxPooling2D(pool_size=(2, 2)))\n",
    "model.add(Dropout(0.25))\n",
    "\n",
    "model.add(Convolution2D(width*2, (3, 3), padding=\"same\", activation=\"relu\"))\n",
    "model.add(BatchNormalization(axis = 1))\n",
    "model.add(Convolution2D(width*2, (3, 3), padding=\"same\", activation=\"relu\"))\n",
    "model.add(MaxPooling2D(pool_size=(2, 2)))\n",
    "model.add(Dropout(0.25))\n",
    "\n",
    "model.add(Convolution2D(width*4, (3, 3), padding=\"same\", activation=\"relu\"))\n",
    "model.add(BatchNormalization(axis = 1))\n",
    "model.add(Convolution2D(width*4, (3, 3), padding=\"same\", activation=\"relu\"))\n",
    "model.add(MaxPooling2D(pool_size=(2, 2)))\n",
    "model.add(Dropout(0.25))\n",
    "\n",
    "model.add(Convolution2D(width*8, (3, 3), padding=\"same\", activation=\"relu\"))\n",
    "model.add(BatchNormalization(axis = 1))\n",
    "model.add(Convolution2D(width*8, (3, 3), padding=\"same\", activation=\"relu\"))\n",
    "model.add(MaxPooling2D(pool_size=(2, 2)))\n",
    "model.add(Dropout(0.25))\n",
    "\n",
    "model.add(Convolution2D(width*16, (3, 3), padding=\"same\", activation=\"relu\"))\n",
    "model.add(BatchNormalization(axis = 1))\n",
    "model.add(Convolution2D(width*16, (3, 3), padding=\"same\", activation=\"relu\"))\n",
    "model.add(Dropout(0.25))\n",
    "\n",
    "model.add(Flatten())\n",
    "model.add(Dense(64))\n",
    "model.add(Activation('relu'))\n",
    "model.add(Dropout(0.5))\n",
    "model.add(Dense(1))\n",
    "model.add(Activation('softmax'))\n",
    "\n",
    "opt1 = Adam(lr=1e-5)\n",
    "opt2 = 'rmsprop'\n",
    "\n",
    "model.compile(loss='binary_crossentropy',\n",
    "              optimizer=opt2,\n",
    "              metrics=['accuracy'])\n",
    "\n",
    "\n",
    "# this is the augmentation configuration we will use for training\n",
    "train_datagen = ImageDataGenerator(\n",
    "    rescale=1. / 255,\n",
    "    shear_range=0.2,\n",
    "    zoom_range=0.2,\n",
    "    horizontal_flip=True)\n",
    "\n",
    "# this is the augmentation configuration we will use for testing:\n",
    "# only rescaling\n",
    "test_datagen = ImageDataGenerator(rescale=1. / 255)\n",
    "\n",
    "train_generator = train_datagen.flow_from_directory(\n",
    "    train_data_dir,\n",
    "    target_size=(img_width, img_height),\n",
    "    batch_size=batch_size,\n",
    "    class_mode='binary')\n",
    "\n",
    "validation_generator = test_datagen.flow_from_directory(\n",
    "    validation_data_dir,\n",
    "    target_size=(img_width, img_height),\n",
    "    batch_size=batch_size,\n",
    "    class_mode='binary')"
   ]
  },
  {
   "cell_type": "code",
   "execution_count": 10,
   "metadata": {},
   "outputs": [
    {
     "name": "stdout",
     "output_type": "stream",
     "text": [
      "Epoch 1/10\n",
      "112/112 [==============================] - 114s - loss: 8.0068 - acc: 0.4978 - val_loss: 8.0676 - val_acc: 0.4940\n",
      "Epoch 2/10\n",
      "112/112 [==============================] - 111s - loss: 8.1752 - acc: 0.4872 - val_loss: 7.8227 - val_acc: 0.5093\n",
      "Epoch 3/10\n",
      "112/112 [==============================] - 112s - loss: 7.7405 - acc: 0.5145 - val_loss: 8.3508 - val_acc: 0.4762\n",
      "Epoch 4/10\n",
      "112/112 [==============================] - 111s - loss: 8.0240 - acc: 0.4967 - val_loss: 8.3838 - val_acc: 0.4741\n",
      "Epoch 5/10\n",
      "112/112 [==============================] - 110s - loss: 8.2464 - acc: 0.4827 - val_loss: 8.0537 - val_acc: 0.4948\n",
      "Epoch 6/10\n",
      "112/112 [==============================] - 111s - loss: 8.0952 - acc: 0.4922 - val_loss: 8.1319 - val_acc: 0.4899\n",
      "Epoch 7/10\n",
      "112/112 [==============================] - 111s - loss: 8.0596 - acc: 0.4945 - val_loss: 8.2518 - val_acc: 0.4824\n",
      "Epoch 8/10\n",
      "112/112 [==============================] - 111s - loss: 8.0774 - acc: 0.4933 - val_loss: 8.4498 - val_acc: 0.4700\n",
      "Epoch 9/10\n",
      "112/112 [==============================] - 111s - loss: 7.9528 - acc: 0.5012 - val_loss: 7.3606 - val_acc: 0.5383\n",
      "Epoch 10/10\n",
      "112/112 [==============================] - 111s - loss: 7.9184 - acc: 0.5033 - val_loss: 8.1197 - val_acc: 0.4907\n"
     ]
    }
   ],
   "source": [
    "model.fit_generator(\n",
    "    train_generator,\n",
    "    steps_per_epoch=nb_train_samples // batch_size,\n",
    "    epochs=epochs,\n",
    "    validation_data=validation_generator,\n",
    "    validation_steps=nb_validation_samples // batch_size)\n",
    "\n",
    "model.save('/Volumes/solo/ali/Data/model/my_model.h5')"
   ]
  },
  {
   "cell_type": "code",
   "execution_count": null,
   "metadata": {
    "collapsed": true
   },
   "outputs": [],
   "source": []
  },
  {
   "cell_type": "markdown",
   "metadata": {},
   "source": [
    "# fenlei "
   ]
  },
  {
   "cell_type": "code",
   "execution_count": null,
   "metadata": {
    "collapsed": true
   },
   "outputs": [],
   "source": []
  },
  {
   "cell_type": "code",
   "execution_count": null,
   "metadata": {
    "collapsed": true
   },
   "outputs": [],
   "source": [
    "def load_train():\n",
    "    data_path = src\n",
    "    folders = [x for x in os.listdir(data_path) if 'subset' in x]\n",
    "    os.chdir(data_path)\n",
    "    patients = []\n",
    "    for i in folders:\n",
    "        os.chdir(data_path + i)\n",
    "        #print('Changing folder to: {}'.format(data_path + i))\n",
    "        patient_ids = [x for x in os.listdir(data_path + i) if '.mhd' in x]\n",
    "        for id in patient_ids:\n",
    "            j = '{}/{}'.format(i, id)\n",
    "            patients.append(j)\n",
    "    return patients\n",
    "\n",
    "def get_filename(file_list, case):\n",
    "    for f in file_list:\n",
    "        if case in f:\n",
    "            return(f)\n",
    "        \n",
    "def plot_ct_scan(scan):\n",
    "    f, plots = plt.subplots(int(scan.shape[0] / 20) + 1, 4, figsize=(25, 25))\n",
    "    for i in range(0, scan.shape[0], 5):\n",
    "        plots[int(i / 20), int((i % 20) / 5)].axis('off')\n",
    "        plots[int(i / 20), int((i % 20) / 5)].imshow(scan[i], cmap=plt.cm.bone) \n",
    "         \n",
    "def print_mask(lung_m, nodule_m):\n",
    "    fig, ax = plt.subplots(1,2, figsize=(20,16))\n",
    "    ax[0].imshow(lung_m, cmap = plt.cm.bone)\n",
    "    ax[1].imshow(nodule_m, cmap = plt.cm.bone)\n",
    "    return\n",
    "\n",
    "def seq(start, stop, step=1):\n",
    "    n = int(round((stop - start)/float(step)))\n",
    "    if n > 1:\n",
    "        return([start + step*i for i in range(n+1)])\n",
    "    else:\n",
    "        return([])\n",
    "    \n",
    "def load_itk(filename):\n",
    "    itkimage = sitk.ReadImage(filename)\n",
    "    numpyImage = sitk.GetArrayFromImage(itkimage)\n",
    "    numpyOrigin = np.array(list(reversed(itkimage.GetOrigin())))\n",
    "    numpySpacing = np.array(list(reversed(itkimage.GetSpacing())))\n",
    "    return numpyImage, numpyOrigin, numpySpacing\n",
    "\n",
    "def world_2_voxel(world_coordinates, origin, spacing):\n",
    "    stretched_voxel_coordinates = np.absolute(world_coordinates - origin)\n",
    "    voxel_coordinates = stretched_voxel_coordinates / spacing\n",
    "    return voxel_coordinates\n",
    "\n",
    "def voxel_2_world(voxel_coordinates, origin, spacing):\n",
    "    stretched_voxel_coordinates = voxel_coordinates * spacing\n",
    "    world_coordinates = stretched_voxel_coordinates + origin\n",
    "    return world_coordinates\n",
    "\n",
    "def get_pixels_hu(image):\n",
    "    image = image.astype(np.int16)\n",
    "    image[image == threshold_min] = 0\n",
    "    return np.array(image, dtype=np.int16)\n",
    "\n",
    "def get_nodule_slices(lung_mask, nodule_mask, lung_raw):\n",
    "    indexes = np.unique(np.nonzero(nodule_mask)[0])\n",
    "    #print('Nodule_present on slices: {}'.format(indexes))\n",
    "    lung_mask_pres = lung_mask[indexes, :, :]\n",
    "    nod_mask_pres = nodule_mask[indexes, :, :]\n",
    "    lung_raw_pres = lung_raw[indexes, :, :]    \n",
    "    return lung_mask_pres, nod_mask_pres, lung_raw_pres\n",
    "\n",
    "def reshape_3d(image_3d):\n",
    "    reshaped_img = image_3d.reshape([image_3d.shape[0], 1, 512, 512])\n",
    "    #print('Reshaped image shape:', reshaped_img.shape)\n",
    "    return reshaped_img\n",
    "\n",
    "\n",
    "\n",
    "\n",
    "def create_masks_for_patient_watershed(img_file, save = True):\n",
    "    def draw_nodule_mask(node_idx, cur_row):\n",
    "        #print('Working on node: {}, row: {}'.format(node_idx, cur_row), '\\n')\n",
    "        coord_x = cur_row[\"coordX\"]\n",
    "        coord_y = cur_row[\"coordY\"]\n",
    "        coord_z = cur_row[\"coordZ\"]\n",
    "        diam = cur_row[\"diameter_mm\"]\n",
    "        radius = np.ceil(diam/2)\n",
    "        noduleRange = seq(-radius, radius, RESIZE_SPACING[0])\n",
    "        #print('Nodule range:', noduleRange)\n",
    "        world_center = np.array((coord_z,coord_y,coord_x))   # nodule center\n",
    "        voxel_center = world_2_voxel(world_center, origin, new_spacing)\n",
    "        image_mask = np.zeros(lung_img.shape)\n",
    "        for x in noduleRange:\n",
    "            for y in noduleRange:\n",
    "                for z in noduleRange:\n",
    "                    coords = world_2_voxel(np.array((coord_z+z,coord_y+y,coord_x+x)),origin,new_spacing)\n",
    "                    if (np.linalg.norm(voxel_center - coords) * RESIZE_SPACING[0]) < radius:\n",
    "                        image_mask[int(np.round(coords[0])),int(np.round(coords[1])),int(np.round(coords[2]))] = int(1)\n",
    "        #print(np.max(image_mask))    \n",
    "      \n",
    "        return image_mask\n",
    "\n",
    "    print(\"Getting mask for image file {}\".format(img_file))\n",
    "    patient_id = img_file.split('/')[-1][:-4]\n",
    "    mini_df = df_node[df_node[\"file\"] == img_file]\n",
    "    if mini_df.shape[0] > 0: # some files may not have a nodule--skipping those \n",
    "        img, origin, spacing = load_itk(src + img_file)\n",
    "        height, width = img.shape[1], img.shape[2]\n",
    "        #calculate resize factor\n",
    "        RESIZE_SPACING = [1, 1, 1]\n",
    "        resize_factor = spacing / RESIZE_SPACING\n",
    "        new_real_shape = img.shape * resize_factor\n",
    "        new_shape = np.round(new_real_shape)\n",
    "        real_resize = new_shape / img.shape\n",
    "        new_spacing = spacing / real_resize\n",
    "        \n",
    "        \n",
    "        lung_img = scipy.ndimage.interpolation.zoom(img, real_resize)\n",
    "        \n",
    "        \n",
    "        \n",
    "        \n",
    "        #print('Original image shape: {}'.format(img.shape))\n",
    "        #print('Resized image shape: {}'.format(lung_img.shape))\n",
    "\n",
    "        lung_img = get_pixels_hu(lung_img)\n",
    "        #lung_mask = segment_lung_from_ct_scan(lung_img)\n",
    "        #lung_mask[lung_mask >= threshold_max] = threshold_max\n",
    "        #lung_img[lung_img >= threshold_max] = threshold_max\n",
    "        #lung_img[lung_img == 0] = threshold_min\n",
    "        \n",
    "        \n",
    "        \n",
    "        lung_mask = lung_img.copy()\n",
    "        #lung_mask[lung_mask == 0] = threshold_min\n",
    "        lung_mask[lung_mask >= threshold_max] = threshold_max\n",
    "        lung_img[lung_img >= threshold_max] = threshold_max\n",
    "        \n",
    "        lung_masks_512 = np.zeros([lung_img.shape[0], height_mask, width_mask], dtype = np.float32)\n",
    "        nodule_masks_512 = np.zeros([lung_img.shape[0], height_mask, width_mask], dtype = np.float32)\n",
    "        lung_masks_512[lung_masks_512 == 0] = threshold_min\n",
    "        \n",
    "        i = 0\n",
    "        for node_idx, cur_row in mini_df.iterrows(): \n",
    "            nodule_mask = draw_nodule_mask(node_idx, cur_row)\n",
    "            lung_img_512, lung_mask_512, nodule_mask_512 = np.zeros((lung_img.shape[0], 512, 512)), np.zeros((lung_mask.shape[0], 512, 512)), np.zeros((nodule_mask.shape[0], 512, 512))\n",
    "            lung_mask_512[lung_mask_512 == 0] = threshold_min\n",
    "            lung_img_512[lung_img_512 == 0] = threshold_min\n",
    "            original_shape = lung_img.shape\n",
    "            \n",
    "            for z in range(lung_img.shape[0]):\n",
    "                \n",
    "                offset = (512 - original_shape[1])\n",
    "                upper_offset = int(np.round(offset/2))\n",
    "                lower_offset = int(offset - upper_offset)\n",
    "\n",
    "                new_origin = voxel_2_world([-upper_offset,-lower_offset,0],origin,new_spacing)\n",
    "                \n",
    "                lung_img_512[z, upper_offset:-lower_offset,upper_offset:-lower_offset] = lung_img[z,:,:]\n",
    "                lung_mask_512[z, upper_offset:-lower_offset,upper_offset:-lower_offset] = lung_mask[z,:,:]\n",
    "                nodule_mask_512[z, upper_offset:-lower_offset,upper_offset:-lower_offset] = nodule_mask[z,:,:]\n",
    "            nodule_masks_512 += nodule_mask_512\n",
    "\n",
    "        #print('Offsets shape for node index {} - main: {}, upper: {}, lower: {}'.format(node_idx, offset, upper_offset, lower_offset), '\\n')\n",
    "      \n",
    "       \n",
    "        lung_mask_pres, nod_mask_pres, lung_raw_pres = get_nodule_slices(lung_mask_512, nodule_masks_512, lung_img_512)\n",
    "        #print('Nodules present on slices: ', np.unique(np.nonzero(nodule_masks_512)[0]))\n",
    "        \n",
    "        \n",
    "        \n",
    "        del lung_mask_512, nodule_masks_512, lung_img_512\n",
    "        gc.collect()\n",
    "        \n",
    "        lung_mask_pres = reshape_3d(lung_mask_pres)\n",
    "        nod_mask_pres = reshape_3d(nod_mask_pres)\n",
    "        lung_mask_pres[lung_mask_pres <= threshold_min] = threshold_min\n",
    "        lung_mask_pres[lung_mask_pres >= threshold_max] = threshold_max\n",
    "        \n",
    "        lung_mask_preproc = my_PreProc(lung_mask_pres)\n",
    "        lung_mask_preproc = lung_mask_preproc.astype(np.float32)\n",
    "        nod_mask_pres = (nod_mask_pres > 0.0).astype(np.float32)\n",
    "        nod_mask_pres[nod_mask_pres == 1.0] = 255.\n",
    "\n",
    "        np.save('{}/lung_mask/{}.npy'.format(dst_nodules, patient_id), lung_mask_preproc)\n",
    "        np.save('{}/nodule_mask/{}.npy'.format(dst_nodules, patient_id), nod_mask_pres)\n",
    "        \n",
    "        del lung_mask_pres, lung_mask_preproc, nod_mask_pres\n",
    "        gc.collect()\n",
    "            \n",
    "        #return lung_mask_preproc, nod_mask_pres\n",
    "        return\n",
    "    else: \n",
    "        print('\\n', 'No nodules found for patient: {}'.format(patient_id), '\\n')\n",
    "        return\n",
    "    \n",
    "def predict_on_scan(scan):\n",
    "    model = unet_model()\n",
    "    model.load_weights(luna_path + 'Data/model/Unet_fulldatagen.h5')\n",
    "\n",
    "    num_test = scan.shape[0]\n",
    "    scan = scan.reshape(num_test, 1, 512, 512)\n",
    "    imgs_mask_test = np.ndarray([num_test, 1, 512, 512],dtype=np.float32)\n",
    "    for i in range(num_test):\n",
    "        imgs_mask_test[i] = model.predict([scan[i:i+1]], verbose=0)[0]\n",
    "    return imgs_mask_test"
   ]
  },
  {
   "cell_type": "code",
   "execution_count": null,
   "metadata": {
    "collapsed": true
   },
   "outputs": [],
   "source": [
    "from keras.preprocessing.image import ImageDataGenerator\n",
    "from keras.models import Sequential\n",
    "from keras.layers import Conv2D, MaxPooling2D\n",
    "from keras.layers import Activation, Dropout, Flatten, Dense\n",
    "from keras import backend as K\n",
    "from keras.preprocessing.image import ImageDataGenerator, array_to_img, img_to_array, load_img"
   ]
  },
  {
   "cell_type": "code",
   "execution_count": null,
   "metadata": {
    "collapsed": true
   },
   "outputs": [],
   "source": [
    "luna_path = '/Volumes/solo/ali/'\n",
    "npy_path = luna_path + 'Data/test_mask/pre_lung_mask/'\n",
    "nodemask = luna_path + 'Data/test_mask/pre_nodule_mask/'\n",
    "\n",
    "pics_path = luna_path + 'pic/test/'"
   ]
  },
  {
   "cell_type": "code",
   "execution_count": null,
   "metadata": {
    "collapsed": true
   },
   "outputs": [],
   "source": [
    "file_list = []\n",
    "subset_path = os.listdir(npy_path)\n",
    "for _ in range(len(subset_path)):\n",
    "    if subset_path[_] != '.DS_Store':\n",
    "        file_list.append(npy_path + subset_path[_])"
   ]
  },
  {
   "cell_type": "code",
   "execution_count": null,
   "metadata": {
    "collapsed": true
   },
   "outputs": [],
   "source": [
    "df_npy = pd.read_csv('/Volumes/solo/ali/csv/test/annotations_pre.csv',index_col=None)\n",
    "df_npy[\"npy_file\"] = df_npy[\"seriesuid\"].map(lambda file_name: get_filename(file_list, file_name))"
   ]
  },
  {
   "cell_type": "code",
   "execution_count": null,
   "metadata": {
    "collapsed": true
   },
   "outputs": [],
   "source": [
    "prob_ = []\n",
    "for node_idx, row in tqdm(df_npy.iterrows()):\n",
    "    img = np.load(row['npy_file'])\n",
    "    img = np.squeeze(img)\n",
    "    x = int(row['coordX'])\n",
    "    y = int(row['coordY'])\n",
    "    z = int(row['coordZ'])\n",
    "    d = int(row['diameter_mm'])\n",
    "    \n",
    "    mask = np.zeros([32,32])\n",
    "    rr, cc=draw.circle(y,x,d)\n",
    "    draw.set_color(mask,[rr,cc],[1,])\n",
    "    \n",
    "    \n",
    "    \n",
    "    scipy.misc.imsave(pics_path + str(node_idx) + '.jpg', img[x,y-16:y+16,z-16:z+16])\n",
    "    img1 = load_img(pics_path + str(node_idx) + '.jpg')\n",
    "    x = img_to_array(img1).transpose(1,2,0)\n",
    "    \n",
    "    x = x.reshape((1,) + x.shape)\n",
    "    cc = model.predict(x)\n",
    "    prob_.append(cc[0][0])"
   ]
  },
  {
   "cell_type": "code",
   "execution_count": null,
   "metadata": {
    "collapsed": true
   },
   "outputs": [],
   "source": [
    "bb = pd.read_csv('/Volumes/solo/ali/csv/test/annotations.csv',index_col=None)\n",
    "final_result = pd.DataFrame({'seriesuid':bb['seriesuid'].values,\n",
    "             'coordX':bb['coordX'].values,\n",
    "             'coordY':bb['coordY'].values,\n",
    "             'coordZ':bb['coordZ'].values,\n",
    "             'probability':prob_,\n",
    "                            })\n",
    "final_result = final_result[['seriesuid','coordX','coordY','coordZ','probability']]\n",
    "final_result.to_csv('/Volumes/solo/ali/csv/test/annotations_final.csv',index=None)"
   ]
  },
  {
   "cell_type": "code",
   "execution_count": null,
   "metadata": {
    "collapsed": true
   },
   "outputs": [],
   "source": [
    "final_result"
   ]
  },
  {
   "cell_type": "markdown",
   "metadata": {},
   "source": [
    "# 测试"
   ]
  },
  {
   "cell_type": "code",
   "execution_count": 15,
   "metadata": {
    "collapsed": true
   },
   "outputs": [],
   "source": [
    "file_list = []\n",
    "subset_path = os.listdir('/Volumes/solo/ali/pic/train/0/')\n",
    "for _ in range(len(subset_path)):\n",
    "    if subset_path[_] != '.DS_Store':\n",
    "        file_list.append('/Volumes/solo/ali/pic/train/0/' + subset_path[_])"
   ]
  },
  {
   "cell_type": "code",
   "execution_count": 16,
   "metadata": {},
   "outputs": [
    {
     "name": "stderr",
     "output_type": "stream",
     "text": [
      "  2%|▏         | 16/964 [00:00<00:12, 74.96it/s]"
     ]
    },
    {
     "name": "stdout",
     "output_type": "stream",
     "text": [
      "('Predicted:', array([[ 1.]], dtype=float32))\n",
      "('Predicted:', array([[ 1.]], dtype=float32))\n",
      "('Predicted:', array([[ 1.]], dtype=float32))\n",
      "('Predicted:', array([[ 1.]], dtype=float32))\n",
      "('Predicted:', array([[ 1.]], dtype=float32))\n",
      "('Predicted:', array([[ 1.]], dtype=float32))\n",
      "('Predicted:', array([[ 1.]], dtype=float32))\n",
      "('Predicted:', array([[ 1.]], dtype=float32))\n",
      "('Predicted:', array([[ 1.]], dtype=float32))\n",
      "('Predicted:', array([[ 1.]], dtype=float32))\n",
      "('Predicted:', array([[ 1.]], dtype=float32))\n",
      "('Predicted:', array([[ 1.]], dtype=float32))\n",
      "('Predicted:', array([[ 1.]], dtype=float32))\n",
      "('Predicted:', array([[ 1.]], dtype=float32))\n",
      "('Predicted:', array([[ 1.]], dtype=float32))\n",
      "('Predicted:', array([[ 1.]], dtype=float32))\n"
     ]
    },
    {
     "name": "stderr",
     "output_type": "stream",
     "text": [
      "\r",
      "  3%|▎         | 25/964 [00:00<00:12, 76.86it/s]"
     ]
    },
    {
     "name": "stdout",
     "output_type": "stream",
     "text": [
      "('Predicted:', array([[ 1.]], dtype=float32))\n",
      "('Predicted:', array([[ 1.]], dtype=float32))\n",
      "('Predicted:', array([[ 1.]], dtype=float32))\n",
      "('Predicted:', array([[ 1.]], dtype=float32))\n",
      "('Predicted:', array([[ 1.]], dtype=float32))\n",
      "('Predicted:', array([[ 1.]], dtype=float32))\n",
      "('Predicted:', array([[ 1.]], dtype=float32))\n",
      "('Predicted:', array([[ 1.]], dtype=float32))\n",
      "('Predicted:', array([[ 1.]], dtype=float32))\n",
      "('Predicted:', array([[ 1.]], dtype=float32))\n",
      "('Predicted:', array([[ 1.]], dtype=float32))\n",
      "('Predicted:', array([[ 1.]], dtype=float32))\n",
      "('Predicted:', array([[ 1.]], dtype=float32))\n",
      "('Predicted:', array([[ 1.]], dtype=float32))\n",
      "('Predicted:', array([[ 1.]], dtype=float32))\n",
      "('Predicted:', array([[ 1.]], dtype=float32))\n",
      "('Predicted:', array([[ 1.]], dtype=float32))\n"
     ]
    },
    {
     "name": "stderr",
     "output_type": "stream",
     "text": [
      "  4%|▍         | 43/964 [00:00<00:11, 78.85it/s]"
     ]
    },
    {
     "name": "stdout",
     "output_type": "stream",
     "text": [
      "('Predicted:', array([[ 1.]], dtype=float32))\n",
      "('Predicted:', array([[ 1.]], dtype=float32))\n",
      "('Predicted:', array([[ 1.]], dtype=float32))\n",
      "('Predicted:', array([[ 1.]], dtype=float32))\n",
      "('Predicted:', array([[ 1.]], dtype=float32))\n",
      "('Predicted:', array([[ 1.]], dtype=float32))\n",
      "('Predicted:', array([[ 1.]], dtype=float32))\n",
      "('Predicted:', array([[ 1.]], dtype=float32))\n",
      "('Predicted:', array([[ 1.]], dtype=float32))\n",
      "('Predicted:', array([[ 1.]], dtype=float32))\n",
      "('Predicted:', array([[ 1.]], dtype=float32))\n",
      "('Predicted:', array([[ 1.]], dtype=float32))\n",
      "('Predicted:', array([[ 1.]], dtype=float32))\n",
      "('Predicted:', array([[ 1.]], dtype=float32))\n",
      "('Predicted:', array([[ 1.]], dtype=float32))\n",
      "('Predicted:', array([[ 1.]], dtype=float32))\n",
      "('Predicted:', array([[ 1.]], dtype=float32))\n"
     ]
    },
    {
     "name": "stderr",
     "output_type": "stream",
     "text": [
      "  6%|▋         | 61/964 [00:00<00:11, 81.45it/s]"
     ]
    },
    {
     "name": "stdout",
     "output_type": "stream",
     "text": [
      "('Predicted:', array([[ 1.]], dtype=float32))\n",
      "('Predicted:', array([[ 1.]], dtype=float32))\n",
      "('Predicted:', array([[ 1.]], dtype=float32))\n",
      "('Predicted:', array([[ 1.]], dtype=float32))\n",
      "('Predicted:', array([[ 1.]], dtype=float32))\n",
      "('Predicted:', array([[ 1.]], dtype=float32))\n",
      "('Predicted:', array([[ 1.]], dtype=float32))\n",
      "('Predicted:', array([[ 1.]], dtype=float32))\n",
      "('Predicted:', array([[ 1.]], dtype=float32))\n",
      "('Predicted:', array([[ 1.]], dtype=float32))\n",
      "('Predicted:', array([[ 1.]], dtype=float32))\n",
      "('Predicted:', array([[ 1.]], dtype=float32))\n",
      "('Predicted:', array([[ 1.]], dtype=float32))\n",
      "('Predicted:', array([[ 1.]], dtype=float32))\n",
      "('Predicted:', array([[ 1.]], dtype=float32))\n",
      "('Predicted:', array([[ 1.]], dtype=float32))\n",
      "('Predicted:', array([[ 1.]], dtype=float32))\n"
     ]
    },
    {
     "name": "stderr",
     "output_type": "stream",
     "text": [
      "  8%|▊         | 79/964 [00:00<00:10, 82.80it/s]"
     ]
    },
    {
     "name": "stdout",
     "output_type": "stream",
     "text": [
      "('Predicted:', array([[ 1.]], dtype=float32))\n",
      "('Predicted:', array([[ 1.]], dtype=float32))\n",
      "('Predicted:', array([[ 1.]], dtype=float32))\n",
      "('Predicted:', array([[ 1.]], dtype=float32))\n",
      "('Predicted:', array([[ 1.]], dtype=float32))\n",
      "('Predicted:', array([[ 1.]], dtype=float32))\n",
      "('Predicted:', array([[ 1.]], dtype=float32))\n",
      "('Predicted:', array([[ 1.]], dtype=float32))\n",
      "('Predicted:', array([[ 1.]], dtype=float32))\n",
      "('Predicted:', array([[ 1.]], dtype=float32))\n",
      "('Predicted:', array([[ 1.]], dtype=float32))\n",
      "('Predicted:', array([[ 1.]], dtype=float32))\n",
      "('Predicted:', array([[ 1.]], dtype=float32))\n",
      "('Predicted:', array([[ 1.]], dtype=float32))\n",
      "('Predicted:', array([[ 1.]], dtype=float32))\n",
      "('Predicted:', array([[ 1.]], dtype=float32))\n",
      "('Predicted:', array([[ 1.]], dtype=float32))\n"
     ]
    },
    {
     "name": "stderr",
     "output_type": "stream",
     "text": [
      " 10%|█         | 97/964 [00:01<00:10, 83.20it/s]"
     ]
    },
    {
     "name": "stdout",
     "output_type": "stream",
     "text": [
      "('Predicted:', array([[ 1.]], dtype=float32))\n",
      "('Predicted:', array([[ 1.]], dtype=float32))\n",
      "('Predicted:', array([[ 1.]], dtype=float32))\n",
      "('Predicted:', array([[ 1.]], dtype=float32))\n",
      "('Predicted:', array([[ 1.]], dtype=float32))\n",
      "('Predicted:', array([[ 1.]], dtype=float32))\n",
      "('Predicted:', array([[ 1.]], dtype=float32))\n",
      "('Predicted:', array([[ 1.]], dtype=float32))\n",
      "('Predicted:', array([[ 1.]], dtype=float32))\n",
      "('Predicted:', array([[ 1.]], dtype=float32))\n",
      "('Predicted:', array([[ 1.]], dtype=float32))\n",
      "('Predicted:', array([[ 1.]], dtype=float32))\n",
      "('Predicted:', array([[ 1.]], dtype=float32))\n",
      "('Predicted:', array([[ 1.]], dtype=float32))\n",
      "('Predicted:', array([[ 1.]], dtype=float32))\n",
      "('Predicted:', array([[ 1.]], dtype=float32))\n",
      "('Predicted:', array([[ 1.]], dtype=float32))\n"
     ]
    },
    {
     "name": "stderr",
     "output_type": "stream",
     "text": [
      " 12%|█▏        | 115/964 [00:01<00:10, 83.72it/s]"
     ]
    },
    {
     "name": "stdout",
     "output_type": "stream",
     "text": [
      "('Predicted:', array([[ 1.]], dtype=float32))\n",
      "('Predicted:', array([[ 1.]], dtype=float32))\n",
      "('Predicted:', array([[ 1.]], dtype=float32))\n",
      "('Predicted:', array([[ 1.]], dtype=float32))\n",
      "('Predicted:', array([[ 1.]], dtype=float32))\n",
      "('Predicted:', array([[ 1.]], dtype=float32))\n",
      "('Predicted:', array([[ 1.]], dtype=float32))\n",
      "('Predicted:', array([[ 1.]], dtype=float32))\n",
      "('Predicted:', array([[ 1.]], dtype=float32))\n",
      "('Predicted:', array([[ 1.]], dtype=float32))\n",
      "('Predicted:', array([[ 1.]], dtype=float32))\n",
      "('Predicted:', array([[ 1.]], dtype=float32))\n",
      "('Predicted:', array([[ 1.]], dtype=float32))\n",
      "('Predicted:', array([[ 1.]], dtype=float32))\n",
      "('Predicted:', array([[ 1.]], dtype=float32))\n",
      "('Predicted:', array([[ 1.]], dtype=float32))\n",
      "('Predicted:', array([[ 1.]], dtype=float32))\n"
     ]
    },
    {
     "name": "stderr",
     "output_type": "stream",
     "text": [
      " 14%|█▍        | 133/964 [00:01<00:09, 83.81it/s]"
     ]
    },
    {
     "name": "stdout",
     "output_type": "stream",
     "text": [
      "('Predicted:', array([[ 1.]], dtype=float32))\n",
      "('Predicted:', array([[ 1.]], dtype=float32))\n",
      "('Predicted:', array([[ 1.]], dtype=float32))\n",
      "('Predicted:', array([[ 1.]], dtype=float32))\n",
      "('Predicted:', array([[ 1.]], dtype=float32))\n",
      "('Predicted:', array([[ 1.]], dtype=float32))\n",
      "('Predicted:', array([[ 1.]], dtype=float32))\n",
      "('Predicted:', array([[ 1.]], dtype=float32))\n",
      "('Predicted:', array([[ 1.]], dtype=float32))\n",
      "('Predicted:', array([[ 1.]], dtype=float32))\n",
      "('Predicted:', array([[ 1.]], dtype=float32))\n",
      "('Predicted:', array([[ 1.]], dtype=float32))\n",
      "('Predicted:', array([[ 1.]], dtype=float32))\n",
      "('Predicted:', array([[ 1.]], dtype=float32))\n",
      "('Predicted:', array([[ 1.]], dtype=float32))\n",
      "('Predicted:', array([[ 1.]], dtype=float32))\n",
      "('Predicted:', array([[ 1.]], dtype=float32))\n"
     ]
    },
    {
     "name": "stderr",
     "output_type": "stream",
     "text": [
      " 16%|█▌        | 151/964 [00:01<00:09, 82.57it/s]"
     ]
    },
    {
     "name": "stdout",
     "output_type": "stream",
     "text": [
      "('Predicted:', array([[ 1.]], dtype=float32))\n",
      "('Predicted:', array([[ 1.]], dtype=float32))\n",
      "('Predicted:', array([[ 1.]], dtype=float32))\n",
      "('Predicted:', array([[ 1.]], dtype=float32))\n",
      "('Predicted:', array([[ 1.]], dtype=float32))\n",
      "('Predicted:', array([[ 1.]], dtype=float32))\n",
      "('Predicted:', array([[ 1.]], dtype=float32))\n",
      "('Predicted:', array([[ 1.]], dtype=float32))\n",
      "('Predicted:', array([[ 1.]], dtype=float32))\n",
      "('Predicted:', array([[ 1.]], dtype=float32))\n",
      "('Predicted:', array([[ 1.]], dtype=float32))\n",
      "('Predicted:', array([[ 1.]], dtype=float32))\n",
      "('Predicted:', array([[ 1.]], dtype=float32))\n",
      "('Predicted:', array([[ 1.]], dtype=float32))\n",
      "('Predicted:', array([[ 1.]], dtype=float32))\n",
      "('Predicted:', array([[ 1.]], dtype=float32))\n",
      "('Predicted:', array([[ 1.]], dtype=float32))\n"
     ]
    },
    {
     "name": "stderr",
     "output_type": "stream",
     "text": [
      " 18%|█▊        | 169/964 [00:02<00:09, 81.69it/s]"
     ]
    },
    {
     "name": "stdout",
     "output_type": "stream",
     "text": [
      "('Predicted:', array([[ 1.]], dtype=float32))\n",
      "('Predicted:', array([[ 1.]], dtype=float32))\n",
      "('Predicted:', array([[ 1.]], dtype=float32))\n",
      "('Predicted:', array([[ 1.]], dtype=float32))\n",
      "('Predicted:', array([[ 1.]], dtype=float32))\n",
      "('Predicted:', array([[ 1.]], dtype=float32))\n",
      "('Predicted:', array([[ 1.]], dtype=float32))\n",
      "('Predicted:', array([[ 1.]], dtype=float32))\n",
      "('Predicted:', array([[ 1.]], dtype=float32))\n",
      "('Predicted:', array([[ 1.]], dtype=float32))\n",
      "('Predicted:', array([[ 1.]], dtype=float32))\n",
      "('Predicted:', array([[ 1.]], dtype=float32))\n",
      "('Predicted:', array([[ 1.]], dtype=float32))\n",
      "('Predicted:', array([[ 1.]], dtype=float32))\n",
      "('Predicted:', array([[ 1.]], dtype=float32))\n",
      "('Predicted:', array([[ 1.]], dtype=float32))\n",
      "('Predicted:', array([[ 1.]], dtype=float32))\n"
     ]
    },
    {
     "name": "stderr",
     "output_type": "stream",
     "text": [
      "\r",
      " 18%|█▊        | 178/964 [00:02<00:09, 82.25it/s]"
     ]
    },
    {
     "name": "stdout",
     "output_type": "stream",
     "text": [
      "('Predicted:', array([[ 1.]], dtype=float32))\n",
      "('Predicted:', array([[ 1.]], dtype=float32))\n",
      "('Predicted:', array([[ 1.]], dtype=float32))\n",
      "('Predicted:', array([[ 1.]], dtype=float32))\n",
      "('Predicted:', array([[ 1.]], dtype=float32))\n",
      "('Predicted:', array([[ 1.]], dtype=float32))\n",
      "('Predicted:', array([[ 1.]], dtype=float32))\n",
      "('Predicted:', array([[ 1.]], dtype=float32))\n",
      "('Predicted:', array([[ 1.]], dtype=float32))\n",
      "('Predicted:', array([[ 1.]], dtype=float32))\n",
      "('Predicted:', array([[ 1.]], dtype=float32))\n",
      "('Predicted:', array([[ 1.]], dtype=float32))\n",
      "('Predicted:', array([[ 1.]], dtype=float32))\n",
      "('Predicted:', array([[ 1.]], dtype=float32))\n",
      "('Predicted:', array([[ 1.]], dtype=float32))\n",
      "('Predicted:', array([[ 1.]], dtype=float32))\n",
      "('Predicted:', array([[ 1.]], dtype=float32))\n"
     ]
    },
    {
     "name": "stderr",
     "output_type": "stream",
     "text": [
      " 20%|██        | 196/964 [00:02<00:09, 82.94it/s]"
     ]
    },
    {
     "name": "stdout",
     "output_type": "stream",
     "text": [
      "('Predicted:', array([[ 1.]], dtype=float32))\n",
      "('Predicted:', array([[ 1.]], dtype=float32))\n",
      "('Predicted:', array([[ 1.]], dtype=float32))\n",
      "('Predicted:', array([[ 1.]], dtype=float32))\n",
      "('Predicted:', array([[ 1.]], dtype=float32))\n",
      "('Predicted:', array([[ 1.]], dtype=float32))\n",
      "('Predicted:', array([[ 1.]], dtype=float32))\n",
      "('Predicted:', array([[ 1.]], dtype=float32))\n",
      "('Predicted:', array([[ 1.]], dtype=float32))\n",
      "('Predicted:', array([[ 1.]], dtype=float32))\n",
      "('Predicted:', array([[ 1.]], dtype=float32))\n",
      "('Predicted:', array([[ 1.]], dtype=float32))\n",
      "('Predicted:', array([[ 1.]], dtype=float32))\n",
      "('Predicted:', array([[ 1.]], dtype=float32))\n",
      "('Predicted:', array([[ 1.]], dtype=float32))\n",
      "('Predicted:', array([[ 1.]], dtype=float32))\n",
      "('Predicted:', array([[ 1.]], dtype=float32))\n"
     ]
    },
    {
     "name": "stderr",
     "output_type": "stream",
     "text": [
      " 22%|██▏       | 214/964 [00:02<00:08, 84.06it/s]"
     ]
    },
    {
     "name": "stdout",
     "output_type": "stream",
     "text": [
      "('Predicted:', array([[ 1.]], dtype=float32))\n",
      "('Predicted:', array([[ 1.]], dtype=float32))\n",
      "('Predicted:', array([[ 1.]], dtype=float32))\n",
      "('Predicted:', array([[ 1.]], dtype=float32))\n",
      "('Predicted:', array([[ 1.]], dtype=float32))\n",
      "('Predicted:', array([[ 1.]], dtype=float32))\n",
      "('Predicted:', array([[ 1.]], dtype=float32))\n",
      "('Predicted:', array([[ 1.]], dtype=float32))\n",
      "('Predicted:', array([[ 1.]], dtype=float32))\n",
      "('Predicted:', array([[ 1.]], dtype=float32))\n",
      "('Predicted:', array([[ 1.]], dtype=float32))\n",
      "('Predicted:', array([[ 1.]], dtype=float32))\n",
      "('Predicted:', array([[ 1.]], dtype=float32))\n",
      "('Predicted:', array([[ 1.]], dtype=float32))\n",
      "('Predicted:', array([[ 1.]], dtype=float32))\n",
      "('Predicted:', array([[ 1.]], dtype=float32))\n",
      "('Predicted:', array([[ 1.]], dtype=float32))\n"
     ]
    },
    {
     "name": "stderr",
     "output_type": "stream",
     "text": [
      " 24%|██▍       | 232/964 [00:02<00:08, 82.77it/s]"
     ]
    },
    {
     "name": "stdout",
     "output_type": "stream",
     "text": [
      "('Predicted:', array([[ 1.]], dtype=float32))\n",
      "('Predicted:', array([[ 1.]], dtype=float32))\n",
      "('Predicted:', array([[ 1.]], dtype=float32))\n",
      "('Predicted:', array([[ 1.]], dtype=float32))\n",
      "('Predicted:', array([[ 1.]], dtype=float32))\n",
      "('Predicted:', array([[ 1.]], dtype=float32))\n",
      "('Predicted:', array([[ 1.]], dtype=float32))\n",
      "('Predicted:', array([[ 1.]], dtype=float32))\n",
      "('Predicted:', array([[ 1.]], dtype=float32))\n",
      "('Predicted:', array([[ 1.]], dtype=float32))\n",
      "('Predicted:', array([[ 1.]], dtype=float32))\n",
      "('Predicted:', array([[ 1.]], dtype=float32))\n",
      "('Predicted:', array([[ 1.]], dtype=float32))\n",
      "('Predicted:', array([[ 1.]], dtype=float32))\n",
      "('Predicted:', array([[ 1.]], dtype=float32))\n",
      "('Predicted:', array([[ 1.]], dtype=float32))\n",
      "('Predicted:', array([[ 1.]], dtype=float32))\n"
     ]
    },
    {
     "name": "stderr",
     "output_type": "stream",
     "text": [
      " 26%|██▌       | 250/964 [00:03<00:08, 83.94it/s]"
     ]
    },
    {
     "name": "stdout",
     "output_type": "stream",
     "text": [
      "('Predicted:', array([[ 1.]], dtype=float32))\n",
      "('Predicted:', array([[ 1.]], dtype=float32))\n",
      "('Predicted:', array([[ 1.]], dtype=float32))\n",
      "('Predicted:', array([[ 1.]], dtype=float32))\n",
      "('Predicted:', array([[ 1.]], dtype=float32))\n",
      "('Predicted:', array([[ 1.]], dtype=float32))\n",
      "('Predicted:', array([[ 1.]], dtype=float32))\n",
      "('Predicted:', array([[ 1.]], dtype=float32))\n",
      "('Predicted:', array([[ 1.]], dtype=float32))\n",
      "('Predicted:', array([[ 1.]], dtype=float32))\n",
      "('Predicted:', array([[ 1.]], dtype=float32))\n",
      "('Predicted:', array([[ 1.]], dtype=float32))\n",
      "('Predicted:', array([[ 1.]], dtype=float32))\n",
      "('Predicted:', array([[ 1.]], dtype=float32))\n",
      "('Predicted:', array([[ 1.]], dtype=float32))\n",
      "('Predicted:', array([[ 1.]], dtype=float32))\n",
      "('Predicted:', array([[ 1.]], dtype=float32))\n"
     ]
    },
    {
     "name": "stderr",
     "output_type": "stream",
     "text": [
      " 28%|██▊       | 268/964 [00:03<00:08, 83.05it/s]"
     ]
    },
    {
     "name": "stdout",
     "output_type": "stream",
     "text": [
      "('Predicted:', array([[ 1.]], dtype=float32))\n",
      "('Predicted:', array([[ 1.]], dtype=float32))\n",
      "('Predicted:', array([[ 1.]], dtype=float32))\n",
      "('Predicted:', array([[ 1.]], dtype=float32))\n",
      "('Predicted:', array([[ 1.]], dtype=float32))\n",
      "('Predicted:', array([[ 1.]], dtype=float32))\n",
      "('Predicted:', array([[ 1.]], dtype=float32))\n",
      "('Predicted:', array([[ 1.]], dtype=float32))\n",
      "('Predicted:', array([[ 1.]], dtype=float32))\n",
      "('Predicted:', array([[ 1.]], dtype=float32))\n",
      "('Predicted:', array([[ 1.]], dtype=float32))\n",
      "('Predicted:', array([[ 1.]], dtype=float32))\n",
      "('Predicted:', array([[ 1.]], dtype=float32))\n",
      "('Predicted:', array([[ 1.]], dtype=float32))\n",
      "('Predicted:', array([[ 1.]], dtype=float32))\n",
      "('Predicted:', array([[ 1.]], dtype=float32))\n",
      "('Predicted:', array([[ 1.]], dtype=float32))\n"
     ]
    },
    {
     "name": "stderr",
     "output_type": "stream",
     "text": [
      " 30%|██▉       | 286/964 [00:03<00:08, 82.91it/s]"
     ]
    },
    {
     "name": "stdout",
     "output_type": "stream",
     "text": [
      "('Predicted:', array([[ 1.]], dtype=float32))\n",
      "('Predicted:', array([[ 1.]], dtype=float32))\n",
      "('Predicted:', array([[ 1.]], dtype=float32))\n",
      "('Predicted:', array([[ 1.]], dtype=float32))\n",
      "('Predicted:', array([[ 1.]], dtype=float32))\n",
      "('Predicted:', array([[ 1.]], dtype=float32))\n",
      "('Predicted:', array([[ 1.]], dtype=float32))\n",
      "('Predicted:', array([[ 1.]], dtype=float32))\n",
      "('Predicted:', array([[ 1.]], dtype=float32))\n",
      "('Predicted:', array([[ 1.]], dtype=float32))\n",
      "('Predicted:', array([[ 1.]], dtype=float32))\n",
      "('Predicted:', array([[ 1.]], dtype=float32))\n",
      "('Predicted:', array([[ 1.]], dtype=float32))\n",
      "('Predicted:', array([[ 1.]], dtype=float32))\n",
      "('Predicted:', array([[ 1.]], dtype=float32))\n",
      "('Predicted:', array([[ 1.]], dtype=float32))\n",
      "('Predicted:', array([[ 1.]], dtype=float32))\n"
     ]
    },
    {
     "name": "stderr",
     "output_type": "stream",
     "text": [
      " 32%|███▏      | 304/964 [00:03<00:07, 83.37it/s]"
     ]
    },
    {
     "name": "stdout",
     "output_type": "stream",
     "text": [
      "('Predicted:', array([[ 1.]], dtype=float32))\n",
      "('Predicted:', array([[ 1.]], dtype=float32))\n",
      "('Predicted:', array([[ 1.]], dtype=float32))\n",
      "('Predicted:', array([[ 1.]], dtype=float32))\n",
      "('Predicted:', array([[ 1.]], dtype=float32))\n",
      "('Predicted:', array([[ 1.]], dtype=float32))\n",
      "('Predicted:', array([[ 1.]], dtype=float32))\n",
      "('Predicted:', array([[ 1.]], dtype=float32))\n",
      "('Predicted:', array([[ 1.]], dtype=float32))\n",
      "('Predicted:', array([[ 1.]], dtype=float32))\n",
      "('Predicted:', array([[ 1.]], dtype=float32))\n",
      "('Predicted:', array([[ 1.]], dtype=float32))\n",
      "('Predicted:', array([[ 1.]], dtype=float32))\n",
      "('Predicted:', array([[ 1.]], dtype=float32))\n",
      "('Predicted:', array([[ 1.]], dtype=float32))\n",
      "('Predicted:', array([[ 1.]], dtype=float32))\n",
      "('Predicted:', array([[ 1.]], dtype=float32))\n"
     ]
    },
    {
     "name": "stderr",
     "output_type": "stream",
     "text": [
      " 33%|███▎      | 322/964 [00:03<00:07, 82.76it/s]"
     ]
    },
    {
     "name": "stdout",
     "output_type": "stream",
     "text": [
      "('Predicted:', array([[ 1.]], dtype=float32))\n",
      "('Predicted:', array([[ 1.]], dtype=float32))\n",
      "('Predicted:', array([[ 1.]], dtype=float32))\n",
      "('Predicted:', array([[ 1.]], dtype=float32))\n",
      "('Predicted:', array([[ 1.]], dtype=float32))\n",
      "('Predicted:', array([[ 1.]], dtype=float32))\n",
      "('Predicted:', array([[ 1.]], dtype=float32))\n",
      "('Predicted:', array([[ 1.]], dtype=float32))\n",
      "('Predicted:', array([[ 1.]], dtype=float32))\n",
      "('Predicted:', array([[ 1.]], dtype=float32))\n",
      "('Predicted:', array([[ 1.]], dtype=float32))\n",
      "('Predicted:', array([[ 1.]], dtype=float32))\n",
      "('Predicted:', array([[ 1.]], dtype=float32))\n",
      "('Predicted:', array([[ 1.]], dtype=float32))\n",
      "('Predicted:', array([[ 1.]], dtype=float32))\n",
      "('Predicted:', array([[ 1.]], dtype=float32))\n",
      "('Predicted:', array([[ 1.]], dtype=float32))\n"
     ]
    },
    {
     "name": "stderr",
     "output_type": "stream",
     "text": [
      "\r",
      " 34%|███▍      | 331/964 [00:04<00:07, 82.02it/s]"
     ]
    },
    {
     "name": "stdout",
     "output_type": "stream",
     "text": [
      "('Predicted:', array([[ 1.]], dtype=float32))\n",
      "('Predicted:', array([[ 1.]], dtype=float32))\n",
      "('Predicted:', array([[ 1.]], dtype=float32))\n",
      "('Predicted:', array([[ 1.]], dtype=float32))\n",
      "('Predicted:', array([[ 1.]], dtype=float32))\n",
      "('Predicted:', array([[ 1.]], dtype=float32))\n",
      "('Predicted:', array([[ 1.]], dtype=float32))\n",
      "('Predicted:', array([[ 1.]], dtype=float32))\n",
      "('Predicted:', array([[ 1.]], dtype=float32))\n",
      "('Predicted:', array([[ 1.]], dtype=float32))\n",
      "('Predicted:', array([[ 1.]], dtype=float32))\n",
      "('Predicted:', array([[ 1.]], dtype=float32))\n",
      "('Predicted:', array([[ 1.]], dtype=float32))\n",
      "('Predicted:', array([[ 1.]], dtype=float32))\n",
      "('Predicted:', array([[ 1.]], dtype=float32))\n",
      "('Predicted:', array([[ 1.]], dtype=float32))\n",
      "('Predicted:', array([[ 1.]], dtype=float32))\n"
     ]
    },
    {
     "name": "stderr",
     "output_type": "stream",
     "text": [
      " 36%|███▌      | 349/964 [00:04<00:07, 82.54it/s]"
     ]
    },
    {
     "name": "stdout",
     "output_type": "stream",
     "text": [
      "('Predicted:', array([[ 1.]], dtype=float32))\n",
      "('Predicted:', array([[ 1.]], dtype=float32))\n",
      "('Predicted:', array([[ 1.]], dtype=float32))\n",
      "('Predicted:', array([[ 1.]], dtype=float32))\n",
      "('Predicted:', array([[ 1.]], dtype=float32))\n",
      "('Predicted:', array([[ 1.]], dtype=float32))\n",
      "('Predicted:', array([[ 1.]], dtype=float32))\n",
      "('Predicted:', array([[ 1.]], dtype=float32))\n",
      "('Predicted:', array([[ 1.]], dtype=float32))\n",
      "('Predicted:', array([[ 1.]], dtype=float32))\n",
      "('Predicted:', array([[ 1.]], dtype=float32))\n",
      "('Predicted:', array([[ 1.]], dtype=float32))\n",
      "('Predicted:', array([[ 1.]], dtype=float32))\n",
      "('Predicted:', array([[ 1.]], dtype=float32))\n",
      "('Predicted:', array([[ 1.]], dtype=float32))\n",
      "('Predicted:', array([[ 1.]], dtype=float32))\n",
      "('Predicted:', array([[ 1.]], dtype=float32))\n"
     ]
    },
    {
     "name": "stderr",
     "output_type": "stream",
     "text": [
      " 38%|███▊      | 367/964 [00:04<00:07, 83.18it/s]"
     ]
    },
    {
     "name": "stdout",
     "output_type": "stream",
     "text": [
      "('Predicted:', array([[ 1.]], dtype=float32))\n",
      "('Predicted:', array([[ 1.]], dtype=float32))\n",
      "('Predicted:', array([[ 1.]], dtype=float32))\n",
      "('Predicted:', array([[ 1.]], dtype=float32))\n",
      "('Predicted:', array([[ 1.]], dtype=float32))\n",
      "('Predicted:', array([[ 1.]], dtype=float32))\n",
      "('Predicted:', array([[ 1.]], dtype=float32))\n",
      "('Predicted:', array([[ 1.]], dtype=float32))\n",
      "('Predicted:', array([[ 1.]], dtype=float32))\n",
      "('Predicted:', array([[ 1.]], dtype=float32))\n",
      "('Predicted:', array([[ 1.]], dtype=float32))\n",
      "('Predicted:', array([[ 1.]], dtype=float32))\n",
      "('Predicted:', array([[ 1.]], dtype=float32))\n",
      "('Predicted:', array([[ 1.]], dtype=float32))\n",
      "('Predicted:', array([[ 1.]], dtype=float32))\n",
      "('Predicted:', array([[ 1.]], dtype=float32))\n",
      "('Predicted:', array([[ 1.]], dtype=float32))\n"
     ]
    },
    {
     "name": "stderr",
     "output_type": "stream",
     "text": [
      " 40%|███▉      | 385/964 [00:04<00:07, 81.76it/s]"
     ]
    },
    {
     "name": "stdout",
     "output_type": "stream",
     "text": [
      "('Predicted:', array([[ 1.]], dtype=float32))\n",
      "('Predicted:', array([[ 1.]], dtype=float32))\n",
      "('Predicted:', array([[ 1.]], dtype=float32))\n",
      "('Predicted:', array([[ 1.]], dtype=float32))\n",
      "('Predicted:', array([[ 1.]], dtype=float32))\n",
      "('Predicted:', array([[ 1.]], dtype=float32))\n",
      "('Predicted:', array([[ 1.]], dtype=float32))\n",
      "('Predicted:', array([[ 1.]], dtype=float32))\n",
      "('Predicted:', array([[ 1.]], dtype=float32))\n",
      "('Predicted:', array([[ 1.]], dtype=float32))\n",
      "('Predicted:', array([[ 1.]], dtype=float32))\n",
      "('Predicted:', array([[ 1.]], dtype=float32))\n",
      "('Predicted:', array([[ 1.]], dtype=float32))\n",
      "('Predicted:', array([[ 1.]], dtype=float32))\n",
      "('Predicted:', array([[ 1.]], dtype=float32))\n",
      "('Predicted:', array([[ 1.]], dtype=float32))\n",
      "('Predicted:', array([[ 1.]], dtype=float32))\n"
     ]
    },
    {
     "name": "stderr",
     "output_type": "stream",
     "text": [
      " 42%|████▏     | 403/964 [00:04<00:06, 82.32it/s]"
     ]
    },
    {
     "name": "stdout",
     "output_type": "stream",
     "text": [
      "('Predicted:', array([[ 1.]], dtype=float32))\n",
      "('Predicted:', array([[ 1.]], dtype=float32))\n",
      "('Predicted:', array([[ 1.]], dtype=float32))\n",
      "('Predicted:', array([[ 1.]], dtype=float32))\n",
      "('Predicted:', array([[ 1.]], dtype=float32))\n",
      "('Predicted:', array([[ 1.]], dtype=float32))\n",
      "('Predicted:', array([[ 1.]], dtype=float32))\n",
      "('Predicted:', array([[ 1.]], dtype=float32))\n",
      "('Predicted:', array([[ 1.]], dtype=float32))\n",
      "('Predicted:', array([[ 1.]], dtype=float32))\n",
      "('Predicted:', array([[ 1.]], dtype=float32))\n",
      "('Predicted:', array([[ 1.]], dtype=float32))\n",
      "('Predicted:', array([[ 1.]], dtype=float32))\n",
      "('Predicted:', array([[ 1.]], dtype=float32))\n",
      "('Predicted:', array([[ 1.]], dtype=float32))\n",
      "('Predicted:', array([[ 1.]], dtype=float32))\n",
      "('Predicted:', array([[ 1.]], dtype=float32))\n"
     ]
    },
    {
     "name": "stderr",
     "output_type": "stream",
     "text": [
      " 44%|████▎     | 421/964 [00:05<00:06, 83.58it/s]"
     ]
    },
    {
     "name": "stdout",
     "output_type": "stream",
     "text": [
      "('Predicted:', array([[ 1.]], dtype=float32))\n",
      "('Predicted:', array([[ 1.]], dtype=float32))\n",
      "('Predicted:', array([[ 1.]], dtype=float32))\n",
      "('Predicted:', array([[ 1.]], dtype=float32))\n",
      "('Predicted:', array([[ 1.]], dtype=float32))\n",
      "('Predicted:', array([[ 1.]], dtype=float32))\n",
      "('Predicted:', array([[ 1.]], dtype=float32))\n",
      "('Predicted:', array([[ 1.]], dtype=float32))\n",
      "('Predicted:', array([[ 1.]], dtype=float32))\n",
      "('Predicted:', array([[ 1.]], dtype=float32))\n",
      "('Predicted:', array([[ 1.]], dtype=float32))\n",
      "('Predicted:', array([[ 1.]], dtype=float32))\n",
      "('Predicted:', array([[ 1.]], dtype=float32))\n",
      "('Predicted:', array([[ 1.]], dtype=float32))\n",
      "('Predicted:', array([[ 1.]], dtype=float32))\n",
      "('Predicted:', array([[ 1.]], dtype=float32))\n",
      "('Predicted:', array([[ 1.]], dtype=float32))\n"
     ]
    },
    {
     "name": "stderr",
     "output_type": "stream",
     "text": [
      " 46%|████▌     | 439/964 [00:05<00:06, 82.87it/s]"
     ]
    },
    {
     "name": "stdout",
     "output_type": "stream",
     "text": [
      "('Predicted:', array([[ 1.]], dtype=float32))\n",
      "('Predicted:', array([[ 1.]], dtype=float32))\n",
      "('Predicted:', array([[ 1.]], dtype=float32))\n",
      "('Predicted:', array([[ 1.]], dtype=float32))\n",
      "('Predicted:', array([[ 1.]], dtype=float32))\n",
      "('Predicted:', array([[ 1.]], dtype=float32))\n",
      "('Predicted:', array([[ 1.]], dtype=float32))\n",
      "('Predicted:', array([[ 1.]], dtype=float32))\n",
      "('Predicted:', array([[ 1.]], dtype=float32))\n",
      "('Predicted:', array([[ 1.]], dtype=float32))\n",
      "('Predicted:', array([[ 1.]], dtype=float32))\n",
      "('Predicted:', array([[ 1.]], dtype=float32))\n",
      "('Predicted:', array([[ 1.]], dtype=float32))\n",
      "('Predicted:', array([[ 1.]], dtype=float32))\n",
      "('Predicted:', array([[ 1.]], dtype=float32))\n",
      "('Predicted:', array([[ 1.]], dtype=float32))\n",
      "('Predicted:', array([[ 1.]], dtype=float32))\n"
     ]
    },
    {
     "name": "stderr",
     "output_type": "stream",
     "text": [
      " 47%|████▋     | 457/964 [00:05<00:06, 83.17it/s]"
     ]
    },
    {
     "name": "stdout",
     "output_type": "stream",
     "text": [
      "('Predicted:', array([[ 1.]], dtype=float32))\n",
      "('Predicted:', array([[ 1.]], dtype=float32))\n",
      "('Predicted:', array([[ 1.]], dtype=float32))\n",
      "('Predicted:', array([[ 1.]], dtype=float32))\n",
      "('Predicted:', array([[ 1.]], dtype=float32))\n",
      "('Predicted:', array([[ 1.]], dtype=float32))\n",
      "('Predicted:', array([[ 1.]], dtype=float32))\n",
      "('Predicted:', array([[ 1.]], dtype=float32))\n",
      "('Predicted:', array([[ 1.]], dtype=float32))\n",
      "('Predicted:', array([[ 1.]], dtype=float32))\n",
      "('Predicted:', array([[ 1.]], dtype=float32))\n",
      "('Predicted:', array([[ 1.]], dtype=float32))\n",
      "('Predicted:', array([[ 1.]], dtype=float32))\n",
      "('Predicted:', array([[ 1.]], dtype=float32))\n",
      "('Predicted:', array([[ 1.]], dtype=float32))\n",
      "('Predicted:', array([[ 1.]], dtype=float32))\n",
      "('Predicted:', array([[ 1.]], dtype=float32))\n"
     ]
    },
    {
     "name": "stderr",
     "output_type": "stream",
     "text": [
      " 49%|████▉     | 475/964 [00:05<00:05, 83.77it/s]"
     ]
    },
    {
     "name": "stdout",
     "output_type": "stream",
     "text": [
      "('Predicted:', array([[ 1.]], dtype=float32))\n",
      "('Predicted:', array([[ 1.]], dtype=float32))\n",
      "('Predicted:', array([[ 1.]], dtype=float32))\n",
      "('Predicted:', array([[ 1.]], dtype=float32))\n",
      "('Predicted:', array([[ 1.]], dtype=float32))\n",
      "('Predicted:', array([[ 1.]], dtype=float32))\n",
      "('Predicted:', array([[ 1.]], dtype=float32))\n",
      "('Predicted:', array([[ 1.]], dtype=float32))\n",
      "('Predicted:', array([[ 1.]], dtype=float32))\n",
      "('Predicted:', array([[ 1.]], dtype=float32))\n",
      "('Predicted:', array([[ 1.]], dtype=float32))\n",
      "('Predicted:', array([[ 1.]], dtype=float32))\n",
      "('Predicted:', array([[ 1.]], dtype=float32))\n",
      "('Predicted:', array([[ 1.]], dtype=float32))\n",
      "('Predicted:', array([[ 1.]], dtype=float32))\n",
      "('Predicted:', array([[ 1.]], dtype=float32))\n",
      "('Predicted:', array([[ 1.]], dtype=float32))\n"
     ]
    },
    {
     "name": "stderr",
     "output_type": "stream",
     "text": [
      "\r",
      " 50%|█████     | 484/964 [00:05<00:05, 83.25it/s]"
     ]
    },
    {
     "name": "stdout",
     "output_type": "stream",
     "text": [
      "('Predicted:', array([[ 1.]], dtype=float32))\n",
      "('Predicted:', array([[ 1.]], dtype=float32))\n",
      "('Predicted:', array([[ 1.]], dtype=float32))\n",
      "('Predicted:', array([[ 1.]], dtype=float32))\n",
      "('Predicted:', array([[ 1.]], dtype=float32))\n",
      "('Predicted:', array([[ 1.]], dtype=float32))\n",
      "('Predicted:', array([[ 1.]], dtype=float32))\n",
      "('Predicted:', array([[ 1.]], dtype=float32))\n",
      "('Predicted:', array([[ 1.]], dtype=float32))\n",
      "('Predicted:', array([[ 1.]], dtype=float32))\n",
      "('Predicted:', array([[ 1.]], dtype=float32))\n",
      "('Predicted:', array([[ 1.]], dtype=float32))\n",
      "('Predicted:', array([[ 1.]], dtype=float32))\n",
      "('Predicted:', array([[ 1.]], dtype=float32))\n",
      "('Predicted:', array([[ 1.]], dtype=float32))\n",
      "('Predicted:', array([[ 1.]], dtype=float32))\n",
      "('Predicted:', array([[ 1.]], dtype=float32))\n"
     ]
    },
    {
     "name": "stderr",
     "output_type": "stream",
     "text": [
      " 52%|█████▏    | 502/964 [00:06<00:05, 83.52it/s]"
     ]
    },
    {
     "name": "stdout",
     "output_type": "stream",
     "text": [
      "('Predicted:', array([[ 1.]], dtype=float32))\n",
      "('Predicted:', array([[ 1.]], dtype=float32))\n",
      "('Predicted:', array([[ 1.]], dtype=float32))\n",
      "('Predicted:', array([[ 1.]], dtype=float32))\n",
      "('Predicted:', array([[ 1.]], dtype=float32))\n",
      "('Predicted:', array([[ 1.]], dtype=float32))\n",
      "('Predicted:', array([[ 1.]], dtype=float32))\n",
      "('Predicted:', array([[ 1.]], dtype=float32))\n",
      "('Predicted:', array([[ 1.]], dtype=float32))\n",
      "('Predicted:', array([[ 1.]], dtype=float32))\n",
      "('Predicted:', array([[ 1.]], dtype=float32))\n",
      "('Predicted:', array([[ 1.]], dtype=float32))\n",
      "('Predicted:', array([[ 1.]], dtype=float32))\n",
      "('Predicted:', array([[ 1.]], dtype=float32))\n",
      "('Predicted:', array([[ 1.]], dtype=float32))\n",
      "('Predicted:', array([[ 1.]], dtype=float32))\n",
      "('Predicted:', array([[ 1.]], dtype=float32))\n"
     ]
    },
    {
     "name": "stderr",
     "output_type": "stream",
     "text": [
      " 54%|█████▍    | 520/964 [00:06<00:05, 83.80it/s]"
     ]
    },
    {
     "name": "stdout",
     "output_type": "stream",
     "text": [
      "('Predicted:', array([[ 1.]], dtype=float32))\n",
      "('Predicted:', array([[ 1.]], dtype=float32))\n",
      "('Predicted:', array([[ 1.]], dtype=float32))\n",
      "('Predicted:', array([[ 1.]], dtype=float32))\n",
      "('Predicted:', array([[ 1.]], dtype=float32))\n",
      "('Predicted:', array([[ 1.]], dtype=float32))\n",
      "('Predicted:', array([[ 1.]], dtype=float32))\n",
      "('Predicted:', array([[ 1.]], dtype=float32))\n",
      "('Predicted:', array([[ 1.]], dtype=float32))\n",
      "('Predicted:', array([[ 1.]], dtype=float32))\n",
      "('Predicted:', array([[ 1.]], dtype=float32))\n",
      "('Predicted:', array([[ 1.]], dtype=float32))\n",
      "('Predicted:', array([[ 1.]], dtype=float32))\n",
      "('Predicted:', array([[ 1.]], dtype=float32))\n",
      "('Predicted:', array([[ 1.]], dtype=float32))\n",
      "('Predicted:', array([[ 1.]], dtype=float32))\n",
      "('Predicted:', array([[ 1.]], dtype=float32))\n"
     ]
    },
    {
     "name": "stderr",
     "output_type": "stream",
     "text": [
      " 56%|█████▌    | 538/964 [00:06<00:05, 81.42it/s]"
     ]
    },
    {
     "name": "stdout",
     "output_type": "stream",
     "text": [
      "('Predicted:', array([[ 1.]], dtype=float32))\n",
      "('Predicted:', array([[ 1.]], dtype=float32))\n",
      "('Predicted:', array([[ 1.]], dtype=float32))\n",
      "('Predicted:', array([[ 1.]], dtype=float32))\n",
      "('Predicted:', array([[ 1.]], dtype=float32))\n",
      "('Predicted:', array([[ 1.]], dtype=float32))\n",
      "('Predicted:', array([[ 1.]], dtype=float32))\n",
      "('Predicted:', array([[ 1.]], dtype=float32))\n",
      "('Predicted:', array([[ 1.]], dtype=float32))\n",
      "('Predicted:', array([[ 1.]], dtype=float32))\n",
      "('Predicted:', array([[ 1.]], dtype=float32))\n",
      "('Predicted:', array([[ 1.]], dtype=float32))\n",
      "('Predicted:', array([[ 1.]], dtype=float32))\n",
      "('Predicted:', array([[ 1.]], dtype=float32))\n",
      "('Predicted:', array([[ 1.]], dtype=float32))\n",
      "('Predicted:', array([[ 1.]], dtype=float32))\n",
      "('Predicted:', array([[ 1.]], dtype=float32))\n"
     ]
    },
    {
     "name": "stderr",
     "output_type": "stream",
     "text": [
      " 58%|█████▊    | 556/964 [00:06<00:04, 82.35it/s]"
     ]
    },
    {
     "name": "stdout",
     "output_type": "stream",
     "text": [
      "('Predicted:', array([[ 1.]], dtype=float32))\n",
      "('Predicted:', array([[ 1.]], dtype=float32))\n",
      "('Predicted:', array([[ 1.]], dtype=float32))\n",
      "('Predicted:', array([[ 1.]], dtype=float32))\n",
      "('Predicted:', array([[ 1.]], dtype=float32))\n",
      "('Predicted:', array([[ 1.]], dtype=float32))\n",
      "('Predicted:', array([[ 1.]], dtype=float32))\n",
      "('Predicted:', array([[ 1.]], dtype=float32))\n",
      "('Predicted:', array([[ 1.]], dtype=float32))\n",
      "('Predicted:', array([[ 1.]], dtype=float32))\n",
      "('Predicted:', array([[ 1.]], dtype=float32))\n",
      "('Predicted:', array([[ 1.]], dtype=float32))\n",
      "('Predicted:', array([[ 1.]], dtype=float32))\n",
      "('Predicted:', array([[ 1.]], dtype=float32))\n",
      "('Predicted:', array([[ 1.]], dtype=float32))\n",
      "('Predicted:', array([[ 1.]], dtype=float32))\n",
      "('Predicted:', array([[ 1.]], dtype=float32))\n"
     ]
    },
    {
     "name": "stderr",
     "output_type": "stream",
     "text": [
      " 60%|█████▉    | 574/964 [00:06<00:04, 83.00it/s]"
     ]
    },
    {
     "name": "stdout",
     "output_type": "stream",
     "text": [
      "('Predicted:', array([[ 1.]], dtype=float32))\n",
      "('Predicted:', array([[ 1.]], dtype=float32))\n",
      "('Predicted:', array([[ 1.]], dtype=float32))\n",
      "('Predicted:', array([[ 1.]], dtype=float32))\n",
      "('Predicted:', array([[ 1.]], dtype=float32))\n",
      "('Predicted:', array([[ 1.]], dtype=float32))\n",
      "('Predicted:', array([[ 1.]], dtype=float32))\n",
      "('Predicted:', array([[ 1.]], dtype=float32))\n",
      "('Predicted:', array([[ 1.]], dtype=float32))\n",
      "('Predicted:', array([[ 1.]], dtype=float32))\n",
      "('Predicted:', array([[ 1.]], dtype=float32))\n",
      "('Predicted:', array([[ 1.]], dtype=float32))\n",
      "('Predicted:', array([[ 1.]], dtype=float32))\n",
      "('Predicted:', array([[ 1.]], dtype=float32))\n",
      "('Predicted:', array([[ 1.]], dtype=float32))\n",
      "('Predicted:', array([[ 1.]], dtype=float32))\n",
      "('Predicted:', array([[ 1.]], dtype=float32))\n"
     ]
    },
    {
     "name": "stderr",
     "output_type": "stream",
     "text": [
      " 61%|██████▏   | 592/964 [00:07<00:04, 81.58it/s]"
     ]
    },
    {
     "name": "stdout",
     "output_type": "stream",
     "text": [
      "('Predicted:', array([[ 1.]], dtype=float32))\n",
      "('Predicted:', array([[ 1.]], dtype=float32))\n",
      "('Predicted:', array([[ 1.]], dtype=float32))\n",
      "('Predicted:', array([[ 1.]], dtype=float32))\n",
      "('Predicted:', array([[ 1.]], dtype=float32))\n",
      "('Predicted:', array([[ 1.]], dtype=float32))\n",
      "('Predicted:', array([[ 1.]], dtype=float32))\n",
      "('Predicted:', array([[ 1.]], dtype=float32))\n",
      "('Predicted:', array([[ 1.]], dtype=float32))\n",
      "('Predicted:', array([[ 1.]], dtype=float32))\n",
      "('Predicted:', array([[ 1.]], dtype=float32))\n",
      "('Predicted:', array([[ 1.]], dtype=float32))\n",
      "('Predicted:', array([[ 1.]], dtype=float32))\n",
      "('Predicted:', array([[ 1.]], dtype=float32))\n",
      "('Predicted:', array([[ 1.]], dtype=float32))\n",
      "('Predicted:', array([[ 1.]], dtype=float32))\n",
      "('Predicted:', array([[ 1.]], dtype=float32))\n"
     ]
    },
    {
     "name": "stderr",
     "output_type": "stream",
     "text": [
      " 63%|██████▎   | 610/964 [00:07<00:04, 81.45it/s]"
     ]
    },
    {
     "name": "stdout",
     "output_type": "stream",
     "text": [
      "('Predicted:', array([[ 1.]], dtype=float32))\n",
      "('Predicted:', array([[ 1.]], dtype=float32))\n",
      "('Predicted:', array([[ 1.]], dtype=float32))\n",
      "('Predicted:', array([[ 1.]], dtype=float32))\n",
      "('Predicted:', array([[ 1.]], dtype=float32))\n",
      "('Predicted:', array([[ 1.]], dtype=float32))\n",
      "('Predicted:', array([[ 1.]], dtype=float32))\n",
      "('Predicted:', array([[ 1.]], dtype=float32))\n",
      "('Predicted:', array([[ 1.]], dtype=float32))\n",
      "('Predicted:', array([[ 1.]], dtype=float32))\n",
      "('Predicted:', array([[ 1.]], dtype=float32))\n",
      "('Predicted:', array([[ 1.]], dtype=float32))\n",
      "('Predicted:', array([[ 1.]], dtype=float32))\n",
      "('Predicted:', array([[ 1.]], dtype=float32))\n",
      "('Predicted:', array([[ 1.]], dtype=float32))\n",
      "('Predicted:', array([[ 1.]], dtype=float32))\n",
      "('Predicted:', array([[ 1.]], dtype=float32))\n"
     ]
    },
    {
     "name": "stderr",
     "output_type": "stream",
     "text": [
      " 65%|██████▌   | 628/964 [00:07<00:04, 83.02it/s]"
     ]
    },
    {
     "name": "stdout",
     "output_type": "stream",
     "text": [
      "('Predicted:', array([[ 1.]], dtype=float32))\n",
      "('Predicted:', array([[ 1.]], dtype=float32))\n",
      "('Predicted:', array([[ 1.]], dtype=float32))\n",
      "('Predicted:', array([[ 1.]], dtype=float32))\n",
      "('Predicted:', array([[ 1.]], dtype=float32))\n",
      "('Predicted:', array([[ 1.]], dtype=float32))\n",
      "('Predicted:', array([[ 1.]], dtype=float32))\n",
      "('Predicted:', array([[ 1.]], dtype=float32))\n",
      "('Predicted:', array([[ 1.]], dtype=float32))\n",
      "('Predicted:', array([[ 1.]], dtype=float32))\n",
      "('Predicted:', array([[ 1.]], dtype=float32))\n",
      "('Predicted:', array([[ 1.]], dtype=float32))\n",
      "('Predicted:', array([[ 1.]], dtype=float32))\n",
      "('Predicted:', array([[ 1.]], dtype=float32))\n",
      "('Predicted:', array([[ 1.]], dtype=float32))\n",
      "('Predicted:', array([[ 1.]], dtype=float32))\n",
      "('Predicted:', array([[ 1.]], dtype=float32))\n",
      "('Predicted:', array([[ 1.]], dtype=float32))\n"
     ]
    },
    {
     "name": "stderr",
     "output_type": "stream",
     "text": [
      " 67%|██████▋   | 646/964 [00:07<00:03, 82.98it/s]"
     ]
    },
    {
     "name": "stdout",
     "output_type": "stream",
     "text": [
      "('Predicted:', array([[ 1.]], dtype=float32))\n",
      "('Predicted:', array([[ 1.]], dtype=float32))\n",
      "('Predicted:', array([[ 1.]], dtype=float32))\n",
      "('Predicted:', array([[ 1.]], dtype=float32))\n",
      "('Predicted:', array([[ 1.]], dtype=float32))\n",
      "('Predicted:', array([[ 1.]], dtype=float32))\n",
      "('Predicted:', array([[ 1.]], dtype=float32))\n",
      "('Predicted:', array([[ 1.]], dtype=float32))\n",
      "('Predicted:', array([[ 1.]], dtype=float32))\n",
      "('Predicted:', array([[ 1.]], dtype=float32))\n",
      "('Predicted:', array([[ 1.]], dtype=float32))\n",
      "('Predicted:', array([[ 1.]], dtype=float32))\n",
      "('Predicted:', array([[ 1.]], dtype=float32))\n",
      "('Predicted:', array([[ 1.]], dtype=float32))\n",
      "('Predicted:', array([[ 1.]], dtype=float32))\n",
      "('Predicted:', array([[ 1.]], dtype=float32))\n",
      "('Predicted:', array([[ 1.]], dtype=float32))\n"
     ]
    },
    {
     "name": "stderr",
     "output_type": "stream",
     "text": [
      "\r",
      " 68%|██████▊   | 655/964 [00:07<00:03, 83.37it/s]"
     ]
    },
    {
     "name": "stdout",
     "output_type": "stream",
     "text": [
      "('Predicted:', array([[ 1.]], dtype=float32))\n",
      "('Predicted:', array([[ 1.]], dtype=float32))\n",
      "('Predicted:', array([[ 1.]], dtype=float32))\n",
      "('Predicted:', array([[ 1.]], dtype=float32))\n",
      "('Predicted:', array([[ 1.]], dtype=float32))\n",
      "('Predicted:', array([[ 1.]], dtype=float32))\n",
      "('Predicted:', array([[ 1.]], dtype=float32))\n",
      "('Predicted:', array([[ 1.]], dtype=float32))\n",
      "('Predicted:', array([[ 1.]], dtype=float32))\n",
      "('Predicted:', array([[ 1.]], dtype=float32))\n",
      "('Predicted:', array([[ 1.]], dtype=float32))\n",
      "('Predicted:', array([[ 1.]], dtype=float32))\n",
      "('Predicted:', array([[ 1.]], dtype=float32))\n",
      "('Predicted:', array([[ 1.]], dtype=float32))\n",
      "('Predicted:', array([[ 1.]], dtype=float32))\n",
      "('Predicted:', array([[ 1.]], dtype=float32))\n",
      "('Predicted:', array([[ 1.]], dtype=float32))\n",
      "('Predicted:', array([[ 1.]], dtype=float32))\n"
     ]
    },
    {
     "name": "stderr",
     "output_type": "stream",
     "text": [
      " 70%|██████▉   | 673/964 [00:08<00:03, 83.98it/s]"
     ]
    },
    {
     "name": "stdout",
     "output_type": "stream",
     "text": [
      "('Predicted:', array([[ 1.]], dtype=float32))\n",
      "('Predicted:', array([[ 1.]], dtype=float32))\n",
      "('Predicted:', array([[ 1.]], dtype=float32))\n",
      "('Predicted:', array([[ 1.]], dtype=float32))\n",
      "('Predicted:', array([[ 1.]], dtype=float32))\n",
      "('Predicted:', array([[ 1.]], dtype=float32))\n",
      "('Predicted:', array([[ 1.]], dtype=float32))\n",
      "('Predicted:', array([[ 1.]], dtype=float32))\n",
      "('Predicted:', array([[ 1.]], dtype=float32))\n",
      "('Predicted:', array([[ 1.]], dtype=float32))\n",
      "('Predicted:', array([[ 1.]], dtype=float32))\n",
      "('Predicted:', array([[ 1.]], dtype=float32))\n",
      "('Predicted:', array([[ 1.]], dtype=float32))\n",
      "('Predicted:', array([[ 1.]], dtype=float32))\n",
      "('Predicted:', array([[ 1.]], dtype=float32))\n",
      "('Predicted:', array([[ 1.]], dtype=float32))\n",
      "('Predicted:', array([[ 1.]], dtype=float32))\n"
     ]
    },
    {
     "name": "stderr",
     "output_type": "stream",
     "text": [
      " 72%|███████▏  | 691/964 [00:08<00:03, 82.64it/s]"
     ]
    },
    {
     "name": "stdout",
     "output_type": "stream",
     "text": [
      "('Predicted:', array([[ 1.]], dtype=float32))\n",
      "('Predicted:', array([[ 1.]], dtype=float32))\n",
      "('Predicted:', array([[ 1.]], dtype=float32))\n",
      "('Predicted:', array([[ 1.]], dtype=float32))\n",
      "('Predicted:', array([[ 1.]], dtype=float32))\n",
      "('Predicted:', array([[ 1.]], dtype=float32))\n",
      "('Predicted:', array([[ 1.]], dtype=float32))\n",
      "('Predicted:', array([[ 1.]], dtype=float32))\n",
      "('Predicted:', array([[ 1.]], dtype=float32))\n",
      "('Predicted:', array([[ 1.]], dtype=float32))\n",
      "('Predicted:', array([[ 1.]], dtype=float32))\n",
      "('Predicted:', array([[ 1.]], dtype=float32))\n",
      "('Predicted:', array([[ 1.]], dtype=float32))\n",
      "('Predicted:', array([[ 1.]], dtype=float32))\n",
      "('Predicted:', array([[ 1.]], dtype=float32))\n",
      "('Predicted:', array([[ 1.]], dtype=float32))\n"
     ]
    },
    {
     "name": "stderr",
     "output_type": "stream",
     "text": [
      " 74%|███████▎  | 709/964 [00:08<00:03, 82.31it/s]"
     ]
    },
    {
     "name": "stdout",
     "output_type": "stream",
     "text": [
      "('Predicted:', array([[ 1.]], dtype=float32))\n",
      "('Predicted:', array([[ 1.]], dtype=float32))\n",
      "('Predicted:', array([[ 1.]], dtype=float32))\n",
      "('Predicted:', array([[ 1.]], dtype=float32))\n",
      "('Predicted:', array([[ 1.]], dtype=float32))\n",
      "('Predicted:', array([[ 1.]], dtype=float32))\n",
      "('Predicted:', array([[ 1.]], dtype=float32))\n",
      "('Predicted:', array([[ 1.]], dtype=float32))\n",
      "('Predicted:', array([[ 1.]], dtype=float32))\n",
      "('Predicted:', array([[ 1.]], dtype=float32))\n",
      "('Predicted:', array([[ 1.]], dtype=float32))\n",
      "('Predicted:', array([[ 1.]], dtype=float32))\n",
      "('Predicted:', array([[ 1.]], dtype=float32))\n",
      "('Predicted:', array([[ 1.]], dtype=float32))\n",
      "('Predicted:', array([[ 1.]], dtype=float32))\n",
      "('Predicted:', array([[ 1.]], dtype=float32))\n",
      "('Predicted:', array([[ 1.]], dtype=float32))\n"
     ]
    },
    {
     "name": "stderr",
     "output_type": "stream",
     "text": [
      " 75%|███████▌  | 727/964 [00:08<00:02, 83.23it/s]"
     ]
    },
    {
     "name": "stdout",
     "output_type": "stream",
     "text": [
      "('Predicted:', array([[ 1.]], dtype=float32))\n",
      "('Predicted:', array([[ 1.]], dtype=float32))\n",
      "('Predicted:', array([[ 1.]], dtype=float32))\n",
      "('Predicted:', array([[ 1.]], dtype=float32))\n",
      "('Predicted:', array([[ 1.]], dtype=float32))\n",
      "('Predicted:', array([[ 1.]], dtype=float32))\n",
      "('Predicted:', array([[ 1.]], dtype=float32))\n",
      "('Predicted:', array([[ 1.]], dtype=float32))\n",
      "('Predicted:', array([[ 1.]], dtype=float32))\n",
      "('Predicted:', array([[ 1.]], dtype=float32))\n",
      "('Predicted:', array([[ 1.]], dtype=float32))\n",
      "('Predicted:', array([[ 1.]], dtype=float32))\n",
      "('Predicted:', array([[ 1.]], dtype=float32))\n",
      "('Predicted:', array([[ 1.]], dtype=float32))\n",
      "('Predicted:', array([[ 1.]], dtype=float32))\n",
      "('Predicted:', array([[ 1.]], dtype=float32))\n",
      "('Predicted:', array([[ 1.]], dtype=float32))\n"
     ]
    },
    {
     "name": "stderr",
     "output_type": "stream",
     "text": [
      " 77%|███████▋  | 745/964 [00:09<00:02, 82.98it/s]"
     ]
    },
    {
     "name": "stdout",
     "output_type": "stream",
     "text": [
      "('Predicted:', array([[ 1.]], dtype=float32))\n",
      "('Predicted:', array([[ 1.]], dtype=float32))\n",
      "('Predicted:', array([[ 1.]], dtype=float32))\n",
      "('Predicted:', array([[ 1.]], dtype=float32))\n",
      "('Predicted:', array([[ 1.]], dtype=float32))\n",
      "('Predicted:', array([[ 1.]], dtype=float32))\n",
      "('Predicted:', array([[ 1.]], dtype=float32))\n",
      "('Predicted:', array([[ 1.]], dtype=float32))\n",
      "('Predicted:', array([[ 1.]], dtype=float32))\n",
      "('Predicted:', array([[ 1.]], dtype=float32))\n",
      "('Predicted:', array([[ 1.]], dtype=float32))\n",
      "('Predicted:', array([[ 1.]], dtype=float32))\n",
      "('Predicted:', array([[ 1.]], dtype=float32))\n",
      "('Predicted:', array([[ 1.]], dtype=float32))\n",
      "('Predicted:', array([[ 1.]], dtype=float32))\n",
      "('Predicted:', array([[ 1.]], dtype=float32))\n",
      "('Predicted:', array([[ 1.]], dtype=float32))\n"
     ]
    },
    {
     "name": "stderr",
     "output_type": "stream",
     "text": [
      " 79%|███████▉  | 763/964 [00:09<00:02, 82.05it/s]"
     ]
    },
    {
     "name": "stdout",
     "output_type": "stream",
     "text": [
      "('Predicted:', array([[ 1.]], dtype=float32))\n",
      "('Predicted:', array([[ 1.]], dtype=float32))\n",
      "('Predicted:', array([[ 1.]], dtype=float32))\n",
      "('Predicted:', array([[ 1.]], dtype=float32))\n",
      "('Predicted:', array([[ 1.]], dtype=float32))\n",
      "('Predicted:', array([[ 1.]], dtype=float32))\n",
      "('Predicted:', array([[ 1.]], dtype=float32))\n",
      "('Predicted:', array([[ 1.]], dtype=float32))\n",
      "('Predicted:', array([[ 1.]], dtype=float32))\n",
      "('Predicted:', array([[ 1.]], dtype=float32))\n",
      "('Predicted:', array([[ 1.]], dtype=float32))\n",
      "('Predicted:', array([[ 1.]], dtype=float32))\n",
      "('Predicted:', array([[ 1.]], dtype=float32))\n",
      "('Predicted:', array([[ 1.]], dtype=float32))\n",
      "('Predicted:', array([[ 1.]], dtype=float32))\n",
      "('Predicted:', array([[ 1.]], dtype=float32))\n",
      "('Predicted:', array([[ 1.]], dtype=float32))\n"
     ]
    },
    {
     "name": "stderr",
     "output_type": "stream",
     "text": [
      " 81%|████████  | 781/964 [00:09<00:02, 83.02it/s]"
     ]
    },
    {
     "name": "stdout",
     "output_type": "stream",
     "text": [
      "('Predicted:', array([[ 1.]], dtype=float32))\n",
      "('Predicted:', array([[ 1.]], dtype=float32))\n",
      "('Predicted:', array([[ 1.]], dtype=float32))\n",
      "('Predicted:', array([[ 1.]], dtype=float32))\n",
      "('Predicted:', array([[ 1.]], dtype=float32))\n",
      "('Predicted:', array([[ 1.]], dtype=float32))\n",
      "('Predicted:', array([[ 1.]], dtype=float32))\n",
      "('Predicted:', array([[ 1.]], dtype=float32))\n",
      "('Predicted:', array([[ 1.]], dtype=float32))\n",
      "('Predicted:', array([[ 1.]], dtype=float32))\n",
      "('Predicted:', array([[ 1.]], dtype=float32))\n",
      "('Predicted:', array([[ 1.]], dtype=float32))\n",
      "('Predicted:', array([[ 1.]], dtype=float32))\n",
      "('Predicted:', array([[ 1.]], dtype=float32))\n",
      "('Predicted:', array([[ 1.]], dtype=float32))\n",
      "('Predicted:', array([[ 1.]], dtype=float32))\n",
      "('Predicted:', array([[ 1.]], dtype=float32))\n"
     ]
    },
    {
     "name": "stderr",
     "output_type": "stream",
     "text": [
      " 83%|████████▎ | 799/964 [00:09<00:02, 82.38it/s]"
     ]
    },
    {
     "name": "stdout",
     "output_type": "stream",
     "text": [
      "('Predicted:', array([[ 1.]], dtype=float32))\n",
      "('Predicted:', array([[ 1.]], dtype=float32))\n",
      "('Predicted:', array([[ 1.]], dtype=float32))\n",
      "('Predicted:', array([[ 1.]], dtype=float32))\n",
      "('Predicted:', array([[ 1.]], dtype=float32))\n",
      "('Predicted:', array([[ 1.]], dtype=float32))\n",
      "('Predicted:', array([[ 1.]], dtype=float32))\n",
      "('Predicted:', array([[ 1.]], dtype=float32))\n",
      "('Predicted:', array([[ 1.]], dtype=float32))\n",
      "('Predicted:', array([[ 1.]], dtype=float32))\n",
      "('Predicted:', array([[ 1.]], dtype=float32))\n",
      "('Predicted:', array([[ 1.]], dtype=float32))\n",
      "('Predicted:', array([[ 1.]], dtype=float32))\n",
      "('Predicted:', array([[ 1.]], dtype=float32))\n",
      "('Predicted:', array([[ 1.]], dtype=float32))\n",
      "('Predicted:', array([[ 1.]], dtype=float32))\n",
      "('Predicted:', array([[ 1.]], dtype=float32))\n"
     ]
    },
    {
     "name": "stderr",
     "output_type": "stream",
     "text": [
      "\r",
      " 84%|████████▍ | 808/964 [00:09<00:01, 82.99it/s]"
     ]
    },
    {
     "name": "stdout",
     "output_type": "stream",
     "text": [
      "('Predicted:', array([[ 1.]], dtype=float32))\n",
      "('Predicted:', array([[ 1.]], dtype=float32))\n",
      "('Predicted:', array([[ 1.]], dtype=float32))\n",
      "('Predicted:', array([[ 1.]], dtype=float32))\n",
      "('Predicted:', array([[ 1.]], dtype=float32))\n",
      "('Predicted:', array([[ 1.]], dtype=float32))\n",
      "('Predicted:', array([[ 1.]], dtype=float32))\n",
      "('Predicted:', array([[ 1.]], dtype=float32))\n",
      "('Predicted:', array([[ 1.]], dtype=float32))\n",
      "('Predicted:', array([[ 1.]], dtype=float32))\n",
      "('Predicted:', array([[ 1.]], dtype=float32))\n",
      "('Predicted:', array([[ 1.]], dtype=float32))\n",
      "('Predicted:', array([[ 1.]], dtype=float32))\n",
      "('Predicted:', array([[ 1.]], dtype=float32))\n",
      "('Predicted:', array([[ 1.]], dtype=float32))\n",
      "('Predicted:', array([[ 1.]], dtype=float32))\n",
      "('Predicted:', array([[ 1.]], dtype=float32))\n"
     ]
    },
    {
     "name": "stderr",
     "output_type": "stream",
     "text": [
      " 86%|████████▌ | 826/964 [00:09<00:01, 81.70it/s]"
     ]
    },
    {
     "name": "stdout",
     "output_type": "stream",
     "text": [
      "('Predicted:', array([[ 1.]], dtype=float32))\n",
      "('Predicted:', array([[ 1.]], dtype=float32))\n",
      "('Predicted:', array([[ 1.]], dtype=float32))\n",
      "('Predicted:', array([[ 1.]], dtype=float32))\n",
      "('Predicted:', array([[ 1.]], dtype=float32))\n",
      "('Predicted:', array([[ 1.]], dtype=float32))\n",
      "('Predicted:', array([[ 1.]], dtype=float32))\n",
      "('Predicted:', array([[ 1.]], dtype=float32))\n",
      "('Predicted:', array([[ 1.]], dtype=float32))\n",
      "('Predicted:', array([[ 1.]], dtype=float32))\n",
      "('Predicted:', array([[ 1.]], dtype=float32))\n",
      "('Predicted:', array([[ 1.]], dtype=float32))\n",
      "('Predicted:', array([[ 1.]], dtype=float32))\n",
      "('Predicted:', array([[ 1.]], dtype=float32))\n",
      "('Predicted:', array([[ 1.]], dtype=float32))\n",
      "('Predicted:', array([[ 1.]], dtype=float32))\n",
      "('Predicted:', array([[ 1.]], dtype=float32))\n"
     ]
    },
    {
     "name": "stderr",
     "output_type": "stream",
     "text": [
      " 88%|████████▊ | 844/964 [00:10<00:01, 82.99it/s]"
     ]
    },
    {
     "name": "stdout",
     "output_type": "stream",
     "text": [
      "('Predicted:', array([[ 1.]], dtype=float32))\n",
      "('Predicted:', array([[ 1.]], dtype=float32))\n",
      "('Predicted:', array([[ 1.]], dtype=float32))\n",
      "('Predicted:', array([[ 1.]], dtype=float32))\n",
      "('Predicted:', array([[ 1.]], dtype=float32))\n",
      "('Predicted:', array([[ 1.]], dtype=float32))\n",
      "('Predicted:', array([[ 1.]], dtype=float32))\n",
      "('Predicted:', array([[ 1.]], dtype=float32))\n",
      "('Predicted:', array([[ 1.]], dtype=float32))\n",
      "('Predicted:', array([[ 1.]], dtype=float32))\n",
      "('Predicted:', array([[ 1.]], dtype=float32))\n",
      "('Predicted:', array([[ 1.]], dtype=float32))\n",
      "('Predicted:', array([[ 1.]], dtype=float32))\n",
      "('Predicted:', array([[ 1.]], dtype=float32))\n",
      "('Predicted:', array([[ 1.]], dtype=float32))\n",
      "('Predicted:', array([[ 1.]], dtype=float32))\n",
      "('Predicted:', array([[ 1.]], dtype=float32))\n"
     ]
    },
    {
     "name": "stderr",
     "output_type": "stream",
     "text": [
      " 89%|████████▉ | 862/964 [00:10<00:01, 81.82it/s]"
     ]
    },
    {
     "name": "stdout",
     "output_type": "stream",
     "text": [
      "('Predicted:', array([[ 1.]], dtype=float32))\n",
      "('Predicted:', array([[ 1.]], dtype=float32))\n",
      "('Predicted:', array([[ 1.]], dtype=float32))\n",
      "('Predicted:', array([[ 1.]], dtype=float32))\n",
      "('Predicted:', array([[ 1.]], dtype=float32))\n",
      "('Predicted:', array([[ 1.]], dtype=float32))\n",
      "('Predicted:', array([[ 1.]], dtype=float32))\n",
      "('Predicted:', array([[ 1.]], dtype=float32))\n",
      "('Predicted:', array([[ 1.]], dtype=float32))\n",
      "('Predicted:', array([[ 1.]], dtype=float32))\n",
      "('Predicted:', array([[ 1.]], dtype=float32))\n",
      "('Predicted:', array([[ 1.]], dtype=float32))\n",
      "('Predicted:', array([[ 1.]], dtype=float32))\n",
      "('Predicted:', array([[ 1.]], dtype=float32))\n",
      "('Predicted:', array([[ 1.]], dtype=float32))\n",
      "('Predicted:', array([[ 1.]], dtype=float32))\n",
      "('Predicted:', array([[ 1.]], dtype=float32))\n"
     ]
    },
    {
     "name": "stderr",
     "output_type": "stream",
     "text": [
      " 91%|█████████▏| 880/964 [00:10<00:01, 82.84it/s]"
     ]
    },
    {
     "name": "stdout",
     "output_type": "stream",
     "text": [
      "('Predicted:', array([[ 1.]], dtype=float32))\n",
      "('Predicted:', array([[ 1.]], dtype=float32))\n",
      "('Predicted:', array([[ 1.]], dtype=float32))\n",
      "('Predicted:', array([[ 1.]], dtype=float32))\n",
      "('Predicted:', array([[ 1.]], dtype=float32))\n",
      "('Predicted:', array([[ 1.]], dtype=float32))\n",
      "('Predicted:', array([[ 1.]], dtype=float32))\n",
      "('Predicted:', array([[ 1.]], dtype=float32))\n",
      "('Predicted:', array([[ 1.]], dtype=float32))\n",
      "('Predicted:', array([[ 1.]], dtype=float32))\n",
      "('Predicted:', array([[ 1.]], dtype=float32))\n",
      "('Predicted:', array([[ 1.]], dtype=float32))\n",
      "('Predicted:', array([[ 1.]], dtype=float32))\n",
      "('Predicted:', array([[ 1.]], dtype=float32))\n",
      "('Predicted:', array([[ 1.]], dtype=float32))\n",
      "('Predicted:', array([[ 1.]], dtype=float32))\n",
      "('Predicted:', array([[ 1.]], dtype=float32))\n"
     ]
    },
    {
     "name": "stderr",
     "output_type": "stream",
     "text": [
      " 93%|█████████▎| 898/964 [00:10<00:00, 81.84it/s]"
     ]
    },
    {
     "name": "stdout",
     "output_type": "stream",
     "text": [
      "('Predicted:', array([[ 1.]], dtype=float32))\n",
      "('Predicted:', array([[ 1.]], dtype=float32))\n",
      "('Predicted:', array([[ 1.]], dtype=float32))\n",
      "('Predicted:', array([[ 1.]], dtype=float32))\n",
      "('Predicted:', array([[ 1.]], dtype=float32))\n",
      "('Predicted:', array([[ 1.]], dtype=float32))\n",
      "('Predicted:', array([[ 1.]], dtype=float32))\n",
      "('Predicted:', array([[ 1.]], dtype=float32))\n",
      "('Predicted:', array([[ 1.]], dtype=float32))\n",
      "('Predicted:', array([[ 1.]], dtype=float32))\n",
      "('Predicted:', array([[ 1.]], dtype=float32))\n",
      "('Predicted:', array([[ 1.]], dtype=float32))\n",
      "('Predicted:', array([[ 1.]], dtype=float32))\n",
      "('Predicted:', array([[ 1.]], dtype=float32))\n",
      "('Predicted:', array([[ 1.]], dtype=float32))\n",
      "('Predicted:', array([[ 1.]], dtype=float32))\n",
      "('Predicted:', array([[ 1.]], dtype=float32))\n"
     ]
    },
    {
     "name": "stderr",
     "output_type": "stream",
     "text": [
      " 95%|█████████▌| 916/964 [00:11<00:00, 82.49it/s]"
     ]
    },
    {
     "name": "stdout",
     "output_type": "stream",
     "text": [
      "('Predicted:', array([[ 1.]], dtype=float32))\n",
      "('Predicted:', array([[ 1.]], dtype=float32))\n",
      "('Predicted:', array([[ 1.]], dtype=float32))\n",
      "('Predicted:', array([[ 1.]], dtype=float32))\n",
      "('Predicted:', array([[ 1.]], dtype=float32))\n",
      "('Predicted:', array([[ 1.]], dtype=float32))\n",
      "('Predicted:', array([[ 1.]], dtype=float32))\n",
      "('Predicted:', array([[ 1.]], dtype=float32))\n",
      "('Predicted:', array([[ 1.]], dtype=float32))\n",
      "('Predicted:', array([[ 1.]], dtype=float32))\n",
      "('Predicted:', array([[ 1.]], dtype=float32))\n",
      "('Predicted:', array([[ 1.]], dtype=float32))\n",
      "('Predicted:', array([[ 1.]], dtype=float32))\n",
      "('Predicted:', array([[ 1.]], dtype=float32))\n",
      "('Predicted:', array([[ 1.]], dtype=float32))\n",
      "('Predicted:', array([[ 1.]], dtype=float32))\n",
      "('Predicted:', array([[ 1.]], dtype=float32))\n"
     ]
    },
    {
     "name": "stderr",
     "output_type": "stream",
     "text": [
      " 97%|█████████▋| 934/964 [00:11<00:00, 83.46it/s]"
     ]
    },
    {
     "name": "stdout",
     "output_type": "stream",
     "text": [
      "('Predicted:', array([[ 1.]], dtype=float32))\n",
      "('Predicted:', array([[ 1.]], dtype=float32))\n",
      "('Predicted:', array([[ 1.]], dtype=float32))\n",
      "('Predicted:', array([[ 1.]], dtype=float32))\n",
      "('Predicted:', array([[ 1.]], dtype=float32))\n",
      "('Predicted:', array([[ 1.]], dtype=float32))\n",
      "('Predicted:', array([[ 1.]], dtype=float32))\n",
      "('Predicted:', array([[ 1.]], dtype=float32))\n",
      "('Predicted:', array([[ 1.]], dtype=float32))\n",
      "('Predicted:', array([[ 1.]], dtype=float32))\n",
      "('Predicted:', array([[ 1.]], dtype=float32))\n",
      "('Predicted:', array([[ 1.]], dtype=float32))\n",
      "('Predicted:', array([[ 1.]], dtype=float32))\n",
      "('Predicted:', array([[ 1.]], dtype=float32))\n",
      "('Predicted:', array([[ 1.]], dtype=float32))\n",
      "('Predicted:', array([[ 1.]], dtype=float32))\n",
      "('Predicted:', array([[ 1.]], dtype=float32))\n"
     ]
    },
    {
     "name": "stderr",
     "output_type": "stream",
     "text": [
      " 99%|█████████▉| 952/964 [00:11<00:00, 82.85it/s]"
     ]
    },
    {
     "name": "stdout",
     "output_type": "stream",
     "text": [
      "('Predicted:', array([[ 1.]], dtype=float32))\n",
      "('Predicted:', array([[ 1.]], dtype=float32))\n",
      "('Predicted:', array([[ 1.]], dtype=float32))\n",
      "('Predicted:', array([[ 1.]], dtype=float32))\n",
      "('Predicted:', array([[ 1.]], dtype=float32))\n",
      "('Predicted:', array([[ 1.]], dtype=float32))\n",
      "('Predicted:', array([[ 1.]], dtype=float32))\n",
      "('Predicted:', array([[ 1.]], dtype=float32))\n",
      "('Predicted:', array([[ 1.]], dtype=float32))\n",
      "('Predicted:', array([[ 1.]], dtype=float32))\n",
      "('Predicted:', array([[ 1.]], dtype=float32))\n",
      "('Predicted:', array([[ 1.]], dtype=float32))\n",
      "('Predicted:', array([[ 1.]], dtype=float32))\n",
      "('Predicted:', array([[ 1.]], dtype=float32))\n",
      "('Predicted:', array([[ 1.]], dtype=float32))\n",
      "('Predicted:', array([[ 1.]], dtype=float32))\n",
      "('Predicted:', array([[ 1.]], dtype=float32))\n"
     ]
    },
    {
     "name": "stderr",
     "output_type": "stream",
     "text": [
      "100%|██████████| 964/964 [00:11<00:00, 82.65it/s]"
     ]
    },
    {
     "name": "stdout",
     "output_type": "stream",
     "text": [
      "('Predicted:', array([[ 1.]], dtype=float32))\n",
      "('Predicted:', array([[ 1.]], dtype=float32))\n",
      "('Predicted:', array([[ 1.]], dtype=float32))\n",
      "('Predicted:', array([[ 1.]], dtype=float32))\n",
      "('Predicted:', array([[ 1.]], dtype=float32))\n",
      "('Predicted:', array([[ 1.]], dtype=float32))\n",
      "('Predicted:', array([[ 1.]], dtype=float32))\n",
      "('Predicted:', array([[ 1.]], dtype=float32))\n",
      "('Predicted:', array([[ 1.]], dtype=float32))\n",
      "('Predicted:', array([[ 1.]], dtype=float32))\n",
      "('Predicted:', array([[ 1.]], dtype=float32))\n",
      "('Predicted:', array([[ 1.]], dtype=float32))\n"
     ]
    },
    {
     "name": "stderr",
     "output_type": "stream",
     "text": [
      "\n"
     ]
    }
   ],
   "source": [
    "#model.load_weights('/Volumes/solo/ali/Data/model/prob.h5')\n",
    "#model.load('/Volumes/solo/ali/Data/model/my_model.h5')\n",
    "#au = load_model('/Volumes/solo/ali/Data/model/my_model.h5')\n",
    "prob_ = []\n",
    "for _ in tqdm(file_list):\n",
    "\n",
    "    img = load_img(_, target_size=(img_width, img_height))\n",
    "    x = img_to_array(img)\n",
    "    x = np.expand_dims(x, axis=0)\n",
    "    #x = preprocess_input(x)\n",
    "\n",
    "    preds = model.predict(x)\n",
    "    # decode the results into a list of tuples (class, description, probability)\n",
    "    # (one such list for each sample in the batch)\n",
    "    print('Predicted:', preds)"
   ]
  },
  {
   "cell_type": "markdown",
   "metadata": {},
   "source": [
    "# 预训练模型"
   ]
  },
  {
   "cell_type": "code",
   "execution_count": null,
   "metadata": {
    "collapsed": true
   },
   "outputs": [],
   "source": [
    "img = load_img(_, target_size=(224, 224))"
   ]
  },
  {
   "cell_type": "code",
   "execution_count": null,
   "metadata": {
    "collapsed": true
   },
   "outputs": [],
   "source": [
    "from keras.applications.inception_v3 import InceptionV3\n",
    "model1 = InceptionV3(include_top=True, weights=None,classes=1)\n"
   ]
  },
  {
   "cell_type": "code",
   "execution_count": null,
   "metadata": {
    "collapsed": true
   },
   "outputs": [],
   "source": [
    "model1.compile(loss='binary_crossentropy',\n",
    "              optimizer=opt1,\n",
    "              metrics=['accuracy'])\n",
    "\n",
    "\n",
    "model1.fit_generator(\n",
    "    train_generator,\n",
    "    steps_per_epoch=nb_train_samples // batch_size,\n",
    "    epochs=epochs,\n",
    "    validation_data=validation_generator,\n",
    "    validation_steps=nb_validation_samples // batch_size)\n",
    "\n",
    "model1.save('/Volumes/solo/ali/Data/model/my_model.h5')"
   ]
  },
  {
   "cell_type": "code",
   "execution_count": null,
   "metadata": {
    "collapsed": true
   },
   "outputs": [],
   "source": []
  }
 ],
 "metadata": {
  "kernelspec": {
   "display_name": "Python 2",
   "language": "python",
   "name": "python2"
  },
  "language_info": {
   "codemirror_mode": {
    "name": "ipython",
    "version": 2
   },
   "file_extension": ".py",
   "mimetype": "text/x-python",
   "name": "python",
   "nbconvert_exporter": "python",
   "pygments_lexer": "ipython2",
   "version": "2.7.13"
  }
 },
 "nbformat": 4,
 "nbformat_minor": 2
}
