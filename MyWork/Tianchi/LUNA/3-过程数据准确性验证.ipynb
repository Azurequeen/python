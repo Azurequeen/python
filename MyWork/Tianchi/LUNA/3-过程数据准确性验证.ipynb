{
 "cells": [
  {
   "cell_type": "code",
   "execution_count": 1,
   "metadata": {
    "collapsed": true
   },
   "outputs": [],
   "source": [
    "luna_path = '/Volumes/solo/ali/'\n",
    "\n",
    "annotations_path = luna_path + 'csv/val/'\n",
    "src = luna_path + 'Data/val/'\n",
    "dst_nodules = luna_path + 'Data/val_mask/'"
   ]
  },
  {
   "cell_type": "code",
   "execution_count": 2,
   "metadata": {},
   "outputs": [
    {
     "name": "stderr",
     "output_type": "stream",
     "text": [
      "Using TensorFlow backend.\n"
     ]
    }
   ],
   "source": [
    "import time\n",
    "import gc\n",
    "import os\n",
    "\n",
    "import SimpleITK as sitk\n",
    "import numpy as np\n",
    "import csv\n",
    "import scipy\n",
    "from glob import glob\n",
    "import pandas as pd\n",
    "from scipy import ndimage\n",
    "from tqdm import tqdm \n",
    "import pandas as pd\n",
    "\n",
    "from skimage.morphology import ball, disk, dilation, binary_erosion, remove_small_objects, erosion, closing, reconstruction, binary_closing\n",
    "from skimage.measure import label,regionprops, perimeter\n",
    "from skimage.morphology import binary_dilation, binary_opening\n",
    "from skimage.filters import roberts, sobel\n",
    "from skimage import measure, feature\n",
    "from skimage.segmentation import clear_border\n",
    "from skimage import data\n",
    "from scipy import ndimage\n",
    "from mpl_toolkits.mplot3d.art3d import Poly3DCollection\n",
    "import dicom\n",
    "import scipy.misc\n",
    "import numpy as np\n",
    "\n",
    "\n",
    "\n",
    "\n",
    "import matplotlib.pyplot as plt\n",
    "from joblib import Parallel, delayed\n",
    "from numba import autojit\n",
    "import zarr\n",
    "from PIL import Image\n",
    "import cv2\n",
    "import scipy.spatial.distance as dist\n",
    "import gc\n",
    "import warnings\n",
    "from solo.unet_utils import *\n",
    "from solo.unet_models import *\n",
    "#from solo.preproc_utils import *\n",
    "#from solo.tianchi import *\n",
    "\n",
    "import matplotlib.pyplot as plt\n",
    "%matplotlib inline\n",
    "\n",
    "import tensorflow as tf\n",
    "from keras import backend as K\n",
    "K.set_image_dim_ordering('th') \n",
    "\n",
    "\n",
    "#from inception_unet import *\n",
    "np.random.seed(1337)\n",
    "\n",
    "\n",
    "\n",
    "os.environ[\"CUDA_DEVICE_ORDER\"]=\"PCI_BUS_ID\"\n",
    "os.environ[\"CUDA_VISIBLE_DEVICES\"]=\"0\"\n",
    "\n",
    "\n",
    "warnings.filterwarnings(\"ignore\")"
   ]
  },
  {
   "cell_type": "code",
   "execution_count": 3,
   "metadata": {
    "collapsed": true
   },
   "outputs": [],
   "source": [
    "def predict_on_scan(scan):\n",
    "    model = unet_model()\n",
    "    model.load_weights(luna_path + 'Data/model/Unet_fulldatagen.h5')\n",
    "\n",
    "    num_test = scan.shape[0]\n",
    "    scan = scan.reshape(num_test, 1, 512, 512)\n",
    "    imgs_mask_test = np.ndarray([num_test, 1, 512, 512],dtype=np.float32)\n",
    "    for i in range(num_test):\n",
    "        imgs_mask_test[i] = model.predict([scan[i:i+1]], verbose=0)[0]\n",
    "    return imgs_mask_test"
   ]
  },
  {
   "cell_type": "markdown",
   "metadata": {},
   "source": [
    "# 数据验证"
   ]
  },
  {
   "cell_type": "code",
   "execution_count": null,
   "metadata": {
    "collapsed": true
   },
   "outputs": [],
   "source": [
    "imgs_test = np.load(\"/Volumes/solo/ali/output/images_0000_0065.npy\").astype(np.float32)\n",
    "imgs_mask_test_true = np.load(\"/Volumes/solo/ali/output/masks_0000_0065.npy\").astype(np.float32)"
   ]
  },
  {
   "cell_type": "code",
   "execution_count": null,
   "metadata": {
    "collapsed": true
   },
   "outputs": [],
   "source": [
    "pred = predict_on_scan(imgs_test)"
   ]
  },
  {
   "cell_type": "code",
   "execution_count": null,
   "metadata": {},
   "outputs": [],
   "source": [
    "imgs_test.shape"
   ]
  },
  {
   "cell_type": "code",
   "execution_count": null,
   "metadata": {},
   "outputs": [],
   "source": [
    "import matplotlib.pyplot as plt\n",
    "%matplotlib inline\n",
    "f, plots = plt.subplots(4, 4, sharex='all', sharey='all', figsize=(20, 20))\n",
    "\n",
    "for i in range(16):\n",
    "    plots[i // 4, i % 4].axis('off')\n",
    "    plots[i // 4, i % 4].imshow(np.squeeze(imgs_test)[i+4])"
   ]
  },
  {
   "cell_type": "code",
   "execution_count": null,
   "metadata": {
    "collapsed": true
   },
   "outputs": [],
   "source": [
    "import matplotlib.pyplot as plt\n",
    "%matplotlib inline\n",
    "f, plots = plt.subplots(4, 4, sharex='all', sharey='all', figsize=(20, 20))\n",
    "\n",
    "for i in range(16):\n",
    "    plots[i // 4, i % 4].axis('off')\n",
    "    plots[i // 4, i % 4].imshow(np.squeeze(imgs_mask_test_true)[i+4])"
   ]
  },
  {
   "cell_type": "code",
   "execution_count": null,
   "metadata": {
    "collapsed": true
   },
   "outputs": [],
   "source": [
    "import matplotlib.pyplot as plt\n",
    "%matplotlib inline\n",
    "f, plots = plt.subplots(4, 4, sharex='all', sharey='all', figsize=(20, 20))\n",
    "\n",
    "for i in range(16):\n",
    "    plots[i // 4, i % 4].axis('off')\n",
    "    plots[i // 4, i % 4].imshow(np.squeeze(pred)[i+4])"
   ]
  },
  {
   "cell_type": "markdown",
   "metadata": {},
   "source": [
    "# 处理mask"
   ]
  },
  {
   "cell_type": "code",
   "execution_count": null,
   "metadata": {
    "collapsed": true
   },
   "outputs": [],
   "source": [
    "temp = np.squeeze(pred)\n",
    "temp.shape"
   ]
  },
  {
   "cell_type": "code",
   "execution_count": null,
   "metadata": {
    "collapsed": true
   },
   "outputs": [],
   "source": [
    "\n",
    "f, plots = plt.subplots(4, 4, sharex='all', sharey='all', figsize=(20, 20))\n",
    "\n",
    "for i in range(16):\n",
    "    plots[i // 4, i % 4].axis('off')\n",
    "    plots[i // 4, i % 4].imshow(temp[i+4])"
   ]
  },
  {
   "cell_type": "code",
   "execution_count": null,
   "metadata": {
    "collapsed": true,
    "scrolled": true
   },
   "outputs": [],
   "source": [
    "\n",
    "temp = skimage.morphology.binary_opening(temp,np.ones([5,5,5]))\n",
    "\n",
    "labels= measure.label(temp)\n",
    "\n"
   ]
  },
  {
   "cell_type": "code",
   "execution_count": null,
   "metadata": {
    "collapsed": true
   },
   "outputs": [],
   "source": [
    "labels_true = measure.label(np.squeeze(imgs_mask_test_true))"
   ]
  },
  {
   "cell_type": "code",
   "execution_count": null,
   "metadata": {
    "collapsed": true
   },
   "outputs": [],
   "source": [
    "total = []\n",
    "props = regionprops(labels)\n",
    "for i in range(len(props)):\n",
    "    total.append([props[i]['Centroid'][0],props[i]['Centroid'][1],props[i]['Centroid'][2],props[i]['EquivDiameter']])"
   ]
  },
  {
   "cell_type": "code",
   "execution_count": null,
   "metadata": {
    "collapsed": true,
    "scrolled": true
   },
   "outputs": [],
   "source": [
    "total1 = []\n",
    "props1 = regionprops(labels_true)\n",
    "for i in range(len(props1)):\n",
    "    total1.append([props1[i]['Centroid'][0],props1[i]['Centroid'][1],props1[i]['Centroid'][2],props1[i]['EquivDiameter']])\n",
    "    "
   ]
  },
  {
   "cell_type": "code",
   "execution_count": null,
   "metadata": {
    "collapsed": true
   },
   "outputs": [],
   "source": [
    "len(total1),total1,len(total),total"
   ]
  },
  {
   "cell_type": "code",
   "execution_count": null,
   "metadata": {
    "collapsed": true
   },
   "outputs": [],
   "source": [
    "f, plots = plt.subplots(4, 4, sharex='all', sharey='all', figsize=(20, 20))\n",
    "\n",
    "for i in range(16):\n",
    "    plots[i // 4, i % 4].axis('off')\n",
    "    plots[i // 4, i % 4].imshow(labels[i+4])"
   ]
  },
  {
   "cell_type": "code",
   "execution_count": null,
   "metadata": {
    "collapsed": true
   },
   "outputs": [],
   "source": []
  }
 ],
 "metadata": {
  "kernelspec": {
   "display_name": "Python 2",
   "language": "python",
   "name": "python2"
  },
  "language_info": {
   "codemirror_mode": {
    "name": "ipython",
    "version": 2
   },
   "file_extension": ".py",
   "mimetype": "text/x-python",
   "name": "python",
   "nbconvert_exporter": "python",
   "pygments_lexer": "ipython2",
   "version": "2.7.13"
  }
 },
 "nbformat": 4,
 "nbformat_minor": 2
}
