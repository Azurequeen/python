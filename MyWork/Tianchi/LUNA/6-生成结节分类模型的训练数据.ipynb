{
 "cells": [
  {
   "cell_type": "code",
   "execution_count": 1,
   "metadata": {
    "collapsed": true
   },
   "outputs": [],
   "source": [
    "luna_path = '/Volumes/solo/ali/'"
   ]
  },
  {
   "cell_type": "code",
   "execution_count": 2,
   "metadata": {
    "collapsed": true
   },
   "outputs": [],
   "source": [
    "annotations_path = luna_path + 'csv/train/'\n",
    "\n",
    "\n",
    "npy_path = luna_path + 'Data/train_mask/lung_mask/'\n",
    "nodemask = luna_path + 'Data/train_mask/nodule_mask/'\n",
    "#dst_nodules = luna_path + 'Data/val_mask/'\n",
    "pics_path = luna_path + 'pic/train/true/'"
   ]
  },
  {
   "cell_type": "code",
   "execution_count": 3,
   "metadata": {
    "collapsed": true
   },
   "outputs": [],
   "source": [
    "import numpy as np\n",
    "\n",
    "\n",
    "import time\n",
    "import gc\n",
    "import os\n",
    "from skimage.measure import label,regionprops\n",
    "import SimpleITK as sitk\n",
    "import numpy as np\n",
    "import csv\n",
    "import scipy\n",
    "from glob import glob\n",
    "import pandas as pd\n",
    "from scipy import ndimage\n",
    "from tqdm import tqdm \n",
    "import pandas as pd\n",
    "from libtiff import TIFF3D,TIFF\n",
    "from scipy import misc\n",
    "from numpy.random import randint\n",
    "\n",
    "import matplotlib.pyplot as plt\n",
    "%matplotlib inline"
   ]
  },
  {
   "cell_type": "code",
   "execution_count": 4,
   "metadata": {
    "collapsed": true
   },
   "outputs": [],
   "source": [
    "def get_filename(file_list, case):\n",
    "    for f in file_list:\n",
    "        if case in f:\n",
    "            return(f)\n",
    "        \n",
    "def load_itk(filename):\n",
    "    itkimage = sitk.ReadImage(filename)\n",
    "    numpyImage = sitk.GetArrayFromImage(itkimage)\n",
    "    numpyOrigin = np.array(list(reversed(itkimage.GetOrigin())))\n",
    "    numpySpacing = np.array(list(reversed(itkimage.GetSpacing())))\n",
    "    return numpyImage, numpyOrigin, numpySpacing\n",
    "\n",
    "def world_2_voxel(world_coordinates, origin, spacing):\n",
    "    stretched_voxel_coordinates = np.absolute(world_coordinates - origin)\n",
    "    voxel_coordinates = stretched_voxel_coordinates / spacing\n",
    "    return voxel_coordinates\n",
    "\n",
    "def voxel_2_world(voxel_coordinates, origin, spacing):\n",
    "    stretched_voxel_coordinates = voxel_coordinates * spacing\n",
    "    world_coordinates = stretched_voxel_coordinates + origin\n",
    "    return world_coordinates\n",
    "\n",
    "def seq(start, stop, step=1):\n",
    "    n = int(round((stop - start)/float(step)))\n",
    "    if n > 1:\n",
    "        return([start + step*i for i in range(n+1)])\n",
    "    else:\n",
    "        return([])\n",
    "\n",
    "def load_train():\n",
    "    data_path = src\n",
    "    folders = [x for x in os.listdir(data_path) if 'subset' in x]\n",
    "    os.chdir(data_path)\n",
    "    patients = []\n",
    "    for i in folders:\n",
    "        os.chdir(data_path + i)\n",
    "        #print('Changing folder to: {}'.format(data_path + i))\n",
    "        patient_ids = [x for x in os.listdir(data_path + i) if '.mhd' in x]\n",
    "        for id in patient_ids:\n",
    "            j = '{}/{}'.format(i, id)\n",
    "            patients.append(j)\n",
    "    return patients\n",
    "\n",
    "\n",
    "\n",
    "\n",
    "def merge_img():\n",
    "\n",
    "    path = pics_path\n",
    "    current_filelist = glob(path + '*.tif')\n",
    "    imgdir = TIFF3D.open(path+\"a.tif\",'w')\n",
    "    imgarr = []\n",
    "    for i in range(len(current_filelist)):\n",
    "        img = TIFF.open(path + str(i) + \".tif\")\n",
    "        imgarr.append(img.read_image())\n",
    "    imgdir.write_image(imgarr)\n",
    "    for j in current_filelist:\n",
    "        os.remove(j)\n",
    "\n",
    "def predict_on_scan(scan):\n",
    "    model = unet_model()\n",
    "    model.load_weights(luna_path + 'Data/model/Unet_fulldatagen.h5')\n",
    "\n",
    "    num_test = scan.shape[0]\n",
    "    scan = scan.reshape(num_test, 1, 512, 512)\n",
    "    imgs_mask_test = np.ndarray([num_test, 1, 512, 512],dtype=np.float32)\n",
    "    for i in range(num_test):\n",
    "        imgs_mask_test[i] = model.predict([scan[i:i+1]], verbose=0)[0]\n",
    "    return imgs_mask_test"
   ]
  },
  {
   "cell_type": "markdown",
   "metadata": {},
   "source": [
    "# 生成训练jpg图片（Train）"
   ]
  },
  {
   "cell_type": "code",
   "execution_count": 5,
   "metadata": {
    "collapsed": true
   },
   "outputs": [],
   "source": [
    "npy_path = luna_path + 'Data/train_mask/lung_mask/'\n",
    "nodemask = luna_path + 'Data/train_mask/nodule_mask/'\n",
    "#dst_nodules = luna_path + 'Data/val_mask/'\n",
    "pics_path = luna_path + 'pic/train/true/'\n",
    "pics_path_false = luna_path + 'pic/train/false/'"
   ]
  },
  {
   "cell_type": "code",
   "execution_count": 6,
   "metadata": {
    "collapsed": true
   },
   "outputs": [],
   "source": [
    "file_list = []\n",
    "subset_path = os.listdir(npy_path)\n",
    "for _ in range(len(subset_path)):\n",
    "    if subset_path[_] != '.DS_Store':\n",
    "        file_list.append(npy_path + subset_path[_])\n",
    "        \n",
    "        \n",
    "file_list1 = []\n",
    "subset_path1 = os.listdir(nodemask)\n",
    "for _ in range(len(subset_path1)):\n",
    "    if subset_path1[_] != '.DS_Store':\n",
    "        file_list1.append(nodemask + subset_path1[_])"
   ]
  },
  {
   "cell_type": "markdown",
   "metadata": {},
   "source": [
    "## 生成true样本"
   ]
  },
  {
   "cell_type": "code",
   "execution_count": 7,
   "metadata": {},
   "outputs": [
    {
     "name": "stderr",
     "output_type": "stream",
     "text": [
      "100%|██████████| 600/600 [05:32<00:00,  2.05it/s]\n"
     ]
    }
   ],
   "source": [
    "for j in tqdm(range(len(file_list))):\n",
    "    name = file_list[j][-14:-4]\n",
    "    aa = np.load(file_list[j])\n",
    "    bb = np.load(file_list1[j])\n",
    "    cc = aa\n",
    "    cc = np.squeeze(cc)\n",
    "    \n",
    "    #真结节截图\n",
    "    labels= label(np.squeeze(bb))\n",
    "    props = regionprops(labels)\n",
    "    for i in range(len(props)):\n",
    "        if props[i]['EquivDiameter'] < 30:\n",
    "            z = int(props[i]['Centroid'][2])\n",
    "            y = int(props[i]['Centroid'][1])\n",
    "            x = int(props[i]['Centroid'][0])\n",
    "            misc.imsave(pics_path+ str(name) + str('_') + str(i) + '.jpg', cc[x,y-16:y+16,z-16:z+16])\n",
    "    \n",
    "\n",
    "\n",
    "            \n",
    "    \n",
    " "
   ]
  },
  {
   "cell_type": "markdown",
   "metadata": {},
   "source": [
    "## 生成false样本"
   ]
  },
  {
   "cell_type": "code",
   "execution_count": 8,
   "metadata": {},
   "outputs": [
    {
     "name": "stderr",
     "output_type": "stream",
     "text": [
      "100%|██████████| 600/600 [05:28<00:00,  1.16it/s]\n"
     ]
    }
   ],
   "source": [
    "for j in tqdm(range(len(file_list))):\n",
    "    name = file_list[j][-14:-4]\n",
    "    aa = np.load(file_list[j])\n",
    "    bb = np.load(file_list1[j])\n",
    "    cc = aa\n",
    "    cc = np.squeeze(cc)\n",
    "    aa = np.squeeze(aa)\n",
    "    #真结节截图\n",
    "    labels= label(np.squeeze(bb))\n",
    "    props = regionprops(labels)\n",
    "    \n",
    "    rand_x = []\n",
    "    rand_y = []\n",
    "    rand_z = []\n",
    "    for i in range(len(props)):        \n",
    "        z1,z2 = int(props[i]['Centroid'][2])-32,int(props[i]['Centroid'][2])+32\n",
    "        y1,y2 = int(props[i]['Centroid'][1])-32,int(props[i]['Centroid'][1])+32\n",
    "        x1,x2 = int(props[i]['Centroid'][0])-32,int(props[i]['Centroid'][0])+32\n",
    "        \n",
    "        for u in randint(0,aa.shape[0],size=32):\n",
    "            if u>z2 or u<z1:\n",
    "                rand_z.append(u)\n",
    "        \n",
    "        for v in randint(64,aa.shape[1]-64,size=32):\n",
    "            if v>y2 or v<y1:\n",
    "                rand_y.append(v)\n",
    "        \n",
    "        for w in randint(64,aa.shape[2]-64,size=32):\n",
    "            if w>x2 or w<x1:\n",
    "                rand_x.append(w)     \n",
    "        \n",
    "        for _ in range (5):\n",
    "            z = rand_z.pop(1)\n",
    "            y = rand_y.pop(1)\n",
    "            x = rand_x.pop(1)\n",
    "            \n",
    "            misc.imsave(pics_path_false+ str(name) + str('_') + str(i) + '.jpg', aa[x,y-16:y+16,z-16:z+16])"
   ]
  },
  {
   "cell_type": "markdown",
   "metadata": {},
   "source": [
    "# 生成验证jpg图片（Val）"
   ]
  },
  {
   "cell_type": "code",
   "execution_count": 9,
   "metadata": {
    "collapsed": true
   },
   "outputs": [],
   "source": [
    "npy_path = luna_path + 'Data/val_mask/lung_mask/'\n",
    "nodemask = luna_path + 'Data/val_mask/nodule_mask/'\n",
    "#dst_nodules = luna_path + 'Data/val_mask/'\n",
    "pics_path = luna_path + 'pic/val/true/'\n",
    "pics_path_false = luna_path + 'pic/val/false/'"
   ]
  },
  {
   "cell_type": "code",
   "execution_count": 10,
   "metadata": {
    "collapsed": true
   },
   "outputs": [],
   "source": [
    "file_list = []\n",
    "subset_path = os.listdir(npy_path)\n",
    "for _ in range(len(subset_path)):\n",
    "    if subset_path[_] != '.DS_Store':\n",
    "        file_list.append(npy_path + subset_path[_])\n",
    "        \n",
    "        \n",
    "file_list1 = []\n",
    "subset_path1 = os.listdir(nodemask)\n",
    "for _ in range(len(subset_path1)):\n",
    "    if subset_path1[_] != '.DS_Store':\n",
    "        file_list1.append(nodemask + subset_path1[_])"
   ]
  },
  {
   "cell_type": "code",
   "execution_count": 11,
   "metadata": {},
   "outputs": [
    {
     "name": "stderr",
     "output_type": "stream",
     "text": [
      "100%|██████████| 200/200 [01:48<00:00,  2.81it/s]\n"
     ]
    }
   ],
   "source": [
    "for j in tqdm(range(len(file_list))):\n",
    "    name = file_list[j][-14:-4]\n",
    "    aa = np.load(file_list[j])\n",
    "    bb = np.load(file_list1[j])\n",
    "    cc = aa\n",
    "    cc = np.squeeze(cc)\n",
    "    \n",
    "    labels= label(np.squeeze(bb))\n",
    "    props = regionprops(labels)\n",
    "    for i in range(len(props)):\n",
    "        if props[i]['EquivDiameter'] < 30:\n",
    "            z = int(props[i]['Centroid'][2])\n",
    "            y = int(props[i]['Centroid'][1])\n",
    "            x = int(props[i]['Centroid'][0])\n",
    "            misc.imsave(pics_path+ str(name) + str('_') + str(i) + '.jpg', cc[x,y-16:y+16,z-16:z+16])"
   ]
  },
  {
   "cell_type": "code",
   "execution_count": 12,
   "metadata": {},
   "outputs": [
    {
     "name": "stderr",
     "output_type": "stream",
     "text": [
      "100%|██████████| 200/200 [01:49<00:00,  2.73it/s]\n"
     ]
    }
   ],
   "source": [
    "for j in tqdm(range(len(file_list))):\n",
    "    name = file_list[j][-14:-4]\n",
    "    aa = np.load(file_list[j])\n",
    "    bb = np.load(file_list1[j])\n",
    "    cc = aa\n",
    "    cc = np.squeeze(cc)\n",
    "    aa = np.squeeze(aa)\n",
    "    #真结节截图\n",
    "    labels= label(np.squeeze(bb))\n",
    "    props = regionprops(labels)\n",
    "    \n",
    "    rand_x = []\n",
    "    rand_y = []\n",
    "    rand_z = []\n",
    "    for i in range(len(props)):        \n",
    "        z1,z2 = int(props[i]['Centroid'][2])-32,int(props[i]['Centroid'][2])+32\n",
    "        y1,y2 = int(props[i]['Centroid'][1])-32,int(props[i]['Centroid'][1])+32\n",
    "        x1,x2 = int(props[i]['Centroid'][0])-32,int(props[i]['Centroid'][0])+32\n",
    "        \n",
    "        for u in randint(0,aa.shape[0],size=32):\n",
    "            if u>z2 or u<z1:\n",
    "                rand_z.append(u)\n",
    "        \n",
    "        for v in randint(64,aa.shape[1]-64,size=32):\n",
    "            if v>y2 or v<y1:\n",
    "                rand_y.append(v)\n",
    "        \n",
    "        for w in randint(64,aa.shape[2]-64,size=32):\n",
    "            if w>x2 or w<x1:\n",
    "                rand_x.append(w)     \n",
    "        \n",
    "        for _ in range (5):\n",
    "            z = rand_z.pop(1)\n",
    "            y = rand_y.pop(1)\n",
    "            x = rand_x.pop(1)\n",
    "            \n",
    "            misc.imsave(pics_path_false+ str(name) + str('_') + str(i) + '.jpg', aa[x,y-16:y+16,z-16:z+16])"
   ]
  }
 ],
 "metadata": {
  "anaconda-cloud": {},
  "kernelspec": {
   "display_name": "Python 2",
   "language": "python",
   "name": "python2"
  },
  "language_info": {
   "codemirror_mode": {
    "name": "ipython",
    "version": 2
   },
   "file_extension": ".py",
   "mimetype": "text/x-python",
   "name": "python",
   "nbconvert_exporter": "python",
   "pygments_lexer": "ipython2",
   "version": "2.7.13"
  }
 },
 "nbformat": 4,
 "nbformat_minor": 2
}
