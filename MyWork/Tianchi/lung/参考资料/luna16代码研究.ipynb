{
 "cells": [
  {
   "cell_type": "code",
   "execution_count": 22,
   "metadata": {
    "collapsed": true
   },
   "outputs": [],
   "source": [
    "import SimpleITK as sitk\n",
    "import numpy as np\n",
    "import os\n",
    "import random\n",
    "from glob import glob\n",
    "import pandas as pd\n",
    "import scipy.ndimage\n",
    "from py import mhd_utils_3d\n",
    "import matplotlib.pyplot as plt\n",
    "import fnmatch\n",
    "\n",
    "%matplotlib inline"
   ]
  },
  {
   "cell_type": "code",
   "execution_count": 10,
   "metadata": {
    "code_folding": [
     8.0
    ],
    "collapsed": true
   },
   "outputs": [],
   "source": [
    "luna_path = './'\n",
    "luna_subset_path = luna_path + 'sample_patients/'\n",
    "file_list = glob(luna_subset_path + \"*.mhd\")\n",
    "\n",
    "annotations = pd.read_csv(luna_path + 'csv_files/' + 'annotations.csv')\n",
    "\n",
    "if os.path.isdir('./npy'):\n",
    "    pass\n",
    "else:\n",
    "    os.mkdir('./npy')"
   ]
  },
  {
   "cell_type": "code",
   "execution_count": 11,
   "metadata": {
    "collapsed": false
   },
   "outputs": [
    {
     "data": {
      "text/html": [
       "<div style=\"max-height:1000px;max-width:1500px;overflow:auto;\">\n",
       "<table border=\"1\" class=\"dataframe\">\n",
       "  <thead>\n",
       "    <tr style=\"text-align: right;\">\n",
       "      <th></th>\n",
       "      <th>seriesuid</th>\n",
       "      <th>coordX</th>\n",
       "      <th>coordY</th>\n",
       "      <th>coordZ</th>\n",
       "      <th>diameter_mm</th>\n",
       "      <th>serisuidComplete</th>\n",
       "    </tr>\n",
       "  </thead>\n",
       "  <tbody>\n",
       "    <tr>\n",
       "      <th>1002</th>\n",
       "      <td> 1.3.6.1.4.1.14519.5.2.1.6279.6001.487268565754...</td>\n",
       "      <td> 119.208776</td>\n",
       "      <td> 11.450374</td>\n",
       "      <td>-165.039862</td>\n",
       "      <td> 26.837081</td>\n",
       "      <td> ./sample_patients/1.3.6.1.4.1.14519.5.2.1.6279...</td>\n",
       "    </tr>\n",
       "    <tr>\n",
       "      <th>1003</th>\n",
       "      <td> 1.3.6.1.4.1.14519.5.2.1.6279.6001.487268565754...</td>\n",
       "      <td> -37.901617</td>\n",
       "      <td> 55.027912</td>\n",
       "      <td> -80.002605</td>\n",
       "      <td> 17.718729</td>\n",
       "      <td> ./sample_patients/1.3.6.1.4.1.14519.5.2.1.6279...</td>\n",
       "    </tr>\n",
       "    <tr>\n",
       "      <th>1145</th>\n",
       "      <td> 1.3.6.1.4.1.14519.5.2.1.6279.6001.910435939545...</td>\n",
       "      <td>  68.243850</td>\n",
       "      <td> 83.940751</td>\n",
       "      <td>-296.892458</td>\n",
       "      <td>  7.068564</td>\n",
       "      <td> ./sample_patients/1.3.6.1.4.1.14519.5.2.1.6279...</td>\n",
       "    </tr>\n",
       "    <tr>\n",
       "      <th>1146</th>\n",
       "      <td> 1.3.6.1.4.1.14519.5.2.1.6279.6001.910435939545...</td>\n",
       "      <td>  53.469331</td>\n",
       "      <td> 86.958564</td>\n",
       "      <td>-244.223244</td>\n",
       "      <td>  8.704938</td>\n",
       "      <td> ./sample_patients/1.3.6.1.4.1.14519.5.2.1.6279...</td>\n",
       "    </tr>\n",
       "    <tr>\n",
       "      <th>1147</th>\n",
       "      <td> 1.3.6.1.4.1.14519.5.2.1.6279.6001.910435939545...</td>\n",
       "      <td> -91.369924</td>\n",
       "      <td> -6.167830</td>\n",
       "      <td>-218.833869</td>\n",
       "      <td>  6.162973</td>\n",
       "      <td> ./sample_patients/1.3.6.1.4.1.14519.5.2.1.6279...</td>\n",
       "    </tr>\n",
       "  </tbody>\n",
       "</table>\n",
       "<p>5 rows × 6 columns</p>\n",
       "</div>"
      ],
      "text/plain": [
       "                                              seriesuid      coordX  \\\n",
       "1002  1.3.6.1.4.1.14519.5.2.1.6279.6001.487268565754...  119.208776   \n",
       "1003  1.3.6.1.4.1.14519.5.2.1.6279.6001.487268565754...  -37.901617   \n",
       "1145  1.3.6.1.4.1.14519.5.2.1.6279.6001.910435939545...   68.243850   \n",
       "1146  1.3.6.1.4.1.14519.5.2.1.6279.6001.910435939545...   53.469331   \n",
       "1147  1.3.6.1.4.1.14519.5.2.1.6279.6001.910435939545...  -91.369924   \n",
       "\n",
       "         coordY      coordZ  diameter_mm  \\\n",
       "1002  11.450374 -165.039862    26.837081   \n",
       "1003  55.027912  -80.002605    17.718729   \n",
       "1145  83.940751 -296.892458     7.068564   \n",
       "1146  86.958564 -244.223244     8.704938   \n",
       "1147  -6.167830 -218.833869     6.162973   \n",
       "\n",
       "                                       serisuidComplete  \n",
       "1002  ./sample_patients/1.3.6.1.4.1.14519.5.2.1.6279...  \n",
       "1003  ./sample_patients/1.3.6.1.4.1.14519.5.2.1.6279...  \n",
       "1145  ./sample_patients/1.3.6.1.4.1.14519.5.2.1.6279...  \n",
       "1146  ./sample_patients/1.3.6.1.4.1.14519.5.2.1.6279...  \n",
       "1147  ./sample_patients/1.3.6.1.4.1.14519.5.2.1.6279...  \n",
       "\n",
       "[5 rows x 6 columns]"
      ]
     },
     "execution_count": 11,
     "metadata": {},
     "output_type": "execute_result"
    }
   ],
   "source": [
    "def get_filename(file_list, case):\n",
    "    for f in file_list:\n",
    "        if case in f:\n",
    "            return(f)\n",
    "\n",
    "# map file full path to each record \n",
    "annotations['serisuidComplete'] = annotations['seriesuid'].map(lambda file_name: get_filename(file_list, file_name))\n",
    "annotations = annotations.dropna()\n",
    "annotations.head(5)"
   ]
  },
  {
   "cell_type": "code",
   "execution_count": 12,
   "metadata": {
    "collapsed": false
   },
   "outputs": [
    {
     "name": "stdout",
     "output_type": "stream",
     "text": [
      "数据条数：\n",
      "9\n"
     ]
    }
   ],
   "source": [
    "print '数据条数：'\n",
    "print df_node.shape[0]"
   ]
  },
  {
   "cell_type": "code",
   "execution_count": 18,
   "metadata": {
    "code_folding": [
     9.0,
     14.0,
     21.0,
     28.0,
     36.0
    ],
    "collapsed": true
   },
   "outputs": [],
   "source": [
    "# Some Functions\n",
    "def getPathSeriesuid(seriesuid):\n",
    "    pattern = '*'+seriesuid+'*'\n",
    "    for roots, dirs, files in os.walk(luna_subset_path):\n",
    "            for filename in fnmatch.filter(files,pattern):\n",
    "                returnPath = os.path.join(roots,filename)\n",
    "                #print(returnPath)\n",
    "    return returnPath\n",
    "\n",
    "def getAnnotationsFullPathCSV():\n",
    "    # Includes full path of files in final column\n",
    "    annotations[\"serisuidComplete\"] = annotations[\"seriesuid\"].apply(getPathSeriesuid) # Get complete paths of files (takes a while)\n",
    "    annotations.to_csv(\"/CSVFILES/annotationsFullPaths.csv\",index=0)\n",
    "\n",
    "def load_itk_image(filename):\n",
    "    itkimage = sitk.ReadImage(filename)\n",
    "    numpyImage = sitk.GetArrayFromImage(itkimage)\n",
    "    numpyOrigin = np.array(list(reversed(itkimage.GetOrigin())))\n",
    "    numpySpacing = np.array(list(reversed(itkimage.GetSpacing())))\n",
    "    return numpyImage, numpyOrigin, numpySpacing\n",
    "\n",
    "def load_originSpacing(filename):\n",
    "    itkimage = sitk.ReadImage(filename)\n",
    "    numpyOrigin = np.array(list(reversed(itkimage.GetOrigin())))\n",
    "    numpySpacing = np.array(list(reversed(itkimage.GetSpacing())))\n",
    "    return numpyOrigin, numpySpacing\n",
    "\n",
    "'''\n",
    "def load_itk_image(filename):\n",
    "    itkimage = sitk.ReadImage(filename)\n",
    "    numpyImage = sitk.GetArrayFromImage(itkimage)\n",
    "    numpyOrigin = np.array(list(itkimage.GetOrigin()))\n",
    "    numpySpacing = np.array(list(itkimage.GetSpacing()))\n",
    "    return numpyImage, numpyOrigin, numpySpacing\n",
    "'''\n",
    "\n",
    "def worldToVoxelCoord(worldCoord, origin, spacing):\n",
    "    stretchedVoxelCoord = np.absolute(worldCoord - origin)\n",
    "    voxelCoord = stretchedVoxelCoord / spacing\n",
    "    return voxelCoord\n",
    "#ofInterest = annotations[annotations[\"seriesuid\"].str.contains(\"1.3.6.1.4.1.14519.5.2.1.6279.6001.105495028985881418176186711228\")]"
   ]
  },
  {
   "cell_type": "code",
   "execution_count": 19,
   "metadata": {
    "code_folding": [
     0.0
    ],
    "collapsed": true
   },
   "outputs": [],
   "source": [
    "def getImageNVC(obs,data):\n",
    "    data = data.iloc[obs]\n",
    "    noduleCoords = data['coordX'],data['coordY'],data['coordZ']\n",
    "    mhdPath = data.serisuidComplete.replace(\".raw\",\".mhd\")\n",
    "    imgOrigin, imgSpacing = load_originSpacing(mhdPath)\n",
    "\n",
    "    nvc = worldToVoxelCoord(noduleCoords[::-1],imgOrigin,imgSpacing)\n",
    "    nvc = np.array(nvc.astype(int))\n",
    "    return nvc"
   ]
  },
  {
   "cell_type": "code",
   "execution_count": 20,
   "metadata": {
    "code_folding": [
     1.0
    ],
    "collapsed": true
   },
   "outputs": [],
   "source": [
    "# Append Vox coords to dataframe\n",
    "def makeAnnotationsCSVnodules(data,name):\n",
    "    data['vxX'] = pd.Series(np.zeros(annotations.shape[0]), index=annotations.index)\n",
    "    data['vxY'] = pd.Series(np.zeros(annotations.shape[0]), index=annotations.index)\n",
    "    data['vxZ'] = pd.Series(np.zeros(annotations.shape[0]), index=annotations.index)\n",
    "    for obs in xrange(data.shape[0]):\n",
    "        #print(annotations.shape[0])\n",
    "        if obs % 100 ==0:\n",
    "            print(obs)\n",
    "        nvc = getImageNVC(obs)\n",
    "\n",
    "        data.set_value(obs, 'vxX', nvc[2])\n",
    "        data.set_value(obs, 'vxY', nvc[1])\n",
    "        data.set_value(obs, 'vxZ', nvc[0])\n",
    "    data.to_csv(\"/home/msmith/luna16/CSVFILES/\"+name+\"NVC.csv\",index=0) # just NVC"
   ]
  },
  {
   "cell_type": "code",
   "execution_count": 23,
   "metadata": {
    "collapsed": false
   },
   "outputs": [
    {
     "ename": "UnboundLocalError",
     "evalue": "local variable 'returnPath' referenced before assignment",
     "traceback": [
      "\u001b[0;31m---------------------------------------------------------------------------\u001b[0m",
      "\u001b[0;31mUnboundLocalError\u001b[0m                         Traceback (most recent call last)",
      "\u001b[0;32m<ipython-input-23-f42c3475734d>\u001b[0m in \u001b[0;36m<module>\u001b[0;34m()\u001b[0m\n\u001b[1;32m      8\u001b[0m \u001b[0mpattern\u001b[0m \u001b[0;34m=\u001b[0m \u001b[0;34m'*'\u001b[0m\u001b[0;34m+\u001b[0m\u001b[0mrandAnnotation\u001b[0m\u001b[0;34m[\u001b[0m\u001b[0;34m'seriesuid'\u001b[0m\u001b[0;34m]\u001b[0m\u001b[0;34m+\u001b[0m\u001b[0;34m'*'\u001b[0m\u001b[0;34m\u001b[0m\u001b[0m\n\u001b[1;32m      9\u001b[0m \u001b[0;34m\u001b[0m\u001b[0m\n\u001b[0;32m---> 10\u001b[0;31m \u001b[0mimgPath\u001b[0m \u001b[0;34m=\u001b[0m \u001b[0mgetPathSeriesuid\u001b[0m\u001b[0;34m(\u001b[0m\u001b[0mpattern\u001b[0m\u001b[0;34m)\u001b[0m\u001b[0;34m\u001b[0m\u001b[0m\n\u001b[0m\u001b[1;32m     11\u001b[0m \u001b[0mrawPath\u001b[0m \u001b[0;34m=\u001b[0m \u001b[0mimgPath\u001b[0m\u001b[0;34m[\u001b[0m\u001b[0;34m:\u001b[0m\u001b[0;34m-\u001b[0m\u001b[0;36m3\u001b[0m\u001b[0;34m]\u001b[0m \u001b[0;34m+\u001b[0m \u001b[0;34m'raw'\u001b[0m\u001b[0;34m\u001b[0m\u001b[0m\n\u001b[1;32m     12\u001b[0m \u001b[0mimg\u001b[0m \u001b[0;34m=\u001b[0m \u001b[0mnp\u001b[0m\u001b[0;34m.\u001b[0m\u001b[0mfromfile\u001b[0m\u001b[0;34m(\u001b[0m\u001b[0mrawPath\u001b[0m\u001b[0;34m,\u001b[0m\u001b[0mdtype\u001b[0m\u001b[0;34m=\u001b[0m\u001b[0;34m'int16'\u001b[0m\u001b[0;34m)\u001b[0m\u001b[0;34m\u001b[0m\u001b[0m\n",
      "\u001b[0;32m<ipython-input-18-3ecc830db7df>\u001b[0m in \u001b[0;36mgetPathSeriesuid\u001b[0;34m(seriesuid)\u001b[0m\n\u001b[1;32m      6\u001b[0m                 \u001b[0mreturnPath\u001b[0m \u001b[0;34m=\u001b[0m \u001b[0mos\u001b[0m\u001b[0;34m.\u001b[0m\u001b[0mpath\u001b[0m\u001b[0;34m.\u001b[0m\u001b[0mjoin\u001b[0m\u001b[0;34m(\u001b[0m\u001b[0mroots\u001b[0m\u001b[0;34m,\u001b[0m\u001b[0mfilename\u001b[0m\u001b[0;34m)\u001b[0m\u001b[0;34m\u001b[0m\u001b[0m\n\u001b[1;32m      7\u001b[0m                 \u001b[0;31m#print(returnPath)\u001b[0m\u001b[0;34m\u001b[0m\u001b[0;34m\u001b[0m\u001b[0m\n\u001b[0;32m----> 8\u001b[0;31m     \u001b[0;32mreturn\u001b[0m \u001b[0mreturnPath\u001b[0m\u001b[0;34m\u001b[0m\u001b[0m\n\u001b[0m\u001b[1;32m      9\u001b[0m \u001b[0;34m\u001b[0m\u001b[0m\n\u001b[1;32m     10\u001b[0m \u001b[0;32mdef\u001b[0m \u001b[0mgetAnnotationsFullPathCSV\u001b[0m\u001b[0;34m(\u001b[0m\u001b[0;34m)\u001b[0m\u001b[0;34m:\u001b[0m\u001b[0;34m\u001b[0m\u001b[0m\n",
      "\u001b[0;31mUnboundLocalError\u001b[0m: local variable 'returnPath' referenced before assignment"
     ],
     "output_type": "error"
    }
   ],
   "source": [
    "# Get random annotation from list\n",
    "randInt = np.random.randint(annotations.shape[0])\n",
    "#randInt = 1\n",
    "annotationsOld = pd.read_csv(luna_path + 'csv_files/' + 'annotations.csv')\n",
    "randAnnotation = annotationsOld.iloc[randInt]\n",
    "\n",
    "noduleCoords = randAnnotation['coordX'],randAnnotation['coordY'],randAnnotation['coordZ']\n",
    "pattern = '*'+randAnnotation['seriesuid']+'*'\n",
    "\n",
    "imgPath = getPathSeriesuid(pattern)\n",
    "rawPath = imgPath[:-3] + 'raw'\n",
    "img = np.fromfile(rawPath,dtype='int16')\n",
    "with open(imgPath[:-3] + 'mhd',\"r\") as f:\n",
    "    imgData = f.read()\n",
    "    mhdPath = rawPath[:-3] + 'mhd'\n",
    "    \n",
    "img, imgOrigin, imgSpacing = load_itk_image(mhdPath)\n",
    "\n",
    "def printInfo():\n",
    "    print(\"Using observation\", randInt)\n",
    "    print(randAnnotation)\n",
    "    print(\"==\"*50)\n",
    "    print(\"==\"*50)\n",
    "    print(imgData)\n",
    "    annotationsOld[randInt:randInt+1]\n",
    "printInfo()\n",
    "\n",
    "# Nodule voxel coordinates (nvc)\n",
    "nvc = worldToVoxelCoord(noduleCoords[::-1],imgOrigin,imgSpacing)\n",
    "nvc = np.array(nvc.astype(int))\n",
    "\n",
    "#Get a range in which to subset the data\n",
    "margin = 50\n",
    "nvcMinus,nvcPlus = (nvc - margin).astype(int), (nvc + margin).astype(int)\n",
    "def printNoduleInfo():\n",
    "    print(\"Image shape ==>\" + \"\\n\" + str(img.shape))\n",
    "    print(\"Nodule coordinates @\"+\"\\n\" + str(nvc))\n",
    "    print(\"NVC margins ==>\" + \"\\n\" + str(nvcMinus) + \"\\n\" + str(nvcPlus))\n",
    "#printNoduleInfo()\n",
    "\n",
    "from matplotlib.patches import Rectangle\n",
    "rectangle = plt.Rectangle((nvcMinus[2], nvcMinus[1]),margin*2 ,margin*2, facecolor = 'none', ec='r')\n",
    "circle = plt.Circle((nvc[2],nvc[1]),10, facecolor = 'none', ec='r')\n",
    "plt.gca().add_patch(rectangle)\n",
    "plt.gca().add_patch(circle)\n",
    "plt.imshow(img[nvc[0]],cmap=cm.gray)\n",
    "plt.show()\n",
    "\n",
    "for i in xrange(nvc[0]-2,nvc[0]+2,1):\n",
    "    if i == nvc[0]:\n",
    "        print(\"Nodule located here\")\n",
    "    print(i)\n",
    "    plt.imshow(img[i,nvcMinus[1]:nvcPlus[1],nvcMinus[2]:nvcPlus[2]],cmap=cm.gray)\n",
    "    plt.show()"
   ]
  },
  {
   "cell_type": "code",
   "execution_count": null,
   "metadata": {
    "collapsed": true
   },
   "outputs": [],
   "source": [
    ""
   ]
  }
 ],
 "metadata": {
  "kernelspec": {
   "display_name": "Python [default]",
   "language": "python",
   "name": "python2"
  },
  "language_info": {
   "codemirror_mode": {
    "name": "ipython",
    "version": 2.0
   },
   "file_extension": ".py",
   "mimetype": "text/x-python",
   "name": "python",
   "nbconvert_exporter": "python",
   "pygments_lexer": "ipython2",
   "version": "2.7.13"
  },
  "toc": {
   "colors": {
    "hover_highlight": "#DAA520",
    "running_highlight": "#FF0000",
    "selected_highlight": "#FFD700"
   },
   "moveMenuLeft": true,
   "nav_menu": {
    "height": "12px",
    "width": "252px"
   },
   "navigate_menu": true,
   "number_sections": true,
   "sideBar": true,
   "threshold": 4.0,
   "toc_cell": false,
   "toc_section_display": "block",
   "toc_window_display": false,
   "widenNotebook": false
  }
 },
 "nbformat": 4,
 "nbformat_minor": 0
}