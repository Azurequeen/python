{
 "cells": [
  {
   "cell_type": "markdown",
   "metadata": {},
   "source": [
    "# Data Science Bowl: Detecting Lung Cancer From Chest Scans"
   ]
  },
  {
   "cell_type": "code",
   "execution_count": 1,
   "metadata": {},
   "outputs": [
    {
     "name": "stderr",
     "output_type": "stream",
     "text": [
      "Using TensorFlow backend.\n"
     ]
    }
   ],
   "source": [
    "import numpy as np\n",
    "import pandas as pd\n",
    "import os\n",
    "import scipy.ndimage\n",
    "import matplotlib.pyplot as plt\n",
    "import warnings\n",
    "from glob import glob\n",
    "\n",
    "from skimage import measure, morphology\n",
    "from skimage.transform import resize\n",
    "\n",
    "from keras.models import Model\n",
    "from keras.layers import Input, Dense, Convolution2D, MaxPooling2D, UpSampling2D, merge\n",
    "from keras.optimizers import Adam\n",
    "from keras import backend as K\n",
    "\n",
    "%matplotlib inline\n",
    "warnings.filterwarnings(\"ignore\")\n",
    "\n",
    "\n",
    "\n",
    "luna_path = '/Volumes/solo/Luna16/'\n",
    "luna_subset_path = luna_path + 'subset0/'\n",
    "df_node = pd.read_csv(luna_path + 'CSVFILES/' + 'annotations.csv')\n",
    "\n",
    "file_list = glob(luna_subset_path + \"*.mhd\")\n",
    "npy_list=glob(luna_path + 'npy/' + \"images_*.npy\")\n",
    "\n",
    "\n",
    "INPUT_FOLDER = luna_subset_path\n",
    "patients = os.listdir(INPUT_FOLDER)\n",
    "patients.sort()"
   ]
  },
  {
   "cell_type": "markdown",
   "metadata": {},
   "source": [
    "## Utils"
   ]
  },
  {
   "cell_type": "code",
   "execution_count": 2,
   "metadata": {
    "collapsed": true
   },
   "outputs": [],
   "source": [
    "def load_scan(path):\n",
    "    slices = [dicom.read_file(path + '/' + s) for s in os.listdir(path)]\n",
    "    slices.sort(key = lambda x: int(x.InstanceNumber))\n",
    "    try:\n",
    "        slice_thickness = np.abs(slices[0].ImagePositionPatient[2] - slices[1].ImagePositionPatient[2])\n",
    "    except:\n",
    "        slice_thickness = np.abs(slices[0].SliceLocation - slices[1].SliceLocation)\n",
    "        \n",
    "    for s in slices:\n",
    "        s.SliceThickness = slice_thickness\n",
    "        \n",
    "    return slices\n",
    "\n",
    "\n",
    "def get_pixels_hu(scans):\n",
    "    image = np.stack([s.pixel_array for s in scans])\n",
    "    image = image.astype(np.int16)\n",
    "\n",
    "    # Set outside-of-scan pixels to 0\n",
    "    # The intercept is usually -1024, so air is approximately 0\n",
    "    image[image == -2000] = 0\n",
    "    \n",
    "    # Convert to Hounsfield units (HU)\n",
    "    intercept = scans[0].RescaleIntercept\n",
    "    slope = scans[0].RescaleSlope\n",
    "    \n",
    "    if slope != 1:\n",
    "        image = slope * image.astype(np.float64)\n",
    "        image = image.astype(np.int16)\n",
    "        \n",
    "    image += np.int16(intercept)   \n",
    "    return np.array(image, dtype=np.int16)\n",
    "\n",
    "\n",
    "def get_batches(patients):\n",
    "    for ix, patient in enumerate(patients):\n",
    "        scan = load_scan(INPUT_FOLDER + patient)\n",
    "        slices = get_pixels_hu(scan)\n",
    "        if ix % 50 == 0:\n",
    "            print(\"Processed patient {0} of {1}\".format(ix, len(patients)))\n",
    "        yield slices\n",
    "        \n",
    "\n",
    "def save_array(path, arr):\n",
    "    np.save(path, arr)\n",
    "    \n",
    "\n",
    "def load_array(path):\n",
    "    return np.load(path)"
   ]
  },
  {
   "cell_type": "markdown",
   "metadata": {},
   "source": [
    "## Preprocessing"
   ]
  },
  {
   "cell_type": "markdown",
   "metadata": {},
   "source": [
    "#### Normalization & Centering"
   ]
  },
  {
   "cell_type": "code",
   "execution_count": 3,
   "metadata": {
    "collapsed": true
   },
   "outputs": [],
   "source": [
    "MIN_BOUND = -1000.0\n",
    "MAX_BOUND = 400.0\n",
    "PIXEL_MEAN = 0.25\n",
    "    \n",
    "def normalize(image):\n",
    "    image = (image - MIN_BOUND) / (MAX_BOUND - MIN_BOUND)\n",
    "    image[image>1] = 1.\n",
    "    image[image<0] = 0.\n",
    "    return image\n",
    "\n",
    "def zero_center(image):\n",
    "    image = image - PIXEL_MEAN\n",
    "    return image"
   ]
  },
  {
   "cell_type": "markdown",
   "metadata": {},
   "source": [
    "#### Lung Masks"
   ]
  },
  {
   "cell_type": "code",
   "execution_count": 4,
   "metadata": {
    "collapsed": true
   },
   "outputs": [],
   "source": [
    "def largest_label_volume(im, bg=-1):\n",
    "    vals, counts = np.unique(im, return_counts=True)\n",
    "\n",
    "    counts = counts[vals != bg]\n",
    "    vals = vals[vals != bg]\n",
    "\n",
    "    biggest = vals[np.argmax(counts)]\n",
    "    return biggest\n",
    "\n",
    "\n",
    "def segment_lung_mask(image, fill_lung_structures=True): \n",
    "    # not actually binary, but 1 and 2. \n",
    "    # 0 is treated as background, which we do not want\n",
    "    binary_image = np.array(image > -350, dtype=np.int8)+1\n",
    "    labels = measure.label(binary_image)\n",
    "    \n",
    "    # Pick the pixel in the very corner to determine which label is air.\n",
    "    #   Improvement: Pick multiple background labels from around the patient\n",
    "    #   More resistant to \"trays\" on which the patient lays cutting the air \n",
    "    #   around the person in half\n",
    "    background_label = labels[0,0,0]\n",
    "    \n",
    "    #Fill the air around the person\n",
    "    binary_image[background_label == labels] = 2\n",
    "    \n",
    "    # Method of filling the lung structures (that is superior to something like \n",
    "    # morphological closing)\n",
    "    if fill_lung_structures:\n",
    "        # For every slice we determine the largest solid structure\n",
    "        for i, axial_slice in enumerate(binary_image):\n",
    "            axial_slice = axial_slice - 1\n",
    "            labeling = measure.label(axial_slice)\n",
    "            l_max = largest_label_volume(labeling, bg=0)\n",
    "            \n",
    "            if l_max is not None: #This slice contains some lung\n",
    "                binary_image[i][labeling != l_max] = 1\n",
    "\n",
    "    binary_image -= 1  # Make the image actual binary\n",
    "    binary_image = 1-binary_image # Invert it, lungs are now 1\n",
    "    \n",
    "    # Remove other air pockets insided body\n",
    "    labels = measure.label(binary_image, background=0)\n",
    "    l_max = largest_label_volume(labels, bg=0)\n",
    "    \n",
    "    if l_max is not None: # There are air pockets\n",
    "        binary_image[labels != l_max] = 0\n",
    "    \n",
    "    for i, axial_slice in enumerate(binary_image):  # one last dilation\n",
    "        binary_image[i] = morphology.dilation(axial_slice, np.ones([10,10]))\n",
    "        \n",
    "    return binary_image\n",
    "\n",
    "\n",
    "def save_masks(scan, patient):\n",
    "    masks = segment_lung_mask(scan, True)\n",
    "    np.save(\"sample_masks/{}.npy\".format(patient), masks)\n",
    "    return masks"
   ]
  },
  {
   "cell_type": "markdown",
   "metadata": {},
   "source": [
    "#### Apply Masks"
   ]
  },
  {
   "cell_type": "code",
   "execution_count": 5,
   "metadata": {
    "collapsed": true
   },
   "outputs": [],
   "source": [
    "def apply_masks(imgs, masks):\n",
    "    out_images = []\n",
    "    for i in range(len(imgs)):\n",
    "        mask = masks[i]\n",
    "        img = imgs[i]\n",
    "            \n",
    "        new_size = [512, 512]\n",
    "        img= mask*img  # apply lung mask\n",
    "\n",
    "        ### renormalizing the masked image (in the mask region)\n",
    "        new_mean = np.mean(img[mask>0])  \n",
    "        new_std = np.std(img[mask>0])\n",
    "        \n",
    "        ### Pulling the background color up to the lower end of pixel range for the lungs\n",
    "        old_min = np.min(img)       # background color\n",
    "        img[img==old_min] = new_mean-1.2*new_std   # resetting backgound color\n",
    "        img = img-new_mean\n",
    "        img = img/new_std\n",
    "        \n",
    "        ### make image bounding box  (min row, min col, max row, max col)\n",
    "        labels = measure.label(mask)\n",
    "        regions = measure.regionprops(labels)\n",
    "        \n",
    "        ### Finding the global min and max row over all regions\n",
    "        min_row = 512\n",
    "        max_row = 0\n",
    "        min_col = 512\n",
    "        max_col = 0\n",
    "        for prop in regions:\n",
    "            B = prop.bbox\n",
    "            if min_row > B[0]:\n",
    "                min_row = B[0]\n",
    "            if min_col > B[1]:\n",
    "                min_col = B[1]\n",
    "            if max_row < B[2]:\n",
    "                max_row = B[2]\n",
    "            if max_col < B[3]:\n",
    "                max_col = B[3]\n",
    "        width = max_col-min_col\n",
    "        height = max_row - min_row\n",
    "        if width > height:\n",
    "            max_row=min_row+width\n",
    "        else:\n",
    "            max_col = min_col+height\n",
    "        \n",
    "        ### cropping the image down to the bounding box for all regions\n",
    "        img = img[min_row:max_row,min_col:max_col]\n",
    "        mask =  mask[min_row:max_row,min_col:max_col]\n",
    "        if max_row-min_row <5 or max_col-min_col<5:  # skipping all images with no good regions\n",
    "            pass\n",
    "        else:\n",
    "            ### moving range to -1 to 1 to accomodate the resize function\n",
    "            mean = np.mean(img)\n",
    "            img = img - mean\n",
    "            min = np.min(img)\n",
    "            max = np.max(img)\n",
    "            img = img/(max-min)\n",
    "            new_img = resize(img, [512, 512])\n",
    "            out_images.append(new_img)\n",
    "    return out_images\n",
    "\n",
    "\n",
    "def save_preprocessed(patient, scan, masks):\n",
    "    masked = apply_masks(scan, masks)\n",
    "    save_array(\"prepd_samples/{}.npy\".format(patient), masked)"
   ]
  },
  {
   "cell_type": "markdown",
   "metadata": {},
   "source": [
    "#### Run Preprocessing Pipeline"
   ]
  },
  {
   "cell_type": "code",
   "execution_count": 6,
   "metadata": {
    "collapsed": true,
    "scrolled": true
   },
   "outputs": [],
   "source": [
    "for img_file in npy_list:\n",
    "    # 只能用float64，用float16归一化后都是0\n",
    "    imgs_to_process = np.load(img_file).astype(np.float64) \n",
    "\n",
    "num_images = len(npy_list)\n",
    "    #\n",
    "    #  Writing out images and masks as 1 channel arrays for input into network\n",
    "    #\n",
    "imgs_to_process = np.ndarray([num_images,3, 512, 512], dtype=np.float32)\n",
    "\n",
    "for i in range(num_images):\n",
    "    imgs_to_process[i,:,:,:] = np.load(npy_list[i]).astype(np.float64) \n",
    "\n",
    "scan = imgs_to_process\n",
    "final = imgs_to_process"
   ]
  },
  {
   "cell_type": "code",
   "execution_count": 7,
   "metadata": {
    "collapsed": true
   },
   "outputs": [],
   "source": [
    "scan = scan.reshape([num_images*3,512,512])"
   ]
  },
  {
   "cell_type": "markdown",
   "metadata": {},
   "source": [
    "####  Preprocessing Pipeline Visualization"
   ]
  },
  {
   "cell_type": "code",
   "execution_count": null,
   "metadata": {},
   "outputs": [
    {
     "data": {
      "text/plain": [
       "<matplotlib.image.AxesImage at 0x13dbc9390>"
      ]
     },
     "execution_count": 8,
     "metadata": {},
     "output_type": "execute_result"
    },
    {
     "data": {
      "image/png": "[encoded data removed]",
      "text/plain": [
       "<matplotlib.figure.Figure at 0x11f64ee50>"
      ]
     },
     "metadata": {},
     "output_type": "display_data"
    }
   ],
   "source": [
    "im_index = 100                    # choose a random slice from somewhere near the middle of the scan\n",
    "\n",
    "\n",
    "plt.imshow(scan[im_index], cmap=plt.cm.gray)"
   ]
  },
  {
   "cell_type": "code",
   "execution_count": null,
   "metadata": {
    "collapsed": true
   },
   "outputs": [],
   "source": [
    "normalized = normalize(scan)\n",
    "\n",
    "plt.imshow(normalized[im_index], cmap=plt.cm.gray)"
   ]
  },
  {
   "cell_type": "code",
   "execution_count": null,
   "metadata": {
    "collapsed": true
   },
   "outputs": [],
   "source": [
    "centered = zero_center(normalized)\n",
    "\n",
    "plt.imshow(centered[im_index], cmap=plt.cm.gray)"
   ]
  },
  {
   "cell_type": "code",
   "execution_count": null,
   "metadata": {
    "collapsed": true
   },
   "outputs": [],
   "source": [
    "mask = load_array('sample_masks/{}.npy'.format(patients[0]))\n",
    "\n",
    "plt.imshow(mask[im_index], cmap=plt.cm.gray)"
   ]
  },
  {
   "cell_type": "code",
   "execution_count": null,
   "metadata": {
    "collapsed": true
   },
   "outputs": [],
   "source": [
    "final = load_array('prepd_samples/{}.npy'.format(patients[10]))  # picking one with cancer\n",
    "\n",
    "plt.imshow(final[im_index], cmap=plt.cm.gray)"
   ]
  },
  {
   "cell_type": "code",
   "execution_count": null,
   "metadata": {
    "collapsed": true
   },
   "outputs": [],
   "source": [
    "f, plots = plt.subplots(10, 10, sharex='all', sharey='all', figsize=(10, 10))\n",
    "\n",
    "for i in range(100):\n",
    "    plots[i // 10, i % 10].axis('off')\n",
    "    plots[i // 10, i % 10].imshow(final[i+10], cmap=plt.cm.gray)"
   ]
  },
  {
   "cell_type": "code",
   "execution_count": null,
   "metadata": {
    "collapsed": true
   },
   "outputs": [],
   "source": [
    "print(\"Example scan stats:\\n\")\n",
    "print(\"Max pixel value:\", np.max(final))\n",
    "print(\"Min pixel value:\", np.min(final))\n",
    "print(\"Shape of full scan:\", final.shape)"
   ]
  },
  {
   "cell_type": "markdown",
   "metadata": {},
   "source": [
    "## Nodule Prediction & Masking"
   ]
  },
  {
   "cell_type": "markdown",
   "metadata": {},
   "source": [
    "#### Define Custom Loss Function"
   ]
  },
  {
   "cell_type": "code",
   "execution_count": null,
   "metadata": {
    "collapsed": true
   },
   "outputs": [],
   "source": [
    "smooth = 1.\n",
    "\n",
    "def dice_coef(y_true, y_pred):\n",
    "    y_true_f = K.flatten(y_true)\n",
    "    y_pred_f = K.flatten(y_pred)\n",
    "    intersection = K.sum(y_true_f * y_pred_f)\n",
    "    return (2. * intersection + smooth) / (K.sum(y_true_f) + K.sum(y_pred_f) + smooth)\n",
    "\n",
    "\n",
    "def dice_coef_np(y_true,y_pred):\n",
    "    y_true_f = y_true.flatten()\n",
    "    y_pred_f = y_pred.flatten()\n",
    "    intersection = np.sum(y_true_f * y_pred_f)\n",
    "    return (2. * intersection + smooth) / (np.sum(y_true_f) + np.sum(y_pred_f) + smooth)\n",
    "\n",
    "\n",
    "def dice_coef_loss(y_true, y_pred):\n",
    "    return -dice_coef(y_true, y_pred)"
   ]
  },
  {
   "cell_type": "markdown",
   "metadata": {},
   "source": [
    "#### Build Unet Model"
   ]
  },
  {
   "cell_type": "code",
   "execution_count": null,
   "metadata": {
    "collapsed": true
   },
   "outputs": [],
   "source": [
    "def get_unet():\n",
    "    inputs = Input((1, 512, 512))\n",
    "    conv1 = Convolution2D(32, 3, 3, activation='relu', border_mode='same')(inputs)\n",
    "    conv1 = Convolution2D(32, 3, 3, activation='relu', border_mode='same')(conv1)\n",
    "    pool1 = MaxPooling2D(pool_size=(2, 2))(conv1)\n",
    "\n",
    "    conv2 = Convolution2D(64, 3, 3, activation='relu', border_mode='same')(pool1)\n",
    "    conv2 = Convolution2D(64, 3, 3, activation='relu', border_mode='same')(conv2)\n",
    "    pool2 = MaxPooling2D(pool_size=(2, 2))(conv2)\n",
    "\n",
    "    conv3 = Convolution2D(128, 3, 3, activation='relu', border_mode='same')(pool2)\n",
    "    conv3 = Convolution2D(128, 3, 3, activation='relu', border_mode='same')(conv3)\n",
    "    pool3 = MaxPooling2D(pool_size=(2, 2))(conv3)\n",
    "\n",
    "    conv4 = Convolution2D(256, 3, 3, activation='relu', border_mode='same')(pool3)\n",
    "    conv4 = Convolution2D(256, 3, 3, activation='relu', border_mode='same')(conv4)\n",
    "    pool4 = MaxPooling2D(pool_size=(2, 2))(conv4)\n",
    "\n",
    "    conv5 = Convolution2D(512, 3, 3, activation='relu', border_mode='same')(pool4)\n",
    "    conv5 = Convolution2D(512, 3, 3, activation='relu', border_mode='same')(conv5)\n",
    "\n",
    "    up6 = merge([UpSampling2D(size=(2, 2))(conv5), conv4], mode='concat', concat_axis=1)\n",
    "    conv6 = Convolution2D(256, 3, 3, activation='relu', border_mode='same')(up6)\n",
    "    conv6 = Convolution2D(256, 3, 3, activation='relu', border_mode='same')(conv6)\n",
    "\n",
    "    up7 = merge([UpSampling2D(size=(2, 2))(conv6), conv3], mode='concat', concat_axis=1)\n",
    "    conv7 = Convolution2D(128, 3, 3, activation='relu', border_mode='same')(up7)\n",
    "    conv7 = Convolution2D(128, 3, 3, activation='relu', border_mode='same')(conv7)\n",
    "\n",
    "    up8 = merge([UpSampling2D(size=(2, 2))(conv7), conv2], mode='concat', concat_axis=1)\n",
    "    conv8 = Convolution2D(64, 3, 3, activation='relu', border_mode='same')(up8)\n",
    "    conv8 = Convolution2D(64, 3, 3, activation='relu', border_mode='same')(conv8)\n",
    "\n",
    "    up9 = merge([UpSampling2D(size=(2, 2))(conv8), conv1], mode='concat', concat_axis=1)\n",
    "    conv9 = Convolution2D(32, 3, 3, activation='relu', border_mode='same')(up9)\n",
    "    conv9 = Convolution2D(32, 3, 3, activation='relu', border_mode='same')(conv9)\n",
    "\n",
    "    conv10 = Convolution2D(1, 1, 1, activation='sigmoid')(conv9)\n",
    "\n",
    "    model = Model(input=inputs, output=conv10)\n",
    "\n",
    "    model.compile(optimizer=Adam(lr=1.0e-5), loss=dice_coef_loss, metrics=[dice_coef])\n",
    "\n",
    "    return model"
   ]
  },
  {
   "cell_type": "markdown",
   "metadata": {},
   "source": [
    "#### Predict Nodule Locations"
   ]
  },
  {
   "cell_type": "code",
   "execution_count": null,
   "metadata": {
    "collapsed": true
   },
   "outputs": [],
   "source": [
    "def predict_on_scan(scan):\n",
    "    model = get_unet()\n",
    "    model.load_weights('pretrained_models/unet.hdf5')\n",
    "\n",
    "    num_test = scan.shape[0]\n",
    "    scan = scan.reshape(num_test, 1, 512, 512)\n",
    "    imgs_mask_test = np.ndarray([num_test, 1, 512, 512],dtype=np.float32)\n",
    "    for i in range(num_test):\n",
    "        imgs_mask_test[i] = model.predict([scan[i:i+1]], verbose=0)[0]\n",
    "    return imgs_mask_test"
   ]
  },
  {
   "cell_type": "code",
   "execution_count": null,
   "metadata": {
    "collapsed": true
   },
   "outputs": [],
   "source": [
    "pred = predict_on_scan(final).reshape(final.shape[0], 512, 512)  # using the same example patient as above\n",
    "\n",
    "plt.imshow(pred[im_index], cmap=plt.cm.gray)"
   ]
  },
  {
   "cell_type": "code",
   "execution_count": null,
   "metadata": {
    "collapsed": true
   },
   "outputs": [],
   "source": [
    "f, plots = plt.subplots(10, 10, sharex='all', sharey='all', figsize=(10, 10))\n",
    "\n",
    "for i in range(100):\n",
    "    plots[i // 10, i % 10].axis('off')\n",
    "    plots[i // 10, i % 10].imshow(pred[i+10], cmap=plt.cm.gray)"
   ]
  },
  {
   "cell_type": "code",
   "execution_count": null,
   "metadata": {
    "collapsed": true
   },
   "outputs": [],
   "source": [
    "# taking a closer look at one of the larger masks\n",
    "\n",
    "plt.imshow(pred[109], cmap=plt.cm.gray)"
   ]
  },
  {
   "cell_type": "code",
   "execution_count": null,
   "metadata": {
    "collapsed": true
   },
   "outputs": [],
   "source": [
    "# looking at the original\n",
    "\n",
    "plt.imshow(final[109], cmap=plt.cm.gray)"
   ]
  },
  {
   "cell_type": "code",
   "execution_count": null,
   "metadata": {
    "collapsed": true
   },
   "outputs": [],
   "source": [
    "# applying node mask to original image\n",
    "\n",
    "node_masked = pred[109] * final[109]\n",
    "\n",
    "plt.imshow(node_masked, cmap=plt.cm.gray)"
   ]
  },
  {
   "cell_type": "markdown",
   "metadata": {},
   "source": [
    "So obviously we're picking up some stuff that we shouldn't, but might be on the right track at least..."
   ]
  }
 ],
 "metadata": {
  "anaconda-cloud": {},
  "kernelspec": {
   "display_name": "Python 2",
   "language": "python",
   "name": "python2"
  },
  "language_info": {
   "codemirror_mode": {
    "name": "ipython",
    "version": 2.0
   },
   "file_extension": ".py",
   "mimetype": "text/x-python",
   "name": "python",
   "nbconvert_exporter": "python",
   "pygments_lexer": "ipython2",
   "version": "2.7.13"
  }
 },
 "nbformat": 4,
 "nbformat_minor": 0
}