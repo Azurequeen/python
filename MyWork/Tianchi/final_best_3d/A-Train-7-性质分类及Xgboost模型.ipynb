{
 "cells": [
  {
   "cell_type": "code",
   "execution_count": 1,
   "metadata": {},
   "outputs": [
    {
     "name": "stderr",
     "output_type": "stream",
     "text": [
      "Using TensorFlow backend.\n"
     ]
    }
   ],
   "source": [
    "from utils import *\n",
    "from path import *\n",
    "%matplotlib inline\n",
    "from utils.imports import *"
   ]
  },
  {
   "cell_type": "code",
   "execution_count": 2,
   "metadata": {
    "collapsed": true
   },
   "outputs": [],
   "source": [
    "# usage: python classify_nodes.py nodes.npy \n",
    "\n",
    "import numpy as np\n",
    "import pickle\n",
    "import scipy as sp\n",
    "\n",
    "from sklearn import cross_validation\n",
    "from sklearn.cross_validation import StratifiedKFold as KFold\n",
    "from sklearn.metrics import classification_report\n",
    "from sklearn.ensemble import RandomForestClassifier as RF\n",
    "import xgboost as xgb"
   ]
  },
  {
   "cell_type": "code",
   "execution_count": 3,
   "metadata": {
    "collapsed": true
   },
   "outputs": [],
   "source": [
    "def get_dirfiles(dir):\n",
    "    file_list = []\n",
    "    subset_path = os.listdir(dir)\n",
    "    for _ in range(len(subset_path)):\n",
    "        if subset_path[_] != '.DS_Store':\n",
    "            file_list.append(dir + subset_path[_])\n",
    "    return file_list\n",
    "\n",
    "def getRegionFromMap(slice_npy):\n",
    "    #thr = np.where(slice_npy > np.mean(slice_npy),0.,1.0)\n",
    "    label_image = measure.label(slice_npy)\n",
    "    labels = label_image.astype(int)\n",
    "    regions = measure.regionprops(labels)\n",
    "    return regions\n",
    "\n",
    "def getRegionMetricRow(fname,model):\n",
    "    # fname, numpy array of dimension [#slices, 1, 512, 512] containing the images\n",
    "    \n",
    "    seg = np.load(fname)\n",
    "    nslices = seg.shape[0]\n",
    "\n",
    "    pred = np.expand_dims(seg,0)\n",
    "    pred = np.expand_dims(pred,0)  \n",
    "    cls = model.predict(pred)[0][1]\n",
    "    \n",
    "    #metrics\n",
    "    totalArea = 0.\n",
    "    avgArea = 0.\n",
    "    maxArea = 0.\n",
    "    avgEcc = 0.\n",
    "    avgEquivlentDiameter = 0.\n",
    "    stdEquivlentDiameter = 0.\n",
    "    weightedX = 0.\n",
    "    weightedY = 0.\n",
    "    numNodes = 0.\n",
    "    numNodesperSlice = 0.\n",
    "    # crude hueristic to filter some bad segmentaitons\n",
    "    # do not allow any nodes to be larger than 10% of the pixels to eliminate background regions\n",
    "    maxAllowedArea = 0.10 * 512 * 512 \n",
    "       \n",
    "    \n",
    "    areas = []\n",
    "    eqDiameters = []\n",
    "    seg = np.expand_dims(seg,1)\n",
    "    for slicen in range(nslices):\n",
    "        regions = getRegionFromMap(seg[slicen,0,:,:])\n",
    "        for region in regions:\n",
    "            if region.area > maxAllowedArea:\n",
    "                continue\n",
    "            totalArea += region.area\n",
    "            areas.append(region.area)\n",
    "            avgEcc += region.eccentricity\n",
    "            avgEquivlentDiameter += region.equivalent_diameter\n",
    "            eqDiameters.append(region.equivalent_diameter)\n",
    "            weightedX += region.centroid[0]*region.area\n",
    "            weightedY += region.centroid[1]*region.area\n",
    "            numNodes += 1\n",
    "    if totalArea == 0 or numNodes == 0:\n",
    "        os.remove(fname)\n",
    "    else:\n",
    "        weightedX = weightedX / totalArea \n",
    "        weightedY = weightedY / totalArea\n",
    "        avgArea = totalArea / numNodes\n",
    "        avgEcc = avgEcc / numNodes\n",
    "        avgEquivlentDiameter = avgEquivlentDiameter / numNodes\n",
    "        stdEquivlentDiameter = np.std(eqDiameters)\n",
    "\n",
    "        maxArea = max(areas)\n",
    "\n",
    "\n",
    "        numNodesperSlice = numNodes*1. / nslices\n",
    "    return np.array([avgArea,maxArea,avgEcc,avgEquivlentDiameter,\\\n",
    "                         stdEquivlentDiameter, weightedX, weightedY, numNodes, numNodesperSlice, cls])\n",
    "\n",
    "def createFeatureDataset(nodfiles_true,nodfiles_false,model):\n",
    "    numfeatures = 10\n",
    "    feature_array = np.zeros((len(nodfiles_true)+len(nodfiles_false),numfeatures))\n",
    "    truth_metric = np.zeros((len(nodfiles_true)+len(nodfiles_false)))\n",
    "    \n",
    "    for i,nodfile in enumerate(tqdm(nodfiles_true)):\n",
    "        patID = nodfile.split(\"_\")[3][-10:]\n",
    "        truth_metric[i] = 1\n",
    "        feature_array[i] = getRegionMetricRow(nodfiles_true[i],model)\n",
    "    for i,nodfile in enumerate(tqdm(nodfiles_false)):\n",
    "        patID = nodfile.split(\"_\")[3][-10:]\n",
    "        truth_metric[len(nodfiles_true)+i] = 0\n",
    "        feature_array[len(nodfiles_true)+i] = getRegionMetricRow(nodfiles_false[i],model)   \n",
    "    np.save(\"dataY.npy\", truth_metric)\n",
    "    np.save(\"dataX.npy\", feature_array)\n",
    "\n",
    "\n",
    "def logloss(act, pred):\n",
    "    epsilon = 1e-15\n",
    "    pred = sp.maximum(epsilon, pred)\n",
    "    pred = sp.minimum(1-epsilon, pred)\n",
    "    ll = sum(act*sp.log(pred) + sp.subtract(1,act)*sp.log(sp.subtract(1,pred)))\n",
    "    ll = ll * -1.0/len(act)\n",
    "    return ll\n",
    "\n",
    "\n",
    "\n",
    "    \n",
    "def findpara():\n",
    "    X = np.load(\"dataX.npy\")\n",
    "    Y = np.load(\"dataY.npy\")\n",
    "    # try XGBoost\n",
    "    print (\"XGBoost\")\n",
    "    kf = KFold(Y, n_folds=3)\n",
    "    y_pred = Y * 0\n",
    "\n",
    "    xgb_model = xgb.XGBClassifier()\n",
    "    parameters = {'nthread':[4], #when use hyperthread, xgboost may become slower\n",
    "                      'objective':['binary:logistic'],\n",
    "                      'learning_rate': [0.1,0.5,0.001,0.005,0.0001], #so called `eta` value\n",
    "                      'max_depth': [2,4,6,8,12,14],\n",
    "                      'min_child_weight': [3,4,5,6,7],\n",
    "                      'silent': [1],\n",
    "                      'subsample': [0.8,0.9,1],\n",
    "                      'n_estimators': [2000], #number of trees, change it to 1000 for better results\n",
    "                      'seed': [1337]}\n",
    "\n",
    "\n",
    "    clf = GridSearchCV(xgb_model, parameters, n_jobs=5, \n",
    "                           cv=StratifiedKFold(y_train, n_folds=5, shuffle=True), \n",
    "                           scoring='roc_auc',\n",
    "                           verbose=1, refit=True)\n",
    "\n",
    "    clf.fit(X_train, y_train)\n",
    "\n",
    "\n",
    "    best_parameters, score, _ = max(clf.grid_scores_, key=lambda x: x[1])\n",
    "    print('Raw AUC score:', score)\n",
    "    for param_name in sorted(best_parameters.keys()):\n",
    "        print(\"%s: %r\" % (param_name, best_parameters[param_name]))\n",
    "    return\n",
    "\n",
    "def classifyData():\n",
    "    X = np.load(\"dataX.npy\")\n",
    "    Y = np.load(\"dataY.npy\")\n",
    "    # try XGBoost\n",
    "    print (\"XGBoost\")\n",
    "    kf = KFold(Y, n_folds=3)\n",
    "    y_pred = Y * 0\n",
    "    for train, test in kf:\n",
    "        X_train, X_test, y_train, y_test = X[train,:], X[test,:], Y[train], Y[test]\n",
    "        clf = xgb.XGBClassifier(nthread=4, #when use hyperthread, xgboost may become slower\n",
    "                      objective='binary:logistic',)\n",
    "        clf.fit(X_train, y_train)\n",
    "        y_pred[test] = clf.predict(X_test)\n",
    "         \n",
    "\n",
    "    print classification_report(Y, y_pred, target_names=[\"No Cancer\", \"Cancer\"])\n",
    "    print(\"logloss\",logloss(Y, y_pred))   \n",
    "    return\n",
    "\n",
    "def classifymodel():\n",
    "    X = np.load(\"dataX.npy\")\n",
    "    Y = np.load(\"dataY.npy\")\n",
    "\n",
    "    clf = xgb.XGBClassifier(nthread=4, objective='binary:logistic',)\n",
    "    clf.fit(X, Y)\n",
    "        \n",
    "\n",
    "    joblib.dump(clf,'classifymodel.pkl')\n",
    "    clf=joblib.load('classifymodel.pkl')\n",
    "    \n",
    "    return\n",
    "\n",
    "\n"
   ]
  },
  {
   "cell_type": "markdown",
   "metadata": {},
   "source": [
    "# 开始"
   ]
  },
  {
   "cell_type": "code",
   "execution_count": 4,
   "metadata": {
    "collapsed": true
   },
   "outputs": [],
   "source": [
    "file_list_true=glob.glob(PATH['cls_train_cube_30_true']+\"*.npy\")[0:42000]\n",
    "file_list_false=glob.glob(PATH['cls_train_cube_30_false']+\"*.npy\")[0:42000]"
   ]
  },
  {
   "cell_type": "code",
   "execution_count": 5,
   "metadata": {
    "collapsed": true
   },
   "outputs": [],
   "source": [
    "model_paths = PATH['model_paths']\n",
    "model_final = PATH['model_final']\n",
    "model_cube_30 = load_model(model_paths + 'Fenge_32_32_32_0703.h5')"
   ]
  },
  {
   "cell_type": "code",
   "execution_count": 6,
   "metadata": {},
   "outputs": [
    {
     "name": "stderr",
     "output_type": "stream",
     "text": [
      "100%|██████████| 42000/42000 [14:53<00:00, 47.01it/s]  \n",
      "100%|██████████| 42000/42000 [11:33<00:00, 60.59it/s]\n"
     ]
    }
   ],
   "source": [
    "#model_cube_30 = []\n",
    "createFeatureDataset(file_list_true,file_list_false,model_cube_30) #第一遍可能会报错，不用管再跑一遍即可"
   ]
  },
  {
   "cell_type": "code",
   "execution_count": 7,
   "metadata": {
    "collapsed": true
   },
   "outputs": [],
   "source": [
    "classifymodel()"
   ]
  },
  {
   "cell_type": "code",
   "execution_count": 8,
   "metadata": {},
   "outputs": [
    {
     "name": "stdout",
     "output_type": "stream",
     "text": [
      "XGBoost\n",
      "             precision    recall  f1-score   support\n",
      "\n",
      "  No Cancer       0.99      0.99      0.99     42000\n",
      "     Cancer       0.99      0.99      0.99     42000\n",
      "\n",
      "avg / total       0.99      0.99      0.99     84000\n",
      "\n",
      "('logloss', 0.21833700661662117)\n"
     ]
    }
   ],
   "source": [
    "classifyData()"
   ]
  },
  {
   "cell_type": "code",
   "execution_count": null,
   "metadata": {
    "collapsed": true
   },
   "outputs": [],
   "source": []
  }
 ],
 "metadata": {
  "kernelspec": {
   "display_name": "Python 2",
   "language": "python",
   "name": "python2"
  },
  "language_info": {
   "codemirror_mode": {
    "name": "ipython",
    "version": 2
   },
   "file_extension": ".py",
   "mimetype": "text/x-python",
   "name": "python",
   "nbconvert_exporter": "python",
   "pygments_lexer": "ipython2",
   "version": "2.7.13"
  }
 },
 "nbformat": 4,
 "nbformat_minor": 1
}
