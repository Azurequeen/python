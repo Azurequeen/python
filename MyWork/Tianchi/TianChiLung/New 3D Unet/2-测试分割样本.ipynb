{
 "cells": [
  {
   "cell_type": "code",
   "execution_count": 1,
   "metadata": {},
   "outputs": [
    {
     "name": "stderr",
     "output_type": "stream",
     "text": [
      "Using TensorFlow backend.\n"
     ]
    }
   ],
   "source": [
    "import SimpleITK as sitk\n",
    "import numpy as np\n",
    "import csv\n",
    "import scipy\n",
    "from glob import glob\n",
    "import pandas as pd\n",
    "from scipy import ndimage\n",
    "from tqdm import tqdm \n",
    "import pandas as pd\n",
    "import skimage, os\n",
    "from skimage.morphology import ball, disk, dilation, binary_erosion, remove_small_objects, erosion, closing, reconstruction, binary_closing\n",
    "from skimage.measure import label,regionprops, perimeter\n",
    "from skimage.morphology import binary_dilation, binary_opening\n",
    "from skimage.filters import roberts, sobel\n",
    "from skimage import measure, feature\n",
    "from skimage.segmentation import clear_border\n",
    "from skimage import data\n",
    "from scipy import ndimage\n",
    "from mpl_toolkits.mplot3d.art3d import Poly3DCollection\n",
    "import dicom\n",
    "import scipy.misc\n",
    "import numpy as np\n",
    "from skimage import measure, morphology, segmentation\n",
    "import matplotlib.pyplot as plt\n",
    "from joblib import Parallel, delayed\n",
    "from numba import autojit\n",
    "from PIL import Image\n",
    "import cv2\n",
    "import random\n",
    "from utils_3d import *\n",
    "from paths import *\n",
    "\n",
    "%matplotlib inline\n"
   ]
  },
  {
   "cell_type": "markdown",
   "metadata": {},
   "source": [
    "# 看下图是否正常"
   ]
  },
  {
   "cell_type": "code",
   "execution_count": 2,
   "metadata": {
    "collapsed": true
   },
   "outputs": [],
   "source": [
    "src = '/Volumes/solo/ali/Data/val_mask/lung_mask_rand/'\n",
    "src1 = '/Volumes/solo/ali/Data/val_mask/nodule_mask_rand/'\n",
    "patients = [x for x in os.listdir(src) if 'rand' in x]"
   ]
  },
  {
   "cell_type": "code",
   "execution_count": 3,
   "metadata": {},
   "outputs": [
    {
     "data": {
      "text/plain": [
       "'rand_LKDS-00210_0018_00.npy'"
      ]
     },
     "execution_count": 3,
     "metadata": {},
     "output_type": "execute_result"
    }
   ],
   "source": [
    "sample = random.sample(patients, 1)[0]\n",
    "sample"
   ]
  },
  {
   "cell_type": "code",
   "execution_count": 4,
   "metadata": {
    "collapsed": true
   },
   "outputs": [],
   "source": [
    "img1 = np.load(src + sample)"
   ]
  },
  {
   "cell_type": "code",
   "execution_count": 5,
   "metadata": {},
   "outputs": [
    {
     "name": "stderr",
     "output_type": "stream",
     "text": [
      "IOPub data rate exceeded.\n",
      "The notebook server will temporarily stop sending output\n",
      "to the client in order to avoid crashing it.\n",
      "To change this limit, set the config variable\n",
      "`--NotebookApp.iopub_data_rate_limit`.\n"
     ]
    }
   ],
   "source": [
    "f, plots = plt.subplots(11, 11, sharex='all', sharey='all', figsize=(20, 20))\n",
    "# matplotlib is drunk\n",
    "\n",
    "for i in range(121):\n",
    "    plots[i // 11, i % 11].axis('off')\n",
    "    plots[i // 11, i % 11].imshow(img1[7+i], cmap=plt.cm.bone)"
   ]
  },
  {
   "cell_type": "code",
   "execution_count": 6,
   "metadata": {
    "collapsed": true
   },
   "outputs": [],
   "source": [
    "img2 = np.load(src1 + sample)"
   ]
  },
  {
   "cell_type": "code",
   "execution_count": 7,
   "metadata": {},
   "outputs": [
    {
     "data": {
      "image/png": "[encoded data removed]",
      "text/plain": [
       "<matplotlib.figure.Figure at 0x154bb9990>"
      ]
     },
     "metadata": {},
     "output_type": "display_data"
    }
   ],
   "source": [
    "f, plots = plt.subplots(11, 11, sharex='all', sharey='all', figsize=(20, 20))\n",
    "# matplotlib is drunk\n",
    "\n",
    "for i in range(121):\n",
    "    plots[i // 11, i % 11].axis('off')\n",
    "    plots[i // 11, i % 11].imshow(img2[7+i], cmap=plt.cm.bone)"
   ]
  },
  {
   "cell_type": "code",
   "execution_count": 8,
   "metadata": {
    "collapsed": true
   },
   "outputs": [],
   "source": [
    "img3 = img1 * img2"
   ]
  },
  {
   "cell_type": "code",
   "execution_count": 9,
   "metadata": {},
   "outputs": [
    {
     "data": {
      "text/plain": [
       "([array([  324.,  1424.,  1296.,   994.,  1121.,  1563.,  2393.,  2954.,\n",
       "          2378.,  1937.]),\n",
       "  array([  320.,  1192.,  1389.,  1098.,  1063.,  1547.,  2591.,  3004.,\n",
       "          2362.,  1818.]),\n",
       "  array([  314.,  1369.,  1290.,  1003.,  1091.,  1556.,  2628.,  3010.,\n",
       "          2325.,  1798.]),\n",
       "  array([  316.,  1374.,  1304.,   991.,  1103.,  1566.,  2579.,  3035.,\n",
       "          2411.,  1705.]),\n",
       "  array([  308.,  1170.,  1432.,   972.,  1065.,  1543.,  2779.,  3121.,\n",
       "          2407.,  1587.]),\n",
       "  array([  331.,  1438.,  1203.,   960.,  1156.,  1628.,  2641.,  3111.,\n",
       "          2304.,  1612.]),\n",
       "  array([  271.,  1173.,  1355.,  1016.,  1052.,  1620.,  2707.,  3242.,\n",
       "          2366.,  1582.]),\n",
       "  array([  283.,  1294.,  1279.,   931.,  1130.,  1694.,  2792.,  3002.,\n",
       "          2296.,  1683.]),\n",
       "  array([  261.,  1304.,  1218.,   917.,  1187.,  1684.,  2656.,  3058.,\n",
       "          2380.,  1719.]),\n",
       "  array([  230.,  1166.,  1363.,   893.,  1071.,  1633.,  2779.,  3200.,\n",
       "          2373.,  1676.]),\n",
       "  array([  258.,  1460.,  1092.,   856.,  1258.,  1681.,  2770.,  3035.,\n",
       "          2248.,  1726.]),\n",
       "  array([  229.,  1117.,  1322.,   883.,  1222.,  1699.,  2762.,  3165.,\n",
       "          2248.,  1737.]),\n",
       "  array([  203.,  1275.,  1155.,   927.,  1173.,  1747.,  2822.,  3056.,\n",
       "          2191.,  1835.]),\n",
       "  array([  198.,  1213.,  1161.,   939.,  1243.,  1729.,  2729.,  2913.,\n",
       "          2276.,  1983.]),\n",
       "  array([  181.,   982.,  1160.,   996.,  1249.,  1743.,  2581.,  2973.,\n",
       "          2393.,  2126.]),\n",
       "  array([  168.,  1207.,   981.,   921.,  1322.,  1786.,  2572.,  2859.,\n",
       "          2275.,  2293.]),\n",
       "  array([  176.,   891.,  1145.,   963.,  1201.,  1687.,  2537.,  3051.,\n",
       "          2346.,  2387.]),\n",
       "  array([  155.,  1037.,  1091.,   897.,  1237.,  1727.,  2565.,  2923.,\n",
       "          2324.,  2428.]),\n",
       "  array([  150.,  1059.,  1014.,   860.,  1277.,  1756.,  2603.,  2947.,\n",
       "          2274.,  2444.]),\n",
       "  array([  149.,   870.,  1103.,   896.,  1256.,  1637.,  2649.,  3025.,\n",
       "          2336.,  2463.]),\n",
       "  array([  154.,  1160.,   903.,   933.,  1418.,  1807.,  2519.,  2738.,\n",
       "          2240.,  2512.]),\n",
       "  array([  155.,   839.,  1081.,   928.,  1353.,  1732.,  2637.,  2868.,\n",
       "          2379.,  2412.]),\n",
       "  array([  164.,   965.,  1014.,   923.,  1408.,  1830.,  2616.,  2763.,\n",
       "          2225.,  2476.]),\n",
       "  array([  164.,   949.,  1006.,   964.,  1448.,  1814.,  2650.,  2763.,\n",
       "          2251.,  2375.]),\n",
       "  array([  148.,   864.,   995.,   957.,  1406.,  1800.,  2730.,  2929.,\n",
       "          2258.,  2297.]),\n",
       "  array([  153.,  1088.,   860.,   997.,  1517.,  1860.,  2688.,  2744.,\n",
       "          2164.,  2313.]),\n",
       "  array([  129.,   800.,  1055.,   978.,  1417.,  1884.,  2643.,  2828.,\n",
       "          2250.,  2400.]),\n",
       "  array([  153.,   941.,   916.,   999.,  1488.,  1949.,  2571.,  2735.,\n",
       "          2215.,  2417.]),\n",
       "  array([  153.,   914.,   950.,   966.,  1506.,  1977.,  2628.,  2747.,\n",
       "          2239.,  2304.]),\n",
       "  array([  129.,   741.,   940.,  1007.,  1553.,  2023.,  2852.,  2748.,\n",
       "          2292.,  2099.]),\n",
       "  array([  121.,  1001.,   846.,   960.,  1610.,  2037.,  2727.,  2723.,\n",
       "          2181.,  2178.]),\n",
       "  array([  142.,   729.,   920.,  1041.,  1538.,  1988.,  2831.,  2768.,\n",
       "          2246.,  2181.]),\n",
       "  array([  163.,   840.,   860.,  1051.,  1585.,  2041.,  2742.,  2762.,\n",
       "          2123.,  2217.]),\n",
       "  array([  139.,   798.,   900.,  1056.,  1593.,  2058.,  2616.,  2780.,\n",
       "          2224.,  2220.]),\n",
       "  array([  122.,   735.,   877.,  1093.,  1541.,  1969.,  2769.,  2925.,\n",
       "          2245.,  2108.]),\n",
       "  array([  151.,   904.,   874.,  1109.,  1652.,  1966.,  2686.,  2664.,\n",
       "          2241.,  2137.]),\n",
       "  array([  144.,   736.,  1001.,  1046.,  1565.,  1944.,  2721.,  2831.,\n",
       "          2362.,  2034.]),\n",
       "  array([  197.,   892.,   951.,   944.,  1531.,  1989.,  2630.,  2737.,\n",
       "          2339.,  2174.]),\n",
       "  array([  190.,  1016.,   952.,   931.,  1474.,  1869.,  2612.,  2819.,\n",
       "          2321.,  2200.]),\n",
       "  array([  195.,   905.,  1080.,   827.,  1394.,  1806.,  2666.,  2951.,\n",
       "          2399.,  2161.]),\n",
       "  array([  243.,  1094.,   988.,   764.,  1492.,  1807.,  2528.,  2707.,\n",
       "          2466.,  2295.]),\n",
       "  array([  244.,   947.,  1128.,   650.,  1309.,  1723.,  2682.,  2992.,\n",
       "          2535.,  2174.]),\n",
       "  array([  257.,  1067.,  1102.,   657.,  1367.,  1765.,  2546.,  2934.,\n",
       "          2470.,  2219.]),\n",
       "  array([  277.,  1060.,  1132.,   696.,  1274.,  1709.,  2579.,  2940.,\n",
       "          2470.,  2247.]),\n",
       "  array([  295.,  1021.,  1170.,   672.,  1265.,  1608.,  2539.,  3024.,\n",
       "          2546.,  2244.]),\n",
       "  array([  303.,  1190.,  1059.,   780.,  1259.,  1631.,  2329.,  2919.,\n",
       "          2490.,  2424.]),\n",
       "  array([  337.,  1069.,  1202.,   743.,  1067.,  1520.,  2359.,  2995.,\n",
       "          2635.,  2457.]),\n",
       "  array([  343.,  1129.,  1159.,   835.,  1039.,  1568.,  2265.,  2853.,\n",
       "          2668.,  2525.]),\n",
       "  array([  330.,  1178.,  1190.,   842.,   978.,  1494.,  2278.,  2991.,\n",
       "          2595.,  2508.]),\n",
       "  array([  315.,  1130.,  1322.,   859.,   818.,  1463.,  2276.,  2968.,\n",
       "          2785.,  2448.]),\n",
       "  array([  350.,  1315.,  1202.,   874.,   893.,  1433.,  2229.,  2828.,\n",
       "          2734.,  2526.]),\n",
       "  array([  312.,  1189.,  1354.,   956.,   720.,  1347.,  2222.,  3019.,\n",
       "          2834.,  2431.]),\n",
       "  array([  334.,  1317.,  1319.,   941.,   784.,  1293.,  2235.,  2948.,\n",
       "          2703.,  2510.]),\n",
       "  array([  342.,  1296.,  1452.,   909.,   749.,  1308.,  2200.,  3029.,\n",
       "          2687.,  2412.]),\n",
       "  array([  348.,  1286.,  1508.,   943.,   691.,  1146.,  2204.,  3073.,\n",
       "          2817.,  2368.]),\n",
       "  array([  346.,  1460.,  1395.,   967.,   763.,  1210.,  2239.,  2943.,\n",
       "          2593.,  2468.]),\n",
       "  array([  317.,  1330.,  1587.,  1033.,   610.,  1095.,  2160.,  3055.,\n",
       "          2751.,  2446.]),\n",
       "  array([  364.,  1370.,  1507.,  1027.,   776.,  1134.,  2156.,  2901.,\n",
       "          2610.,  2539.]),\n",
       "  array([  365.,  1317.,  1606.,  1094.,   773.,  1000.,  2157.,  2898.,\n",
       "          2632.,  2542.]),\n",
       "  array([  336.,  1324.,  1636.,  1160.,   694.,   908.,  2059.,  3026.,\n",
       "          2752.,  2489.]),\n",
       "  array([  352.,  1498.,  1522.,  1161.,   790.,   932.,  2014.,  2865.,\n",
       "          2602.,  2648.]),\n",
       "  array([  348.,  1336.,  1777.,  1252.,   686.,   864.,  1920.,  2889.,\n",
       "          2745.,  2567.]),\n",
       "  array([  352.,  1440.,  1634.,  1309.,   776.,   943.,  1894.,  2798.,\n",
       "          2653.,  2585.]),\n",
       "  array([  365.,  1429.,  1722.,  1347.,   804.,   892.,  1872.,  2752.,\n",
       "          2574.,  2627.]),\n",
       "  array([  379.,  1374.,  1812.,  1471.,   740.,   854.,  1875.,  2731.,\n",
       "          2614.,  2534.]),\n",
       "  array([  421.,  1436.,  1657.,  1488.,   849.,   934.,  1831.,  2629.,\n",
       "          2540.,  2599.]),\n",
       "  array([  357.,  1268.,  1966.,  1560.,   821.,   817.,  1763.,  2732.,\n",
       "          2623.,  2477.]),\n",
       "  array([  382.,  1442.,  1792.,  1619.,   872.,   891.,  1742.,  2644.,\n",
       "          2559.,  2441.]),\n",
       "  array([  385.,  1406.,  1954.,  1616.,   945.,   818.,  1679.,  2573.,\n",
       "          2605.,  2403.]),\n",
       "  array([  314.,  1404.,  2016.,  1813.,   925.,   754.,  1584.,  2616.,\n",
       "          2677.,  2281.]),\n",
       "  array([  364.,  1525.,  1930.,  1765.,  1024.,   814.,  1548.,  2426.,\n",
       "          2616.,  2372.]),\n",
       "  array([  344.,  1403.,  2096.,  1909.,  1038.,   735.,  1511.,  2457.,\n",
       "          2534.,  2357.]),\n",
       "  array([  368.,  1469.,  2064.,  1894.,  1135.,   771.,  1487.,  2360.,\n",
       "          2507.,  2329.]),\n",
       "  array([  359.,  1522.,  2080.,  1945.,  1214.,   746.,  1402.,  2303.,\n",
       "          2472.,  2341.]),\n",
       "  array([  355.,  1397.,  2289.,  2096.,  1153.,   727.,  1351.,  2286.,\n",
       "          2454.,  2276.]),\n",
       "  array([  384.,  1455.,  2136.,  2123.,  1379.,   747.,  1298.,  2212.,\n",
       "          2413.,  2237.]),\n",
       "  array([  354.,  1401.,  2357.,  2382.,  1318.,   611.,  1205.,  2187.,\n",
       "          2421.,  2148.]),\n",
       "  array([  359.,  1424.,  2344.,  2427.,  1443.,   653.,  1155.,  2044.,\n",
       "          2357.,  2178.]),\n",
       "  array([  330.,  1499.,  2415.,  2477.,  1555.,   613.,  1135.,  1873.,\n",
       "          2355.,  2132.]),\n",
       "  array([  291.,  1378.,  2548.,  2663.,  1600.,   612.,  1031.,  1878.,\n",
       "          2327.,  2056.]),\n",
       "  array([  298.,  1476.,  2554.,  2673.,  1676.,   687.,  1052.,  1732.,\n",
       "          2166.,  2070.]),\n",
       "  array([  265.,  1294.,  2745.,  2975.,  1688.,   631.,   887.,  1739.,\n",
       "          2187.,  1973.]),\n",
       "  array([  279.,  1397.,  2689.,  2844.,  1853.,   724.,   897.,  1598.,\n",
       "          2130.,  1973.]),\n",
       "  array([  278.,  1391.,  2690.,  3049.,  1817.,   762.,   871.,  1543.,\n",
       "          2123.,  1860.]),\n",
       "  array([  239.,  1262.,  2711.,  3264.,  1872.,   788.,   771.,  1531.,\n",
       "          2076.,  1870.]),\n",
       "  array([  248.,  1466.,  2612.,  3101.,  2018.,   865.,   749.,  1480.,\n",
       "          2004.,  1841.]),\n",
       "  array([  208.,  1335.,  2930.,  3293.,  1957.,   814.,   706.,  1426.,\n",
       "          2028.,  1687.]),\n",
       "  array([  273.,  1388.,  2879.,  3310.,  2006.,   822.,   672.,  1362.,\n",
       "          2039.,  1633.]),\n",
       "  array([  253.,  1432.,  2842.,  3352.,  2038.,   912.,   613.,  1377.,\n",
       "          1955.,  1610.]),\n",
       "  array([  215.,  1290.,  2889.,  3642.,  2049.,   932.,   563.,  1247.,\n",
       "          2056.,  1501.]),\n",
       "  array([  238.,  1416.,  2838.,  3358.,  2190.,  1014.,   633.,  1154.,\n",
       "          1990.,  1553.]),\n",
       "  array([  188.,  1260.,  2936.,  3679.,  2285.,   883.,   579.,  1126.,\n",
       "          1975.,  1473.]),\n",
       "  array([  223.,  1425.,  2907.,  3568.,  2191.,   971.,   546.,  1084.,\n",
       "          1994.,  1475.]),\n",
       "  array([  217.,  1414.,  2886.,  3636.,  2248.,   922.,   567.,  1066.,\n",
       "          1967.,  1461.]),\n",
       "  array([  214.,  1312.,  3072.,  3784.,  2028.,   949.,   547.,  1106.,\n",
       "          1958.,  1414.]),\n",
       "  array([  286.,  1462.,  2916.,  3501.,  2233.,  1003.,   532.,  1109.,\n",
       "          1902.,  1440.]),\n",
       "  array([  227.,  1331.,  3151.,  3753.,  2184.,   886.,   488.,  1156.,\n",
       "          1926.,  1282.]),\n",
       "  array([  257.,  1420.,  3077.,  3550.,  2232.,   991.,   540.,  1158.,\n",
       "          1925.,  1234.]),\n",
       "  array([  254.,  1457.,  2959.,  3657.,  2221.,   978.,   549.,  1202.,\n",
       "          1912.,  1195.]),\n",
       "  array([  228.,  1379.,  3217.,  3719.,  2133.,   892.,   534.,  1213.,\n",
       "          1951.,  1118.]),\n",
       "  array([  254.,  1500.,  3079.,  3581.,  2176.,   987.,   572.,  1216.,\n",
       "          1851.,  1168.]),\n",
       "  array([  240.,  1336.,  3220.,  3810.,  2157.,   866.,   500.,  1239.,\n",
       "          1975.,  1041.]),\n",
       "  array([  265.,  1409.,  3178.,  3659.,  2160.,   934.,   534.,  1265.,\n",
       "          1939.,  1041.]),\n",
       "  array([  255.,  1446.,  3155.,  3684.,  2155.,   909.,   559.,  1246.,\n",
       "          1899.,  1076.]),\n",
       "  array([  242.,  1315.,  3115.,  3800.,  2231.,   878.,   563.,  1262.,\n",
       "          1974.,  1004.]),\n",
       "  array([  268.,  1378.,  2873.,  3547.,  2403.,  1037.,   551.,  1254.,\n",
       "          1891.,  1182.]),\n",
       "  array([  234.,  1231.,  3066.,  3834.,  2259.,   904.,   543.,  1315.,\n",
       "          1881.,  1117.]),\n",
       "  array([  257.,  1267.,  2930.,  3708.,  2320.,   954.,   581.,  1267.,\n",
       "          1965.,  1135.]),\n",
       "  array([  261.,  1262.,  2786.,  3732.,  2370.,   978.,   559.,  1286.,\n",
       "          1916.,  1234.]),\n",
       "  array([  226.,  1150.,  2987.,  3975.,  2207.,   898.,   535.,  1298.,\n",
       "          1933.,  1175.]),\n",
       "  array([  284.,  1137.,  2673.,  3620.,  2572.,  1099.,   605.,  1259.,\n",
       "          1793.,  1342.]),\n",
       "  array([  225.,  1152.,  2865.,  3793.,  2425.,   974.,   552.,  1279.,\n",
       "          1847.,  1272.]),\n",
       "  array([  257.,  1129.,  2640.,  3771.,  2482.,  1088.,   644.,  1249.,\n",
       "          1795.,  1329.]),\n",
       "  array([  235.,  1139.,  2641.,  3817.,  2468.,  1108.,   574.,  1212.,\n",
       "          1868.,  1322.]),\n",
       "  array([  244.,  1044.,  2785.,  3942.,  2412.,  1031.,   617.,  1266.,\n",
       "          1807.,  1236.]),\n",
       "  array([  259.,  1099.,  2553.,  3620.,  2678.,  1203.,   698.,  1221.,\n",
       "          1781.,  1272.]),\n",
       "  array([  267.,   991.,  2715.,  4045.,  2480.,  1045.,   565.,  1265.,\n",
       "          1822.,  1189.]),\n",
       "  array([  258.,  1067.,  2780.,  3853.,  2469.,  1115.,   607.,  1237.,\n",
       "          1784.,  1214.]),\n",
       "  array([  253.,  1104.,  2712.,  3976.,  2452.,  1084.,   599.,  1252.,\n",
       "          1812.,  1140.]),\n",
       "  array([  232.,  1045.,  2815.,  4087.,  2406.,  1048.,   560.,  1213.,\n",
       "          1869.,  1109.]),\n",
       "  array([  238.,  1117.,  2636.,  4027.,  2528.,  1124.,   653.,  1238.,\n",
       "          1734.,  1089.]),\n",
       "  array([  222.,  1041.,  2820.,  4210.,  2427.,   992.,   570.,  1224.,\n",
       "          1813.,  1065.]),\n",
       "  array([  254.,  1128.,  2807.,  3850.,  2541.,  1101.,   641.,  1264.,\n",
       "          1796.,  1002.]),\n",
       "  array([  265.,  1104.,  2753.,  3964.,  2466.,  1142.,   620.,  1275.,\n",
       "          1736.,  1059.]),\n",
       "  array([  262.,  1078.,  2823.,  4194.,  2348.,  1067.,   556.,  1301.,\n",
       "          1779.,   976.]),\n",
       "  array([  289.,  1132.,  2718.,  3917.,  2543.,  1117.,   629.,  1243.,\n",
       "          1747.,  1049.]),\n",
       "  array([  237.,  1071.,  2732.,  4152.,  2457.,  1083.,   579.,  1238.,\n",
       "          1805.,  1030.]),\n",
       "  array([  299.,  1125.,  2655.,  3970.,  2472.,  1109.,   601.,  1250.,\n",
       "          1765.,  1138.])],\n",
       " array([   0. ,   25.5,   51. ,   76.5,  102. ,  127.5,  153. ,  178.5,\n",
       "         204. ,  229.5,  255. ]),\n",
       " <a list of 128 Lists of Patches objects>)"
      ]
     },
     "execution_count": 9,
     "metadata": {},
     "output_type": "execute_result"
    },
    {
     "data": {
      "image/png": "[encoded data removed]",
      "text/plain": [
       "<matplotlib.figure.Figure at 0x14e336750>"
      ]
     },
     "metadata": {},
     "output_type": "display_data"
    }
   ],
   "source": [
    "plt.hist(img1.tolist(),bins=10)"
   ]
  },
  {
   "cell_type": "code",
   "execution_count": 10,
   "metadata": {},
   "outputs": [
    {
     "data": {
      "image/png": "[encoded data removed]",
      "text/plain": [
       "<matplotlib.figure.Figure at 0x160948490>"
      ]
     },
     "metadata": {},
     "output_type": "display_data"
    }
   ],
   "source": [
    "f, plots = plt.subplots(11, 11, sharex='all', sharey='all', figsize=(20, 20))\n",
    "# matplotlib is drunk\n",
    "\n",
    "for i in range(121):\n",
    "    plots[i // 11, i % 11].axis('off')\n",
    "    plots[i // 11, i % 11].imshow(img3[7+i], cmap=plt.cm.bone)"
   ]
  },
  {
   "cell_type": "code",
   "execution_count": 16,
   "metadata": {
    "scrolled": false
   },
   "outputs": [
    {
     "data": {
      "image/png": "[encoded data removed]",
      "text/plain": [
       "<matplotlib.figure.Figure at 0x15791fe90>"
      ]
     },
     "metadata": {},
     "output_type": "display_data"
    }
   ],
   "source": [
    "f, plots = plt.subplots(3, 3, sharex='all', sharey='all', figsize=(20, 20))\n",
    "# matplotlib is drunk\n",
    "\n",
    "for i in range(9):\n",
    "    plots[i // 3, i % 3].axis('off')\n",
    "    plots[i // 3, i % 3].imshow(img3[60+i])"
   ]
  },
  {
   "cell_type": "code",
   "execution_count": null,
   "metadata": {
    "collapsed": true
   },
   "outputs": [],
   "source": []
  },
  {
   "cell_type": "code",
   "execution_count": null,
   "metadata": {
    "collapsed": true
   },
   "outputs": [],
   "source": []
  },
  {
   "cell_type": "code",
   "execution_count": null,
   "metadata": {
    "collapsed": true
   },
   "outputs": [],
   "source": []
  },
  {
   "cell_type": "code",
   "execution_count": null,
   "metadata": {
    "collapsed": true
   },
   "outputs": [],
   "source": []
  },
  {
   "cell_type": "code",
   "execution_count": null,
   "metadata": {
    "collapsed": true
   },
   "outputs": [],
   "source": []
  },
  {
   "cell_type": "code",
   "execution_count": null,
   "metadata": {
    "collapsed": true
   },
   "outputs": [],
   "source": []
  },
  {
   "cell_type": "markdown",
   "metadata": {},
   "source": [
    "# 有没有孔"
   ]
  },
  {
   "cell_type": "code",
   "execution_count": 12,
   "metadata": {
    "collapsed": true
   },
   "outputs": [],
   "source": [
    "cc = np.squeeze(img2)\n",
    "cc = label(cc)"
   ]
  },
  {
   "cell_type": "code",
   "execution_count": 13,
   "metadata": {},
   "outputs": [
    {
     "data": {
      "text/plain": [
       "2"
      ]
     },
     "execution_count": 13,
     "metadata": {},
     "output_type": "execute_result"
    }
   ],
   "source": [
    "len(np.unique(cc))"
   ]
  },
  {
   "cell_type": "markdown",
   "metadata": {},
   "source": [
    "# 孔正常的比例"
   ]
  },
  {
   "cell_type": "code",
   "execution_count": 14,
   "metadata": {},
   "outputs": [
    {
     "name": "stderr",
     "output_type": "stream",
     "text": [
      "100%|██████████| 2311/2311 [09:24<00:00,  4.35it/s]"
     ]
    },
    {
     "name": "stdout",
     "output_type": "stream",
     "text": [
      "0.992211163998 2311\n"
     ]
    },
    {
     "name": "stderr",
     "output_type": "stream",
     "text": [
      "\n"
     ]
    }
   ],
   "source": [
    "num = 0\n",
    "all_nb = 0\n",
    "for i in tqdm(patients):\n",
    "    img = np.load(src1 + i)\n",
    "    cc = np.squeeze(img)\n",
    "    cc = label(cc)\n",
    "    all_nb += 1\n",
    "    if len(np.unique(cc)) > 1:\n",
    "        num += 1\n",
    "perc = num*1.0/all_nb\n",
    "print perc ,all_nb\n",
    "    "
   ]
  },
  {
   "cell_type": "markdown",
   "metadata": {},
   "source": [
    "# 负样本比例"
   ]
  },
  {
   "cell_type": "code",
   "execution_count": 15,
   "metadata": {},
   "outputs": [
    {
     "name": "stdout",
     "output_type": "stream",
     "text": [
      "0.346170488966\n"
     ]
    }
   ],
   "source": [
    "negs = [x for x in os.listdir(src) if 'neg' in x]\n",
    "perc1 = len(negs)*1.0/all_nb\n",
    "print perc1"
   ]
  },
  {
   "cell_type": "code",
   "execution_count": null,
   "metadata": {
    "collapsed": true
   },
   "outputs": [],
   "source": []
  }
 ],
 "metadata": {
  "kernelspec": {
   "display_name": "Python 2",
   "language": "python",
   "name": "python2"
  },
  "language_info": {
   "codemirror_mode": {
    "name": "ipython",
    "version": 2
   },
   "file_extension": ".py",
   "mimetype": "text/x-python",
   "name": "python",
   "nbconvert_exporter": "python",
   "pygments_lexer": "ipython2",
   "version": "2.7.13"
  }
 },
 "nbformat": 4,
 "nbformat_minor": 2
}
