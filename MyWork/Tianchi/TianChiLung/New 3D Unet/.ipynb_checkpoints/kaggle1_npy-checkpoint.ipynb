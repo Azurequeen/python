{
 "cells": [
  {
   "cell_type": "code",
   "execution_count": 1,
   "metadata": {},
   "outputs": [],
   "source": [
    "from paths import *\n",
    "%matplotlib inline"
   ]
  },
  {
   "cell_type": "code",
   "execution_count": 2,
   "metadata": {
    "collapsed": true
   },
   "outputs": [],
   "source": [
    "import os\n",
    "import shutil\n",
    "import numpy as np\n",
    "import pandas as pd\n",
    "from tqdm import tqdm\n",
    "\n",
    "from scipy.io import loadmat\n",
    "import numpy as np\n",
    "import h5py\n",
    "import pandas\n",
    "import scipy\n",
    "from scipy.ndimage.interpolation import zoom\n",
    "from skimage import measure\n",
    "import SimpleITK as sitk\n",
    "from scipy.ndimage.morphology import binary_dilation,generate_binary_structure\n",
    "from skimage.morphology import convex_hull_image\n",
    "import pandas\n",
    "from multiprocessing import Pool\n",
    "from functools import partial\n",
    "import sys\n",
    "from joblib import Parallel, delayed\n",
    "import warnings"
   ]
  },
  {
   "cell_type": "code",
   "execution_count": 3,
   "metadata": {
    "collapsed": true
   },
   "outputs": [],
   "source": [
    "def load_train(PATH):\n",
    "    src = PATH['src']\n",
    "    data_path = src\n",
    "    folders = [x for x in os.listdir(data_path) if 'subset' in x]\n",
    "    os.chdir(data_path)\n",
    "    patients = []\n",
    "    for i in folders:\n",
    "        os.chdir(data_path + i)\n",
    "        # print('Changing folder to: {}'.format(data_path + i))\n",
    "        patient_ids = [x for x in os.listdir(data_path + i) if '.mhd' in x]\n",
    "        for id in patient_ids:\n",
    "            j = '{}/{}'.format(i, id)\n",
    "            patients.append(j)\n",
    "    return patients\n",
    "\n",
    "def get_filename(file_list, case):\n",
    "    for f in file_list:\n",
    "        if case in f:\n",
    "            return (f)\n",
    "\n",
    "def resample(imgs, spacing, new_spacing,order=2):\n",
    "    if len(imgs.shape)==3:\n",
    "        new_shape = np.round(imgs.shape * spacing / new_spacing)\n",
    "        true_spacing = spacing * imgs.shape / new_shape\n",
    "        resize_factor = new_shape / imgs.shape\n",
    "        imgs = zoom(imgs, resize_factor, mode = 'nearest',order=order)\n",
    "        return imgs, true_spacing\n",
    "    elif len(imgs.shape)==4:\n",
    "        n = imgs.shape[-1]\n",
    "        newimg = []\n",
    "        for i in range(n):\n",
    "            slice = imgs[:,:,:,i]\n",
    "            newslice,true_spacing = resample(slice,spacing,new_spacing)\n",
    "            newimg.append(newslice)\n",
    "        newimg=np.transpose(np.array(newimg),[1,2,3,0])\n",
    "        return newimg,true_spacing\n",
    "    else:\n",
    "        raise ValueError('wrong shape')\n",
    "def worldToVoxelCoord(worldCoord, origin, spacing):\n",
    "     \n",
    "    stretchedVoxelCoord = np.absolute(worldCoord - origin)\n",
    "    voxelCoord = stretchedVoxelCoord / spacing\n",
    "    return voxelCoord\n",
    "\n",
    "def load_itk_image(filename):\n",
    "    with open(filename) as f:\n",
    "        contents = f.readlines()\n",
    "        line = [k for k in contents if k.startswith('TransformMatrix')][0]\n",
    "        transformM = np.array(line.split(' = ')[1].split(' ')).astype('float')\n",
    "        transformM = np.round(transformM)\n",
    "        if np.any( transformM!=np.array([1,0,0, 0, 1, 0, 0, 0, 1])):\n",
    "            isflip = True\n",
    "        else:\n",
    "            isflip = False\n",
    "\n",
    "    itkimage = sitk.ReadImage(filename)\n",
    "    numpyImage = sitk.GetArrayFromImage(itkimage)\n",
    "     \n",
    "    numpyOrigin = np.array(list(reversed(itkimage.GetOrigin())))\n",
    "    numpySpacing = np.array(list(reversed(itkimage.GetSpacing())))\n",
    "     \n",
    "    return numpyImage, numpyOrigin, numpySpacing,isflip\n",
    "\n",
    "def process_mask(mask):\n",
    "    convex_mask = np.copy(mask)\n",
    "    for i_layer in range(convex_mask.shape[0]):\n",
    "        mask1  = np.ascontiguousarray(mask[i_layer])\n",
    "        if np.sum(mask1)>0:\n",
    "            mask2 = convex_hull_image(mask1)\n",
    "            if np.sum(mask2)>1.5*np.sum(mask1):\n",
    "                mask2 = mask1\n",
    "        else:\n",
    "            mask2 = mask1\n",
    "        convex_mask[i_layer] = mask2\n",
    "    struct = generate_binary_structure(3,1)  \n",
    "    dilatedMask = binary_dilation(convex_mask,structure=struct,iterations=10) \n",
    "    return dilatedMask\n",
    "\n",
    "\n",
    "def lumTrans(img):\n",
    "    lungwin = np.array([-1200.,600.])\n",
    "    newimg = (img-lungwin[0])/(lungwin[1]-lungwin[0])\n",
    "    newimg[newimg<0]=0\n",
    "    newimg[newimg>1]=1\n",
    "    newimg = (newimg*255).astype('uint8')\n",
    "    return newimg\n"
   ]
  },
  {
   "cell_type": "code",
   "execution_count": 4,
   "metadata": {
    "collapsed": true
   },
   "outputs": [],
   "source": [
    "def save_npy(patient,df_node,islabel):\n",
    "    patient_id = patient.split('/')[-1][:-4]\n",
    "    mini_df = df_node[df_node[\"file\"] == patient]\n",
    "    if mini_df.shape[0] > 0:\n",
    "\n",
    "        islabel = True\n",
    "        isClean = True\n",
    "        resolution = np.array([1, 1, 1])\n",
    "        #     resolution = np.array([2,2,2])\n",
    "        name = patient_id\n",
    "\n",
    "        Mask, origin, spacing, isflip = load_itk_image(PATH['src'] + patient)\n",
    "        sliceim = Mask.copy()\n",
    "        if isflip:\n",
    "            Mask = Mask[:, ::-1, ::-1]\n",
    "        newshape = np.round(np.array(Mask.shape) * spacing / resolution).astype('int')\n",
    "        m1 = Mask == 3\n",
    "        m2 = Mask == 4\n",
    "        Mask = m1 + m2 \n",
    "        \n",
    "        xx, yy, zz = np.where(Mask)\n",
    "        box = np.array([[np.min(xx), np.max(xx)], [np.min(yy), np.max(yy)], [np.min(zz), np.max(zz)]])\n",
    "        box = box * np.expand_dims(spacing, 1) / np.expand_dims(resolution, 1)\n",
    "        box = np.floor(box).astype('int')\n",
    "        margin = 5\n",
    "        extendbox = np.vstack(\n",
    "            [np.max([[0, 0, 0], box[:, 0] - margin], 0), np.min([newshape, box[:, 1] + 2 * margin], axis=0).T]).T\n",
    "\n",
    "        #this_annos = np.copy(annos[annos[:, 0] == int(name)])\n",
    "        if isClean:\n",
    "            convex_mask = m1\n",
    "            dm1 = process_mask(m1)\n",
    "            dm2 = process_mask(m2)\n",
    "            dilatedMask = dm1 + dm2\n",
    "            Mask = m1 + m2\n",
    "            extramask = dilatedMask ^ Mask\n",
    "            bone_thresh = 210\n",
    "            pad_value = 170\n",
    "            sliceim = lumTrans(sliceim)\n",
    "            sliceim = sliceim * dilatedMask + pad_value * (1 - dilatedMask).astype('uint8')\n",
    "            bones = (sliceim * extramask) > bone_thresh\n",
    "            sliceim[bones] = pad_value\n",
    "\n",
    "            sliceim1, _ = resample(sliceim, spacing, resolution, order=1)\n",
    "            sliceim2 = sliceim1[extendbox[0, 0]:extendbox[0, 1],\n",
    "                       extendbox[1, 0]:extendbox[1, 1],\n",
    "                       extendbox[2, 0]:extendbox[2, 1]]\n",
    "            sliceim = sliceim2[np.newaxis, ...]\n",
    "            np.save(os.path.join(savepath, name + '_clean.npy'), sliceim)\n",
    "\n",
    "        if islabel:\n",
    "\n",
    "            this_annos = np.copy(df_node[df_node[\"seriesuid\"] == patient_id])\n",
    "            label = []\n",
    "            if len(this_annos) > 0:\n",
    "                for c in this_annos:\n",
    "                    pos = worldToVoxelCoord(c[1:4][::-1], origin=origin, spacing=spacing)\n",
    "                    if isflip:\n",
    "                        pos[1:] = Mask.shape[1:3] - pos[1:]\n",
    "                    label.append(np.concatenate([pos, [c[4] / spacing[1]]]))\n",
    "            label = np.array(label)\n",
    "            if len(label) == 0:\n",
    "                label2 = np.array([[0, 0, 0, 0]])\n",
    "            else:\n",
    "                label2 = np.copy(label).T\n",
    "                label2[:3] = label2[:3] * np.expand_dims(spacing, 1) / np.expand_dims(resolution, 1)\n",
    "                label2[3] = label2[3] * spacing[1] / resolution[1]\n",
    "                label2[:3] = label2[:3] - np.expand_dims(extendbox[:, 0], 1)\n",
    "                label2 = label2[:4].T\n",
    "            np.save(os.path.join(savepath, name + '_label.npy'), label2)           \n",
    "            \n",
    "        "
   ]
  },
  {
   "cell_type": "code",
   "execution_count": 5,
   "metadata": {
    "collapsed": true
   },
   "outputs": [],
   "source": [
    "PATH = {'annotations_path' : annotations_train_path,\n",
    "        'src' : src_train,\n",
    "        'dst_full_lungs' : full_lung_train}  "
   ]
  },
  {
   "cell_type": "code",
   "execution_count": null,
   "metadata": {
    "collapsed": true
   },
   "outputs": [],
   "source": [
    "savepath = PATH['dst_full_lungs']\n",
    "patients = load_train(PATH)\n",
    "df_node = pd.read_csv(PATH['annotations_path']+\"annotations.csv\")\n",
    "df_node[\"file\"] = df_node[\"seriesuid\"].map(lambda file_name: get_filename(patients, file_name)) "
   ]
  },
  {
   "cell_type": "code",
   "execution_count": null,
   "metadata": {
    "scrolled": true
   },
   "outputs": [
    {
     "name": "stderr",
     "output_type": "stream",
     "text": [
      "100%|██████████| 2/2 [00:00<00:00, 32.00it/s]\n"
     ]
    }
   ],
   "source": [
    "Parallel(n_jobs=-1)(delayed(save_npy)(patient,df_node,islabel=True) for patient in tqdm(sorted(patients[0:2])))"
   ]
  },
  {
   "cell_type": "code",
   "execution_count": null,
   "metadata": {},
   "outputs": [],
   "source": [
    "import matplotlib.pyplot as plt\n",
    "%matplotlib inline\n",
    "f, plots = plt.subplots(3, 3, sharex='all', sharey='all', figsize=(20, 21))\n",
    "# matplotlib is drunk\n",
    "\n",
    "for i in range(9):\n",
    "    plots[i // 3, i % 3].axis('off')\n",
    "    plots[i // 3, i % 3].imshow(img_array[100+i], cmap=plt.cm.bone)"
   ]
  },
  {
   "cell_type": "code",
   "execution_count": null,
   "metadata": {},
   "outputs": [],
   "source": [
    "cc = np.load('/Volumes/solo/ali/Data/test_mask/test_full_lung/LKDS-00012_label.npy')\n",
    "cc"
   ]
  },
  {
   "cell_type": "code",
   "execution_count": null,
   "metadata": {
    "collapsed": true
   },
   "outputs": [],
   "source": []
  }
 ],
 "metadata": {
  "kernelspec": {
   "display_name": "Python 2",
   "language": "python",
   "name": "python2"
  },
  "language_info": {
   "codemirror_mode": {
    "name": "ipython",
    "version": 2
   },
   "file_extension": ".py",
   "mimetype": "text/x-python",
   "name": "python",
   "nbconvert_exporter": "python",
   "pygments_lexer": "ipython2",
   "version": "2.7.13"
  }
 },
 "nbformat": 4,
 "nbformat_minor": 2
}
