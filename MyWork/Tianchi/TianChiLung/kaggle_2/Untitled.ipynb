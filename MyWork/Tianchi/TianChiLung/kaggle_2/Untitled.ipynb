{
 "cells": [
  {
   "cell_type": "code",
   "execution_count": 1,
   "metadata": {},
   "outputs": [
    {
     "name": "stdout",
     "output_type": "stream",
     "text": [
      "('User: ', 'mahui')\n"
     ]
    }
   ],
   "source": [
    "import settings\n",
    "import helpers\n",
    "import SimpleITK  # conda install -c https://conda.anaconda.org/simpleitk SimpleITK\n",
    "import numpy\n",
    "import pandas\n",
    "import ntpath\n",
    "import cv2  # conda install -c https://conda.anaconda.org/menpo opencv3\n",
    "import shutil\n",
    "import random\n",
    "import math\n",
    "import multiprocessing\n",
    "from bs4 import BeautifulSoup #  conda install beautifulsoup4, coda install lxml\n",
    "import os\n",
    "import glob\n",
    "from tqdm import tqdm"
   ]
  },
  {
   "cell_type": "code",
   "execution_count": 2,
   "metadata": {
    "collapsed": true
   },
   "outputs": [],
   "source": [
    "def find_mhd_file(patient_id):\n",
    "    for subject_no in range(settings.LUNA_SUBSET_START_INDEX, 15):\n",
    "        src_dir = settings.LUNA16_RAW_SRC_DIR + \"train_subset\" + str(subject_no).zfill(2) + \"/\"\n",
    "        for src_path in glob.glob(src_dir + \"*.mhd\"):\n",
    "            if patient_id in src_path:\n",
    "                return src_path\n",
    "    return None\n",
    "\n",
    "\n",
    "\n",
    "def normalize(image):\n",
    "    MIN_BOUND = -1000.0\n",
    "    MAX_BOUND = 400.0\n",
    "    image = (image - MIN_BOUND) / (MAX_BOUND - MIN_BOUND)\n",
    "    image[image > 1] = 1.\n",
    "    image[image < 0] = 0.\n",
    "    return image\n",
    "\n",
    "\n",
    "def process_image(src_path):\n",
    "    patient_id = ntpath.basename(src_path).replace(\".mhd\", \"\")\n",
    "    print(\"Patient: \", patient_id)\n",
    "\n",
    "    dst_dir = settings.LUNA16_EXTRACTED_IMAGE_DIR + patient_id + \"/\"\n",
    "    if not os.path.exists(dst_dir):\n",
    "        os.mkdir(dst_dir)\n",
    "\n",
    "    itk_img = SimpleITK.ReadImage(src_path)\n",
    "    img_array = SimpleITK.GetArrayFromImage(itk_img)\n",
    "    origin = numpy.array(itk_img.GetOrigin())      # x,y,z  Origin in world coordinates (mm)\n",
    "    direction = numpy.array(itk_img.GetDirection())      # x,y,z  Origin in world coordinates (mm)\n",
    "    spacing = numpy.array(itk_img.GetSpacing())    # spacing of voxels in world coor. (mm)\n",
    "    rescale = spacing / settings.TARGET_VOXEL_MM\n",
    "\n",
    "    img_array = helpers.rescale_patient_images(img_array, spacing, settings.TARGET_VOXEL_MM)\n",
    "\n",
    "    img_list = []\n",
    "    for i in range(img_array.shape[0]):\n",
    "        img = img_array[i]\n",
    "        seg_img, mask = helpers.get_segmented_lungs(img.copy())\n",
    "        img_list.append(seg_img)\n",
    "        img = normalize(img)\n",
    "        cv2.imwrite(dst_dir + \"img_\" + str(i).rjust(4, '0') + \"_i.png\", img * 255)\n",
    "        cv2.imwrite(dst_dir + \"img_\" + str(i).rjust(4, '0') + \"_m.png\", mask * 255)\n",
    "\n",
    "def process_pos_annotations_patient(src_path, patient_id):\n",
    "    df_node = pandas.read_csv(\"/Volumes/solo/ali/csv/train/annotations.csv\")\n",
    "    dst_dir = settings.LUNA16_EXTRACTED_IMAGE_DIR + \"_labels/\"\n",
    "    if not os.path.exists(dst_dir):\n",
    "        os.mkdir(dst_dir)\n",
    "    dst_dir = dst_dir + patient_id + \"/\"\n",
    "    if not os.path.exists(dst_dir):\n",
    "        os.mkdir(dst_dir)\n",
    "\n",
    "    itk_img = SimpleITK.ReadImage(src_path)\n",
    "    img_array = SimpleITK.GetArrayFromImage(itk_img)\n",
    "    df_patient = df_node[df_node[\"seriesuid\"] == patient_id]\n",
    "\n",
    "    num_z, height, width = img_array.shape        #heightXwidth constitute the transverse plane\n",
    "    origin = numpy.array(itk_img.GetOrigin())      # x,y,z  Origin in world coordinates (mm)\n",
    "    spacing = numpy.array(itk_img.GetSpacing())    # spacing of voxels in world coor. (mm)\n",
    "    rescale = spacing /settings.TARGET_VOXEL_MM\n",
    "\n",
    "    direction = numpy.array(itk_img.GetDirection())      # x,y,z  Origin in world coordinates (mm)\n",
    "    flip_direction_x = False\n",
    "    flip_direction_y = False\n",
    "    if round(direction[0]) == -1:\n",
    "        origin[0] *= -1\n",
    "        direction[0] = 1\n",
    "        flip_direction_x = True\n",
    "    if round(direction[4]) == -1:\n",
    "        origin[1] *= -1\n",
    "        direction[4] = 1\n",
    "        flip_direction_y = True\n",
    "    assert abs(sum(direction) - 3) < 0.01\n",
    "\n",
    "    patient_imgs = helpers.load_patient_images(patient_id, settings.LUNA16_EXTRACTED_IMAGE_DIR, \"*_i.png\")\n",
    "\n",
    "    pos_annos = []\n",
    "    df_patient = df_node[df_node[\"seriesuid\"] == patient_id]\n",
    "    anno_index = 0\n",
    "    for index, annotation in df_patient.iterrows():\n",
    "        node_x = annotation[\"coordX\"]\n",
    "        if flip_direction_x:\n",
    "            node_x *= -1\n",
    "        node_y = annotation[\"coordY\"]\n",
    "        if flip_direction_y:\n",
    "            node_y *= -1\n",
    "        node_z = annotation[\"coordZ\"]\n",
    "        diam_mm = annotation[\"diameter_mm\"]\n",
    "        center_float = numpy.array([node_x, node_y, node_z])\n",
    "        center_int = numpy.rint((center_float-origin) / spacing)\n",
    "        # center_int = numpy.rint((center_float - origin) )\n",
    "        # center_int_rescaled = numpy.rint(((center_float-origin) / spacing) * rescale)\n",
    "        center_float_rescaled = (center_float - origin) / settings.TARGET_VOXEL_MM\n",
    "        center_float_percent = center_float_rescaled / patient_imgs.swapaxes(0, 2).shape\n",
    "        # center_int = numpy.rint((center_float - origin) )\n",
    "        diameter_pixels = diam_mm / settings.TARGET_VOXEL_MM\n",
    "        diameter_percent = diameter_pixels / float(patient_imgs.shape[1])\n",
    "\n",
    "        pos_annos.append([anno_index, round(center_float_percent[0], 4), round(center_float_percent[1], 4), round(center_float_percent[2], 4), round(diameter_percent, 4), 1])\n",
    "        anno_index += 1\n",
    "\n",
    "    df_annos = pandas.DataFrame(pos_annos, columns=[\"anno_index\", \"coord_x\", \"coord_y\", \"coord_z\", \"diameter\", \"malscore\"])\n",
    "    df_annos.to_csv(settings.LUNA16_EXTRACTED_IMAGE_DIR + \"_labels/\" + patient_id + \"_annos_pos.csv\", index=False)\n",
    "    return [patient_id, spacing[0], spacing[1], spacing[2]]\n",
    "    \n",
    "\n",
    "            \n",
    "\n",
    "def process_images(delete_existing=False, only_process_patient=None):\n",
    "    if delete_existing and os.path.exists(settings.LUNA16_EXTRACTED_IMAGE_DIR):\n",
    "        print(\"Removing old stuff..\")\n",
    "        if os.path.exists(settings.LUNA16_EXTRACTED_IMAGE_DIR):\n",
    "            shutil.rmtree(settings.LUNA16_EXTRACTED_IMAGE_DIR)\n",
    "\n",
    "    if not os.path.exists(settings.LUNA16_EXTRACTED_IMAGE_DIR):\n",
    "        os.mkdir(settings.LUNA16_EXTRACTED_IMAGE_DIR)\n",
    "        os.mkdir(settings.LUNA16_EXTRACTED_IMAGE_DIR + \"_labels/\")\n",
    "\n",
    "    for subject_no in tqdm(range(settings.LUNA_SUBSET_START_INDEX, settings.TOTAL_TRAIN_SUBSET)):\n",
    "        src_dir = settings.LUNA16_RAW_SRC_DIR  + \"train_subset\" + str(subject_no).zfill(2) + \"/\"\n",
    "        src_paths = glob.glob(src_dir + \"*.mhd\")\n",
    "\n",
    "        if only_process_patient is None and True:\n",
    "            pool = multiprocessing.Pool(6)\n",
    "            pool.map(process_image, src_paths)\n",
    "        else:\n",
    "            for src_path in src_paths:\n",
    "                if only_process_patient is not None:\n",
    "                    if only_process_patient not in src_path:\n",
    "                        continue\n",
    "                process_image(src_path)\n",
    "                \n",
    "def process_pos_annotations_patient2():\n",
    "    candidate_index = 0\n",
    "    only_patient = None\n",
    "    for subject_no in tqdm(range(settings.LUNA_SUBSET_START_INDEX, settings.TOTAL_TRAIN_SUBSET)):\n",
    "        src_dir = settings.LUNA16_RAW_SRC_DIR  + \"train_subset\" + str(subject_no).zfill(2) + \"/\"\n",
    "        for src_path in glob.glob(src_dir + \"*.mhd\"):\n",
    "            if only_patient is not None and only_patient not in src_path:\n",
    "                continue\n",
    "            patient_id = ntpath.basename(src_path).replace(\".mhd\", \"\")\n",
    "            process_pos_annotations_patient(src_path, patient_id)\n",
    "            candidate_index += 1"
   ]
  },
  {
   "cell_type": "code",
   "execution_count": 3,
   "metadata": {
    "collapsed": true
   },
   "outputs": [],
   "source": [
    "#process_images()"
   ]
  },
  {
   "cell_type": "code",
   "execution_count": 4,
   "metadata": {},
   "outputs": [
    {
     "name": "stderr",
     "output_type": "stream",
     "text": [
      " 33%|███▎      | 5/15 [12:46<25:07, 150.70s/it]"
     ]
    },
    {
     "ename": "ValueError",
     "evalue": "need at least one array to concatenate",
     "traceback": [
      "\u001b[0;31m---------------------------------------------------------------------------\u001b[0m",
      "\u001b[0;31mValueError\u001b[0m                                Traceback (most recent call last)",
      "\u001b[0;32m<ipython-input-4-39949eea5ff8>\u001b[0m in \u001b[0;36m<module>\u001b[0;34m()\u001b[0m\n\u001b[0;32m----> 1\u001b[0;31m \u001b[0mprocess_pos_annotations_patient2\u001b[0m\u001b[0;34m(\u001b[0m\u001b[0;34m)\u001b[0m\u001b[0;34m\u001b[0m\u001b[0m\n\u001b[0m\u001b[1;32m      2\u001b[0m \u001b[0;34m\u001b[0m\u001b[0m\n",
      "\u001b[0;32m<ipython-input-2-c1d041074c18>\u001b[0m in \u001b[0;36mprocess_pos_annotations_patient2\u001b[0;34m()\u001b[0m\n\u001b[1;32m    142\u001b[0m                 \u001b[0;32mcontinue\u001b[0m\u001b[0;34m\u001b[0m\u001b[0m\n\u001b[1;32m    143\u001b[0m             \u001b[0mpatient_id\u001b[0m \u001b[0;34m=\u001b[0m \u001b[0mntpath\u001b[0m\u001b[0;34m.\u001b[0m\u001b[0mbasename\u001b[0m\u001b[0;34m(\u001b[0m\u001b[0msrc_path\u001b[0m\u001b[0;34m)\u001b[0m\u001b[0;34m.\u001b[0m\u001b[0mreplace\u001b[0m\u001b[0;34m(\u001b[0m\u001b[0;34m\".mhd\"\u001b[0m\u001b[0;34m,\u001b[0m \u001b[0;34m\"\"\u001b[0m\u001b[0;34m)\u001b[0m\u001b[0;34m\u001b[0m\u001b[0m\n\u001b[0;32m--> 144\u001b[0;31m             \u001b[0mprocess_pos_annotations_patient\u001b[0m\u001b[0;34m(\u001b[0m\u001b[0msrc_path\u001b[0m\u001b[0;34m,\u001b[0m \u001b[0mpatient_id\u001b[0m\u001b[0;34m)\u001b[0m\u001b[0;34m\u001b[0m\u001b[0m\n\u001b[0m\u001b[1;32m    145\u001b[0m             \u001b[0mcandidate_index\u001b[0m \u001b[0;34m+=\u001b[0m \u001b[0;36m1\u001b[0m\u001b[0;34m\u001b[0m\u001b[0m\n",
      "\u001b[0;32m<ipython-input-2-c1d041074c18>\u001b[0m in \u001b[0;36mprocess_pos_annotations_patient\u001b[0;34m(src_path, patient_id)\u001b[0m\n\u001b[1;32m     75\u001b[0m     \u001b[0;32massert\u001b[0m \u001b[0mabs\u001b[0m\u001b[0;34m(\u001b[0m\u001b[0msum\u001b[0m\u001b[0;34m(\u001b[0m\u001b[0mdirection\u001b[0m\u001b[0;34m)\u001b[0m \u001b[0;34m-\u001b[0m \u001b[0;36m3\u001b[0m\u001b[0;34m)\u001b[0m \u001b[0;34m<\u001b[0m \u001b[0;36m0.01\u001b[0m\u001b[0;34m\u001b[0m\u001b[0m\n\u001b[1;32m     76\u001b[0m \u001b[0;34m\u001b[0m\u001b[0m\n\u001b[0;32m---> 77\u001b[0;31m     \u001b[0mpatient_imgs\u001b[0m \u001b[0;34m=\u001b[0m \u001b[0mhelpers\u001b[0m\u001b[0;34m.\u001b[0m\u001b[0mload_patient_images\u001b[0m\u001b[0;34m(\u001b[0m\u001b[0mpatient_id\u001b[0m\u001b[0;34m,\u001b[0m \u001b[0msettings\u001b[0m\u001b[0;34m.\u001b[0m\u001b[0mLUNA16_EXTRACTED_IMAGE_DIR\u001b[0m\u001b[0;34m,\u001b[0m \u001b[0;34m\"*_i.png\"\u001b[0m\u001b[0;34m)\u001b[0m\u001b[0;34m\u001b[0m\u001b[0m\n\u001b[0m\u001b[1;32m     78\u001b[0m \u001b[0;34m\u001b[0m\u001b[0m\n\u001b[1;32m     79\u001b[0m     \u001b[0mpos_annos\u001b[0m \u001b[0;34m=\u001b[0m \u001b[0;34m[\u001b[0m\u001b[0;34m]\u001b[0m\u001b[0;34m\u001b[0m\u001b[0m\n",
      "\u001b[0;32m/Users/mahui/CloudStation/Python Code/Tianchi/TianChiLung/kaggle_2/helpers.pyc\u001b[0m in \u001b[0;36mload_patient_images\u001b[0;34m(patient_id, base_dir, wildcard, exclude_wildcards)\u001b[0m\n\u001b[1;32m     76\u001b[0m     \u001b[0mimages\u001b[0m \u001b[0;34m=\u001b[0m \u001b[0;34m[\u001b[0m\u001b[0mcv2\u001b[0m\u001b[0;34m.\u001b[0m\u001b[0mimread\u001b[0m\u001b[0;34m(\u001b[0m\u001b[0mimg_path\u001b[0m\u001b[0;34m,\u001b[0m \u001b[0mcv2\u001b[0m\u001b[0;34m.\u001b[0m\u001b[0mIMREAD_GRAYSCALE\u001b[0m\u001b[0;34m)\u001b[0m \u001b[0;32mfor\u001b[0m \u001b[0mimg_path\u001b[0m \u001b[0;32min\u001b[0m \u001b[0msrc_img_paths\u001b[0m\u001b[0;34m]\u001b[0m\u001b[0;34m\u001b[0m\u001b[0m\n\u001b[1;32m     77\u001b[0m     \u001b[0mimages\u001b[0m \u001b[0;34m=\u001b[0m \u001b[0;34m[\u001b[0m\u001b[0mim\u001b[0m\u001b[0;34m.\u001b[0m\u001b[0mreshape\u001b[0m\u001b[0;34m(\u001b[0m\u001b[0;34m(\u001b[0m\u001b[0;36m1\u001b[0m\u001b[0;34m,\u001b[0m \u001b[0;34m)\u001b[0m \u001b[0;34m+\u001b[0m \u001b[0mim\u001b[0m\u001b[0;34m.\u001b[0m\u001b[0mshape\u001b[0m\u001b[0;34m)\u001b[0m \u001b[0;32mfor\u001b[0m \u001b[0mim\u001b[0m \u001b[0;32min\u001b[0m \u001b[0mimages\u001b[0m\u001b[0;34m]\u001b[0m\u001b[0;34m\u001b[0m\u001b[0m\n\u001b[0;32m---> 78\u001b[0;31m     \u001b[0mres\u001b[0m \u001b[0;34m=\u001b[0m \u001b[0mnumpy\u001b[0m\u001b[0;34m.\u001b[0m\u001b[0mvstack\u001b[0m\u001b[0;34m(\u001b[0m\u001b[0mimages\u001b[0m\u001b[0;34m)\u001b[0m\u001b[0;34m\u001b[0m\u001b[0m\n\u001b[0m\u001b[1;32m     79\u001b[0m     \u001b[0;32mreturn\u001b[0m \u001b[0mres\u001b[0m\u001b[0;34m\u001b[0m\u001b[0m\n\u001b[1;32m     80\u001b[0m \u001b[0;34m\u001b[0m\u001b[0m\n",
      "\u001b[0;32m/Users/mahui/anaconda/lib/python2.7/site-packages/numpy/core/shape_base.pyc\u001b[0m in \u001b[0;36mvstack\u001b[0;34m(tup)\u001b[0m\n\u001b[1;32m    232\u001b[0m \u001b[0;34m\u001b[0m\u001b[0m\n\u001b[1;32m    233\u001b[0m     \"\"\"\n\u001b[0;32m--> 234\u001b[0;31m     \u001b[0;32mreturn\u001b[0m \u001b[0m_nx\u001b[0m\u001b[0;34m.\u001b[0m\u001b[0mconcatenate\u001b[0m\u001b[0;34m(\u001b[0m\u001b[0;34m[\u001b[0m\u001b[0matleast_2d\u001b[0m\u001b[0;34m(\u001b[0m\u001b[0m_m\u001b[0m\u001b[0;34m)\u001b[0m \u001b[0;32mfor\u001b[0m \u001b[0m_m\u001b[0m \u001b[0;32min\u001b[0m \u001b[0mtup\u001b[0m\u001b[0;34m]\u001b[0m\u001b[0;34m,\u001b[0m \u001b[0;36m0\u001b[0m\u001b[0;34m)\u001b[0m\u001b[0;34m\u001b[0m\u001b[0m\n\u001b[0m\u001b[1;32m    235\u001b[0m \u001b[0;34m\u001b[0m\u001b[0m\n\u001b[1;32m    236\u001b[0m \u001b[0;32mdef\u001b[0m \u001b[0mhstack\u001b[0m\u001b[0;34m(\u001b[0m\u001b[0mtup\u001b[0m\u001b[0;34m)\u001b[0m\u001b[0;34m:\u001b[0m\u001b[0;34m\u001b[0m\u001b[0m\n",
      "\u001b[0;31mValueError\u001b[0m: need at least one array to concatenate"
     ],
     "output_type": "error"
    }
   ],
   "source": [
    "process_pos_annotations_patient2()"
   ]
  },
  {
   "cell_type": "code",
   "execution_count": null,
   "metadata": {
    "collapsed": true
   },
   "outputs": [],
   "source": [
    "src_dir = settings.LUNA16_RAW_SRC_DIR  + \"train_subset\" + str(14).zfill(2) + \"/\"\n",
    "src_paths = glob.glob(src_dir + \"*.mhd\")"
   ]
  },
  {
   "cell_type": "code",
   "execution_count": null,
   "metadata": {
    "collapsed": true
   },
   "outputs": [],
   "source": [
    "src_paths"
   ]
  },
  {
   "cell_type": "code",
   "execution_count": null,
   "metadata": {
    "collapsed": true
   },
   "outputs": [],
   "source": [
    ""
   ]
  }
 ],
 "metadata": {
  "kernelspec": {
   "display_name": "Python 2",
   "language": "python",
   "name": "python2"
  },
  "language_info": {
   "codemirror_mode": {
    "name": "ipython",
    "version": 2.0
   },
   "file_extension": ".py",
   "mimetype": "text/x-python",
   "name": "python",
   "nbconvert_exporter": "python",
   "pygments_lexer": "ipython2",
   "version": "2.7.13"
  }
 },
 "nbformat": 4,
 "nbformat_minor": 0
}