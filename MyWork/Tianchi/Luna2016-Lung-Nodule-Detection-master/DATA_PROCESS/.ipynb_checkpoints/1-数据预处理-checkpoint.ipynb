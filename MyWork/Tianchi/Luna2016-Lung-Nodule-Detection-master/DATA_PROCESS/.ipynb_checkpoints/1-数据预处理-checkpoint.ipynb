{
 "cells": [
  {
   "cell_type": "code",
   "execution_count": 1,
   "metadata": {},
   "outputs": [
    {
     "name": "stderr",
     "output_type": "stream",
     "text": [
      "Using TensorFlow backend.\n"
     ]
    }
   ],
   "source": [
    "from utils import *\n",
    "from path import *"
   ]
  },
  {
   "cell_type": "code",
   "execution_count": 2,
   "metadata": {
    "collapsed": true
   },
   "outputs": [],
   "source": [
    "csv_path = PATH['annotations_train']\n",
    "data_path = PATH['src_train']\n",
    "output_path = PATH['output_train']\n",
    "file_list=load_train(data_path)\n",
    "# The locations of the nodes\n",
    "df_node = pd.read_csv(csv_path+\"annotations.csv\")\n",
    "df_node[\"file\"] = df_node[\"seriesuid\"].map(lambda file_name: get_filename(file_list, file_name))\n",
    "df_node = df_node.dropna()"
   ]
  },
  {
   "cell_type": "code",
   "execution_count": 3,
   "metadata": {},
   "outputs": [
    {
     "name": "stderr",
     "output_type": "stream",
     "text": [
      "100%|██████████| 600/600 [24:04<00:00,  2.20s/it]\n"
     ]
    }
   ],
   "source": [
    "for fcount, img_file in enumerate(tqdm(file_list)):\n",
    "    mini_df = df_node[df_node[\"file\"] == img_file]  # get all nodules associate with file\n",
    "    if mini_df.shape[0] > 0:  # some files may not have a nodule--skipping those \n",
    "        # load the data once\n",
    "        itk_img = sitk.ReadImage(data_path + img_file)\n",
    "        img_array = sitk.GetArrayFromImage(itk_img)  # indexes are z,y,x (notice the ordering)\n",
    "        num_z, height, width = img_array.shape  # heightXwidth constitute the transverse plane\n",
    "        origin = np.array(itk_img.GetOrigin())  # x,y,z  Origin in world coordinates (mm)\n",
    "        spacing = np.array(itk_img.GetSpacing())  # spacing of voxels in world coor. (mm)\n",
    "        # go through all nodes (why just the biggest?)\n",
    "        for node_idx, cur_row in mini_df.iterrows():\n",
    "            node_x = cur_row[\"coordX\"]\n",
    "            node_y = cur_row[\"coordY\"]\n",
    "            node_z = cur_row[\"coordZ\"]\n",
    "            diam = cur_row[\"diameter_mm\"]\n",
    "            # just keep 3 slices\n",
    "            imgs = np.ndarray([3, height, width], dtype=np.float32)\n",
    "            masks = np.ndarray([3, height, width], dtype=np.uint8)\n",
    "            center = np.array([node_x, node_y, node_z])  # nodule center\n",
    "            v_center = np.rint((center - origin) / spacing)  # nodule center in voxel space (still x,y,z ordering)\n",
    "            for i, i_z in enumerate(np.arange(int(v_center[2]) - 1,\n",
    "                                              int(v_center[2]) + 2).clip(0,\n",
    "                                                                         num_z - 1)):  # clip prevents going out of bounds in Z\n",
    "                mask = make_mask(center, diam, i_z * spacing[2] + origin[2],\n",
    "                                 width, height, spacing, origin)\n",
    "                masks[i] = mask\n",
    "                imgs[i] = img_array[i_z]\n",
    "            np.save(os.path.join(output_path, \"images_%04d_%04d.npy\" % (fcount, node_idx)), imgs)\n",
    "            np.save(os.path.join(output_path, \"masks_%04d_%04d.npy\" % (fcount, node_idx)), masks)"
   ]
  }
 ],
 "metadata": {
  "kernelspec": {
   "display_name": "Python 2",
   "language": "python",
   "name": "python2"
  },
  "language_info": {
   "codemirror_mode": {
    "name": "ipython",
    "version": 2
   },
   "file_extension": ".py",
   "mimetype": "text/x-python",
   "name": "python",
   "nbconvert_exporter": "python",
   "pygments_lexer": "ipython2",
   "version": "2.7.13"
  }
 },
 "nbformat": 4,
 "nbformat_minor": 2
}
