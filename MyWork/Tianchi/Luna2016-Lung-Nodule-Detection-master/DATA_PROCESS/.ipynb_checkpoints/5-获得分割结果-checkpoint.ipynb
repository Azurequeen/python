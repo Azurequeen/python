{
 "cells": [
  {
   "cell_type": "code",
   "execution_count": 1,
   "metadata": {},
   "outputs": [
    {
     "name": "stderr",
     "output_type": "stream",
     "text": [
      "Using TensorFlow backend.\n"
     ]
    }
   ],
   "source": [
    "from utils import *\n",
    "from path import *"
   ]
  },
  {
   "cell_type": "code",
   "execution_count": 2,
   "metadata": {
    "collapsed": true
   },
   "outputs": [],
   "source": [
    "csv_path = PATH['annotations_train']\n",
    "data_path = PATH['src_train']\n",
    "check_model = '/Volumes/solo/ali/Data/model/kaggle.h5'"
   ]
  },
  {
   "cell_type": "code",
   "execution_count": 3,
   "metadata": {
    "collapsed": true
   },
   "outputs": [],
   "source": [
    "empty = pd.DataFrame({'seriesuid':[],'coordX':[],'coordY':[],'coordZ':[],'diameter_mm':[]})\n",
    "empty = empty[['seriesuid','coordX','coordY','coordZ','diameter_mm']]"
   ]
  },
  {
   "cell_type": "code",
   "execution_count": 4,
   "metadata": {
    "collapsed": true
   },
   "outputs": [],
   "source": [
    "file_list=load_train(data_path)\n",
    "model = load_model(check_model, custom_objects={'dice_coef_loss': dice_coef_loss, 'dice_coef': dice_coef})"
   ]
  },
  {
   "cell_type": "code",
   "execution_count": 5,
   "metadata": {},
   "outputs": [
    {
     "name": "stderr",
     "output_type": "stream",
     "text": [
      "100%|██████████| 1/1 [00:44<00:00, 44.57s/it]\n"
     ]
    }
   ],
   "source": [
    "var = []\n",
    "for fcount, img_file in enumerate(tqdm(file_list[0:1])):\n",
    "    patient_id = img_file[-14:-4]\n",
    "    itk_img = sitk.ReadImage(data_path + img_file)\n",
    "    img_array = sitk.GetArrayFromImage(itk_img)  # indexes are z,y,x (notice the ordering)\n",
    "    num_z, height, width = img_array.shape  # heightXwidth constitute the transverse plane\n",
    "    origin = np.array(itk_img.GetOrigin())  # x,y,z  Origin in world coordinates (mm)\n",
    "    spacing = np.array(itk_img.GetSpacing())  # spacing of voxels in world coor. (mm)\n",
    "\n",
    "    for i in range(0,len(img_array),3):\n",
    "        img = img_array[i:i+3]\n",
    "        mean = np.mean(img)\n",
    "        img = img - mean\n",
    "        min = np.min(img)\n",
    "        max = np.max(img)\n",
    "        img = img / (max - min)\n",
    "        img = np.expand_dims(img,1)\n",
    "        p = model.predict(img)\n",
    "        p = np.squeeze(p)\n",
    "        img_array[i:i+3] = p\n",
    "    temp = morphology.binary_opening(img_array, np.ones([3,3,3]))\n",
    "    labels = measure.label(temp)   \n",
    "    props = measure.regionprops(labels)\n",
    "    for i in range(len(props)):     \n",
    "        world_coordinates = voxel_2_world([props[i]['Centroid'][2], \n",
    "                                           props[i]['Centroid'][1], \n",
    "                                           props[i]['Centroid'][0]], origin, spacing)               \n",
    "\n",
    "        var.append([patient_id,\n",
    "                    world_coordinates[0],\n",
    "                    world_coordinates[1],\n",
    "                    world_coordinates[2],\n",
    "                    props[i]['EquivDiameter']])   "
   ]
  },
  {
   "cell_type": "code",
   "execution_count": 6,
   "metadata": {
    "collapsed": true
   },
   "outputs": [],
   "source": [
    "#var = []\n",
    "#r = Parallel(n_jobs=-1)(delayed(get_pred_result)(patient) for patient in tqdm(sorted(patients[2:4])))"
   ]
  },
  {
   "cell_type": "code",
   "execution_count": 7,
   "metadata": {},
   "outputs": [
    {
     "name": "stderr",
     "output_type": "stream",
     "text": [
      "100%|██████████| 2/2 [00:00<00:00, 293.00it/s]\n"
     ]
    }
   ],
   "source": [
    "for i in tqdm(range(len(var))):\n",
    "    empty = empty.append([var[i]],ignore_index=True)"
   ]
  },
  {
   "cell_type": "code",
   "execution_count": 8,
   "metadata": {
    "collapsed": true
   },
   "outputs": [],
   "source": [
    "aa = pd.read_csv(PATH['annotations_train'] + 'annotations.csv')"
   ]
  },
  {
   "cell_type": "code",
   "execution_count": 9,
   "metadata": {},
   "outputs": [
    {
     "data": {
      "text/html": [
       "<div>\n",
       "<style>\n",
       "    .dataframe thead tr:only-child th {\n",
       "        text-align: right;\n",
       "    }\n",
       "\n",
       "    .dataframe thead th {\n",
       "        text-align: left;\n",
       "    }\n",
       "\n",
       "    .dataframe tbody tr th {\n",
       "        vertical-align: top;\n",
       "    }\n",
       "</style>\n",
       "<table border=\"1\" class=\"dataframe\">\n",
       "  <thead>\n",
       "    <tr style=\"text-align: right;\">\n",
       "      <th></th>\n",
       "      <th>seriesuid</th>\n",
       "      <th>coordX</th>\n",
       "      <th>coordY</th>\n",
       "      <th>coordZ</th>\n",
       "      <th>diameter_mm</th>\n",
       "    </tr>\n",
       "  </thead>\n",
       "  <tbody>\n",
       "    <tr>\n",
       "      <th>0</th>\n",
       "      <td>LKDS-00001</td>\n",
       "      <td>-76.449879</td>\n",
       "      <td>-49.540571</td>\n",
       "      <td>229.5</td>\n",
       "      <td>14.180405</td>\n",
       "    </tr>\n",
       "  </tbody>\n",
       "</table>\n",
       "</div>"
      ],
      "text/plain": [
       "    seriesuid     coordX     coordY  coordZ  diameter_mm\n",
       "0  LKDS-00001 -76.449879 -49.540571   229.5    14.180405"
      ]
     },
     "execution_count": 9,
     "metadata": {},
     "output_type": "execute_result"
    }
   ],
   "source": [
    "aa[aa['seriesuid'] == 'LKDS-00001']"
   ]
  },
  {
   "cell_type": "code",
   "execution_count": 10,
   "metadata": {},
   "outputs": [
    {
     "data": {
      "text/plain": [
       "[['LKDS-00001',\n",
       "  -125.90480757440839,\n",
       "  -71.827830917494651,\n",
       "  83.857142857142861,\n",
       "  10.008912525924799],\n",
       " ['LKDS-00001',\n",
       "  -116.07148689304576,\n",
       "  -127.1735373878215,\n",
       "  219.58933064921993,\n",
       "  15.59791017244539]]"
      ]
     },
     "execution_count": 10,
     "metadata": {},
     "output_type": "execute_result"
    }
   ],
   "source": [
    "var"
   ]
  },
  {
   "cell_type": "code",
   "execution_count": 11,
   "metadata": {},
   "outputs": [
    {
     "data": {
      "text/html": [
       "<div>\n",
       "<style>\n",
       "    .dataframe thead tr:only-child th {\n",
       "        text-align: right;\n",
       "    }\n",
       "\n",
       "    .dataframe thead th {\n",
       "        text-align: left;\n",
       "    }\n",
       "\n",
       "    .dataframe tbody tr th {\n",
       "        vertical-align: top;\n",
       "    }\n",
       "</style>\n",
       "<table border=\"1\" class=\"dataframe\">\n",
       "  <thead>\n",
       "    <tr style=\"text-align: right;\">\n",
       "      <th></th>\n",
       "      <th>0</th>\n",
       "      <th>1</th>\n",
       "      <th>2</th>\n",
       "      <th>3</th>\n",
       "      <th>4</th>\n",
       "      <th>coordX</th>\n",
       "      <th>coordY</th>\n",
       "      <th>coordZ</th>\n",
       "      <th>diameter_mm</th>\n",
       "      <th>seriesuid</th>\n",
       "    </tr>\n",
       "  </thead>\n",
       "  <tbody>\n",
       "    <tr>\n",
       "      <th>0</th>\n",
       "      <td>LKDS-00001</td>\n",
       "      <td>-125.904808</td>\n",
       "      <td>-71.827831</td>\n",
       "      <td>83.857143</td>\n",
       "      <td>10.008913</td>\n",
       "      <td>NaN</td>\n",
       "      <td>NaN</td>\n",
       "      <td>NaN</td>\n",
       "      <td>NaN</td>\n",
       "      <td>NaN</td>\n",
       "    </tr>\n",
       "    <tr>\n",
       "      <th>1</th>\n",
       "      <td>LKDS-00001</td>\n",
       "      <td>-116.071487</td>\n",
       "      <td>-127.173537</td>\n",
       "      <td>219.589331</td>\n",
       "      <td>15.597910</td>\n",
       "      <td>NaN</td>\n",
       "      <td>NaN</td>\n",
       "      <td>NaN</td>\n",
       "      <td>NaN</td>\n",
       "      <td>NaN</td>\n",
       "    </tr>\n",
       "  </tbody>\n",
       "</table>\n",
       "</div>"
      ],
      "text/plain": [
       "            0           1           2           3          4  coordX  coordY  \\\n",
       "0  LKDS-00001 -125.904808  -71.827831   83.857143  10.008913     NaN     NaN   \n",
       "1  LKDS-00001 -116.071487 -127.173537  219.589331  15.597910     NaN     NaN   \n",
       "\n",
       "   coordZ  diameter_mm  seriesuid  \n",
       "0     NaN          NaN        NaN  \n",
       "1     NaN          NaN        NaN  "
      ]
     },
     "execution_count": 11,
     "metadata": {},
     "output_type": "execute_result"
    }
   ],
   "source": [
    "empty"
   ]
  },
  {
   "cell_type": "code",
   "execution_count": null,
   "metadata": {
    "collapsed": true
   },
   "outputs": [],
   "source": []
  }
 ],
 "metadata": {
  "kernelspec": {
   "display_name": "Python 2",
   "language": "python",
   "name": "python2"
  },
  "language_info": {
   "codemirror_mode": {
    "name": "ipython",
    "version": 2
   },
   "file_extension": ".py",
   "mimetype": "text/x-python",
   "name": "python",
   "nbconvert_exporter": "python",
   "pygments_lexer": "ipython2",
   "version": "2.7.13"
  }
 },
 "nbformat": 4,
 "nbformat_minor": 2
}
