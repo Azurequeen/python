{
 "cells": [
  {
   "cell_type": "code",
   "execution_count": 1,
   "metadata": {
    "collapsed": true
   },
   "outputs": [],
   "source": [
    "from utils import *\n",
    "from path import *"
   ]
  },
  {
   "cell_type": "code",
   "execution_count": 2,
   "metadata": {
    "collapsed": true
   },
   "outputs": [],
   "source": [
    "working_path = PATH['output_train']\n",
    "file_list=glob(working_path+\"images_*.npy\")"
   ]
  },
  {
   "cell_type": "code",
   "execution_count": 3,
   "metadata": {},
   "outputs": [
    {
     "name": "stderr",
     "output_type": "stream",
     "text": [
      "100%|██████████| 975/975 [12:44<00:00,  1.33it/s]\n",
      "  0%|          | 0/975 [00:00<?, ?it/s]/Users/mahui/anaconda/lib/python2.7/site-packages/skimage/transform/_warps.py:84: UserWarning: The default mode, 'constant', will be changed to 'reflect' in skimage 0.15.\n",
      "  warn(\"The default mode, 'constant', will be changed to 'reflect' in \"\n",
      " 37%|███▋      | 356/975 [00:49<01:20,  7.65it/s]/Users/mahui/anaconda/lib/python2.7/site-packages/numpy/core/fromnumeric.py:2889: RuntimeWarning: Mean of empty slice.\n",
      "  out=out, **kwargs)\n",
      "/Users/mahui/anaconda/lib/python2.7/site-packages/numpy/core/_methods.py:80: RuntimeWarning: invalid value encountered in double_scalars\n",
      "  ret = ret.dtype.type(ret / rcount)\n",
      "/Users/mahui/anaconda/lib/python2.7/site-packages/numpy/core/_methods.py:135: RuntimeWarning: Degrees of freedom <= 0 for slice\n",
      "  keepdims=keepdims)\n",
      "/Users/mahui/anaconda/lib/python2.7/site-packages/numpy/core/_methods.py:105: RuntimeWarning: invalid value encountered in true_divide\n",
      "  arrmean, rcount, out=arrmean, casting='unsafe', subok=False)\n",
      "/Users/mahui/anaconda/lib/python2.7/site-packages/numpy/core/_methods.py:127: RuntimeWarning: invalid value encountered in double_scalars\n",
      "  ret = ret.dtype.type(ret / rcount)\n",
      "100%|██████████| 975/975 [02:18<00:00,  7.76it/s]\n"
     ]
    }
   ],
   "source": [
    "for img_file in tqdm(file_list):    \n",
    "    imgs_to_process = np.load(img_file).astype(np.float64)\n",
    "\n",
    "    for i in range(len(imgs_to_process)):\n",
    "        img = imgs_to_process[i]\n",
    "        mean = np.mean(img)\n",
    "        std = np.std(img)\n",
    "        img = img - mean\n",
    "        img = img / std\n",
    "        middle = img[100:400, 100:400]\n",
    "        mean = np.mean(middle)\n",
    "        max_im = np.max(img)\n",
    "        min_im = np.min(img)\n",
    "\n",
    "        img[img == max_im] = mean\n",
    "        img[img == min_im] = mean\n",
    "\n",
    "        kmeans = KMeans(n_clusters=2).fit(np.reshape(middle, [np.prod(middle.shape), 1]))\n",
    "        centers = sorted(kmeans.cluster_centers_.flatten())\n",
    "        threshold = np.mean(centers)\n",
    "        thresh_img = np.where(img < threshold, 1.0, 0.0)  # threshold the image\n",
    "\n",
    "        eroded = morphology.erosion(thresh_img, np.ones([4, 4]))\n",
    "        dilation = morphology.dilation(eroded, np.ones([10, 10]))\n",
    "\n",
    "        labels = measure.label(dilation)\n",
    "        label_vals = np.unique(labels)\n",
    "        regions = measure.regionprops(labels)\n",
    "        good_labels = []\n",
    "        for prop in regions:\n",
    "            B = prop.bbox\n",
    "            if B[2] - B[0] < 475 and B[3] - B[1] < 475 and B[0] > 40 and B[2] < 472:\n",
    "                good_labels.append(prop.label)\n",
    "        mask = np.ndarray([img.shape[0], img.shape[1]], dtype=np.int8)\n",
    "        mask[:] = 0\n",
    "        for N in good_labels:\n",
    "            mask = mask + np.where(labels == N, 1, 0)\n",
    "        mask = morphology.dilation(mask, np.ones([10, 10]))  # one last dilation\n",
    "        imgs_to_process[i] = mask\n",
    "    np.save(img_file.replace(\"images\", \"lungmask\"), imgs_to_process)\n",
    "\n",
    "file_list = glob(working_path + \"lungmask_*.npy\")\n",
    "out_images = []  # final set of images\n",
    "out_nodemasks = []  # final set of nodemasks\n",
    "for fname in tqdm(file_list):\n",
    "    #print \"working on file \", fname\n",
    "    imgs_to_process = np.load(fname.replace(\"lungmask\", \"images\"))\n",
    "    masks = np.load(fname)\n",
    "    node_masks = np.load(fname.replace(\"lungmask\", \"masks\"))\n",
    "    for i in range(len(imgs_to_process)):\n",
    "        mask = masks[i]\n",
    "        node_mask = node_masks[i]\n",
    "        img = imgs_to_process[i]\n",
    "        new_size = [512, 512]  \n",
    "        img = mask * img  \n",
    "\n",
    "        new_mean = np.mean(img[mask > 0])\n",
    "        new_std = np.std(img[mask > 0])\n",
    "\n",
    "        labels = measure.label(mask)\n",
    "        regions = measure.regionprops(labels)\n",
    "        min_row = 512\n",
    "        max_row = 0\n",
    "        min_col = 512\n",
    "        max_col = 0\n",
    "        for prop in regions:\n",
    "            B = prop.bbox\n",
    "            if min_row > B[0]:\n",
    "                min_row = B[0]\n",
    "            if min_col > B[1]:\n",
    "                min_col = B[1]\n",
    "            if max_row < B[2]:\n",
    "                max_row = B[2]\n",
    "            if max_col < B[3]:\n",
    "                max_col = B[3]\n",
    "        width = max_col - min_col\n",
    "        height = max_row - min_row\n",
    "        if width > height:\n",
    "            max_row = min_row + width\n",
    "        else:\n",
    "            max_col = min_col + height\n",
    "\n",
    "        img = img[min_row:max_row, min_col:max_col]\n",
    "        mask = mask[min_row:max_row, min_col:max_col]\n",
    "        if max_row - min_row < 5 or max_col - min_col < 5:  \n",
    "            pass\n",
    "        else:\n",
    "            mean = np.mean(img)\n",
    "            img = img - mean\n",
    "            min = np.min(img)\n",
    "            max = np.max(img)\n",
    "            img = img / (max - min)\n",
    "            new_img = resize(img, [512, 512])\n",
    "            new_node_mask = resize(node_mask[min_row:max_row, min_col:max_col], [512, 512])\n",
    "            out_images.append(new_img)\n",
    "            out_nodemasks.append(new_node_mask)\n",
    "\n",
    "num_images = len(out_images)\n",
    "final_images = np.ndarray([num_images, 1, 512, 512], dtype=np.float32)\n",
    "final_masks = np.ndarray([num_images, 1, 512, 512], dtype=np.float32)\n",
    "for i in range(num_images):\n",
    "    final_images[i, 0] = out_images[i]\n",
    "    final_masks[i, 0] = out_nodemasks[i]\n",
    "\n",
    "np.save(working_path + \"trainImages.npy\", final_images)\n",
    "np.save(working_path + \"trainMasks.npy\", final_masks)"
   ]
  },
  {
   "cell_type": "code",
   "execution_count": null,
   "metadata": {
    "collapsed": true
   },
   "outputs": [],
   "source": []
  }
 ],
 "metadata": {
  "kernelspec": {
   "display_name": "Python 2",
   "language": "python",
   "name": "python2"
  },
  "language_info": {
   "codemirror_mode": {
    "name": "ipython",
    "version": 2
   },
   "file_extension": ".py",
   "mimetype": "text/x-python",
   "name": "python",
   "nbconvert_exporter": "python",
   "pygments_lexer": "ipython2",
   "version": "2.7.13"
  }
 },
 "nbformat": 4,
 "nbformat_minor": 2
}
