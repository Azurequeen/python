{
 "cells": [
  {
   "cell_type": "code",
   "execution_count": 1,
   "metadata": {},
   "outputs": [
    {
     "name": "stderr",
     "output_type": "stream",
     "text": [
      "Using TensorFlow backend.\n"
     ]
    }
   ],
   "source": [
    "from utils import *\n",
    "from path import *"
   ]
  },
  {
   "cell_type": "code",
   "execution_count": 2,
   "metadata": {
    "collapsed": true
   },
   "outputs": [],
   "source": [
    "csv_path = PATH['annotations_train']\n",
    "data_path = PATH['src_train']\n",
    "check_model = '/Volumes/solo/ali/Data/model/unet.h5'"
   ]
  },
  {
   "cell_type": "code",
   "execution_count": 3,
   "metadata": {
    "collapsed": true
   },
   "outputs": [],
   "source": [
    "empty = pd.DataFrame({'seriesuid':[],'coordX':[],'coordY':[],'coordZ':[],'diameter_mm':[]})\n",
    "empty = empty[['seriesuid','coordX','coordY','coordZ','diameter_mm']]"
   ]
  },
  {
   "cell_type": "code",
   "execution_count": 4,
   "metadata": {},
   "outputs": [],
   "source": [
    "file_list=load_train(data_path)\n",
    "model = get_unet()\n",
    "model.load_weights(check_model)"
   ]
  },
  {
   "cell_type": "code",
   "execution_count": 22,
   "metadata": {},
   "outputs": [
    {
     "name": "stderr",
     "output_type": "stream",
     "text": [
      "100%|██████████| 1/1 [01:40<00:00, 100.47s/it]\n"
     ]
    }
   ],
   "source": [
    "out_images = [] \n",
    "var = []\n",
    "for fcount, img_file in enumerate(tqdm(file_list[0:1])):\n",
    "    patient_id = img_file[-14:-4]\n",
    "    itk_img = sitk.ReadImage(data_path + img_file)\n",
    "    img_array = sitk.GetArrayFromImage(itk_img)  # indexes are z,y,x (notice the ordering)\n",
    "    num_z, height, width = img_array.shape  # heightXwidth constitute the transverse plane\n",
    "    origin = np.array(itk_img.GetOrigin())  # x,y,z  Origin in world coordinates (mm)\n",
    "    spacing = np.array(itk_img.GetSpacing())  # spacing of voxels in world coor. (mm)\n",
    "    \n",
    "    imgs_to_process = img_array.copy()\n",
    "    \n",
    "    imgs_mask_test = np.zeros_like(img_array)\n",
    "    imgs_mask_test = np.expand_dims(imgs_mask_test,1)\n",
    "    for i in range(len(imgs_to_process)):\n",
    "        img = imgs_to_process[i]\n",
    "        #Standardize the pixel values\n",
    "        mean = np.mean(img)\n",
    "        std = np.std(img)\n",
    "        img = img-mean\n",
    "        img = img/std\n",
    "        # Find the average pixel value near the lungs\n",
    "        # to renormalize washed out images\n",
    "        middle = img[100:400,100:400] \n",
    "        mean = np.mean(middle)  \n",
    "        max = np.max(img)\n",
    "        min = np.min(img)\n",
    "        # To improve threshold finding, I'm moving the \n",
    "        # underflow and overflow on the pixel spectrum\n",
    "        img[img==max]=mean\n",
    "        img[img==min]=mean\n",
    "        #\n",
    "        # Using Kmeans to separate foreground (radio-opaque tissue)\n",
    "        # and background (radio transparent tissue ie lungs)\n",
    "        # Doing this only on the center of the image to avoid \n",
    "        # the non-tissue parts of the image as much as possible\n",
    "        #\n",
    "        kmeans = KMeans(n_clusters=2).fit(np.reshape(middle,[np.prod(middle.shape),1]))\n",
    "        centers = sorted(kmeans.cluster_centers_.flatten())\n",
    "        threshold = np.mean(centers)\n",
    "        thresh_img = np.where(img<threshold,1.0,0.0)  # threshold the image\n",
    "        #\n",
    "        # I found an initial erosion helful for removing graininess from some of the regions\n",
    "        # and then large dialation is used to make the lung region \n",
    "        # engulf the vessels and incursions into the lung cavity by \n",
    "        # radio opaque tissue\n",
    "        #\n",
    "        eroded = morphology.erosion(thresh_img,np.ones([4,4]))\n",
    "        dilation = morphology.dilation(eroded,np.ones([10,10]))\n",
    "        #\n",
    "        #  Label each region and obtain the region properties\n",
    "        #  The background region is removed by removing regions \n",
    "        #  with a bbox that is to large in either dimnsion\n",
    "        #  Also, the lungs are generally far away from the top \n",
    "        #  and bottom of the image, so any regions that are too\n",
    "        #  close to the top and bottom are removed\n",
    "        #  This does not produce a perfect segmentation of the lungs\n",
    "        #  from the image, but it is surprisingly good considering its\n",
    "        #  simplicity. \n",
    "        #\n",
    "        labels = measure.label(dilation)\n",
    "        label_vals = np.unique(labels)\n",
    "        regions = measure.regionprops(labels)\n",
    "        good_labels = []\n",
    "        for prop in regions:\n",
    "            B = prop.bbox\n",
    "            if B[2]-B[0]<475 and B[3]-B[1]<475 and B[0]>40 and B[2]<472:\n",
    "                good_labels.append(prop.label)\n",
    "        mask = np.ndarray([512,512],dtype=np.int8)\n",
    "        mask[:] = 0\n",
    "        #\n",
    "        #  The mask here is the mask for the lungs--not the nodes\n",
    "        #  After just the lungs are left, we do another large dilation\n",
    "        #  in order to fill in and out the lung mask \n",
    "        #\n",
    "        for N in good_labels:\n",
    "            mask = mask + np.where(labels==N,1,0)\n",
    "        mask = morphology.dilation(mask,np.ones([10,10])) # one last dilation\n",
    "        \n",
    "        img = img_array[i]\n",
    "        new_size = [512,512]   # we're scaling back up to the original size of the image\n",
    "        img= mask*img          # apply lung mask\n",
    "        #\n",
    "        # renormalizing the masked image (in the mask region)\n",
    "        #\n",
    "        new_mean = np.mean(img[mask>0])  \n",
    "        new_std = np.std(img[mask>0])\n",
    "        #\n",
    "        #  Pulling the background color up to the lower end\n",
    "        #  of the pixel range for the lungs\n",
    "        #\n",
    "        old_min = np.min(img)       # background color\n",
    "        img[img==old_min] = new_mean-1.2*new_std   # resetting backgound color\n",
    "        img = img-new_mean\n",
    "        img = img/new_std\n",
    "        #make image bounding box  (min row, min col, max row, max col)\n",
    "        labels = measure.label(mask)\n",
    "        regions = measure.regionprops(labels)\n",
    "        #\n",
    "        # Finding the global min and max row over all regions\n",
    "        #\n",
    "        min_row = 512\n",
    "        max_row = 0\n",
    "        min_col = 512\n",
    "        max_col = 0\n",
    "        for prop in regions:\n",
    "            B = prop.bbox\n",
    "            if min_row > B[0]:\n",
    "                min_row = B[0]\n",
    "            if min_col > B[1]:\n",
    "                min_col = B[1]\n",
    "            if max_row < B[2]:\n",
    "                max_row = B[2]\n",
    "            if max_col < B[3]:\n",
    "                max_col = B[3]\n",
    "        width = max_col-min_col\n",
    "        height = max_row - min_row\n",
    "        if width > height:\n",
    "            max_row=min_row+width\n",
    "        else:\n",
    "            max_col = min_col+height\n",
    "        # \n",
    "        # cropping the image down to the bounding box for all regions\n",
    "        # (there's probably an skimage command that can do this in one line)\n",
    "        # \n",
    "        img = img[min_row:max_row,min_col:max_col]\n",
    "        mask =  mask[min_row:max_row,min_col:max_col]\n",
    "\n",
    "            # moving range to -1 to 1 to accomodate the resize function\n",
    "        mean = np.mean(img)\n",
    "        img = img - mean\n",
    "        min = np.min(img)\n",
    "        max = np.max(img)\n",
    "        img = img/(max-min)\n",
    "        new_img = resize(img,[512,512])\n",
    "       \n",
    "        new_img = np.expand_dims(new_img,0)\n",
    "        new_img = np.expand_dims(new_img,0)\n",
    "    \n",
    "        imgs_mask_test[i] = model.predict(new_img, verbose=0)[0]\n",
    "\n",
    "\n",
    "        p = np.squeeze(imgs_mask_test)\n",
    "\n",
    "    temp = morphology.binary_opening(p, np.ones([3,3,3]))\n",
    "    labels = measure.label(temp)   \n",
    "    props = measure.regionprops(labels)\n",
    "    for i in range(len(props)):     \n",
    "        world_coordinates = voxel_2_world([props[i]['Centroid'][2], \n",
    "                                           props[i]['Centroid'][1], \n",
    "                                           props[i]['Centroid'][0]], origin, spacing)               \n",
    "\n",
    "        var.append([patient_id,\n",
    "                    world_coordinates[0],\n",
    "                    world_coordinates[1],\n",
    "                    world_coordinates[2],\n",
    "                    props[i]['EquivDiameter']])   "
   ]
  },
  {
   "cell_type": "code",
   "execution_count": 13,
   "metadata": {
    "collapsed": true
   },
   "outputs": [],
   "source": [
    "#var = []\n",
    "#r = Parallel(n_jobs=-1)(delayed(get_pred_result)(patient) for patient in tqdm(sorted(patients[2:4])))"
   ]
  },
  {
   "cell_type": "code",
   "execution_count": 14,
   "metadata": {},
   "outputs": [
    {
     "name": "stderr",
     "output_type": "stream",
     "text": [
      "0it [00:00, ?it/s]\n"
     ]
    }
   ],
   "source": [
    "for i in tqdm(range(len(var))):\n",
    "    empty = empty.append([var[i]],ignore_index=True)"
   ]
  },
  {
   "cell_type": "code",
   "execution_count": 15,
   "metadata": {
    "collapsed": true
   },
   "outputs": [],
   "source": [
    "aa = pd.read_csv(PATH['annotations_train'] + 'annotations.csv')"
   ]
  },
  {
   "cell_type": "code",
   "execution_count": 16,
   "metadata": {},
   "outputs": [
    {
     "data": {
      "text/html": [
       "<div>\n",
       "<style>\n",
       "    .dataframe thead tr:only-child th {\n",
       "        text-align: right;\n",
       "    }\n",
       "\n",
       "    .dataframe thead th {\n",
       "        text-align: left;\n",
       "    }\n",
       "\n",
       "    .dataframe tbody tr th {\n",
       "        vertical-align: top;\n",
       "    }\n",
       "</style>\n",
       "<table border=\"1\" class=\"dataframe\">\n",
       "  <thead>\n",
       "    <tr style=\"text-align: right;\">\n",
       "      <th></th>\n",
       "      <th>seriesuid</th>\n",
       "      <th>coordX</th>\n",
       "      <th>coordY</th>\n",
       "      <th>coordZ</th>\n",
       "      <th>diameter_mm</th>\n",
       "    </tr>\n",
       "  </thead>\n",
       "  <tbody>\n",
       "    <tr>\n",
       "      <th>0</th>\n",
       "      <td>LKDS-00001</td>\n",
       "      <td>-76.449879</td>\n",
       "      <td>-49.540571</td>\n",
       "      <td>229.5</td>\n",
       "      <td>14.180405</td>\n",
       "    </tr>\n",
       "  </tbody>\n",
       "</table>\n",
       "</div>"
      ],
      "text/plain": [
       "    seriesuid     coordX     coordY  coordZ  diameter_mm\n",
       "0  LKDS-00001 -76.449879 -49.540571   229.5    14.180405"
      ]
     },
     "execution_count": 16,
     "metadata": {},
     "output_type": "execute_result"
    }
   ],
   "source": [
    "aa[aa['seriesuid'] == 'LKDS-00001']"
   ]
  },
  {
   "cell_type": "code",
   "execution_count": 17,
   "metadata": {},
   "outputs": [
    {
     "data": {
      "text/plain": [
       "[]"
      ]
     },
     "execution_count": 17,
     "metadata": {},
     "output_type": "execute_result"
    }
   ],
   "source": [
    "var"
   ]
  },
  {
   "cell_type": "code",
   "execution_count": 18,
   "metadata": {},
   "outputs": [
    {
     "data": {
      "text/html": [
       "<div>\n",
       "<style>\n",
       "    .dataframe thead tr:only-child th {\n",
       "        text-align: right;\n",
       "    }\n",
       "\n",
       "    .dataframe thead th {\n",
       "        text-align: left;\n",
       "    }\n",
       "\n",
       "    .dataframe tbody tr th {\n",
       "        vertical-align: top;\n",
       "    }\n",
       "</style>\n",
       "<table border=\"1\" class=\"dataframe\">\n",
       "  <thead>\n",
       "    <tr style=\"text-align: right;\">\n",
       "      <th></th>\n",
       "      <th>seriesuid</th>\n",
       "      <th>coordX</th>\n",
       "      <th>coordY</th>\n",
       "      <th>coordZ</th>\n",
       "      <th>diameter_mm</th>\n",
       "    </tr>\n",
       "  </thead>\n",
       "  <tbody>\n",
       "  </tbody>\n",
       "</table>\n",
       "</div>"
      ],
      "text/plain": [
       "Empty DataFrame\n",
       "Columns: [seriesuid, coordX, coordY, coordZ, diameter_mm]\n",
       "Index: []"
      ]
     },
     "execution_count": 18,
     "metadata": {},
     "output_type": "execute_result"
    }
   ],
   "source": [
    "empty"
   ]
  },
  {
   "cell_type": "code",
   "execution_count": 20,
   "metadata": {},
   "outputs": [],
   "source": [
    "\n",
    "    #temp = morphology.binary_opening(p, np.ones([3,3,3]))\n",
    "labels = measure.label(p)   \n",
    "props = measure.regionprops(labels)\n",
    "for i in range(len(props)):     \n",
    "    world_coordinates = voxel_2_world([props[i]['Centroid'][2], \n",
    "                                           props[i]['Centroid'][1], \n",
    "                                           props[i]['Centroid'][0]], origin, spacing)               \n",
    "\n",
    "    var.append([patient_id,\n",
    "                    world_coordinates[0],\n",
    "                    world_coordinates[1],\n",
    "                    world_coordinates[2],\n",
    "                    props[i]['EquivDiameter']])   "
   ]
  },
  {
   "cell_type": "code",
   "execution_count": 21,
   "metadata": {},
   "outputs": [
    {
     "data": {
      "text/plain": [
       "[]"
      ]
     },
     "execution_count": 21,
     "metadata": {},
     "output_type": "execute_result"
    }
   ],
   "source": [
    "var"
   ]
  },
  {
   "cell_type": "code",
   "execution_count": null,
   "metadata": {
    "collapsed": true
   },
   "outputs": [],
   "source": []
  }
 ],
 "metadata": {
  "kernelspec": {
   "display_name": "Python 2",
   "language": "python",
   "name": "python2"
  },
  "language_info": {
   "codemirror_mode": {
    "name": "ipython",
    "version": 2
   },
   "file_extension": ".py",
   "mimetype": "text/x-python",
   "name": "python",
   "nbconvert_exporter": "python",
   "pygments_lexer": "ipython2",
   "version": "2.7.13"
  }
 },
 "nbformat": 4,
 "nbformat_minor": 2
}
