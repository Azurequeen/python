{
 "cells": [
  {
   "cell_type": "code",
   "execution_count": 1,
   "metadata": {
    "collapsed": false
   },
   "outputs": [
    {
     "name": "stderr",
     "output_type": "stream",
     "text": [
      "Using TensorFlow backend.\n"
     ]
    }
   ],
   "source": [
    "from utils.imports import *"
   ]
  },
  {
   "cell_type": "code",
   "execution_count": 5,
   "metadata": {
    "collapsed": false
   },
   "outputs": [
    {
     "data": {
      "text/plain": [
       "['.DS_Store',\n",
       " '_model_00--0.97.hd5',\n",
       " '_model_01--0.98.hd5',\n",
       " '_model_02--0.98.hd5',\n",
       " '_model_04--0.98.hd5',\n",
       " '_model_05--0.98.hd5',\n",
       " '_model_07--0.98.hd5',\n",
       " '_model_11--0.98.hd5',\n",
       " '_model_12--0.98.hd5',\n",
       " '_model_13--0.98.hd5',\n",
       " '_model_15--0.98.hd5',\n",
       " '_model_17--0.98.hd5',\n",
       " '_model_22--0.98.hd5',\n",
       " '_model_24--0.98.hd5',\n",
       " '_model_25--0.98.hd5',\n",
       " '_model_28--0.98.hd5',\n",
       " '_model_29--0.98.hd5',\n",
       " '_model_34--0.98.hd5',\n",
       " '_model_36--0.98.hd5',\n",
       " '_model_37--0.98.hd5',\n",
       " '_model_best.hd5']"
      ]
     },
     "execution_count": 5,
     "metadata": {},
     "output_type": "execute_result"
    }
   ],
   "source": [
    "os.listdir('/Volumes/solo/ali/Data/model/temp')"
   ]
  },
  {
   "cell_type": "code",
   "execution_count": 2,
   "metadata": {
    "collapsed": false
   },
   "outputs": [
    {
     "data": {
      "text/plain": [
       "{'annotations_test': '/Volumes/solo/ali/csv/test/',\n",
       " 'annotations_train': '/Volumes/solo/ali/csv/train/',\n",
       " 'annotations_val': '/Volumes/solo/ali/csv/val/',\n",
       " 'generated_test': '/Volumes/solo/ali/Data/test_generated/',\n",
       " 'generated_train': '/Volumes/solo/ali/Data/train_generated/',\n",
       " 'generated_val': '/Volumes/solo/ali/Data/val_generated/',\n",
       " 'label_test': '/Volumes/solo/ali/Data/test_pic/_labels/',\n",
       " 'label_train': '/Volumes/solo/ali/Data/train_pic/_labels/',\n",
       " 'label_val': '/Volumes/solo/ali/Data/val_pic/_labels/',\n",
       " 'model_paths': '/Volumes/solo/ali/Data/model/',\n",
       " 'model_paths_temp': '/Volumes/solo/ali/Data/model/temp/',\n",
       " 'pic_test': '/Volumes/solo/ali/Data/test_pic/',\n",
       " 'pic_train': '/Volumes/solo/ali/Data/train_pic/',\n",
       " 'pic_val': '/Volumes/solo/ali/Data/val_pic/',\n",
       " 'src_test': '/Volumes/solo/ali/Data/test/',\n",
       " 'src_train': '/Volumes/solo/ali/Data/train/',\n",
       " 'src_val': '/Volumes/solo/ali/Data/val/'}"
      ]
     },
     "execution_count": 2,
     "metadata": {},
     "output_type": "execute_result"
    }
   ],
   "source": [
    "PATH"
   ]
  },
  {
   "cell_type": "code",
   "execution_count": null,
   "metadata": {
    "collapsed": true
   },
   "outputs": [],
   "source": []
  }
 ],
 "metadata": {
  "kernelspec": {
   "display_name": "Python 2",
   "language": "python",
   "name": "python2"
  },
  "language_info": {
   "codemirror_mode": {
    "name": "ipython",
    "version": 2
   },
   "file_extension": ".py",
   "mimetype": "text/x-python",
   "name": "python",
   "nbconvert_exporter": "python",
   "pygments_lexer": "ipython2",
   "version": "2.7.13"
  }
 },
 "nbformat": 4,
 "nbformat_minor": 2
}
