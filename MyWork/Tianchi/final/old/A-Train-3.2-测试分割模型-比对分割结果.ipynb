{
 "cells": [
  {
   "cell_type": "code",
   "execution_count": 1,
   "metadata": {},
   "outputs": [
    {
     "name": "stderr",
     "output_type": "stream",
     "text": [
      "Using TensorFlow backend.\n"
     ]
    }
   ],
   "source": [
    "from utils.imports import *"
   ]
  },
  {
   "cell_type": "code",
   "execution_count": 2,
   "metadata": {
    "collapsed": true
   },
   "outputs": [],
   "source": [
    "def dice_coef(y_true, y_pred):\n",
    "    y_true_f = K.flatten(y_true)\n",
    "    y_pred_f = K.flatten(y_pred)\n",
    "    intersection = K.sum(y_true_f * y_pred_f)\n",
    "    return (2. * intersection + 1) / (K.sum(y_true_f) + K.sum(y_pred_f) + 1)\n",
    "def dice_coef_loss(y_true, y_pred):\n",
    "    return -dice_coef(y_true, y_pred)\n",
    "\n",
    "def load_train():\n",
    "    folders = [x for x in os.listdir(data_path) if 'subset' in x]\n",
    "    os.chdir(data_path)\n",
    "    patients = []    \n",
    "    for i in folders:\n",
    "        os.chdir(data_path + i)\n",
    "        patient_ids = [x for x in os.listdir(data_path + i) if '.mhd' in x]\n",
    "        for id in patient_ids:\n",
    "            j = '{}/{}'.format(i, id)\n",
    "            patients.append(j)\n",
    "    return patients\n",
    "\n",
    "def get_filename(file_list, case):\n",
    "    for f in file_list:\n",
    "        if case in f:\n",
    "            return(f)\n",
    "        \n",
    "def normalize(image):\n",
    "    MIN_BOUND = -1000.0\n",
    "    MAX_BOUND = 400.0\n",
    "    image = (image - MIN_BOUND) / (MAX_BOUND - MIN_BOUND)\n",
    "    image[image > 1] = 1.\n",
    "    image[image < 0] = 0.\n",
    "    return image\n",
    "\n",
    "def voxel_2_world(voxel_coordinates, origin, spacing):\n",
    "    stretched_voxel_coordinates = voxel_coordinates * spacing\n",
    "    world_coordinates = stretched_voxel_coordinates + origin\n",
    "    return world_coordinates\n",
    "\n",
    "def pred_samples(img_file):\n",
    "    patient_id = img_file.split('/')[-1][:-4]\n",
    "    #读取mhd\n",
    "    itk_img = SimpleITK.ReadImage(data_path + patient) \n",
    "    img_array = SimpleITK.GetArrayFromImage(itk_img) # inde\n",
    "    origin = np.array(itk_img.GetOrigin())      # x,y,z  Origin in world coordinates (mm)\n",
    "    spacing = np.array(itk_img.GetSpacing())\n",
    "    direction = np.array(itk_img.GetDirection())\n",
    "    if round(direction[0]) != 1:\n",
    "        origin[0] *= -1\n",
    "        print patient_id\n",
    "    if round(direction[4]) != 1:\n",
    "        origin[1] *= -1   \n",
    "        print patient_id\n",
    "    \n",
    "    #加上肺部掩膜后进行预测（先加和后加）\n",
    "    if img_array.shape[1] != 512:\n",
    "        print patient_id\n",
    "    else:\n",
    "        img_array_new = np.zeros_like(img_array)\n",
    "        for i in tqdm(range(img_array.shape[0])):\n",
    "            img = img_array[i]\n",
    "            #seg_img, overlap = helpers.get_segmented_lungs(img.copy())\n",
    "            img = normalize(img) * 255        \n",
    "            img = np.expand_dims(img,0)\n",
    "            img = np.expand_dims(img,0)\n",
    "            p = model.predict(img)\n",
    "            #p = p*overlap\n",
    "            img_array_new[i] = p \n",
    "    return img_array_new, patient_id,origin, spacing\n",
    "\n",
    "def get_coord(img_array_new, patient_id,origin, spacing):\n",
    "    var = []\n",
    "#提取连通区域                     \n",
    "    temp = np.squeeze(img_array_new)\n",
    "\n",
    "\n",
    "    temp = skimage.morphology.binary_opening(np.squeeze(temp), np.ones([5,5,5]))\n",
    "\n",
    "    labels = skimage.measure.label(np.squeeze(temp))    \n",
    "    props = skimage.measure.regionprops(labels)\n",
    "    for i in range(len(props)):\n",
    "        #if props[i]['EquivDiameter'] < 100:        \n",
    "        world_coordinates = voxel_2_world([props[i]['Centroid'][2], \n",
    "                                                   props[i]['Centroid'][1], \n",
    "                                                   props[i]['Centroid'][0]], origin, spacing)               \n",
    "        var.append([patient_id,\n",
    "                    world_coordinates[0],\n",
    "                    world_coordinates[1],\n",
    "                    world_coordinates[2],\n",
    "                    props[i]['EquivDiameter']])        \n",
    "    return var"
   ]
  },
  {
   "cell_type": "code",
   "execution_count": 3,
   "metadata": {
    "collapsed": true
   },
   "outputs": [],
   "source": [
    "csv_path = PATH['annotations_train']\n",
    "model_paths = PATH['model_paths']\n",
    "pred_path = PATH['pic_train']\n",
    "data_path = PATH['src_train']"
   ]
  },
  {
   "cell_type": "code",
   "execution_count": 4,
   "metadata": {
    "collapsed": true
   },
   "outputs": [],
   "source": [
    "model_fenge_path=model_paths + 'final_fenge_170607_2.h5'\n",
    "model = load_model(model_fenge_path, custom_objects={'dice_coef_loss': dice_coef_loss, 'dice_coef': dice_coef})"
   ]
  },
  {
   "cell_type": "code",
   "execution_count": 5,
   "metadata": {
    "collapsed": true
   },
   "outputs": [],
   "source": [
    "patients = load_train()\n",
    "anno = pd.read_csv('/Volumes/solo/ali/csv/train/annotations.csv')"
   ]
  },
  {
   "cell_type": "code",
   "execution_count": 6,
   "metadata": {},
   "outputs": [
    {
     "data": {
      "text/plain": [
       "'train_subset00/LKDS-00020.mhd'"
      ]
     },
     "execution_count": 6,
     "metadata": {},
     "output_type": "execute_result"
    }
   ],
   "source": [
    "patient = patients[10]\n",
    "patient"
   ]
  },
  {
   "cell_type": "code",
   "execution_count": 7,
   "metadata": {},
   "outputs": [
    {
     "name": "stderr",
     "output_type": "stream",
     "text": [
      "100%|██████████| 221/221 [00:26<00:00,  8.71it/s]\n"
     ]
    }
   ],
   "source": [
    "#for patient in sorted(patients):\n",
    "img_pred, patient_id, origin, spacing = pred_samples(patient)"
   ]
  },
  {
   "cell_type": "code",
   "execution_count": 8,
   "metadata": {
    "collapsed": true
   },
   "outputs": [],
   "source": [
    "var = get_coord(img_pred, patient_id,origin, spacing)"
   ]
  },
  {
   "cell_type": "code",
   "execution_count": 9,
   "metadata": {
    "collapsed": true
   },
   "outputs": [],
   "source": [
    "var_csv = pd.DataFrame.from_records(var,columns=['seriesuid','coordX','coordY','coordZ','diameter_mm'])"
   ]
  },
  {
   "cell_type": "code",
   "execution_count": 10,
   "metadata": {
    "collapsed": true
   },
   "outputs": [],
   "source": [
    "def cal_dist(var_csv,anno):\n",
    "    dist = []\n",
    "    ratio = []\n",
    "    for index_csv,row_csv in var_csv.iterrows():\n",
    "        mini_ann = anno[anno['seriesuid']==row_csv['seriesuid']] \n",
    "        dist_ = []\n",
    "        ratio_ = []\n",
    "        for index_ann,row_ann in mini_ann.iterrows():        \n",
    "            vec1 = np.array([row_csv['coordX'],row_csv['coordY'],row_csv['coordZ']])\n",
    "            vec2 = np.array([row_ann['coordX'],row_ann['coordY'],row_ann['coordZ']])\n",
    "            ratio_.append(numpy.linalg.norm(vec1 - vec2)/row_ann['diameter_mm'])\n",
    "            dist_.append(numpy.linalg.norm(vec1 - vec2))\n",
    "        ratio.append(np.min(ratio_))\n",
    "        dist.append(np.min(dist_))  \n",
    "    var_csv['ratio'] = ratio\n",
    "    var_csv['dist'] = dist\n",
    "    var_csv = var_csv.sort_values('dist')\n",
    "    return var_csv"
   ]
  },
  {
   "cell_type": "code",
   "execution_count": 11,
   "metadata": {},
   "outputs": [
    {
     "data": {
      "text/html": [
       "<div>\n",
       "<style>\n",
       "    .dataframe thead tr:only-child th {\n",
       "        text-align: right;\n",
       "    }\n",
       "\n",
       "    .dataframe thead th {\n",
       "        text-align: left;\n",
       "    }\n",
       "\n",
       "    .dataframe tbody tr th {\n",
       "        vertical-align: top;\n",
       "    }\n",
       "</style>\n",
       "<table border=\"1\" class=\"dataframe\">\n",
       "  <thead>\n",
       "    <tr style=\"text-align: right;\">\n",
       "      <th></th>\n",
       "      <th>seriesuid</th>\n",
       "      <th>coordX</th>\n",
       "      <th>coordY</th>\n",
       "      <th>coordZ</th>\n",
       "      <th>diameter_mm</th>\n",
       "      <th>ratio</th>\n",
       "      <th>dist</th>\n",
       "    </tr>\n",
       "  </thead>\n",
       "  <tbody>\n",
       "    <tr>\n",
       "      <th>1</th>\n",
       "      <td>LKDS-00020</td>\n",
       "      <td>-70.185698</td>\n",
       "      <td>11.648193</td>\n",
       "      <td>48.339697</td>\n",
       "      <td>30.142794</td>\n",
       "      <td>0.236906</td>\n",
       "      <td>5.301128</td>\n",
       "    </tr>\n",
       "    <tr>\n",
       "      <th>0</th>\n",
       "      <td>LKDS-00020</td>\n",
       "      <td>-21.633460</td>\n",
       "      <td>31.431986</td>\n",
       "      <td>22.869898</td>\n",
       "      <td>13.786430</td>\n",
       "      <td>2.632340</td>\n",
       "      <td>58.902602</td>\n",
       "    </tr>\n",
       "    <tr>\n",
       "      <th>2</th>\n",
       "      <td>LKDS-00020</td>\n",
       "      <td>161.916070</td>\n",
       "      <td>-15.689607</td>\n",
       "      <td>229.444103</td>\n",
       "      <td>9.194581</td>\n",
       "      <td>13.418925</td>\n",
       "      <td>83.544791</td>\n",
       "    </tr>\n",
       "  </tbody>\n",
       "</table>\n",
       "</div>"
      ],
      "text/plain": [
       "    seriesuid      coordX     coordY      coordZ  diameter_mm      ratio  \\\n",
       "1  LKDS-00020  -70.185698  11.648193   48.339697    30.142794   0.236906   \n",
       "0  LKDS-00020  -21.633460  31.431986   22.869898    13.786430   2.632340   \n",
       "2  LKDS-00020  161.916070 -15.689607  229.444103     9.194581  13.418925   \n",
       "\n",
       "        dist  \n",
       "1   5.301128  \n",
       "0  58.902602  \n",
       "2  83.544791  "
      ]
     },
     "execution_count": 11,
     "metadata": {},
     "output_type": "execute_result"
    }
   ],
   "source": [
    "final = cal_dist(var_csv,anno)\n",
    "pd.set_option('display.max_rows', 200)\n",
    "final"
   ]
  },
  {
   "cell_type": "code",
   "execution_count": null,
   "metadata": {
    "collapsed": true
   },
   "outputs": [],
   "source": []
  }
 ],
 "metadata": {
  "kernelspec": {
   "display_name": "Python 2",
   "language": "python",
   "name": "python2"
  },
  "language_info": {
   "codemirror_mode": {
    "name": "ipython",
    "version": 2
   },
   "file_extension": ".py",
   "mimetype": "text/x-python",
   "name": "python",
   "nbconvert_exporter": "python",
   "pygments_lexer": "ipython2",
   "version": "2.7.13"
  }
 },
 "nbformat": 4,
 "nbformat_minor": 2
}
