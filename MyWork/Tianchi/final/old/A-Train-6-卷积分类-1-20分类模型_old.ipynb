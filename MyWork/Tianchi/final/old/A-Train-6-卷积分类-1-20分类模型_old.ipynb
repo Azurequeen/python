{
 "cells": [
  {
   "cell_type": "code",
   "execution_count": 1,
   "metadata": {},
   "outputs": [
    {
     "name": "stderr",
     "output_type": "stream",
     "text": [
      "Using TensorFlow backend.\n"
     ]
    }
   ],
   "source": [
    "from utils.imports import *"
   ]
  },
  {
   "cell_type": "code",
   "execution_count": 2,
   "metadata": {
    "collapsed": true
   },
   "outputs": [],
   "source": [
    "def classifier(input_shape, width, kernel_size, pool_size):\n",
    "    model = Sequential()\n",
    "\n",
    "    model.add(Convolution3D(width*1, kernel_size[0], kernel_size[1], kernel_size[2],\n",
    "                            border_mode='valid',\n",
    "                            input_shape=input_shape))\n",
    "    model.add(Activation('elu'))\n",
    "    model.add(MaxPooling3D(pool_size=pool_size))\n",
    "    #model.add(Dropout(0.2))\n",
    "    model.add(Convolution3D(width*2, kernel_size[0], kernel_size[1], kernel_size[2]))\n",
    "    model.add(Activation('elu'))\n",
    "    model.add(MaxPooling3D(pool_size=pool_size))\n",
    "    #model.add(Dropout(0.2))\n",
    "    model.add(Convolution3D(width*4, kernel_size[0], kernel_size[1], kernel_size[2]))\n",
    "    model.add(Activation('elu'))\n",
    "    model.add(MaxPooling3D(pool_size=pool_size))\n",
    "    model.add(Dropout(0.2))\n",
    "\n",
    "\n",
    "    model.add(Flatten())\n",
    "    model.add(Dense(512))\n",
    "    model.add(Activation('elu'))\n",
    "    model.add(Dropout(0.2))\n",
    "    model.add(Dense(128))\n",
    "    model.add(Activation('elu'))\n",
    "    model.add(Dropout(0.2))\n",
    "    model.add(Dense(2))\n",
    "    model.add(Activation('softmax'))\n",
    "    model.compile(loss='categorical_crossentropy',\n",
    "          #optimizer='adadelta',\n",
    "          optimizer=Adam(lr=1e-4),                  \n",
    "          metrics=['accuracy'])\n",
    "    return model\n"
   ]
  },
  {
   "cell_type": "code",
   "execution_count": 3,
   "metadata": {
    "collapsed": true
   },
   "outputs": [],
   "source": [
    "output_true = PATH['cls_train_cube_30_true']\n",
    "output_false = PATH['cls_train_cube_30_false']\n",
    "model_paths = PATH['model_paths']\n",
    "model_final = PATH['model_final']"
   ]
  },
  {
   "cell_type": "code",
   "execution_count": 4,
   "metadata": {
    "collapsed": true
   },
   "outputs": [],
   "source": [
    "def get_dirfiles(dir):\n",
    "    file_list = []\n",
    "    subset_path = os.listdir(dir)\n",
    "    for _ in range(len(subset_path)):\n",
    "        if subset_path[_] != '.DS_Store':\n",
    "            if '.npy' in subset_path[_]:\n",
    "                file_list.append(dir + subset_path[_])\n",
    "    return file_list\n",
    "\n",
    "def train_generator(output_true,output_false):\n",
    "    file_list_true = get_dirfiles(output_true)[0:60]\n",
    "    file_list_false = get_dirfiles(output_false)[0:60]\n",
    "    \n",
    "    file_list_true = shuffle(file_list_true)\n",
    "    file_list_false = shuffle(file_list_false)\n",
    "    \n",
    "    nb_true = len(file_list_true) + len(file_list_false)\n",
    "    sample = np.zeros([nb_true,36,36,36])\n",
    "    labels = np.zeros([nb_true,2])\n",
    "    for i in tqdm(range(len(file_list_true))):       \n",
    "        cc= np.load(file_list_true[i])\n",
    "        sample[i] = cc\n",
    "        labels[i] = [0.,1.]\n",
    "    for j in tqdm(range(len(file_list_false))):\n",
    "        bb= np.load(file_list_false[j])\n",
    "        sample[j+len(file_list_true)] = bb \n",
    "        labels[j+len(file_list_true)] = [1.,0.]\n",
    "    sample = np.expand_dims(sample, axis=1)        \n",
    "    return sample,labels\n",
    "\n",
    "def valid_generator(output_true,output_false):\n",
    "    file_list_true = get_dirfiles(output_true)[-15:]\n",
    "    file_list_false = get_dirfiles(output_false)[-15:]\n",
    "    \n",
    "    file_list_true = shuffle(file_list_true)\n",
    "    file_list_false = shuffle(file_list_false)\n",
    "\n",
    "    nb_true = len(file_list_true) + len(file_list_false)\n",
    "    sample = np.zeros([nb_true,36,36,36])\n",
    "    labels = np.zeros([nb_true,2])\n",
    "  \n",
    "    for i in tqdm(range(len(file_list_true))):       \n",
    "        cc= np.load(file_list_true[i])\n",
    "        sample[i] = cc\n",
    "        labels[i] = [0.,1.]\n",
    "    for j in tqdm(range(len(file_list_false))):\n",
    "        bb= np.load(file_list_false[j])\n",
    "        sample[j+len(file_list_true)] = bb \n",
    "        labels[j+len(file_list_true)] = [1.,0.]\n",
    "    sample = np.expand_dims(sample, axis=1)        \n",
    "    return sample,labels\n",
    "\n",
    "\n",
    "def fenlei_fit(name, load_check = False,batch_size=2, epochs=100,check_name = None):\n",
    "\n",
    "    t = time.time()\n",
    "    callbacks = [EarlyStopping(monitor='val_loss', patience = 30, verbose = 1),\n",
    "                 ModelCheckpoint((model_paths + '{}.h5').format(name),\n",
    "                                 monitor='val_loss',\n",
    "                                 verbose = 0,\n",
    "                                 save_best_only = True)]\n",
    "    if load_check:\n",
    "        check_model = (model_paths + '{}.h5').format(check_name)\n",
    "        model = load_model(check_model)\n",
    "    else:\n",
    "        #model = model_20()\n",
    "        #model = preds3d_dense(48)\n",
    "        model = classifier((1, 36, 36, 36), 128 ,(3, 3, 3), (2, 2, 2))\n",
    "    x,y = train_generator(output_true+'12/',output_false+'12/')\n",
    "    model.fit(x=x, y=y, batch_size=batch_size, epochs=epochs,\n",
    "              validation_data=valid_generator(output_true+'12/',output_false+'12/'),verbose=1, callbacks=callbacks, shuffle=True)\n",
    "    \n",
    " \n",
    "    return model"
   ]
  },
  {
   "cell_type": "code",
   "execution_count": 5,
   "metadata": {
    "scrolled": false
   },
   "outputs": [
    {
     "name": "stderr",
     "output_type": "stream",
     "text": [
      "100%|██████████| 60/60 [00:00<00:00, 1873.89it/s]\n",
      "100%|██████████| 60/60 [00:00<00:00, 1831.89it/s]\n",
      "100%|██████████| 15/15 [00:00<00:00, 1350.24it/s]\n",
      "100%|██████████| 15/15 [00:00<00:00, 1796.17it/s]\n"
     ]
    },
    {
     "name": "stdout",
     "output_type": "stream",
     "text": [
      "Train on 120 samples, validate on 30 samples\n",
      "Epoch 1/100\n",
      "120/120 [==============================] - 7s - loss: 1.1276 - acc: 0.5167 - val_loss: 1.1869 - val_acc: 0.5000\n",
      "Epoch 2/100\n",
      "120/120 [==============================] - 5s - loss: 0.9336 - acc: 0.5167 - val_loss: 0.6815 - val_acc: 0.5667\n",
      "Epoch 3/100\n",
      "120/120 [==============================] - 4s - loss: 0.8835 - acc: 0.5583 - val_loss: 0.7459 - val_acc: 0.5000\n",
      "Epoch 4/100\n",
      "120/120 [==============================] - 4s - loss: 0.8374 - acc: 0.4750 - val_loss: 0.7445 - val_acc: 0.4667\n",
      "Epoch 5/100\n",
      "120/120 [==============================] - 4s - loss: 0.8561 - acc: 0.5500 - val_loss: 0.6894 - val_acc: 0.4667\n",
      "Epoch 6/100\n",
      "120/120 [==============================] - 4s - loss: 0.6802 - acc: 0.6167 - val_loss: 0.7458 - val_acc: 0.5000\n",
      "Epoch 7/100\n",
      "120/120 [==============================] - 4s - loss: 0.7943 - acc: 0.5583 - val_loss: 0.6899 - val_acc: 0.6333\n",
      "Epoch 8/100\n",
      "120/120 [==============================] - 4s - loss: 0.6859 - acc: 0.5750 - val_loss: 0.6853 - val_acc: 0.4000\n",
      "Epoch 9/100\n",
      "120/120 [==============================] - 4s - loss: 0.5569 - acc: 0.7083 - val_loss: 0.7161 - val_acc: 0.5667\n",
      "Epoch 10/100\n",
      "120/120 [==============================] - 4s - loss: 0.6083 - acc: 0.7083 - val_loss: 0.9946 - val_acc: 0.5000\n",
      "Epoch 11/100\n",
      "120/120 [==============================] - 5s - loss: 0.5093 - acc: 0.7667 - val_loss: 1.1526 - val_acc: 0.5000\n",
      "Epoch 12/100\n",
      "120/120 [==============================] - 4s - loss: 0.4858 - acc: 0.7333 - val_loss: 0.8020 - val_acc: 0.4333\n",
      "Epoch 13/100\n",
      "120/120 [==============================] - 4s - loss: 0.4683 - acc: 0.8250 - val_loss: 0.7275 - val_acc: 0.5000\n",
      "Epoch 14/100\n",
      "120/120 [==============================] - 5s - loss: 0.4470 - acc: 0.8000 - val_loss: 0.9205 - val_acc: 0.5000\n",
      "Epoch 15/100\n",
      "120/120 [==============================] - 4s - loss: 0.3481 - acc: 0.8667 - val_loss: 0.8577 - val_acc: 0.3667\n",
      "Epoch 16/100\n",
      "120/120 [==============================] - 4s - loss: 0.3162 - acc: 0.8583 - val_loss: 0.7911 - val_acc: 0.5000\n",
      "Epoch 17/100\n",
      "120/120 [==============================] - 4s - loss: 0.2612 - acc: 0.8833 - val_loss: 0.8135 - val_acc: 0.5667\n",
      "Epoch 18/100\n",
      "120/120 [==============================] - 4s - loss: 0.2012 - acc: 0.9167 - val_loss: 1.1490 - val_acc: 0.4000\n",
      "Epoch 19/100\n",
      "120/120 [==============================] - 4s - loss: 0.2061 - acc: 0.9083 - val_loss: 1.1441 - val_acc: 0.4000\n",
      "Epoch 20/100\n",
      "120/120 [==============================] - 4s - loss: 0.1881 - acc: 0.9250 - val_loss: 0.9375 - val_acc: 0.5333\n",
      "Epoch 21/100\n",
      "120/120 [==============================] - 4s - loss: 0.1950 - acc: 0.9333 - val_loss: 1.0030 - val_acc: 0.6000\n",
      "Epoch 22/100\n",
      "120/120 [==============================] - 4s - loss: 0.1510 - acc: 0.9250 - val_loss: 1.0653 - val_acc: 0.5333\n",
      "Epoch 23/100\n",
      "120/120 [==============================] - 4s - loss: 0.0852 - acc: 0.9750 - val_loss: 1.4058 - val_acc: 0.4000\n",
      "Epoch 24/100\n",
      "120/120 [==============================] - 4s - loss: 0.1190 - acc: 0.9417 - val_loss: 1.2242 - val_acc: 0.5667\n",
      "Epoch 25/100\n",
      "120/120 [==============================] - 4s - loss: 0.0969 - acc: 0.9750 - val_loss: 1.5030 - val_acc: 0.4000\n",
      "Epoch 26/100\n",
      "120/120 [==============================] - 4s - loss: 0.0767 - acc: 0.9667 - val_loss: 1.6223 - val_acc: 0.3333\n",
      "Epoch 27/100\n",
      "120/120 [==============================] - 4s - loss: 0.0514 - acc: 0.9917 - val_loss: 1.7372 - val_acc: 0.3333\n",
      "Epoch 28/100\n",
      "120/120 [==============================] - 4s - loss: 0.0505 - acc: 0.9917 - val_loss: 1.6820 - val_acc: 0.4333\n",
      "Epoch 29/100\n",
      "120/120 [==============================] - 4s - loss: 0.0951 - acc: 0.9750 - val_loss: 1.6538 - val_acc: 0.4000\n",
      "Epoch 30/100\n",
      "120/120 [==============================] - 4s - loss: 0.0430 - acc: 0.9917 - val_loss: 1.6315 - val_acc: 0.5667\n",
      "Epoch 31/100\n",
      "120/120 [==============================] - 6s - loss: 0.0264 - acc: 1.0000 - val_loss: 1.8788 - val_acc: 0.4000\n",
      "Epoch 32/100\n",
      "120/120 [==============================] - 4s - loss: 0.0205 - acc: 1.0000 - val_loss: 2.3137 - val_acc: 0.3333\n",
      "Epoch 33/100\n",
      "120/120 [==============================] - 4s - loss: 0.0201 - acc: 1.0000 - val_loss: 2.0503 - val_acc: 0.3333\n",
      "Epoch 00032: early stopping\n"
     ]
    },
    {
     "data": {
      "text/plain": [
       "<keras.models.Sequential at 0x156020090>"
      ]
     },
     "execution_count": 5,
     "metadata": {},
     "output_type": "execute_result"
    }
   ],
   "source": [
    "fenlei_fit('Fenge_36_36_36_0621_4', load_check = False, batch_size=2, epochs=100, check_name = 'Fenge_36_36_36_0621')"
   ]
  },
  {
   "cell_type": "code",
   "execution_count": 6,
   "metadata": {
    "collapsed": true
   },
   "outputs": [],
   "source": [
    "file_list_true = get_dirfiles(output_true+'12/')\n",
    "file_list_false = get_dirfiles(output_false+'12/')"
   ]
  },
  {
   "cell_type": "code",
   "execution_count": 7,
   "metadata": {
    "collapsed": true
   },
   "outputs": [],
   "source": [
    "#model_pred = classifier((1, 36, 36, 36), (3, 3, 3), (2, 2, 2))\n",
    "model_pred = load_model(model_paths + 'Fenge_36_36_36_0621_4.h5')"
   ]
  },
  {
   "cell_type": "code",
   "execution_count": 8,
   "metadata": {},
   "outputs": [
    {
     "name": "stdout",
     "output_type": "stream",
     "text": [
      "0.0\n"
     ]
    }
   ],
   "source": [
    "cc = []\n",
    "for i in file_list_false[0:800]:\n",
    "    a=np.load(i)\n",
    "    a=np.expand_dims(a,0)\n",
    "    a=np.expand_dims(a,0)\n",
    "    cc.append(model_pred.predict(a))\n",
    "count = 0\n",
    "for i in cc:\n",
    "    if i[0][0] > 0.9:\n",
    "        count += 1\n",
    "print count*1.0/len(cc)"
   ]
  },
  {
   "cell_type": "code",
   "execution_count": 9,
   "metadata": {},
   "outputs": [
    {
     "data": {
      "text/plain": [
       "[array([[ 0.55378079,  0.44621924]], dtype=float32),\n",
       " array([[ 0.56943572,  0.43056428]], dtype=float32),\n",
       " array([[ 0.42106602,  0.57893401]], dtype=float32),\n",
       " array([[ 0.42034233,  0.57965767]], dtype=float32),\n",
       " array([[ 0.49834985,  0.50165021]], dtype=float32),\n",
       " array([[ 0.49935961,  0.50064039]], dtype=float32),\n",
       " array([[ 0.54745078,  0.45254919]], dtype=float32),\n",
       " array([[ 0.54693717,  0.45306289]], dtype=float32),\n",
       " array([[ 0.45910752,  0.54089242]], dtype=float32),\n",
       " array([[ 0.43996769,  0.56003225]], dtype=float32),\n",
       " array([[ 0.56696194,  0.43303809]], dtype=float32),\n",
       " array([[ 0.55352014,  0.44647986]], dtype=float32),\n",
       " array([[ 0.51186824,  0.48813179]], dtype=float32),\n",
       " array([[ 0.5165236 ,  0.48347637]], dtype=float32),\n",
       " array([[ 0.47909173,  0.52090824]], dtype=float32),\n",
       " array([[ 0.47387573,  0.52612424]], dtype=float32),\n",
       " array([[ 0.56686366,  0.43313634]], dtype=float32),\n",
       " array([[ 0.56773084,  0.43226919]], dtype=float32),\n",
       " array([[ 0.56983125,  0.43016875]], dtype=float32),\n",
       " array([[ 0.58982772,  0.41017228]], dtype=float32),\n",
       " array([[ 0.52611005,  0.47388995]], dtype=float32),\n",
       " array([[ 0.53770614,  0.46229392]], dtype=float32),\n",
       " array([[ 0.46474016,  0.53525984]], dtype=float32),\n",
       " array([[ 0.45568252,  0.54431742]], dtype=float32),\n",
       " array([[ 0.5364899 ,  0.46351013]], dtype=float32),\n",
       " array([[ 0.54497063,  0.45502928]], dtype=float32),\n",
       " array([[ 0.52325225,  0.47674775]], dtype=float32),\n",
       " array([[ 0.52621877,  0.4737812 ]], dtype=float32),\n",
       " array([[ 0.48518309,  0.514817  ]], dtype=float32),\n",
       " array([[ 0.48957354,  0.5104264 ]], dtype=float32),\n",
       " array([[ 0.41937342,  0.58062667]], dtype=float32),\n",
       " array([[ 0.41245496,  0.58754504]], dtype=float32),\n",
       " array([[ 0.50756067,  0.49243933]], dtype=float32),\n",
       " array([[ 0.50756067,  0.49243933]], dtype=float32),\n",
       " array([[ 0.58263272,  0.41736725]], dtype=float32),\n",
       " array([[ 0.57274437,  0.42725563]], dtype=float32),\n",
       " array([[ 0.56558788,  0.43441215]], dtype=float32),\n",
       " array([[ 0.56386542,  0.43613461]], dtype=float32),\n",
       " array([[ 0.40588719,  0.59411281]], dtype=float32),\n",
       " array([[ 0.42269868,  0.57730138]], dtype=float32),\n",
       " array([[ 0.63264376,  0.3673563 ]], dtype=float32),\n",
       " array([[ 0.62820202,  0.37179801]], dtype=float32),\n",
       " array([[ 0.54582131,  0.45417869]], dtype=float32),\n",
       " array([[ 0.50379062,  0.49620941]], dtype=float32),\n",
       " array([[ 0.4332391,  0.5667609]], dtype=float32),\n",
       " array([[ 0.43901196,  0.56098807]], dtype=float32),\n",
       " array([[ 0.43657506,  0.563425  ]], dtype=float32),\n",
       " array([[ 0.42625722,  0.57374287]], dtype=float32),\n",
       " array([[ 0.4064199 ,  0.59358007]], dtype=float32),\n",
       " array([[ 0.4227055 ,  0.57729453]], dtype=float32),\n",
       " array([[ 0.58579689,  0.41420308]], dtype=float32),\n",
       " array([[ 0.58898062,  0.41101944]], dtype=float32),\n",
       " array([[ 0.57940346,  0.42059651]], dtype=float32),\n",
       " array([[ 0.5683406 ,  0.43165943]], dtype=float32),\n",
       " array([[ 0.47551635,  0.52448362]], dtype=float32),\n",
       " array([[ 0.44483721,  0.55516279]], dtype=float32),\n",
       " array([[ 0.43702549,  0.56297457]], dtype=float32),\n",
       " array([[ 0.41948229,  0.58051771]], dtype=float32),\n",
       " array([[ 0.34381089,  0.65618902]], dtype=float32),\n",
       " array([[ 0.34301308,  0.65698689]], dtype=float32),\n",
       " array([[ 0.34817699,  0.65182298]], dtype=float32),\n",
       " array([[ 0.31798017,  0.68201983]], dtype=float32),\n",
       " array([[ 0.53225368,  0.46774626]], dtype=float32),\n",
       " array([[ 0.5375827 ,  0.46241724]], dtype=float32),\n",
       " array([[ 0.54877239,  0.45122758]], dtype=float32),\n",
       " array([[ 0.54879624,  0.45120373]], dtype=float32),\n",
       " array([[ 0.54879612,  0.45120388]], dtype=float32),\n",
       " array([[ 0.55007309,  0.44992694]], dtype=float32),\n",
       " array([[ 0.37855664,  0.62144339]], dtype=float32),\n",
       " array([[ 0.37125322,  0.62874681]], dtype=float32),\n",
       " array([[ 0.5184409 ,  0.48155916]], dtype=float32),\n",
       " array([[ 0.51553184,  0.48446813]], dtype=float32),\n",
       " array([[ 0.39376792,  0.60623211]], dtype=float32),\n",
       " array([[ 0.40879893,  0.59120101]], dtype=float32),\n",
       " array([[ 0.48505914,  0.51494086]], dtype=float32),\n",
       " array([[ 0.47157043,  0.52842957]], dtype=float32)]"
      ]
     },
     "execution_count": 9,
     "metadata": {},
     "output_type": "execute_result"
    }
   ],
   "source": [
    "cc"
   ]
  },
  {
   "cell_type": "code",
   "execution_count": 10,
   "metadata": {
    "collapsed": true
   },
   "outputs": [],
   "source": [
    "cc = []\n",
    "for i in file_list_true[0:800]:\n",
    "    a=np.load(i)\n",
    "    a=np.expand_dims(a,0)\n",
    "    a=np.expand_dims(a,0)\n",
    "    cc.append(model_pred.predict(a))\n",
    "count = 0\n"
   ]
  },
  {
   "cell_type": "code",
   "execution_count": 11,
   "metadata": {},
   "outputs": [
    {
     "name": "stdout",
     "output_type": "stream",
     "text": [
      "0.0\n"
     ]
    }
   ],
   "source": [
    "for i in cc:\n",
    "    if i[0][1] > 0.9:\n",
    "        count += 1\n",
    "print count*1.0/len(cc)"
   ]
  },
  {
   "cell_type": "code",
   "execution_count": 12,
   "metadata": {},
   "outputs": [
    {
     "data": {
      "text/plain": [
       "[array([[ 0.40309134,  0.59690863]], dtype=float32),\n",
       " array([[ 0.3538256 ,  0.64617443]], dtype=float32),\n",
       " array([[ 0.38276964,  0.61723036]], dtype=float32),\n",
       " array([[ 0.40261695,  0.59738302]], dtype=float32),\n",
       " array([[ 0.48044276,  0.51955724]], dtype=float32),\n",
       " array([[ 0.42967317,  0.57032675]], dtype=float32),\n",
       " array([[ 0.51467663,  0.48532334]], dtype=float32),\n",
       " array([[ 0.50625467,  0.4937453 ]], dtype=float32),\n",
       " array([[ 0.35383281,  0.64616716]], dtype=float32),\n",
       " array([[ 0.37710533,  0.62289464]], dtype=float32),\n",
       " array([[ 0.47482833,  0.52517164]], dtype=float32),\n",
       " array([[ 0.48120776,  0.51879221]], dtype=float32),\n",
       " array([[ 0.34959239,  0.65040761]], dtype=float32),\n",
       " array([[ 0.34207135,  0.65792865]], dtype=float32),\n",
       " array([[ 0.50370282,  0.49629715]], dtype=float32),\n",
       " array([[ 0.51442021,  0.48557982]], dtype=float32),\n",
       " array([[ 0.32700127,  0.67299873]], dtype=float32),\n",
       " array([[ 0.36964968,  0.63035029]], dtype=float32),\n",
       " array([[ 0.4000735 ,  0.59992653]], dtype=float32),\n",
       " array([[ 0.38075975,  0.61924022]], dtype=float32),\n",
       " array([[ 0.56262946,  0.43737051]], dtype=float32),\n",
       " array([[ 0.58452129,  0.41547865]], dtype=float32),\n",
       " array([[ 0.36025244,  0.63974756]], dtype=float32),\n",
       " array([[ 0.37925512,  0.62074494]], dtype=float32),\n",
       " array([[ 0.52324575,  0.47675431]], dtype=float32),\n",
       " array([[ 0.52523255,  0.47476739]], dtype=float32),\n",
       " array([[ 0.30072746,  0.69927251]], dtype=float32),\n",
       " array([[ 0.27725536,  0.72274464]], dtype=float32),\n",
       " array([[ 0.55426455,  0.44573542]], dtype=float32),\n",
       " array([[ 0.55569512,  0.44430494]], dtype=float32),\n",
       " array([[ 0.41487536,  0.58512467]], dtype=float32),\n",
       " array([[ 0.40766278,  0.59233719]], dtype=float32),\n",
       " array([[ 0.36406681,  0.63593322]], dtype=float32),\n",
       " array([[ 0.36861929,  0.63138074]], dtype=float32),\n",
       " array([[ 0.48289394,  0.51710612]], dtype=float32),\n",
       " array([[ 0.49145618,  0.50854379]], dtype=float32),\n",
       " array([[ 0.45454895,  0.54545105]], dtype=float32),\n",
       " array([[ 0.45578355,  0.54421645]], dtype=float32),\n",
       " array([[ 0.58280438,  0.41719556]], dtype=float32),\n",
       " array([[ 0.5814532,  0.4185468]], dtype=float32),\n",
       " array([[ 0.3877179,  0.6122821]], dtype=float32),\n",
       " array([[ 0.38668463,  0.61331534]], dtype=float32),\n",
       " array([[ 0.40815467,  0.59184527]], dtype=float32),\n",
       " array([[ 0.41864252,  0.58135748]], dtype=float32),\n",
       " array([[ 0.40593192,  0.59406805]], dtype=float32),\n",
       " array([[ 0.40185615,  0.59814382]], dtype=float32),\n",
       " array([[ 0.52223337,  0.47776666]], dtype=float32),\n",
       " array([[ 0.52434546,  0.47565445]], dtype=float32),\n",
       " array([[ 0.27538705,  0.72461295]], dtype=float32),\n",
       " array([[ 0.28252494,  0.71747506]], dtype=float32),\n",
       " array([[ 0.50365555,  0.49634442]], dtype=float32),\n",
       " array([[ 0.50972706,  0.49027294]], dtype=float32),\n",
       " array([[ 0.29903552,  0.70096445]], dtype=float32),\n",
       " array([[ 0.33228678,  0.66771322]], dtype=float32),\n",
       " array([[ 0.31566304,  0.68433696]], dtype=float32),\n",
       " array([[ 0.33390731,  0.66609275]], dtype=float32),\n",
       " array([[ 0.51411885,  0.48588121]], dtype=float32),\n",
       " array([[ 0.50397038,  0.49602965]], dtype=float32),\n",
       " array([[ 0.51257712,  0.48742297]], dtype=float32),\n",
       " array([[ 0.5060007 ,  0.49399927]], dtype=float32),\n",
       " array([[ 0.5946067 ,  0.40539327]], dtype=float32),\n",
       " array([[ 0.57773125,  0.42226881]], dtype=float32),\n",
       " array([[ 0.36692283,  0.63307714]], dtype=float32),\n",
       " array([[ 0.34135783,  0.65864217]], dtype=float32),\n",
       " array([[ 0.55555636,  0.44444361]], dtype=float32),\n",
       " array([[ 0.54688656,  0.45311347]], dtype=float32),\n",
       " array([[ 0.38171822,  0.61828172]], dtype=float32),\n",
       " array([[ 0.42514306,  0.57485694]], dtype=float32),\n",
       " array([[ 0.35960329,  0.64039671]], dtype=float32),\n",
       " array([[ 0.32260996,  0.67739004]], dtype=float32),\n",
       " array([[ 0.40589422,  0.59410584]], dtype=float32),\n",
       " array([[ 0.40301019,  0.59698981]], dtype=float32),\n",
       " array([[ 0.51485389,  0.48514616]], dtype=float32),\n",
       " array([[ 0.5067848 ,  0.49321517]], dtype=float32),\n",
       " array([[ 0.50432706,  0.49567297]], dtype=float32),\n",
       " array([[ 0.49777469,  0.50222522]], dtype=float32)]"
      ]
     },
     "execution_count": 12,
     "metadata": {},
     "output_type": "execute_result"
    }
   ],
   "source": [
    "cc"
   ]
  },
  {
   "cell_type": "code",
   "execution_count": 13,
   "metadata": {},
   "outputs": [
    {
     "data": {
      "text/plain": [
       "76"
      ]
     },
     "execution_count": 13,
     "metadata": {},
     "output_type": "execute_result"
    }
   ],
   "source": [
    "len(file_list_true)"
   ]
  },
  {
   "cell_type": "code",
   "execution_count": 14,
   "metadata": {},
   "outputs": [
    {
     "data": {
      "text/plain": [
       "76"
      ]
     },
     "execution_count": 14,
     "metadata": {},
     "output_type": "execute_result"
    }
   ],
   "source": [
    "len(file_list_false)"
   ]
  },
  {
   "cell_type": "code",
   "execution_count": null,
   "metadata": {
    "collapsed": true
   },
   "outputs": [],
   "source": []
  }
 ],
 "metadata": {
  "kernelspec": {
   "display_name": "Python 2",
   "language": "python",
   "name": "python2"
  },
  "language_info": {
   "codemirror_mode": {
    "name": "ipython",
    "version": 2
   },
   "file_extension": ".py",
   "mimetype": "text/x-python",
   "name": "python",
   "nbconvert_exporter": "python",
   "pygments_lexer": "ipython2",
   "version": "2.7.13"
  }
 },
 "nbformat": 4,
 "nbformat_minor": 2
}
