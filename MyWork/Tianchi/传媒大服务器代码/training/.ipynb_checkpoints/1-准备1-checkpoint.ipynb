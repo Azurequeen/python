{
 "cells": [
  {
   "cell_type": "code",
   "execution_count": null,
   "metadata": {
    "collapsed": true
   },
   "outputs": [],
   "source": []
  },
  {
   "cell_type": "code",
   "execution_count": 1,
   "metadata": {},
   "outputs": [
    {
     "ename": "FileNotFoundError",
     "evalue": "[WinError 3] 系统找不到指定的路径。: '/Volumes/solo/ali/csv/train/'",
     "output_type": "error",
     "traceback": [
      "\u001b[1;31m---------------------------------------------------------------------------\u001b[0m",
      "\u001b[1;31mFileNotFoundError\u001b[0m                         Traceback (most recent call last)",
      "\u001b[1;32m<ipython-input-1-c2b4958dcb27>\u001b[0m in \u001b[0;36m<module>\u001b[1;34m()\u001b[0m\n\u001b[1;32m----> 1\u001b[1;33m \u001b[1;32mfrom\u001b[0m \u001b[0mutils\u001b[0m\u001b[1;33m.\u001b[0m\u001b[0mimports\u001b[0m \u001b[1;32mimport\u001b[0m \u001b[1;33m*\u001b[0m\u001b[1;33m\u001b[0m\u001b[0m\n\u001b[0m",
      "\u001b[1;32m~\\solo\\training\\utils\\imports.py\u001b[0m in \u001b[0;36m<module>\u001b[1;34m()\u001b[0m\n\u001b[1;32m----> 1\u001b[1;33m \u001b[1;32mfrom\u001b[0m \u001b[0mutils\u001b[0m\u001b[1;33m.\u001b[0m\u001b[0mpaths\u001b[0m \u001b[1;32mimport\u001b[0m \u001b[1;33m*\u001b[0m\u001b[1;33m\u001b[0m\u001b[0m\n\u001b[0m\u001b[0;32m      2\u001b[0m \u001b[1;32mfrom\u001b[0m \u001b[0mutils\u001b[0m\u001b[1;33m.\u001b[0m\u001b[0mconfig_training\u001b[0m \u001b[1;32mimport\u001b[0m \u001b[0mconfig\u001b[0m\u001b[1;33m\u001b[0m\u001b[0m\n\u001b[0;32m      3\u001b[0m \u001b[1;33m\u001b[0m\u001b[0m\n\u001b[0;32m      4\u001b[0m \u001b[1;32mimport\u001b[0m \u001b[0mSimpleITK\u001b[0m  \u001b[1;31m# conda install -c https://conda.anaconda.org/simpleitk SimpleITK\u001b[0m\u001b[1;33m\u001b[0m\u001b[0m\n\u001b[0;32m      5\u001b[0m \u001b[1;32mimport\u001b[0m \u001b[0mSimpleITK\u001b[0m \u001b[1;32mas\u001b[0m \u001b[0msitk\u001b[0m\u001b[1;33m\u001b[0m\u001b[0m\n",
      "\u001b[1;32m~\\solo\\training\\utils\\paths.py\u001b[0m in \u001b[0;36m<module>\u001b[1;34m()\u001b[0m\n\u001b[0;32m     51\u001b[0m \u001b[1;32mfor\u001b[0m \u001b[0mi\u001b[0m \u001b[1;32min\u001b[0m \u001b[0mPATH\u001b[0m\u001b[1;33m:\u001b[0m\u001b[1;33m\u001b[0m\u001b[0m\n\u001b[0;32m     52\u001b[0m     \u001b[1;32mif\u001b[0m \u001b[1;32mnot\u001b[0m \u001b[0mos\u001b[0m\u001b[1;33m.\u001b[0m\u001b[0mpath\u001b[0m\u001b[1;33m.\u001b[0m\u001b[0mexists\u001b[0m\u001b[1;33m(\u001b[0m\u001b[0mPATH\u001b[0m\u001b[1;33m[\u001b[0m\u001b[0mi\u001b[0m\u001b[1;33m]\u001b[0m\u001b[1;33m)\u001b[0m\u001b[1;33m:\u001b[0m\u001b[1;33m\u001b[0m\u001b[0m\n\u001b[1;32m---> 53\u001b[1;33m         \u001b[0mos\u001b[0m\u001b[1;33m.\u001b[0m\u001b[0mmkdir\u001b[0m\u001b[1;33m(\u001b[0m\u001b[0mPATH\u001b[0m\u001b[1;33m[\u001b[0m\u001b[0mi\u001b[0m\u001b[1;33m]\u001b[0m\u001b[1;33m)\u001b[0m\u001b[1;33m\u001b[0m\u001b[0m\n\u001b[0m\u001b[0;32m     54\u001b[0m         \u001b[0mprint\u001b[0m\u001b[1;33m(\u001b[0m\u001b[0mPATH\u001b[0m\u001b[1;33m[\u001b[0m\u001b[0mi\u001b[0m\u001b[1;33m]\u001b[0m\u001b[1;33m,\u001b[0m\u001b[1;34mu'maked'\u001b[0m\u001b[1;33m)\u001b[0m\u001b[1;33m\u001b[0m\u001b[0m\n\u001b[0;32m     55\u001b[0m \u001b[1;33m\u001b[0m\u001b[0m\n",
      "\u001b[1;31mFileNotFoundError\u001b[0m: [WinError 3] 系统找不到指定的路径。: '/Volumes/solo/ali/csv/train/'"
     ]
    }
   ],
   "source": [
    "from utils.imports import *"
   ]
  },
  {
   "cell_type": "code",
   "execution_count": null,
   "metadata": {
    "collapsed": true
   },
   "outputs": [],
   "source": [
    "def load_train(data_path):\n",
    "    folders = [x for x in os.listdir(data_path) if 'subset' in x]\n",
    "    os.chdir(data_path)\n",
    "    patients = []    \n",
    "    for i in folders:\n",
    "        os.chdir(data_path + i)\n",
    "        patient_ids = [x for x in os.listdir(data_path + i) if '.mhd' in x]\n",
    "        for id in patient_ids:\n",
    "            j = '{}/{}'.format(i, id)\n",
    "            patients.append(j)\n",
    "    return patients\n",
    "\n",
    "def get_filename(file_list, case):\n",
    "    for f in file_list:\n",
    "        if case in f:\n",
    "            return(f)\n",
    "\n",
    "def resample(imgs, spacing, new_spacing,order=2):\n",
    "    if len(imgs.shape)==3:\n",
    "        new_shape = np.round(imgs.shape * spacing / new_spacing)\n",
    "        true_spacing = spacing * imgs.shape / new_shape\n",
    "        resize_factor = new_shape / imgs.shape\n",
    "        imgs = zoom(imgs, resize_factor, mode = 'nearest',order=order)\n",
    "        return imgs, true_spacing\n",
    "    elif len(imgs.shape)==4:\n",
    "        n = imgs.shape[-1]\n",
    "        newimg = []\n",
    "        for i in range(n):\n",
    "            slice = imgs[:,:,:,i]\n",
    "            newslice,true_spacing = resample(slice,spacing,new_spacing)\n",
    "            newimg.append(newslice)\n",
    "        newimg=np.transpose(np.array(newimg),[1,2,3,0])\n",
    "        return newimg,true_spacing\n",
    "    else:\n",
    "        raise ValueError('wrong shape')\n",
    "        \n",
    "def worldToVoxelCoord(worldCoord, origin, spacing):\n",
    "     \n",
    "    stretchedVoxelCoord = np.absolute(worldCoord - origin)\n",
    "    voxelCoord = stretchedVoxelCoord / spacing\n",
    "    return voxelCoord\n",
    "\n",
    "def load_itk_image(filename):\n",
    "    with open(filename) as f:\n",
    "        contents = f.readlines()\n",
    "        line = [k for k in contents if k.startswith('TransformMatrix')][0]\n",
    "        transformM = np.array(line.split(' = ')[1].split(' ')).astype('float')\n",
    "        transformM = np.round(transformM)\n",
    "        if np.any( transformM!=np.array([1,0,0, 0, 1, 0, 0, 0, 1])):\n",
    "            isflip = True\n",
    "        else:\n",
    "            isflip = False\n",
    "\n",
    "    itkimage = sitk.ReadImage(filename)\n",
    "    numpyImage = sitk.GetArrayFromImage(itkimage)\n",
    "     \n",
    "    numpyOrigin = np.array(list(reversed(itkimage.GetOrigin())))\n",
    "    numpySpacing = np.array(list(reversed(itkimage.GetSpacing())))\n",
    "     \n",
    "    return numpyImage, numpyOrigin, numpySpacing,isflip\n",
    "\n",
    "def lumTrans(img):\n",
    "    lungwin = np.array([-1200.,600.])\n",
    "    newimg = (img-lungwin[0])/(lungwin[1]-lungwin[0])\n",
    "    newimg[newimg<0]=0\n",
    "    newimg[newimg>1]=1\n",
    "    newimg = (newimg*255).astype('uint8')\n",
    "    return newimg\n",
    "\n",
    "def savenpy(data_path,df_node,img_file,pic_path):\n",
    "    mini_df = df_node[df_node[\"file\"]==img_file]\n",
    "    resolution = np.array([1,1,1])\n",
    "#     resolution = np.array([2,2,2])\n",
    "    name = img_file.split('/')[-1][:-4]\n",
    "    Mask,origin,spacing,isflip = load_itk_image(data_path + img_file)\n",
    "    sliceim = np.copy(Mask)\n",
    "    num_z, height, width = sliceim.shape\n",
    "    if isflip:\n",
    "        Mask = Mask[:,::-1,::-1]\n",
    "        print(name,'is flip!')\n",
    "    newshape = np.round(np.array(Mask.shape)*spacing/resolution).astype('int')\n",
    "    m1 = Mask==3\n",
    "    m2 = Mask==4\n",
    "    Mask = m1+m2\n",
    "    \n",
    "    xx,yy,zz= np.where(Mask)\n",
    "    box = np.array([[np.min(xx),np.max(xx)],[np.min(yy),np.max(yy)],[np.min(zz),np.max(zz)]])\n",
    "    box = box*np.expand_dims(spacing,1)/np.expand_dims(resolution,1)\n",
    "    box = np.floor(box).astype('int')\n",
    "    margin = 5\n",
    "    extendbox = np.vstack([np.max([[0,0,0],box[:,0]-margin],0),np.min([newshape,box[:,1]+2*margin],axis=0).T]).T\n",
    "    \n",
    "#     convex_mask = m1\n",
    "#     dm1 = process_mask(m1)\n",
    "#     dm2 = process_mask(m2)\n",
    "#     dilatedMask = dm1+dm2\n",
    "#     Mask = m1+m2\n",
    "#     extramask = dilatedMask ^ Mask\n",
    "#     bone_thresh = 210\n",
    "#     pad_value = 170\n",
    "    \n",
    "    sliceim = lumTrans(sliceim)\n",
    "#     sliceim = sliceim*dilatedMask+pad_value*(1-dilatedMask).astype('uint8')\n",
    "#     bones = (sliceim*extramask)>bone_thresh\n",
    "#     sliceim[bones] = pad_value\n",
    "    sliceim1,_ = resample(sliceim,spacing,resolution,order=1)\n",
    "    sliceim2 = sliceim1[extendbox[0,0]:extendbox[0,1],\n",
    "                    extendbox[1,0]:extendbox[1,1],\n",
    "                    extendbox[2,0]:extendbox[2,1]]\n",
    "    sliceim = sliceim2[np.newaxis,...]    \n",
    "    np.save(os.path.join(pic_path,name+'_clean.npy'),sliceim)\n",
    "    \n",
    "\n",
    "    islabel = True\n",
    "    if islabel:\n",
    "\n",
    "        this_annos = np.copy(mini_df)\n",
    "        label = []\n",
    "        if len(this_annos)>0:\n",
    "            \n",
    "            for c in this_annos:\n",
    "                pos = worldToVoxelCoord(c[1:4][::-1],origin=origin,spacing=spacing)\n",
    "                if isflip:\n",
    "                    pos[1:] = Mask.shape[1:3]-pos[1:]\n",
    "                label.append(np.concatenate([pos,[c[4]/spacing[1]]]))\n",
    "            \n",
    "        label = np.array(label)\n",
    "        if len(label)==0:\n",
    "            label2 = np.array([[0,0,0,0]])\n",
    "        else:\n",
    "            label2 = np.copy(label).T\n",
    "            label2[:3] = label2[:3]*np.expand_dims(spacing,1)/np.expand_dims(resolution,1)\n",
    "            label2[3] = label2[3]*spacing[1]/resolution[1]\n",
    "            label2[:3] = label2[:3]-np.expand_dims(extendbox[:,0],1)\n",
    "            label2 = label2[:4].T\n",
    "        np.save(os.path.join(pic_path,name+'_label.npy'),label2)     \n",
    "    \n",
    "\n",
    "    print(name)\n",
    "\n"
   ]
  },
  {
   "cell_type": "code",
   "execution_count": null,
   "metadata": {
    "collapsed": true
   },
   "outputs": [],
   "source": [
    "data_path = PATH['src_train']\n",
    "csv_path = PATH['annotations_train']\n",
    "\n",
    "pic_path = PATH['pic_train']\n",
    "train_lung_path = PATH['model_train_lung']\n",
    "train_nodule_path = PATH['model_train_nodule']"
   ]
  },
  {
   "cell_type": "code",
   "execution_count": null,
   "metadata": {
    "collapsed": true
   },
   "outputs": [],
   "source": [
    "patients = load_train(data_path)\n",
    "df_node = pd.read_csv(csv_path+\"annotations.csv\")\n",
    "df_node[\"file\"] = df_node[\"seriesuid\"].map(lambda file_name: get_filename(patients, file_name))\n",
    "df_node = df_node.dropna()"
   ]
  },
  {
   "cell_type": "code",
   "execution_count": null,
   "metadata": {
    "collapsed": true
   },
   "outputs": [],
   "source": [
    "patients = patients[0:1]"
   ]
  },
  {
   "cell_type": "code",
   "execution_count": null,
   "metadata": {},
   "outputs": [],
   "source": [
    "Parallel(n_jobs=-1)(delayed(savenpy)(data_path,df_node,patient,pic_path) for patient in tqdm(sorted(patients)))"
   ]
  }
 ],
 "metadata": {
  "kernelspec": {
   "display_name": "Python 3",
   "language": "python",
   "name": "python3"
  },
  "language_info": {
   "codemirror_mode": {
    "name": "ipython",
    "version": 3
   },
   "file_extension": ".py",
   "mimetype": "text/x-python",
   "name": "python",
   "nbconvert_exporter": "python",
   "pygments_lexer": "ipython3",
   "version": "3.6.2"
  }
 },
 "nbformat": 4,
 "nbformat_minor": 2
}
