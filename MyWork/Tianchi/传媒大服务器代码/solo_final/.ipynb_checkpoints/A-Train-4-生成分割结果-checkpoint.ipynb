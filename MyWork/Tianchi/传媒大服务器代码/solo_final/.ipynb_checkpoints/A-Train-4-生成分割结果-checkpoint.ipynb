{
 "cells": [
  {
   "cell_type": "code",
   "execution_count": 1,
   "metadata": {},
   "outputs": [
    {
     "name": "stderr",
     "output_type": "stream",
     "text": [
      "Using TensorFlow backend.\n"
     ]
    }
   ],
   "source": [
    "from utils.imports import *"
   ]
  },
  {
   "cell_type": "markdown",
   "metadata": {},
   "source": [
    "## Train"
   ]
  },
  {
   "cell_type": "code",
   "execution_count": 2,
   "metadata": {
    "collapsed": true
   },
   "outputs": [],
   "source": [
    "src = PATH['model_train_pred']\n",
    "model_paths = PATH['model_paths']\n",
    "model_fenge_path=model_paths + 'final_fenge_170629_2.h5'\n",
    "model = load_model(model_fenge_path, custom_objects={'dice_coef_loss': dice_coef_loss, 'dice_coef': dice_coef})\n",
    "#anno = pd.read_csv(csv_path + 'annotations.csv')"
   ]
  },
  {
   "cell_type": "markdown",
   "metadata": {},
   "source": [
    "## 生成分割结果npy+csv"
   ]
  },
  {
   "cell_type": "code",
   "execution_count": 3,
   "metadata": {
    "collapsed": true
   },
   "outputs": [],
   "source": [
    "#patients = [x for x in os.listdir(src) if 'orig' in x]"
   ]
  },
  {
   "cell_type": "code",
   "execution_count": 6,
   "metadata": {
    "scrolled": true
   },
   "outputs": [
    {
     "name": "stderr",
     "output_type": "stream",
     "text": [
      "  0%|▏                                                                               | 1/600 [00:19<3:09:42, 19.00s/it]"
     ]
    },
    {
     "ename": "KeyboardInterrupt",
     "evalue": "",
     "output_type": "error",
     "traceback": [
      "\u001b[1;31m---------------------------------------------------------------------------\u001b[0m",
      "\u001b[1;31mKeyboardInterrupt\u001b[0m                         Traceback (most recent call last)",
      "\u001b[1;32m<ipython-input-6-e1e26bc54f85>\u001b[0m in \u001b[0;36m<module>\u001b[1;34m()\u001b[0m\n\u001b[0;32m      1\u001b[0m \u001b[1;32mfor\u001b[0m \u001b[0mpatient\u001b[0m \u001b[1;32min\u001b[0m \u001b[0mtqdm\u001b[0m\u001b[1;33m(\u001b[0m\u001b[0msorted\u001b[0m\u001b[1;33m(\u001b[0m\u001b[0mpatients\u001b[0m\u001b[1;33m)\u001b[0m\u001b[1;33m)\u001b[0m\u001b[1;33m:\u001b[0m\u001b[1;33m\u001b[0m\u001b[0m\n\u001b[1;32m----> 2\u001b[1;33m     \u001b[0mpred_samples1\u001b[0m\u001b[1;33m(\u001b[0m\u001b[0msrc\u001b[0m\u001b[1;33m,\u001b[0m\u001b[0mdata_path\u001b[0m\u001b[1;33m,\u001b[0m\u001b[0mdf_node\u001b[0m\u001b[1;33m,\u001b[0m\u001b[0mpatient\u001b[0m\u001b[1;33m,\u001b[0m\u001b[0mpic_path\u001b[0m\u001b[1;33m,\u001b[0m\u001b[0mmodel\u001b[0m\u001b[1;33m)\u001b[0m\u001b[1;33m\u001b[0m\u001b[0m\n\u001b[0m",
      "\u001b[1;32m~\\solo_final\\utils\\utils.py\u001b[0m in \u001b[0;36mpred_samples1\u001b[1;34m(src, data_path, df_node, img_file, pic_path, model)\u001b[0m\n\u001b[0;32m    255\u001b[0m         \u001b[1;31m#img_array_new[img_array_new == 1] = int(1)\u001b[0m\u001b[1;33m\u001b[0m\u001b[1;33m\u001b[0m\u001b[0m\n\u001b[0;32m    256\u001b[0m         \u001b[1;31m#img_array_new[img_array_new != 1] = int(0)\u001b[0m\u001b[1;33m\u001b[0m\u001b[1;33m\u001b[0m\u001b[0m\n\u001b[1;32m--> 257\u001b[1;33m         \u001b[0mnp\u001b[0m\u001b[1;33m.\u001b[0m\u001b[0msave\u001b[0m\u001b[1;33m(\u001b[0m\u001b[1;34m'{}{}{}.npy'\u001b[0m\u001b[1;33m.\u001b[0m\u001b[0mformat\u001b[0m\u001b[1;33m(\u001b[0m\u001b[0msrc\u001b[0m\u001b[1;33m,\u001b[0m \u001b[0mpatient_id\u001b[0m\u001b[1;33m,\u001b[0m\u001b[0mstr\u001b[0m\u001b[1;33m(\u001b[0m\u001b[1;34m'_pred'\u001b[0m\u001b[1;33m)\u001b[0m\u001b[1;33m)\u001b[0m\u001b[1;33m,\u001b[0m \u001b[0mimg_array_new\u001b[0m\u001b[1;33m)\u001b[0m\u001b[1;33m\u001b[0m\u001b[0m\n\u001b[0m\u001b[0;32m    258\u001b[0m     \u001b[1;32mreturn\u001b[0m\u001b[1;33m\u001b[0m\u001b[0m\n\u001b[0;32m    259\u001b[0m \u001b[1;33m\u001b[0m\u001b[0m\n",
      "\u001b[1;32mD:\\MyPrograms\\Anaconda\\pathfile\\envs\\py3\\lib\\site-packages\\numpy\\lib\\npyio.py\u001b[0m in \u001b[0;36msave\u001b[1;34m(file, arr, allow_pickle, fix_imports)\u001b[0m\n\u001b[0;32m    507\u001b[0m         \u001b[0marr\u001b[0m \u001b[1;33m=\u001b[0m \u001b[0mnp\u001b[0m\u001b[1;33m.\u001b[0m\u001b[0masanyarray\u001b[0m\u001b[1;33m(\u001b[0m\u001b[0marr\u001b[0m\u001b[1;33m)\u001b[0m\u001b[1;33m\u001b[0m\u001b[0m\n\u001b[0;32m    508\u001b[0m         format.write_array(fid, arr, allow_pickle=allow_pickle,\n\u001b[1;32m--> 509\u001b[1;33m                            pickle_kwargs=pickle_kwargs)\n\u001b[0m\u001b[0;32m    510\u001b[0m     \u001b[1;32mfinally\u001b[0m\u001b[1;33m:\u001b[0m\u001b[1;33m\u001b[0m\u001b[0m\n\u001b[0;32m    511\u001b[0m         \u001b[1;32mif\u001b[0m \u001b[0mown_fid\u001b[0m\u001b[1;33m:\u001b[0m\u001b[1;33m\u001b[0m\u001b[0m\n",
      "\u001b[1;32mD:\\MyPrograms\\Anaconda\\pathfile\\envs\\py3\\lib\\site-packages\\numpy\\lib\\format.py\u001b[0m in \u001b[0;36mwrite_array\u001b[1;34m(fp, array, version, allow_pickle, pickle_kwargs)\u001b[0m\n\u001b[0;32m    585\u001b[0m     \u001b[1;32melse\u001b[0m\u001b[1;33m:\u001b[0m\u001b[1;33m\u001b[0m\u001b[0m\n\u001b[0;32m    586\u001b[0m         \u001b[1;32mif\u001b[0m \u001b[0misfileobj\u001b[0m\u001b[1;33m(\u001b[0m\u001b[0mfp\u001b[0m\u001b[1;33m)\u001b[0m\u001b[1;33m:\u001b[0m\u001b[1;33m\u001b[0m\u001b[0m\n\u001b[1;32m--> 587\u001b[1;33m             \u001b[0marray\u001b[0m\u001b[1;33m.\u001b[0m\u001b[0mtofile\u001b[0m\u001b[1;33m(\u001b[0m\u001b[0mfp\u001b[0m\u001b[1;33m)\u001b[0m\u001b[1;33m\u001b[0m\u001b[0m\n\u001b[0m\u001b[0;32m    588\u001b[0m         \u001b[1;32melse\u001b[0m\u001b[1;33m:\u001b[0m\u001b[1;33m\u001b[0m\u001b[0m\n\u001b[0;32m    589\u001b[0m             for chunk in numpy.nditer(\n",
      "\u001b[1;31mKeyboardInterrupt\u001b[0m: "
     ]
    }
   ],
   "source": [
    "for patient in tqdm(sorted(patients)):\n",
    "    pred_samples(src,img_file,model)"
   ]
  },
  {
   "cell_type": "markdown",
   "metadata": {},
   "source": [
    "## 获取分割结果csv"
   ]
  },
  {
   "cell_type": "code",
   "execution_count": null,
   "metadata": {
    "collapsed": true
   },
   "outputs": [],
   "source": [
    "patients = [x for x in os.listdir(src) if 'pred.npy' in x]    "
   ]
  },
  {
   "cell_type": "code",
   "execution_count": null,
   "metadata": {},
   "outputs": [],
   "source": [
    "empty0 = pandas.DataFrame({'seriesuid':[],'coordX':[],'coordY':[],'coordZ':[],'diameter_mm':[]})\n",
    "empty1 = pandas.DataFrame({'seriesuid':[],'coordX':[],'coordY':[],'coordZ':[],'diameter_mm':[]})\n",
    "empty2 = pandas.DataFrame({'seriesuid':[],'coordX':[],'coordY':[],'coordZ':[],'diameter_mm':[]})\n",
    "\n",
    "for img_file in tqdm(sorted(patients)):\n",
    "    patient_id = img_file[:-9]\n",
    "    img_array = np.load(src + img_file)\n",
    "    img_array[img_array<1]=int(0)\n",
    "    pos_annos = pd.read_csv(src + img_file[:-9] + '_annos_pos.csv')\n",
    "    origin = np.array([pos_annos.loc[0]['origin_x'],pos_annos.loc[0]['origin_y'],pos_annos.loc[0]['origin_z']]) \n",
    "    spacing = np.array([pos_annos.loc[0]['spacing_x'],pos_annos.loc[0]['spacing_y'],pos_annos.loc[0]['spacing_z']])    \n",
    "    temp = np.squeeze(img_array)\n",
    "\n",
    "    \n",
    "\n",
    "    labels0 = skimage.measure.label(np.squeeze(temp))    \n",
    "    props0 = skimage.measure.regionprops(labels0)\n",
    "    for i in range(len(props0)):     \n",
    "        if props0[i]['EquivDiameter'] > 3:\n",
    "            world_coordinates0 = voxel_2_world([props0[i]['Centroid'][2], \n",
    "                                                props0[i]['Centroid'][1], \n",
    "                                                props0[i]['Centroid'][0]], origin, spacing)\n",
    "            insertrow0 = pd.DataFrame([[patient_id,\n",
    "                                      world_coordinates0[0],\n",
    "                                      world_coordinates0[1],\n",
    "                                      world_coordinates0[2],\n",
    "                                      props0[i]['EquivDiameter']]],columns = ['seriesuid','coordX','coordY','coordZ','diameter_mm'])\n",
    "        \n",
    "            empty0 = empty0.append(insertrow0,ignore_index=True)\n",
    "    \n",
    "    temp1 = skimage.morphology.binary_closing(np.squeeze(temp), np.ones([3,3,3]))\n",
    "    labels1 = skimage.measure.label(np.squeeze(temp1))    \n",
    "    props1 = skimage.measure.regionprops(labels1)\n",
    "    \n",
    "    for i in range(len(props1)):     \n",
    "        if props1[i]['EquivDiameter'] > 3:\n",
    "            world_coordinates1 = voxel_2_world([props1[i]['Centroid'][2], \n",
    "                                                props1[i]['Centroid'][1], \n",
    "                                                props1[i]['Centroid'][0]], origin, spacing)               \n",
    "        \n",
    "            insertrow1 = pd.DataFrame([[patient_id,\n",
    "                                      world_coordinates1[0],\n",
    "                                      world_coordinates1[1],\n",
    "                                      world_coordinates1[2],\n",
    "                                      props1[i]['EquivDiameter']]],columns = ['seriesuid','coordX','coordY','coordZ','diameter_mm'])\n",
    "        \n",
    "            empty1 = empty1.append(insertrow1,ignore_index=True)\n",
    "        \n",
    "    temp2 = skimage.morphology.binary_closing(np.squeeze(temp), np.ones([5,5,5]))\n",
    "    labels2 = skimage.measure.label(np.squeeze(temp2))    \n",
    "    props2 = skimage.measure.regionprops(labels2)\n",
    "    for i in range(len(props2)):\n",
    "        if props2[i]['EquivDiameter'] > 3:\n",
    "            world_coordinates2 = voxel_2_world([props2[i]['Centroid'][2], \n",
    "                                                props2[i]['Centroid'][1], \n",
    "                                                props2[i]['Centroid'][0]], origin, spacing)               \n",
    "        \n",
    "            insertrow2 = pd.DataFrame([[patient_id,\n",
    "                                      world_coordinates2[0],\n",
    "                                      world_coordinates2[1],\n",
    "                                      world_coordinates2[2],\n",
    "                                      props2[i]['EquivDiameter']]],columns = ['seriesuid','coordX','coordY','coordZ','diameter_mm'])\n",
    "        \n",
    "            empty2 = empty2.append(insertrow2,ignore_index=True)\n",
    "            \n",
    "empty0 = empty0[['seriesuid','coordX','coordY','coordZ','diameter_mm']]\n",
    "empty1 = empty1[['seriesuid','coordX','coordY','coordZ','diameter_mm']]\n",
    "empty2 = empty2[['seriesuid','coordX','coordY','coordZ','diameter_mm']] "
   ]
  },
  {
   "cell_type": "code",
   "execution_count": null,
   "metadata": {
    "collapsed": true
   },
   "outputs": [],
   "source": [
    "empty0.to_csv(src + \"00final_result.csv\", index=False)\n",
    "empty1.to_csv(src + \"11final_result.csv\", index=False)\n",
    "empty2.to_csv(src + \"22final_result.csv\", index=False)"
   ]
  }
 ],
 "metadata": {
  "kernelspec": {
   "display_name": "Python 3",
   "language": "python",
   "name": "python3"
  },
  "language_info": {
   "codemirror_mode": {
    "name": "ipython",
    "version": 3
   },
   "file_extension": ".py",
   "mimetype": "text/x-python",
   "name": "python",
   "nbconvert_exporter": "python",
   "pygments_lexer": "ipython3",
   "version": "3.6.2"
  }
 },
 "nbformat": 4,
 "nbformat_minor": 2
}
