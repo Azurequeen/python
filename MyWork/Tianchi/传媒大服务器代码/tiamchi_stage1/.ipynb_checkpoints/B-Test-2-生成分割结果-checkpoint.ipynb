{
 "cells": [
  {
   "cell_type": "code",
   "execution_count": 1,
   "metadata": {},
   "outputs": [
    {
     "name": "stderr",
     "output_type": "stream",
     "text": [
      "Using TensorFlow backend.\n"
     ]
    }
   ],
   "source": [
    "from utils.imports import *"
   ]
  },
  {
   "cell_type": "code",
   "execution_count": 2,
   "metadata": {
    "collapsed": true
   },
   "outputs": [],
   "source": [
    "src = PATH['model_test_pred']\n",
    "model_paths = PATH['model_paths']\n",
    "model_fenge_path=model_paths + 'final_fenge_170619.h5'\n",
    "model = load_model(model_fenge_path, custom_objects={'dice_coef_loss': dice_coef_loss, 'dice_coef': dice_coef})\n",
    "#anno = pd.read_csv(csv_path + 'annotations.csv')"
   ]
  },
  {
   "cell_type": "code",
   "execution_count": 3,
   "metadata": {
    "collapsed": true
   },
   "outputs": [],
   "source": [
    "patients = [x for x in os.listdir(src) if 'orig' in x]"
   ]
  },
  {
   "cell_type": "code",
   "execution_count": 5,
   "metadata": {},
   "outputs": [
    {
     "name": "stderr",
     "output_type": "stream",
     "text": [
      "100%|██████████| 71/71 [57:45<00:00, 44.52s/it]\n"
     ]
    }
   ],
   "source": [
    "for patient in tqdm(sorted(patients)):\n",
    "    pred_samples(src,patient,model)"
   ]
  },
  {
   "cell_type": "code",
   "execution_count": 6,
   "metadata": {
    "collapsed": true
   },
   "outputs": [],
   "source": [
    "patients = [x for x in os.listdir(src) if 'pred' in x]  "
   ]
  },
  {
   "cell_type": "code",
   "execution_count": 7,
   "metadata": {},
   "outputs": [
    {
     "name": "stderr",
     "output_type": "stream",
     "text": [
      "100%|██████████| 200/200 [1:27:05<00:00, 23.57s/it]\n"
     ]
    }
   ],
   "source": [
    "empty0 = pandas.DataFrame({'seriesuid':[],'coordX':[],'coordY':[],'coordZ':[],'diameter_mm':[]})\n",
    "empty1 = pandas.DataFrame({'seriesuid':[],'coordX':[],'coordY':[],'coordZ':[],'diameter_mm':[]})\n",
    "empty2 = pandas.DataFrame({'seriesuid':[],'coordX':[],'coordY':[],'coordZ':[],'diameter_mm':[]})\n",
    "\n",
    "for img_file in tqdm(sorted(patients)):\n",
    "    patient_id = img_file[:-9]\n",
    "    img_array = np.load(src + img_file)\n",
    "    pos_annos = pd.read_csv(src + img_file[:-9] + '_annos_pos.csv')\n",
    "    origin = np.array([pos_annos.loc[0]['origin_x'],pos_annos.loc[0]['origin_y'],pos_annos.loc[0]['origin_z']]) \n",
    "    spacing = np.array([pos_annos.loc[0]['spacing_x'],pos_annos.loc[0]['spacing_y'],pos_annos.loc[0]['spacing_z']])   \n",
    "    temp = np.squeeze(img_array)\n",
    "    temp[temp==1]=int(1)\n",
    "    temp[temp!=1]=int(0)\n",
    "    \n",
    "\n",
    "    labels0 = skimage.measure.label(np.squeeze(temp))    \n",
    "    props0 = skimage.measure.regionprops(labels0)\n",
    "    for i in range(len(props0)):     \n",
    "        if props0[i]['EquivDiameter'] > 3:\n",
    "            world_coordinates0 = voxel_2_world([props0[i]['Centroid'][2], \n",
    "                                                props0[i]['Centroid'][1], \n",
    "                                                props0[i]['Centroid'][0]], origin, spacing)\n",
    "            insertrow0 = pd.DataFrame([[patient_id,\n",
    "                                      world_coordinates0[0],\n",
    "                                      world_coordinates0[1],\n",
    "                                      world_coordinates0[2],\n",
    "                                      props0[i]['EquivDiameter']]],columns = ['seriesuid','coordX','coordY','coordZ','diameter_mm'])\n",
    "        \n",
    "            empty0 = empty0.append(insertrow0,ignore_index=True)\n",
    "    \n",
    "    temp1 = skimage.morphology.binary_opening(np.squeeze(temp), np.ones([3,3,3]))\n",
    "    labels1 = skimage.measure.label(np.squeeze(temp1))    \n",
    "    props1 = skimage.measure.regionprops(labels1)\n",
    "    \n",
    "    for i in range(len(props1)):     \n",
    "        if props1[i]['EquivDiameter'] > 3:\n",
    "            world_coordinates1 = voxel_2_world([props1[i]['Centroid'][2], \n",
    "                                                props1[i]['Centroid'][1], \n",
    "                                                props1[i]['Centroid'][0]], origin, spacing)               \n",
    "        \n",
    "            insertrow1 = pd.DataFrame([[patient_id,\n",
    "                                      world_coordinates1[0],\n",
    "                                      world_coordinates1[1],\n",
    "                                      world_coordinates1[2],\n",
    "                                      props1[i]['EquivDiameter']]],columns = ['seriesuid','coordX','coordY','coordZ','diameter_mm'])\n",
    "        \n",
    "            empty1 = empty1.append(insertrow1,ignore_index=True)\n",
    "        \n",
    "    temp2 = skimage.morphology.binary_opening(np.squeeze(temp), np.ones([5,5,5]))\n",
    "    labels2 = skimage.measure.label(np.squeeze(temp2))    \n",
    "    props2 = skimage.measure.regionprops(labels2)\n",
    "    for i in range(len(props2)):\n",
    "        if props2[i]['EquivDiameter'] > 3:\n",
    "            world_coordinates2 = voxel_2_world([props2[i]['Centroid'][2], \n",
    "                                                props2[i]['Centroid'][1], \n",
    "                                                props2[i]['Centroid'][0]], origin, spacing)               \n",
    "        \n",
    "            insertrow2 = pd.DataFrame([[patient_id,\n",
    "                                      world_coordinates2[0],\n",
    "                                      world_coordinates2[1],\n",
    "                                      world_coordinates2[2],\n",
    "                                      props2[i]['EquivDiameter']]],columns = ['seriesuid','coordX','coordY','coordZ','diameter_mm'])\n",
    "        \n",
    "            empty2 = empty2.append(insertrow2,ignore_index=True)\n",
    "            \n",
    "empty0 = empty0[['seriesuid','coordX','coordY','coordZ','diameter_mm']]\n",
    "empty1 = empty1[['seriesuid','coordX','coordY','coordZ','diameter_mm']]\n",
    "empty2 = empty2[['seriesuid','coordX','coordY','coordZ','diameter_mm']] "
   ]
  },
  {
   "cell_type": "code",
   "execution_count": 8,
   "metadata": {
    "collapsed": true
   },
   "outputs": [],
   "source": [
    "empty0.to_csv(src + \"0final_test_result.csv\", index=False)\n",
    "empty1.to_csv(src + \"1final_test_result.csv\", index=False)\n",
    "empty2.to_csv(src + \"2final_test_result.csv\", index=False)"
   ]
  },
  {
   "cell_type": "code",
   "execution_count": null,
   "metadata": {
    "collapsed": true
   },
   "outputs": [],
   "source": []
  }
 ],
 "metadata": {
  "kernelspec": {
   "display_name": "Python [conda root]",
   "language": "python",
   "name": "conda-root-py"
  },
  "language_info": {
   "codemirror_mode": {
    "name": "ipython",
    "version": 3
   },
   "file_extension": ".py",
   "mimetype": "text/x-python",
   "name": "python",
   "nbconvert_exporter": "python",
   "pygments_lexer": "ipython3",
   "version": "3.5.2"
  }
 },
 "nbformat": 4,
 "nbformat_minor": 2
}
