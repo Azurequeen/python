{
 "cells": [
  {
   "cell_type": "code",
   "execution_count": 1,
   "metadata": {},
   "outputs": [
    {
     "name": "stderr",
     "output_type": "stream",
     "text": [
      "Using TensorFlow backend.\n"
     ]
    }
   ],
   "source": [
    "from utils.imports import *"
   ]
  },
  {
   "cell_type": "code",
   "execution_count": null,
   "metadata": {
    "collapsed": true
   },
   "outputs": [],
   "source": [
    "csv_path = PATH['annotations_train']\n",
    "pred_csv_path = PATH['model_train_pred']\n",
    "data_path = PATH['src_train']"
   ]
  },
  {
   "cell_type": "markdown",
   "metadata": {},
   "source": [
    "# 一、所有预测结果"
   ]
  },
  {
   "cell_type": "code",
   "execution_count": null,
   "metadata": {
    "collapsed": true
   },
   "outputs": [],
   "source": [
    "anno_csv = pd.read_csv(csv_path + \"annotations_all.csv\")\n",
    "pred_csv = pd.read_csv(pred_csv_path + \"0final_result.csv\")\n",
    "\n",
    "anno_csv_new = cal_recall(pred_csv,anno_csv)\n",
    "pred_csv_new_temp = cal_dist(pred_csv,anno_csv)\n",
    "\n",
    "pred_csv_new_temp = pred_csv_new_temp[pred_csv_new_temp['dist']>100]\n",
    "pred_csv_new = pred_csv_new_temp[pred_csv_new_temp['diameter_mm']>3]"
   ]
  },
  {
   "cell_type": "code",
   "execution_count": null,
   "metadata": {},
   "outputs": [],
   "source": [
    "num_node = len(anno_csv_new)*1.0\n",
    "score_0 = anno_csv_new[anno_csv_new['ratio'] < 0.125].count()[0]/num_node\n",
    "score_1 = anno_csv_new[anno_csv_new['ratio'] < 0.25].count()[0]/num_node\n",
    "score_2 = anno_csv_new[anno_csv_new['ratio'] < 0.5].count()[0]/num_node\n",
    "score_3 = anno_csv_new[anno_csv_new['ratio'] < 1].count()[0]/num_node\n",
    "score_4 = anno_csv_new[anno_csv_new['ratio'] < 2].count()[0]/num_node\n",
    "score_5 = anno_csv_new[anno_csv_new['ratio'] < 4].count()[0]/num_node\n",
    "score_6 = anno_csv_new[anno_csv_new['ratio'] < 8].count()[0]/num_node\n",
    "\n",
    "print(u\"小于0.125：\\t%.2f%%\"  %(score_0*100))\n",
    "print(u\"小于0.25：\\t%.2f%%\"  %(score_1*100))\n",
    "print(u\"小于0.5：\\t%.2f%%\"  %(score_2*100))\n",
    "print(u\"小于1：\\t\\t%.2f%%\"  %(score_3*100))\n",
    "print(u\"小于2：\\t\\t%.2f%%\"  %(score_4*100))\n",
    "print(u\"小于4：\\t\\t%.2f%%\"  %(score_5*100))\n",
    "print(u\"小于8：\\t\\t%.2f%%\"  %(score_6*100))\n",
    "print\n",
    "print\n",
    "score = (score_0*7+score_1*6+score_2*5+score_3*4+score_4*3+score_5*2+score_6*1)/27.\n",
    "print(u\"查全率：\\t\\t%.2f%%\"  %(score*100))\n",
    "print(u\"查准率：\\t\\t%.2f%%\"  %((anno_csv_new[anno_csv_new['ratio'] < 1].count()[0]*1.0/len(pred_csv_new)*1.0)*100))\n",
    "print(u\"负样本数量：\\t%s个\"  %(len(pred_csv_new)))\n",
    "\n",
    "\n",
    "anno_csv_new.to_csv(pred_csv_path + \"0anno_csv_new.csv\", index=False)\n",
    "pred_csv_new.to_csv(pred_csv_path + \"0pred_csv_new.csv\", index=False)"
   ]
  },
  {
   "cell_type": "markdown",
   "metadata": {},
   "source": [
    "# 二、直径3的开运算"
   ]
  },
  {
   "cell_type": "code",
   "execution_count": null,
   "metadata": {
    "collapsed": true
   },
   "outputs": [],
   "source": [
    "anno_csv = pd.read_csv(csv_path + \"annotations_all.csv\")\n",
    "pred_csv = pd.read_csv(pred_csv_path + \"1final_result.csv\")\n",
    "\n",
    "anno_csv_new = cal_recall(pred_csv,anno_csv)\n",
    "pred_csv_new_temp = cal_dist(pred_csv,anno_csv)\n",
    "\n",
    "pred_csv_new_temp = pred_csv_new_temp[pred_csv_new_temp['dist']>100]\n",
    "pred_csv_new = pred_csv_new_temp[pred_csv_new_temp['diameter_mm']>3]"
   ]
  },
  {
   "cell_type": "code",
   "execution_count": null,
   "metadata": {},
   "outputs": [],
   "source": [
    "num_node = len(anno_csv_new)*1.0\n",
    "score_0 = anno_csv_new[anno_csv_new['ratio'] < 0.125].count()[0]/num_node\n",
    "score_1 = anno_csv_new[anno_csv_new['ratio'] < 0.25].count()[0]/num_node\n",
    "score_2 = anno_csv_new[anno_csv_new['ratio'] < 0.5].count()[0]/num_node\n",
    "score_3 = anno_csv_new[anno_csv_new['ratio'] < 1].count()[0]/num_node\n",
    "score_4 = anno_csv_new[anno_csv_new['ratio'] < 2].count()[0]/num_node\n",
    "score_5 = anno_csv_new[anno_csv_new['ratio'] < 4].count()[0]/num_node\n",
    "score_6 = anno_csv_new[anno_csv_new['ratio'] < 8].count()[0]/num_node\n",
    "\n",
    "print(u\"小于0.125：\\t%.2f%%\"  %(score_0*100))\n",
    "print(u\"小于0.25：\\t%.2f%%\"  %(score_1*100))\n",
    "print(u\"小于0.5：\\t%.2f%%\"  %(score_2*100))\n",
    "print(u\"小于1：\\t\\t%.2f%%\"  %(score_3*100))\n",
    "print(u\"小于2：\\t\\t%.2f%%\"  %(score_4*100))\n",
    "print(u\"小于4：\\t\\t%.2f%%\"  %(score_5*100))\n",
    "print(u\"小于8：\\t\\t%.2f%%\"  %(score_6*100))\n",
    "print\n",
    "print\n",
    "score = (score_0*7+score_1*6+score_2*5+score_3*4+score_4*3+score_5*2+score_6*1)/27.\n",
    "print(u\"查全率：\\t\\t%.2f%%\"  %(score*100))\n",
    "print(u\"查准率：\\t\\t%.2f%%\"  %((anno_csv_new[anno_csv_new['ratio'] < 1].count()[0]*1.0/len(pred_csv_new)*1.0)*100))\n",
    "print(u\"负样本数量：\\t%s个\"  %(len(pred_csv_new)))\n",
    "\n",
    "\n",
    "anno_csv_new.to_csv(pred_csv_path + \"1anno_csv_new.csv\", index=False)\n",
    "pred_csv_new.to_csv(pred_csv_path + \"1pred_csv_new.csv\", index=False)"
   ]
  },
  {
   "cell_type": "markdown",
   "metadata": {},
   "source": [
    "# 三、直径5的开运算"
   ]
  },
  {
   "cell_type": "code",
   "execution_count": null,
   "metadata": {
    "collapsed": true
   },
   "outputs": [],
   "source": [
    "anno_csv = pd.read_csv(csv_path + \"annotations_all.csv\")\n",
    "pred_csv = pd.read_csv(pred_csv_path + \"2final_result.csv\")\n",
    "\n",
    "anno_csv_new = cal_recall(pred_csv,anno_csv)\n",
    "pred_csv_new_temp = cal_dist(pred_csv,anno_csv)\n",
    "\n",
    "pred_csv_new_temp = pred_csv_new_temp[pred_csv_new_temp['dist']>100]\n",
    "pred_csv_new = pred_csv_new_temp[pred_csv_new_temp['diameter_mm']>3]"
   ]
  },
  {
   "cell_type": "code",
   "execution_count": null,
   "metadata": {},
   "outputs": [],
   "source": [
    "num_node = len(anno_csv_new)*1.0\n",
    "score_0 = anno_csv_new[anno_csv_new['ratio'] < 0.125].count()[0]/num_node\n",
    "score_1 = anno_csv_new[anno_csv_new['ratio'] < 0.25].count()[0]/num_node\n",
    "score_2 = anno_csv_new[anno_csv_new['ratio'] < 0.5].count()[0]/num_node\n",
    "score_3 = anno_csv_new[anno_csv_new['ratio'] < 1].count()[0]/num_node\n",
    "score_4 = anno_csv_new[anno_csv_new['ratio'] < 2].count()[0]/num_node\n",
    "score_5 = anno_csv_new[anno_csv_new['ratio'] < 4].count()[0]/num_node\n",
    "score_6 = anno_csv_new[anno_csv_new['ratio'] < 8].count()[0]/num_node\n",
    "\n",
    "print(u\"小于0.125：\\t%.2f%%\"  %(score_0*100))\n",
    "print(u\"小于0.25：\\t%.2f%%\"  %(score_1*100))\n",
    "print(u\"小于0.5：\\t%.2f%%\"  %(score_2*100))\n",
    "print(u\"小于1：\\t\\t%.2f%%\"  %(score_3*100))\n",
    "print(u\"小于2：\\t\\t%.2f%%\"  %(score_4*100))\n",
    "print(u\"小于4：\\t\\t%.2f%%\"  %(score_5*100))\n",
    "print(u\"小于8：\\t\\t%.2f%%\"  %(score_6*100))\n",
    "print\n",
    "print\n",
    "score = (score_0*7+score_1*6+score_2*5+score_3*4+score_4*3+score_5*2+score_6*1)/27.\n",
    "print(u\"查全率：\\t\\t%.2f%%\"  %(score*100))\n",
    "print(u\"查准率：\\t\\t%.2f%%\"  %((anno_csv_new[anno_csv_new['ratio'] < 1].count()[0]*1.0/len(pred_csv_new)*1.0)*100))\n",
    "print(u\"负样本数量：\\t%s个\"  %(len(pred_csv_new)))\n",
    "\n",
    "\n",
    "anno_csv_new.to_csv(pred_csv_path + \"2anno_csv_new.csv\", index=False)\n",
    "pred_csv_new.to_csv(pred_csv_path + \"2pred_csv_new.csv\", index=False)"
   ]
  },
  {
   "cell_type": "markdown",
   "metadata": {},
   "source": [
    "# 四、抽样合并假结节表"
   ]
  },
  {
   "cell_type": "code",
   "execution_count": null,
   "metadata": {
    "collapsed": true
   },
   "outputs": [],
   "source": [
    "anno_false_0 = pd.read_csv(pred_csv_path + \"0pred_csv_new.csv\")\n",
    "anno_false_1 = pd.read_csv(pred_csv_path + \"1pred_csv_new.csv\")\n",
    "anno_false_2 = pd.read_csv(pred_csv_path + \"2pred_csv_new.csv\")"
   ]
  },
  {
   "cell_type": "code",
   "execution_count": null,
   "metadata": {
    "collapsed": true
   },
   "outputs": [],
   "source": [
    "anno_false_0 = anno_false_0[anno_false_0.index%20 == 0]\n",
    "anno_false_1 = anno_false_1[anno_false_1.index%6 == 0]"
   ]
  },
  {
   "cell_type": "code",
   "execution_count": null,
   "metadata": {
    "collapsed": true
   },
   "outputs": [],
   "source": [
    "pd.concat([anno_false_0,anno_false_1,anno_false_2],axis=0).to_csv(pred_csv_path + \"anno_false_final.csv\", index=False)"
   ]
  }
 ],
 "metadata": {
  "kernelspec": {
   "display_name": "Python 2",
   "language": "python",
   "name": "python2"
  },
  "language_info": {
   "codemirror_mode": {
    "name": "ipython",
    "version": 2
   },
   "file_extension": ".py",
   "mimetype": "text/x-python",
   "name": "python",
   "nbconvert_exporter": "python",
   "pygments_lexer": "ipython2",
   "version": "2.7.13"
  }
 },
 "nbformat": 4,
 "nbformat_minor": 2
}
