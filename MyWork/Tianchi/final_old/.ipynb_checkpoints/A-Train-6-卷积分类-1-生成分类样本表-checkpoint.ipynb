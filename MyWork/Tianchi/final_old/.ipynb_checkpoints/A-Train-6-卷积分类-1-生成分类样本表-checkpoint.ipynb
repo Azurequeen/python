{
 "cells": [
  {
   "cell_type": "code",
   "execution_count": 1,
   "metadata": {},
   "outputs": [
    {
     "name": "stdout",
     "output_type": "stream",
     "text": [
      "('/Volumes/solo/ali/Data/train_cls_cube_36/train/true/', u'maked')\n",
      "('/Volumes/solo/ali/Data/train_cls_cube_36/train/false/', u'maked')\n"
     ]
    },
    {
     "name": "stderr",
     "output_type": "stream",
     "text": [
      "Using TensorFlow backend.\n"
     ]
    }
   ],
   "source": [
    "from utils.imports import *"
   ]
  },
  {
   "cell_type": "code",
   "execution_count": 2,
   "metadata": {
    "collapsed": true
   },
   "outputs": [],
   "source": [
    "csv_path = PATH['annotations_train']\n",
    "pred_csv_path = PATH['model_train_pred']\n",
    "data_path = PATH['src_train']"
   ]
  },
  {
   "cell_type": "markdown",
   "metadata": {},
   "source": [
    "# 一、opening3预测结果"
   ]
  },
  {
   "cell_type": "code",
   "execution_count": 3,
   "metadata": {
    "collapsed": true
   },
   "outputs": [],
   "source": [
    "anno_csv = pd.read_csv(csv_path + \"annotations_all.csv\")\n",
    "pred_csv = pd.read_csv(pred_csv_path + \"1final_result.csv\")\n",
    "\n",
    "anno_csv_new = cal_recall(pred_csv,anno_csv)\n",
    "pred_csv_false = cal_dist(pred_csv,anno_csv)\n",
    "pred_csv_true = pred_csv_false.copy()\n",
    "pred_csv_true = pred_csv_true[pred_csv_true['diameter_mm']<32]\n",
    "pred_csv_false = pred_csv_false[pred_csv_false['diameter_mm']<32]\n",
    "pred_csv_true = pred_csv_true[pred_csv_true['diameter_mm']>3]\n",
    "pred_csv_false = pred_csv_false[pred_csv_false['diameter_mm']>3]\n",
    "\n",
    "#pred_csv_true = pred_csv_true[pred_csv_true['ratio']<2]\n",
    "pred_csv_true = pred_csv_true[pred_csv_true['dist']<20]\n",
    "#pred_csv_false = pred_csv_false[pred_csv_false['ratio']>12]\n",
    "pred_csv_false = pred_csv_false[pred_csv_false['dist']>100]"
   ]
  },
  {
   "cell_type": "code",
   "execution_count": 4,
   "metadata": {},
   "outputs": [
    {
     "name": "stdout",
     "output_type": "stream",
     "text": [
      "小于0.125：\t67.68%\n",
      "小于0.25：\t82.15%\n",
      "小于0.5：\t86.50%\n",
      "小于1：\t\t88.42%\n",
      "小于2：\t\t91.24%\n",
      "小于4：\t\t97.19%\n",
      "小于8：\t\t98.71%\n",
      "\n",
      "\n",
      "查全率：\t\t85.91%\n",
      "查准率：\t\t2.17%\n",
      "负样本数量：\t50757个\n"
     ]
    }
   ],
   "source": [
    "num_node = len(anno_csv_new)*1.0\n",
    "score_0 = anno_csv_new[anno_csv_new['ratio'] < 0.125].count()[0]/num_node\n",
    "score_1 = anno_csv_new[anno_csv_new['ratio'] < 0.25].count()[0]/num_node\n",
    "score_2 = anno_csv_new[anno_csv_new['ratio'] < 0.5].count()[0]/num_node\n",
    "score_3 = anno_csv_new[anno_csv_new['ratio'] < 1].count()[0]/num_node\n",
    "score_4 = anno_csv_new[anno_csv_new['ratio'] < 2].count()[0]/num_node\n",
    "score_5 = anno_csv_new[anno_csv_new['ratio'] < 4].count()[0]/num_node\n",
    "score_6 = anno_csv_new[anno_csv_new['ratio'] < 8].count()[0]/num_node\n",
    "\n",
    "print(u\"小于0.125：\\t%.2f%%\"  %(score_0*100))\n",
    "print(u\"小于0.25：\\t%.2f%%\"  %(score_1*100))\n",
    "print(u\"小于0.5：\\t%.2f%%\"  %(score_2*100))\n",
    "print(u\"小于1：\\t\\t%.2f%%\"  %(score_3*100))\n",
    "print(u\"小于2：\\t\\t%.2f%%\"  %(score_4*100))\n",
    "print(u\"小于4：\\t\\t%.2f%%\"  %(score_5*100))\n",
    "print(u\"小于8：\\t\\t%.2f%%\"  %(score_6*100))\n",
    "print\n",
    "print\n",
    "score = (score_0*7+score_1*6+score_2*5+score_3*4+score_4*3+score_5*2+score_6*1)/27.\n",
    "print(u\"查全率：\\t\\t%.2f%%\"  %(score*100))\n",
    "print(u\"查准率：\\t\\t%.2f%%\"  %((anno_csv_new[anno_csv_new['ratio'] < 1].count()[0]*1.0/len(pred_csv_false)*1.0)*100))\n",
    "print(u\"负样本数量：\\t%s个\"  %(len(pred_csv_false)))"
   ]
  },
  {
   "cell_type": "code",
   "execution_count": 5,
   "metadata": {
    "collapsed": true
   },
   "outputs": [],
   "source": [
    "pred_csv_true = pred_csv_true[pred_csv_true.index%1 == 0]\n",
    "pred_csv_false = pred_csv_false[pred_csv_false.index%5 == 0]"
   ]
  },
  {
   "cell_type": "code",
   "execution_count": 6,
   "metadata": {},
   "outputs": [],
   "source": [
    "pred_csv_false.to_csv(pred_csv_path + \"anno_false_final.csv\", index=False)\n",
    "pred_csv_true.to_csv(pred_csv_path + \"anno_true_final.csv\", index=False)"
   ]
  },
  {
   "cell_type": "code",
   "execution_count": 7,
   "metadata": {
    "collapsed": true
   },
   "outputs": [],
   "source": [
    "aa = pd.read_csv(pred_csv_path + \"anno_true_final.csv\")\n",
    "bb = pd.read_csv(pred_csv_path + \"anno_false_final.csv\")"
   ]
  },
  {
   "cell_type": "code",
   "execution_count": 8,
   "metadata": {},
   "outputs": [
    {
     "data": {
      "text/plain": [
       "(1298, 50757)"
      ]
     },
     "execution_count": 8,
     "metadata": {},
     "output_type": "execute_result"
    }
   ],
   "source": [
    "len(aa),len(bb)"
   ]
  },
  {
   "cell_type": "code",
   "execution_count": 9,
   "metadata": {
    "collapsed": true
   },
   "outputs": [],
   "source": [
    "pred_csv_true = pred_csv_true[pred_csv_true.index%1 == 0]\n",
    "pred_csv_false = pred_csv_false[pred_csv_false.index%20 == 0]"
   ]
  },
  {
   "cell_type": "code",
   "execution_count": null,
   "metadata": {
    "collapsed": true
   },
   "outputs": [],
   "source": []
  }
 ],
 "metadata": {
  "kernelspec": {
   "display_name": "Python 2",
   "language": "python",
   "name": "python2"
  },
  "language_info": {
   "codemirror_mode": {
    "name": "ipython",
    "version": 2
   },
   "file_extension": ".py",
   "mimetype": "text/x-python",
   "name": "python",
   "nbconvert_exporter": "python",
   "pygments_lexer": "ipython2",
   "version": "2.7.13"
  }
 },
 "nbformat": 4,
 "nbformat_minor": 2
}
