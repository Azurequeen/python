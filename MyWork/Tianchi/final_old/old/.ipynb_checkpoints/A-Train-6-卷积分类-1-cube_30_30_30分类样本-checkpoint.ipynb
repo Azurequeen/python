{
 "cells": [
  {
   "cell_type": "code",
   "execution_count": 1,
   "metadata": {},
   "outputs": [
    {
     "ename": "ImportError",
     "evalue": "No module named utils.imports",
     "output_type": "error",
     "traceback": [
      "\u001b[0;31m---------------------------------------------------------------------------\u001b[0m",
      "\u001b[0;31mImportError\u001b[0m                               Traceback (most recent call last)",
      "\u001b[0;32m<ipython-input-1-c2b4958dcb27>\u001b[0m in \u001b[0;36m<module>\u001b[0;34m()\u001b[0m\n\u001b[0;32m----> 1\u001b[0;31m \u001b[0;32mfrom\u001b[0m \u001b[0mutils\u001b[0m\u001b[0;34m.\u001b[0m\u001b[0mimports\u001b[0m \u001b[0;32mimport\u001b[0m \u001b[0;34m*\u001b[0m\u001b[0;34m\u001b[0m\u001b[0m\n\u001b[0m",
      "\u001b[0;31mImportError\u001b[0m: No module named utils.imports"
     ]
    }
   ],
   "source": [
    "from utils.imports import *"
   ]
  },
  {
   "cell_type": "code",
   "execution_count": null,
   "metadata": {
    "collapsed": true
   },
   "outputs": [],
   "source": [
    "def create_cls_sample(df_anno,df_pred,img_file,data_path,output_true,output_false):\n",
    "    mini_df_anno = df_anno[df_anno[\"file\"]==img_file] #get all nodules associate with file\n",
    "    mini_df_pred = df_pred[df_pred[\"file\"]==img_file]\n",
    "    if mini_df_anno.shape[0]>0: # some files may not have a nodule--skipping those \n",
    "        patient_id = img_file[:-9]\n",
    "        img_array = np.load(data_path + img_file)\n",
    "        pos_annos = pd.read_csv(data_path + img_file[:-9] + '_annos_pos.csv')\n",
    "        origin = np.array([pos_annos.loc[0]['origin_x'],pos_annos.loc[0]['origin_y'],pos_annos.loc[0]['origin_z']]) \n",
    "        spacing = np.array([pos_annos.loc[0]['spacing_x'],pos_annos.loc[0]['spacing_y'],pos_annos.loc[0]['spacing_z']]) \n",
    "        \n",
    "        for node_idx1, cur_row1 in mini_df_anno.iterrows():       \n",
    "            node_x = cur_row1[\"coordX\"]\n",
    "            node_y = cur_row1[\"coordY\"]\n",
    "            node_z = cur_row1[\"coordZ\"]\n",
    "            diam = cur_row1[\"diameter_mm\"]\n",
    "            center = np.array([node_x, node_y, node_z])   # nodule center\n",
    "            v_center = np.rint(np.absolute(center-origin)/spacing)  # nodule center in voxel space (still x,y,z ordering)\n",
    "            \n",
    "            new_x = int(v_center[0])\n",
    "            new_y = int(v_center[1])\n",
    "            new_z = int(v_center[2])\n",
    "            trainX_1 =  img_array[new_z - 18: new_z + 18,\n",
    "                                  new_y - 18 : new_y + 18,\n",
    "                                  new_x - 18 : new_x + 18] \n",
    "            \n",
    "            if trainX_1.shape == (36,36,36):\n",
    "                np.save(output_true + str(patient_id)+'_'+str(node_idx1)+'_'+str('_0_')+ '_3d_20_6_i.npy',trainX_1)\n",
    "                np.save(output_true + str(patient_id)+'_'+str(node_idx1)+'_'+str('_1_')+ '_3d_20_6_i.npy',np.fliplr(trainX_1))\n",
    "                np.save(output_true + str(patient_id)+'_'+str(node_idx1)+'_'+str('_2_')+ '_3d_20_6_i.npy',np.flipud(trainX_1))\n",
    "            \n",
    "            new_z1 = new_z + random.choice([-2,-1,1,2])\n",
    "            new_y1 = new_y + random.choice([-2,-1,1,2])\n",
    "            new_x1 = new_x + random.choice([-2,-1,1,2])\n",
    "            \n",
    "            trainX_2 =  img_array[new_z1 - 18: new_z1 + 18,\n",
    "                                  new_y1 - 18 : new_y1 + 18,\n",
    "                                  new_x1 - 18 : new_x1 + 18] \n",
    "            \n",
    "            if trainX_2.shape == (36,36,36):\n",
    "                np.save(output_true + str(patient_id)+'_'+str(node_idx1)+'_'+str('_3_')+ '_3d_20_6_i.npy',trainX_2)\n",
    "                np.save(output_true + str(patient_id)+'_'+str(node_idx1)+'_'+str('_4_')+ '_3d_20_6_i.npy',np.fliplr(trainX_2))\n",
    "                np.save(output_true + str(patient_id)+'_'+str(node_idx1)+'_'+str('_5_')+ '_3d_20_6_i.npy',np.flipud(trainX_2))\n",
    "\n",
    "                \n",
    "            new_z2 = new_z + random.choice([-2,-1,1,2])\n",
    "            new_y2 = new_y + random.choice([-2,-1,1,2])\n",
    "            new_x2 = new_x + random.choice([-2,-1,1,2])    \n",
    "            trainX_3 =  img_array[new_z2 - 18: new_z2 + 18,\n",
    "                                  new_y2 - 18 : new_y2 + 18,\n",
    "                                  new_x2 - 18 : new_x2 + 18] \n",
    "            \n",
    "            if trainX_3.shape == (36,36,36):\n",
    "                np.save(output_true + str(patient_id)+'_'+str(node_idx1)+'_'+str('_6_')+ '_3d_20_6_i.npy',trainX_3)\n",
    "                np.save(output_true + str(patient_id)+'_'+str(node_idx1)+'_'+str('_7_')+ '_3d_20_6_i.npy',np.fliplr(trainX_3))\n",
    "                np.save(output_true + str(patient_id)+'_'+str(node_idx1)+'_'+str('_8_')+ '_3d_20_6_i.npy',np.flipud(trainX_3))\n",
    "\n",
    "                        \n",
    "                  \n",
    "\n",
    "        for node_idx2, cur_row2 in mini_df_pred.iterrows():       \n",
    "            node_x = cur_row2[\"coordX\"]\n",
    "            node_y = cur_row2[\"coordY\"]\n",
    "            node_z = cur_row2[\"coordZ\"]\n",
    "            diam = cur_row2[\"diameter_mm\"]\n",
    "            center = np.array([node_x, node_y, node_z])   # nodule center\n",
    "            v_center = np.rint(np.absolute(center-origin)/spacing)  # nodule center in voxel space (still x,y,z ordering)\n",
    "            \n",
    "            \n",
    "            new_x0 = int(v_center[0])\n",
    "            new_y0 = int(v_center[1])\n",
    "            new_z0 = int(v_center[2])\n",
    "            \n",
    "            trainX_0 =   img_array[new_z0 - 18: new_z0 + 18,\n",
    "                                   new_y0 - 18: new_y0 + 18,\n",
    "                                   new_x0 - 18: new_x0 + 18] \n",
    "    \n",
    "            if trainX_0.shape == (36,36,36):\n",
    "                np.save(output_false + str(patient_id)+'_'+str(node_idx2)+'_'+str('_0_') + '_3d_20_6_i.npy',trainX_0)\n",
    "    return"
   ]
  },
  {
   "cell_type": "code",
   "execution_count": null,
   "metadata": {
    "collapsed": true
   },
   "outputs": [],
   "source": [
    "csv_path = PATH['annotations_train']\n",
    "output_true = PATH['cls_train_cube_30_true']\n",
    "output_false = PATH['cls_train_cube_30_false']\n",
    "pred_csv_path = PATH['model_train_pred']\n",
    "data_path = PATH['model_train_pred']\n",
    "anno_csv_new = pd.read_csv(csv_path + \"annotations_all.csv\")\n",
    "pred_csv_new = pd.read_csv(pred_csv_path + \"2final_result.csv\")"
   ]
  },
  {
   "cell_type": "code",
   "execution_count": null,
   "metadata": {
    "collapsed": true
   },
   "outputs": [],
   "source": [
    "patients = [x for x in os.listdir(data_path) if 'pred.npy' in x] "
   ]
  },
  {
   "cell_type": "code",
   "execution_count": null,
   "metadata": {
    "collapsed": true
   },
   "outputs": [],
   "source": [
    "anno_csv_new[\"file\"] = anno_csv_new[\"seriesuid\"].map(lambda file_name: get_filename(patients, file_name))\n",
    "anno_csv_new = anno_csv_new.dropna()\n",
    "pred_csv_new[\"file\"] = pred_csv_new[\"seriesuid\"].map(lambda file_name: get_filename(patients, file_name))\n",
    "pred_csv_new = pred_csv_new.dropna()"
   ]
  },
  {
   "cell_type": "code",
   "execution_count": null,
   "metadata": {
    "scrolled": true
   },
   "outputs": [],
   "source": [
    "Parallel(n_jobs=-1)(delayed(create_cls_sample)(anno_csv_new,pred_csv_new,patient,data_path,output_true,output_false) for patient in tqdm(sorted(patients)))"
   ]
  }
 ],
 "metadata": {
  "kernelspec": {
   "display_name": "Python 2",
   "language": "python",
   "name": "python2"
  },
  "language_info": {
   "codemirror_mode": {
    "name": "ipython",
    "version": 2
   },
   "file_extension": ".py",
   "mimetype": "text/x-python",
   "name": "python",
   "nbconvert_exporter": "python",
   "pygments_lexer": "ipython2",
   "version": "2.7.13"
  }
 },
 "nbformat": 4,
 "nbformat_minor": 2
}
