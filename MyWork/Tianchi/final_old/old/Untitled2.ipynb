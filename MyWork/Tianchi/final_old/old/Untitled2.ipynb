{
 "cells": [
  {
   "cell_type": "code",
   "execution_count": 1,
   "metadata": {},
   "outputs": [
    {
     "name": "stderr",
     "output_type": "stream",
     "text": [
      "Using TensorFlow backend.\n"
     ]
    }
   ],
   "source": [
    "from utils.imports import *"
   ]
  },
  {
   "cell_type": "code",
   "execution_count": null,
   "metadata": {
    "collapsed": true
   },
   "outputs": [],
   "source": [
    "csv_path = PATH['annotations_train']"
   ]
  },
  {
   "cell_type": "code",
   "execution_count": null,
   "metadata": {},
   "outputs": [],
   "source": [
    "csv_path"
   ]
  },
  {
   "cell_type": "code",
   "execution_count": 7,
   "metadata": {},
   "outputs": [
    {
     "data": {
      "text/plain": [
       "['.DS_Store',\n",
       " '0final_0618.csv',\n",
       " 'aafinal_0617_0.28.csv',\n",
       " 'annotations_0502_12125222.csv',\n",
       " 'annotations_0503_11910440.csv',\n",
       " 'annotations_0505_11991088.csv',\n",
       " 'annotations_0508.csv',\n",
       " 'annotations_0510.csv',\n",
       " 'annotations_0604.csv',\n",
       " 'annotations_0604\\xe7\\x9a\\x84\\xe5\\x89\\xaf\\xe6\\x9c\\xac.csv',\n",
       " 'bbfinal_0617_0.4.csv',\n",
       " 'ccfinal.csv']"
      ]
     },
     "execution_count": 7,
     "metadata": {},
     "output_type": "execute_result"
    }
   ],
   "source": [
    "os.listdir('/Volumes/solo/ali/csv/result/')"
   ]
  },
  {
   "cell_type": "code",
   "execution_count": 106,
   "metadata": {
    "collapsed": true
   },
   "outputs": [],
   "source": [
    "aa = pd.read_csv('/Volumes/solo/ali/csv/result/' + 'aafinal_0617_0.28.csv')\n",
    "bb = pd.read_csv('/Volumes/solo/ali/csv/result/' + 'bbfinal_0617_0.4.csv')\n",
    "cc = pd.read_csv('/Volumes/solo/ali/csv/result/' + 'ccfinal.csv')"
   ]
  },
  {
   "cell_type": "code",
   "execution_count": 110,
   "metadata": {},
   "outputs": [],
   "source": [
    "aa99 = aa[aa['probability'] > 0.98]"
   ]
  },
  {
   "cell_type": "code",
   "execution_count": 111,
   "metadata": {},
   "outputs": [
    {
     "data": {
      "text/html": [
       "<div>\n",
       "<style>\n",
       "    .dataframe thead tr:only-child th {\n",
       "        text-align: right;\n",
       "    }\n",
       "\n",
       "    .dataframe thead th {\n",
       "        text-align: left;\n",
       "    }\n",
       "\n",
       "    .dataframe tbody tr th {\n",
       "        vertical-align: top;\n",
       "    }\n",
       "</style>\n",
       "<table border=\"1\" class=\"dataframe\">\n",
       "  <thead>\n",
       "    <tr style=\"text-align: right;\">\n",
       "      <th></th>\n",
       "      <th>coordX</th>\n",
       "      <th>coordY</th>\n",
       "      <th>coordZ</th>\n",
       "      <th>probability</th>\n",
       "    </tr>\n",
       "  </thead>\n",
       "  <tbody>\n",
       "    <tr>\n",
       "      <th>count</th>\n",
       "      <td>502.000000</td>\n",
       "      <td>502.000000</td>\n",
       "      <td>502.000000</td>\n",
       "      <td>502.000000</td>\n",
       "    </tr>\n",
       "    <tr>\n",
       "      <th>mean</th>\n",
       "      <td>-16.823550</td>\n",
       "      <td>59.190410</td>\n",
       "      <td>365.995459</td>\n",
       "      <td>0.991598</td>\n",
       "    </tr>\n",
       "    <tr>\n",
       "      <th>std</th>\n",
       "      <td>75.154804</td>\n",
       "      <td>140.702689</td>\n",
       "      <td>509.633137</td>\n",
       "      <td>0.004443</td>\n",
       "    </tr>\n",
       "    <tr>\n",
       "      <th>min</th>\n",
       "      <td>-144.485396</td>\n",
       "      <td>-211.694123</td>\n",
       "      <td>-634.904147</td>\n",
       "      <td>0.981000</td>\n",
       "    </tr>\n",
       "    <tr>\n",
       "      <th>25%</th>\n",
       "      <td>-77.325203</td>\n",
       "      <td>-84.618994</td>\n",
       "      <td>30.756740</td>\n",
       "      <td>0.988000</td>\n",
       "    </tr>\n",
       "    <tr>\n",
       "      <th>50%</th>\n",
       "      <td>-49.760374</td>\n",
       "      <td>116.566339</td>\n",
       "      <td>209.546797</td>\n",
       "      <td>0.995000</td>\n",
       "    </tr>\n",
       "    <tr>\n",
       "      <th>75%</th>\n",
       "      <td>63.862330</td>\n",
       "      <td>186.863623</td>\n",
       "      <td>805.081458</td>\n",
       "      <td>0.995000</td>\n",
       "    </tr>\n",
       "    <tr>\n",
       "      <th>max</th>\n",
       "      <td>136.565460</td>\n",
       "      <td>288.451564</td>\n",
       "      <td>1823.116260</td>\n",
       "      <td>0.995000</td>\n",
       "    </tr>\n",
       "  </tbody>\n",
       "</table>\n",
       "</div>"
      ],
      "text/plain": [
       "           coordX      coordY       coordZ  probability\n",
       "count  502.000000  502.000000   502.000000   502.000000\n",
       "mean   -16.823550   59.190410   365.995459     0.991598\n",
       "std     75.154804  140.702689   509.633137     0.004443\n",
       "min   -144.485396 -211.694123  -634.904147     0.981000\n",
       "25%    -77.325203  -84.618994    30.756740     0.988000\n",
       "50%    -49.760374  116.566339   209.546797     0.995000\n",
       "75%     63.862330  186.863623   805.081458     0.995000\n",
       "max    136.565460  288.451564  1823.116260     0.995000"
      ]
     },
     "execution_count": 111,
     "metadata": {},
     "output_type": "execute_result"
    }
   ],
   "source": [
    "aa99.describe()"
   ]
  },
  {
   "cell_type": "code",
   "execution_count": 112,
   "metadata": {},
   "outputs": [
    {
     "data": {
      "text/plain": [
       "150"
      ]
     },
     "execution_count": 112,
     "metadata": {},
     "output_type": "execute_result"
    }
   ],
   "source": [
    "len(aa99['seriesuid'].unique())"
   ]
  },
  {
   "cell_type": "code",
   "execution_count": 113,
   "metadata": {
    "collapsed": true
   },
   "outputs": [],
   "source": [
    "aa99.to_csv('aa99.csv')"
   ]
  },
  {
   "cell_type": "code",
   "execution_count": null,
   "metadata": {
    "collapsed": true
   },
   "outputs": [],
   "source": []
  }
 ],
 "metadata": {
  "kernelspec": {
   "display_name": "Python 2",
   "language": "python",
   "name": "python2"
  },
  "language_info": {
   "codemirror_mode": {
    "name": "ipython",
    "version": 2
   },
   "file_extension": ".py",
   "mimetype": "text/x-python",
   "name": "python",
   "nbconvert_exporter": "python",
   "pygments_lexer": "ipython2",
   "version": "2.7.13"
  }
 },
 "nbformat": 4,
 "nbformat_minor": 2
}
