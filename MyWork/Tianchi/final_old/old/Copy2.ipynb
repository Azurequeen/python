{
 "cells": [
  {
   "cell_type": "code",
   "execution_count": 1,
   "metadata": {},
   "outputs": [
    {
     "name": "stderr",
     "output_type": "stream",
     "text": [
      "Using TensorFlow backend.\n"
     ]
    }
   ],
   "source": [
    "from utils.imports import *"
   ]
  },
  {
   "cell_type": "code",
   "execution_count": 2,
   "metadata": {
    "collapsed": true
   },
   "outputs": [],
   "source": [
    "from keras.models import Sequential\n",
    "from keras.layers import Dense, Dropout, Activation, Flatten\n",
    "from keras.layers import Convolution3D, MaxPooling3D\n",
    "from keras.utils import np_utils\n",
    "from keras import backend as K\n",
    "\n",
    "'''\n",
    "Creates a keras model with 3D CNNs and returns the model.\n",
    "'''\n",
    "def classifier(input_shape, kernel_size, pool_size):\n",
    "    model = Sequential()\n",
    "\n",
    "    model.add(Convolution3D(16, kernel_size[0], kernel_size[1], kernel_size[2],\n",
    "                            border_mode='valid',input_shape=(1, 36, 36, 36)))\n",
    "    model.add(Activation('relu'))\n",
    "    model.add(MaxPooling3D(pool_size=pool_size))\n",
    "    model.add(Convolution3D(32, kernel_size[0], kernel_size[1], kernel_size[2]))\n",
    "    model.add(Activation('relu'))\n",
    "    model.add(MaxPooling3D(pool_size=pool_size))\n",
    "    model.add(Convolution3D(64, kernel_size[0], kernel_size[1], kernel_size[2]))\n",
    "    model.add(Activation('relu'))\n",
    "    model.add(MaxPooling3D(pool_size=pool_size))\n",
    "    model.add(Dropout(0.25))\n",
    "\n",
    "    model.add(Flatten())\n",
    "    model.add(Dense(512))\n",
    "    model.add(Activation('relu'))\n",
    "    model.add(Dropout(0.5))\n",
    "    model.add(Dense(128))\n",
    "    model.add(Activation('relu'))\n",
    "    model.add(Dropout(0.5))\n",
    "    model.add(Dense(2))\n",
    "    model.add(Activation('softmax'))\n",
    "\n",
    "    return model\n",
    "\n",
    "def train_classifier(input_shape):\n",
    "    model = classifier(input_shape, (3, 3, 3), (2, 2, 2))\n",
    "    model.compile(loss='categorical_crossentropy',\n",
    "          optimizer='adadelta',\n",
    "          metrics=['accuracy'])\n",
    "    '''\n",
    "    Read the preprocessed datafiles chunk by chunnk and train the model on that batch (trainX, trainY) using:'''\n",
    "    model.train_on_batch(trainX, trainY, sample_weight=None)\n",
    "    '''The model can be trained on many epochs using for loops'''\n",
    "    \n",
    "    '''\n",
    "    AFter training the dataset we test our model of the test dataset, read the test file chunk by chunk and \n",
    "    test on each chunk (trainX, trainY) using:'''\n",
    "    print (model.test_on_batch(trainX, trainY, sample_weight=None))\n",
    "    '''The average of all of this can be taken to obtain the final test score.'''\n",
    "    \n",
    "    '''After testing save the model using'''\n",
    "    model.save('my_model.h5')"
   ]
  },
  {
   "cell_type": "code",
   "execution_count": 3,
   "metadata": {
    "collapsed": true
   },
   "outputs": [],
   "source": [
    "def train_generator(folders):\n",
    "    trainX = np.empty([len(folders)*108, 36, 36, 36])\n",
    "    trainY = np.empty([len(folders)*108,2])\n",
    "    for i in tqdm(range(len(folders))):\n",
    "        X = np.load(output_true + folders[i])\n",
    "        Y = np.load(output_true + folders[i][:-10] + 'Ytrain.npy')\n",
    "        if X.shape == (108,36,36,36):\n",
    "            trainX[i*108:(i+1)*108] = X\n",
    "            y = np.empty([108,2])\n",
    "            for j in range(len(Y)):\n",
    "                if Y[j] == 'True':\n",
    "                    y[j][0] = 1\n",
    "                    y[j][1] = 0\n",
    "                else:\n",
    "                    y[j][1] = 1\n",
    "                    y[j][0] = 0\n",
    "\n",
    "\n",
    "            trainY[i*108:(i+1)*108] = y\n",
    "    trainX = np.expand_dims(trainX,1)     \n",
    "    return trainX,trainY\n",
    "\n",
    "def model_30_cube(input_shape, kernel_size, pool_size):    \n",
    "    model = Sequential()\n",
    "\n",
    "    model.add(Convolution3D(16, kernel_size[0], kernel_size[1], kernel_size[2],\n",
    "                            border_mode='valid',input_shape=input_shape))\n",
    "    model.add(Activation('relu'))\n",
    "    model.add(MaxPooling3D(pool_size=pool_size))\n",
    "    model.add(Convolution3D(32, kernel_size[0], kernel_size[1], kernel_size[2]))\n",
    "    model.add(Activation('relu'))\n",
    "    model.add(MaxPooling3D(pool_size=pool_size))\n",
    "    model.add(Convolution3D(64, kernel_size[0], kernel_size[1], kernel_size[2]))\n",
    "    model.add(Activation('relu'))\n",
    "    model.add(MaxPooling3D(pool_size=pool_size))\n",
    "    model.add(Dropout(0.25))\n",
    "\n",
    "    model.add(Flatten())\n",
    "    model.add(Dense(512))\n",
    "    model.add(Activation('relu'))\n",
    "    model.add(Dropout(0.5))\n",
    "    model.add(Dense(128))\n",
    "    model.add(Activation('relu'))\n",
    "    model.add(Dropout(0.5))\n",
    "    model.add(Dense(2))\n",
    "    model.add(Activation('softmax'))\n",
    "    model.compile(loss='categorical_crossentropy',optimizer='adadelta',metrics=['accuracy'])\n",
    "    return model\n",
    "\n",
    "def fenlei_fit(name, load_check = False,batch_size=2, epochs=100,check_name = None):\n",
    "\n",
    "    t = time.time()\n",
    "    callbacks = [EarlyStopping(monitor='acc', patience = 5, verbose = 1),\n",
    "                 ModelCheckpoint((model_paths + '{}.h5').format(name),\n",
    "                                 monitor='acc',\n",
    "                                 verbose = 0,\n",
    "                                 save_best_only = True)]\n",
    "    if load_check:\n",
    "        check_model = (model_paths + '{}.h5').format(check_name)\n",
    "        model = load_model(check_model)\n",
    "    else:\n",
    "        model = model_30_cube(input_shape, (3, 3, 3), (2, 2, 2))\n",
    "    x,y = train_generator(folders)\n",
    "    model.fit(x=x, y=y, batch_size=batch_size, epochs=epochs,\n",
    "              validation_split = 0.2,verbose=1, callbacks=callbacks, shuffle=True)\n",
    "    \n",
    " \n",
    "    return model"
   ]
  },
  {
   "cell_type": "code",
   "execution_count": null,
   "metadata": {
    "collapsed": true
   },
   "outputs": [],
   "source": [
    "output_path = PATH['cls_train_30']\n",
    "output_true = PATH['cls_train_30_true']\n",
    "folders = [x for x in os.listdir(output_true) if 'Xtrain' in x]\n",
    "model_paths = PATH['model_paths']\n",
    "\n",
    "input_shape = (1, 36, 36, 36)"
   ]
  },
  {
   "cell_type": "code",
   "execution_count": null,
   "metadata": {},
   "outputs": [
    {
     "name": "stderr",
     "output_type": "stream",
     "text": [
      "100%|██████████| 975/975 [07:17<00:00,  1.76it/s]\n"
     ]
    },
    {
     "name": "stdout",
     "output_type": "stream",
     "text": [
      "Train on 84240 samples, validate on 21060 samples\n",
      "Epoch 1/20\n",
      "84240/84240 [==============================] - 1985s - loss: nan - acc: 0.0094 - val_loss: nan - val_acc: 0.0092\n",
      "Epoch 2/20\n",
      "84240/84240 [==============================] - 2169s - loss: nan - acc: 0.0079 - val_loss: nan - val_acc: 0.0092\n",
      "Epoch 3/20\n",
      "70108/84240 [=======================>......] - ETA: 318s - loss: nan - acc: 0.0081"
     ]
    }
   ],
   "source": [
    "fenlei_fit('Fenge_0613', load_check = False, batch_size=2, epochs=20, check_name = 'Fenge_0613')"
   ]
  },
  {
   "cell_type": "code",
   "execution_count": null,
   "metadata": {
    "collapsed": true
   },
   "outputs": [],
   "source": []
  }
 ],
 "metadata": {
  "kernelspec": {
   "display_name": "Python 2",
   "language": "python",
   "name": "python2"
  },
  "language_info": {
   "codemirror_mode": {
    "name": "ipython",
    "version": 2
   },
   "file_extension": ".py",
   "mimetype": "text/x-python",
   "name": "python",
   "nbconvert_exporter": "python",
   "pygments_lexer": "ipython2",
   "version": "2.7.13"
  }
 },
 "nbformat": 4,
 "nbformat_minor": 2
}
