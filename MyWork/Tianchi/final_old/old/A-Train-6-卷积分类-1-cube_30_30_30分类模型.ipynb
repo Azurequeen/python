{
 "cells": [
  {
   "cell_type": "code",
   "execution_count": 1,
   "metadata": {},
   "outputs": [
    {
     "name": "stderr",
     "output_type": "stream",
     "text": [
      "Using TensorFlow backend.\n"
     ]
    }
   ],
   "source": [
    "from utils.imports import *"
   ]
  },
  {
   "cell_type": "code",
   "execution_count": null,
   "metadata": {
    "collapsed": true
   },
   "outputs": [],
   "source": []
  },
  {
   "cell_type": "code",
   "execution_count": 2,
   "metadata": {
    "collapsed": true
   },
   "outputs": [],
   "source": [
    "output_path = PATH['cls_train_cube_30']\n",
    "output_true = PATH['cls_train_cube_30_true']\n",
    "output_false = PATH['cls_train_cube_30_false']\n",
    "model_paths = PATH['model_paths']\n",
    "model_final = PATH['model_final']"
   ]
  },
  {
   "cell_type": "code",
   "execution_count": 3,
   "metadata": {
    "collapsed": true
   },
   "outputs": [],
   "source": [
    "\n",
    "def get_dirfiles(dir):\n",
    "    file_list = []\n",
    "    subset_path = os.listdir(dir)\n",
    "    for _ in range(len(subset_path)):\n",
    "        if subset_path[_] != '.DS_Store':\n",
    "            file_list.append(dir + subset_path[_])\n",
    "    return file_list\n",
    "\n",
    "def train_generator(output_true,output_false):\n",
    "    file_list_true = get_dirfiles(output_true)[:20]\n",
    "    file_list_false = get_dirfiles(output_false)[:20]\n",
    "    \n",
    "    #file_list_true = shuffle(file_list_true)\n",
    "    #file_list_false = shuffle(file_list_false)\n",
    "    \n",
    "    nb_true = len(file_list_true) + len(file_list_false)\n",
    "    sample = np.zeros([nb_true,36,36,36])\n",
    "    labels = np.zeros([nb_true,2])\n",
    "    for i in tqdm(range(len(file_list_true))):       \n",
    "        cc= np.load(file_list_true[i])\n",
    "        sample[i] = cc\n",
    "        labels[i] = [0.,1.]\n",
    "    for j in tqdm(range(len(file_list_false))):\n",
    "        bb= np.load(file_list_false[j])\n",
    "        sample[j+len(file_list_true)] = bb \n",
    "        labels[j+len(file_list_true)] = [1.,0.]\n",
    "    sample = np.expand_dims(sample, axis=1)        \n",
    "    return sample,labels\n",
    "\n",
    "def valid_generator(output_true,output_false):\n",
    "    file_list_true = get_dirfiles(output_true)[-5:]\n",
    "    file_list_false = get_dirfiles(output_false)[-5:]\n",
    "    \n",
    "    #file_list_true = shuffle(file_list_true)\n",
    "    #file_list_false = shuffle(file_list_false)\n",
    "\n",
    "    nb_true = len(file_list_true) + len(file_list_false)\n",
    "    sample = np.zeros([nb_true,36,36,36])\n",
    "    labels = np.zeros([nb_true,2])\n",
    "  \n",
    "    for i in tqdm(range(len(file_list_true))):       \n",
    "        cc= np.load(file_list_true[i])\n",
    "        sample[i] = cc\n",
    "        labels[i] = [0.,1.]\n",
    "    for j in tqdm(range(len(file_list_false))):\n",
    "        bb= np.load(file_list_false[j])\n",
    "        sample[j+len(file_list_true)] = bb \n",
    "        labels[j+len(file_list_true)] = [1.,0.]\n",
    "    sample = np.expand_dims(sample, axis=1)        \n",
    "    return sample,labels\n",
    "\n",
    "def classifier(input_shape, width, kernel_size, pool_size):\n",
    "    model = Sequential()\n",
    "\n",
    "    model.add(Convolution3D(width*1, kernel_size[0], kernel_size[1], kernel_size[2],\n",
    "                            border_mode='valid',\n",
    "                            input_shape=input_shape))\n",
    "    #model.add(BatchNormalization())\n",
    "    model.add(Activation('relu'))\n",
    "    model.add(MaxPooling3D(pool_size=pool_size))\n",
    "    model.add(Convolution3D(width*2, kernel_size[0], kernel_size[1], kernel_size[2]))\n",
    "    #model.add(BatchNormalization())    \n",
    "    model.add(Activation('relu'))\n",
    "    model.add(MaxPooling3D(pool_size=pool_size))\n",
    "    model.add(Convolution3D(width*4, kernel_size[0], kernel_size[1], kernel_size[2]))\n",
    "    #model.add(BatchNormalization())    \n",
    "    model.add(Activation('relu'))\n",
    "    model.add(MaxPooling3D(pool_size=pool_size))\n",
    "    model.add(Dropout(0.2))\n",
    "\n",
    "    model.add(Flatten())\n",
    "    model.add(Dense(512))\n",
    "    model.add(Activation('relu'))\n",
    "    model.add(Dropout(0.2))\n",
    "    model.add(Dense(128))\n",
    "    model.add(Activation('relu'))\n",
    "    model.add(Dropout(0.2))\n",
    "    model.add(Dense(2))\n",
    "    model.add(Activation('softmax'))\n",
    "    model.compile(loss='categorical_crossentropy',\n",
    "          optimizer=Adam(lr=1e-5),\n",
    "          metrics=['accuracy'])\n",
    "    return model\n",
    "\n",
    "\n",
    "def fenlei_fit(name, load_check = False,batch_size=2, epochs=100,check_name = None):\n",
    "    t = time.time()\n",
    "    callbacks = [EarlyStopping(monitor='val_loss', patience = 100, verbose = 1),\n",
    "                 ModelCheckpoint((model_paths + '{}.h5').format(name),\n",
    "                                 monitor='val_loss',\n",
    "                                 verbose = 0,\n",
    "                                 save_best_only = True)]\n",
    "    if load_check:\n",
    "        check_model = (model_paths + '{}.h5').format(check_name)\n",
    "        model = load_model(check_model)\n",
    "    else:\n",
    "        #model = model_20()\n",
    "        #model = preds3d_dense(48)\n",
    "        model = classifier((1, 36, 36, 36), 16, (3, 3, 3), (2, 2, 2))\n",
    "    x,y = train_generator(output_true,output_false)\n",
    "    model.fit(x=x, y=y, batch_size=batch_size, epochs=epochs,\n",
    "              validation_data=valid_generator(output_true,output_false),verbose=1, callbacks=callbacks, shuffle=False) \n",
    "    return model\n"
   ]
  },
  {
   "cell_type": "code",
   "execution_count": 4,
   "metadata": {
    "scrolled": true
   },
   "outputs": [
    {
     "name": "stderr",
     "output_type": "stream",
     "text": [
      "100%|██████████| 20/20 [00:03<00:00,  2.68it/s]\n",
      "100%|██████████| 20/20 [00:11<00:00,  1.74it/s]\n",
      "100%|██████████| 5/5 [00:00<00:00, 20.52it/s]\n",
      "100%|██████████| 5/5 [00:00<00:00, 2374.22it/s]\n"
     ]
    },
    {
     "name": "stdout",
     "output_type": "stream",
     "text": [
      "Train on 40 samples, validate on 10 samples\n",
      "Epoch 1/100\n",
      "40/40 [==============================] - 2s - loss: 0.7507 - acc: 0.5500 - val_loss: 0.7286 - val_acc: 0.3000\n",
      "Epoch 2/100\n",
      "40/40 [==============================] - 0s - loss: 0.7102 - acc: 0.5250 - val_loss: 0.7271 - val_acc: 0.3000\n",
      "Epoch 3/100\n",
      "40/40 [==============================] - 0s - loss: 0.7437 - acc: 0.5500 - val_loss: 0.7267 - val_acc: 0.4000\n",
      "Epoch 4/100\n",
      "40/40 [==============================] - 0s - loss: 0.7379 - acc: 0.5750 - val_loss: 0.7245 - val_acc: 0.3000\n",
      "Epoch 5/100\n",
      "40/40 [==============================] - 0s - loss: 0.6927 - acc: 0.5750 - val_loss: 0.7268 - val_acc: 0.3000\n",
      "Epoch 6/100\n",
      "40/40 [==============================] - 0s - loss: 0.7760 - acc: 0.5250 - val_loss: 0.7253 - val_acc: 0.4000\n",
      "Epoch 7/100\n",
      "40/40 [==============================] - 0s - loss: 0.7448 - acc: 0.5250 - val_loss: 0.7256 - val_acc: 0.4000\n",
      "Epoch 8/100\n",
      "40/40 [==============================] - 0s - loss: 0.6145 - acc: 0.6500 - val_loss: 0.7266 - val_acc: 0.4000\n",
      "Epoch 9/100\n",
      "40/40 [==============================] - 0s - loss: 0.7221 - acc: 0.5500 - val_loss: 0.7272 - val_acc: 0.4000\n",
      "Epoch 10/100\n",
      "40/40 [==============================] - 0s - loss: 0.6820 - acc: 0.6000 - val_loss: 0.7303 - val_acc: 0.4000\n",
      "Epoch 11/100\n",
      "40/40 [==============================] - 0s - loss: 0.6259 - acc: 0.6250 - val_loss: 0.7355 - val_acc: 0.4000\n",
      "Epoch 12/100\n",
      "40/40 [==============================] - 0s - loss: 0.6506 - acc: 0.6000 - val_loss: 0.7437 - val_acc: 0.2000\n",
      "Epoch 13/100\n",
      "40/40 [==============================] - 0s - loss: 0.6873 - acc: 0.5750 - val_loss: 0.7475 - val_acc: 0.2000\n",
      "Epoch 14/100\n",
      "40/40 [==============================] - 0s - loss: 0.6597 - acc: 0.6500 - val_loss: 0.7495 - val_acc: 0.2000\n",
      "Epoch 15/100\n",
      "40/40 [==============================] - 0s - loss: 0.6213 - acc: 0.7750 - val_loss: 0.7467 - val_acc: 0.2000\n",
      "Epoch 16/100\n",
      "40/40 [==============================] - 0s - loss: 0.6770 - acc: 0.5750 - val_loss: 0.7463 - val_acc: 0.2000\n",
      "Epoch 17/100\n",
      "40/40 [==============================] - 0s - loss: 0.7052 - acc: 0.6250 - val_loss: 0.7448 - val_acc: 0.2000\n",
      "Epoch 18/100\n",
      "40/40 [==============================] - 0s - loss: 0.6743 - acc: 0.6500 - val_loss: 0.7508 - val_acc: 0.2000\n",
      "Epoch 19/100\n",
      "40/40 [==============================] - 0s - loss: 0.5850 - acc: 0.7250 - val_loss: 0.7552 - val_acc: 0.2000\n",
      "Epoch 20/100\n",
      "40/40 [==============================] - 0s - loss: 0.7104 - acc: 0.5500 - val_loss: 0.7595 - val_acc: 0.2000\n",
      "Epoch 21/100\n",
      "40/40 [==============================] - 0s - loss: 0.5887 - acc: 0.6500 - val_loss: 0.7628 - val_acc: 0.2000\n",
      "Epoch 22/100\n",
      "40/40 [==============================] - 0s - loss: 0.6388 - acc: 0.6750 - val_loss: 0.7650 - val_acc: 0.2000\n",
      "Epoch 23/100\n",
      "40/40 [==============================] - 0s - loss: 0.6756 - acc: 0.6250 - val_loss: 0.7656 - val_acc: 0.2000\n",
      "Epoch 24/100\n",
      "40/40 [==============================] - 0s - loss: 0.5870 - acc: 0.6500 - val_loss: 0.7693 - val_acc: 0.2000\n",
      "Epoch 25/100\n",
      "40/40 [==============================] - 0s - loss: 0.6576 - acc: 0.6250 - val_loss: 0.7737 - val_acc: 0.2000\n",
      "Epoch 26/100\n",
      "40/40 [==============================] - 0s - loss: 0.7028 - acc: 0.6500 - val_loss: 0.7778 - val_acc: 0.2000\n",
      "Epoch 27/100\n",
      "40/40 [==============================] - 0s - loss: 0.6337 - acc: 0.6500 - val_loss: 0.7743 - val_acc: 0.2000\n",
      "Epoch 28/100\n",
      "40/40 [==============================] - 0s - loss: 0.6691 - acc: 0.6250 - val_loss: 0.7769 - val_acc: 0.2000\n",
      "Epoch 29/100\n",
      "40/40 [==============================] - 0s - loss: 0.5088 - acc: 0.8250 - val_loss: 0.7792 - val_acc: 0.2000\n",
      "Epoch 30/100\n",
      "40/40 [==============================] - 0s - loss: 0.5774 - acc: 0.7750 - val_loss: 0.7799 - val_acc: 0.2000\n",
      "Epoch 31/100\n",
      "40/40 [==============================] - 0s - loss: 0.5636 - acc: 0.8000 - val_loss: 0.7841 - val_acc: 0.2000\n",
      "Epoch 32/100\n",
      "40/40 [==============================] - 0s - loss: 0.6486 - acc: 0.6000 - val_loss: 0.7901 - val_acc: 0.2000\n",
      "Epoch 33/100\n",
      "40/40 [==============================] - 0s - loss: 0.5700 - acc: 0.6750 - val_loss: 0.7902 - val_acc: 0.2000\n",
      "Epoch 34/100\n",
      "40/40 [==============================] - 0s - loss: 0.6226 - acc: 0.7000 - val_loss: 0.7929 - val_acc: 0.2000\n",
      "Epoch 35/100\n",
      "40/40 [==============================] - 0s - loss: 0.5492 - acc: 0.8500 - val_loss: 0.7940 - val_acc: 0.2000\n",
      "Epoch 36/100\n",
      "40/40 [==============================] - 0s - loss: 0.6091 - acc: 0.7000 - val_loss: 0.8022 - val_acc: 0.2000\n",
      "Epoch 37/100\n",
      "40/40 [==============================] - 0s - loss: 0.5700 - acc: 0.7250 - val_loss: 0.8082 - val_acc: 0.2000\n",
      "Epoch 38/100\n",
      "40/40 [==============================] - 0s - loss: 0.5931 - acc: 0.6750 - val_loss: 0.8101 - val_acc: 0.2000\n",
      "Epoch 39/100\n",
      "40/40 [==============================] - 0s - loss: 0.5387 - acc: 0.8000 - val_loss: 0.8128 - val_acc: 0.2000\n",
      "Epoch 40/100\n",
      "40/40 [==============================] - 0s - loss: 0.5328 - acc: 0.7250 - val_loss: 0.8175 - val_acc: 0.2000\n",
      "Epoch 41/100\n",
      "40/40 [==============================] - 0s - loss: 0.6581 - acc: 0.6500 - val_loss: 0.8288 - val_acc: 0.2000\n",
      "Epoch 42/100\n",
      "40/40 [==============================] - 0s - loss: 0.5852 - acc: 0.7250 - val_loss: 0.8363 - val_acc: 0.2000\n",
      "Epoch 43/100\n",
      "40/40 [==============================] - 0s - loss: 0.5536 - acc: 0.8250 - val_loss: 0.8404 - val_acc: 0.2000\n",
      "Epoch 44/100\n",
      "40/40 [==============================] - 0s - loss: 0.5536 - acc: 0.7500 - val_loss: 0.8431 - val_acc: 0.2000\n",
      "Epoch 45/100\n",
      "40/40 [==============================] - 0s - loss: 0.5051 - acc: 0.8250 - val_loss: 0.8494 - val_acc: 0.2000\n",
      "Epoch 46/100\n",
      "40/40 [==============================] - 0s - loss: 0.5253 - acc: 0.7250 - val_loss: 0.8588 - val_acc: 0.2000\n",
      "Epoch 47/100\n",
      "40/40 [==============================] - 0s - loss: 0.5825 - acc: 0.6750 - val_loss: 0.8673 - val_acc: 0.2000\n",
      "Epoch 48/100\n",
      "40/40 [==============================] - 0s - loss: 0.5330 - acc: 0.7250 - val_loss: 0.8757 - val_acc: 0.2000\n",
      "Epoch 49/100\n",
      "40/40 [==============================] - 0s - loss: 0.5737 - acc: 0.7250 - val_loss: 0.8864 - val_acc: 0.2000\n",
      "Epoch 50/100\n",
      "40/40 [==============================] - 0s - loss: 0.5259 - acc: 0.7500 - val_loss: 0.8864 - val_acc: 0.2000\n",
      "Epoch 51/100\n",
      "40/40 [==============================] - 0s - loss: 0.5343 - acc: 0.7750 - val_loss: 0.8921 - val_acc: 0.2000\n",
      "Epoch 52/100\n",
      "40/40 [==============================] - 0s - loss: 0.5595 - acc: 0.7250 - val_loss: 0.8927 - val_acc: 0.2000\n",
      "Epoch 53/100\n",
      "40/40 [==============================] - 0s - loss: 0.5540 - acc: 0.6750 - val_loss: 0.8952 - val_acc: 0.2000\n",
      "Epoch 54/100\n",
      "40/40 [==============================] - 0s - loss: 0.5509 - acc: 0.7250 - val_loss: 0.9043 - val_acc: 0.2000\n",
      "Epoch 55/100\n",
      "40/40 [==============================] - 0s - loss: 0.5647 - acc: 0.6750 - val_loss: 0.9115 - val_acc: 0.2000\n",
      "Epoch 56/100\n",
      "40/40 [==============================] - 0s - loss: 0.4989 - acc: 0.7750 - val_loss: 0.9147 - val_acc: 0.2000\n",
      "Epoch 57/100\n",
      "40/40 [==============================] - 0s - loss: 0.5650 - acc: 0.7250 - val_loss: 0.9186 - val_acc: 0.2000\n",
      "Epoch 58/100\n",
      "40/40 [==============================] - 0s - loss: 0.5604 - acc: 0.7500 - val_loss: 0.9180 - val_acc: 0.2000\n",
      "Epoch 59/100\n",
      "40/40 [==============================] - 0s - loss: 0.4608 - acc: 0.8250 - val_loss: 0.9224 - val_acc: 0.2000\n",
      "Epoch 60/100\n",
      "40/40 [==============================] - 0s - loss: 0.4840 - acc: 0.8000 - val_loss: 0.9334 - val_acc: 0.2000\n",
      "Epoch 61/100\n",
      "40/40 [==============================] - 0s - loss: 0.4922 - acc: 0.8250 - val_loss: 0.9407 - val_acc: 0.2000\n",
      "Epoch 62/100\n",
      "40/40 [==============================] - 0s - loss: 0.4470 - acc: 0.8500 - val_loss: 0.9460 - val_acc: 0.2000\n",
      "Epoch 63/100\n",
      "40/40 [==============================] - 0s - loss: 0.5715 - acc: 0.8000 - val_loss: 0.9559 - val_acc: 0.2000\n",
      "Epoch 64/100\n",
      "40/40 [==============================] - 0s - loss: 0.5649 - acc: 0.7000 - val_loss: 0.9543 - val_acc: 0.2000\n",
      "Epoch 65/100\n",
      "40/40 [==============================] - 0s - loss: 0.4976 - acc: 0.7750 - val_loss: 0.9569 - val_acc: 0.2000\n",
      "Epoch 66/100\n",
      "40/40 [==============================] - 0s - loss: 0.4573 - acc: 0.8750 - val_loss: 0.9634 - val_acc: 0.2000\n",
      "Epoch 67/100\n"
     ]
    },
    {
     "name": "stdout",
     "output_type": "stream",
     "text": [
      "40/40 [==============================] - 0s - loss: 0.5026 - acc: 0.8000 - val_loss: 0.9690 - val_acc: 0.2000\n",
      "Epoch 68/100\n",
      "40/40 [==============================] - 0s - loss: 0.4360 - acc: 0.9000 - val_loss: 0.9736 - val_acc: 0.2000\n",
      "Epoch 69/100\n",
      "40/40 [==============================] - 0s - loss: 0.4885 - acc: 0.8000 - val_loss: 0.9792 - val_acc: 0.2000\n",
      "Epoch 70/100\n",
      "40/40 [==============================] - 0s - loss: 0.5238 - acc: 0.7750 - val_loss: 0.9831 - val_acc: 0.2000\n",
      "Epoch 71/100\n",
      "40/40 [==============================] - 0s - loss: 0.4947 - acc: 0.7750 - val_loss: 0.9911 - val_acc: 0.2000\n",
      "Epoch 72/100\n",
      "40/40 [==============================] - 0s - loss: 0.4884 - acc: 0.7750 - val_loss: 0.9959 - val_acc: 0.2000\n",
      "Epoch 73/100\n",
      "40/40 [==============================] - 0s - loss: 0.4026 - acc: 0.9000 - val_loss: 1.0011 - val_acc: 0.2000\n",
      "Epoch 74/100\n",
      "40/40 [==============================] - 0s - loss: 0.4756 - acc: 0.8500 - val_loss: 1.0106 - val_acc: 0.2000\n",
      "Epoch 75/100\n"
     ]
    },
    {
     "ename": "KeyboardInterrupt",
     "evalue": "",
     "output_type": "error",
     "traceback": [
      "\u001b[0;31m---------------------------------------------------------------------------\u001b[0m",
      "\u001b[0;31mKeyboardInterrupt\u001b[0m                         Traceback (most recent call last)",
      "\u001b[0;32m<ipython-input-4-344f0e12d56e>\u001b[0m in \u001b[0;36m<module>\u001b[0;34m()\u001b[0m\n\u001b[0;32m----> 1\u001b[0;31m \u001b[0mfenlei_fit\u001b[0m\u001b[0;34m(\u001b[0m\u001b[0;34m'Fenge_36_36_36_0619_2'\u001b[0m\u001b[0;34m,\u001b[0m \u001b[0mload_check\u001b[0m \u001b[0;34m=\u001b[0m \u001b[0mFalse\u001b[0m\u001b[0;34m,\u001b[0m \u001b[0mbatch_size\u001b[0m\u001b[0;34m=\u001b[0m\u001b[0;36m2\u001b[0m\u001b[0;34m,\u001b[0m \u001b[0mepochs\u001b[0m\u001b[0;34m=\u001b[0m\u001b[0;36m100\u001b[0m\u001b[0;34m,\u001b[0m \u001b[0mcheck_name\u001b[0m \u001b[0;34m=\u001b[0m \u001b[0;34m'Fenge_36_36_36_0619_2'\u001b[0m\u001b[0;34m)\u001b[0m\u001b[0;34m\u001b[0m\u001b[0m\n\u001b[0m",
      "\u001b[0;32m<ipython-input-3-70650464d3c8>\u001b[0m in \u001b[0;36mfenlei_fit\u001b[0;34m(name, load_check, batch_size, epochs, check_name)\u001b[0m\n\u001b[1;32m    101\u001b[0m     \u001b[0mx\u001b[0m\u001b[0;34m,\u001b[0m\u001b[0my\u001b[0m \u001b[0;34m=\u001b[0m \u001b[0mtrain_generator\u001b[0m\u001b[0;34m(\u001b[0m\u001b[0moutput_true\u001b[0m\u001b[0;34m,\u001b[0m\u001b[0moutput_false\u001b[0m\u001b[0;34m)\u001b[0m\u001b[0;34m\u001b[0m\u001b[0m\n\u001b[1;32m    102\u001b[0m     model.fit(x=x, y=y, batch_size=batch_size, epochs=epochs,\n\u001b[0;32m--> 103\u001b[0;31m               validation_data=valid_generator(output_true,output_false),verbose=1, callbacks=callbacks, shuffle=False) \n\u001b[0m\u001b[1;32m    104\u001b[0m     \u001b[0;32mreturn\u001b[0m \u001b[0mmodel\u001b[0m\u001b[0;34m\u001b[0m\u001b[0m\n",
      "\u001b[0;32m/Users/mahui/anaconda/lib/python2.7/site-packages/keras/models.pyc\u001b[0m in \u001b[0;36mfit\u001b[0;34m(self, x, y, batch_size, epochs, verbose, callbacks, validation_split, validation_data, shuffle, class_weight, sample_weight, initial_epoch, **kwargs)\u001b[0m\n\u001b[1;32m    854\u001b[0m                               \u001b[0mclass_weight\u001b[0m\u001b[0;34m=\u001b[0m\u001b[0mclass_weight\u001b[0m\u001b[0;34m,\u001b[0m\u001b[0;34m\u001b[0m\u001b[0m\n\u001b[1;32m    855\u001b[0m                               \u001b[0msample_weight\u001b[0m\u001b[0;34m=\u001b[0m\u001b[0msample_weight\u001b[0m\u001b[0;34m,\u001b[0m\u001b[0;34m\u001b[0m\u001b[0m\n\u001b[0;32m--> 856\u001b[0;31m                               initial_epoch=initial_epoch)\n\u001b[0m\u001b[1;32m    857\u001b[0m \u001b[0;34m\u001b[0m\u001b[0m\n\u001b[1;32m    858\u001b[0m     def evaluate(self, x, y, batch_size=32, verbose=1,\n",
      "\u001b[0;32m/Users/mahui/anaconda/lib/python2.7/site-packages/keras/engine/training.pyc\u001b[0m in \u001b[0;36mfit\u001b[0;34m(self, x, y, batch_size, epochs, verbose, callbacks, validation_split, validation_data, shuffle, class_weight, sample_weight, initial_epoch, **kwargs)\u001b[0m\n\u001b[1;32m   1496\u001b[0m                               \u001b[0mval_f\u001b[0m\u001b[0;34m=\u001b[0m\u001b[0mval_f\u001b[0m\u001b[0;34m,\u001b[0m \u001b[0mval_ins\u001b[0m\u001b[0;34m=\u001b[0m\u001b[0mval_ins\u001b[0m\u001b[0;34m,\u001b[0m \u001b[0mshuffle\u001b[0m\u001b[0;34m=\u001b[0m\u001b[0mshuffle\u001b[0m\u001b[0;34m,\u001b[0m\u001b[0;34m\u001b[0m\u001b[0m\n\u001b[1;32m   1497\u001b[0m                               \u001b[0mcallback_metrics\u001b[0m\u001b[0;34m=\u001b[0m\u001b[0mcallback_metrics\u001b[0m\u001b[0;34m,\u001b[0m\u001b[0;34m\u001b[0m\u001b[0m\n\u001b[0;32m-> 1498\u001b[0;31m                               initial_epoch=initial_epoch)\n\u001b[0m\u001b[1;32m   1499\u001b[0m \u001b[0;34m\u001b[0m\u001b[0m\n\u001b[1;32m   1500\u001b[0m     \u001b[0;32mdef\u001b[0m \u001b[0mevaluate\u001b[0m\u001b[0;34m(\u001b[0m\u001b[0mself\u001b[0m\u001b[0;34m,\u001b[0m \u001b[0mx\u001b[0m\u001b[0;34m,\u001b[0m \u001b[0my\u001b[0m\u001b[0;34m,\u001b[0m \u001b[0mbatch_size\u001b[0m\u001b[0;34m=\u001b[0m\u001b[0;36m32\u001b[0m\u001b[0;34m,\u001b[0m \u001b[0mverbose\u001b[0m\u001b[0;34m=\u001b[0m\u001b[0;36m1\u001b[0m\u001b[0;34m,\u001b[0m \u001b[0msample_weight\u001b[0m\u001b[0;34m=\u001b[0m\u001b[0mNone\u001b[0m\u001b[0;34m)\u001b[0m\u001b[0;34m:\u001b[0m\u001b[0;34m\u001b[0m\u001b[0m\n",
      "\u001b[0;32m/Users/mahui/anaconda/lib/python2.7/site-packages/keras/engine/training.pyc\u001b[0m in \u001b[0;36m_fit_loop\u001b[0;34m(self, f, ins, out_labels, batch_size, epochs, verbose, callbacks, val_f, val_ins, shuffle, callback_metrics, initial_epoch)\u001b[0m\n\u001b[1;32m   1150\u001b[0m                 \u001b[0mbatch_logs\u001b[0m\u001b[0;34m[\u001b[0m\u001b[0;34m'size'\u001b[0m\u001b[0;34m]\u001b[0m \u001b[0;34m=\u001b[0m \u001b[0mlen\u001b[0m\u001b[0;34m(\u001b[0m\u001b[0mbatch_ids\u001b[0m\u001b[0;34m)\u001b[0m\u001b[0;34m\u001b[0m\u001b[0m\n\u001b[1;32m   1151\u001b[0m                 \u001b[0mcallbacks\u001b[0m\u001b[0;34m.\u001b[0m\u001b[0mon_batch_begin\u001b[0m\u001b[0;34m(\u001b[0m\u001b[0mbatch_index\u001b[0m\u001b[0;34m,\u001b[0m \u001b[0mbatch_logs\u001b[0m\u001b[0;34m)\u001b[0m\u001b[0;34m\u001b[0m\u001b[0m\n\u001b[0;32m-> 1152\u001b[0;31m                 \u001b[0mouts\u001b[0m \u001b[0;34m=\u001b[0m \u001b[0mf\u001b[0m\u001b[0;34m(\u001b[0m\u001b[0mins_batch\u001b[0m\u001b[0;34m)\u001b[0m\u001b[0;34m\u001b[0m\u001b[0m\n\u001b[0m\u001b[1;32m   1153\u001b[0m                 \u001b[0;32mif\u001b[0m \u001b[0;32mnot\u001b[0m \u001b[0misinstance\u001b[0m\u001b[0;34m(\u001b[0m\u001b[0mouts\u001b[0m\u001b[0;34m,\u001b[0m \u001b[0mlist\u001b[0m\u001b[0;34m)\u001b[0m\u001b[0;34m:\u001b[0m\u001b[0;34m\u001b[0m\u001b[0m\n\u001b[1;32m   1154\u001b[0m                     \u001b[0mouts\u001b[0m \u001b[0;34m=\u001b[0m \u001b[0;34m[\u001b[0m\u001b[0mouts\u001b[0m\u001b[0;34m]\u001b[0m\u001b[0;34m\u001b[0m\u001b[0m\n",
      "\u001b[0;32m/Users/mahui/anaconda/lib/python2.7/site-packages/keras/backend/tensorflow_backend.pyc\u001b[0m in \u001b[0;36m__call__\u001b[0;34m(self, inputs)\u001b[0m\n\u001b[1;32m   2227\u001b[0m         \u001b[0msession\u001b[0m \u001b[0;34m=\u001b[0m \u001b[0mget_session\u001b[0m\u001b[0;34m(\u001b[0m\u001b[0;34m)\u001b[0m\u001b[0;34m\u001b[0m\u001b[0m\n\u001b[1;32m   2228\u001b[0m         updated = session.run(self.outputs + [self.updates_op],\n\u001b[0;32m-> 2229\u001b[0;31m                               feed_dict=feed_dict)\n\u001b[0m\u001b[1;32m   2230\u001b[0m         \u001b[0;32mreturn\u001b[0m \u001b[0mupdated\u001b[0m\u001b[0;34m[\u001b[0m\u001b[0;34m:\u001b[0m\u001b[0mlen\u001b[0m\u001b[0;34m(\u001b[0m\u001b[0mself\u001b[0m\u001b[0;34m.\u001b[0m\u001b[0moutputs\u001b[0m\u001b[0;34m)\u001b[0m\u001b[0;34m]\u001b[0m\u001b[0;34m\u001b[0m\u001b[0m\n\u001b[1;32m   2231\u001b[0m \u001b[0;34m\u001b[0m\u001b[0m\n",
      "\u001b[0;32m/Users/mahui/anaconda/lib/python2.7/site-packages/tensorflow/python/client/session.pyc\u001b[0m in \u001b[0;36mrun\u001b[0;34m(self, fetches, feed_dict, options, run_metadata)\u001b[0m\n\u001b[1;32m    776\u001b[0m     \u001b[0;32mtry\u001b[0m\u001b[0;34m:\u001b[0m\u001b[0;34m\u001b[0m\u001b[0m\n\u001b[1;32m    777\u001b[0m       result = self._run(None, fetches, feed_dict, options_ptr,\n\u001b[0;32m--> 778\u001b[0;31m                          run_metadata_ptr)\n\u001b[0m\u001b[1;32m    779\u001b[0m       \u001b[0;32mif\u001b[0m \u001b[0mrun_metadata\u001b[0m\u001b[0;34m:\u001b[0m\u001b[0;34m\u001b[0m\u001b[0m\n\u001b[1;32m    780\u001b[0m         \u001b[0mproto_data\u001b[0m \u001b[0;34m=\u001b[0m \u001b[0mtf_session\u001b[0m\u001b[0;34m.\u001b[0m\u001b[0mTF_GetBuffer\u001b[0m\u001b[0;34m(\u001b[0m\u001b[0mrun_metadata_ptr\u001b[0m\u001b[0;34m)\u001b[0m\u001b[0;34m\u001b[0m\u001b[0m\n",
      "\u001b[0;32m/Users/mahui/anaconda/lib/python2.7/site-packages/tensorflow/python/client/session.pyc\u001b[0m in \u001b[0;36m_run\u001b[0;34m(self, handle, fetches, feed_dict, options, run_metadata)\u001b[0m\n\u001b[1;32m    980\u001b[0m     \u001b[0;32mif\u001b[0m \u001b[0mfinal_fetches\u001b[0m \u001b[0;32mor\u001b[0m \u001b[0mfinal_targets\u001b[0m\u001b[0;34m:\u001b[0m\u001b[0;34m\u001b[0m\u001b[0m\n\u001b[1;32m    981\u001b[0m       results = self._do_run(handle, final_targets, final_fetches,\n\u001b[0;32m--> 982\u001b[0;31m                              feed_dict_string, options, run_metadata)\n\u001b[0m\u001b[1;32m    983\u001b[0m     \u001b[0;32melse\u001b[0m\u001b[0;34m:\u001b[0m\u001b[0;34m\u001b[0m\u001b[0m\n\u001b[1;32m    984\u001b[0m       \u001b[0mresults\u001b[0m \u001b[0;34m=\u001b[0m \u001b[0;34m[\u001b[0m\u001b[0;34m]\u001b[0m\u001b[0;34m\u001b[0m\u001b[0m\n",
      "\u001b[0;32m/Users/mahui/anaconda/lib/python2.7/site-packages/tensorflow/python/client/session.pyc\u001b[0m in \u001b[0;36m_do_run\u001b[0;34m(self, handle, target_list, fetch_list, feed_dict, options, run_metadata)\u001b[0m\n\u001b[1;32m   1030\u001b[0m     \u001b[0;32mif\u001b[0m \u001b[0mhandle\u001b[0m \u001b[0;32mis\u001b[0m \u001b[0mNone\u001b[0m\u001b[0;34m:\u001b[0m\u001b[0;34m\u001b[0m\u001b[0m\n\u001b[1;32m   1031\u001b[0m       return self._do_call(_run_fn, self._session, feed_dict, fetch_list,\n\u001b[0;32m-> 1032\u001b[0;31m                            target_list, options, run_metadata)\n\u001b[0m\u001b[1;32m   1033\u001b[0m     \u001b[0;32melse\u001b[0m\u001b[0;34m:\u001b[0m\u001b[0;34m\u001b[0m\u001b[0m\n\u001b[1;32m   1034\u001b[0m       return self._do_call(_prun_fn, self._session, handle, feed_dict,\n",
      "\u001b[0;32m/Users/mahui/anaconda/lib/python2.7/site-packages/tensorflow/python/client/session.pyc\u001b[0m in \u001b[0;36m_do_call\u001b[0;34m(self, fn, *args)\u001b[0m\n\u001b[1;32m   1037\u001b[0m   \u001b[0;32mdef\u001b[0m \u001b[0m_do_call\u001b[0m\u001b[0;34m(\u001b[0m\u001b[0mself\u001b[0m\u001b[0;34m,\u001b[0m \u001b[0mfn\u001b[0m\u001b[0;34m,\u001b[0m \u001b[0;34m*\u001b[0m\u001b[0margs\u001b[0m\u001b[0;34m)\u001b[0m\u001b[0;34m:\u001b[0m\u001b[0;34m\u001b[0m\u001b[0m\n\u001b[1;32m   1038\u001b[0m     \u001b[0;32mtry\u001b[0m\u001b[0;34m:\u001b[0m\u001b[0;34m\u001b[0m\u001b[0m\n\u001b[0;32m-> 1039\u001b[0;31m       \u001b[0;32mreturn\u001b[0m \u001b[0mfn\u001b[0m\u001b[0;34m(\u001b[0m\u001b[0;34m*\u001b[0m\u001b[0margs\u001b[0m\u001b[0;34m)\u001b[0m\u001b[0;34m\u001b[0m\u001b[0m\n\u001b[0m\u001b[1;32m   1040\u001b[0m     \u001b[0;32mexcept\u001b[0m \u001b[0merrors\u001b[0m\u001b[0;34m.\u001b[0m\u001b[0mOpError\u001b[0m \u001b[0;32mas\u001b[0m \u001b[0me\u001b[0m\u001b[0;34m:\u001b[0m\u001b[0;34m\u001b[0m\u001b[0m\n\u001b[1;32m   1041\u001b[0m       \u001b[0mmessage\u001b[0m \u001b[0;34m=\u001b[0m \u001b[0mcompat\u001b[0m\u001b[0;34m.\u001b[0m\u001b[0mas_text\u001b[0m\u001b[0;34m(\u001b[0m\u001b[0me\u001b[0m\u001b[0;34m.\u001b[0m\u001b[0mmessage\u001b[0m\u001b[0;34m)\u001b[0m\u001b[0;34m\u001b[0m\u001b[0m\n",
      "\u001b[0;32m/Users/mahui/anaconda/lib/python2.7/site-packages/tensorflow/python/client/session.pyc\u001b[0m in \u001b[0;36m_run_fn\u001b[0;34m(session, feed_dict, fetch_list, target_list, options, run_metadata)\u001b[0m\n\u001b[1;32m   1019\u001b[0m         return tf_session.TF_Run(session, options,\n\u001b[1;32m   1020\u001b[0m                                  \u001b[0mfeed_dict\u001b[0m\u001b[0;34m,\u001b[0m \u001b[0mfetch_list\u001b[0m\u001b[0;34m,\u001b[0m \u001b[0mtarget_list\u001b[0m\u001b[0;34m,\u001b[0m\u001b[0;34m\u001b[0m\u001b[0m\n\u001b[0;32m-> 1021\u001b[0;31m                                  status, run_metadata)\n\u001b[0m\u001b[1;32m   1022\u001b[0m \u001b[0;34m\u001b[0m\u001b[0m\n\u001b[1;32m   1023\u001b[0m     \u001b[0;32mdef\u001b[0m \u001b[0m_prun_fn\u001b[0m\u001b[0;34m(\u001b[0m\u001b[0msession\u001b[0m\u001b[0;34m,\u001b[0m \u001b[0mhandle\u001b[0m\u001b[0;34m,\u001b[0m \u001b[0mfeed_dict\u001b[0m\u001b[0;34m,\u001b[0m \u001b[0mfetch_list\u001b[0m\u001b[0;34m)\u001b[0m\u001b[0;34m:\u001b[0m\u001b[0;34m\u001b[0m\u001b[0m\n",
      "\u001b[0;31mKeyboardInterrupt\u001b[0m: "
     ]
    }
   ],
   "source": [
    "fenlei_fit('Fenge_36_36_36_0619_2', load_check = False, batch_size=2, epochs=100, check_name = 'Fenge_36_36_36_0619_2')"
   ]
  },
  {
   "cell_type": "code",
   "execution_count": null,
   "metadata": {
    "collapsed": true
   },
   "outputs": [],
   "source": [
    "file_list_true = get_dirfiles(output_true)\n",
    "file_list_false = get_dirfiles(output_false)"
   ]
  },
  {
   "cell_type": "code",
   "execution_count": null,
   "metadata": {
    "collapsed": true
   },
   "outputs": [],
   "source": [
    "#model_pred = classifier((1, 36, 36, 36), (3, 3, 3), (2, 2, 2))\n",
    "model_pred = load_model(model_paths + 'Fenge_36_36_36_0619_2.h5')"
   ]
  },
  {
   "cell_type": "code",
   "execution_count": null,
   "metadata": {
    "collapsed": true
   },
   "outputs": [],
   "source": [
    "#model_pred.load_weights(model_paths + 'Fenge_0613_2.h5')"
   ]
  },
  {
   "cell_type": "code",
   "execution_count": null,
   "metadata": {},
   "outputs": [],
   "source": [
    "cc = []\n",
    "for i in file_list_false[0:200]:\n",
    "    a=np.load(i)\n",
    "    a=np.expand_dims(a,0)\n",
    "    a=np.expand_dims(a,0)\n",
    "    cc.append(model_pred.predict(a))\n",
    "count = 0\n",
    "for i in cc:\n",
    "    if i[0][0] > 0.9:\n",
    "        count += 1\n",
    "print count*1.0/len(cc)"
   ]
  },
  {
   "cell_type": "code",
   "execution_count": null,
   "metadata": {},
   "outputs": [],
   "source": [
    "cc"
   ]
  },
  {
   "cell_type": "code",
   "execution_count": null,
   "metadata": {
    "collapsed": true
   },
   "outputs": [],
   "source": [
    "cc = []\n",
    "for i in file_list_true[0:200]:\n",
    "    a=np.load(i)\n",
    "    a=np.expand_dims(a,0)\n",
    "    a=np.expand_dims(a,0)\n",
    "    cc.append(model_pred.predict(a))\n",
    "count = 0\n"
   ]
  },
  {
   "cell_type": "code",
   "execution_count": null,
   "metadata": {},
   "outputs": [],
   "source": [
    "for i in cc:\n",
    "    if i[0][1] > 0.9:\n",
    "        count += 1\n",
    "print count*1.0/len(cc)"
   ]
  },
  {
   "cell_type": "code",
   "execution_count": null,
   "metadata": {
    "scrolled": true
   },
   "outputs": [],
   "source": [
    "cc"
   ]
  },
  {
   "cell_type": "code",
   "execution_count": null,
   "metadata": {
    "collapsed": true
   },
   "outputs": [],
   "source": []
  }
 ],
 "metadata": {
  "kernelspec": {
   "display_name": "Python 2",
   "language": "python",
   "name": "python2"
  },
  "language_info": {
   "codemirror_mode": {
    "name": "ipython",
    "version": 2
   },
   "file_extension": ".py",
   "mimetype": "text/x-python",
   "name": "python",
   "nbconvert_exporter": "python",
   "pygments_lexer": "ipython2",
   "version": "2.7.13"
  }
 },
 "nbformat": 4,
 "nbformat_minor": 2
}
