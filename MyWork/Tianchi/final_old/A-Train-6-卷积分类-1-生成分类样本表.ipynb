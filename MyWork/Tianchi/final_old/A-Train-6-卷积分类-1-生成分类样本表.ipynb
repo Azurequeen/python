{
 "cells": [
  {
   "cell_type": "code",
   "execution_count": 1,
   "metadata": {},
   "outputs": [
    {
     "name": "stderr",
     "output_type": "stream",
     "text": [
      "Using TensorFlow backend.\n"
     ]
    }
   ],
   "source": [
    "from utils.imports import *"
   ]
  },
  {
   "cell_type": "code",
   "execution_count": 2,
   "metadata": {
    "collapsed": true
   },
   "outputs": [],
   "source": [
    "csv_path = PATH['annotations_train']\n",
    "pred_csv_path = PATH['model_train_pred']\n",
    "data_path = PATH['src_train']"
   ]
  },
  {
   "cell_type": "markdown",
   "metadata": {},
   "source": [
    "# 一、全部预测结果"
   ]
  },
  {
   "cell_type": "code",
   "execution_count": 3,
   "metadata": {
    "collapsed": true
   },
   "outputs": [],
   "source": [
    "anno_csv = pd.read_csv(csv_path + \"annotations_all.csv\")\n",
    "pred_csv = pd.read_csv(pred_csv_path + \"0final_result.csv\")"
   ]
  },
  {
   "cell_type": "code",
   "execution_count": 4,
   "metadata": {
    "collapsed": true
   },
   "outputs": [],
   "source": [
    "anno_csv_new = cal_recall(pred_csv,anno_csv)\n",
    "anno_csv_new2 = cal_dist(pred_csv,anno_csv)"
   ]
  },
  {
   "cell_type": "code",
   "execution_count": 5,
   "metadata": {
    "collapsed": true
   },
   "outputs": [],
   "source": [
    "pred_csv_true = anno_csv_new2.copy()\n",
    "pred_csv_false = anno_csv_new2.copy()\n",
    "\n",
    "pred_csv_true = pred_csv_true[pred_csv_true['diameter_mm']<32]\n",
    "pred_csv_false = pred_csv_false[pred_csv_false['diameter_mm']<32]\n",
    "pred_csv_true = pred_csv_true[pred_csv_true['diameter_mm']>3]\n",
    "pred_csv_false = pred_csv_false[pred_csv_false['diameter_mm']>3]\n",
    "\n",
    "pred_csv_true = pred_csv_true[pred_csv_true['ratio_min']<4]\n",
    "pred_csv_true = pred_csv_true[pred_csv_true['dist_min']<20]\n",
    "pred_csv_false = pred_csv_false[pred_csv_false['ratio_min']>16]\n",
    "pred_csv_false = pred_csv_false[pred_csv_false['dist_min']>100]"
   ]
  },
  {
   "cell_type": "code",
   "execution_count": 6,
   "metadata": {},
   "outputs": [
    {
     "name": "stdout",
     "output_type": "stream",
     "text": [
      "小于0.125：\t72.11%\n",
      "小于0.25：\t88.18%\n",
      "小于0.5：\t94.37%\n",
      "小于1：\t\t96.14%\n",
      "小于2：\t\t97.03%\n",
      "小于4：\t\t98.15%\n",
      "小于8：\t\t98.79%\n",
      "\n",
      "\n",
      "查全率：\t\t91.72%\n",
      "查准率：\t\t1.51%\n",
      "负样本数量：\t79281个\n"
     ]
    }
   ],
   "source": [
    "num_node = len(anno_csv_new)*1.0\n",
    "score_0 = anno_csv_new[anno_csv_new['ratio_min'] < 0.125].count()[0]/num_node\n",
    "score_1 = anno_csv_new[anno_csv_new['ratio_min'] < 0.25].count()[0]/num_node\n",
    "score_2 = anno_csv_new[anno_csv_new['ratio_min'] < 0.5].count()[0]/num_node\n",
    "score_3 = anno_csv_new[anno_csv_new['ratio_min'] < 1].count()[0]/num_node\n",
    "score_4 = anno_csv_new[anno_csv_new['ratio_min'] < 2].count()[0]/num_node\n",
    "score_5 = anno_csv_new[anno_csv_new['ratio_min'] < 4].count()[0]/num_node\n",
    "score_6 = anno_csv_new[anno_csv_new['ratio_min'] < 8].count()[0]/num_node\n",
    "\n",
    "print(u\"小于0.125：\\t%.2f%%\"  %(score_0*100))\n",
    "print(u\"小于0.25：\\t%.2f%%\"  %(score_1*100))\n",
    "print(u\"小于0.5：\\t%.2f%%\"  %(score_2*100))\n",
    "print(u\"小于1：\\t\\t%.2f%%\"  %(score_3*100))\n",
    "print(u\"小于2：\\t\\t%.2f%%\"  %(score_4*100))\n",
    "print(u\"小于4：\\t\\t%.2f%%\"  %(score_5*100))\n",
    "print(u\"小于8：\\t\\t%.2f%%\"  %(score_6*100))\n",
    "print\n",
    "print\n",
    "score = (score_0*7+score_1*6+score_2*5+score_3*4+score_4*3+score_5*2+score_6*1)/27.\n",
    "print(u\"查全率：\\t\\t%.2f%%\"  %(score*100))\n",
    "print(u\"查准率：\\t\\t%.2f%%\"  %((anno_csv_new[anno_csv_new['ratio_min'] < 1].count()[0]*1.0/len(pred_csv_false)*1.0)*100))\n",
    "print(u\"负样本数量：\\t%s个\"  %(len(pred_csv_false)))"
   ]
  },
  {
   "cell_type": "code",
   "execution_count": 7,
   "metadata": {
    "collapsed": true
   },
   "outputs": [],
   "source": [
    "pred_csv_true = pred_csv_true[pred_csv_true.index%1 == 0]\n",
    "pred_csv_false = pred_csv_false[pred_csv_false.index%1 == 0]"
   ]
  },
  {
   "cell_type": "code",
   "execution_count": 8,
   "metadata": {
    "collapsed": true
   },
   "outputs": [],
   "source": [
    "pred_csv_false.to_csv(pred_csv_path + \"anno_false_final.csv\", index=False)\n",
    "pred_csv_true.to_csv(pred_csv_path + \"anno_true_final.csv\", index=False)"
   ]
  },
  {
   "cell_type": "code",
   "execution_count": 9,
   "metadata": {
    "collapsed": true
   },
   "outputs": [],
   "source": [
    "#pd.concat([pred_csv_true,anno_csv],axis=0).to_csv(pred_csv_path + \"anno_true_final.csv\", index=False)"
   ]
  },
  {
   "cell_type": "code",
   "execution_count": 10,
   "metadata": {
    "collapsed": true
   },
   "outputs": [],
   "source": [
    "aa = pd.read_csv(pred_csv_path + \"anno_true_final.csv\")\n",
    "bb = pd.read_csv(pred_csv_path + \"anno_false_final.csv\")"
   ]
  },
  {
   "cell_type": "code",
   "execution_count": 11,
   "metadata": {},
   "outputs": [
    {
     "data": {
      "text/plain": [
       "(2357, 79281)"
      ]
     },
     "execution_count": 11,
     "metadata": {},
     "output_type": "execute_result"
    }
   ],
   "source": [
    "len(aa),len(bb)"
   ]
  },
  {
   "cell_type": "code",
   "execution_count": 12,
   "metadata": {
    "collapsed": true
   },
   "outputs": [],
   "source": [
    "#pred_csv_true = pred_csv_true[pred_csv_true.index%1 == 0]\n",
    "#pred_csv_false = pred_csv_false[pred_csv_false.index%20 == 0]"
   ]
  },
  {
   "cell_type": "markdown",
   "metadata": {
    "collapsed": true
   },
   "source": [
    "## 测试"
   ]
  },
  {
   "cell_type": "code",
   "execution_count": 13,
   "metadata": {
    "collapsed": true
   },
   "outputs": [],
   "source": [
    "anno_1 = cal_recall(aa,anno_csv)"
   ]
  },
  {
   "cell_type": "code",
   "execution_count": 14,
   "metadata": {},
   "outputs": [
    {
     "name": "stdout",
     "output_type": "stream",
     "text": [
      "大于8：\t\t11.98%\n",
      "样本数量：\t1244个\n"
     ]
    }
   ],
   "source": [
    "num_node = len(anno_1)*1.0\n",
    "score_0 = anno_1[anno_1['dist_min'] >20].count()[0]/num_node\n",
    "print(u\"大于8：\\t\\t%.2f%%\"  %(score_0*100))\n",
    "print(u\"样本数量：\\t%s个\"  %(len(anno_1)))"
   ]
  },
  {
   "cell_type": "code",
   "execution_count": 15,
   "metadata": {},
   "outputs": [
    {
     "data": {
      "text/html": [
       "<div>\n",
       "<style>\n",
       "    .dataframe thead tr:only-child th {\n",
       "        text-align: right;\n",
       "    }\n",
       "\n",
       "    .dataframe thead th {\n",
       "        text-align: left;\n",
       "    }\n",
       "\n",
       "    .dataframe tbody tr th {\n",
       "        vertical-align: top;\n",
       "    }\n",
       "</style>\n",
       "<table border=\"1\" class=\"dataframe\">\n",
       "  <thead>\n",
       "    <tr style=\"text-align: right;\">\n",
       "      <th></th>\n",
       "      <th>coordX</th>\n",
       "      <th>coordY</th>\n",
       "      <th>coordZ</th>\n",
       "      <th>diameter_mm</th>\n",
       "      <th>ratio_min</th>\n",
       "      <th>dist_min</th>\n",
       "      <th>ratio_max</th>\n",
       "      <th>dist_max</th>\n",
       "    </tr>\n",
       "  </thead>\n",
       "  <tbody>\n",
       "    <tr>\n",
       "      <th>count</th>\n",
       "      <td>1244.000000</td>\n",
       "      <td>1244.000000</td>\n",
       "      <td>1244.000000</td>\n",
       "      <td>1244.000000</td>\n",
       "      <td>1244.000000</td>\n",
       "      <td>1244.000000</td>\n",
       "      <td>1244.000000</td>\n",
       "      <td>1244.000000</td>\n",
       "    </tr>\n",
       "    <tr>\n",
       "      <th>mean</th>\n",
       "      <td>-11.630246</td>\n",
       "      <td>23.147883</td>\n",
       "      <td>173.657906</td>\n",
       "      <td>9.953073</td>\n",
       "      <td>185.380655</td>\n",
       "      <td>189.683232</td>\n",
       "      <td>202.448697</td>\n",
       "      <td>269.671242</td>\n",
       "    </tr>\n",
       "    <tr>\n",
       "      <th>std</th>\n",
       "      <td>80.509933</td>\n",
       "      <td>124.413447</td>\n",
       "      <td>502.589752</td>\n",
       "      <td>6.111599</td>\n",
       "      <td>579.380905</td>\n",
       "      <td>578.261621</td>\n",
       "      <td>574.292525</td>\n",
       "      <td>558.931576</td>\n",
       "    </tr>\n",
       "    <tr>\n",
       "      <th>min</th>\n",
       "      <td>-152.356932</td>\n",
       "      <td>-283.834336</td>\n",
       "      <td>-743.553802</td>\n",
       "      <td>2.900243</td>\n",
       "      <td>0.006088</td>\n",
       "      <td>0.065619</td>\n",
       "      <td>0.016660</td>\n",
       "      <td>0.208455</td>\n",
       "    </tr>\n",
       "    <tr>\n",
       "      <th>25%</th>\n",
       "      <td>-80.725164</td>\n",
       "      <td>-82.585990</td>\n",
       "      <td>-162.643956</td>\n",
       "      <td>5.486894</td>\n",
       "      <td>0.057848</td>\n",
       "      <td>0.691422</td>\n",
       "      <td>2.828588</td>\n",
       "      <td>15.721279</td>\n",
       "    </tr>\n",
       "    <tr>\n",
       "      <th>50%</th>\n",
       "      <td>-44.150588</td>\n",
       "      <td>27.042165</td>\n",
       "      <td>45.687500</td>\n",
       "      <td>7.708835</td>\n",
       "      <td>0.097089</td>\n",
       "      <td>1.336523</td>\n",
       "      <td>13.266270</td>\n",
       "      <td>97.472528</td>\n",
       "    </tr>\n",
       "    <tr>\n",
       "      <th>75%</th>\n",
       "      <td>69.691702</td>\n",
       "      <td>123.871393</td>\n",
       "      <td>404.356143</td>\n",
       "      <td>12.818549</td>\n",
       "      <td>0.249950</td>\n",
       "      <td>3.636224</td>\n",
       "      <td>43.814030</td>\n",
       "      <td>202.255741</td>\n",
       "    </tr>\n",
       "    <tr>\n",
       "      <th>max</th>\n",
       "      <td>162.132309</td>\n",
       "      <td>250.603657</td>\n",
       "      <td>1973.800012</td>\n",
       "      <td>39.966697</td>\n",
       "      <td>2000.000000</td>\n",
       "      <td>2000.000000</td>\n",
       "      <td>2000.000000</td>\n",
       "      <td>2000.000000</td>\n",
       "    </tr>\n",
       "  </tbody>\n",
       "</table>\n",
       "</div>"
      ],
      "text/plain": [
       "            coordX       coordY       coordZ  diameter_mm    ratio_min  \\\n",
       "count  1244.000000  1244.000000  1244.000000  1244.000000  1244.000000   \n",
       "mean    -11.630246    23.147883   173.657906     9.953073   185.380655   \n",
       "std      80.509933   124.413447   502.589752     6.111599   579.380905   \n",
       "min    -152.356932  -283.834336  -743.553802     2.900243     0.006088   \n",
       "25%     -80.725164   -82.585990  -162.643956     5.486894     0.057848   \n",
       "50%     -44.150588    27.042165    45.687500     7.708835     0.097089   \n",
       "75%      69.691702   123.871393   404.356143    12.818549     0.249950   \n",
       "max     162.132309   250.603657  1973.800012    39.966697  2000.000000   \n",
       "\n",
       "          dist_min    ratio_max     dist_max  \n",
       "count  1244.000000  1244.000000  1244.000000  \n",
       "mean    189.683232   202.448697   269.671242  \n",
       "std     578.261621   574.292525   558.931576  \n",
       "min       0.065619     0.016660     0.208455  \n",
       "25%       0.691422     2.828588    15.721279  \n",
       "50%       1.336523    13.266270    97.472528  \n",
       "75%       3.636224    43.814030   202.255741  \n",
       "max    2000.000000  2000.000000  2000.000000  "
      ]
     },
     "execution_count": 15,
     "metadata": {},
     "output_type": "execute_result"
    }
   ],
   "source": [
    "anno_1.describe()"
   ]
  },
  {
   "cell_type": "code",
   "execution_count": 16,
   "metadata": {
    "collapsed": true
   },
   "outputs": [],
   "source": [
    "anno_2 = cal_recall(bb,anno_csv)"
   ]
  },
  {
   "cell_type": "code",
   "execution_count": 17,
   "metadata": {},
   "outputs": [
    {
     "name": "stdout",
     "output_type": "stream",
     "text": [
      "小于8：\t\t0.00%\n",
      "样本数量：\t1244个\n"
     ]
    }
   ],
   "source": [
    "num_node = len(anno_2)*1.0\n",
    "score_6 = anno_2[anno_2['dist_min'] < 28].count()[0]/num_node\n",
    "print(u\"小于8：\\t\\t%.2f%%\"  %(score_6*100))\n",
    "print(u\"样本数量：\\t%s个\"  %(len(anno_2)))"
   ]
  },
  {
   "cell_type": "code",
   "execution_count": 18,
   "metadata": {},
   "outputs": [
    {
     "data": {
      "text/html": [
       "<div>\n",
       "<style>\n",
       "    .dataframe thead tr:only-child th {\n",
       "        text-align: right;\n",
       "    }\n",
       "\n",
       "    .dataframe thead th {\n",
       "        text-align: left;\n",
       "    }\n",
       "\n",
       "    .dataframe tbody tr th {\n",
       "        vertical-align: top;\n",
       "    }\n",
       "</style>\n",
       "<table border=\"1\" class=\"dataframe\">\n",
       "  <thead>\n",
       "    <tr style=\"text-align: right;\">\n",
       "      <th></th>\n",
       "      <th>coordX</th>\n",
       "      <th>coordY</th>\n",
       "      <th>coordZ</th>\n",
       "      <th>diameter_mm</th>\n",
       "      <th>ratio_min</th>\n",
       "      <th>dist_min</th>\n",
       "      <th>ratio_max</th>\n",
       "      <th>dist_max</th>\n",
       "    </tr>\n",
       "  </thead>\n",
       "  <tbody>\n",
       "    <tr>\n",
       "      <th>count</th>\n",
       "      <td>1244.000000</td>\n",
       "      <td>1244.000000</td>\n",
       "      <td>1244.000000</td>\n",
       "      <td>1244.000000</td>\n",
       "      <td>1244.000000</td>\n",
       "      <td>1244.000000</td>\n",
       "      <td>1244.000000</td>\n",
       "      <td>1244.000000</td>\n",
       "    </tr>\n",
       "    <tr>\n",
       "      <th>mean</th>\n",
       "      <td>-11.630246</td>\n",
       "      <td>23.147883</td>\n",
       "      <td>173.657906</td>\n",
       "      <td>9.953073</td>\n",
       "      <td>489.897952</td>\n",
       "      <td>596.757341</td>\n",
       "      <td>540.539167</td>\n",
       "      <td>700.695384</td>\n",
       "    </tr>\n",
       "    <tr>\n",
       "      <th>std</th>\n",
       "      <td>80.509933</td>\n",
       "      <td>124.413447</td>\n",
       "      <td>502.589752</td>\n",
       "      <td>6.111599</td>\n",
       "      <td>851.672213</td>\n",
       "      <td>793.253896</td>\n",
       "      <td>823.352949</td>\n",
       "      <td>735.443312</td>\n",
       "    </tr>\n",
       "    <tr>\n",
       "      <th>min</th>\n",
       "      <td>-152.356932</td>\n",
       "      <td>-283.834336</td>\n",
       "      <td>-743.553802</td>\n",
       "      <td>2.900243</td>\n",
       "      <td>3.221155</td>\n",
       "      <td>100.000513</td>\n",
       "      <td>14.708175</td>\n",
       "      <td>140.968938</td>\n",
       "    </tr>\n",
       "    <tr>\n",
       "      <th>25%</th>\n",
       "      <td>-80.725164</td>\n",
       "      <td>-82.585990</td>\n",
       "      <td>-162.643956</td>\n",
       "      <td>5.486894</td>\n",
       "      <td>5.838887</td>\n",
       "      <td>107.272377</td>\n",
       "      <td>67.708113</td>\n",
       "      <td>257.048505</td>\n",
       "    </tr>\n",
       "    <tr>\n",
       "      <th>50%</th>\n",
       "      <td>-44.150588</td>\n",
       "      <td>27.042165</td>\n",
       "      <td>45.687500</td>\n",
       "      <td>7.708835</td>\n",
       "      <td>9.100387</td>\n",
       "      <td>156.075706</td>\n",
       "      <td>80.010260</td>\n",
       "      <td>295.489064</td>\n",
       "    </tr>\n",
       "    <tr>\n",
       "      <th>75%</th>\n",
       "      <td>69.691702</td>\n",
       "      <td>123.871393</td>\n",
       "      <td>404.356143</td>\n",
       "      <td>12.818549</td>\n",
       "      <td>44.785953</td>\n",
       "      <td>359.682921</td>\n",
       "      <td>186.479195</td>\n",
       "      <td>595.004789</td>\n",
       "    </tr>\n",
       "    <tr>\n",
       "      <th>max</th>\n",
       "      <td>162.132309</td>\n",
       "      <td>250.603657</td>\n",
       "      <td>1973.800012</td>\n",
       "      <td>39.966697</td>\n",
       "      <td>2000.000000</td>\n",
       "      <td>2000.000000</td>\n",
       "      <td>2000.000000</td>\n",
       "      <td>2000.000000</td>\n",
       "    </tr>\n",
       "  </tbody>\n",
       "</table>\n",
       "</div>"
      ],
      "text/plain": [
       "            coordX       coordY       coordZ  diameter_mm    ratio_min  \\\n",
       "count  1244.000000  1244.000000  1244.000000  1244.000000  1244.000000   \n",
       "mean    -11.630246    23.147883   173.657906     9.953073   489.897952   \n",
       "std      80.509933   124.413447   502.589752     6.111599   851.672213   \n",
       "min    -152.356932  -283.834336  -743.553802     2.900243     3.221155   \n",
       "25%     -80.725164   -82.585990  -162.643956     5.486894     5.838887   \n",
       "50%     -44.150588    27.042165    45.687500     7.708835     9.100387   \n",
       "75%      69.691702   123.871393   404.356143    12.818549    44.785953   \n",
       "max     162.132309   250.603657  1973.800012    39.966697  2000.000000   \n",
       "\n",
       "          dist_min    ratio_max     dist_max  \n",
       "count  1244.000000  1244.000000  1244.000000  \n",
       "mean    596.757341   540.539167   700.695384  \n",
       "std     793.253896   823.352949   735.443312  \n",
       "min     100.000513    14.708175   140.968938  \n",
       "25%     107.272377    67.708113   257.048505  \n",
       "50%     156.075706    80.010260   295.489064  \n",
       "75%     359.682921   186.479195   595.004789  \n",
       "max    2000.000000  2000.000000  2000.000000  "
      ]
     },
     "execution_count": 18,
     "metadata": {},
     "output_type": "execute_result"
    }
   ],
   "source": [
    "anno_2.describe()"
   ]
  },
  {
   "cell_type": "code",
   "execution_count": 19,
   "metadata": {},
   "outputs": [
    {
     "name": "stdout",
     "output_type": "stream",
     "text": [
      "小于0.125：\t61.09%\n",
      "小于0.25：\t75.00%\n",
      "小于0.5：\t80.39%\n",
      "小于1：\t\t82.07%\n",
      "小于2：\t\t83.68%\n",
      "小于4：\t\t87.70%\n",
      "小于8：\t\t89.55%\n",
      "\n",
      "\n",
      "查全率：\t\t78.66%\n",
      "查准率：\t\t1.29%\n",
      "负样本数量：\t79281个\n"
     ]
    }
   ],
   "source": [
    "anno_csv_new = cal_recall(aa,anno_csv)\n",
    "num_node = len(anno_csv_new)*1.0\n",
    "score_0 = anno_csv_new[anno_csv_new['ratio_min'] < 0.125].count()[0]/num_node\n",
    "score_1 = anno_csv_new[anno_csv_new['ratio_min'] < 0.25].count()[0]/num_node\n",
    "score_2 = anno_csv_new[anno_csv_new['ratio_min'] < 0.5].count()[0]/num_node\n",
    "score_3 = anno_csv_new[anno_csv_new['ratio_min'] < 1].count()[0]/num_node\n",
    "score_4 = anno_csv_new[anno_csv_new['ratio_min'] < 2].count()[0]/num_node\n",
    "score_5 = anno_csv_new[anno_csv_new['ratio_min'] < 4].count()[0]/num_node\n",
    "score_6 = anno_csv_new[anno_csv_new['ratio_min'] < 8].count()[0]/num_node\n",
    "\n",
    "print(u\"小于0.125：\\t%.2f%%\"  %(score_0*100))\n",
    "print(u\"小于0.25：\\t%.2f%%\"  %(score_1*100))\n",
    "print(u\"小于0.5：\\t%.2f%%\"  %(score_2*100))\n",
    "print(u\"小于1：\\t\\t%.2f%%\"  %(score_3*100))\n",
    "print(u\"小于2：\\t\\t%.2f%%\"  %(score_4*100))\n",
    "print(u\"小于4：\\t\\t%.2f%%\"  %(score_5*100))\n",
    "print(u\"小于8：\\t\\t%.2f%%\"  %(score_6*100))\n",
    "print\n",
    "print\n",
    "score = (score_0*7+score_1*6+score_2*5+score_3*4+score_4*3+score_5*2+score_6*1)/27.\n",
    "print(u\"查全率：\\t\\t%.2f%%\"  %(score*100))\n",
    "print(u\"查准率：\\t\\t%.2f%%\"  %((anno_csv_new[anno_csv_new['ratio_min'] < 1].count()[0]*1.0/len(pred_csv_false)*1.0)*100))\n",
    "print(u\"负样本数量：\\t%s个\"  %(len(pred_csv_false)))"
   ]
  },
  {
   "cell_type": "code",
   "execution_count": null,
   "metadata": {
    "collapsed": true
   },
   "outputs": [],
   "source": []
  }
 ],
 "metadata": {
  "kernelspec": {
   "display_name": "Python 2",
   "language": "python",
   "name": "python2"
  },
  "language_info": {
   "codemirror_mode": {
    "name": "ipython",
    "version": 2
   },
   "file_extension": ".py",
   "mimetype": "text/x-python",
   "name": "python",
   "nbconvert_exporter": "python",
   "pygments_lexer": "ipython2",
   "version": "2.7.13"
  }
 },
 "nbformat": 4,
 "nbformat_minor": 2
}
