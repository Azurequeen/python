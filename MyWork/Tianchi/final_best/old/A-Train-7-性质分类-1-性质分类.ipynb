{
 "cells": [
  {
   "cell_type": "code",
   "execution_count": 1,
   "metadata": {},
   "outputs": [
    {
     "name": "stderr",
     "output_type": "stream",
     "text": [
      "Using TensorFlow backend.\n"
     ]
    }
   ],
   "source": [
    "from utils.imports import *"
   ]
  },
  {
   "cell_type": "code",
   "execution_count": 2,
   "metadata": {
    "collapsed": true
   },
   "outputs": [],
   "source": [
    "def getRegionFromMap(slice_npy):\n",
    "    #thr = np.where(slice_npy > np.mean(slice_npy),0.,1.0)\n",
    "    label_image = measure.label(slice_npy)\n",
    "    labels = label_image.astype(int)\n",
    "    regions = measure.regionprops(labels)\n",
    "    return regions\n",
    "\n",
    "def getRegionMetricRow(fname):\n",
    "    # fname, numpy array of dimension [#slices, 1, 512, 512] containing the images\n",
    "    \n",
    "    seg = np.load(fname)\n",
    "    #seg = cv2.imread(fname,cv2.IMREAD_GRAYSCALE).astype('float32')\n",
    "    seg = np.expand_dims(seg,1)\n",
    "    \n",
    "    nslices = seg.shape[0]\n",
    "    \n",
    "    #metrics\n",
    "    totalArea = 0.\n",
    "    avgArea = 0.\n",
    "    maxArea = 0.\n",
    "    avgEcc = 0.\n",
    "    avgEquivlentDiameter = 0.\n",
    "    stdEquivlentDiameter = 0.\n",
    "    weightedX = 0.\n",
    "    weightedY = 0.\n",
    "    numNodes = 0.\n",
    "    numNodesperSlice = 0.\n",
    "    # crude hueristic to filter some bad segmentaitons\n",
    "    # do not allow any nodes to be larger than 10% of the pixels to eliminate background regions\n",
    "    maxAllowedArea = 0.10 * 512 * 512 \n",
    "    \n",
    "    areas = [0]\n",
    "    eqDiameters = []\n",
    "\n",
    "    for slicen in range(nslices):\n",
    "        regions = getRegionFromMap(seg[slicen,0,:,:])\n",
    "        for region in regions:\n",
    "            if region.area > maxAllowedArea:\n",
    "                continue\n",
    "            totalArea += region.area\n",
    "            areas.append(region.area)\n",
    "            avgEcc += region.eccentricity\n",
    "            avgEquivlentDiameter += region.equivalent_diameter\n",
    "            eqDiameters.append(region.equivalent_diameter)\n",
    "            weightedX += region.centroid[0]*region.area\n",
    "            weightedY += region.centroid[1]*region.area\n",
    "            numNodes += 1\n",
    "    if totalArea == 0 or numNodes == 0:\n",
    "        weightedX = 0\n",
    "        weightedY = 0\n",
    "        avgArea = 0\n",
    "        avgEcc = 0\n",
    "        avgEquivlentDiameter = 0\n",
    "        stdEquivlentDiameter = np.std(eqDiameters)       \n",
    "\n",
    "    else:                \n",
    "        weightedX = weightedX / totalArea  \n",
    "        weightedY = weightedY / totalArea \n",
    "        avgArea = totalArea / numNodes\n",
    "        avgEcc = avgEcc / numNodes\n",
    "        avgEquivlentDiameter = avgEquivlentDiameter / numNodes\n",
    "        stdEquivlentDiameter = np.std(eqDiameters)\n",
    "    \n",
    "    maxArea = max(areas)\n",
    "    \n",
    "    \n",
    "    numNodesperSlice = numNodes*1. / nslices\n",
    "    \n",
    "    result = np.array([avgArea,maxArea,avgEcc,avgEquivlentDiameter,\\\n",
    "                     stdEquivlentDiameter, weightedX, weightedY, numNodes, numNodesperSlice])\n",
    "    result = np.nan_to_num(result)\n",
    "    return \n",
    "\n",
    "def createFeatureDataset(nodfiles_true,nodfiles_false):\n",
    "    numfeatures = 9\n",
    "    feature_array = np.zeros((len(nodfiles_true)+len(nodfiles_false),numfeatures))\n",
    "    truth_metric = np.zeros((len(nodfiles_true)+len(nodfiles_false)))\n",
    "    \n",
    "    for i,nodfile in enumerate(tqdm(nodfiles_true)):\n",
    "        patID = nodfile.split(\"_\")[2]\n",
    "        truth_metric[i] = 1\n",
    "        feature_array[i] = getRegionMetricRow(nodfiles_true[i])\n",
    "\n",
    "    for i,nodfile in enumerate(tqdm(nodfiles_false)):\n",
    "        patID = nodfile.split(\"_\")[2]\n",
    "        truth_metric[len(nodfiles_true)+i] = 0\n",
    "        feature_array[len(nodfiles_true)+i] = getRegionMetricRow(nodfiles_false[i])\n",
    "    \n",
    "    np.save(\"dataY.npy\", truth_metric)\n",
    "    np.save(\"dataX.npy\", feature_array)\n",
    "\n",
    "\n",
    "def logloss(act, pred):\n",
    "    epsilon = 1e-15\n",
    "    pred = sp.maximum(epsilon, pred)\n",
    "    pred = sp.minimum(1-epsilon, pred)\n",
    "    ll = sum(act*sp.log(pred) + sp.subtract(1,act)*sp.log(sp.subtract(1,pred)))\n",
    "    ll = ll * -1.0/len(act)\n",
    "    return ll\n",
    "\n",
    "\n",
    "def classifyData():\n",
    "    X = np.load(\"dataX.npy\")\n",
    "    Y = np.load(\"dataY.npy\")\n",
    "    \n",
    "    \n",
    "    kf = KFold(Y, n_folds=3)\n",
    "    y_pred = Y * 0\n",
    "    for train, test in kf:\n",
    "        X_train, X_test, y_train, y_test = X[train,:], X[test,:], Y[train], Y[test]\n",
    "        clf = RF(n_estimators=100, n_jobs=3)\n",
    "        clf.fit(X_train, y_train)\n",
    "        y_pred[test] = clf.predict(X_test)\n",
    "    print classification_report(Y, y_pred, target_names=[\"No Cancer\", \"Cancer\"])\n",
    "    print(\"logloss\",logloss(Y, y_pred))\n",
    "\n",
    "    # All Cancer\n",
    "    print \"Predicting all positive\"\n",
    "    y_pred = np.ones(Y.shape)\n",
    "    print classification_report(Y, y_pred, target_names=[\"No Cancer\", \"Cancer\"])\n",
    "    print(\"logloss\",logloss(Y, y_pred))\n",
    "\n",
    "    # No Cancer\n",
    "    print \"Predicting all negative\"\n",
    "    y_pred = Y*0\n",
    "    print classification_report(Y, y_pred, target_names=[\"No Cancer\", \"Cancer\"])\n",
    "    print(\"logloss\",logloss(Y, y_pred))\n",
    "\n",
    "    # try XGBoost\n",
    "    print (\"XGBoost\")\n",
    "    kf = KFold(Y, n_folds=3)\n",
    "    y_pred = Y * 0\n",
    "    for train, test in kf:\n",
    "        X_train, X_test, y_train, y_test = X[train,:], X[test,:], Y[train], Y[test]\n",
    "        clf = xgb.XGBClassifier(objective=\"binary:logistic\")\n",
    "        clf.fit(X_train, y_train)\n",
    "        y_pred[test] = clf.predict(X_test)\n",
    "    print classification_report(Y, y_pred, target_names=[\"No Cancer\", \"Cancer\"])\n",
    "    print(\"logloss\",logloss(Y, y_pred))"
   ]
  },
  {
   "cell_type": "markdown",
   "metadata": {},
   "source": [
    "# 带mask的npy！！"
   ]
  },
  {
   "cell_type": "code",
   "execution_count": 3,
   "metadata": {
    "collapsed": true
   },
   "outputs": [],
   "source": [
    "true_path = PATH['cls_train_20_true']\n",
    "false_path = PATH['cls_train_20_false']\n",
    "\n",
    "file_list_true=glob.glob(true_path + \"*_3d_20_6_i.npy\")\n",
    "file_list_false=glob.glob(false_path + \"*_3d_20_6_i.npy\")"
   ]
  },
  {
   "cell_type": "code",
   "execution_count": 4,
   "metadata": {},
   "outputs": [
    {
     "name": "stdout",
     "output_type": "stream",
     "text": [
      "10953\n",
      "12532\n"
     ]
    }
   ],
   "source": [
    "print len(file_list_true)\n",
    "print len(file_list_false)"
   ]
  },
  {
   "cell_type": "code",
   "execution_count": 5,
   "metadata": {},
   "outputs": [
    {
     "name": "stderr",
     "output_type": "stream",
     "text": [
      "100%|██████████| 10953/10953 [00:26<00:00, 415.65it/s]\n",
      "100%|██████████| 12532/12532 [00:43<00:00, 291.30it/s]\n"
     ]
    }
   ],
   "source": [
    "createFeatureDataset(file_list_true,file_list_false)"
   ]
  },
  {
   "cell_type": "code",
   "execution_count": 6,
   "metadata": {},
   "outputs": [
    {
     "ename": "ValueError",
     "evalue": "Cannot have number of folds n_folds=3 greater than the number of samples: 1.",
     "output_type": "error",
     "traceback": [
      "\u001b[0;31m---------------------------------------------------------------------------\u001b[0m",
      "\u001b[0;31mValueError\u001b[0m                                Traceback (most recent call last)",
      "\u001b[0;32m<ipython-input-6-0d878d82986b>\u001b[0m in \u001b[0;36m<module>\u001b[0;34m()\u001b[0m\n\u001b[0;32m----> 1\u001b[0;31m \u001b[0mclassifyData\u001b[0m\u001b[0;34m(\u001b[0m\u001b[0;34m)\u001b[0m\u001b[0;34m\u001b[0m\u001b[0m\n\u001b[0m",
      "\u001b[0;32m<ipython-input-2-ebdfff237124>\u001b[0m in \u001b[0;36mclassifyData\u001b[0;34m()\u001b[0m\n\u001b[1;32m    106\u001b[0m     \u001b[0mY\u001b[0m \u001b[0;34m=\u001b[0m \u001b[0mImputer\u001b[0m\u001b[0;34m(\u001b[0m\u001b[0;34m)\u001b[0m\u001b[0;34m.\u001b[0m\u001b[0mfit_transform\u001b[0m\u001b[0;34m(\u001b[0m\u001b[0mY\u001b[0m\u001b[0;34m)\u001b[0m\u001b[0;34m\u001b[0m\u001b[0m\n\u001b[1;32m    107\u001b[0m \u001b[0;34m\u001b[0m\u001b[0m\n\u001b[0;32m--> 108\u001b[0;31m     \u001b[0mkf\u001b[0m \u001b[0;34m=\u001b[0m \u001b[0mKFold\u001b[0m\u001b[0;34m(\u001b[0m\u001b[0mY\u001b[0m\u001b[0;34m,\u001b[0m \u001b[0mn_folds\u001b[0m\u001b[0;34m=\u001b[0m\u001b[0;36m3\u001b[0m\u001b[0;34m)\u001b[0m\u001b[0;34m\u001b[0m\u001b[0m\n\u001b[0m\u001b[1;32m    109\u001b[0m     \u001b[0my_pred\u001b[0m \u001b[0;34m=\u001b[0m \u001b[0mY\u001b[0m \u001b[0;34m*\u001b[0m \u001b[0;36m0\u001b[0m\u001b[0;34m\u001b[0m\u001b[0m\n\u001b[1;32m    110\u001b[0m     \u001b[0;32mfor\u001b[0m \u001b[0mtrain\u001b[0m\u001b[0;34m,\u001b[0m \u001b[0mtest\u001b[0m \u001b[0;32min\u001b[0m \u001b[0mkf\u001b[0m\u001b[0;34m:\u001b[0m\u001b[0;34m\u001b[0m\u001b[0m\n",
      "\u001b[0;32m/Users/mahui/anaconda/lib/python2.7/site-packages/sklearn/cross_validation.pyc\u001b[0m in \u001b[0;36m__init__\u001b[0;34m(self, y, n_folds, shuffle, random_state)\u001b[0m\n\u001b[1;32m    535\u001b[0m                  random_state=None):\n\u001b[1;32m    536\u001b[0m         super(StratifiedKFold, self).__init__(\n\u001b[0;32m--> 537\u001b[0;31m             len(y), n_folds, shuffle, random_state)\n\u001b[0m\u001b[1;32m    538\u001b[0m         \u001b[0my\u001b[0m \u001b[0;34m=\u001b[0m \u001b[0mnp\u001b[0m\u001b[0;34m.\u001b[0m\u001b[0masarray\u001b[0m\u001b[0;34m(\u001b[0m\u001b[0my\u001b[0m\u001b[0;34m)\u001b[0m\u001b[0;34m\u001b[0m\u001b[0m\n\u001b[1;32m    539\u001b[0m         \u001b[0mn_samples\u001b[0m \u001b[0;34m=\u001b[0m \u001b[0my\u001b[0m\u001b[0;34m.\u001b[0m\u001b[0mshape\u001b[0m\u001b[0;34m[\u001b[0m\u001b[0;36m0\u001b[0m\u001b[0;34m]\u001b[0m\u001b[0;34m\u001b[0m\u001b[0m\n",
      "\u001b[0;32m/Users/mahui/anaconda/lib/python2.7/site-packages/sklearn/cross_validation.pyc\u001b[0m in \u001b[0;36m__init__\u001b[0;34m(self, n, n_folds, shuffle, random_state)\u001b[0m\n\u001b[1;32m    263\u001b[0m             raise ValueError(\n\u001b[1;32m    264\u001b[0m                 (\"Cannot have number of folds n_folds={0} greater\"\n\u001b[0;32m--> 265\u001b[0;31m                  \" than the number of samples: {1}.\").format(n_folds, n))\n\u001b[0m\u001b[1;32m    266\u001b[0m \u001b[0;34m\u001b[0m\u001b[0m\n\u001b[1;32m    267\u001b[0m         \u001b[0;32mif\u001b[0m \u001b[0;32mnot\u001b[0m \u001b[0misinstance\u001b[0m\u001b[0;34m(\u001b[0m\u001b[0mshuffle\u001b[0m\u001b[0;34m,\u001b[0m \u001b[0mbool\u001b[0m\u001b[0;34m)\u001b[0m\u001b[0;34m:\u001b[0m\u001b[0;34m\u001b[0m\u001b[0m\n",
      "\u001b[0;31mValueError\u001b[0m: Cannot have number of folds n_folds=3 greater than the number of samples: 1."
     ]
    }
   ],
   "source": [
    "classifyData()"
   ]
  },
  {
   "cell_type": "code",
   "execution_count": 11,
   "metadata": {
    "collapsed": true
   },
   "outputs": [],
   "source": [
    "    X = np.load(\"dataX.npy\")\n",
    "    Y = np.load(\"dataY.npy\")\n",
    "    "
   ]
  }
 ],
 "metadata": {
  "kernelspec": {
   "display_name": "Python 2",
   "language": "python",
   "name": "python2"
  },
  "language_info": {
   "codemirror_mode": {
    "name": "ipython",
    "version": 2
   },
   "file_extension": ".py",
   "mimetype": "text/x-python",
   "name": "python",
   "nbconvert_exporter": "python",
   "pygments_lexer": "ipython2",
   "version": "2.7.13"
  }
 },
 "nbformat": 4,
 "nbformat_minor": 2
}
