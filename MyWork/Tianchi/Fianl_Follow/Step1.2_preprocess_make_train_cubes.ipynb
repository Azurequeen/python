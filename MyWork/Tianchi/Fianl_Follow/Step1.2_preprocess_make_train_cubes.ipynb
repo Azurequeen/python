{
 "cells": [
  {
   "cell_type": "code",
   "execution_count": 1,
   "metadata": {},
   "outputs": [
    {
     "name": "stderr",
     "output_type": "stream",
     "text": [
      "Using TensorFlow backend.\n"
     ]
    }
   ],
   "source": [
    "from utils.imports import *\n",
    "CUBE_IMGTYPE_SRC = \"_i\""
   ]
  },
  {
   "cell_type": "code",
   "execution_count": 16,
   "metadata": {
    "collapsed": true
   },
   "outputs": [],
   "source": [
    "def save_cube_img(target_path, cube_img, rows, cols):\n",
    "    assert rows * cols == cube_img.shape[0]\n",
    "    img_height = cube_img.shape[1]\n",
    "    img_width = cube_img.shape[1]\n",
    "    res_img = numpy.zeros((rows * img_height, cols * img_width), dtype=numpy.uint8)\n",
    "\n",
    "    for row in range(rows):\n",
    "        for col in range(cols):\n",
    "            target_y = row * img_height\n",
    "            target_x = col * img_width\n",
    "            res_img[target_y:target_y + img_height, target_x:target_x + img_width] = cube_img[row * cols + col]\n",
    "\n",
    "    cv2.imwrite(target_path, res_img)\n",
    "\n",
    "\n",
    "def get_cube_from_img(img3d, center_x, center_y, center_z, block_size):\n",
    "    start_x = max(center_x - block_size / 2, 0)\n",
    "    if start_x + block_size > img3d.shape[2]:\n",
    "        start_x = img3d.shape[2] - block_size\n",
    "\n",
    "    start_y = max(center_y - block_size / 2, 0)\n",
    "    start_z = max(center_z - block_size / 2, 0)\n",
    "    if start_z + block_size > img3d.shape[0]:\n",
    "        start_z = img3d.shape[0] - block_size\n",
    "    start_z = int(start_z)\n",
    "    start_y = int(start_y)\n",
    "    start_x = int(start_x)\n",
    "    res = img3d[start_z:start_z + block_size, start_y:start_y + block_size, start_x:start_x + block_size]\n",
    "    return res\n",
    "\n",
    "\n",
    "def make_pos_annotation_images(label_path,generated_path,pic_path):\n",
    "    src_dir = label_path\n",
    "    dst_dir = generated_path\n",
    "    print(dst_dir)\n",
    "    for file_path in glob.glob(dst_dir + \"*.*\"):\n",
    "        os.remove(file_path)\n",
    "\n",
    "    for patient_index, csv_file in enumerate(glob.glob(src_dir + \"*_annos_pos.csv\")):\n",
    "        patient_id = ntpath.basename(csv_file).replace(\"_annos_pos.csv\", \"\")\n",
    "        df_annos = pandas.read_csv(csv_file)\n",
    "        if len(df_annos) == 0:\n",
    "            continue\n",
    "        images = helpers.load_patient_images(patient_id, pic_path, \"*\" + CUBE_IMGTYPE_SRC + \".png\")\n",
    "\n",
    "        for index, row in df_annos.iterrows():\n",
    "            coord_x = int(row[\"coord_x\"] * images.shape[2])\n",
    "            coord_y = int(row[\"coord_y\"] * images.shape[1])\n",
    "            coord_z = int(row[\"coord_z\"] * images.shape[0])\n",
    "            diam_mm = int(row[\"diameter\"] * images.shape[2])\n",
    "            anno_index = int(row[\"anno_index\"])\n",
    "            cube_img = get_cube_from_img(images, coord_x, coord_y, coord_z, 64)\n",
    "            if cube_img.sum() < 5:\n",
    "                print(\" ***** Skipping \", coord_x, coord_y, coord_z)\n",
    "                continue\n",
    "\n",
    "            if cube_img.mean() < 10:\n",
    "                print(\" ***** Suspicious \", coord_x, coord_y, coord_z)\n",
    "\n",
    "            save_cube_img(dst_dir + patient_id + \"_\" + str(anno_index) + \"_\" + str(diam_mm) + \"_1_\" + \"pos.png\", cube_img, 8, 8)\n",
    "        helpers.print_tabbed([patient_index, patient_id, len(df_annos)], [5, 64, 8])\n",
    "\n",
    "def make_candidate_auto_images(label_path,generated_path,pic_path,candidate_types=[]):\n",
    "    dst_dir = generated_path\n",
    "    src_dir = label_path\n",
    "    for candidate_type in candidate_types:\n",
    "        for file_path in glob.glob(dst_dir + \"*_\" + candidate_type + \".png\"):\n",
    "            os.remove(file_path)\n",
    "\n",
    "    for candidate_type in candidate_types:         \n",
    "        for index, csv_file in enumerate(glob.glob(src_dir + \"*_candidates_\" + candidate_type + \".csv\")):\n",
    "            patient_id = ntpath.basename(csv_file).replace(\"_candidates_\" + candidate_type + \".csv\", \"\")\n",
    "            print(index, \",patient: \", patient_id, \" type:\", candidate_type)\n",
    "            # if not \"148229375703208214308676934766\" in patient_id:\n",
    "            #     continue\n",
    "            df_annos = pandas.read_csv(csv_file)\n",
    "            if len(df_annos) == 0:\n",
    "                continue\n",
    "            images = helpers.load_patient_images(patient_id, pic_path, \"*\" + CUBE_IMGTYPE_SRC + \".png\", exclude_wildcards=[])\n",
    "\n",
    "            row_no = 0\n",
    "            for index, row in df_annos.iterrows():\n",
    "                coord_x = int(row[\"coord_x\"] * images.shape[2])\n",
    "                coord_y = int(row[\"coord_y\"] * images.shape[1])\n",
    "                coord_z = int(row[\"coord_z\"] * images.shape[0])\n",
    "                anno_index = int(row[\"anno_index\"])\n",
    "                cube_img = get_cube_from_img(images, coord_x, coord_y, coord_z, 48)\n",
    "                if cube_img.sum() < 10:\n",
    "                    print(\"Skipping \", coord_x, coord_y, coord_z)\n",
    "                    continue\n",
    "                # print(cube_img.sum())\n",
    "                try:\n",
    "                    save_cube_img(dst_dir + patient_id + \"_\" + str(anno_index) + \"_0_\" + candidate_type + \".png\", cube_img, 6, 8)\n",
    "                except Exception as ex:\n",
    "                    print(ex)\n",
    "\n",
    "                row_no += 1\n",
    "                max_item = 240 if candidate_type == \"white\" else 200\n",
    "                if candidate_type == \"luna\":\n",
    "                    max_item = 500\n",
    "                if row_no > max_item:\n",
    "                    break"
   ]
  },
  {
   "cell_type": "code",
   "execution_count": 17,
   "metadata": {
    "collapsed": true
   },
   "outputs": [],
   "source": [
    "label_path = PATH['label_train']\n",
    "generated_path = PATH['generated_train']\n",
    "pic_path = PATH['pic_train']"
   ]
  },
  {
   "cell_type": "code",
   "execution_count": 18,
   "metadata": {},
   "outputs": [],
   "source": [
    "make_pos_annotation_images(label_path,generated_path,pic_path)"
   ]
  },
  {
   "cell_type": "code",
   "execution_count": 10,
   "metadata": {
    "collapsed": true
   },
   "outputs": [],
   "source": [
    "label_path = PATH['label_test']\n",
    "generated_path = PATH['generated_test']\n",
    "pic_path = PATH['pic_test']"
   ]
  },
  {
   "cell_type": "code",
   "execution_count": 11,
   "metadata": {
    "scrolled": true
   },
   "outputs": [
    {
     "name": "stdout",
     "output_type": "stream",
     "text": [
      "/Volumes/solo/ali/Data/test_generated/\n",
      "0    \tLKDS-00012                                                      \t6       \n",
      "1    \tLKDS-00022                                                      \t13      \n",
      "2    \tLKDS-00027                                                      \t2       \n",
      "3    \tLKDS-00031                                                      \t12      \n",
      "4    \tLKDS-00033                                                      \t7       \n",
      "5    \tLKDS-00037                                                      \t12      \n",
      "6    \tLKDS-00046                                                      \t15      \n",
      "7    \tLKDS-00049                                                      \t4       \n",
      "8    \tLKDS-00056                                                      \t9       \n",
      "9    \tLKDS-00057                                                      \t12      \n",
      "10   \tLKDS-00063                                                      \t12      \n",
      "11   \tLKDS-00082                                                      \t16      \n",
      "12   \tLKDS-00087                                                      \t10      \n",
      "13   \tLKDS-00094                                                      \t3       \n",
      "14   \tLKDS-00097                                                      \t13      \n",
      "15   \tLKDS-00098                                                      \t11      \n",
      "16   \tLKDS-00103                                                      \t9       \n",
      "17   \tLKDS-00106                                                      \t6       \n",
      "18   \tLKDS-00124                                                      \t17      \n",
      "19   \tLKDS-00131                                                      \t4       \n",
      "20   \tLKDS-00132                                                      \t7       \n",
      "21   \tLKDS-00139                                                      \t8       \n",
      "22   \tLKDS-00143                                                      \t4       \n",
      "23   \tLKDS-00155                                                      \t3       \n",
      "24   \tLKDS-00158                                                      \t10      \n",
      "25   \tLKDS-00159                                                      \t10      \n",
      "26   \tLKDS-00164                                                      \t8       \n",
      "27   \tLKDS-00167                                                      \t3       \n",
      "28   \tLKDS-00174                                                      \t9       \n",
      "29   \tLKDS-00179                                                      \t9       \n",
      "30   \tLKDS-00182                                                      \t1       \n"
     ]
    }
   ],
   "source": [
    "make_pos_annotation_images(label_path,generated_path,pic_path)"
   ]
  },
  {
   "cell_type": "code",
   "execution_count": null,
   "metadata": {
    "collapsed": true
   },
   "outputs": [],
   "source": [
    ""
   ]
  },
  {
   "cell_type": "code",
   "execution_count": 15,
   "metadata": {
    "collapsed": true
   },
   "outputs": [],
   "source": [
    ""
   ]
  },
  {
   "cell_type": "code",
   "execution_count": null,
   "metadata": {
    "collapsed": true
   },
   "outputs": [],
   "source": [
    ""
   ]
  }
 ],
 "metadata": {
  "kernelspec": {
   "display_name": "Python 3",
   "language": "python",
   "name": "python3"
  },
  "language_info": {
   "codemirror_mode": {
    "name": "ipython",
    "version": 3.0
   },
   "file_extension": ".py",
   "mimetype": "text/x-python",
   "name": "python",
   "nbconvert_exporter": "python",
   "pygments_lexer": "ipython3",
   "version": "3.6.1"
  }
 },
 "nbformat": 4,
 "nbformat_minor": 0
}