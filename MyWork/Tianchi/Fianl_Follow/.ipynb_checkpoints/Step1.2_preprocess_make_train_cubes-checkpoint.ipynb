{
 "cells": [
  {
   "cell_type": "code",
   "execution_count": 1,
   "metadata": {},
   "outputs": [],
   "source": [
    "from utils.imports import *\n",
    "CUBE_IMGTYPE_SRC = \"_i\""
   ]
  },
  {
   "cell_type": "code",
   "execution_count": 2,
   "metadata": {},
   "outputs": [],
   "source": [
    "def save_cube_img(target_path, cube_img, rows, cols):\n",
    "    assert rows * cols == cube_img.shape[0]\n",
    "    img_height = cube_img.shape[1]\n",
    "    img_width = cube_img.shape[1]\n",
    "    res_img = numpy.zeros((rows * img_height, cols * img_width), dtype=numpy.uint8)\n",
    "\n",
    "    for row in range(rows):\n",
    "        for col in range(cols):\n",
    "            target_y = row * img_height\n",
    "            target_x = col * img_width\n",
    "            res_img[target_y:target_y + img_height, target_x:target_x + img_width] = cube_img[row * cols + col]\n",
    "\n",
    "    cv2.imwrite(target_path, res_img)\n",
    "\n",
    "\n",
    "def get_cube_from_img(img3d, center_x, center_y, center_z, block_size):\n",
    "    start_x = max(center_x - block_size / 2, 0)\n",
    "    if start_x + block_size > img3d.shape[2]:\n",
    "        start_x = img3d.shape[2] - block_size\n",
    "\n",
    "    start_y = max(center_y - block_size / 2, 0)\n",
    "    start_z = max(center_z - block_size / 2, 0)\n",
    "    if start_z + block_size > img3d.shape[0]:\n",
    "        start_z = img3d.shape[0] - block_size\n",
    "    start_z = int(start_z)\n",
    "    start_y = int(start_y)\n",
    "    start_x = int(start_x)\n",
    "    res = img3d[start_z:start_z + block_size, start_y:start_y + block_size, start_x:start_x + block_size]\n",
    "    return res\n",
    "\n",
    "\n",
    "def make_pos_annotation_images(label_path,generated_path,pic_path):\n",
    "    src_dir = label_path\n",
    "    dst_dir = generated_path\n",
    "    print(dst_dir)\n",
    "    for file_path in glob.glob(dst_dir + \"*.*\"):\n",
    "        os.remove(file_path)\n",
    "\n",
    "    for patient_index, csv_file in enumerate(glob.glob(src_dir + \"*_annos_pos.csv\")):\n",
    "        patient_id = ntpath.basename(csv_file).replace(\"_annos_pos.csv\", \"\")\n",
    "        # print(patient_id)\n",
    "        # if not \"148229375703208214308676934766\" in patient_id:\n",
    "        #     continue\n",
    "        df_annos = pandas.read_csv(csv_file)\n",
    "        if len(df_annos) == 0:\n",
    "            continue\n",
    "        images = helpers.load_patient_images(patient_id, pic_path, \"*\" + CUBE_IMGTYPE_SRC + \".png\")\n",
    "\n",
    "        for index, row in df_annos.iterrows():\n",
    "            coord_x = int(row[\"coord_x\"] * images.shape[2])\n",
    "            coord_y = int(row[\"coord_y\"] * images.shape[1])\n",
    "            coord_z = int(row[\"coord_z\"] * images.shape[0])\n",
    "            diam_mm = int(row[\"diameter\"] * images.shape[2])\n",
    "            anno_index = int(row[\"anno_index\"])\n",
    "            cube_img = get_cube_from_img(images, coord_x, coord_y, coord_z, 64)\n",
    "            if cube_img.sum() < 5:\n",
    "                print(\" ***** Skipping \", coord_x, coord_y, coord_z)\n",
    "                continue\n",
    "\n",
    "            if cube_img.mean() < 10:\n",
    "                print(\" ***** Suspicious \", coord_x, coord_y, coord_z)\n",
    "\n",
    "            save_cube_img(dst_dir + patient_id + \"_\" + str(anno_index) + \"_\" + str(diam_mm) + \"_1_\" + \"pos.png\", cube_img, 8, 8)\n",
    "        helpers.print_tabbed([patient_index, patient_id, len(df_annos)], [5, 64, 8])\n",
    "\n",
    "\n"
   ]
  },
  {
   "cell_type": "code",
   "execution_count": 3,
   "metadata": {
    "collapsed": true
   },
   "outputs": [],
   "source": [
    "label_path = PATH['label_train']\n",
    "generated_path = PATH['generated_train']\n",
    "pic_path = PATH['pic_train']"
   ]
  },
  {
   "cell_type": "code",
   "execution_count": 4,
   "metadata": {},
   "outputs": [
    {
     "name": "stdout",
     "output_type": "stream",
     "text": [
      "/Volumes/solo/ali/Data/train_generated/\n"
     ]
    }
   ],
   "source": [
    "make_pos_annotation_images(label_path,generated_path,pic_path)"
   ]
  }
 ],
 "metadata": {
  "kernelspec": {
   "display_name": "Python 3",
   "language": "python",
   "name": "python3"
  },
  "language_info": {
   "codemirror_mode": {
    "name": "ipython",
    "version": 3
   },
   "file_extension": ".py",
   "mimetype": "text/x-python",
   "name": "python",
   "nbconvert_exporter": "python",
   "pygments_lexer": "ipython3",
   "version": "3.6.1"
  }
 },
 "nbformat": 4,
 "nbformat_minor": 2
}
