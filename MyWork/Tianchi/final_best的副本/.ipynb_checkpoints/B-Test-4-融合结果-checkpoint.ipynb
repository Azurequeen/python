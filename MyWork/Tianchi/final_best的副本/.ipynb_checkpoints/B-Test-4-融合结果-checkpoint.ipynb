{
 "cells": [
  {
   "cell_type": "code",
   "execution_count": 1,
   "metadata": {},
   "outputs": [
    {
     "name": "stderr",
     "output_type": "stream",
     "text": [
      "Using TensorFlow backend.\n"
     ]
    }
   ],
   "source": [
    "from utils.imports import *"
   ]
  },
  {
   "cell_type": "code",
   "execution_count": 2,
   "metadata": {
    "collapsed": true
   },
   "outputs": [],
   "source": [
    "csv_path = PATH['annotations_train']"
   ]
  },
  {
   "cell_type": "code",
   "execution_count": 3,
   "metadata": {},
   "outputs": [],
   "source": [
    "train_pred = pd.read_csv(csv_path + \"0final.csv\")"
   ]
  },
  {
   "cell_type": "code",
   "execution_count": 4,
   "metadata": {
    "collapsed": true
   },
   "outputs": [],
   "source": [
    "train_true = train_pred[train_pred['True']==1]\n",
    "train_false = train_pred[train_pred['True']==0]\n",
    "train_false = train_false[train_false.index%4 == 0]"
   ]
  },
  {
   "cell_type": "code",
   "execution_count": 5,
   "metadata": {},
   "outputs": [],
   "source": [
    "train_pred = pd.concat([train_true,train_false],axis=0)"
   ]
  },
  {
   "cell_type": "code",
   "execution_count": 6,
   "metadata": {},
   "outputs": [],
   "source": [
    "train_pred = train_pred.drop(['seriesuid','coordX','coordY','coordZ','file'],axis=1)"
   ]
  },
  {
   "cell_type": "code",
   "execution_count": 7,
   "metadata": {},
   "outputs": [],
   "source": [
    "train = train_pred[['diameter_mm','probability_30_30_30_cube','probability_06_20_20','probability_10_30_30','probability_26_40_40','True']]\n",
    "test = train_pred[['diameter_mm','probability_30_30_30_cube','probability_06_20_20','probability_10_30_30','probability_26_40_40','True']]\n",
    "sample = train_pred[['diameter_mm','probability_30_30_30_cube','probability_06_20_20','probability_10_30_30','probability_26_40_40','True']]"
   ]
  },
  {
   "cell_type": "code",
   "execution_count": 8,
   "metadata": {},
   "outputs": [],
   "source": [
    "features = list(train.columns[1:-1])  #la colonne 0 est le quote_conversionflag  "
   ]
  },
  {
   "cell_type": "code",
   "execution_count": 9,
   "metadata": {},
   "outputs": [
    {
     "name": "stdout",
     "output_type": "stream",
     "text": [
      "Fitting 5 folds for each of 1152 candidates, totalling 5760 fits\n"
     ]
    },
    {
     "name": "stderr",
     "output_type": "stream",
     "text": [
      "[Parallel(n_jobs=5)]: Done  40 tasks      | elapsed:    7.6s\n",
      "[Parallel(n_jobs=5)]: Done 190 tasks      | elapsed:   37.6s\n",
      "[Parallel(n_jobs=5)]: Done 440 tasks      | elapsed:  1.7min\n",
      "[Parallel(n_jobs=5)]: Done 790 tasks      | elapsed:  3.3min\n",
      "[Parallel(n_jobs=5)]: Done 1240 tasks      | elapsed:  5.5min\n",
      "[Parallel(n_jobs=5)]: Done 1790 tasks      | elapsed:  8.2min\n",
      "[Parallel(n_jobs=5)]: Done 2440 tasks      | elapsed: 11.4min\n",
      "[Parallel(n_jobs=5)]: Done 3190 tasks      | elapsed: 14.6min\n",
      "[Parallel(n_jobs=5)]: Done 4040 tasks      | elapsed: 19.0min\n",
      "[Parallel(n_jobs=5)]: Done 4990 tasks      | elapsed: 24.2min\n",
      "[Parallel(n_jobs=5)]: Done 5760 out of 5760 | elapsed: 28.2min finished\n"
     ]
    },
    {
     "name": "stdout",
     "output_type": "stream",
     "text": [
      "('Raw AUC score:', 0.5473899509208358)\n",
      "learning_rate: 0.5\n",
      "max_depth: 11\n",
      "min_child_weight: 11\n",
      "n_estimators: 1000\n",
      "nthread: 4\n",
      "objective: 'binary:logistic'\n",
      "seed: 1337\n",
      "silent: 1\n",
      "subsample: 1\n"
     ]
    }
   ],
   "source": [
    "xgb_model = xgb.XGBClassifier()\n",
    "\n",
    "#brute force scan for all parameters, here are the tricks\n",
    "#usually max_depth is 6,7,8\n",
    "#learning rate is around 0.05, but small changes may make big diff\n",
    "#tuning min_child_weight subsample colsample_bytree can have \n",
    "#much fun of fighting against overfit \n",
    "#n_estimators is how many round of boosting\n",
    "#finally, ensemble xgboost with multiple seeds may reduce variance\n",
    "parameters = {'nthread':[4], #when use hyperthread, xgboost may become slower\n",
    "              'objective':['binary:logistic'],\n",
    "              'learning_rate': [0.05,0.005,0.0005,0.5,0.1,0.001,0.0001,0.01], #so called `eta` value\n",
    "              'max_depth': [6,7,8,9,10,11],\n",
    "              'min_child_weight': [5,7,9,11,13,15,],\n",
    "              'silent': [1],\n",
    "              'subsample': [0.7,0.8,0.9,1],\n",
    "              'n_estimators': [1000], #number of trees, change it to 1000 for better results\n",
    "              #'missing':[-999],\n",
    "              'seed': [1337]}\n",
    "\n",
    "\n",
    "clf = GridSearchCV(xgb_model, parameters, n_jobs=5, \n",
    "                   cv=StratifiedKFold(train['True'], n_folds=5, shuffle=True), \n",
    "                   scoring='roc_auc',\n",
    "                   verbose=1, refit=True)\n",
    "\n",
    "clf.fit(train[features], train[\"True\"])\n",
    "\n",
    "#trust your CV!\n",
    "best_parameters, score, _ = max(clf.grid_scores_, key=lambda x: x[1])\n",
    "print('Raw AUC score:', score)\n",
    "for param_name in sorted(best_parameters.keys()):\n",
    "    print(\"%s: %r\" % (param_name, best_parameters[param_name]))\n",
    "\n",
    "test_probs = clf.predict_proba(test[features])[:,1]\n",
    "\n",
    "#sample = pd.read_csv('../input/sample_submission.csv')\n",
    "sample['probability'] = test_probs\n",
    "#sample.to_csv(\"xgboost_best_parameter_submission.csv\", index=False)"
   ]
  },
  {
   "cell_type": "code",
   "execution_count": 10,
   "metadata": {},
   "outputs": [
    {
     "data": {
      "text/plain": [
       "(2309,)"
      ]
     },
     "execution_count": 10,
     "metadata": {},
     "output_type": "execute_result"
    }
   ],
   "source": [
    "test_probs.shape"
   ]
  },
  {
   "cell_type": "code",
   "execution_count": 11,
   "metadata": {},
   "outputs": [],
   "source": [
    "aa = clf.predict_proba(test[features])"
   ]
  },
  {
   "cell_type": "code",
   "execution_count": 12,
   "metadata": {},
   "outputs": [
    {
     "data": {
      "text/plain": [
       "([array([ 1000.,   188.,    36.,    17.,     7.,     4.,     6.,    38.,\n",
       "           204.,   809.]),\n",
       "  array([  809.,   204.,    38.,     6.,     4.,     7.,    17.,    36.,\n",
       "           188.,  1000.])],\n",
       " array([  1.80161514e-05,   1.00014414e-01,   2.00010813e-01,\n",
       "          3.00007211e-01,   4.00003609e-01,   5.00000008e-01,\n",
       "          5.99996406e-01,   6.99992804e-01,   7.99989203e-01,\n",
       "          8.99985601e-01,   9.99981999e-01]),\n",
       " <a list of 2 Lists of Patches objects>)"
      ]
     },
     "execution_count": 12,
     "metadata": {},
     "output_type": "execute_result"
    },
    {
     "data": {
      "image/png": "[encoded data removed]",
      "text/plain": [
       "<matplotlib.figure.Figure at 0x14932ae10>"
      ]
     },
     "metadata": {},
     "output_type": "display_data"
    }
   ],
   "source": [
    "%matplotlib inline\n",
    "plt.hist(aa,bins = 10)"
   ]
  },
  {
   "cell_type": "code",
   "execution_count": null,
   "metadata": {
    "collapsed": true
   },
   "outputs": [],
   "source": []
  }
 ],
 "metadata": {
  "kernelspec": {
   "display_name": "Python 2",
   "language": "python",
   "name": "python2"
  },
  "language_info": {
   "codemirror_mode": {
    "name": "ipython",
    "version": 2
   },
   "file_extension": ".py",
   "mimetype": "text/x-python",
   "name": "python",
   "nbconvert_exporter": "python",
   "pygments_lexer": "ipython2",
   "version": "2.7.13"
  }
 },
 "nbformat": 4,
 "nbformat_minor": 2
}
