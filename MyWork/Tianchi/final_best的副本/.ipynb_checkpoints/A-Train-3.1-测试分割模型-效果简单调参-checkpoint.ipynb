{
 "cells": [
  {
   "cell_type": "code",
   "execution_count": 1,
   "metadata": {},
   "outputs": [
    {
     "name": "stderr",
     "output_type": "stream",
     "text": [
      "Using TensorFlow backend.\n"
     ]
    }
   ],
   "source": [
    "from utils.imports import *"
   ]
  },
  {
   "cell_type": "code",
   "execution_count": null,
   "metadata": {
    "collapsed": true
   },
   "outputs": [],
   "source": []
  },
  {
   "cell_type": "code",
   "execution_count": null,
   "metadata": {
    "collapsed": true
   },
   "outputs": [],
   "source": [
    "model_paths = PATH['model_paths']\n",
    "pred_path = PATH['model_test_pred']\n",
    "data_path = PATH['model_train']"
   ]
  },
  {
   "cell_type": "code",
   "execution_count": null,
   "metadata": {
    "collapsed": true
   },
   "outputs": [],
   "source": [
    "model_fenge_path=model_paths + 'final_fenge_170620.h5'\n",
    "model_fenge = load_model(model_fenge_path, custom_objects={'dice_coef_loss': dice_coef_loss, 'dice_coef': dice_coef})"
   ]
  },
  {
   "cell_type": "code",
   "execution_count": null,
   "metadata": {
    "collapsed": true
   },
   "outputs": [],
   "source": [
    "lungs = [x for x in sorted(os.listdir(data_path + 'lung/')) if x != '.DS_Store']\n",
    "nods = [x for x in sorted(os.listdir(data_path + 'nodule/')) if x != '.DS_Store']\n",
    "lung_100 = sorted(np.random.choice(lungs,200))"
   ]
  },
  {
   "cell_type": "markdown",
   "metadata": {},
   "source": [
    "### 模型预测结果与GroundTruth的相似度应越高越好，满值为1\n",
    "#### -肺部掩模：加在预测前后都明显降低准确率\n",
    "#### -预测结果门限：0.95，在实际检测中，不加门限的查出的ROI数量更少\n",
    "#### -开运算：5和3没太大差别，3与不加open稍好0.01%，总0.11%"
   ]
  },
  {
   "cell_type": "markdown",
   "metadata": {},
   "source": [
    "- 06072;28.292984%\n",
    "- 06073;28.292829%\n",
    "- 06082;28.292829%\n",
    "- 06083;28.292829%"
   ]
  },
  {
   "cell_type": "code",
   "execution_count": null,
   "metadata": {},
   "outputs": [],
   "source": [
    "simule(data_path,model_fenge,lung_100)"
   ]
  },
  {
   "cell_type": "code",
   "execution_count": null,
   "metadata": {},
   "outputs": [],
   "source": [
    "for scan in tqdm(lung_100):\n",
    "        patient_id = scan.split('/')[-1][:-4]\n",
    "        img = cv2.imread(data_path + 'lung/' + scan,cv2.IMREAD_GRAYSCALE)   \n",
    "        #seg_img, overlap = helpers.get_segmented_lungs(img.copy())\n",
    "        mask = cv2.imread(data_path + 'nodule/' + scan[:-5] + 'm.png',cv2.IMREAD_GRAYSCALE).astype(int) \n",
    "        \n",
    "        \n",
    "        #img = skimage.morphology.binary_opening(np.squeeze(img), np.ones([2,2])) \n",
    "        img = np.expand_dims(img,0)\n",
    "        img = np.expand_dims(img,0)   \n",
    "        p = model_fenge.predict(img)\n",
    "\n",
    "        p = np.squeeze(p)"
   ]
  },
  {
   "cell_type": "code",
   "execution_count": null,
   "metadata": {},
   "outputs": [],
   "source": [
    "%matplotlib inline\n",
    "plt.imshow(np.squeeze(img))"
   ]
  },
  {
   "cell_type": "code",
   "execution_count": null,
   "metadata": {},
   "outputs": [],
   "source": [
    "plt.imshow(np.squeeze(mask))"
   ]
  },
  {
   "cell_type": "code",
   "execution_count": null,
   "metadata": {},
   "outputs": [],
   "source": [
    "plt.imshow(np.squeeze(p))"
   ]
  },
  {
   "cell_type": "code",
   "execution_count": null,
   "metadata": {},
   "outputs": [],
   "source": [
    "plt.hist(np.squeeze(p[p>0.2]).tolist())"
   ]
  },
  {
   "cell_type": "code",
   "execution_count": null,
   "metadata": {},
   "outputs": [],
   "source": [
    "s=p.copy()\n",
    "s[s==1]=int(1)\n",
    "s[s!=1]=int(0)\n",
    "s=np.squeeze(s)\n",
    "s = skimage.morphology.binary_opening(s, np.ones([3,3]))\n",
    "plt.imshow(s)"
   ]
  },
  {
   "cell_type": "code",
   "execution_count": null,
   "metadata": {
    "collapsed": true
   },
   "outputs": [],
   "source": [
    "mean=0.0\n",
    "\n",
    "mean += dice_coef_np(mask,s)"
   ]
  },
  {
   "cell_type": "code",
   "execution_count": null,
   "metadata": {},
   "outputs": [],
   "source": [
    "mean"
   ]
  },
  {
   "cell_type": "code",
   "execution_count": null,
   "metadata": {
    "collapsed": true
   },
   "outputs": [],
   "source": []
  }
 ],
 "metadata": {
  "kernelspec": {
   "display_name": "Python 2",
   "language": "python",
   "name": "python2"
  },
  "language_info": {
   "codemirror_mode": {
    "name": "ipython",
    "version": 2
   },
   "file_extension": ".py",
   "mimetype": "text/x-python",
   "name": "python",
   "nbconvert_exporter": "python",
   "pygments_lexer": "ipython2",
   "version": "2.7.13"
  }
 },
 "nbformat": 4,
 "nbformat_minor": 2
}
