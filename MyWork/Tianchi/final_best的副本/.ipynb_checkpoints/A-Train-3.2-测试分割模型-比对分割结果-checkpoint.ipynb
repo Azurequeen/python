{
 "cells": [
  {
   "cell_type": "code",
   "execution_count": 1,
   "metadata": {},
   "outputs": [
    {
     "name": "stderr",
     "output_type": "stream",
     "text": [
      "Using TensorFlow backend.\n"
     ]
    }
   ],
   "source": [
    "from utils.imports import *"
   ]
  },
  {
   "cell_type": "code",
   "execution_count": 2,
   "metadata": {
    "collapsed": true
   },
   "outputs": [],
   "source": [
    "def dice_coef(y_true, y_pred):\n",
    "    y_true_f = K.flatten(y_true)\n",
    "    y_pred_f = K.flatten(y_pred)\n",
    "    intersection = K.sum(y_true_f * y_pred_f)\n",
    "    return (2. * intersection + 1) / (K.sum(y_true_f) + K.sum(y_pred_f) + 1)\n",
    "def dice_coef_loss(y_true, y_pred):\n",
    "    return -dice_coef(y_true, y_pred)\n",
    "\n",
    "def load_train():\n",
    "    folders = [x for x in os.listdir(data_path) if 'subset' in x]\n",
    "    os.chdir(data_path)\n",
    "    patients = []    \n",
    "    for i in folders:\n",
    "        os.chdir(data_path + i)\n",
    "        patient_ids = [x for x in os.listdir(data_path + i) if '.mhd' in x]\n",
    "        for id in patient_ids:\n",
    "            j = '{}/{}'.format(i, id)\n",
    "            patients.append(j)\n",
    "    return patients\n",
    "\n",
    "def get_filename(file_list, case):\n",
    "    for f in file_list:\n",
    "        if case in f:\n",
    "            return(f)\n",
    "        \n",
    "def normalize(image):\n",
    "    MIN_BOUND = -1000.0\n",
    "    MAX_BOUND = 400.0\n",
    "    image = (image - MIN_BOUND) / (MAX_BOUND - MIN_BOUND)\n",
    "    image[image > 1] = 1.\n",
    "    image[image < 0] = 0.\n",
    "    return image\n",
    "\n",
    "def voxel_2_world(voxel_coordinates, origin, spacing):\n",
    "    stretched_voxel_coordinates = voxel_coordinates * spacing\n",
    "    world_coordinates = stretched_voxel_coordinates + origin\n",
    "    return world_coordinates\n",
    "\n",
    "def pred_samples(img_file):\n",
    "    patient_id = img_file.split('/')[-1][:-4]\n",
    "    #读取mhd\n",
    "    itk_img = SimpleITK.ReadImage(data_path + patient) \n",
    "    img_array = SimpleITK.GetArrayFromImage(itk_img) # inde\n",
    "    origin = np.array(itk_img.GetOrigin())      # x,y,z  Origin in world coordinates (mm)\n",
    "    spacing = np.array(itk_img.GetSpacing())\n",
    "    direction = np.array(itk_img.GetDirection())\n",
    "    if round(direction[0]) != 1:\n",
    "        origin[0] *= -1\n",
    "        print patient_id\n",
    "    if round(direction[4]) != 1:\n",
    "        origin[1] *= -1   \n",
    "        print patient_id\n",
    "    \n",
    "    #加上肺部掩膜后进行预测（先加和后加）\n",
    "    if img_array.shape[1] != 512:\n",
    "        print patient_id\n",
    "    else:\n",
    "        img_array_new = np.zeros_like(img_array)\n",
    "        for i in tqdm(range(img_array.shape[0])):\n",
    "            img = img_array[i]\n",
    "            #seg_img, overlap = helpers.get_segmented_lungs(img.copy())\n",
    "            img = normalize(img) * 255        \n",
    "            img = np.expand_dims(img,0)\n",
    "            img = np.expand_dims(img,0)\n",
    "            p = model.predict(img)\n",
    "            #p = p*overlap\n",
    "            img_array_new[i] = p \n",
    "    return img_array_new, patient_id,origin, spacing\n",
    "\n",
    "def get_coord(img_array_new, patient_id,origin, spacing):\n",
    "    var = []\n",
    "#提取连通区域                     \n",
    "    temp = np.squeeze(img_array_new)\n",
    "\n",
    "\n",
    "    temp = skimage.morphology.binary_opening(np.squeeze(temp), np.ones([3,3,3]))\n",
    "\n",
    "    labels = skimage.measure.label(np.squeeze(temp))    \n",
    "    props = skimage.measure.regionprops(labels)\n",
    "    for i in range(len(props)):\n",
    "        #if props[i]['EquivDiameter'] < 100:        \n",
    "        world_coordinates = voxel_2_world([props[i]['Centroid'][2], \n",
    "                                                   props[i]['Centroid'][1], \n",
    "                                                   props[i]['Centroid'][0]], origin, spacing)               \n",
    "        var.append([patient_id,\n",
    "                    world_coordinates[0],\n",
    "                    world_coordinates[1],\n",
    "                    world_coordinates[2],\n",
    "                    props[i]['EquivDiameter']])        \n",
    "    return var"
   ]
  },
  {
   "cell_type": "code",
   "execution_count": 3,
   "metadata": {
    "collapsed": true
   },
   "outputs": [],
   "source": [
    "csv_path = PATH['annotations_train']\n",
    "model_paths = PATH['model_paths']\n",
    "pred_path = PATH['pic_train']\n",
    "data_path = PATH['src_train']"
   ]
  },
  {
   "cell_type": "code",
   "execution_count": 4,
   "metadata": {
    "collapsed": true
   },
   "outputs": [],
   "source": [
    "model_fenge_path=model_paths + 'final_fenge_170607_2.h5'\n",
    "model_fenge = load_model(model_fenge_path, custom_objects={'dice_coef_loss': dice_coef_loss, 'dice_coef': dice_coef})"
   ]
  },
  {
   "cell_type": "code",
   "execution_count": 5,
   "metadata": {
    "collapsed": true
   },
   "outputs": [],
   "source": [
    "patients = load_train()\n",
    "anno = pd.read_csv('/Volumes/solo/ali/csv/train/annotations.csv')"
   ]
  },
  {
   "cell_type": "code",
   "execution_count": 6,
   "metadata": {},
   "outputs": [
    {
     "data": {
      "text/plain": [
       "'train_subset00/LKDS-00021.mhd'"
      ]
     },
     "execution_count": 6,
     "metadata": {},
     "output_type": "execute_result"
    }
   ],
   "source": [
    "patient = patients[11]\n",
    "patient"
   ]
  },
  {
   "cell_type": "code",
   "execution_count": 7,
   "metadata": {},
   "outputs": [
    {
     "name": "stderr",
     "output_type": "stream",
     "text": [
      "100%|██████████| 441/441 [03:10<00:00,  2.27it/s]\n"
     ]
    }
   ],
   "source": [
    "#for patient in sorted(patients):\n",
    "img_pred, patient_id, origin, spacing = pred_samples(patient)"
   ]
  },
  {
   "cell_type": "code",
   "execution_count": 8,
   "metadata": {
    "collapsed": true
   },
   "outputs": [],
   "source": [
    "var = get_coord(img_pred, patient_id,origin, spacing)"
   ]
  },
  {
   "cell_type": "code",
   "execution_count": 9,
   "metadata": {
    "collapsed": true
   },
   "outputs": [],
   "source": [
    "var_csv = pd.DataFrame.from_records(var,columns=['seriesuid','coordX','coordY','coordZ','diameter_mm'])"
   ]
  },
  {
   "cell_type": "code",
   "execution_count": 10,
   "metadata": {
    "collapsed": true
   },
   "outputs": [],
   "source": [
    "def cal_dist(var_csv,anno):\n",
    "    dist = []\n",
    "    ratio = []\n",
    "    for index_csv,row_csv in var_csv.iterrows():\n",
    "        mini_ann = anno[anno['seriesuid']==row_csv['seriesuid']] \n",
    "        dist_ = []\n",
    "        ratio_ = []\n",
    "        for index_ann,row_ann in mini_ann.iterrows():        \n",
    "            vec1 = np.array([row_csv['coordX'],row_csv['coordY'],row_csv['coordZ']])\n",
    "            vec2 = np.array([row_ann['coordX'],row_ann['coordY'],row_ann['coordZ']])\n",
    "            ratio_.append(numpy.linalg.norm(vec1 - vec2)/row_ann['diameter_mm'])\n",
    "            dist_.append(numpy.linalg.norm(vec1 - vec2))\n",
    "        ratio.append(np.min(ratio_))\n",
    "        dist.append(np.min(dist_))  \n",
    "    var_csv['ratio'] = ratio\n",
    "    var_csv['dist'] = dist\n",
    "    var_csv = var_csv.sort_values('dist')\n",
    "    return var_csv"
   ]
  },
  {
   "cell_type": "code",
   "execution_count": 11,
   "metadata": {},
   "outputs": [
    {
     "data": {
      "text/html": [
       "<div>\n",
       "<style>\n",
       "    .dataframe thead tr:only-child th {\n",
       "        text-align: right;\n",
       "    }\n",
       "\n",
       "    .dataframe thead th {\n",
       "        text-align: left;\n",
       "    }\n",
       "\n",
       "    .dataframe tbody tr th {\n",
       "        vertical-align: top;\n",
       "    }\n",
       "</style>\n",
       "<table border=\"1\" class=\"dataframe\">\n",
       "  <thead>\n",
       "    <tr style=\"text-align: right;\">\n",
       "      <th></th>\n",
       "      <th>seriesuid</th>\n",
       "      <th>coordX</th>\n",
       "      <th>coordY</th>\n",
       "      <th>coordZ</th>\n",
       "      <th>diameter_mm</th>\n",
       "      <th>ratio</th>\n",
       "      <th>dist</th>\n",
       "    </tr>\n",
       "  </thead>\n",
       "  <tbody>\n",
       "    <tr>\n",
       "      <th>6</th>\n",
       "      <td>LKDS-00021</td>\n",
       "      <td>-95.463900</td>\n",
       "      <td>185.724685</td>\n",
       "      <td>542.850000</td>\n",
       "      <td>5.796963</td>\n",
       "      <td>0.185583</td>\n",
       "      <td>1.477807</td>\n",
       "    </tr>\n",
       "    <tr>\n",
       "      <th>7</th>\n",
       "      <td>LKDS-00021</td>\n",
       "      <td>-79.887339</td>\n",
       "      <td>192.264401</td>\n",
       "      <td>556.725000</td>\n",
       "      <td>5.560083</td>\n",
       "      <td>2.726579</td>\n",
       "      <td>21.711840</td>\n",
       "    </tr>\n",
       "    <tr>\n",
       "      <th>8</th>\n",
       "      <td>LKDS-00021</td>\n",
       "      <td>-83.162080</td>\n",
       "      <td>193.048907</td>\n",
       "      <td>560.283036</td>\n",
       "      <td>5.433674</td>\n",
       "      <td>2.779806</td>\n",
       "      <td>22.135693</td>\n",
       "    </tr>\n",
       "    <tr>\n",
       "      <th>3</th>\n",
       "      <td>LKDS-00021</td>\n",
       "      <td>-82.917939</td>\n",
       "      <td>139.582091</td>\n",
       "      <td>515.975000</td>\n",
       "      <td>3.722103</td>\n",
       "      <td>6.937956</td>\n",
       "      <td>55.247184</td>\n",
       "    </tr>\n",
       "    <tr>\n",
       "      <th>4</th>\n",
       "      <td>LKDS-00021</td>\n",
       "      <td>-41.715865</td>\n",
       "      <td>223.850586</td>\n",
       "      <td>523.162500</td>\n",
       "      <td>5.013970</td>\n",
       "      <td>8.777443</td>\n",
       "      <td>69.895083</td>\n",
       "    </tr>\n",
       "    <tr>\n",
       "      <th>0</th>\n",
       "      <td>LKDS-00021</td>\n",
       "      <td>-73.689421</td>\n",
       "      <td>188.800858</td>\n",
       "      <td>445.975000</td>\n",
       "      <td>4.096704</td>\n",
       "      <td>12.647837</td>\n",
       "      <td>100.715168</td>\n",
       "    </tr>\n",
       "    <tr>\n",
       "      <th>2</th>\n",
       "      <td>LKDS-00021</td>\n",
       "      <td>87.335804</td>\n",
       "      <td>163.461272</td>\n",
       "      <td>466.372727</td>\n",
       "      <td>5.518589</td>\n",
       "      <td>25.168855</td>\n",
       "      <td>200.420469</td>\n",
       "    </tr>\n",
       "    <tr>\n",
       "      <th>5</th>\n",
       "      <td>LKDS-00021</td>\n",
       "      <td>105.384570</td>\n",
       "      <td>156.811569</td>\n",
       "      <td>531.191755</td>\n",
       "      <td>9.646425</td>\n",
       "      <td>25.605840</td>\n",
       "      <td>203.900196</td>\n",
       "    </tr>\n",
       "    <tr>\n",
       "      <th>9</th>\n",
       "      <td>LKDS-00021</td>\n",
       "      <td>107.804783</td>\n",
       "      <td>170.343821</td>\n",
       "      <td>564.100000</td>\n",
       "      <td>3.722103</td>\n",
       "      <td>25.798345</td>\n",
       "      <td>205.433119</td>\n",
       "    </tr>\n",
       "    <tr>\n",
       "      <th>1</th>\n",
       "      <td>LKDS-00021</td>\n",
       "      <td>91.177365</td>\n",
       "      <td>159.506845</td>\n",
       "      <td>462.500735</td>\n",
       "      <td>5.796963</td>\n",
       "      <td>25.857814</td>\n",
       "      <td>205.906671</td>\n",
       "    </tr>\n",
       "  </tbody>\n",
       "</table>\n",
       "</div>"
      ],
      "text/plain": [
       "    seriesuid      coordX      coordY      coordZ  diameter_mm      ratio  \\\n",
       "6  LKDS-00021  -95.463900  185.724685  542.850000     5.796963   0.185583   \n",
       "7  LKDS-00021  -79.887339  192.264401  556.725000     5.560083   2.726579   \n",
       "8  LKDS-00021  -83.162080  193.048907  560.283036     5.433674   2.779806   \n",
       "3  LKDS-00021  -82.917939  139.582091  515.975000     3.722103   6.937956   \n",
       "4  LKDS-00021  -41.715865  223.850586  523.162500     5.013970   8.777443   \n",
       "0  LKDS-00021  -73.689421  188.800858  445.975000     4.096704  12.647837   \n",
       "2  LKDS-00021   87.335804  163.461272  466.372727     5.518589  25.168855   \n",
       "5  LKDS-00021  105.384570  156.811569  531.191755     9.646425  25.605840   \n",
       "9  LKDS-00021  107.804783  170.343821  564.100000     3.722103  25.798345   \n",
       "1  LKDS-00021   91.177365  159.506845  462.500735     5.796963  25.857814   \n",
       "\n",
       "         dist  \n",
       "6    1.477807  \n",
       "7   21.711840  \n",
       "8   22.135693  \n",
       "3   55.247184  \n",
       "4   69.895083  \n",
       "0  100.715168  \n",
       "2  200.420469  \n",
       "5  203.900196  \n",
       "9  205.433119  \n",
       "1  205.906671  "
      ]
     },
     "execution_count": 11,
     "metadata": {},
     "output_type": "execute_result"
    }
   ],
   "source": [
    "final = cal_dist(var_csv,anno)\n",
    "pd.set_option('display.max_rows', 200)\n",
    "final"
   ]
  },
  {
   "cell_type": "code",
   "execution_count": null,
   "metadata": {
    "collapsed": true
   },
   "outputs": [],
   "source": []
  }
 ],
 "metadata": {
  "kernelspec": {
   "display_name": "Python 2",
   "language": "python",
   "name": "python2"
  },
  "language_info": {
   "codemirror_mode": {
    "name": "ipython",
    "version": 2
   },
   "file_extension": ".py",
   "mimetype": "text/x-python",
   "name": "python",
   "nbconvert_exporter": "python",
   "pygments_lexer": "ipython2",
   "version": "2.7.13"
  }
 },
 "nbformat": 4,
 "nbformat_minor": 2
}
