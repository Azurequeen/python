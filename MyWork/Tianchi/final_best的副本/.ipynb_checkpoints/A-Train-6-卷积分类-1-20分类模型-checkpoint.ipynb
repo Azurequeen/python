{
 "cells": [
  {
   "cell_type": "code",
   "execution_count": 1,
   "metadata": {},
   "outputs": [
    {
     "name": "stderr",
     "output_type": "stream",
     "text": [
      "Using TensorFlow backend.\n"
     ]
    }
   ],
   "source": [
    "from utils.imports import *"
   ]
  },
  {
   "cell_type": "code",
   "execution_count": 2,
   "metadata": {
    "collapsed": true
   },
   "outputs": [],
   "source": [
    "def classifier(input_shape, width, kernel_size, pool_size):\n",
    "    model = Sequential()\n",
    "\n",
    "    model.add(Convolution3D(width*1, kernel_size[0], kernel_size[1], kernel_size[2],\n",
    "                            border_mode='valid',\n",
    "                            input_shape=input_shape))\n",
    "    model.add(Activation('elu'))\n",
    "    model.add(MaxPooling3D(pool_size=pool_size))\n",
    "    #model.add(Dropout(0.2))\n",
    "    model.add(Convolution3D(width*2, kernel_size[0], kernel_size[1], kernel_size[2]))\n",
    "    model.add(Activation('elu'))\n",
    "    model.add(MaxPooling3D(pool_size=pool_size))\n",
    "    #model.add(Dropout(0.2))\n",
    "    model.add(Convolution3D(width*4, kernel_size[0], kernel_size[1], kernel_size[2]))\n",
    "    model.add(Activation('elu'))\n",
    "    model.add(MaxPooling3D(pool_size=pool_size))\n",
    "    model.add(Dropout(0.2))\n",
    "\n",
    "\n",
    "    model.add(Flatten())\n",
    "    model.add(Dense(512))\n",
    "    model.add(Activation('elu'))\n",
    "    model.add(Dropout(0.2))\n",
    "    model.add(Dense(128))\n",
    "    model.add(Activation('elu'))\n",
    "    model.add(Dropout(0.2))\n",
    "    model.add(Dense(2))\n",
    "    model.add(Activation('softmax'))\n",
    "    model.compile(loss='categorical_crossentropy',\n",
    "          #optimizer='adadelta',\n",
    "          optimizer=Adam(lr=1e-5),                  \n",
    "          metrics=['accuracy'])\n",
    "    return model\n"
   ]
  },
  {
   "cell_type": "code",
   "execution_count": 3,
   "metadata": {
    "collapsed": true
   },
   "outputs": [],
   "source": [
    "output_true = PATH['cls_train_cube_30_true']\n",
    "output_false = PATH['cls_train_cube_30_false']\n",
    "model_paths = PATH['model_paths']\n",
    "model_final = PATH['model_final']"
   ]
  },
  {
   "cell_type": "code",
   "execution_count": 4,
   "metadata": {
    "collapsed": true
   },
   "outputs": [],
   "source": [
    "def get_dirfiles(dir):\n",
    "    file_list = []\n",
    "    subset_path = os.listdir(dir)\n",
    "    for _ in range(len(subset_path)):\n",
    "        if subset_path[_] != '.DS_Store':\n",
    "            if '.npy' in subset_path[_]:\n",
    "                file_list.append(dir + subset_path[_])\n",
    "    return file_list\n",
    "\n",
    "def train_generator(output_true,output_false):\n",
    "    file_list_true = get_dirfiles(output_true)[0:40]\n",
    "    file_list_false = get_dirfiles(output_false)[0:40]\n",
    "    \n",
    "    file_list_true = shuffle(file_list_true)\n",
    "    file_list_false = shuffle(file_list_false)\n",
    "    \n",
    "    nb_true = len(file_list_true) + len(file_list_false)\n",
    "    sample = np.zeros([nb_true,36,36,36])\n",
    "    labels = np.zeros([nb_true,2])\n",
    "    for i in tqdm(range(len(file_list_true))):       \n",
    "        cc= np.load(file_list_true[i])\n",
    "        sample[i] = cc\n",
    "        labels[i] = [0.,1.]\n",
    "    for j in tqdm(range(len(file_list_false))):\n",
    "        bb= np.load(file_list_false[j])\n",
    "        sample[j+len(file_list_true)] = bb \n",
    "        labels[j+len(file_list_true)] = [1.,0.]\n",
    "    sample = np.expand_dims(sample, axis=1)        \n",
    "    return sample,labels\n",
    "\n",
    "def valid_generator(output_true,output_false):\n",
    "    file_list_true = get_dirfiles(output_true)[-10:]\n",
    "    file_list_false = get_dirfiles(output_false)[-10:]\n",
    "    \n",
    "    file_list_true = shuffle(file_list_true)\n",
    "    file_list_false = shuffle(file_list_false)\n",
    "\n",
    "    nb_true = len(file_list_true) + len(file_list_false)\n",
    "    sample = np.zeros([nb_true,36,36,36])\n",
    "    labels = np.zeros([nb_true,2])\n",
    "  \n",
    "    for i in tqdm(range(len(file_list_true))):       \n",
    "        cc= np.load(file_list_true[i])\n",
    "        sample[i] = cc\n",
    "        labels[i] = [0.,1.]\n",
    "    for j in tqdm(range(len(file_list_false))):\n",
    "        bb= np.load(file_list_false[j])\n",
    "        sample[j+len(file_list_true)] = bb \n",
    "        labels[j+len(file_list_true)] = [1.,0.]\n",
    "    sample = np.expand_dims(sample, axis=1)        \n",
    "    return sample,labels\n",
    "\n",
    "\n",
    "def fenlei_fit(name, load_check = False,batch_size=2, epochs=100,check_name = None):\n",
    "\n",
    "    t = time.time()\n",
    "    callbacks = [EarlyStopping(monitor='val_loss', patience = 30, verbose = 1),\n",
    "                 ModelCheckpoint((model_paths + '{}.h5').format(name),\n",
    "                                 monitor='val_loss',\n",
    "                                 verbose = 0,\n",
    "                                 save_best_only = True)]\n",
    "    if load_check:\n",
    "        check_model = (model_paths + '{}.h5').format(check_name)\n",
    "        model = load_model(check_model)\n",
    "    else:\n",
    "        #model = model_20()\n",
    "        #model = preds3d_dense(48)\n",
    "        model = classifier((1, 36, 36, 36), 128 ,(3, 3, 3), (2, 2, 2))\n",
    "    x,y = train_generator(output_true,output_false)\n",
    "    model.fit(x=x, y=y, batch_size=batch_size, epochs=epochs,\n",
    "              validation_data=valid_generator(output_true,output_false),verbose=1, callbacks=callbacks, shuffle=True)\n",
    "    \n",
    " \n",
    "    return model"
   ]
  },
  {
   "cell_type": "code",
   "execution_count": 5,
   "metadata": {
    "scrolled": false
   },
   "outputs": [
    {
     "name": "stderr",
     "output_type": "stream",
     "text": [
      "100%|██████████| 40/40 [00:00<00:00, 102.02it/s]\n",
      "100%|██████████| 39/39 [00:00<00:00, 321.90it/s]\n",
      "100%|██████████| 10/10 [00:00<00:00, 1764.91it/s]\n",
      "100%|██████████| 10/10 [00:00<00:00, 1826.79it/s]\n"
     ]
    },
    {
     "name": "stdout",
     "output_type": "stream",
     "text": [
      "Train on 79 samples, validate on 20 samples\n",
      "Epoch 1/100\n",
      "79/79 [==============================] - 7s - loss: 0.8386 - acc: 0.6329 - val_loss: 0.6728 - val_acc: 0.5500\n",
      "Epoch 2/100\n",
      "79/79 [==============================] - 4s - loss: 0.6977 - acc: 0.6456 - val_loss: 0.6131 - val_acc: 0.8000\n",
      "Epoch 3/100\n",
      "79/79 [==============================] - 3s - loss: 0.6700 - acc: 0.5823 - val_loss: 0.5645 - val_acc: 0.6000\n",
      "Epoch 4/100\n",
      "79/79 [==============================] - 4s - loss: 0.5748 - acc: 0.7595 - val_loss: 0.5365 - val_acc: 0.6500\n",
      "Epoch 5/100\n",
      "79/79 [==============================] - 4s - loss: 0.6025 - acc: 0.6582 - val_loss: 0.5360 - val_acc: 0.7000\n",
      "Epoch 6/100\n",
      "79/79 [==============================] - 4s - loss: 0.4965 - acc: 0.7975 - val_loss: 0.4914 - val_acc: 0.7500\n",
      "Epoch 7/100\n",
      "79/79 [==============================] - 3s - loss: 0.4766 - acc: 0.8101 - val_loss: 0.5209 - val_acc: 0.6500\n",
      "Epoch 8/100\n",
      "79/79 [==============================] - 4s - loss: 0.4365 - acc: 0.8354 - val_loss: 0.4689 - val_acc: 0.7500\n",
      "Epoch 9/100\n",
      "79/79 [==============================] - 3s - loss: 0.4357 - acc: 0.8101 - val_loss: 0.5115 - val_acc: 0.6500\n",
      "Epoch 10/100\n",
      "79/79 [==============================] - 3s - loss: 0.4245 - acc: 0.8228 - val_loss: 0.4978 - val_acc: 0.7500\n",
      "Epoch 11/100\n",
      "79/79 [==============================] - 4s - loss: 0.4114 - acc: 0.8734 - val_loss: 0.4597 - val_acc: 0.7500\n",
      "Epoch 12/100\n",
      "79/79 [==============================] - 4s - loss: 0.3218 - acc: 0.9114 - val_loss: 0.4495 - val_acc: 0.9000\n",
      "Epoch 13/100\n",
      "79/79 [==============================] - 4s - loss: 0.3126 - acc: 0.9114 - val_loss: 0.4294 - val_acc: 0.9000\n",
      "Epoch 14/100\n",
      "79/79 [==============================] - 4s - loss: 0.3182 - acc: 0.9241 - val_loss: 0.4216 - val_acc: 0.8000\n",
      "Epoch 15/100\n",
      "79/79 [==============================] - 3s - loss: 0.3279 - acc: 0.9241 - val_loss: 0.4521 - val_acc: 0.6500\n",
      "Epoch 16/100\n",
      "79/79 [==============================] - 3s - loss: 0.3147 - acc: 0.8987 - val_loss: 0.4779 - val_acc: 0.8000\n",
      "Epoch 17/100\n",
      "79/79 [==============================] - 3s - loss: 0.3035 - acc: 0.9114 - val_loss: 0.4503 - val_acc: 0.7500\n",
      "Epoch 18/100\n",
      "79/79 [==============================] - 4s - loss: 0.3081 - acc: 0.8987 - val_loss: 0.4004 - val_acc: 0.9000\n",
      "Epoch 19/100\n",
      "79/79 [==============================] - 3s - loss: 0.2955 - acc: 0.9114 - val_loss: 0.4179 - val_acc: 0.8000\n",
      "Epoch 20/100\n",
      "79/79 [==============================] - 3s - loss: 0.2664 - acc: 0.9494 - val_loss: 0.4535 - val_acc: 0.7500\n",
      "Epoch 21/100\n",
      "79/79 [==============================] - 4s - loss: 0.2848 - acc: 0.8987 - val_loss: 0.3985 - val_acc: 0.9000\n",
      "Epoch 22/100\n",
      "79/79 [==============================] - 3s - loss: 0.2632 - acc: 0.9367 - val_loss: 0.4305 - val_acc: 0.7500\n",
      "Epoch 23/100\n",
      "79/79 [==============================] - 3s - loss: 0.2916 - acc: 0.8987 - val_loss: 0.4233 - val_acc: 0.7500\n",
      "Epoch 24/100\n",
      "79/79 [==============================] - 3s - loss: 0.2487 - acc: 0.9114 - val_loss: 0.4319 - val_acc: 0.7500\n",
      "Epoch 25/100\n",
      "79/79 [==============================] - 3s - loss: 0.2226 - acc: 0.9241 - val_loss: 0.5042 - val_acc: 0.6500\n",
      "Epoch 26/100\n",
      "79/79 [==============================] - 3s - loss: 0.2442 - acc: 0.9241 - val_loss: 0.4585 - val_acc: 0.6500\n",
      "Epoch 27/100\n",
      "79/79 [==============================] - 4s - loss: 0.1988 - acc: 0.9367 - val_loss: 0.3765 - val_acc: 0.8500\n",
      "Epoch 28/100\n",
      "79/79 [==============================] - 3s - loss: 0.2279 - acc: 0.9241 - val_loss: 0.3916 - val_acc: 0.7500\n",
      "Epoch 29/100\n",
      "79/79 [==============================] - 3s - loss: 0.1938 - acc: 0.9620 - val_loss: 0.3981 - val_acc: 0.7500\n",
      "Epoch 30/100\n",
      "79/79 [==============================] - 3s - loss: 0.1830 - acc: 0.9494 - val_loss: 0.4434 - val_acc: 0.7000\n",
      "Epoch 31/100\n",
      "79/79 [==============================] - 4s - loss: 0.2525 - acc: 0.8861 - val_loss: 0.3472 - val_acc: 0.9000\n",
      "Epoch 32/100\n",
      "79/79 [==============================] - 4s - loss: 0.2010 - acc: 0.9367 - val_loss: 0.3426 - val_acc: 0.8500\n",
      "Epoch 33/100\n",
      "79/79 [==============================] - 4s - loss: 0.1891 - acc: 0.9873 - val_loss: 0.3388 - val_acc: 0.9000\n",
      "Epoch 34/100\n",
      "79/79 [==============================] - 3s - loss: 0.2064 - acc: 0.9367 - val_loss: 0.3823 - val_acc: 0.8000\n",
      "Epoch 35/100\n",
      "79/79 [==============================] - 3s - loss: 0.1756 - acc: 0.9241 - val_loss: 0.3684 - val_acc: 0.8000\n",
      "Epoch 36/100\n",
      "79/79 [==============================] - 4s - loss: 0.1607 - acc: 0.9747 - val_loss: 0.3184 - val_acc: 0.9000\n",
      "Epoch 37/100\n",
      "79/79 [==============================] - 3s - loss: 0.1348 - acc: 0.9747 - val_loss: 0.3292 - val_acc: 0.9500\n",
      "Epoch 38/100\n",
      "79/79 [==============================] - 3s - loss: 0.1283 - acc: 0.9494 - val_loss: 0.3631 - val_acc: 0.8000\n",
      "Epoch 39/100\n",
      "79/79 [==============================] - 3s - loss: 0.1369 - acc: 0.9747 - val_loss: 0.4758 - val_acc: 0.6500\n",
      "Epoch 40/100\n",
      "79/79 [==============================] - 3s - loss: 0.1686 - acc: 0.9620 - val_loss: 0.3649 - val_acc: 0.8000\n",
      "Epoch 41/100\n",
      "79/79 [==============================] - 3s - loss: 0.1359 - acc: 0.9747 - val_loss: 0.4025 - val_acc: 0.8000\n",
      "Epoch 42/100\n",
      "79/79 [==============================] - 3s - loss: 0.1596 - acc: 0.9747 - val_loss: 0.3640 - val_acc: 0.8000\n",
      "Epoch 43/100\n",
      "79/79 [==============================] - 3s - loss: 0.1112 - acc: 0.9747 - val_loss: 0.4184 - val_acc: 0.7500\n",
      "Epoch 44/100\n",
      "79/79 [==============================] - 4s - loss: 0.0996 - acc: 0.9873 - val_loss: 0.2898 - val_acc: 0.9000\n",
      "Epoch 45/100\n",
      "79/79 [==============================] - 4s - loss: 0.1079 - acc: 0.9873 - val_loss: 0.2841 - val_acc: 0.9000\n",
      "Epoch 46/100\n",
      "79/79 [==============================] - 3s - loss: 0.1165 - acc: 0.9620 - val_loss: 0.3919 - val_acc: 0.8000\n",
      "Epoch 47/100\n",
      "79/79 [==============================] - 4s - loss: 0.0866 - acc: 1.0000 - val_loss: 0.2758 - val_acc: 0.9000\n",
      "Epoch 48/100\n",
      "79/79 [==============================] - 3s - loss: 0.0957 - acc: 0.9747 - val_loss: 0.3701 - val_acc: 0.8500\n",
      "Epoch 49/100\n",
      "79/79 [==============================] - 3s - loss: 0.0946 - acc: 1.0000 - val_loss: 0.4185 - val_acc: 0.8000\n",
      "Epoch 50/100\n",
      "79/79 [==============================] - 4s - loss: 0.0692 - acc: 0.9873 - val_loss: 0.2592 - val_acc: 0.9000\n",
      "Epoch 51/100\n",
      "79/79 [==============================] - 3s - loss: 0.1057 - acc: 0.9873 - val_loss: 0.2734 - val_acc: 0.8500\n",
      "Epoch 52/100\n",
      "79/79 [==============================] - 3s - loss: 0.0810 - acc: 0.9747 - val_loss: 0.3480 - val_acc: 0.8500\n",
      "Epoch 53/100\n",
      "79/79 [==============================] - 3s - loss: 0.0763 - acc: 0.9873 - val_loss: 0.2656 - val_acc: 0.9500\n",
      "Epoch 54/100\n",
      "79/79 [==============================] - 3s - loss: 0.0851 - acc: 0.9873 - val_loss: 0.2886 - val_acc: 0.9000\n",
      "Epoch 55/100\n",
      "79/79 [==============================] - 4s - loss: 0.0690 - acc: 0.9873 - val_loss: 0.2424 - val_acc: 0.9500\n",
      "Epoch 56/100\n",
      "79/79 [==============================] - 3s - loss: 0.0602 - acc: 1.0000 - val_loss: 0.2851 - val_acc: 0.9000\n",
      "Epoch 57/100\n",
      "79/79 [==============================] - 3s - loss: 0.0833 - acc: 0.9873 - val_loss: 0.3151 - val_acc: 0.8500\n",
      "Epoch 58/100\n",
      "79/79 [==============================] - 4s - loss: 0.0698 - acc: 1.0000 - val_loss: 0.2194 - val_acc: 0.9500\n",
      "Epoch 59/100\n",
      "79/79 [==============================] - 3s - loss: 0.0696 - acc: 0.9873 - val_loss: 0.2910 - val_acc: 0.9000\n",
      "Epoch 60/100\n",
      "79/79 [==============================] - 3s - loss: 0.0735 - acc: 1.0000 - val_loss: 0.2650 - val_acc: 0.9000\n",
      "Epoch 61/100\n",
      "79/79 [==============================] - 3s - loss: 0.0466 - acc: 1.0000 - val_loss: 0.2542 - val_acc: 0.9000\n",
      "Epoch 62/100\n",
      "79/79 [==============================] - 3s - loss: 0.0443 - acc: 1.0000 - val_loss: 0.2432 - val_acc: 0.9000\n",
      "Epoch 63/100\n",
      "79/79 [==============================] - 3s - loss: 0.0604 - acc: 1.0000 - val_loss: 0.2120 - val_acc: 0.9500\n",
      "Epoch 64/100\n",
      "79/79 [==============================] - 3s - loss: 0.0475 - acc: 1.0000 - val_loss: 0.2456 - val_acc: 0.9000\n",
      "Epoch 65/100\n",
      "79/79 [==============================] - 3s - loss: 0.0371 - acc: 1.0000 - val_loss: 0.2944 - val_acc: 0.9000\n",
      "Epoch 66/100\n",
      "79/79 [==============================] - 4s - loss: 0.0469 - acc: 1.0000 - val_loss: 0.2081 - val_acc: 0.9500\n",
      "Epoch 67/100\n"
     ]
    },
    {
     "name": "stdout",
     "output_type": "stream",
     "text": [
      "79/79 [==============================] - 3s - loss: 0.0483 - acc: 1.0000 - val_loss: 0.2618 - val_acc: 0.9000\n",
      "Epoch 68/100\n",
      "79/79 [==============================] - 3s - loss: 0.0481 - acc: 1.0000 - val_loss: 0.2503 - val_acc: 0.9000\n",
      "Epoch 69/100\n",
      "79/79 [==============================] - 3s - loss: 0.0474 - acc: 0.9873 - val_loss: 0.2843 - val_acc: 0.9000\n",
      "Epoch 70/100\n",
      "79/79 [==============================] - 3s - loss: 0.0496 - acc: 1.0000 - val_loss: 0.4157 - val_acc: 0.8000\n",
      "Epoch 71/100\n",
      "79/79 [==============================] - 3s - loss: 0.0447 - acc: 0.9873 - val_loss: 0.2802 - val_acc: 0.9000\n",
      "Epoch 72/100\n",
      "79/79 [==============================] - 3s - loss: 0.0388 - acc: 1.0000 - val_loss: 0.2958 - val_acc: 0.8500\n",
      "Epoch 73/100\n",
      "79/79 [==============================] - 4s - loss: 0.0281 - acc: 1.0000 - val_loss: 0.1850 - val_acc: 0.9500\n",
      "Epoch 74/100\n",
      "79/79 [==============================] - 3s - loss: 0.0398 - acc: 1.0000 - val_loss: 0.2769 - val_acc: 0.9000\n",
      "Epoch 75/100\n",
      "79/79 [==============================] - 3s - loss: 0.0340 - acc: 1.0000 - val_loss: 0.2721 - val_acc: 0.9000\n",
      "Epoch 76/100\n",
      "79/79 [==============================] - 3s - loss: 0.0380 - acc: 1.0000 - val_loss: 0.2444 - val_acc: 0.9000\n",
      "Epoch 77/100\n",
      "79/79 [==============================] - 3s - loss: 0.0267 - acc: 1.0000 - val_loss: 0.2629 - val_acc: 0.9000\n",
      "Epoch 78/100\n",
      "79/79 [==============================] - 3s - loss: 0.0309 - acc: 1.0000 - val_loss: 0.1976 - val_acc: 0.9500\n",
      "Epoch 79/100\n",
      "79/79 [==============================] - 3s - loss: 0.0305 - acc: 1.0000 - val_loss: 0.1915 - val_acc: 0.9500\n",
      "Epoch 80/100\n",
      "79/79 [==============================] - 4s - loss: 0.0401 - acc: 1.0000 - val_loss: 0.1759 - val_acc: 0.9500\n",
      "Epoch 81/100\n",
      "79/79 [==============================] - 3s - loss: 0.0311 - acc: 1.0000 - val_loss: 0.2773 - val_acc: 0.8500\n",
      "Epoch 82/100\n",
      "79/79 [==============================] - 3s - loss: 0.0275 - acc: 1.0000 - val_loss: 0.2728 - val_acc: 0.9000\n",
      "Epoch 83/100\n",
      "79/79 [==============================] - 3s - loss: 0.0197 - acc: 1.0000 - val_loss: 0.2572 - val_acc: 0.9000\n",
      "Epoch 84/100\n",
      "79/79 [==============================] - 3s - loss: 0.0216 - acc: 1.0000 - val_loss: 0.2518 - val_acc: 0.9000\n",
      "Epoch 85/100\n",
      "79/79 [==============================] - 3s - loss: 0.0203 - acc: 1.0000 - val_loss: 0.2103 - val_acc: 0.9500\n",
      "Epoch 86/100\n",
      "79/79 [==============================] - 3s - loss: 0.0219 - acc: 1.0000 - val_loss: 0.2323 - val_acc: 0.9500\n",
      "Epoch 87/100\n",
      "79/79 [==============================] - 3s - loss: 0.0188 - acc: 1.0000 - val_loss: 0.2887 - val_acc: 0.9000\n",
      "Epoch 88/100\n",
      "79/79 [==============================] - 3s - loss: 0.0179 - acc: 1.0000 - val_loss: 0.3014 - val_acc: 0.9000\n",
      "Epoch 89/100\n",
      "79/79 [==============================] - 3s - loss: 0.0189 - acc: 1.0000 - val_loss: 0.2364 - val_acc: 0.9000\n",
      "Epoch 90/100\n",
      "79/79 [==============================] - 3s - loss: 0.0183 - acc: 1.0000 - val_loss: 0.2917 - val_acc: 0.9000\n",
      "Epoch 91/100\n",
      "79/79 [==============================] - 3s - loss: 0.0169 - acc: 1.0000 - val_loss: 0.2607 - val_acc: 0.9000\n",
      "Epoch 92/100\n",
      "79/79 [==============================] - 3s - loss: 0.0169 - acc: 1.0000 - val_loss: 0.2330 - val_acc: 0.9000\n",
      "Epoch 93/100\n",
      "79/79 [==============================] - 3s - loss: 0.0181 - acc: 1.0000 - val_loss: 0.2751 - val_acc: 0.9000\n",
      "Epoch 94/100\n",
      "79/79 [==============================] - 3s - loss: 0.0148 - acc: 1.0000 - val_loss: 0.2397 - val_acc: 0.9000\n",
      "Epoch 95/100\n",
      "79/79 [==============================] - 3s - loss: 0.0163 - acc: 1.0000 - val_loss: 0.1919 - val_acc: 0.9500\n",
      "Epoch 96/100\n",
      "79/79 [==============================] - 3s - loss: 0.0133 - acc: 1.0000 - val_loss: 0.2743 - val_acc: 0.9000\n",
      "Epoch 97/100\n",
      "79/79 [==============================] - 3s - loss: 0.0131 - acc: 1.0000 - val_loss: 0.2913 - val_acc: 0.9000\n",
      "Epoch 98/100\n",
      "79/79 [==============================] - 3s - loss: 0.0135 - acc: 1.0000 - val_loss: 0.2131 - val_acc: 0.9500\n",
      "Epoch 99/100\n",
      "79/79 [==============================] - 3s - loss: 0.0125 - acc: 1.0000 - val_loss: 0.2694 - val_acc: 0.9000\n",
      "Epoch 100/100\n",
      "79/79 [==============================] - 3s - loss: 0.0129 - acc: 1.0000 - val_loss: 0.2308 - val_acc: 0.9500\n"
     ]
    },
    {
     "data": {
      "text/plain": [
       "<keras.models.Sequential at 0x153a2d550>"
      ]
     },
     "execution_count": 5,
     "metadata": {},
     "output_type": "execute_result"
    }
   ],
   "source": [
    "fenlei_fit('Fenge_36_36_36_0621_4', load_check = False, batch_size=2, epochs=100, check_name = 'Fenge_36_36_36_0621')"
   ]
  },
  {
   "cell_type": "code",
   "execution_count": 6,
   "metadata": {
    "collapsed": true
   },
   "outputs": [],
   "source": [
    "file_list_true = get_dirfiles(output_true)\n",
    "file_list_false = get_dirfiles(output_false)"
   ]
  },
  {
   "cell_type": "code",
   "execution_count": 7,
   "metadata": {
    "collapsed": true
   },
   "outputs": [],
   "source": [
    "#model_pred = classifier((1, 36, 36, 36), (3, 3, 3), (2, 2, 2))\n",
    "model_pred = load_model(model_paths + 'Fenge_36_36_36_0621_4.h5')"
   ]
  },
  {
   "cell_type": "code",
   "execution_count": 8,
   "metadata": {},
   "outputs": [
    {
     "name": "stdout",
     "output_type": "stream",
     "text": [
      "0.871794871795\n"
     ]
    }
   ],
   "source": [
    "cc = []\n",
    "for i in file_list_false[0:800]:\n",
    "    a=np.load(i)\n",
    "    a=np.expand_dims(a,0)\n",
    "    a=np.expand_dims(a,0)\n",
    "    cc.append(model_pred.predict(a))\n",
    "count = 0\n",
    "for i in cc:\n",
    "    if i[0][0] > 0.9:\n",
    "        count += 1\n",
    "print count*1.0/len(cc)"
   ]
  },
  {
   "cell_type": "code",
   "execution_count": 9,
   "metadata": {},
   "outputs": [
    {
     "data": {
      "text/plain": [
       "[array([[ 0.96580517,  0.03419488]], dtype=float32),\n",
       " array([[ 0.97218388,  0.02781612]], dtype=float32),\n",
       " array([[  9.99769151e-01,   2.30817692e-04]], dtype=float32),\n",
       " array([[ 0.88063401,  0.11936598]], dtype=float32),\n",
       " array([[  9.99953032e-01,   4.69186780e-05]], dtype=float32),\n",
       " array([[ 0.9955973 ,  0.00440277]], dtype=float32),\n",
       " array([[ 0.85390925,  0.1460907 ]], dtype=float32),\n",
       " array([[ 0.60875273,  0.3912473 ]], dtype=float32),\n",
       " array([[ 0.99650651,  0.0034935 ]], dtype=float32),\n",
       " array([[ 0.95852554,  0.0414745 ]], dtype=float32),\n",
       " array([[ 0.95114446,  0.0488556 ]], dtype=float32),\n",
       " array([[  9.99691129e-01,   3.08898307e-04]], dtype=float32),\n",
       " array([[ 0.99271739,  0.00728256]], dtype=float32),\n",
       " array([[ 0.93170458,  0.06829542]], dtype=float32),\n",
       " array([[ 0.98273724,  0.01726271]], dtype=float32),\n",
       " array([[ 0.96819991,  0.03180004]], dtype=float32),\n",
       " array([[ 0.99337596,  0.006624  ]], dtype=float32),\n",
       " array([[ 0.94306165,  0.05693831]], dtype=float32),\n",
       " array([[ 0.99615294,  0.003847  ]], dtype=float32),\n",
       " array([[ 0.99613577,  0.00386425]], dtype=float32),\n",
       " array([[ 0.99861121,  0.00138876]], dtype=float32),\n",
       " array([[ 0.99118429,  0.00881563]], dtype=float32),\n",
       " array([[ 0.99584526,  0.0041547 ]], dtype=float32),\n",
       " array([[ 0.99627137,  0.00372858]], dtype=float32),\n",
       " array([[ 0.99810708,  0.00189287]], dtype=float32),\n",
       " array([[  9.99024868e-01,   9.75142349e-04]], dtype=float32),\n",
       " array([[ 0.97296101,  0.02703898]], dtype=float32),\n",
       " array([[ 0.99100983,  0.00899019]], dtype=float32),\n",
       " array([[ 0.99198145,  0.00801858]], dtype=float32),\n",
       " array([[ 0.94369525,  0.05630479]], dtype=float32),\n",
       " array([[ 0.96786457,  0.03213548]], dtype=float32),\n",
       " array([[  9.99896407e-01,   1.03552695e-04]], dtype=float32),\n",
       " array([[ 0.99023998,  0.00976004]], dtype=float32),\n",
       " array([[ 0.99050397,  0.00949601]], dtype=float32),\n",
       " array([[ 0.89931768,  0.1006823 ]], dtype=float32),\n",
       " array([[ 0.98748362,  0.01251645]], dtype=float32),\n",
       " array([[ 0.80004728,  0.19995274]], dtype=float32),\n",
       " array([[ 0.98881662,  0.01118336]], dtype=float32),\n",
       " array([[ 0.99846882,  0.00153115]], dtype=float32)]"
      ]
     },
     "execution_count": 9,
     "metadata": {},
     "output_type": "execute_result"
    }
   ],
   "source": [
    "cc"
   ]
  },
  {
   "cell_type": "code",
   "execution_count": 10,
   "metadata": {
    "collapsed": true
   },
   "outputs": [],
   "source": [
    "cc = []\n",
    "for i in file_list_true[0:800]:\n",
    "    a=np.load(i)\n",
    "    a=np.expand_dims(a,0)\n",
    "    a=np.expand_dims(a,0)\n",
    "    cc.append(model_pred.predict(a))\n",
    "count = 0\n"
   ]
  },
  {
   "cell_type": "code",
   "execution_count": 11,
   "metadata": {},
   "outputs": [
    {
     "name": "stdout",
     "output_type": "stream",
     "text": [
      "0.931818181818\n"
     ]
    }
   ],
   "source": [
    "for i in cc:\n",
    "    if i[0][1] > 0.9:\n",
    "        count += 1\n",
    "print count*1.0/len(cc)"
   ]
  },
  {
   "cell_type": "code",
   "execution_count": 12,
   "metadata": {},
   "outputs": [
    {
     "data": {
      "text/plain": [
       "[array([[ 0.00170914,  0.99829084]], dtype=float32),\n",
       " array([[ 0.00658625,  0.99341375]], dtype=float32),\n",
       " array([[  1.16854226e-05,   9.99988317e-01]], dtype=float32),\n",
       " array([[  3.01153341e-04,   9.99698877e-01]], dtype=float32),\n",
       " array([[ 0.03361268,  0.96638727]], dtype=float32),\n",
       " array([[ 0.02253026,  0.97746974]], dtype=float32),\n",
       " array([[ 0.00710658,  0.9928934 ]], dtype=float32),\n",
       " array([[ 0.00245749,  0.9975425 ]], dtype=float32),\n",
       " array([[ 0.0072973 ,  0.99270272]], dtype=float32),\n",
       " array([[ 0.0065484,  0.9934516]], dtype=float32),\n",
       " array([[  4.60381416e-05,   9.99953985e-01]], dtype=float32),\n",
       " array([[  2.93716788e-04,   9.99706209e-01]], dtype=float32),\n",
       " array([[  1.64992118e-04,   9.99835014e-01]], dtype=float32),\n",
       " array([[ 0.00162451,  0.99837542]], dtype=float32),\n",
       " array([[  4.53797020e-06,   9.99995470e-01]], dtype=float32),\n",
       " array([[  2.46113104e-05,   9.99975443e-01]], dtype=float32),\n",
       " array([[ 0.00100542,  0.99899453]], dtype=float32),\n",
       " array([[ 0.00219573,  0.99780422]], dtype=float32),\n",
       " array([[  4.29602660e-05,   9.99957085e-01]], dtype=float32),\n",
       " array([[  6.83364051e-05,   9.99931693e-01]], dtype=float32),\n",
       " array([[  9.56414966e-04,   9.99043524e-01]], dtype=float32),\n",
       " array([[  4.24525351e-05,   9.99957561e-01]], dtype=float32),\n",
       " array([[  1.90460742e-05,   9.99980927e-01]], dtype=float32),\n",
       " array([[  1.11363288e-05,   9.99988914e-01]], dtype=float32),\n",
       " array([[ 0.00159253,  0.99840754]], dtype=float32),\n",
       " array([[ 0.00244112,  0.99755883]], dtype=float32),\n",
       " array([[ 0.00348512,  0.9965148 ]], dtype=float32),\n",
       " array([[  9.81698860e-04,   9.99018312e-01]], dtype=float32),\n",
       " array([[  2.26789794e-04,   9.99773204e-01]], dtype=float32),\n",
       " array([[  1.05342424e-05,   9.99989510e-01]], dtype=float32),\n",
       " array([[  2.17687148e-06,   9.99997854e-01]], dtype=float32),\n",
       " array([[  1.09871849e-06,   9.99998927e-01]], dtype=float32),\n",
       " array([[ 0.00177671,  0.99822325]], dtype=float32),\n",
       " array([[ 0.00528618,  0.99471384]], dtype=float32),\n",
       " array([[  1.14456532e-04,   9.99885559e-01]], dtype=float32),\n",
       " array([[  7.33376655e-04,   9.99266565e-01]], dtype=float32),\n",
       " array([[ 0.04661544,  0.95338458]], dtype=float32),\n",
       " array([[ 0.06082354,  0.9391765 ]], dtype=float32),\n",
       " array([[ 0.0318412 ,  0.96815878]], dtype=float32),\n",
       " array([[ 0.02271689,  0.97728306]], dtype=float32),\n",
       " array([[ 0.88853103,  0.11146902]], dtype=float32),\n",
       " array([[ 0.25782424,  0.74217576]], dtype=float32),\n",
       " array([[ 0.26189387,  0.73810607]], dtype=float32),\n",
       " array([[ 0.08661432,  0.91338569]], dtype=float32)]"
      ]
     },
     "execution_count": 12,
     "metadata": {},
     "output_type": "execute_result"
    }
   ],
   "source": [
    "cc"
   ]
  },
  {
   "cell_type": "code",
   "execution_count": 13,
   "metadata": {},
   "outputs": [
    {
     "data": {
      "text/plain": [
       "44"
      ]
     },
     "execution_count": 13,
     "metadata": {},
     "output_type": "execute_result"
    }
   ],
   "source": [
    "len(file_list_true)"
   ]
  },
  {
   "cell_type": "code",
   "execution_count": 14,
   "metadata": {},
   "outputs": [
    {
     "data": {
      "text/plain": [
       "39"
      ]
     },
     "execution_count": 14,
     "metadata": {},
     "output_type": "execute_result"
    }
   ],
   "source": [
    "len(file_list_false)"
   ]
  },
  {
   "cell_type": "code",
   "execution_count": null,
   "metadata": {
    "collapsed": true
   },
   "outputs": [],
   "source": []
  }
 ],
 "metadata": {
  "kernelspec": {
   "display_name": "Python 2",
   "language": "python",
   "name": "python2"
  },
  "language_info": {
   "codemirror_mode": {
    "name": "ipython",
    "version": 2
   },
   "file_extension": ".py",
   "mimetype": "text/x-python",
   "name": "python",
   "nbconvert_exporter": "python",
   "pygments_lexer": "ipython2",
   "version": "2.7.13"
  }
 },
 "nbformat": 4,
 "nbformat_minor": 2
}
