{
 "cells": [
  {
   "cell_type": "code",
   "execution_count": 1,
   "metadata": {},
   "outputs": [
    {
     "name": "stderr",
     "output_type": "stream",
     "text": [
      "Using TensorFlow backend.\n"
     ]
    }
   ],
   "source": [
    "from utils.imports import *"
   ]
  },
  {
   "cell_type": "code",
   "execution_count": 2,
   "metadata": {
    "collapsed": true
   },
   "outputs": [],
   "source": [
    "from keras.models import Sequential\n",
    "from keras.layers import Dense, Dropout, Activation, Flatten\n",
    "from keras.layers import Convolution3D, MaxPooling3D\n",
    "from keras.utils import np_utils\n",
    "from keras import backend as K\n",
    "\n",
    "'''\n",
    "Creates a keras model with 3D CNNs and returns the model.\n",
    "'''\n",
    "def classifier(input_shape, kernel_size, pool_size):\n",
    "    model = Sequential()\n",
    "\n",
    "    model.add(Convolution3D(16, kernel_size[0], kernel_size[1], kernel_size[2],\n",
    "                            border_mode='valid',input_shape=(1, 36, 36, 36)))\n",
    "    model.add(Activation('relu'))\n",
    "    model.add(MaxPooling3D(pool_size=pool_size))\n",
    "    model.add(Convolution3D(32, kernel_size[0], kernel_size[1], kernel_size[2]))\n",
    "    model.add(Activation('relu'))\n",
    "    model.add(MaxPooling3D(pool_size=pool_size))\n",
    "    model.add(Convolution3D(64, kernel_size[0], kernel_size[1], kernel_size[2]))\n",
    "    model.add(Activation('relu'))\n",
    "    model.add(MaxPooling3D(pool_size=pool_size))\n",
    "    model.add(Dropout(0.25))\n",
    "\n",
    "    model.add(Flatten())\n",
    "    model.add(Dense(512))\n",
    "    model.add(Activation('relu'))\n",
    "    model.add(Dropout(0.5))\n",
    "    model.add(Dense(128))\n",
    "    model.add(Activation('relu'))\n",
    "    model.add(Dropout(0.5))\n",
    "    model.add(Dense(2))\n",
    "    model.add(Activation('softmax'))\n",
    "\n",
    "    return model\n",
    "\n",
    "def train_classifier(input_shape):\n",
    "    model = classifier(input_shape, (3, 3, 3), (2, 2, 2))\n",
    "    model.compile(loss='categorical_crossentropy',\n",
    "          optimizer='adadelta',\n",
    "          metrics=['accuracy'])\n",
    "    '''\n",
    "    Read the preprocessed datafiles chunk by chunnk and train the model on that batch (trainX, trainY) using:'''\n",
    "    model.train_on_batch(trainX, trainY, sample_weight=None)\n",
    "    '''The model can be trained on many epochs using for loops'''\n",
    "    \n",
    "    '''\n",
    "    AFter training the dataset we test our model of the test dataset, read the test file chunk by chunk and \n",
    "    test on each chunk (trainX, trainY) using:'''\n",
    "    print (model.test_on_batch(trainX, trainY, sample_weight=None))\n",
    "    '''The average of all of this can be taken to obtain the final test score.'''\n",
    "    \n",
    "    '''After testing save the model using'''\n",
    "    model.save('my_model.h5')"
   ]
  },
  {
   "cell_type": "code",
   "execution_count": 3,
   "metadata": {
    "collapsed": true
   },
   "outputs": [],
   "source": [
    "output_path = PATH['cls_train_30']\n",
    "output_true = PATH['cls_train_30_true']\n",
    "folders = [x for x in os.listdir(output_true) if 'Xtrain' in x]"
   ]
  },
  {
   "cell_type": "code",
   "execution_count": null,
   "metadata": {
    "collapsed": true
   },
   "outputs": [],
   "source": [
    "trainX = np.load(output_path + 'trainX.npy',trainX)\n",
    "trainY = np.load(output_path + 'trainY.npy',trainY)"
   ]
  },
  {
   "cell_type": "code",
   "execution_count": null,
   "metadata": {
    "collapsed": true
   },
   "outputs": [],
   "source": [
    "train_classifier(input_shape = (1, 36, 36, 36))"
   ]
  },
  {
   "cell_type": "code",
   "execution_count": null,
   "metadata": {
    "collapsed": true
   },
   "outputs": [],
   "source": []
  }
 ],
 "metadata": {
  "kernelspec": {
   "display_name": "Python 2",
   "language": "python",
   "name": "python2"
  },
  "language_info": {
   "codemirror_mode": {
    "name": "ipython",
    "version": 2
   },
   "file_extension": ".py",
   "mimetype": "text/x-python",
   "name": "python",
   "nbconvert_exporter": "python",
   "pygments_lexer": "ipython2",
   "version": "2.7.13"
  }
 },
 "nbformat": 4,
 "nbformat_minor": 2
}
